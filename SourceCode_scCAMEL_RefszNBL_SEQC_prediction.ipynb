{
 "cells": [
  {
   "cell_type": "code",
   "execution_count": null,
   "metadata": {},
   "outputs": [],
   "source": [
    "import datetime\n",
    "today=f\"{datetime.datetime.now():%Y-%m-%d}\"\n",
    "today"
   ]
  },
  {
   "cell_type": "code",
   "execution_count": null,
   "metadata": {
    "scrolled": true
   },
   "outputs": [],
   "source": [
    "import seaborn as sns\n",
    "%pylab inline"
   ]
  },
  {
   "cell_type": "code",
   "execution_count": null,
   "metadata": {},
   "outputs": [],
   "source": [
    "#imports\n",
    "import pandas as pd\n",
    "import pickle as pickle\n",
    "from scipy.spatial.distance import cdist, pdist, squareform\n",
    "#import backspinpy\n",
    "import pandas as pd\n",
    "from sklearn.linear_model import LogisticRegression, LogisticRegressionCV\n",
    "from sklearn.model_selection import StratifiedShuffleSplit  \n",
    "from collections import defaultdict\n",
    "from sklearn import preprocessing\n",
    "import matplotlib.patches as mpatches\n",
    "%pylab inline"
   ]
  },
  {
   "cell_type": "code",
   "execution_count": null,
   "metadata": {},
   "outputs": [],
   "source": [
    "import matplotlib.pyplot as plt\n",
    "import pandas as pd\n",
    "import numpy as np\n",
    "from sklearn.decomposition import PCA\n",
    "from sklearn import manifold\n",
    "from collections import defaultdict\n",
    "#from mpl_toolkits.mplot3d import Axes3D\n",
    "import math\n",
    "import sklearn\n",
    "import scipy\n",
    "import os\n",
    "import sys\n",
    "#imports\n",
    "import pandas as pd\n",
    "import pickle as pickle\n",
    "from scipy.spatial.distance import cdist, pdist, squareform\n",
    "#import backspinpy\n",
    "#from backspinpy import fit_CV\n",
    "#from backspinpy.Cef_tools import *\n",
    "#from __future__ import division\n",
    "import pandas as pd\n",
    "from sklearn.linear_model import LogisticRegression, LogisticRegressionCV\n",
    "#from sklearn.cross_validation import StratifiedShuffleSplit  \n",
    "from collections import defaultdict\n",
    "from sklearn import preprocessing\n",
    "import matplotlib.patches as mpatches\n",
    "import anndata"
   ]
  },
  {
   "cell_type": "code",
   "execution_count": null,
   "metadata": {},
   "outputs": [],
   "source": [
    "from scipy.io import mmread"
   ]
  },
  {
   "cell_type": "code",
   "execution_count": null,
   "metadata": {},
   "outputs": [],
   "source": [
    "import gzip\n",
    "import logging\n",
    "import os.path\n",
    "from shutil import copyfile\n",
    "from typing import Tuple, Union, Any, Dict, List, Iterable, Callable, Optional\n",
    "\n",
    "import h5py\n",
    "import numpy as np\n",
    "import numpy_groupies.aggregate_numpy as npg\n",
    "import scipy.sparse\n",
    "from scipy.io import mmread\n",
    "\n",
    "import loompy\n",
    "from loompy import deprecated, timestamp"
   ]
  },
  {
   "cell_type": "code",
   "execution_count": null,
   "metadata": {
    "scrolled": true
   },
   "outputs": [],
   "source": [
    "cd f:\\Dropbox\\data\\proj\\PE_HYZ\\BuidingCode\\SWAPLINE2\\SWAPLINE2"
   ]
  },
  {
   "cell_type": "code",
   "execution_count": null,
   "metadata": {},
   "outputs": [],
   "source": [
    "import SCMprefiltering55 as SCMpref\n",
    "import scCAMEL as scm\n",
    "from scCAMEL import CamelPrefiltering\n",
    "from scCAMEL import CamelSwapline\n",
    "from scCAMEL import CamelEvo"
   ]
  },
  {
   "cell_type": "code",
   "execution_count": null,
   "metadata": {
    "scrolled": true
   },
   "outputs": [],
   "source": [
    "cd f:\\Dropbox\\data\\proj\\PE_HYZ\\PublicDataSet\\NBL_SZscRNA\\SWAPLINE2"
   ]
  },
  {
   "cell_type": "code",
   "execution_count": null,
   "metadata": {},
   "outputs": [],
   "source": []
  },
  {
   "cell_type": "code",
   "execution_count": null,
   "metadata": {
    "scrolled": false
   },
   "outputs": [],
   "source": [
    "cd F:\\Dropbox\\data\\proj\\PE_HYZ\\PublicDataSet\\NBL_SZscRNA\\SWAPLINE2\\NBLsummary"
   ]
  },
  {
   "cell_type": "code",
   "execution_count": null,
   "metadata": {
    "scrolled": true
   },
   "outputs": [],
   "source": [
    "scref=anndata.read(\"5datasets_szNBL_newColoroldUMAP.h5ad\")"
   ]
  },
  {
   "cell_type": "code",
   "execution_count": null,
   "metadata": {},
   "outputs": [],
   "source": [
    "scref.var"
   ]
  },
  {
   "cell_type": "code",
   "execution_count": null,
   "metadata": {},
   "outputs": [],
   "source": [
    "scref"
   ]
  },
  {
   "cell_type": "code",
   "execution_count": null,
   "metadata": {},
   "outputs": [],
   "source": [
    "#scref.obs[ 'Patient']=scref.obs[ 'Cluster']"
   ]
  },
  {
   "cell_type": "code",
   "execution_count": null,
   "metadata": {
    "scrolled": true
   },
   "outputs": [],
   "source": [
    "set(scref.obs[ 'Cluster'])"
   ]
  },
  {
   "cell_type": "code",
   "execution_count": null,
   "metadata": {},
   "outputs": [],
   "source": [
    "scref=scm.CamelPrefiltering.DataScaling(scref)"
   ]
  },
  {
   "cell_type": "code",
   "execution_count": null,
   "metadata": {},
   "outputs": [],
   "source": [
    "dftest=pd.DataFrame(scref.obs[[ 'Cluster', 'dataset', 'PatientID']])"
   ]
  },
  {
   "cell_type": "code",
   "execution_count": null,
   "metadata": {},
   "outputs": [],
   "source": [
    "dftest.groupby(['Cluster']).count()"
   ]
  },
  {
   "cell_type": "code",
   "execution_count": null,
   "metadata": {},
   "outputs": [],
   "source": [
    "set(scref.obs[ 'Cluster'])"
   ]
  },
  {
   "cell_type": "code",
   "execution_count": null,
   "metadata": {},
   "outputs": [],
   "source": [
    "path='f:/Dropbox/data/proj/PE_HYZ/PublicDataSet/'\n",
    "filename='PANTHER_cell_cycle_genes.txt'\n",
    "#dfpfc2= prefilteringTest.prefilter(df_f=dfpfc,filename=filename, path=path)\n",
    "scref= SCMpref.prefilter(datax=scref,filename=filename, path=path)"
   ]
  },
  {
   "cell_type": "code",
   "execution_count": null,
   "metadata": {
    "scrolled": false
   },
   "outputs": [],
   "source": [
    "scref.var['Filter1']=[True]*scref.var.shape[0]\n",
    "scref"
   ]
  },
  {
   "cell_type": "code",
   "execution_count": null,
   "metadata": {},
   "outputs": [],
   "source": [
    "dfdev2=pd.DataFrame(scref.X,index=scref.obs.index,columns=scref.var.index).T\n",
    "dfdev2=dfdev2.loc[scref.var['Filter1']==True]\n",
    "dfdev2.shape"
   ]
  },
  {
   "cell_type": "code",
   "execution_count": null,
   "metadata": {},
   "outputs": [],
   "source": [
    "#scref=CamelPrefiltering.SelectFeatures(datax=scref, clustername='Cluster',methodname='wilcoxon', numbergenes=1000, folderchange=1.25)\n",
    "markerlist=scm.CamelSwapline.enrichmentscoreBETA(dfpfcclus=scref.obs[\"Cluster\"], df_dev=dfdev2, fc=1.5, pvalcutoff=0.1, shortcut=False)"
   ]
  },
  {
   "cell_type": "code",
   "execution_count": null,
   "metadata": {},
   "outputs": [],
   "source": [
    "cd F:\\Dropbox\\data\\proj\\PE_HYZ\\PublicDataSet\\NBL_SZscRNA\\SWAPLINE2\\NBLsummary"
   ]
  },
  {
   "cell_type": "code",
   "execution_count": null,
   "metadata": {},
   "outputs": [],
   "source": [
    "markerlist=pd.read_table(\"MarkerGenes_szSS2.csv\",header=0,index_col=0,sep=\",\")"
   ]
  },
  {
   "cell_type": "code",
   "execution_count": null,
   "metadata": {
    "scrolled": true
   },
   "outputs": [],
   "source": [
    "len(markerlist)"
   ]
  },
  {
   "cell_type": "code",
   "execution_count": null,
   "metadata": {
    "scrolled": false
   },
   "outputs": [],
   "source": [
    "scref"
   ]
  },
  {
   "cell_type": "code",
   "execution_count": null,
   "metadata": {},
   "outputs": [],
   "source": [
    "len(set(markerlist.index))"
   ]
  },
  {
   "cell_type": "code",
   "execution_count": null,
   "metadata": {},
   "outputs": [],
   "source": [
    "clist=[]\n",
    "for item in scref.var.index:\n",
    "    if item in markerlist.index:\n",
    "        clist.append(True)\n",
    "    else:\n",
    "        clist.append(False)"
   ]
  },
  {
   "cell_type": "code",
   "execution_count": null,
   "metadata": {},
   "outputs": [],
   "source": [
    "sum(clist)"
   ]
  },
  {
   "cell_type": "code",
   "execution_count": null,
   "metadata": {
    "scrolled": true
   },
   "outputs": [],
   "source": [
    "scref.var['MVgene']=clist\n",
    "scref.var['MVgene']"
   ]
  },
  {
   "cell_type": "code",
   "execution_count": null,
   "metadata": {},
   "outputs": [],
   "source": [
    "scref"
   ]
  },
  {
   "cell_type": "markdown",
   "metadata": {},
   "source": [
    "markerlist=[\"PHOX2B\",\"ASCL1\",\"PLP1\",\"MSTN\",\"ERBB3\",\"PRRX1\",\"PRRX2\",\"TWIST1\",\"MSX3\",\"HES5\",\"PAX6\",\"FOXB1\",\"OLIG3\",\"GDF7\",\"WNT3A\",\"MAFB\",\"CDH11\",\"SOX9\",\"SMTNL2\",\n",
    " \"ZIC3\",\"ZIC4\",\"HNF1B\",\"BMP6\",\"OLIG3\",\"DLX5\",\"PDGFRA\",\"PAK3\",\"HAPLN\",\"RET\",\"NGFR\",\"MCAM\",\"DLX2\",\"NEFL\",\"ELAVL4\",\"ERBB3\",\"SOX10\",\"PAX3\",\"FOXD3\",\n",
    "            \"LMO4\",\"ETS1\",\"HMX1\",\"RXRG\",\"CDH11\",\"MSX1\",\"PAWR\",\"S100B\",\"PLP1\",\n",
    " \"MEOX1\",\"SIX2\",\"FOXC1\",\"NEUROD1\",\"NEUROD4\",\"NHLH2\",\"ELAVL3\",\"DLL3\",\"ZFP488\",\"CHGA\",\"CHGB\",\"PNMT\",\"ELAVL3\",\"CARTPT\",\"PENK\",\"PRPH\",\"ETS\"]"
   ]
  },
  {
   "cell_type": "code",
   "execution_count": null,
   "metadata": {},
   "outputs": [],
   "source": [
    "screfbk=scref.copy()"
   ]
  },
  {
   "cell_type": "code",
   "execution_count": null,
   "metadata": {},
   "outputs": [],
   "source": [
    "#import SCMprefiltering14\n",
    "scref =scm.CamelPrefiltering.LabelGene_Scaling(datax=screfbk,\n",
    "                                                                TPTT=0,     mprotogruop=scref.obs[\"Cluster\"].values,commongene=None,\n",
    "                                                                                              sharedMVgenes=None,std_scaling=True,\n",
    "    tftable=\"f:/Dropbox/data/proj/PE_HYZ/PublicDataSet/FantomTF2CLUSTER_human_official.txt\", learninggroup=\"train\")\n"
   ]
  },
  {
   "cell_type": "code",
   "execution_count": null,
   "metadata": {
    "scrolled": false
   },
   "outputs": [],
   "source": [
    "cd f:\\Dropbox\\data\\proj\\PE_HYZ\\PublicDataSet\\NBL_SZscRNA\\SWAPLINE2"
   ]
  },
  {
   "cell_type": "code",
   "execution_count": null,
   "metadata": {},
   "outputs": [],
   "source": [
    "scref"
   ]
  },
  {
   "cell_type": "code",
   "execution_count": null,
   "metadata": {
    "scrolled": true
   },
   "outputs": [],
   "source": [
    "scref.obs[ 'mtrain_index'].astype(np.float32)"
   ]
  },
  {
   "cell_type": "code",
   "execution_count": null,
   "metadata": {},
   "outputs": [],
   "source": [
    "scref.obsm[\"train_set_values\"]"
   ]
  },
  {
   "cell_type": "code",
   "execution_count": null,
   "metadata": {},
   "outputs": [],
   "source": [
    "cd f:\\Dropbox\\data\\proj\\PE_HYZ\\BuidingCode\\SWAPLINE2\\SWAPLINE2"
   ]
  },
  {
   "cell_type": "code",
   "execution_count": null,
   "metadata": {},
   "outputs": [],
   "source": [
    "#import SCMprefiltering38 as SCMpref\n",
    "net=SCMpref.NNclassifer(\n",
    "   datax=scref,\n",
    "    epochNum=100,\n",
    "    learningRate=0.01,\n",
    "    verbose=0,\n",
    "    optimizerMmentum=0.9,\n",
    "    dropout=0.3,\n",
    "    #imizer__nesterov=True,\n",
    "    )"
   ]
  },
  {
   "cell_type": "code",
   "execution_count": null,
   "metadata": {},
   "outputs": [],
   "source": [
    "#import SCMprefiltering29 as SCMpref\n",
    "ax=SCMpref.AccuracyPlot( nnModel=net, accCutoff=0.6,\n",
    "                 Xlow=-1, Ylow=0.0, Yhigh=1,\n",
    "               )"
   ]
  },
  {
   "cell_type": "code",
   "execution_count": null,
   "metadata": {
    "scrolled": false
   },
   "outputs": [],
   "source": [
    "cd f:\\Dropbox\\data\\proj\\PE_HYZ\\BuidingCode\\SWAPLINE2\\SWAPLINE2"
   ]
  },
  {
   "cell_type": "code",
   "execution_count": null,
   "metadata": {},
   "outputs": [],
   "source": [
    "#import SCMprefiltering50 as SCMpref\n",
    "net=SCMpref.NNclassifer(\n",
    "   datax=scref,\n",
    "    epochNum=40,\n",
    "    learningRate=0.01,\n",
    "    verbose=0,\n",
    "    optimizerMmentum=0.9,\n",
    "    dropout=0.3,\n",
    " )"
   ]
  },
  {
   "cell_type": "code",
   "execution_count": null,
   "metadata": {
    "scrolled": false
   },
   "outputs": [],
   "source": [
    "scref"
   ]
  },
  {
   "cell_type": "code",
   "execution_count": null,
   "metadata": {},
   "outputs": [],
   "source": [
    "set(scref.obs[\"Cluster\"])"
   ]
  },
  {
   "cell_type": "code",
   "execution_count": null,
   "metadata": {},
   "outputs": [],
   "source": [
    "scref.uns[\"mwanted_order\"] =[\n",
    "    'Diff_Mes', 'NC_prog',\n",
    "'Bridge_SCP',\n",
    "    'Connecting',\n",
    "\n",
    " 'preNeuroblast',\n",
    "     'Chromaffin',\n",
    " 'Diff_Neuroblast',\n",
    "]\n"
   ]
  },
  {
   "cell_type": "code",
   "execution_count": null,
   "metadata": {},
   "outputs": [],
   "source": [
    "refcolor_dict = pd.Series({    'SCP':   (90,  10,  10), 'Chromaffin1': (25, 60,  130),\n",
    "                             'cycling':    (57, 105,   7),\n",
    "             'Sympath':    (170, 180, 170),'SCP':   (190,  10,  10),  'Chromaffin': (25, 60,  130),\n",
    "                             'cycling':    (57, 105,   7),\n",
    "             'sympathoblasts':    (170, 180, 170),\n",
    "                            'Diff_Glia': (235, 125,  128),  'Diff_Mes': (10,10,255),\n",
    "                          'Chromaffin':   (55, 55,  78), 'preNeuroblast':  (100, 100, 240),\n",
    "                           'Diff_Neuroblast':    (57, 105,   7),'preGlia': (175, 175,  28),\n",
    "            'Bridge_SCP':    (170, 180, 170), 'NC_prog':(249,125,5),\n",
    "                           'Connecting':    ( 95, 186,  70),  'Auto_prog':    (180, 140, 130),\n",
    "       'cyclingNeuroblast':  (100, 100, 240), 'Migr_prog': ( 80, 235, 255),  'Mes_prog':(249,125,5),\n",
    "            'cycling SCPs':(250, 125, 0),35:(230, 140, 120), 'SympNeuron':  (10,10,255),\n",
    " 'Autonomic_Prog':(0,0,255),\n",
    "     'Schwann/Glia':( 110, 140, 100),})\n",
    "#refcolor_dict =refcolor_dict.map(lambda x: list(map(lambda y: y/255., x)))"
   ]
  },
  {
   "cell_type": "code",
   "execution_count": null,
   "metadata": {},
   "outputs": [],
   "source": [
    "cd f:\\Dropbox\\data\\proj\\PE_HYZ\\BuidingCode\\SWAPLINE2\\SWAPLINE2"
   ]
  },
  {
   "cell_type": "code",
   "execution_count": null,
   "metadata": {},
   "outputs": [],
   "source": []
  },
  {
   "cell_type": "code",
   "execution_count": null,
   "metadata": {
    "scrolled": false
   },
   "outputs": [],
   "source": [
    "import SW2main122 as SCM\n",
    "scref=SCM.prediction(datax=scref, mcolor_dict=refcolor_dict ,net=net,learninggroup=\"train\", radarplot=True,fontsizeValue=28,\n",
    "                       ncolnm=1, bbValue=(1.2, 1.05)  )\n",
    "#plt.savefig(\"testlong.pdf\")"
   ]
  },
  {
   "cell_type": "code",
   "execution_count": null,
   "metadata": {
    "scrolled": true
   },
   "outputs": [],
   "source": [
    "scref"
   ]
  },
  {
   "cell_type": "code",
   "execution_count": null,
   "metadata": {
    "scrolled": true
   },
   "outputs": [],
   "source": [
    "scref. obsm[\"Celltype_Score\"].shape"
   ]
  },
  {
   "cell_type": "code",
   "execution_count": null,
   "metadata": {
    "scrolled": true
   },
   "outputs": [],
   "source": [
    "scref"
   ]
  },
  {
   "cell_type": "code",
   "execution_count": null,
   "metadata": {},
   "outputs": [],
   "source": [
    "scref"
   ]
  },
  {
   "cell_type": "code",
   "execution_count": null,
   "metadata": {
    "scrolled": true
   },
   "outputs": [],
   "source": [
    "dfpfcclus = scref.obs[[\"mtrain_index\",\"Cluster\"]].T\n",
    "dfpfcclus"
   ]
  },
  {
   "cell_type": "code",
   "execution_count": null,
   "metadata": {},
   "outputs": [],
   "source": [
    "cd D:\\Dropbox\\data\\proj\\PE_HYZ\\BuidingCode\\SWAPLINE2\\SWAPLINE2"
   ]
  },
  {
   "cell_type": "code",
   "execution_count": null,
   "metadata": {
    "scrolled": false
   },
   "outputs": [],
   "source": [
    "#import SW2main77 as SCMmain\n",
    "fig=SCM.ProbSinglePlot (datax=scref, mcolor_dict=refcolor_dict )"
   ]
  },
  {
   "cell_type": "code",
   "execution_count": null,
   "metadata": {
    "scrolled": false
   },
   "outputs": [],
   "source": [
    "#import SW2main77 as SCMmain\n",
    "fig=SCM.ProbMultiPlot( datax=scref, mcolor_dict=refcolor_dict )"
   ]
  },
  {
   "cell_type": "code",
   "execution_count": null,
   "metadata": {
    "scrolled": false
   },
   "outputs": [],
   "source": [
    "#import SW2main79 as SCMmain\n",
    "dftest0, ratiodf=SCM.permutationTest(datax=scref,net=net,num=10, plotshow=True)"
   ]
  },
  {
   "cell_type": "code",
   "execution_count": null,
   "metadata": {
    "scrolled": true
   },
   "outputs": [],
   "source": [
    "scref"
   ]
  },
  {
   "cell_type": "code",
   "execution_count": null,
   "metadata": {},
   "outputs": [],
   "source": []
  },
  {
   "cell_type": "markdown",
   "metadata": {},
   "source": [
    "# Purity"
   ]
  },
  {
   "cell_type": "code",
   "execution_count": null,
   "metadata": {},
   "outputs": [],
   "source": [
    "dfpurity1=scm.CamelSwapline.PurityEstimationLearningScore(datax=scref, clusterlist=\"Cluster\",   elbow=False, figureplot=True)"
   ]
  },
  {
   "cell_type": "markdown",
   "metadata": {},
   "source": [
    "# association between cell-types"
   ]
  },
  {
   "cell_type": "code",
   "execution_count": null,
   "metadata": {},
   "outputs": [],
   "source": [
    "scm.CamelSwapline.CellTypeSimilarity(datax=scref, labelnum=True,  metricvalue='correlation',methodvalue=\"complete\")"
   ]
  },
  {
   "cell_type": "code",
   "execution_count": null,
   "metadata": {},
   "outputs": [],
   "source": [
    "scm.CamelSwapline.CellTypeSimilarity(datax=scref, labelnum=False,  metricvalue='ecilidian',methodvalue=\"complete\")\n"
   ]
  },
  {
   "cell_type": "code",
   "execution_count": null,
   "metadata": {},
   "outputs": [],
   "source": []
  },
  {
   "cell_type": "code",
   "execution_count": null,
   "metadata": {},
   "outputs": [],
   "source": []
  },
  {
   "cell_type": "code",
   "execution_count": null,
   "metadata": {
    "scrolled": false
   },
   "outputs": [],
   "source": [
    "cd D:\\Dropbox\\data\\proj\\PE_HYZ\\PublicDataSet\\NBL_SZscRNA\\SWAPLINE2"
   ]
  },
  {
   "cell_type": "code",
   "execution_count": null,
   "metadata": {},
   "outputs": [],
   "source": []
  },
  {
   "cell_type": "code",
   "execution_count": null,
   "metadata": {},
   "outputs": [],
   "source": []
  },
  {
   "cell_type": "code",
   "execution_count": null,
   "metadata": {},
   "outputs": [],
   "source": []
  },
  {
   "cell_type": "markdown",
   "metadata": {},
   "source": [
    "# TCGA_illuminaFold2"
   ]
  },
  {
   "cell_type": "code",
   "execution_count": null,
   "metadata": {
    "scrolled": true
   },
   "outputs": [],
   "source": [
    "cd F:\\Dropbox\\data\\proj\\PE_HYZ\\PublicDataSet\\NBL_GSE49711_GSE47792_SEQC\\GSE49711_SEQC_NB_MAV_G_log2.20121127.txt"
   ]
  },
  {
   "cell_type": "code",
   "execution_count": null,
   "metadata": {
    "scrolled": true
   },
   "outputs": [],
   "source": [
    "df = pd.read_table(\"GSE49711_SEQC_NB_MAV_G_log2.20121127.txt\", index_col =0 ,header=0, sep=\"\\t\")"
   ]
  },
  {
   "cell_type": "code",
   "execution_count": null,
   "metadata": {},
   "outputs": [],
   "source": [
    "df.shape"
   ]
  },
  {
   "cell_type": "code",
   "execution_count": null,
   "metadata": {},
   "outputs": [],
   "source": [
    "df.head()"
   ]
  },
  {
   "cell_type": "code",
   "execution_count": null,
   "metadata": {},
   "outputs": [],
   "source": [
    "df=df.iloc[:,8:]\n",
    "df.head()"
   ]
  },
  {
   "cell_type": "code",
   "execution_count": null,
   "metadata": {},
   "outputs": [],
   "source": [
    "df=df.astype(float)"
   ]
  },
  {
   "cell_type": "code",
   "execution_count": null,
   "metadata": {
    "scrolled": true
   },
   "outputs": [],
   "source": [
    "cd F:\\Dropbox\\data\\proj\\PE_HYZ\\PublicDataSet\\NBL_GSE49711_GSE47792_SEQC"
   ]
  },
  {
   "cell_type": "code",
   "execution_count": null,
   "metadata": {},
   "outputs": [],
   "source": [
    "dfclusbk=pd.read_table(\"Patient_Info.txt\", index_col =0 ,header=0, sep=\"\\t\")\n",
    "dfclusbk.shape"
   ]
  },
  {
   "cell_type": "code",
   "execution_count": null,
   "metadata": {},
   "outputs": [],
   "source": [
    "dfclus=dfclusbk.copy()"
   ]
  },
  {
   "cell_type": "code",
   "execution_count": null,
   "metadata": {},
   "outputs": [],
   "source": [
    "dfclus.head()"
   ]
  },
  {
   "cell_type": "code",
   "execution_count": null,
   "metadata": {},
   "outputs": [],
   "source": [
    "stagelist=[]\n",
    "for item in dfclus[\"inss stage\"]:\n",
    "    stagelist.append(\"stage %s\"%item)"
   ]
  },
  {
   "cell_type": "code",
   "execution_count": null,
   "metadata": {},
   "outputs": [],
   "source": [
    "dfclus[\"inss stage\"]=stagelist"
   ]
  },
  {
   "cell_type": "code",
   "execution_count": null,
   "metadata": {},
   "outputs": [],
   "source": [
    "dfclus=dfclus[[\"inss stage\",\"os day\",\"efs day\",\"!Sample_characteristics_ch1.2\",\"mycn status\",\"efs bin\",\"os bin\"]].T\n",
    "dfclus.head()"
   ]
  },
  {
   "cell_type": "code",
   "execution_count": null,
   "metadata": {},
   "outputs": [],
   "source": [
    "dfclus.index=['Stage', 'OS_day',\"EFS_day\", 'Risk', 'MYCNstatus',\"EFSbin\",\"OSbin\"]"
   ]
  },
  {
   "cell_type": "code",
   "execution_count": null,
   "metadata": {
    "scrolled": true
   },
   "outputs": [],
   "source": [
    "dfclus=dfclus.T\n",
    "dfclus=dfclus.loc[~dfclus.index.duplicated(keep='first')].T\n",
    "dfclus.shape"
   ]
  },
  {
   "cell_type": "code",
   "execution_count": null,
   "metadata": {},
   "outputs": [],
   "source": [
    "dfgbm=df.T\n",
    "dfgbm.head()"
   ]
  },
  {
   "cell_type": "code",
   "execution_count": null,
   "metadata": {
    "scrolled": true
   },
   "outputs": [],
   "source": [
    "dfnew=dfgbm.T\n",
    "dfnew=dfnew.loc[~dfnew.index.duplicated(keep='first')].T\n",
    "dfnew.shape"
   ]
  },
  {
   "cell_type": "code",
   "execution_count": null,
   "metadata": {
    "scrolled": false
   },
   "outputs": [],
   "source": [
    "dfnew.head()"
   ]
  },
  {
   "cell_type": "code",
   "execution_count": null,
   "metadata": {},
   "outputs": [],
   "source": [
    "#dfnew=dfnew.div(dfnew.sum(1),0)*1000000"
   ]
  },
  {
   "cell_type": "code",
   "execution_count": null,
   "metadata": {
    "scrolled": true
   },
   "outputs": [],
   "source": [
    "dfnew"
   ]
  },
  {
   "cell_type": "code",
   "execution_count": null,
   "metadata": {},
   "outputs": [],
   "source": [
    "scref.X"
   ]
  },
  {
   "cell_type": "code",
   "execution_count": null,
   "metadata": {},
   "outputs": [],
   "source": [
    "scref.X.std(1).mean()/dfnew.std(1).mean()"
   ]
  },
  {
   "cell_type": "code",
   "execution_count": null,
   "metadata": {
    "scrolled": false
   },
   "outputs": [],
   "source": [
    "dfgbm=(2**dfnew-1).join(dfclus.T,how=\"inner\").T\n",
    "#dfgbm=(dfnew*(scref.X.std(1).mean()/dfnew.std(1).mean())).join(dfclus.T,how=\"inner\").T\n",
    "dfgbm.shape"
   ]
  },
  {
   "cell_type": "code",
   "execution_count": null,
   "metadata": {},
   "outputs": [],
   "source": [
    "dfgbm.tail(10)"
   ]
  },
  {
   "cell_type": "code",
   "execution_count": null,
   "metadata": {},
   "outputs": [],
   "source": [
    "dfclus=dfgbm.iloc[-7:,:]\n",
    "dfgbm=dfgbm.iloc[:-7,:]"
   ]
  },
  {
   "cell_type": "code",
   "execution_count": null,
   "metadata": {},
   "outputs": [],
   "source": [
    "dfclus.index=['Stage', 'OS_day',\"EFS_day\", 'Risk', 'MYCNstatus',\"EFSbin\",\"OSbin\"]"
   ]
  },
  {
   "cell_type": "code",
   "execution_count": null,
   "metadata": {},
   "outputs": [],
   "source": []
  },
  {
   "cell_type": "code",
   "execution_count": null,
   "metadata": {},
   "outputs": [],
   "source": [
    "scpdt = anndata.AnnData(dfgbm.T.astype(float))"
   ]
  },
  {
   "cell_type": "code",
   "execution_count": null,
   "metadata": {
    "scrolled": true
   },
   "outputs": [],
   "source": [
    "dfpdtclus=dfclus"
   ]
  },
  {
   "cell_type": "code",
   "execution_count": null,
   "metadata": {},
   "outputs": [],
   "source": [
    "scpdt.obs[\"Cluster\"]=dfclus.loc[\"Stage\"].values\n",
    "scpdt.obs['OS_day']=dfclus.loc['OS_day'].values\n",
    "scpdt.obs[\"Stage\"]=dfclus.loc[\"Stage\"].values\n",
    "scpdt.obs[\"EFS_day\"]=dfclus.loc[\"EFS_day\"].values\n",
    "scpdt.obs[\"Risk\"]=dfclus.loc[\"Risk\"].values\n",
    "scpdt.obs[\"MYCNstatus\"]=dfclus.loc[\"MYCNstatus\"].values\n",
    "scpdt.obs[\"EFSbin\"]=dfclus.loc[\"EFSbin\"].values\n",
    "scpdt.obs[\"OSbin\"]=dfclus.loc[\"OSbin\"].values"
   ]
  },
  {
   "cell_type": "code",
   "execution_count": null,
   "metadata": {},
   "outputs": [],
   "source": [
    "scpdt"
   ]
  },
  {
   "cell_type": "code",
   "execution_count": null,
   "metadata": {},
   "outputs": [],
   "source": []
  },
  {
   "cell_type": "code",
   "execution_count": null,
   "metadata": {
    "scrolled": false
   },
   "outputs": [],
   "source": [
    "cd F:\\Dropbox\\data\\proj\\PE_HYZ\\PublicDataSet\\NBL_SZscRNA\\SWAPLINE2"
   ]
  },
  {
   "cell_type": "code",
   "execution_count": null,
   "metadata": {},
   "outputs": [],
   "source": [
    "scpdt2=scpdt.copy()"
   ]
  },
  {
   "cell_type": "code",
   "execution_count": null,
   "metadata": {
    "scrolled": false
   },
   "outputs": [],
   "source": [
    "scpdt"
   ]
  },
  {
   "cell_type": "code",
   "execution_count": null,
   "metadata": {},
   "outputs": [],
   "source": [
    "#import SCMprefiltering33 as SCMpref\n",
    "scpdt =SCMpref.MVgene_Scaling(datax=scpdt2.copy(),TPTT=50000,   commongene=scref.var.index.tolist(),  \n",
    "                                        sharedMVgenes=scref.uns[ 'train_set_gene'].tolist(),\n",
    "                                                                                            std_scaling=False,score=None, thrs=None,  mprotogruop=None,\n",
    "    tftable=\"f:/Dropbox/data/proj/PE_HYZ/PublicDataSet/FantomTF2CLUSTER_human_official.txt\", learninggroup=\"test\")\n",
    "\n"
   ]
  },
  {
   "cell_type": "code",
   "execution_count": null,
   "metadata": {
    "scrolled": false
   },
   "outputs": [],
   "source": [
    "set(scpdt.obs[\"Cluster\"])"
   ]
  },
  {
   "cell_type": "code",
   "execution_count": null,
   "metadata": {},
   "outputs": [],
   "source": [
    "scpdt.uns[\"mwanted_order\"]= ['stage  4S', 'stage 1', 'stage 2', 'stage 3', 'stage 4']\n",
    "\n",
    "color_dictclpn = pd.Series({'stage 2b':  (0,255,255),'stage 3':   (0,0,204),\n",
    "               'stage 4':  (255, 0,0), 'stage 4s': ( 0,153,76), 'stage 1':  (160,160,160),'stage  4S': ( 0,153,76),\n",
    "              'stage 2':    (0,255,255)})\n",
    "#color_dictclpn = color_dictclpn.map(lambda x: list(map(lambda y: y/255., x)))"
   ]
  },
  {
   "cell_type": "code",
   "execution_count": null,
   "metadata": {},
   "outputs": [],
   "source": [
    "cd ."
   ]
  },
  {
   "cell_type": "code",
   "execution_count": null,
   "metadata": {
    "scrolled": false
   },
   "outputs": [],
   "source": [
    "#import SW2main82 as SCM\n",
    "test=SCM.prediction(datax=scpdt, mcolor_dict=color_dictclpn,net=net,learninggroup=\"test\", radarplot=True, fontsizeValue=35,\n",
    "              datarefplot=scref,               ncolnm=1, bbValue=(1.1, 1.05))\n"
   ]
  },
  {
   "cell_type": "code",
   "execution_count": null,
   "metadata": {
    "scrolled": false
   },
   "outputs": [],
   "source": [
    "scpdt"
   ]
  },
  {
   "cell_type": "code",
   "execution_count": null,
   "metadata": {
    "scrolled": true
   },
   "outputs": [],
   "source": [
    "dfclus"
   ]
  },
  {
   "cell_type": "code",
   "execution_count": null,
   "metadata": {},
   "outputs": [],
   "source": [
    "rlist=[]\n",
    "for item in scpdt.obs['Risk'].values:\n",
    "    if item =='high risk: 0':\n",
    "        rlist.append(0)\n",
    "    else:\n",
    "        rlist.append(1)"
   ]
  },
  {
   "cell_type": "code",
   "execution_count": null,
   "metadata": {},
   "outputs": [],
   "source": [
    "scpdt.obs['Risk']=rlist"
   ]
  },
  {
   "cell_type": "code",
   "execution_count": null,
   "metadata": {
    "scrolled": false
   },
   "outputs": [],
   "source": [
    "plt.scatter(scpdt.obsm[\"CelltypeScoreCoordinates\"][:,0],scpdt.obsm[\"CelltypeScoreCoordinates\"][:,1],c=scpdt.obs['OS_day'].values**0.5,cmap=\"seismic_r\")"
   ]
  },
  {
   "cell_type": "code",
   "execution_count": null,
   "metadata": {
    "scrolled": false
   },
   "outputs": [],
   "source": [
    "plt.scatter(scpdt.obsm[\"CelltypeScoreCoordinates\"][:,0],scpdt.obsm[\"CelltypeScoreCoordinates\"][:,1],c=rlist,)"
   ]
  },
  {
   "cell_type": "code",
   "execution_count": null,
   "metadata": {
    "scrolled": false
   },
   "outputs": [],
   "source": [
    "plt.scatter(scpdt.obsm[\"CelltypeScoreCoordinates\"][:,0],scpdt.obsm[\"CelltypeScoreCoordinates\"][:,1],c=scpdt.obs['MYCNstatus'].values)"
   ]
  },
  {
   "cell_type": "code",
   "execution_count": null,
   "metadata": {
    "scrolled": true
   },
   "outputs": [],
   "source": [
    "scpdt"
   ]
  },
  {
   "cell_type": "code",
   "execution_count": null,
   "metadata": {
    "scrolled": false
   },
   "outputs": [],
   "source": [
    "dfprob=pd.DataFrame(scpdt.obsm[\"Celltype_Score\"])\n",
    "dfprob.shape"
   ]
  },
  {
   "cell_type": "code",
   "execution_count": null,
   "metadata": {},
   "outputs": [],
   "source": [
    "dfprob.columns=scpdt.uns[\"Celltype_Score_RefCellType\"]\n",
    "dfprob.index=scpdt.obs.index"
   ]
  },
  {
   "cell_type": "code",
   "execution_count": null,
   "metadata": {},
   "outputs": [],
   "source": [
    "dfprob"
   ]
  },
  {
   "cell_type": "code",
   "execution_count": null,
   "metadata": {},
   "outputs": [],
   "source": [
    "import pandas as pd\n",
    "import numpy as np\n",
    "from scipy.cluster.hierarchy import dendrogram, linkage\n",
    "from scipy.spatial.distance import pdist, squareform\n",
    "import seaborn as sns\n",
    "import matplotlib.pyplot as plt\n",
    "\n",
    "# Assuming you have a pandas DataFrame 'df' with 500 rows and 5 columns\n",
    "df =dfprob.iloc[:,:-1]**0.85# Load your data into a DataFrame\n",
    "\n",
    "# Perform the hierarchical clustering\n",
    "row_linkage = linkage(df,metric=\"euclidean\", method='ward')  # 'ward' is one linkage method, you can choose others like 'single', 'complete', 'average', etc."
   ]
  },
  {
   "cell_type": "code",
   "execution_count": null,
   "metadata": {
    "scrolled": false
   },
   "outputs": [],
   "source": [
    "# Plot the dendrogram (optional, for your reference)\n",
    "plt.figure(figsize=(10, 7))\n",
    "dendrogram(row_linkage, labels=df.index,color_threshold=50, leaf_rotation=90, leaf_font_size=5)\n",
    "plt.title(\"Dendrogram\")\n",
    "plt.xlabel(\"Sample Index\")\n",
    "plt.ylabel(\"Distance\")\n",
    "plt.show()\n"
   ]
  },
  {
   "cell_type": "code",
   "execution_count": null,
   "metadata": {},
   "outputs": [],
   "source": [
    "    'Diff_Mes', 'NC_prog',\n",
    "'Bridge_SCP',\n",
    "    'Connecting',\n",
    "\n",
    " 'preNeuroblast',\n",
    "     'Chromaffin',\n",
    " 'Diff_Neuroblast',"
   ]
  },
  {
   "cell_type": "code",
   "execution_count": null,
   "metadata": {},
   "outputs": [],
   "source": [
    "1,2,3:\"Diff_Mes\",\n",
    "    4,5: 'NC_prog',\n",
    "      6:\"Bridge_SCP\",\n",
    "        7: \"preNeuroblast\",\n",
    "            9,10: \"Mix_N_P\",\n",
    "            11,12:\"Connecting\",\n",
    "                13,14:\"Mix_N-B-C-P\"\n",
    "                    8,15,16:\"Mix_C-P\""
   ]
  },
  {
   "cell_type": "code",
   "execution_count": null,
   "metadata": {},
   "outputs": [],
   "source": [
    "\n",
    "# Calculate the distance matrix for the heatmap\n",
    "sns.clustermap(df.T, col_linkage=row_linkage,metric=\"euclidean\", method='ward',row_cluster=False, \n",
    "              standard_scale=0, \n",
    "               cmap='viridis')\n",
    "\n",
    "plt.show()"
   ]
  },
  {
   "cell_type": "code",
   "execution_count": null,
   "metadata": {},
   "outputs": [],
   "source": [
    "from scipy.cluster.hierarchy import linkage, fcluster\n",
    "threshold_distance = 50  # You may choose an appropriate threshold based on your dendrogram\n",
    "cluster_labels = fcluster(row_linkage, t=threshold_distance, criterion='distance')\n",
    "\n",
    "# Add cluster labels to the dataframe\n",
    "df['Main_cluster'] = cluster_labels\n",
    "\n",
    "# Output the dataframe sorted by cluster\n",
    "sorted_df = df.sort_values('Main_cluster')"
   ]
  },
  {
   "cell_type": "code",
   "execution_count": null,
   "metadata": {},
   "outputs": [],
   "source": [
    "sorted_df"
   ]
  },
  {
   "cell_type": "code",
   "execution_count": null,
   "metadata": {},
   "outputs": [],
   "source": [
    "clist=[]Mes\")\n",
    "    elif item in [4]: \n",
    "         clist.append('NC_prog')\n",
    "    elif item in [5,6,13,14]: clist.append(\"Bridge_SCP\"),\n",
    "    elif item in [7,8,9,10]: clist.append(\"preNeuroblast\"),\n",
    "    #elif item in []: clist.append(\"Mix_N_P\"),\n",
    "for item in df['Main_cluster']:\n",
    "    if item in[1,2,3]:\n",
    "        clist.append(\"Diff_\n",
    "    elif item in [11,12,15,16]: clist.append(\"Connecting\"),\n",
    "    #elif item in [13,14]: clist.append(\"Mix_N-B-C-P\"),\n",
    "   # elif item in [8,15,16]: clist.append(\"Mix_C-P\")"
   ]
  },
  {
   "cell_type": "code",
   "execution_count": null,
   "metadata": {},
   "outputs": [],
   "source": [
    "df['Main_cluster']=clist"
   ]
  },
  {
   "cell_type": "code",
   "execution_count": null,
   "metadata": {},
   "outputs": [],
   "source": []
  },
  {
   "cell_type": "code",
   "execution_count": null,
   "metadata": {},
   "outputs": [],
   "source": [
    "df['Main_cluster']"
   ]
  },
  {
   "cell_type": "markdown",
   "metadata": {},
   "source": [
    "indexlist=[]\n",
    "for i in range(dfprob.shape[0]):\n",
    "    indexlist.append(dfprob.columns[np.argmax(dfprob.iloc[i,:].values)])"
   ]
  },
  {
   "cell_type": "code",
   "execution_count": null,
   "metadata": {},
   "outputs": [],
   "source": [
    "dfprob[\"AssignedType\"]=clist"
   ]
  },
  {
   "cell_type": "code",
   "execution_count": null,
   "metadata": {},
   "outputs": [],
   "source": [
    "dfprob.sort_values(\"Bridge_SCP\")"
   ]
  },
  {
   "cell_type": "code",
   "execution_count": null,
   "metadata": {},
   "outputs": [],
   "source": [
    "dfprob.loc[dfprob[\"AssignedType\"]==\"NC_prog\"]"
   ]
  },
  {
   "cell_type": "code",
   "execution_count": null,
   "metadata": {},
   "outputs": [],
   "source": [
    "scpdt.obs[\"AssignedType\"]=clist\n",
    "indexlist=clist"
   ]
  },
  {
   "cell_type": "code",
   "execution_count": null,
   "metadata": {},
   "outputs": [],
   "source": [
    "scpdt"
   ]
  },
  {
   "cell_type": "code",
   "execution_count": null,
   "metadata": {},
   "outputs": [],
   "source": [
    "scpdt[scpdt.obs[\"AssignedType\"]==\"Connecting\",\"PRPH\"].X=scpdt[scpdt.obs[\"AssignedType\"]==\"Connecting\",\"PRPH\"].X/1.19"
   ]
  },
  {
   "cell_type": "code",
   "execution_count": null,
   "metadata": {},
   "outputs": [],
   "source": [
    "adata=scpdt.copy()"
   ]
  },
  {
   "cell_type": "code",
   "execution_count": null,
   "metadata": {},
   "outputs": [],
   "source": [
    "adata.X.sum(1)"
   ]
  },
  {
   "cell_type": "code",
   "execution_count": null,
   "metadata": {},
   "outputs": [],
   "source": [
    "adata=scm.CamelPrefiltering.DataScaling(adata)"
   ]
  },
  {
   "cell_type": "code",
   "execution_count": null,
   "metadata": {},
   "outputs": [],
   "source": [
    "mklistnbl=[\n",
    " \"PDGFRA\",\"PRRX1\",\"FOXC1\",\n",
    "    \"TWIST1\",\n",
    "    #\"SOX5\", \"TFAP2A\", \n",
    " # \"SOX8\",  \"SOX10\",\"ERBB3\",\n",
    "  # 'PLP1',\"MPZ\",'S100B',\n",
    "    \"E2F7\",\"ASCL1\",\"CTTNBP2\",\"HTR3A\",\n",
    "    #\"ISL1\",\n",
    "   \"PHOX2B\", \"CHGA\",\"CHGB\",\n",
    "\"TH\",\"DBH\", \"PHOX2A\", \n",
    "    \"ALK\",\"HMX1\",\"ELAVL4\",\n",
    "  \"PNMT\",\n",
    "    \"NTRK1\",\"NEFL\",\"PRPH\",]"
   ]
  },
  {
   "cell_type": "code",
   "execution_count": null,
   "metadata": {
    "scrolled": true
   },
   "outputs": [],
   "source": [
    "adata.X"
   ]
  },
  {
   "cell_type": "code",
   "execution_count": null,
   "metadata": {},
   "outputs": [],
   "source": [
    "from scipy.sparse import csr_matrix\n",
    "import numpy as np\n",
    "adata.X = csr_matrix(adata.X)\n",
    "adata"
   ]
  },
  {
   "cell_type": "code",
   "execution_count": null,
   "metadata": {},
   "outputs": [],
   "source": [
    "set(adata.obs[\"AssignedType\"])"
   ]
  },
  {
   "cell_type": "code",
   "execution_count": null,
   "metadata": {},
   "outputs": [],
   "source": [
    "custom_order_of_groups = [ \n",
    "  \n",
    "\n",
    " 'Diff_Mes', 'NC_prog',  \n",
    " 'Bridge_SCP',\n",
    "     'Connecting',\n",
    "     \n",
    "# 'Mix_C-P',\n",
    "    'preNeuroblast',\n",
    "\n",
    "]\n",
    "adata=adata[adata.obs[\"AssignedType\"].isin(custom_order_of_groups),:]\n",
    "# Reorder the categories\n",
    "adata.obs['AssignedType'] = (\n",
    "    adata.obs['AssignedType']\n",
    "    .astype('category')\n",
    "    .cat.reorder_categories(custom_order_of_groups)\n",
    ")\n",
    "\n",
    "sc.set_figure_params(scanpy=True, fontsize=18)\n",
    "# Now, use dotplot\n",
    "sc.pl.dotplot(adata, var_names=mklistnbl, groupby='AssignedType',figsize=(9,4),dendrogram=False, \n",
    "            color_map='coolwarm',\n",
    "              dot_max=0.8,  # Adjust the max dot size\n",
    "              dot_min=0.1,\n",
    "              standard_scale=\"var\",\n",
    "             #log=True\n"
   ]
  },
  {
   "cell_type": "markdown",
   "metadata": {},
   "source": []
  },
  {
   "cell_type": "code",
   "execution_count": null,
   "metadata": {},
   "outputs": [],
   "source": [
    "dfclus"
   ]
  },
  {
   "cell_type": "code",
   "execution_count": null,
   "metadata": {},
   "outputs": [],
   "source": [
    "len(indexlist)"
   ]
  },
  {
   "cell_type": "code",
   "execution_count": null,
   "metadata": {
    "scrolled": true
   },
   "outputs": [],
   "source": [
    "dfclus[\"AssignedType\"]=indexlist"
   ]
  },
  {
   "cell_type": "code",
   "execution_count": null,
   "metadata": {},
   "outputs": [],
   "source": [
    "#dfclus=dfclus.T"
   ]
  },
  {
   "cell_type": "code",
   "execution_count": null,
   "metadata": {},
   "outputs": [],
   "source": [
    "dfclus[\"Risk\"]=rlist"
   ]
  },
  {
   "cell_type": "code",
   "execution_count": null,
   "metadata": {
    "scrolled": false
   },
   "outputs": [],
   "source": [
    "dfclus"
   ]
  },
  {
   "cell_type": "code",
   "execution_count": null,
   "metadata": {},
   "outputs": [],
   "source": [
    "dfclus.groupby([\"Stage\"]).count()"
   ]
  },
  {
   "cell_type": "code",
   "execution_count": null,
   "metadata": {},
   "outputs": [],
   "source": [
    "dfclus.groupby([\"AssignedType\"]).count()"
   ]
  },
  {
   "cell_type": "code",
   "execution_count": null,
   "metadata": {},
   "outputs": [],
   "source": [
    "dfclus"
   ]
  },
  {
   "cell_type": "code",
   "execution_count": null,
   "metadata": {},
   "outputs": [],
   "source": [
    "dfclus.groupby([\"AssignedType\",\"Stage\"]).count()"
   ]
  },
  {
   "cell_type": "code",
   "execution_count": null,
   "metadata": {
    "scrolled": false
   },
   "outputs": [],
   "source": [
    "dfclus.groupby([\"AssignedType\",\"Stage\"]).count()/dfclus.groupby([\"Stage\"]).count()"
   ]
  },
  {
   "cell_type": "code",
   "execution_count": null,
   "metadata": {
    "scrolled": true
   },
   "outputs": [],
   "source": [
    "dfclus.groupby([\"AssignedType\"])[\"OS_day\"].mean()"
   ]
  },
  {
   "cell_type": "code",
   "execution_count": null,
   "metadata": {
    "scrolled": true
   },
   "outputs": [],
   "source": [
    "dfclus.groupby([\"AssignedType\"])[\"OSbin\"].mean()"
   ]
  },
  {
   "cell_type": "code",
   "execution_count": null,
   "metadata": {
    "scrolled": true
   },
   "outputs": [],
   "source": [
    "dfclus.groupby([\"AssignedType\"])[\"EFSbin\"].mean()"
   ]
  },
  {
   "cell_type": "code",
   "execution_count": null,
   "metadata": {
    "scrolled": true
   },
   "outputs": [],
   "source": [
    "#dfclus.groupby([\"AssignedType\"])[\"Age\"].mean()"
   ]
  },
  {
   "cell_type": "code",
   "execution_count": null,
   "metadata": {},
   "outputs": [],
   "source": [
    "dfclus.groupby([\"AssignedType\"])[\"Risk\"].mean()"
   ]
  },
  {
   "cell_type": "code",
   "execution_count": null,
   "metadata": {},
   "outputs": [],
   "source": [
    "dfclus.groupby([\"AssignedType\"])[\"MYCNstatus\"].mean()"
   ]
  },
  {
   "cell_type": "code",
   "execution_count": null,
   "metadata": {},
   "outputs": [],
   "source": [
    "import lifelines as ls\n",
    "from lifelines.datasets import load_dd\n",
    "from lifelines.statistics import logrank_test\n",
    "from lifelines import KaplanMeierFitter\n",
    "from scipy.stats import ttest_ind\n",
    "from scipy.stats import wilcoxon"
   ]
  },
  {
   "cell_type": "code",
   "execution_count": null,
   "metadata": {},
   "outputs": [],
   "source": [
    "logrank_test(dfclus.loc[dfclus[\"AssignedType\"]==\"Bridge_SCP\"][\"OS_day\"].astype(float).values,\n",
    "                         dfclus.loc[dfclus[\"AssignedType\"]==\"preNeuroblast\"][\"OS_day\"].astype(float).values,).p_value"
   ]
  },
  {
   "cell_type": "code",
   "execution_count": null,
   "metadata": {},
   "outputs": [],
   "source": [
    "logrank_test(dfclus.loc[dfclus[\"AssignedType\"]==\"Bridge_SCP\"][\"OS_day\"].astype(float).values,\n",
    "                         dfclus.loc[dfclus[\"AssignedType\"]==\"Connecting\"][\"OS_day\"].astype(float).values,).p_value"
   ]
  },
  {
   "cell_type": "code",
   "execution_count": null,
   "metadata": {},
   "outputs": [],
   "source": [
    "logrank_test(dfclus.loc[dfclus[\"AssignedType\"]==\"Connecting\"][\"OS_day\"].astype(float).values,\n",
    "                         dfclus.loc[dfclus[\"AssignedType\"]==\"preNeuroblast\"][\"OS_day\"].astype(float).values,).p_value"
   ]
  },
  {
   "cell_type": "code",
   "execution_count": null,
   "metadata": {},
   "outputs": [],
   "source": []
  },
  {
   "cell_type": "code",
   "execution_count": null,
   "metadata": {},
   "outputs": [],
   "source": [
    "logrank_test(dfclus.loc[(dfclus[\"AssignedType\"]==\"Bridge_SCP\")&(dfclus[\"MYCNstatus\"]==0)][\"OS_day\"].astype(float).values,\n",
    "                         dfclus.loc[(dfclus[\"AssignedType\"]==\"preNeuroblast\")&(dfclus[\"MYCNstatus\"]==0)][\"OS_day\"].astype(float).values,).p_value"
   ]
  },
  {
   "cell_type": "code",
   "execution_count": null,
   "metadata": {},
   "outputs": [],
   "source": [
    "logrank_test(dfclus.loc[(dfclus[\"AssignedType\"]==\"Bridge_SCP\")&(dfclus[\"MYCNstatus\"]==0)][\"OS_day\"].astype(float).values,\n",
    "                         dfclus.loc[(dfclus[\"AssignedType\"]==\"Connecting\")&(dfclus[\"MYCNstatus\"]==0)][\"OS_day\"].astype(float).values,).p_value"
   ]
  },
  {
   "cell_type": "code",
   "execution_count": null,
   "metadata": {},
   "outputs": [],
   "source": [
    "logrank_test(dfclus.loc[(dfclus[\"AssignedType\"]==\"preNeuroblast\")&(dfclus[\"MYCNstatus\"]==0)][\"OS_day\"].astype(float).values,\n",
    "                         dfclus.loc[(dfclus[\"AssignedType\"]==\"Connecting\")&(dfclus[\"MYCNstatus\"]==0)][\"OS_day\"].astype(float).values,).p_value"
   ]
  },
  {
   "cell_type": "code",
   "execution_count": null,
   "metadata": {},
   "outputs": [],
   "source": []
  },
  {
   "cell_type": "code",
   "execution_count": null,
   "metadata": {},
   "outputs": [],
   "source": [
    "logrank_test(dfclus.loc[dfclus[\"AssignedType\"]==\"Bridge_SCP\"][\"EFS_day\"].astype(float).values,\n",
    "                         dfclus.loc[dfclus[\"AssignedType\"]==\"preNeuroblast\"][\"EFS_day\"].astype(float).values,).p_value"
   ]
  },
  {
   "cell_type": "code",
   "execution_count": null,
   "metadata": {},
   "outputs": [],
   "source": [
    "logrank_test(dfclus.loc[dfclus[\"AssignedType\"]==\"Bridge_SCP\"][\"EFS_day\"].astype(float).values,\n",
    "                         dfclus.loc[dfclus[\"AssignedType\"]==\"Connecting\"][\"EFS_day\"].astype(float).values,).p_value"
   ]
  },
  {
   "cell_type": "code",
   "execution_count": null,
   "metadata": {},
   "outputs": [],
   "source": [
    "logrank_test(dfclus.loc[dfclus[\"AssignedType\"]==\"Connecting\"][\"EFS_day\"].astype(float).values,\n",
    "                         dfclus.loc[dfclus[\"AssignedType\"]==\"preNeuroblast\"][\"EFS_day\"].astype(float).values,).p_value"
   ]
  },
  {
   "cell_type": "code",
   "execution_count": null,
   "metadata": {},
   "outputs": [],
   "source": []
  },
  {
   "cell_type": "code",
   "execution_count": null,
   "metadata": {},
   "outputs": [],
   "source": [
    "logrank_test(dfclus.loc[(dfclus[\"AssignedType\"]==\"Bridge_SCP\")&(dfclus[\"MYCNstatus\"]==0)][\"EFS_day\"].astype(float).values,\n",
    "                         dfclus.loc[(dfclus[\"AssignedType\"]==\"preNeuroblast\")&(dfclus[\"MYCNstatus\"]==0)][\"EFS_day\"].astype(float).values,).p_value"
   ]
  },
  {
   "cell_type": "code",
   "execution_count": null,
   "metadata": {},
   "outputs": [],
   "source": [
    "logrank_test(dfclus.loc[(dfclus[\"AssignedType\"]==\"Bridge_SCP\")&(dfclus[\"MYCNstatus\"]==0)][\"EFS_day\"].astype(float).values,\n",
    "                         dfclus.loc[(dfclus[\"AssignedType\"]==\"Connecting\")&(dfclus[\"MYCNstatus\"]==0)][\"EFS_day\"].astype(float).values,).p_value"
   ]
  },
  {
   "cell_type": "code",
   "execution_count": null,
   "metadata": {},
   "outputs": [],
   "source": [
    "logrank_test(dfclus.loc[(dfclus[\"AssignedType\"]==\"preNeuroblast\")&(dfclus[\"MYCNstatus\"]==0)][\"EFS_day\"].astype(float).values,\n",
    "                         dfclus.loc[(dfclus[\"AssignedType\"]==\"Connecting\")&(dfclus[\"MYCNstatus\"]==0)][\"EFS_day\"].astype(float).values,).p_value"
   ]
  },
  {
   "cell_type": "code",
   "execution_count": null,
   "metadata": {},
   "outputs": [],
   "source": []
  },
  {
   "cell_type": "code",
   "execution_count": null,
   "metadata": {},
   "outputs": [],
   "source": []
  },
  {
   "cell_type": "code",
   "execution_count": null,
   "metadata": {
    "scrolled": true
   },
   "outputs": [],
   "source": [
    "logrank_test(dfclus.loc[dfclus[\"AssignedType\"]==\"NC_prog\"][\"EFS_day\"].astype(float).values,\n",
    "                         dfclus.loc[dfclus[\"AssignedType\"]==\"preNeuroblast\"][\"EFS_day\"].astype(float).values,).p_value"
   ]
  },
  {
   "cell_type": "code",
   "execution_count": null,
   "metadata": {},
   "outputs": [],
   "source": [
    "logrank_test(dfclus.loc[dfclus[\"AssignedType\"]==\"NC_prog\"][\"EFS_day\"].astype(float).values,\n",
    "                         dfclus.loc[dfclus[\"AssignedType\"]==\"Connecting\"][\"EFS_day\"].astype(float).values,).p_value"
   ]
  },
  {
   "cell_type": "code",
   "execution_count": null,
   "metadata": {},
   "outputs": [],
   "source": [
    "logrank_test(dfclus.loc[dfclus[\"AssignedType\"]==\"NC_prog\"][\"EFS_day\"].astype(float).values,\n",
    "                         dfclus.loc[dfclus[\"AssignedType\"]==\"preNeuroblast\"][\"EFS_day\"].astype(float).values,).p_value"
   ]
  },
  {
   "cell_type": "code",
   "execution_count": null,
   "metadata": {},
   "outputs": [],
   "source": []
  },
  {
   "cell_type": "code",
   "execution_count": null,
   "metadata": {},
   "outputs": [],
   "source": [
    "dfclusbk=dfclus"
   ]
  },
  {
   "cell_type": "code",
   "execution_count": null,
   "metadata": {},
   "outputs": [],
   "source": [
    "dfclus=dfclus.loc[dfclus[\"OSbin\"]==1]\n",
    "dfclus.shape"
   ]
  },
  {
   "cell_type": "code",
   "execution_count": null,
   "metadata": {},
   "outputs": [],
   "source": [
    "logrank_test(dfclus.loc[dfclus[\"AssignedType\"]==\"Bridge_SCP\"][\"OS_day\"].astype(float).values,\n",
    "                         dfclus.loc[dfclus[\"AssignedType\"]==\"preNeuroblast\"][\"OS_day\"].astype(float).values,).p_value"
   ]
  },
  {
   "cell_type": "code",
   "execution_count": null,
   "metadata": {},
   "outputs": [],
   "source": [
    "logrank_test(dfclus.loc[dfclus[\"AssignedType\"]==\"Bridge_SCP\"][\"OS_day\"].astype(float).values,\n",
    "                         dfclus.loc[dfclus[\"AssignedType\"]==\"Connecting\"][\"OS_day\"].astype(float).values,).p_value"
   ]
  },
  {
   "cell_type": "code",
   "execution_count": null,
   "metadata": {},
   "outputs": [],
   "source": [
    "logrank_test(dfclus.loc[dfclus[\"AssignedType\"]==\"Connecting\"][\"OS_day\"].astype(float).values,\n",
    "                         dfclus.loc[dfclus[\"AssignedType\"]==\"preNeuroblast\"][\"OS_day\"].astype(float).values,).p_value"
   ]
  },
  {
   "cell_type": "code",
   "execution_count": null,
   "metadata": {},
   "outputs": [],
   "source": []
  },
  {
   "cell_type": "code",
   "execution_count": null,
   "metadata": {},
   "outputs": [],
   "source": [
    "logrank_test(dfclus.loc[(dfclus[\"AssignedType\"]==\"Bridge_SCP\")&(dfclus[\"MYCNstatus\"]==0)][\"OS_day\"].astype(float).values,\n",
    "                         dfclus.loc[(dfclus[\"AssignedType\"]==\"preNeuroblast\")&(dfclus[\"MYCNstatus\"]==0)][\"OS_day\"].astype(float).values,).p_value"
   ]
  },
  {
   "cell_type": "code",
   "execution_count": null,
   "metadata": {},
   "outputs": [],
   "source": [
    "logrank_test(dfclus.loc[(dfclus[\"AssignedType\"]==\"Bridge_SCP\")&(dfclus[\"MYCNstatus\"]==0)][\"OS_day\"].astype(float).values,\n",
    "                         dfclus.loc[(dfclus[\"AssignedType\"]==\"Connecting\")&(dfclus[\"MYCNstatus\"]==0)][\"OS_day\"].astype(float).values,).p_value"
   ]
  },
  {
   "cell_type": "code",
   "execution_count": null,
   "metadata": {},
   "outputs": [],
   "source": [
    "logrank_test(dfclus.loc[(dfclus[\"AssignedType\"]==\"preNeuroblast\")&(dfclus[\"MYCNstatus\"]==0)][\"OS_day\"].astype(float).values,\n",
    "                         dfclus.loc[(dfclus[\"AssignedType\"]==\"Connecting\")&(dfclus[\"MYCNstatus\"]==0)][\"OS_day\"].astype(float).values,).p_value"
   ]
  },
  {
   "cell_type": "code",
   "execution_count": null,
   "metadata": {},
   "outputs": [],
   "source": []
  },
  {
   "cell_type": "code",
   "execution_count": null,
   "metadata": {},
   "outputs": [],
   "source": [
    "logrank_test(dfclus.loc[dfclus[\"AssignedType\"]==\"Bridge_SCP\"][\"EFS_day\"].astype(float).values,\n",
    "                         dfclus.loc[dfclus[\"AssignedType\"]==\"preNeuroblast\"][\"EFS_day\"].astype(float).values,).p_value"
   ]
  },
  {
   "cell_type": "code",
   "execution_count": null,
   "metadata": {},
   "outputs": [],
   "source": [
    "logrank_test(dfclus.loc[dfclus[\"AssignedType\"]==\"Bridge_SCP\"][\"EFS_day\"].astype(float).values,\n",
    "                         dfclus.loc[dfclus[\"AssignedType\"]==\"Connecting\"][\"EFS_day\"].astype(float).values,).p_value"
   ]
  },
  {
   "cell_type": "code",
   "execution_count": null,
   "metadata": {},
   "outputs": [],
   "source": [
    "logrank_test(dfclus.loc[dfclus[\"AssignedType\"]==\"Connecting\"][\"EFS_day\"].astype(float).values,\n",
    "                         dfclus.loc[dfclus[\"AssignedType\"]==\"preNeuroblast\"][\"EFS_day\"].astype(float).values,).p_value"
   ]
  },
  {
   "cell_type": "code",
   "execution_count": null,
   "metadata": {},
   "outputs": [],
   "source": []
  },
  {
   "cell_type": "code",
   "execution_count": null,
   "metadata": {},
   "outputs": [],
   "source": [
    "logrank_test(dfclus.loc[(dfclus[\"AssignedType\"]==\"Bridge_SCP\")&(dfclus[\"MYCNstatus\"]==0)][\"EFS_day\"].astype(float).values,\n",
    "                         dfclus.loc[(dfclus[\"AssignedType\"]==\"preNeuroblast\")&(dfclus[\"MYCNstatus\"]==0)][\"EFS_day\"].astype(float).values,).p_value"
   ]
  },
  {
   "cell_type": "code",
   "execution_count": null,
   "metadata": {},
   "outputs": [],
   "source": [
    "logrank_test(dfclus.loc[(dfclus[\"AssignedType\"]==\"Bridge_SCP\")&(dfclus[\"MYCNstatus\"]==0)][\"EFS_day\"].astype(float).values,\n",
    "                         dfclus.loc[(dfclus[\"AssignedType\"]==\"Connecting\")&(dfclus[\"MYCNstatus\"]==0)][\"EFS_day\"].astype(float).values,).p_value"
   ]
  },
  {
   "cell_type": "code",
   "execution_count": null,
   "metadata": {},
   "outputs": [],
   "source": [
    "logrank_test(dfclus.loc[(dfclus[\"AssignedType\"]==\"preNeuroblast\")&(dfclus[\"MYCNstatus\"]==0)][\"EFS_day\"].astype(float).values,\n",
    "                         dfclus.loc[(dfclus[\"AssignedType\"]==\"Connecting\")&(dfclus[\"MYCNstatus\"]==0)][\"EFS_day\"].astype(float).values,).p_value"
   ]
  },
  {
   "cell_type": "code",
   "execution_count": null,
   "metadata": {},
   "outputs": [],
   "source": []
  },
  {
   "cell_type": "code",
   "execution_count": null,
   "metadata": {},
   "outputs": [],
   "source": []
  },
  {
   "cell_type": "code",
   "execution_count": null,
   "metadata": {
    "scrolled": true
   },
   "outputs": [],
   "source": [
    "logrank_test(dfclus.loc[dfclus[\"AssignedType\"]==\"NC_prog\"][\"EFS_day\"].astype(float).values,\n",
    "                         dfclus.loc[dfclus[\"AssignedType\"]==\"preNeuroblast\"][\"EFS_day\"].astype(float).values,).p_value"
   ]
  },
  {
   "cell_type": "code",
   "execution_count": null,
   "metadata": {},
   "outputs": [],
   "source": [
    "logrank_test(dfclus.loc[dfclus[\"AssignedType\"]==\"NC_prog\"][\"EFS_day\"].astype(float).values,\n",
    "                         dfclus.loc[dfclus[\"AssignedType\"]==\"Connecting\"][\"EFS_day\"].astype(float).values,).p_value"
   ]
  },
  {
   "cell_type": "code",
   "execution_count": null,
   "metadata": {},
   "outputs": [],
   "source": [
    "logrank_test(dfclus.loc[dfclus[\"AssignedType\"]==\"NC_prog\"][\"EFS_day\"].astype(float).values,\n",
    "                         dfclus.loc[dfclus[\"AssignedType\"]==\"preNeuroblast\"][\"EFS_day\"].astype(float).values,).p_value"
   ]
  },
  {
   "cell_type": "code",
   "execution_count": null,
   "metadata": {},
   "outputs": [],
   "source": []
  },
  {
   "cell_type": "code",
   "execution_count": null,
   "metadata": {},
   "outputs": [],
   "source": [
    "scpdt"
   ]
  },
  {
   "cell_type": "code",
   "execution_count": null,
   "metadata": {},
   "outputs": [],
   "source": [
    "dfclus"
   ]
  },
  {
   "cell_type": "code",
   "execution_count": null,
   "metadata": {
    "scrolled": true
   },
   "outputs": [],
   "source": [
    "scpdt.obs[\"OS_day\"]=scpdt.obs[\"OS_day\"].astype(float)\n",
    "scpdt.obs[\"EFS_day\"]=scpdt.obs[\"EFS_day\"].astype(float)\n",
    "scpdt.obs[\"MYCNstatus\"]=scpdt.obs[\"MYCNstatus\"].astype(float)\n",
    "scpdt.obs[\"EFSbin\"]=scpdt.obs[\"EFSbin\"].astype(float)\n",
    "scpdt.obs[\"OSbin\"]=scpdt.obs[\"OSbin\"].astype(float)\n",
    "scpdt.obs[\"Age\"]=dfclus2[\"age at diagnosis\"].astype(float)"
   ]
  },
  {
   "cell_type": "code",
   "execution_count": null,
   "metadata": {},
   "outputs": [],
   "source": []
  },
  {
   "cell_type": "code",
   "execution_count": null,
   "metadata": {},
   "outputs": [],
   "source": []
  },
  {
   "cell_type": "markdown",
   "metadata": {},
   "source": [
    "# survival and related meta"
   ]
  },
  {
   "cell_type": "code",
   "execution_count": null,
   "metadata": {},
   "outputs": [],
   "source": [
    "cd F:\\Dropbox\\data\\proj\\PE_HYZ\\PublicDataSet\\NBL_SZscRNA\\FinalDataset"
   ]
  },
  {
   "cell_type": "code",
   "execution_count": null,
   "metadata": {
    "scrolled": false
   },
   "outputs": [],
   "source": [
    "scpdt=anndata.read(\"SEQC_bulkNBL_fit_szNBLscRNAseq.h5ad\")"
   ]
  },
  {
   "cell_type": "code",
   "execution_count": null,
   "metadata": {
    "scrolled": false
   },
   "outputs": [],
   "source": [
    "scpdt"
   ]
  },
  {
   "cell_type": "code",
   "execution_count": null,
   "metadata": {},
   "outputs": [],
   "source": [
    "#dfprob.loc[\"SEQC_NB472\",\"Bridge_SCP\"]=dfprob.loc[\"SEQC_NB472\",\"Bridge_SCP\"]+7\n",
    "#dfprob.loc[\"SEQC_NB472\",\"preNeuroblast\"]=dfprob.loc[\"SEQC_NB472\",\"preNeuroblast\"]-7"
   ]
  },
  {
   "cell_type": "code",
   "execution_count": null,
   "metadata": {
    "scrolled": true
   },
   "outputs": [],
   "source": [
    "dfprob.max(1)"
   ]
  },
  {
   "cell_type": "code",
   "execution_count": null,
   "metadata": {},
   "outputs": [],
   "source": [
    "dfprob.loc[\"SEQC_NB001\"]"
   ]
  },
  {
   "cell_type": "code",
   "execution_count": null,
   "metadata": {},
   "outputs": [],
   "source": [
    "listcol=dfprob.columns\n",
    "listcol"
   ]
  },
  {
   "cell_type": "code",
   "execution_count": null,
   "metadata": {},
   "outputs": [],
   "source": [
    " listcol[np.argmax(dfprob.loc[\"SEQC_NB001\"])]"
   ]
  },
  {
   "cell_type": "code",
   "execution_count": null,
   "metadata": {},
   "outputs": [],
   "source": [
    "clist=[]\n",
    "for item in dfprob.index:\n",
    "    clist.append( listcol[np.argmax(dfprob.loc[item])])"
   ]
  },
  {
   "cell_type": "code",
   "execution_count": null,
   "metadata": {},
   "outputs": [],
   "source": [
    "scpdt.obs[\"AssignedType\"]=clist"
   ]
  },
  {
   "cell_type": "code",
   "execution_count": null,
   "metadata": {},
   "outputs": [],
   "source": [
    "scpdt.obs"
   ]
  },
  {
   "cell_type": "code",
   "execution_count": null,
   "metadata": {},
   "outputs": [],
   "source": [
    "dfclus=scpdt.obs.copy()\n",
    "dfclus"
   ]
  },
  {
   "cell_type": "code",
   "execution_count": null,
   "metadata": {},
   "outputs": [],
   "source": []
  },
  {
   "cell_type": "code",
   "execution_count": null,
   "metadata": {},
   "outputs": [],
   "source": [
    "dfclus.groupby([\"AssignedType\"]).count()"
   ]
  },
  {
   "cell_type": "code",
   "execution_count": null,
   "metadata": {},
   "outputs": [],
   "source": [
    "dfclus.groupby([\"AssignedType\"]).mean()"
   ]
  },
  {
   "cell_type": "code",
   "execution_count": null,
   "metadata": {
    "scrolled": true
   },
   "outputs": [],
   "source": [
    "dfclus.groupby([\"AssignedType\"]).median()"
   ]
  },
  {
   "cell_type": "code",
   "execution_count": null,
   "metadata": {},
   "outputs": [],
   "source": [
    "dfclus2=dfclus.loc[dfclus[\"MYCNstatus\"]==0]\n",
    "dfclus2"
   ]
  },
  {
   "cell_type": "code",
   "execution_count": null,
   "metadata": {},
   "outputs": [],
   "source": [
    "dfclus2.groupby([\"AssignedType\"]).count()"
   ]
  },
  {
   "cell_type": "code",
   "execution_count": null,
   "metadata": {},
   "outputs": [],
   "source": [
    "dfclus2.groupby([\"AssignedType\"]).mean()"
   ]
  },
  {
   "cell_type": "code",
   "execution_count": null,
   "metadata": {},
   "outputs": [],
   "source": [
    "dfclus2.groupby([\"AssignedType\"]).median()"
   ]
  },
  {
   "cell_type": "code",
   "execution_count": null,
   "metadata": {},
   "outputs": [],
   "source": [
    "dfclus"
   ]
  },
  {
   "cell_type": "code",
   "execution_count": null,
   "metadata": {},
   "outputs": [],
   "source": [
    "countlist=[]\n",
    "for i in range(dfclus.shape[0]):\n",
    "    if dfclus.iloc[i,-4]==0:\n",
    "        countlist.append(6600)\n",
    "    else:\n",
    "        countlist.append(dfclus.iloc[i,1])"
   ]
  },
  {
   "cell_type": "code",
   "execution_count": null,
   "metadata": {},
   "outputs": [],
   "source": [
    "dfclus.iloc[:,1]=countlist"
   ]
  },
  {
   "cell_type": "code",
   "execution_count": null,
   "metadata": {},
   "outputs": [],
   "source": [
    "dfclus"
   ]
  },
  {
   "cell_type": "code",
   "execution_count": null,
   "metadata": {},
   "outputs": [],
   "source": [
    "import lifelines as ls\n",
    "from lifelines.datasets import load_dd\n",
    "from lifelines.statistics import logrank_test\n",
    "from lifelines import KaplanMeierFitter\n",
    "from scipy.stats import ttest_ind\n",
    "from scipy.stats import wilcoxon"
   ]
  },
  {
   "cell_type": "code",
   "execution_count": null,
   "metadata": {},
   "outputs": [],
   "source": [
    "scpdt"
   ]
  },
  {
   "cell_type": "code",
   "execution_count": null,
   "metadata": {},
   "outputs": [],
   "source": [
    "dfclus.index"
   ]
  },
  {
   "cell_type": "code",
   "execution_count": null,
   "metadata": {},
   "outputs": [],
   "source": [
    "logrank_test(dfclus.loc[dfclus[\"AssignedType\"]==\"Bridge_SCP\"][\"OS_day\"].astype(float).values,\n",
    "                         dfclus.loc[dfclus[\"AssignedType\"]==\"preNeuroblast\"][\"OS_day\"].astype(float).values,).p_value"
   ]
  },
  {
   "cell_type": "code",
   "execution_count": null,
   "metadata": {},
   "outputs": [],
   "source": [
    "logrank_test(dfclus.loc[dfclus[\"AssignedType\"]==\"Bridge_SCP\"][\"OS_day\"].astype(float).values,\n",
    "                         dfclus.loc[dfclus[\"AssignedType\"]==\"Connecting\"][\"OS_day\"].astype(float).values,).p_value"
   ]
  },
  {
   "cell_type": "code",
   "execution_count": null,
   "metadata": {},
   "outputs": [],
   "source": [
    "logrank_test(dfclus.loc[dfclus[\"AssignedType\"]==\"Bridge_SCP\"][\"OS_day\"].astype(float).values,\n",
    "                         dfclus.loc[dfclus[\"AssignedType\"]==\"NC_prog\"][\"OS_day\"].astype(float).values,).p_value"
   ]
  },
  {
   "cell_type": "code",
   "execution_count": null,
   "metadata": {},
   "outputs": [],
   "source": [
    "logrank_test(dfclus.loc[dfclus[\"AssignedType\"]==\"Bridge_SCP\"][\"OS_day\"].astype(float).values,\n",
    "                         dfclus.loc[dfclus[\"AssignedType\"]==\"Diff_Mes\"][\"OS_day\"].astype(float).values,).p_value"
   ]
  },
  {
   "cell_type": "code",
   "execution_count": null,
   "metadata": {},
   "outputs": [],
   "source": [
    "logrank_test(dfclus.loc[dfclus[\"AssignedType\"]==\"Connecting\"][\"OS_day\"].astype(float).values,\n",
    "                         dfclus.loc[dfclus[\"AssignedType\"]==\"preNeuroblast\"][\"OS_day\"].astype(float).values,).p_value"
   ]
  },
  {
   "cell_type": "code",
   "execution_count": null,
   "metadata": {},
   "outputs": [],
   "source": [
    "logrank_test(dfclus.loc[dfclus[\"AssignedType\"]==\"preNeuroblast\"][\"OS_day\"].astype(float).values,\n",
    "                         dfclus.loc[dfclus[\"AssignedType\"]==\"Diff_Mes\"][\"OS_day\"].astype(float).values,).p_value"
   ]
  },
  {
   "cell_type": "code",
   "execution_count": null,
   "metadata": {},
   "outputs": [],
   "source": [
    "logrank_test(dfclus.loc[dfclus[\"AssignedType\"]==\"Connecting\"][\"OS_day\"].astype(float).values,\n",
    "                         dfclus.loc[dfclus[\"AssignedType\"]==\"Diff_Mes\"][\"OS_day\"].astype(float).values,).p_value"
   ]
  },
  {
   "cell_type": "code",
   "execution_count": null,
   "metadata": {},
   "outputs": [],
   "source": [
    "logrank_test(dfclus.loc[dfclus[\"AssignedType\"]==\"Diff_Mes\"][\"OS_day\"].astype(float).values,\n",
    "                         dfclus.loc[dfclus[\"AssignedType\"]==\"NC_prog\"][\"OS_day\"].astype(float).values,).p_value"
   ]
  },
  {
   "cell_type": "code",
   "execution_count": null,
   "metadata": {},
   "outputs": [],
   "source": [
    "logrank_test(dfclus.loc[dfclus[\"AssignedType\"]==\"preNeuroblast\"][\"OS_day\"].astype(float).values,\n",
    "                         dfclus.loc[dfclus[\"AssignedType\"]==\"NC_prog\"][\"OS_day\"].astype(float).values,).p_value"
   ]
  },
  {
   "cell_type": "code",
   "execution_count": null,
   "metadata": {},
   "outputs": [],
   "source": [
    "logrank_test(dfclus.loc[dfclus[\"AssignedType\"]==\"Connecting\"][\"OS_day\"].astype(float).values,\n",
    "                         dfclus.loc[dfclus[\"AssignedType\"]==\"NC_prog\"][\"OS_day\"].astype(float).values,).p_value"
   ]
  },
  {
   "cell_type": "code",
   "execution_count": null,
   "metadata": {},
   "outputs": [],
   "source": [
    "from matplotlib import rc\n",
    "#from termcolor import colored\n",
    "\n",
    "ratio=0.30\n",
    "#ax=plt.figure(figsize=(15,50), facecolor='w')\n",
    "\n",
    "#kmf = KaplanMeierFitter(label=[\"Bridge_SCP\", \"preNeuroblast\", \"Connecting\",\"NC_prog\"])\n",
    "kmf = KaplanMeierFitter()\n",
    "kmf.fit(dfclus.loc[dfclus[\"AssignedType\"]==\"Diff_Mes\"][\"OS_day\"].astype(float).values,label=\"Diff_Mes\", alpha=0.9)\n",
    "ax = kmf.plot(figsize=(7,7),color='#0000ff',lw=2)\n",
    "kmf = KaplanMeierFitter()\n",
    "kmf.fit(dfclus.loc[dfclus[\"AssignedType\"]==\"Bridge_SCP\"][\"OS_day\"].astype(float).values,label=\"Bridge_SCP\", alpha=0.7)\n",
    "ax = kmf.plot(figsize=(7,7),color='#aab4aa',lw=2)\n",
    "\n",
    "kmf.fit( dfclus.loc[dfclus[\"AssignedType\"]==\"preNeuroblast\"][\"OS_day\"].astype(float).values,label=\"preNeuroblast\",alpha=0.65)\n",
    "kmf.plot(ax=ax,color='#6464f0',lw=2)\n",
    "\n",
    "kmf.fit(  dfclus.loc[dfclus[\"AssignedType\"]==\"Connecting\"][\"OS_day\"].astype(float).values,label=\"Connecting\",alpha=0.7)\n",
    "kmf.plot(ax=ax,color='#5fba46', lw=2)\n",
    "\n",
    "kmf.fit(  dfclus.loc[dfclus[\"AssignedType\"]==\"NC_prog\"][\"OS_day\"].astype(float).values,label=\"NC_prog\",alpha=0.7)\n",
    "kmf.plot(ax=ax,color='#f97d05', lw=2)\n",
    "\n",
    "ax.spines.right.set_visible(False)\n",
    "ax.spines.top.set_visible(False)\n",
    "plt.title(\"MYCNall_OS\",fontsize=25)\n",
    "plt.grid(False)"
   ]
  },
  {
   "cell_type": "code",
   "execution_count": null,
   "metadata": {},
   "outputs": [],
   "source": []
  },
  {
   "cell_type": "code",
   "execution_count": null,
   "metadata": {},
   "outputs": [],
   "source": [
    "dfclus.groupby([\"AssignedType\",\"MYCNstatus\"]).count()"
   ]
  },
  {
   "cell_type": "code",
   "execution_count": null,
   "metadata": {
    "scrolled": true
   },
   "outputs": [],
   "source": [
    "logrank_test(dfclus.loc[(dfclus[\"AssignedType\"]==\"Bridge_SCP\")&(dfclus[\"MYCNstatus\"]==0)][\"OS_day\"].astype(float).values,\n",
    "                         dfclus.loc[(dfclus[\"AssignedType\"]==\"preNeuroblast\")&(dfclus[\"MYCNstatus\"]==0)][\"OS_day\"].astype(float).values,).p_value"
   ]
  },
  {
   "cell_type": "code",
   "execution_count": null,
   "metadata": {},
   "outputs": [],
   "source": [
    "logrank_test(dfclus.loc[(dfclus[\"AssignedType\"]==\"Diff_Mes\")&(dfclus[\"MYCNstatus\"]==0)][\"OS_day\"].astype(float).values,\n",
    "                         dfclus.loc[(dfclus[\"AssignedType\"]==\"Bridge_SCP\")&(dfclus[\"MYCNstatus\"]==0)][\"OS_day\"].astype(float).values,).p_value"
   ]
  },
  {
   "cell_type": "code",
   "execution_count": null,
   "metadata": {},
   "outputs": [],
   "source": []
  },
  {
   "cell_type": "code",
   "execution_count": null,
   "metadata": {},
   "outputs": [],
   "source": [
    "logrank_test(dfclus.loc[(dfclus[\"AssignedType\"]==\"Bridge_SCP\")&(dfclus[\"MYCNstatus\"]==0)][\"OS_day\"].astype(float).values,\n",
    "                         dfclus.loc[(dfclus[\"AssignedType\"]==\"Connecting\")&(dfclus[\"MYCNstatus\"]==0)][\"OS_day\"].astype(float).values,).p_value"
   ]
  },
  {
   "cell_type": "code",
   "execution_count": null,
   "metadata": {},
   "outputs": [],
   "source": [
    "logrank_test(dfclus.loc[(dfclus[\"AssignedType\"]==\"Bridge_SCP\")&(dfclus[\"MYCNstatus\"]==0)][\"OS_day\"].astype(float).values,\n",
    "                         dfclus.loc[(dfclus[\"AssignedType\"]==\"NC_prog\")&(dfclus[\"MYCNstatus\"]==0)][\"OS_day\"].astype(float).values,).p_value"
   ]
  },
  {
   "cell_type": "code",
   "execution_count": null,
   "metadata": {},
   "outputs": [],
   "source": []
  },
  {
   "cell_type": "code",
   "execution_count": null,
   "metadata": {},
   "outputs": [],
   "source": [
    "logrank_test(dfclus.loc[(dfclus[\"AssignedType\"]==\"preNeuroblast\")&(dfclus[\"MYCNstatus\"]==0)][\"OS_day\"].astype(float).values,\n",
    "                         dfclus.loc[(dfclus[\"AssignedType\"]==\"Connecting\")&(dfclus[\"MYCNstatus\"]==0)][\"OS_day\"].astype(float).values,).p_value"
   ]
  },
  {
   "cell_type": "code",
   "execution_count": null,
   "metadata": {},
   "outputs": [],
   "source": [
    "logrank_test(dfclus.loc[(dfclus[\"AssignedType\"]==\"Diff_Mes\")&(dfclus[\"MYCNstatus\"]==0)][\"OS_day\"].astype(float).values,\n",
    "                         dfclus.loc[(dfclus[\"AssignedType\"]==\"Connecting\")&(dfclus[\"MYCNstatus\"]==0)][\"OS_day\"].astype(float).values,).p_value"
   ]
  },
  {
   "cell_type": "code",
   "execution_count": null,
   "metadata": {},
   "outputs": [],
   "source": []
  },
  {
   "cell_type": "code",
   "execution_count": null,
   "metadata": {},
   "outputs": [],
   "source": [
    "logrank_test(dfclus.loc[(dfclus[\"AssignedType\"]==\"Diff_Mes\")&(dfclus[\"MYCNstatus\"]==0)][\"OS_day\"].astype(float).values,\n",
    "                         dfclus.loc[(dfclus[\"AssignedType\"]==\"NC_prog\")&(dfclus[\"MYCNstatus\"]==0)][\"OS_day\"].astype(float).values,).p_value"
   ]
  },
  {
   "cell_type": "code",
   "execution_count": null,
   "metadata": {},
   "outputs": [],
   "source": [
    "logrank_test(dfclus.loc[(dfclus[\"AssignedType\"]==\"preNeuroblast\")&(dfclus[\"MYCNstatus\"]==0)][\"OS_day\"].astype(float).values,\n",
    "                         dfclus.loc[(dfclus[\"AssignedType\"]==\"NC_prog\")&(dfclus[\"MYCNstatus\"]==0)][\"OS_day\"].astype(float).values,).p_value"
   ]
  },
  {
   "cell_type": "code",
   "execution_count": null,
   "metadata": {},
   "outputs": [],
   "source": []
  },
  {
   "cell_type": "code",
   "execution_count": null,
   "metadata": {},
   "outputs": [],
   "source": [
    "from matplotlib import rc\n",
    "#from termcolor import colored\n",
    "\n",
    "ratio=0.30\n",
    "#ax=plt.figure(figsize=(15,50), facecolor='w')\n",
    "\n",
    "#kmf = KaplanMeierFitter(label=[\"Bridge_SCP\", \"preNeuroblast\", \"Connecting\",\"NC_prog\"])\n",
    "kmf = KaplanMeierFitter()\n",
    "kmf.fit(dfclus.loc[(dfclus[\"AssignedType\"]==\"Diff_Mes\")&(dfclus[\"MYCNstatus\"]==0)][\"OS_day\"].astype(float).values,label=\"Diff_Mes\", alpha=0.9)\n",
    "ax = kmf.plot(figsize=(7,7),color='#0000ff',lw=2)\n",
    "kmf = KaplanMeierFitter()\n",
    "kmf.fit(dfclus.loc[(dfclus[\"AssignedType\"]==\"Bridge_SCP\")&(dfclus[\"MYCNstatus\"]==0)][\"OS_day\"].astype(float).values,label=\"Bridge_SCP\", alpha=0.6)\n",
    "ax = kmf.plot(figsize=(7,7),color='#aab4aa',lw=2)\n",
    "\n",
    "kmf.fit(   dfclus.loc[(dfclus[\"AssignedType\"]==\"preNeuroblast\")&(dfclus[\"MYCNstatus\"]==0)][\"OS_day\"].astype(float).values,alpha=0.7)\n",
    "kmf.plot(ax=ax,color='#6464f0',lw=2)\n",
    "\n",
    "kmf.fit(   dfclus.loc[(dfclus[\"AssignedType\"]==\"Connecting\")&(dfclus[\"MYCNstatus\"]==0)][\"OS_day\"].astype(float).values,label=\"Connecting\",alpha=0.7)\n",
    "kmf.plot(ax=ax,color='#5fba46', lw=2)\n",
    "\n",
    "kmf.fit(  dfclus.loc[(dfclus[\"AssignedType\"]==\"NC_prog\")&(dfclus[\"MYCNstatus\"]==0)][\"OS_day\"].astype(float).values,label=\"NC_prog\",alpha=0.7)\n",
    "kmf.plot(ax=ax,color='#f97d05', lw=2)\n",
    "\n",
    "ax.spines.right.set_visible(False)\n",
    "ax.spines.top.set_visible(False)\n",
    "plt.title(\"MYCNwt_OS\",fontsize=25)\n",
    "plt.grid(False)"
   ]
  },
  {
   "cell_type": "code",
   "execution_count": null,
   "metadata": {},
   "outputs": [],
   "source": []
  },
  {
   "cell_type": "code",
   "execution_count": null,
   "metadata": {},
   "outputs": [],
   "source": [
    "logrank_test(dfclus.loc[dfclus[\"AssignedType\"]==\"Bridge_SCP\"][\"EFS_day\"].astype(float).values,\n",
    "                         dfclus.loc[dfclus[\"AssignedType\"]==\"preNeuroblast\"][\"EFS_day\"].astype(float).values,).p_value"
   ]
  },
  {
   "cell_type": "code",
   "execution_count": null,
   "metadata": {},
   "outputs": [],
   "source": [
    "logrank_test(dfclus.loc[dfclus[\"AssignedType\"]==\"Bridge_SCP\"][\"EFS_day\"].astype(float).values,\n",
    "                         dfclus.loc[dfclus[\"AssignedType\"]==\"Diff_Mes\"][\"EFS_day\"].astype(float).values,).p_value"
   ]
  },
  {
   "cell_type": "code",
   "execution_count": null,
   "metadata": {},
   "outputs": [],
   "source": []
  },
  {
   "cell_type": "code",
   "execution_count": null,
   "metadata": {},
   "outputs": [],
   "source": [
    "logrank_test(dfclus.loc[dfclus[\"AssignedType\"]==\"Connecting\"][\"EFS_day\"].astype(float).values,\n",
    "                         dfclus.loc[dfclus[\"AssignedType\"]==\"Diff_Mes\"][\"EFS_day\"].astype(float).values,).p_value"
   ]
  },
  {
   "cell_type": "code",
   "execution_count": null,
   "metadata": {
    "scrolled": true
   },
   "outputs": [],
   "source": [
    "logrank_test(dfclus.loc[dfclus[\"AssignedType\"]==\"Connecting\"][\"EFS_day\"].astype(float).values,\n",
    "                         dfclus.loc[dfclus[\"AssignedType\"]==\"preNeuroblast\"][\"EFS_day\"].astype(float).values,).p_value"
   ]
  },
  {
   "cell_type": "code",
   "execution_count": null,
   "metadata": {},
   "outputs": [],
   "source": []
  },
  {
   "cell_type": "code",
   "execution_count": null,
   "metadata": {},
   "outputs": [],
   "source": [
    "logrank_test(dfclus.loc[dfclus[\"AssignedType\"]==\"preNeuroblast\"][\"EFS_day\"].astype(float).values,\n",
    "                         dfclus.loc[dfclus[\"AssignedType\"]==\"NC_prog\"][\"EFS_day\"].astype(float).values,).p_value"
   ]
  },
  {
   "cell_type": "code",
   "execution_count": null,
   "metadata": {},
   "outputs": [],
   "source": [
    "logrank_test(dfclus.loc[dfclus[\"AssignedType\"]==\"Diff_Mes\"][\"EFS_day\"].astype(float).values,\n",
    "                         dfclus.loc[dfclus[\"AssignedType\"]==\"NC_prog\"][\"EFS_day\"].astype(float).values,).p_value"
   ]
  },
  {
   "cell_type": "code",
   "execution_count": null,
   "metadata": {},
   "outputs": [],
   "source": [
    "logrank_test(dfclus.loc[dfclus[\"AssignedType\"]==\"Connecting\"][\"EFS_day\"].astype(float).values,\n",
    "                         dfclus.loc[dfclus[\"AssignedType\"]==\"NC_prog\"][\"EFS_day\"].astype(float).values,).p_value"
   ]
  },
  {
   "cell_type": "code",
   "execution_count": null,
   "metadata": {},
   "outputs": [],
   "source": []
  },
  {
   "cell_type": "code",
   "execution_count": null,
   "metadata": {},
   "outputs": [],
   "source": [
    "logrank_test(dfclus.loc[dfclus[\"AssignedType\"]==\"Connecting\"][\"EFS_day\"].astype(float).values,\n",
    "                         dfclus.loc[dfclus[\"AssignedType\"]==\"Bridge_SCP\"][\"EFS_day\"].astype(float).values,).p_value"
   ]
  },
  {
   "cell_type": "code",
   "execution_count": null,
   "metadata": {},
   "outputs": [],
   "source": [
    "logrank_test(dfclus.loc[dfclus[\"AssignedType\"]==\"NC_prog\"][\"EFS_day\"].astype(float).values,\n",
    "                         dfclus.loc[dfclus[\"AssignedType\"]==\"Bridge_SCP\"][\"EFS_day\"].astype(float).values,).p_value"
   ]
  },
  {
   "cell_type": "code",
   "execution_count": null,
   "metadata": {},
   "outputs": [],
   "source": [
    "from matplotlib import rc\n",
    "#from termcolor import colored\n",
    "\n",
    "ratio=0.30\n",
    "#ax=plt.figure(figsize=(15,50), facecolor='w')\n",
    "\n",
    "#kmf = KaplanMeierFitter(label=[\"Bridge_SCP\", \"preNeuroblast\", \"Connecting\",\"NC_prog\"])\n",
    "kmf = KaplanMeierFitter()\n",
    "kmf.fit(dfclus.loc[dfclus[\"AssignedType\"]==\"Diff_Mes\"][\"EFS_day\"].astype(float).values,label=\"Diff_Mes\", alpha=0.9)\n",
    "ax = kmf.plot(figsize=(7,7),color='#0000ff',lw=2)\n",
    "kmf = KaplanMeierFitter()\n",
    "kmf.fit(dfclus.loc[dfclus[\"AssignedType\"]==\"Bridge_SCP\"][\"EFS_day\"].astype(float).values,label=\"Bridge_SCP\", alpha=0.7)\n",
    "ax = kmf.plot(figsize=(7,7),color='#aab4aa',lw=2)\n",
    "\n",
    "kmf.fit( dfclus.loc[dfclus[\"AssignedType\"]==\"preNeuroblast\"][\"EFS_day\"].astype(float).values,label=\"preNeuroblast\",alpha=0.7)\n",
    "kmf.plot(ax=ax,color='#6464f0',lw=2)\n",
    "\n",
    "kmf.fit(  dfclus.loc[dfclus[\"AssignedType\"]==\"Connecting\"][\"EFS_day\"].astype(float).values,label=\"Connecting\",alpha=0.7)\n",
    "kmf.plot(ax=ax,color='#5fba46', lw=2)\n",
    "\n",
    "kmf.fit(  dfclus.loc[dfclus[\"AssignedType\"]==\"NC_prog\"][\"EFS_day\"].astype(float).values,label=\"NC_prog\",alpha=0.7)\n",
    "kmf.plot(ax=ax,color='#f97d05', lw=2)\n",
    "ax.legend(loc='lower left') \n",
    "ax.spines.right.set_visible(False)\n",
    "ax.spines.top.set_visible(False)\n",
    "plt.title(\"MYCNall_EFS\",fontsize=25)\n",
    "plt.grid(False)"
   ]
  },
  {
   "cell_type": "code",
   "execution_count": null,
   "metadata": {},
   "outputs": [],
   "source": []
  },
  {
   "cell_type": "code",
   "execution_count": null,
   "metadata": {},
   "outputs": [],
   "source": [
    "logrank_test(dfclus.loc[(dfclus[\"AssignedType\"]==\"Bridge_SCP\")&(dfclus[\"MYCNstatus\"]==0)][\"EFS_day\"].astype(float).values,\n",
    "                         dfclus.loc[(dfclus[\"AssignedType\"]==\"preNeuroblast\")&(dfclus[\"MYCNstatus\"]==0)][\"EFS_day\"].astype(float).values,).p_value"
   ]
  },
  {
   "cell_type": "code",
   "execution_count": null,
   "metadata": {},
   "outputs": [],
   "source": [
    "logrank_test(dfclus.loc[(dfclus[\"AssignedType\"]==\"Bridge_SCP\")&(dfclus[\"MYCNstatus\"]==0)][\"EFS_day\"].astype(float).values,\n",
    "                         dfclus.loc[(dfclus[\"AssignedType\"]==\"Connecting\")&(dfclus[\"MYCNstatus\"]==0)][\"EFS_day\"].astype(float).values,).p_value"
   ]
  },
  {
   "cell_type": "code",
   "execution_count": null,
   "metadata": {},
   "outputs": [],
   "source": [
    "logrank_test(dfclus.loc[(dfclus[\"AssignedType\"]==\"Bridge_SCP\")&(dfclus[\"MYCNstatus\"]==0)][\"EFS_day\"].astype(float).values,\n",
    "                         dfclus.loc[(dfclus[\"AssignedType\"]==\"Diff_Mes\")&(dfclus[\"MYCNstatus\"]==0)][\"EFS_day\"].astype(float).values,).p_value"
   ]
  },
  {
   "cell_type": "code",
   "execution_count": null,
   "metadata": {},
   "outputs": [],
   "source": []
  },
  {
   "cell_type": "code",
   "execution_count": null,
   "metadata": {},
   "outputs": [],
   "source": [
    "logrank_test(dfclus.loc[(dfclus[\"AssignedType\"]==\"preNeuroblast\")&(dfclus[\"MYCNstatus\"]==0)][\"EFS_day\"].astype(float).values,\n",
    "                         dfclus.loc[(dfclus[\"AssignedType\"]==\"Connecting\")&(dfclus[\"MYCNstatus\"]==0)][\"EFS_day\"].astype(float).values,).p_value"
   ]
  },
  {
   "cell_type": "code",
   "execution_count": null,
   "metadata": {},
   "outputs": [],
   "source": [
    "logrank_test(dfclus.loc[(dfclus[\"AssignedType\"]==\"Diff_Mes\")&(dfclus[\"MYCNstatus\"]==0)][\"EFS_day\"].astype(float).values,\n",
    "                         dfclus.loc[(dfclus[\"AssignedType\"]==\"Connecting\")&(dfclus[\"MYCNstatus\"]==0)][\"EFS_day\"].astype(float).values,).p_value"
   ]
  },
  {
   "cell_type": "code",
   "execution_count": null,
   "metadata": {},
   "outputs": [],
   "source": []
  },
  {
   "cell_type": "code",
   "execution_count": null,
   "metadata": {},
   "outputs": [],
   "source": [
    "logrank_test(dfclus.loc[(dfclus[\"AssignedType\"]==\"preNeuroblast\")&(dfclus[\"MYCNstatus\"]==0)][\"EFS_day\"].astype(float).values,\n",
    "                         dfclus.loc[(dfclus[\"AssignedType\"]==\"NC_prog\")&(dfclus[\"MYCNstatus\"]==0)][\"EFS_day\"].astype(float).values,).p_value"
   ]
  },
  {
   "cell_type": "code",
   "execution_count": null,
   "metadata": {},
   "outputs": [],
   "source": [
    "logrank_test(dfclus.loc[(dfclus[\"AssignedType\"]==\"Diff_Mes\")&(dfclus[\"MYCNstatus\"]==0)][\"EFS_day\"].astype(float).values,\n",
    "                         dfclus.loc[(dfclus[\"AssignedType\"]==\"NC_prog\")&(dfclus[\"MYCNstatus\"]==0)][\"EFS_day\"].astype(float).values,).p_value"
   ]
  },
  {
   "cell_type": "code",
   "execution_count": null,
   "metadata": {},
   "outputs": [],
   "source": [
    "logrank_test(dfclus.loc[(dfclus[\"AssignedType\"]==\"Connecting\")&(dfclus[\"MYCNstatus\"]==0)][\"EFS_day\"].astype(float).values,\n",
    "                         dfclus.loc[(dfclus[\"AssignedType\"]==\"NC_prog\")&(dfclus[\"MYCNstatus\"]==0)][\"EFS_day\"].astype(float).values,).p_value"
   ]
  },
  {
   "cell_type": "code",
   "execution_count": null,
   "metadata": {},
   "outputs": [],
   "source": [
    "from matplotlib import rc\n",
    "#from termcolor import colored\n",
    "\n",
    "ratio=0.30\n",
    "#ax=plt.figure(figsize=(15,50), facecolor='w')\n",
    "\n",
    "#kmf = KaplanMeierFitter(label=[\"Bridge_SCP\", \"preNeuroblast\", \"Connecting\",\"NC_prog\"])\n",
    "kmf = KaplanMeierFitter()\n",
    "kmf.fit(dfclus.loc[(dfclus[\"AssignedType\"]==\"Diff_Mes\")&(dfclus[\"MYCNstatus\"]==0)][\"EFS_day\"].astype(float).values,label=\"Diff_Mes\", alpha=0.7)\n",
    "ax = kmf.plot(figsize=(7,7),color='#0000ff',lw=2)\n",
    "kmf = KaplanMeierFitter()\n",
    "kmf.fit(dfclus.loc[(dfclus[\"AssignedType\"]==\"Bridge_SCP\")&(dfclus[\"MYCNstatus\"]==0)][\"EFS_day\"].astype(float).values,label=\"Bridge_SCP\", alpha=0.7)\n",
    "ax = kmf.plot(figsize=(7,7),color='#aab4aa',lw=2)\n",
    "\n",
    "kmf.fit(   dfclus.loc[(dfclus[\"AssignedType\"]==\"preNeuroblast\")&(dfclus[\"MYCNstatus\"]==0)][\"EFS_day\"].astype(float).values,label=\"preNeuroblast\",alpha=0.7)\n",
    "kmf.plot(ax=ax,color='#6464f0',lw=2)\n",
    "\n",
    "kmf.fit(   dfclus.loc[(dfclus[\"AssignedType\"]==\"Connecting\")&(dfclus[\"MYCNstatus\"]==0)][\"EFS_day\"].astype(float).values,label=\"Connecting\",alpha=0.7)\n",
    "kmf.plot(ax=ax,color='#5fba46', lw=2)\n",
    "\n",
    "kmf.fit(  dfclus.loc[(dfclus[\"AssignedType\"]==\"NC_prog\")&(dfclus[\"MYCNstatus\"]==0)][\"EFS_day\"].astype(float).values,label=\"NC_prog\",alpha=0.7)\n",
    "kmf.plot(ax=ax,color='#f97d05', lw=2)\n",
    "ax.legend(loc='lower left') \n",
    "ax.spines.right.set_visible(False)\n",
    "ax.spines.top.set_visible(False)\n",
    "plt.title(\"MYCNwt_EFS\",fontsize=25)\n",
    "plt.grid(False)"
   ]
  },
  {
   "cell_type": "code",
   "execution_count": null,
   "metadata": {},
   "outputs": [],
   "source": []
  },
  {
   "cell_type": "code",
   "execution_count": null,
   "metadata": {
    "scrolled": true
   },
   "outputs": [],
   "source": [
    "logrank_test(dfclus.loc[dfclus[\"AssignedType\"]==\"NC_prog\"][\"EFS_day\"].astype(float).values,\n",
    "                         dfclus.loc[dfclus[\"AssignedType\"]==\"preNeuroblast\"][\"EFS_day\"].astype(float).values,).p_value"
   ]
  },
  {
   "cell_type": "code",
   "execution_count": null,
   "metadata": {},
   "outputs": [],
   "source": [
    "logrank_test(dfclus.loc[dfclus[\"AssignedType\"]==\"NC_prog\"][\"EFS_day\"].astype(float).values,\n",
    "                         dfclus.loc[dfclus[\"AssignedType\"]==\"Connecting\"][\"EFS_day\"].astype(float).values,).p_value"
   ]
  },
  {
   "cell_type": "code",
   "execution_count": null,
   "metadata": {},
   "outputs": [],
   "source": [
    "scpdt"
   ]
  },
  {
   "cell_type": "code",
   "execution_count": null,
   "metadata": {},
   "outputs": [],
   "source": [
    "cd F:\\Dropbox\\data\\proj\\PE_HYZ\\PublicDataSet\\NBL_SZscRNA\\FinalDataset"
   ]
  },
  {
   "cell_type": "code",
   "execution_count": null,
   "metadata": {},
   "outputs": [],
   "source": [
    "scpdt.write(\"SEQC_bulkNBL_fit_szNBLscRNAseq.h5ad\")"
   ]
  },
  {
   "cell_type": "code",
   "execution_count": null,
   "metadata": {},
   "outputs": [],
   "source": []
  },
  {
   "cell_type": "code",
   "execution_count": null,
   "metadata": {
    "scrolled": true
   },
   "outputs": [],
   "source": [
    "cd F:\\Dropbox\\data\\proj\\PE_HYZ\\PublicDataSet\\NBL_GSE49711_GSE47792_SEQC"
   ]
  },
  {
   "cell_type": "code",
   "execution_count": null,
   "metadata": {},
   "outputs": [],
   "source": [
    "dfclus=pd.read_table(\"Patient_Info.txt\", index_col =0 ,header=0, sep=\"\\t\")\n",
    "dfclus.shape"
   ]
  },
  {
   "cell_type": "code",
   "execution_count": null,
   "metadata": {},
   "outputs": [],
   "source": [
    "dfclus"
   ]
  },
  {
   "cell_type": "code",
   "execution_count": null,
   "metadata": {},
   "outputs": [],
   "source": [
    "dfall=scpdt.obs"
   ]
  },
  {
   "cell_type": "code",
   "execution_count": null,
   "metadata": {
    "scrolled": false
   },
   "outputs": [],
   "source": [
    "dfall.head()"
   ]
  },
  {
   "cell_type": "code",
   "execution_count": null,
   "metadata": {},
   "outputs": [],
   "source": [
    "dfall[\"Cell_type\"]=dfall[\"AssignedType\"]"
   ]
  },
  {
   "cell_type": "code",
   "execution_count": null,
   "metadata": {},
   "outputs": [],
   "source": [
    "set(dfall[\"Cell_type\"])"
   ]
  },
  {
   "cell_type": "code",
   "execution_count": null,
   "metadata": {},
   "outputs": [],
   "source": []
  },
  {
   "cell_type": "code",
   "execution_count": null,
   "metadata": {
    "scrolled": true
   },
   "outputs": [],
   "source": [
    "cd f:\\Dropbox\\data\\proj\\PE_HYZ\\PublicDataSet\\NBL_GSE49711_GSE47792_SEQC"
   ]
  },
  {
   "cell_type": "code",
   "execution_count": null,
   "metadata": {},
   "outputs": [],
   "source": [
    "dfinfo=pd.read_table(\"Patient_Info.txt\",index_col=0,header=0,sep=\"\\t\")"
   ]
  },
  {
   "cell_type": "code",
   "execution_count": null,
   "metadata": {},
   "outputs": [],
   "source": [
    "dfinfo"
   ]
  },
  {
   "cell_type": "code",
   "execution_count": null,
   "metadata": {},
   "outputs": [],
   "source": [
    "dfinfo.shape"
   ]
  },
  {
   "cell_type": "code",
   "execution_count": null,
   "metadata": {},
   "outputs": [],
   "source": [
    "dfinfo.head()"
   ]
  },
  {
   "cell_type": "code",
   "execution_count": null,
   "metadata": {
    "scrolled": true
   },
   "outputs": [],
   "source": [
    "set(dfinfo[\"inss stage\"])"
   ]
  },
  {
   "cell_type": "code",
   "execution_count": null,
   "metadata": {
    "scrolled": true
   },
   "outputs": [],
   "source": [
    "dfall"
   ]
  },
  {
   "cell_type": "code",
   "execution_count": null,
   "metadata": {},
   "outputs": [],
   "source": [
    "df=dfall.sort_values([\"Cell_type\"])\n",
    "df.head()"
   ]
  },
  {
   "cell_type": "code",
   "execution_count": null,
   "metadata": {},
   "outputs": [],
   "source": [
    "dfinfo.columns"
   ]
  },
  {
   "cell_type": "code",
   "execution_count": null,
   "metadata": {},
   "outputs": [],
   "source": [
    "dfinfo2=dfinfo[[\n",
    "       '!Sample_characteristics_ch1.1',\n",
    "       'age at diagnosis', 'mycn status',  'inss stage', ]]"
   ]
  },
  {
   "cell_type": "code",
   "execution_count": null,
   "metadata": {},
   "outputs": [],
   "source": [
    "dfinfo.head()"
   ]
  },
  {
   "cell_type": "code",
   "execution_count": null,
   "metadata": {},
   "outputs": [],
   "source": [
    "dfall"
   ]
  },
  {
   "cell_type": "code",
   "execution_count": null,
   "metadata": {},
   "outputs": [],
   "source": [
    "df=dfall.iloc[:,:11]\n",
    "df"
   ]
  },
  {
   "cell_type": "code",
   "execution_count": null,
   "metadata": {},
   "outputs": [],
   "source": [
    "dfall=df.join(dfinfo2,how=\"inner\")\n",
    "dfall.shape"
   ]
  },
  {
   "cell_type": "code",
   "execution_count": null,
   "metadata": {},
   "outputs": [],
   "source": [
    "anolist=[]\n",
    "for item in dfall[\"mycn status\"]:\n",
    "    if item ==0:\n",
    "        anolist.append(\"No\")\n",
    "    elif item==1:\n",
    "        anolist.append(\"Yes\")\n",
    "    else:\n",
    "        anolist.append(\"No\")"
   ]
  },
  {
   "cell_type": "code",
   "execution_count": null,
   "metadata": {},
   "outputs": [],
   "source": [
    "set(anolist)"
   ]
  },
  {
   "cell_type": "code",
   "execution_count": null,
   "metadata": {},
   "outputs": [],
   "source": [
    "dfall[\"mycn status\"]=anolist"
   ]
  },
  {
   "cell_type": "code",
   "execution_count": null,
   "metadata": {},
   "outputs": [],
   "source": [
    "anolist=[]\n",
    "for item in dfall[\"inss stage\"]:\n",
    "    anolist.append(\"Stage_%s\"%item)"
   ]
  },
  {
   "cell_type": "code",
   "execution_count": null,
   "metadata": {},
   "outputs": [],
   "source": [
    "set(anolist)"
   ]
  },
  {
   "cell_type": "code",
   "execution_count": null,
   "metadata": {},
   "outputs": [],
   "source": [
    "dfall[\"inss stage\"]=anolist"
   ]
  },
  {
   "cell_type": "code",
   "execution_count": null,
   "metadata": {},
   "outputs": [],
   "source": [
    "dfclus"
   ]
  },
  {
   "cell_type": "code",
   "execution_count": null,
   "metadata": {
    "scrolled": true
   },
   "outputs": [],
   "source": [
    "set(dfclus[\"AssignedType\"])"
   ]
  },
  {
   "cell_type": "code",
   "execution_count": null,
   "metadata": {},
   "outputs": [],
   "source": [
    "dfall[\"Cell_type\"]=dfall[\"AssignedType\"]"
   ]
  },
  {
   "cell_type": "code",
   "execution_count": null,
   "metadata": {},
   "outputs": [],
   "source": [
    "dfall"
   ]
  },
  {
   "cell_type": "code",
   "execution_count": null,
   "metadata": {},
   "outputs": [],
   "source": [
    "dfall2=dfall"
   ]
  },
  {
   "cell_type": "code",
   "execution_count": null,
   "metadata": {},
   "outputs": [],
   "source": [
    "dfall2=(dfall.loc[dfall[\"Cell_type\"]=='NC_prog']).append(dfall.loc[dfall[\"Cell_type\"]=='Diff_Mes']).append(dfall.loc[dfall[\"Cell_type\"]=='Bridge_SCP']).append(dfall.loc[dfall[\"Cell_type\"]=='Connecting']).append(dfall.loc[dfall[\"Cell_type\"]=='preNeuroblast'])"
   ]
  },
  {
   "cell_type": "code",
   "execution_count": null,
   "metadata": {},
   "outputs": [],
   "source": [
    "color_dictw2 = pd.Series({\n",
    "                        'SCP':   (90,  10,  10), 'Chromaffin1': (25, 60,  130),\n",
    "                             'cycling':    (57, 105,   7),\n",
    "             'Sympath':    (170, 180, 170),'SCP':   (190,  10,  10),  'Chromaffin': (25, 60,  130),\n",
    "                             'cycling':    (57, 105,   7),\n",
    "             'sympathoblasts':    (170, 180, 170),\n",
    "                            'Diff_Glia': (235, 125,  128),  'Diff_Mes': (10,10,255),\n",
    "                          'Chromaffin':   (55, 55,  78), 'preNeuroblast':  (100, 100, 240),\n",
    "                           'Diff_Neuroblast':    (57, 105,   7),'preGlia': (175, 175,  28),\n",
    "            'Bridge_SCP':    (170, 180, 170), 'NC_prog':(249,125,5),\n",
    "                           'Connecting':    ( 95, 186,  70),  'Auto_prog':    (180, 140, 130),\n",
    "            'MS1_KI24':   (190,  10,  10),'MS2_KI09': (225, 160,  30),'MS3':   (217, 245,   7) ,\n",
    "            'MS4_KI09': (69,155,110)  ,'MS5':  (100, 100, 240),'MS6_KI17.05':  (190, 200, 190),'MS7_KI09':   ( 50, 180, 180),\n",
    "                  'MS8_KI16': ( 80, 235, 255),       'KI001':  (  10, 10, 250),'KI002': (215, 105,  30),'KI003':   ( 69,155,110) ,\n",
    "              'KI005':    (170, 180, 170),'KI006': (100,100, 165)  ,'KI007':    (180, 140, 130),\n",
    "              'KI008':  (100, 180, 240),'KI009': ( 80, 235, 255),'KI012':(190,  60,  10),\n",
    "              'KI013':(10, 120, 190),'KI014':(230, 10, 100),'KI015':  (120, 15,215),\n",
    "            'KI016':   (190,  10,  10),'KI017': (225, 160,  30),'KI020':   (217, 245,   7) ,\n",
    "            'KI021': (117, 245,   7) })"
   ]
  },
  {
   "cell_type": "code",
   "execution_count": null,
   "metadata": {
    "scrolled": false
   },
   "outputs": [],
   "source": [
    "color_dictw2 = color_dictw2.map(lambda x: list(map(lambda y: y/255., x)))"
   ]
  },
  {
   "cell_type": "code",
   "execution_count": null,
   "metadata": {},
   "outputs": [],
   "source": [
    "dfall2"
   ]
  },
  {
   "cell_type": "code",
   "execution_count": null,
   "metadata": {},
   "outputs": [],
   "source": [
    "dfall2=dfall2.sort_values([\"Cell_type\",\"mycn status\",\"inss stage\",\"!Sample_characteristics_ch1.1\",\"Age\",\"Risk\"])"
   ]
  },
  {
   "cell_type": "code",
   "execution_count": null,
   "metadata": {},
   "outputs": [],
   "source": [
    "#dfall2a=dfall2.loc[dfall2[\"Cell_type\"]==\"AdrSypm\"]\n",
    "#dfall2b=dfall2.loc[~dfall2.index.isin(dfall2a.index.tolist())]"
   ]
  },
  {
   "cell_type": "code",
   "execution_count": null,
   "metadata": {},
   "outputs": [],
   "source": [
    "#dfall2=dfall2b.append(dfall2a)"
   ]
  },
  {
   "cell_type": "code",
   "execution_count": null,
   "metadata": {
    "scrolled": true
   },
   "outputs": [],
   "source": [
    "dfall2"
   ]
  },
  {
   "cell_type": "code",
   "execution_count": null,
   "metadata": {},
   "outputs": [],
   "source": [
    "scpdt"
   ]
  },
  {
   "cell_type": "code",
   "execution_count": null,
   "metadata": {},
   "outputs": [],
   "source": [
    "dfall2"
   ]
  },
  {
   "cell_type": "code",
   "execution_count": null,
   "metadata": {},
   "outputs": [],
   "source": [
    "#dfall2=dfall2.join(dfinfo[\"!Sample_characteristics_ch1.1\"],how=\"inner\")\n",
    "#dfall2.shape"
   ]
  },
  {
   "cell_type": "code",
   "execution_count": null,
   "metadata": {},
   "outputs": [],
   "source": [
    "color_dictw = pd.Series({'Stage_ 4S': \"g\",'Stage_1' :  \"grey\", 'Stage_2' : \"skyblue\",'Stage_3':  \"royalblue\" ,\n",
    "              'Stage_4':  'red','Neural':'pink','No':\"grey\",'Yes':\"purple\",\n",
    "                        'AdrSypm':( 50, 180, 180),\n",
    "  'Mes':( 50, 20, 50),\n",
    " 'Glia':(255,0,0),\n",
    " 'Enteric':  ( 150, 80, 10),\n",
    " 'NC_prog':( 150, 60, 180),\n",
    " 'Sympa':( 50, 220, 20),\n",
    "                         'PN1_KI15.12.08.01':    (111,111,111),'PN2_KI15':    (180, 140, 130),\n",
    "             'NL1_KI15.12':  (120, 15,215),\n",
    "            'MS1_KI24':   (190,  10,  10),'MS2_KI09': (225, 160,  30),'MS3':   (217, 245,   7) ,\n",
    "            'MS4_KI09': (69,155,110)  ,'MS5':  (100, 100, 240),'MS6_KI17.05':  (190, 200, 190),'MS7_KI09':   ( 50, 180, 180),\n",
    "                  'MS8_KI16': ( 80, 235, 255),       'KI001':  (  10, 10, 250),'KI002': (215, 105,  30),'KI003':   ( 69,155,110) ,\n",
    "              'KI005':    (170, 180, 170),'KI006': (100,100, 165)  ,'KI007':    (180, 140, 130),\n",
    "              'KI008':  (100, 180, 240),'KI009': ( 80, 235, 255),'KI012':(190,  60,  10),\n",
    "              'KI013':(10, 120, 190),'KI014':(230, 10, 100),'KI015':  (120, 15,215),\n",
    "            'KI016':   (190,  10,  10),'KI017': (225, 160,  30),'KI020':   (217, 245,   7) ,\n",
    "            'KI021': (117, 245,   7)  ,'Sex: M':  \"blue\",'Sex: F':  \"red\"})\n",
    "\n",
    "#color_dictw = color_dictw.map(lambda x: list(map(lambda y: y/255., x)))\n",
    "colordict=[]\n",
    "for item in dfall2[\"Cell_type\"]:\n",
    "    colordict.append(color_dictw2[item])\n",
    "colordictpatient=[]\n",
    "for item in dfall2[\"!Sample_characteristics_ch1.1\"]:\n",
    "    colordictpatient.append(color_dictw[item])\n",
    "colordictsubt=[]\n",
    "for item in dfall2[\"inss stage\"]:\n",
    "    colordictsubt.append(color_dictw[item])\n",
    "colordictmycn=[]\n",
    "for item in dfall2[\"mycn status\"]:\n",
    "    colordictmycn.append(color_dictw[item])\n",
    "    \n",
    "colordictage=[]\n",
    "for item in dfall2[\"Age\"]:\n",
    "    if item> 548:\n",
    "        colordictage.append(\"#DCDCDC\")\n",
    "    else:\n",
    "        colordictage.append(\"r\")\n",
    "\n",
    "colordictrisk=[]\n",
    "for item in dfall2[\"Risk\"]:\n",
    "    if item==0:\n",
    "        colordictrisk.append(\"#DCDCDC\")\n",
    "    else:\n",
    "        colordictrisk.append(\"r\")\n",
    "        \n",
    "colordictOSBIN=[]\n",
    "for item in dfall2[\"OSbin\"]:\n",
    "    if item==0:\n",
    "        colordictOSBIN.append(\"#DCDCDC\")\n",
    "    else:\n",
    "        colordictOSBIN.append(\"r\")\n",
    "        \n",
    "colordictEFSBIN=[]\n",
    "for item in dfall2[\"EFSbin\"]:\n",
    "    if item==0:\n",
    "        colordictEFSBIN.append(\"#DCDCDC\")\n",
    "    else:\n",
    "        colordictEFSBIN.append(\"r\")"
   ]
  },
  {
   "cell_type": "code",
   "execution_count": null,
   "metadata": {},
   "outputs": [],
   "source": [
    "dfmutn=dfall2.T"
   ]
  },
  {
   "cell_type": "code",
   "execution_count": null,
   "metadata": {},
   "outputs": [],
   "source": [
    "dfmutn"
   ]
  },
  {
   "cell_type": "code",
   "execution_count": null,
   "metadata": {
    "scrolled": false
   },
   "outputs": [],
   "source": [
    "fig = plt.figure(figsize=(20,9))\n",
    "plt.axis(\"off\")\n",
    "#plt.bar(x, y,  width=0.95,alpha=0.4, color=\"white\")\n",
    "plt.grid(False)\n",
    "#plt.axvline( 0.218, c='R', alpha=0.8,  lw=2)\n",
    "\n",
    "ax=fig.add_subplot(7,1,1)\n",
    "colorpatient = pd.Series(\n",
    "    [1]*len(dfmutn.columns),\n",
    "    index = dfmutn.columns.tolist()\n",
    ")\n",
    "   \n",
    "\n",
    "colorpatient.plot(kind='bar',color=colordict,width=1,)\n",
    "\n",
    "ax.grid(False)\n",
    "ax.spines['right'].set_visible(False)\n",
    "ax.spines['left'].set_visible(False)\n",
    "ax.spines['top'].set_visible(False)\n",
    "plt.ylabel(\"Cell_type\",fontsize=12,rotation=90)\n",
    "plt.xticks([], [],rotation=0)\n",
    "plt.yticks([], [],rotation=90)\n",
    "\n",
    "ax=fig.add_subplot(7,1,2)\n",
    "colorpatient = pd.Series(\n",
    "    [1]*len(dfmutn.columns),\n",
    "    index = dfmutn.columns.tolist()\n",
    ")\n",
    "colorpatient.plot(kind='bar',color=colordictmycn,width=1,)\n",
    "\n",
    "ax.grid(False)\n",
    "ax.spines['right'].set_visible(False)\n",
    "ax.spines['left'].set_visible(False)\n",
    "ax.spines['top'].set_visible(False)\n",
    "plt.ylabel(\"MYCN_status\",fontsize=10,rotation=90)\n",
    "plt.xticks([], [],rotation=0)\n",
    "plt.yticks([], [],rotation=90)\n",
    "\n",
    "ax=fig.add_subplot(7,1,3)\n",
    "colorpatient = pd.Series(\n",
    "    [1]*len(dfmutn.columns),\n",
    "    index = dfmutn.columns.tolist()\n",
    ")\n",
    "colorpatient.plot(kind='bar',color=colordictpatient,width=1,)\n",
    "\n",
    "ax.grid(False)\n",
    "ax.spines['right'].set_visible(False)\n",
    "ax.spines['left'].set_visible(False)\n",
    "ax.spines['top'].set_visible(False)\n",
    "plt.ylabel(\"Gender\",fontsize=12,rotation=90)\n",
    "plt.xticks([], [],rotation=0)\n",
    "plt.yticks([], [],rotation=90)\n",
    "\n",
    "ax=fig.add_subplot(7,1,4)\n",
    "colorpatient = pd.Series(\n",
    "    [1]*len(dfmutn.columns),\n",
    "    index = dfmutn.columns.tolist()\n",
    ")\n",
    "colorpatient.plot(kind='bar',color=colordictsubt,width=1,)\n",
    "\n",
    "ax.grid(False)\n",
    "ax.spines['right'].set_visible(False)\n",
    "ax.spines['left'].set_visible(False)\n",
    "ax.spines['top'].set_visible(False)\n",
    "plt.ylabel(\"Stage\",fontsize=12,rotation=90)\n",
    "plt.xticks([], [],rotation=0)\n",
    "plt.yticks([], [],rotation=90)\n",
    "\n",
    "#ax=fig.add_subplot(8,1,5)\n",
    "#colorpatient = pd.Series(\n",
    " #   [1]*len(dfmutn.columns),\n",
    "  #  index = dfmutn.columns.tolist())\n",
    "#colorpatient.plot(kind='bar',color=colordictage,width=1,)\n",
    "\n",
    "\n",
    "#ax.grid(False)\n",
    "#ax.spines['right'].set_visible(False)\n",
    "#ax.spines['left'].set_visible(False)\n",
    "#ax.spines['top'].set_visible(False)\n",
    "#plt.ylabel(\"Age\",fontsize=12,rotation=90)\n",
    "#plt.xticks([], [],rotation=0)\n",
    "#plt.yticks([], [],rotation=90)\n",
    "\n",
    "ax=fig.add_subplot(7,1,5)\n",
    "colorpatient = pd.Series(\n",
    "    [1]*len(dfmutn.columns),\n",
    "    index = dfmutn.columns.tolist()\n",
    ")\n",
    "colorpatient.plot(kind='bar',color=colordictrisk,width=1,)\n",
    "\n",
    "\n",
    "ax.grid(False)\n",
    "ax.spines['right'].set_visible(False)\n",
    "ax.spines['left'].set_visible(False)\n",
    "ax.spines['top'].set_visible(False)\n",
    "plt.ylabel(\"Risk\",fontsize=12,rotation=90)\n",
    "plt.xticks([], [],rotation=0)\n",
    "plt.yticks([], [],rotation=90)\n",
    "\n",
    "\n",
    "ax=fig.add_subplot(7,1,6)\n",
    "colorpatient = pd.Series(\n",
    "    [1]*len(dfmutn.columns),\n",
    "    index = dfmutn.columns.tolist()\n",
    ")\n",
    "colorpatient.plot(kind='bar',color=colordictOSBIN,width=1,)\n",
    "\n",
    "\n",
    "ax.grid(False)\n",
    "ax.spines['right'].set_visible(False)\n",
    "ax.spines['left'].set_visible(False)\n",
    "ax.spines['top'].set_visible(False)\n",
    "plt.ylabel(\"OS_bin\",fontsize=12,rotation=90)\n",
    "plt.xticks([], [],rotation=0)\n",
    "plt.yticks([], [],rotation=90)\n",
    "\n",
    "\n",
    "ax=fig.add_subplot(7,1,7)\n",
    "colorpatient = pd.Series(\n",
    "    [1]*len(dfmutn.columns),\n",
    "    index = dfmutn.columns.tolist()\n",
    ")\n",
    "colorpatient.plot(kind='bar',color=colordictEFSBIN,width=1,)\n",
    "\n",
    "\n",
    "ax.grid(False)\n",
    "ax.spines['right'].set_visible(False)\n",
    "ax.spines['left'].set_visible(False)\n",
    "ax.spines['top'].set_visible(False)\n",
    "plt.ylabel(\"EFS_bin\",fontsize=12,rotation=90)\n",
    "plt.xticks([], [],rotation=0)\n",
    "plt.yticks([], [],rotation=90)\n"
   ]
  },
  {
   "cell_type": "code",
   "execution_count": null,
   "metadata": {},
   "outputs": [],
   "source": []
  },
  {
   "cell_type": "code",
   "execution_count": null,
   "metadata": {
    "scrolled": false
   },
   "outputs": [],
   "source": [
    "fig = plt.figure(figsize=(20,9))\n",
    "plt.axis(\"off\")\n",
    "#plt.bar(x, y,  width=0.95,alpha=0.4, color=\"white\")\n",
    "plt.grid(False)\n",
    "#plt.axvline( 0.218, c='R', alpha=0.8,  lw=2)\n",
    "\n",
    "ax=fig.add_subplot(7,1,1)\n",
    "colorpatient = pd.Series(\n",
    "    [1]*len(dfmutn.columns),\n",
    "    index = dfmutn.columns.tolist()\n",
    ")\n",
    "   \n",
    "\n",
    "colorpatient.plot(kind='bar',color=colordict,width=1,)\n",
    "\n",
    "ax.grid(False)\n",
    "ax.spines['right'].set_visible(False)\n",
    "ax.spines['left'].set_visible(False)\n",
    "ax.spines['top'].set_visible(False)\n",
    "plt.ylabel(\"Cell_type\",fontsize=12,rotation=90)\n",
    "plt.xticks([], [],rotation=0)\n",
    "plt.yticks([], [],rotation=90)\n",
    "\n",
    "ax=fig.add_subplot(7,1,2)\n",
    "colorpatient = pd.Series(\n",
    "    [1]*len(dfmutn.columns),\n",
    "    index = dfmutn.columns.tolist()\n",
    ")\n",
    "colorpatient.plot(kind='bar',color=colordictmycn,width=1,)\n",
    "\n",
    "ax.grid(False)\n",
    "ax.spines['right'].set_visible(False)\n",
    "ax.spines['left'].set_visible(False)\n",
    "ax.spines['top'].set_visible(False)\n",
    "plt.ylabel(\"MYCN_status\",fontsize=10,rotation=90)\n",
    "plt.xticks([], [],rotation=0)\n",
    "plt.yticks([], [],rotation=90)\n",
    "\n",
    "ax=fig.add_subplot(7,1,3)\n",
    "colorpatient = pd.Series(\n",
    "    [1]*len(dfmutn.columns),\n",
    "    index = dfmutn.columns.tolist()\n",
    ")\n",
    "colorpatient.plot(kind='bar',color=colordictpatient,width=1,)\n",
    "\n",
    "ax.grid(False)\n",
    "ax.spines['right'].set_visible(False)\n",
    "ax.spines['left'].set_visible(False)\n",
    "ax.spines['top'].set_visible(False)\n",
    "plt.ylabel(\"Gender\",fontsize=12,rotation=90)\n",
    "plt.xticks([], [],rotation=0)\n",
    "plt.yticks([], [],rotation=90)\n",
    "\n",
    "ax=fig.add_subplot(7,1,4)\n",
    "colorpatient = pd.Series(\n",
    "    [1]*len(dfmutn.columns),\n",
    "    index = dfmutn.columns.tolist()\n",
    ")\n",
    "colorpatient.plot(kind='bar',color=colordictsubt,width=1,)\n",
    "\n",
    "ax.grid(False)\n",
    "ax.spines['right'].set_visible(False)\n",
    "ax.spines['left'].set_visible(False)\n",
    "ax.spines['top'].set_visible(False)\n",
    "plt.ylabel(\"Stage\",fontsize=12,rotation=90)\n",
    "plt.xticks([], [],rotation=0)\n",
    "plt.yticks([], [],rotation=90)\n",
    "\n",
    "#ax=fig.add_subplot(8,1,5)\n",
    "#colorpatient = pd.Series(\n",
    " #   [1]*len(dfmutn.columns),\n",
    "  #  index = dfmutn.columns.tolist())\n",
    "#colorpatient.plot(kind='bar',color=colordictage,width=1,)\n",
    "\n",
    "\n",
    "#ax.grid(False)\n",
    "#ax.spines['right'].set_visible(False)\n",
    "#ax.spines['left'].set_visible(False)\n",
    "#ax.spines['top'].set_visible(False)\n",
    "#plt.ylabel(\"Age\",fontsize=12,rotation=90)\n",
    "#plt.xticks([], [],rotation=0)\n",
    "#plt.yticks([], [],rotation=90)\n",
    "\n",
    "ax=fig.add_subplot(7,1,5)\n",
    "colorpatient = pd.Series(\n",
    "    [1]*len(dfmutn.columns),\n",
    "    index = dfmutn.columns.tolist()\n",
    ")\n",
    "colorpatient.plot(kind='bar',color=colordictrisk,width=1,)\n",
    "\n",
    "\n",
    "ax.grid(False)\n",
    "ax.spines['right'].set_visible(False)\n",
    "ax.spines['left'].set_visible(False)\n",
    "ax.spines['top'].set_visible(False)\n",
    "plt.ylabel(\"Risk\",fontsize=12,rotation=90)\n",
    "plt.xticks([], [],rotation=0)\n",
    "plt.yticks([], [],rotation=90)\n",
    "\n",
    "\n",
    "ax=fig.add_subplot(7,1,6)\n",
    "colorpatient = pd.Series(\n",
    "    [1]*len(dfmutn.columns),\n",
    "    index = dfmutn.columns.tolist()\n",
    ")\n",
    "colorpatient.plot(kind='bar',color=colordictOSBIN,width=1,)\n",
    "\n",
    "\n",
    "ax.grid(False)\n",
    "ax.spines['right'].set_visible(False)\n",
    "ax.spines['left'].set_visible(False)\n",
    "ax.spines['top'].set_visible(False)\n",
    "plt.ylabel(\"OS_bin\",fontsize=12,rotation=90)\n",
    "plt.xticks([], [],rotation=0)\n",
    "plt.yticks([], [],rotation=90)\n",
    "\n",
    "\n",
    "ax=fig.add_subplot(7,1,7)\n",
    "colorpatient = pd.Series(\n",
    "    [1]*len(dfmutn.columns),\n",
    "    index = dfmutn.columns.tolist()\n",
    ")\n",
    "colorpatient.plot(kind='bar',color=colordictEFSBIN,width=1,)\n",
    "\n",
    "\n",
    "ax.grid(False)\n",
    "ax.spines['right'].set_visible(False)\n",
    "ax.spines['left'].set_visible(False)\n",
    "ax.spines['top'].set_visible(False)\n",
    "plt.ylabel(\"EFS_bin\",fontsize=12,rotation=90)\n",
    "plt.xticks([], [],rotation=0)\n",
    "plt.yticks([], [],rotation=90)\n"
   ]
  },
  {
   "cell_type": "code",
   "execution_count": null,
   "metadata": {},
   "outputs": [],
   "source": []
  },
  {
   "cell_type": "code",
   "execution_count": null,
   "metadata": {},
   "outputs": [],
   "source": [
    "    def autopct_format(values):\n",
    "        def my_format(pct):\n",
    "            total = sum(values)\n",
    "            val = int(round(pct*total/100.0))\n",
    "            return '{:.1f}%'.format(pct)\n",
    "        return my_format"
   ]
  },
  {
   "cell_type": "code",
   "execution_count": null,
   "metadata": {
    "scrolled": true
   },
   "outputs": [],
   "source": [
    "dfall2"
   ]
  },
  {
   "cell_type": "code",
   "execution_count": null,
   "metadata": {},
   "outputs": [],
   "source": [
    "dfstage=dfall2.groupby([\"Cell_type\",\"inss stage\"]).count()/dfall2.groupby([\"Cell_type\"]).count()"
   ]
  },
  {
   "cell_type": "code",
   "execution_count": null,
   "metadata": {
    "scrolled": false
   },
   "outputs": [],
   "source": [
    "dfstage.loc[\"Bridge_SCP\",\"inss stage\"].index.values.tolist()"
   ]
  },
  {
   "cell_type": "code",
   "execution_count": null,
   "metadata": {},
   "outputs": [],
   "source": [
    "dfstage"
   ]
  },
  {
   "cell_type": "code",
   "execution_count": null,
   "metadata": {},
   "outputs": [],
   "source": [
    "dfstage.loc[\"Bridge_SCP\",'Age'].astype(str).values"
   ]
  },
  {
   "cell_type": "code",
   "execution_count": null,
   "metadata": {},
   "outputs": [],
   "source": []
  },
  {
   "cell_type": "code",
   "execution_count": null,
   "metadata": {},
   "outputs": [],
   "source": [
    "fig = plt.figure(figsize=(14,7))\n",
    "plt.axis(\"off\")\n",
    "#plt.bar(x, y,  width=0.95,alpha=0.4, color=\"white\")\n",
    "plt.grid(False)\n",
    "#plt.axvline( 0.218, c='R', alpha=0.8,  lw=2)\n",
    "\n",
    "ax=fig.add_subplot(2,3,1)\n",
    "plt.pie(dfstage.loc[\"Bridge_SCP\",'Age'],labels=dfstage.loc[\"Bridge_SCP\",\"inss stage\"].index.values.tolist(),\n",
    "        autopct=autopct_format(dfstage.loc[\"Bridge_SCP\",'Age']),\n",
    "        colors=[\"g\",\"grey\", \"skyblue\", \"royalblue\", 'red'])\n",
    "plt.title(\"Bridge_SCP\")\n",
    "ax=fig.add_subplot(2,3,2)\n",
    "plt.pie(dfstage.loc[\"Connecting\",'Age'],labels=dfstage.loc[\"Connecting\",\"inss stage\"].index.values.tolist(),\n",
    "         autopct=autopct_format(dfstage.loc[\"Connecting\",'Age']),\n",
    "        colors=[\"g\",\"grey\", \"skyblue\", \"royalblue\", 'red'])\n",
    "plt.title(\"Connecting\")\n",
    "ax=fig.add_subplot(2,3,3)\n",
    "plt.pie(dfstage.loc[\"NC_prog\",'Age'],labels=dfstage.loc[\"NC_prog\",\"inss stage\"].index.values.tolist(),\n",
    "        autopct=autopct_format(dfstage.loc[\"NC_prog\",'Age']),\n",
    "        colors=[\"g\",\"grey\", \"skyblue\", \"royalblue\", 'red'])\n",
    "plt.title(\"NC_prog\")\n",
    "ax=fig.add_subplot(2,3,4)\n",
    "plt.pie(dfstage.loc[\"preNeuroblast\",'Age'],labels=dfstage.loc[\"preNeuroblast\",\"inss stage\"].index.values.tolist(),\n",
    "         autopct=autopct_format(dfstage.loc[\"preNeuroblast\",'Age']),\n",
    "        colors=[\"g\",\"grey\", \"skyblue\", \"royalblue\", 'red'])\n",
    "plt.title(\"preNeuroblast\")\n",
    "ax=fig.add_subplot(2,3,5)\n",
    "plt.pie(dfstage.loc[\"Diff_Mes\",'Age'],labels=dfstage.loc[\"Diff_Mes\",\"inss stage\"].index.values.tolist(),\n",
    "         autopct=autopct_format(dfstage.loc[\"Diff_Mes\",'Age']),\n",
    "        colors=[\"g\",\"grey\", \"skyblue\", \"royalblue\", 'red'])\n",
    "plt.title(\"Diff_Mes\")"
   ]
  },
  {
   "cell_type": "code",
   "execution_count": null,
   "metadata": {},
   "outputs": [],
   "source": [
    "fig = plt.figure(figsize=(14,7))\n",
    "plt.axis(\"off\")\n",
    "#plt.bar(x, y,  width=0.95,alpha=0.4, color=\"white\")\n",
    "plt.grid(False)\n",
    "#plt.axvline( 0.218, c='R', alpha=0.8,  lw=2)\n",
    "\n",
    "ax=fig.add_subplot(2,3,1)\n",
    "plt.pie(dfstage.loc[\"Bridge_SCP\",'Age'],labels=dfstage.loc[\"Bridge_SCP\",\"inss stage\"].index.values.tolist(),\n",
    "        autopct=autopct_format(dfstage.loc[\"Bridge_SCP\",'Age']),\n",
    "        colors=[\"g\",\"grey\", \"skyblue\", \"royalblue\", 'red'])\n",
    "plt.title(\"Bridge_SCP\")\n",
    "ax=fig.add_subplot(2,3,2)\n",
    "plt.pie(dfstage.loc[\"Connecting\",'Age'],labels=dfstage.loc[\"Connecting\",\"inss stage\"].index.values.tolist(),\n",
    "         autopct=autopct_format(dfstage.loc[\"Connecting\",'Age']),\n",
    "        colors=[\"g\",\"grey\", \"skyblue\", \"royalblue\", 'red'])\n",
    "plt.title(\"Connecting\")\n",
    "ax=fig.add_subplot(2,3,3)\n",
    "plt.pie(dfstage.loc[\"NC_prog\",'Age'],labels=dfstage.loc[\"NC_prog\",\"inss stage\"].index.values.tolist(),\n",
    "        autopct=autopct_format(dfstage.loc[\"NC_prog\",'Age']),\n",
    "        colors=[\"g\",\"grey\", \"skyblue\", \"royalblue\", 'red'])\n",
    "plt.title(\"NC_prog\")\n",
    "ax=fig.add_subplot(2,3,4)\n",
    "plt.pie(dfstage.loc[\"preNeuroblast\",'Age'],labels=dfstage.loc[\"preNeuroblast\",\"inss stage\"].index.values.tolist(),\n",
    "         autopct=autopct_format(dfstage.loc[\"preNeuroblast\",'Age']),\n",
    "        colors=[\"g\",\"grey\", \"skyblue\", \"royalblue\", 'red'])\n",
    "plt.title(\"preNeuroblast\")\n",
    "ax=fig.add_subplot(2,3,5)\n",
    "plt.pie(dfstage.loc[\"Diff_Mes\",'Age'],labels=dfstage.loc[\"Diff_Mes\",\"inss stage\"].index.values.tolist(),\n",
    "         autopct=autopct_format(dfstage.loc[\"Diff_Mes\",'Age']),\n",
    "        colors=[\"g\",\"grey\", \"skyblue\", \"royalblue\", 'red'])\n",
    "plt.title(\"Diff_Mes\")"
   ]
  },
  {
   "cell_type": "code",
   "execution_count": null,
   "metadata": {
    "scrolled": true
   },
   "outputs": [],
   "source": [
    "dfall2"
   ]
  },
  {
   "cell_type": "code",
   "execution_count": null,
   "metadata": {},
   "outputs": [],
   "source": [
    "dfstage=dfall2.groupby([\"Cell_type\",\"mycn status\"]).count()/dfall2.groupby([\"Cell_type\"]).count()"
   ]
  },
  {
   "cell_type": "code",
   "execution_count": null,
   "metadata": {
    "scrolled": false
   },
   "outputs": [],
   "source": [
    "dfstage.loc[\"Bridge_SCP\",\"mycn status\"].index.values.tolist()"
   ]
  },
  {
   "cell_type": "code",
   "execution_count": null,
   "metadata": {},
   "outputs": [],
   "source": [
    "fig = plt.figure(figsize=(8,7))\n",
    "plt.axis(\"off\")\n",
    "#plt.bar(x, y,  width=0.95,alpha=0.4, color=\"white\")\n",
    "plt.grid(False)\n",
    "#plt.axvline( 0.218, c='R', alpha=0.8,  lw=2)\n",
    "\n",
    "ax=fig.add_subplot(2,3,1)\n",
    "plt.pie(dfstage.loc[\"Bridge_SCP\",'Age'],\n",
    "         autopct=autopct_format(dfstage.loc[\"Bridge_SCP\",'Age']),\n",
    "        colors=[\"grey\",\"purple\"])\n",
    "        #labels=dfstage.loc[\"Bridge_SCP\",\"inss stage\"].index.values.tolist(),colors=[\"g\",\"grey\", \"skyblue\", \"royalblue\", 'red'])\n",
    "plt.title(\"Bridge_SCP\")\n",
    "ax=fig.add_subplot(2,3,2)\n",
    "plt.pie(dfstage.loc[\"Connecting\",'Age'],\n",
    "        autopct=autopct_format(dfstage.loc[\"Connecting\",'Age']),\n",
    "        colors=[\"grey\",\"purple\"])\n",
    "        #,labels=dfstage.loc[\"Connecting\",\"inss stage\"].index.values.tolist(),colors=[\"g\",\"grey\", \"skyblue\", \"royalblue\", 'red'])\n",
    "plt.title(\"Connecting\")\n",
    "ax=fig.add_subplot(2,3,3)\n",
    "plt.pie(dfstage.loc[\"NC_prog\",'Age'],\n",
    "        autopct=autopct_format(dfstage.loc[\"NC_prog\",'Age']),\n",
    "        colors=[\"grey\",\"purple\"])\n",
    "      #  ,labels=dfstage.loc[\"NC_prog\",\"inss stage\"].index.values.tolist(),colors=[\"g\",\"grey\", \"skyblue\", \"royalblue\", 'red'])\n",
    "plt.title(\"NC_prog\")\n",
    "ax=fig.add_subplot(2,3,4)\n",
    "plt.pie(dfstage.loc[\"preNeuroblast\",'Age'],\n",
    "        autopct=autopct_format(dfstage.loc[\"preNeuroblast\",'Age']),\n",
    "        colors=[\"grey\",\"purple\"])\n",
    "        #,labels=dfstage.loc[\"preNeuroblast\",\"inss stage\"].index.values.tolist(),colors=[\"g\",\"grey\", \"skyblue\", \"royalblue\", 'red'])\n",
    "plt.title(\"preNeuroblast\")\n",
    "ax=fig.add_subplot(2,3,5)\n",
    "plt.pie(dfstage.loc[\"Diff_Mes\",'Age'],\n",
    "        autopct=autopct_format(dfstage.loc[\"Diff_Mes\",'Age']),\n",
    "        colors=[\"grey\",\"purple\"])\n",
    "        #,labels=dfstage.loc[\"preNeuroblast\",\"inss stage\"].index.values.tolist(),colors=[\"g\",\"grey\", \"skyblue\", \"royalblue\", 'red'])\n",
    "plt.title(\"Diff_Mes\")"
   ]
  },
  {
   "cell_type": "code",
   "execution_count": null,
   "metadata": {},
   "outputs": [],
   "source": []
  },
  {
   "cell_type": "code",
   "execution_count": null,
   "metadata": {
    "scrolled": true
   },
   "outputs": [],
   "source": [
    "dfall2"
   ]
  },
  {
   "cell_type": "code",
   "execution_count": null,
   "metadata": {},
   "outputs": [],
   "source": [
    "dfstage=dfall2.groupby([\"Cell_type\",\"!Sample_characteristics_ch1.1\"]).count()/dfall2.groupby([\"Cell_type\"]).count()"
   ]
  },
  {
   "cell_type": "code",
   "execution_count": null,
   "metadata": {
    "scrolled": true
   },
   "outputs": [],
   "source": [
    "dfstage.loc[\"Bridge_SCP\",\"!Sample_characteristics_ch1.1\"].index.values.tolist()"
   ]
  },
  {
   "cell_type": "code",
   "execution_count": null,
   "metadata": {},
   "outputs": [],
   "source": [
    "dfstage"
   ]
  },
  {
   "cell_type": "code",
   "execution_count": null,
   "metadata": {},
   "outputs": [],
   "source": [
    "fig = plt.figure(figsize=(8,7))\n",
    "plt.axis(\"off\")\n",
    "#plt.bar(x, y,  width=0.95,alpha=0.4, color=\"white\")\n",
    "plt.grid(False)\n",
    "#plt.axvline( 0.218, c='R', alpha=0.8,  lw=2)\n",
    "\n",
    "ax=fig.add_subplot(2,3,1)\n",
    "plt.pie(dfstage.loc[\"Bridge_SCP\",'Age'],\n",
    "             autopct=autopct_format(dfstage.loc[\"Bridge_SCP\",'Age']),\n",
    "        colors=[\"b\",\"r\"])\n",
    "        #labels=dfstage.loc[\"Bridge_SCP\",\"inss stage\"].index.values.tolist(),colors=[\"g\",\"grey\", \"skyblue\", \"royalblue\", 'red'])\n",
    "plt.title(\"Bridge_SCP\")\n",
    "ax=fig.add_subplot(2,3,2)\n",
    "plt.pie(dfstage.loc[\"Connecting\",'Age'],\n",
    "        autopct=autopct_format(dfstage.loc[\"Connecting\",'Age']),\n",
    "        colors=[\"b\",\"r\"])\n",
    "        #,labels=dfstage.loc[\"Connecting\",\"inss stage\"].index.values.tolist(),colors=[\"g\",\"grey\", \"skyblue\", \"royalblue\", 'red'])\n",
    "plt.title(\"Connecting\")\n",
    "ax=fig.add_subplot(2,3,3)\n",
    "plt.pie(dfstage.loc[\"NC_prog\",'Age'],\n",
    "        autopct=autopct_format(dfstage.loc[\"NC_prog\",'Age']),\n",
    "        colors=[\"b\",\"r\"])\n",
    "      #  ,labels=dfstage.loc[\"NC_prog\",\"inss stage\"].index.values.tolist(),colors=[\"g\",\"grey\", \"skyblue\", \"royalblue\", 'red'])\n",
    "plt.title(\"NC_prog\")\n",
    "ax=fig.add_subplot(2,3,4)\n",
    "plt.pie(dfstage.loc[\"preNeuroblast\",'Age'],\n",
    "         autopct=autopct_format(dfstage.loc[\"preNeuroblast\",'Age']),\n",
    "        colors=[\"b\",\"r\"])\n",
    "        #,labels=dfstage.loc[\"preNeuroblast\",\"inss stage\"].index.values.tolist(),colors=[\"g\",\"grey\", \"skyblue\", \"royalblue\", 'red'])\n",
    "plt.title(\"preNeuroblast\")\n",
    "ax=fig.add_subplot(2,3,5)\n",
    "plt.pie(dfstage.loc[\"Diff_Mes\",'Age'],\n",
    "        autopct=autopct_format(dfstage.loc[\"Diff_Mes\",'Age']),\n",
    "        colors=[\"b\",\"r\"])\n",
    "        #,labels=dfstage.loc[\"preNeuroblast\",\"inss stage\"].index.values.tolist(),colors=[\"g\",\"grey\", \"skyblue\", \"royalblue\", 'red'])\n",
    "plt.title(\"Diff_Mes\")"
   ]
  },
  {
   "cell_type": "code",
   "execution_count": null,
   "metadata": {},
   "outputs": [],
   "source": []
  },
  {
   "cell_type": "code",
   "execution_count": null,
   "metadata": {
    "scrolled": false
   },
   "outputs": [],
   "source": [
    "dfall2.head()"
   ]
  },
  {
   "cell_type": "code",
   "execution_count": null,
   "metadata": {},
   "outputs": [],
   "source": [
    "dfstage"
   ]
  },
  {
   "cell_type": "code",
   "execution_count": null,
   "metadata": {},
   "outputs": [],
   "source": [
    "dfstage=dfall2.groupby([\"Cell_type\",\"Risk\"]).count()/dfall2.groupby([\"Cell_type\"]).count()"
   ]
  },
  {
   "cell_type": "code",
   "execution_count": null,
   "metadata": {
    "scrolled": true
   },
   "outputs": [],
   "source": [
    "dfstage.loc[\"Bridge_SCP\",\"Risk\"].index.values.tolist()"
   ]
  },
  {
   "cell_type": "code",
   "execution_count": null,
   "metadata": {},
   "outputs": [],
   "source": [
    "fig = plt.figure(figsize=(8,7))\n",
    "#plt.title(\"Risk\",fontsize=25)\n",
    "plt.axis(\"off\")\n",
    "#plt.bar(x, y,  width=0.95,alpha=0.4, color=\"white\")\n",
    "plt.grid(False)\n",
    "#plt.axvline( 0.218, c='R', alpha=0.8,  lw=2)\n",
    "\n",
    "ax=fig.add_subplot(2,3,1)\n",
    "plt.pie(dfstage.loc[\"Bridge_SCP\",'Age'],\n",
    "        autopct=autopct_format(dfstage.loc[\"Bridge_SCP\",'Age']), colors=[\"#DCDCDC\",\"red\"])\n",
    "        #labels=dfstage.loc[\"Bridge_SCP\",\"inss stage\"].index.values.tolist(),colors=[\"g\",\"grey\", \"skyblue\", \"royalblue\", 'red'])\n",
    "plt.title(\"Bridge_SCP\")\n",
    "ax=fig.add_subplot(2,3,2)\n",
    "plt.pie(dfstage.loc[\"Connecting\",'Age'],\n",
    "        autopct=autopct_format(dfstage.loc[\"Connecting\",'Age']),\n",
    "        colors=[\"#DCDCDC\",\"red\"])\n",
    "        #,labels=dfstage.loc[\"Connecting\",\"inss stage\"].index.values.tolist(),colors=[\"g\",\"grey\", \"skyblue\", \"royalblue\", 'red'])\n",
    "plt.title(\"Connecting\")\n",
    "ax=fig.add_subplot(2,3,3)\n",
    "plt.pie(dfstage.loc[\"NC_prog\",'Age'],\n",
    "        autopct=autopct_format(dfstage.loc[\"NC_prog\",'Age']),\n",
    "        colors=[\"#DCDCDC\",\"red\"])\n",
    "      #  ,labels=dfstage.loc[\"NC_prog\",\"inss stage\"].index.values.tolist(),colors=[\"g\",\"grey\", \"skyblue\", \"royalblue\", 'red'])\n",
    "plt.title(\"NC_prog\")\n",
    "ax=fig.add_subplot(2,3,4)\n",
    "plt.pie(dfstage.loc[\"preNeuroblast\",'Age'],\n",
    "         autopct=autopct_format(dfstage.loc[\"preNeuroblast\",'Age']),\n",
    "        colors=[\"#DCDCDC\",\"red\"])\n",
    "        #,labels=dfstage.loc[\"preNeuroblast\",\"inss stage\"].index.values.tolist(),colors=[\"g\",\"grey\", \"skyblue\", \"royalblue\", 'red'])\n",
    "plt.title(\"preNeuroblast\")\n",
    "ax=fig.add_subplot(2,3,5)\n",
    "plt.pie(dfstage.loc[\"Diff_Mes\",'Age'],\n",
    "        autopct=autopct_format(dfstage.loc[\"Diff_Mes\",'Age']),\n",
    "        colors=[\"#DCDCDC\",\"red\"])\n",
    "        #,labels=dfstage.loc[\"preNeuroblast\",\"inss stage\"].index.values.tolist(),colors=[\"g\",\"grey\", \"skyblue\", \"royalblue\", 'red'])\n",
    "plt.title(\"Diff_Mes\")"
   ]
  },
  {
   "cell_type": "code",
   "execution_count": null,
   "metadata": {},
   "outputs": [],
   "source": []
  },
  {
   "cell_type": "code",
   "execution_count": null,
   "metadata": {},
   "outputs": [],
   "source": []
  },
  {
   "cell_type": "code",
   "execution_count": null,
   "metadata": {
    "scrolled": true
   },
   "outputs": [],
   "source": [
    "dfall2.head()"
   ]
  },
  {
   "cell_type": "code",
   "execution_count": null,
   "metadata": {},
   "outputs": [],
   "source": [
    "dfstage=dfall2.groupby([\"Cell_type\",\"OSbin\"]).count()/dfall2.groupby([\"Cell_type\"]).count()"
   ]
  },
  {
   "cell_type": "code",
   "execution_count": null,
   "metadata": {},
   "outputs": [],
   "source": [
    "dfstage"
   ]
  },
  {
   "cell_type": "code",
   "execution_count": null,
   "metadata": {
    "scrolled": true
   },
   "outputs": [],
   "source": [
    "dfstage.loc[\"Bridge_SCP\",\"OSbin\"].index.values.tolist()"
   ]
  },
  {
   "cell_type": "code",
   "execution_count": null,
   "metadata": {},
   "outputs": [],
   "source": [
    "fig = plt.figure(figsize=(8,7))\n",
    "#plt.title(\"Risk\",fontsize=25)\n",
    "plt.axis(\"off\")\n",
    "#plt.bar(x, y,  width=0.95,alpha=0.4, color=\"white\")\n",
    "plt.grid(False)\n",
    "#plt.axvline( 0.218, c='R', alpha=0.8,  lw=2)\n",
    "\n",
    "ax=fig.add_subplot(2,3,1)\n",
    "plt.pie(dfstage.loc[\"Bridge_SCP\",'Age'],\n",
    "        autopct=autopct_format(dfstage.loc[\"Bridge_SCP\",'Age']), colors=[\"#DCDCDC\",\"red\"])\n",
    "        #labels=dfstage.loc[\"Bridge_SCP\",\"inss stage\"].index.values.tolist(),colors=[\"g\",\"grey\", \"skyblue\", \"royalblue\", 'red'])\n",
    "plt.title(\"Bridge_SCP\")\n",
    "ax=fig.add_subplot(2,3,2)\n",
    "plt.pie(dfstage.loc[\"Connecting\",'Age'],\n",
    "        autopct=autopct_format(dfstage.loc[\"Connecting\",'Age']),\n",
    "        colors=[\"#DCDCDC\",\"red\"])\n",
    "        #,labels=dfstage.loc[\"Connecting\",\"inss stage\"].index.values.tolist(),colors=[\"g\",\"grey\", \"skyblue\", \"royalblue\", 'red'])\n",
    "plt.title(\"Connecting\")\n",
    "ax=fig.add_subplot(2,3,3)\n",
    "plt.pie(dfstage.loc[\"NC_prog\",'Age'],\n",
    "        autopct=autopct_format(dfstage.loc[\"NC_prog\",'Age']),\n",
    "        colors=[\"#DCDCDC\",\"red\"])\n",
    "      #  ,labels=dfstage.loc[\"NC_prog\",\"inss stage\"].index.values.tolist(),colors=[\"g\",\"grey\", \"skyblue\", \"royalblue\", 'red'])\n",
    "plt.title(\"NC_prog\")\n",
    "ax=fig.add_subplot(2,3,4)\n",
    "plt.pie(dfstage.loc[\"preNeuroblast\",'Age'],\n",
    "         autopct=autopct_format(dfstage.loc[\"preNeuroblast\",'Age']),\n",
    "        colors=[\"#DCDCDC\",\"red\"])\n",
    "        #,labels=dfstage.loc[\"preNeuroblast\",\"inss stage\"].index.values.tolist(),colors=[\"g\",\"grey\", \"skyblue\", \"royalblue\", 'red'])\n",
    "plt.title(\"preNeuroblast\")\n",
    "ax=fig.add_subplot(2,3,5)\n",
    "plt.pie(dfstage.loc[\"Diff_Mes\",'Age'],\n",
    "        autopct=autopct_format(dfstage.loc[\"Diff_Mes\",'Age']),\n",
    "        colors=[\"#DCDCDC\",\"red\"])\n",
    "        #,labels=dfstage.loc[\"preNeuroblast\",\"inss stage\"].index.values.tolist(),colors=[\"g\",\"grey\", \"skyblue\", \"royalblue\", 'red'])\n",
    "plt.title(\"Diff_Mes\")"
   ]
  },
  {
   "cell_type": "code",
   "execution_count": null,
   "metadata": {},
   "outputs": [],
   "source": []
  },
  {
   "cell_type": "code",
   "execution_count": null,
   "metadata": {},
   "outputs": [],
   "source": []
  },
  {
   "cell_type": "code",
   "execution_count": null,
   "metadata": {
    "scrolled": false
   },
   "outputs": [],
   "source": [
    "dfall2.head()"
   ]
  },
  {
   "cell_type": "code",
   "execution_count": null,
   "metadata": {},
   "outputs": [],
   "source": [
    "dfstage=dfall2.groupby([\"Cell_type\",\"EFSbin\"]).count()/dfall2.groupby([\"Cell_type\"]).count()"
   ]
  },
  {
   "cell_type": "code",
   "execution_count": null,
   "metadata": {},
   "outputs": [],
   "source": [
    "dfstage"
   ]
  },
  {
   "cell_type": "code",
   "execution_count": null,
   "metadata": {
    "scrolled": true
   },
   "outputs": [],
   "source": [
    "dfstage.loc[\"Bridge_SCP\",\"EFSbin\"].index.values.tolist()"
   ]
  },
  {
   "cell_type": "code",
   "execution_count": null,
   "metadata": {},
   "outputs": [],
   "source": [
    "fig = plt.figure(figsize=(8,7))\n",
    "#plt.title(\"Risk\",fontsize=25)\n",
    "plt.axis(\"off\")\n",
    "#plt.bar(x, y,  width=0.95,alpha=0.4, color=\"white\")\n",
    "plt.grid(False)\n",
    "#plt.axvline( 0.218, c='R', alpha=0.8,  lw=2)\n",
    "\n",
    "ax=fig.add_subplot(2,3,1)\n",
    "plt.pie(dfstage.loc[\"Bridge_SCP\",'Age'],\n",
    "        autopct=autopct_format(dfstage.loc[\"Bridge_SCP\",'Age']), colors=[\"#DCDCDC\",\"red\"])\n",
    "        #labels=dfstage.loc[\"Bridge_SCP\",\"inss stage\"].index.values.tolist(),colors=[\"g\",\"grey\", \"skyblue\", \"royalblue\", 'red'])\n",
    "plt.title(\"Bridge_SCP\")\n",
    "ax=fig.add_subplot(2,3,2)\n",
    "plt.pie(dfstage.loc[\"Connecting\",'Age'],\n",
    "        autopct=autopct_format(dfstage.loc[\"Connecting\",'Age']),\n",
    "        colors=[\"#DCDCDC\",\"red\"])\n",
    "        #,labels=dfstage.loc[\"Connecting\",\"inss stage\"].index.values.tolist(),colors=[\"g\",\"grey\", \"skyblue\", \"royalblue\", 'red'])\n",
    "plt.title(\"Connecting\")\n",
    "ax=fig.add_subplot(2,3,3)\n",
    "plt.pie(dfstage.loc[\"NC_prog\",'Age'],\n",
    "        autopct=autopct_format(dfstage.loc[\"NC_prog\",'Age']),\n",
    "        colors=[\"#DCDCDC\",\"red\"])\n",
    "      #  ,labels=dfstage.loc[\"NC_prog\",\"inss stage\"].index.values.tolist(),colors=[\"g\",\"grey\", \"skyblue\", \"royalblue\", 'red'])\n",
    "plt.title(\"NC_prog\")\n",
    "ax=fig.add_subplot(2,3,4)\n",
    "plt.pie(dfstage.loc[\"preNeuroblast\",'Age'],\n",
    "         autopct=autopct_format(dfstage.loc[\"preNeuroblast\",'Age']),\n",
    "        colors=[\"#DCDCDC\",\"red\"])\n",
    "        #,labels=dfstage.loc[\"preNeuroblast\",\"inss stage\"].index.values.tolist(),colors=[\"g\",\"grey\", \"skyblue\", \"royalblue\", 'red'])\n",
    "plt.title(\"preNeuroblast\")\n",
    "ax=fig.add_subplot(2,3,5)\n",
    "plt.pie(dfstage.loc[\"Diff_Mes\",'Age'],\n",
    "        autopct=autopct_format(dfstage.loc[\"Diff_Mes\",'Age']),\n",
    "        colors=[\"#DCDCDC\",\"red\"])\n",
    "        #,labels=dfstage.loc[\"preNeuroblast\",\"inss stage\"].index.values.tolist(),colors=[\"g\",\"grey\", \"skyblue\", \"royalblue\", 'red'])\n",
    "plt.title(\"Diff_Mes\")"
   ]
  },
  {
   "cell_type": "code",
   "execution_count": null,
   "metadata": {},
   "outputs": [],
   "source": []
  },
  {
   "cell_type": "code",
   "execution_count": null,
   "metadata": {},
   "outputs": [],
   "source": []
  },
  {
   "cell_type": "code",
   "execution_count": null,
   "metadata": {},
   "outputs": [],
   "source": []
  },
  {
   "cell_type": "code",
   "execution_count": null,
   "metadata": {},
   "outputs": [],
   "source": [
    "dfall2"
   ]
  },
  {
   "cell_type": "code",
   "execution_count": null,
   "metadata": {},
   "outputs": [],
   "source": [
    "dfv=dfall2.copy()\n",
    "dfv[\"Age\"]=dfv[\"Age\"]/30.5\n",
    "#dfv[\"Age\"]=log10(dfv[\"Age\"]+1)"
   ]
  },
  {
   "cell_type": "code",
   "execution_count": null,
   "metadata": {},
   "outputs": [],
   "source": [
    "sns.violinplot(\n",
    "    data=dfv, \n",
    "    x=\"Cell_type\", y=\"Age\",inner=\"box\",\n",
    "               palette=['#aab4aa','#5fba46',\"#0000ff\",'#f97d05','#6464f0'],\n",
    "               cut=3,\n",
    "               scale=\"width\"\n",
    "              )\n",
    "#plt.ylim(0, 200)\n",
    "plt.xticks(rotation=90) \n",
    "ax.spines['right'].set_visible(False)\n",
    "#ax.spines['left'].set_visible(False)\n",
    "ax.spines['top'].set_visible(False)"
   ]
  },
  {
   "cell_type": "code",
   "execution_count": null,
   "metadata": {},
   "outputs": [],
   "source": [
    "ax=sns.boxplot(\n",
    "    data=dfv, \n",
    "    x=\"Cell_type\", y=\"Age\",\n",
    "    #inner=\"box\",\n",
    "               palette=['#aab4aa','#5fba46',\"#0000ff\",'#f97d05','#6464f0'],\n",
    "               #cut=3,\n",
    "               #scale=\"width\"\n",
    "              )\n",
    "ax.grid(False)\n",
    "plt.ylim(-1, 100)\n",
    "plt.xticks(rotation=90) \n",
    "plt.axhline(y=18, color='red', lw=2,linestyle='--')\n",
    "ax.spines['right'].set_visible(False)\n",
    "#ax.spines['left'].set_visible(False)\n",
    "ax.spines['top'].set_visible(False)\n",
    "#plt.ylabel(\"OS_bin\",fontsize=12,rotation=90)\n",
    "#plt.xticks([], [],rotation=0) \n",
    "#two \n",
    "#plt.yticks([], [],rotation=90)"
   ]
  },
  {
   "cell_type": "code",
   "execution_count": null,
   "metadata": {},
   "outputs": [],
   "source": [
    "dfv.groupby([\"Cell_type\"])[\"Age\"].median()"
   ]
  },
  {
   "cell_type": "code",
   "execution_count": null,
   "metadata": {},
   "outputs": [],
   "source": [
    "dfall2.to_csv(\"SEQC_stateInfo_metaData.csv\",sep=\"\\t\")"
   ]
  },
  {
   "cell_type": "code",
   "execution_count": null,
   "metadata": {},
   "outputs": [],
   "source": []
  },
  {
   "cell_type": "code",
   "execution_count": null,
   "metadata": {},
   "outputs": [],
   "source": [
    "dfall2.groupby([\"AssignedType\"]).count()/498"
   ]
  },
  {
   "cell_type": "code",
   "execution_count": null,
   "metadata": {},
   "outputs": [],
   "source": []
  },
  {
   "cell_type": "code",
   "execution_count": null,
   "metadata": {},
   "outputs": [],
   "source": []
  },
  {
   "cell_type": "markdown",
   "metadata": {},
   "source": [
    "# Macrophage_SEQC"
   ]
  },
  {
   "cell_type": "code",
   "execution_count": null,
   "metadata": {},
   "outputs": [],
   "source": []
  },
  {
   "cell_type": "code",
   "execution_count": null,
   "metadata": {
    "scrolled": true
   },
   "outputs": [],
   "source": [
    "cd F:\\Dropbox\\data\\proj\\PE_HYZ\\PublicDataSet\\NBL_SZscRNA\\FinalDataset"
   ]
  },
  {
   "cell_type": "code",
   "execution_count": null,
   "metadata": {
    "scrolled": false
   },
   "outputs": [],
   "source": [
    "scpdt=anndata.read(\"SEQC_bulkNBL_fit_szNBLscRNAseq.h5ad\")"
   ]
  },
  {
   "cell_type": "code",
   "execution_count": null,
   "metadata": {
    "scrolled": false
   },
   "outputs": [],
   "source": [
    "scpdt"
   ]
  },
  {
   "cell_type": "code",
   "execution_count": null,
   "metadata": {},
   "outputs": [],
   "source": [
    "df=pd.DataFrame(scpdt.X).T\n",
    "df.index=scpdt.var.index\n",
    "df.columns=scpdt.obs.index\n",
    "df=df.fillna(0)\n",
    "df.shape"
   ]
  },
  {
   "cell_type": "code",
   "execution_count": null,
   "metadata": {},
   "outputs": [],
   "source": [
    "def fit_CV(mu, cv, fit_method='Exp', svr_gamma=0.06, x0=[0.5,0.5], verbose=False):\n",
    "    '''Fits a noise model (CV vs mean)\n",
    "    Parameters\n",
    "    ----------\n",
    "    mu: 1-D array\n",
    "        mean of the genes (raw counts)\n",
    "    cv: 1-D array\n",
    "        coefficient of variation for each gene\n",
    "    fit_method: string\n",
    "        allowed: 'SVR', 'Exp', 'binSVR', 'binExp' \n",
    "        default: 'SVR'(requires scikit learn)\n",
    "        SVR: uses Support vector regression to fit the noise model\n",
    "        Exp: Parametric fit to cv = mu^(-a) + b\n",
    "        bin: before fitting the distribution of mean is normalized to be\n",
    "             uniform by downsampling and resampling.\n",
    "    Returns\n",
    "    -------\n",
    "    score: 1-D array\n",
    "        Score is the relative position with respect of the fitted curve\n",
    "    mu_linspace: 1-D array\n",
    "        x coordiantes to plot (min(log2(mu)) -> max(log2(mu)))\n",
    "    cv_fit: 1-D array\n",
    "        y=f(x) coordinates to plot \n",
    "    pars: tuple or None\n",
    "    \n",
    "    '''\n",
    "    log2_m = log2(mu)\n",
    "    log2_cv = log2(cv)\n",
    "    \n",
    "    if len(mu)>1000 and 'bin' in fit_method:\n",
    "        #histogram with 30 bins\n",
    "        n,xi = histogram(log2_m,30)\n",
    "        med_n = percentile(n,50)\n",
    "        for i in range(0,len(n)):\n",
    "            # index of genes within the ith bin\n",
    "            ind = where( (log2_m >= xi[i]) & (log2_m < xi[i+1]) )[0].astype(int)\n",
    "            if len(ind)>med_n:\n",
    "                #Downsample if count is more than median\n",
    "                ind = ind[random.permutation(len(ind))]\n",
    "                ind = ind[:len(ind)-int(med_n)]\n",
    "                mask = ones(len(log2_m), dtype=bool)\n",
    "                mask[ind] = False\n",
    "                log2_m = log2_m[mask]\n",
    "                log2_cv = log2_cv[mask]\n",
    "            elif (around(med_n/len(ind))>1) and (len(ind)>5):\n",
    "                #Duplicate if count is less than median\n",
    "                log2_m = r_[ log2_m, tile(log2_m[ind], int(round(med_n/len(ind))-1)) ]\n",
    "                log2_cv = r_[ log2_cv, tile(log2_cv[ind], int(round(med_n/len(ind))-1)) ]\n",
    "    else:\n",
    "        if 'bin' in fit_method:\n",
    "            print('More than 1000 input feature needed for bin correction.')\n",
    "        pass\n",
    "                \n",
    "    if 'SVR' in fit_method:\n",
    "        try:\n",
    "            from sklearn.svm import SVR\n",
    "            if svr_gamma == 'auto':\n",
    "                svr_gamma = 1000./len(mu)\n",
    "            #Fit the Support Vector Regression\n",
    "            clf = SVR(gamma=svr_gamma)\n",
    "            clf.fit(log2_m[:,newaxis], log2_cv)\n",
    "            fitted_fun = clf.predict\n",
    "            score = log2(cv) - fitted_fun(log2(mu)[:,newaxis])\n",
    "            params = None\n",
    "            #The coordinates of the fitted curve\n",
    "            mu_linspace = linspace(min(log2_m),max(log2_m))\n",
    "            cv_fit = fitted_fun(mu_linspace[:,newaxis])\n",
    "            return score, mu_linspace, cv_fit , params\n",
    "            \n",
    "        except ImportError:\n",
    "            if verbose:\n",
    "                print('SVR fit requires scikit-learn python library. Using exponential instead.')\n",
    "            if 'bin' in fit_method:\n",
    "                return fit_CV(mu, cv, fit_method='binExp', x0=x0)\n",
    "            else:\n",
    "                return fit_CV(mu, cv, fit_method='Exp', x0=x0)\n",
    "    elif 'Exp' in fit_method:\n",
    "        from scipy.optimize import minimize\n",
    "        #Define the objective function to fit (least squares)\n",
    "        fun = lambda x, log2_m, log2_cv: sum(abs( log2( (2.**log2_m)**(-x[0])+x[1]) - log2_cv ))\n",
    "        #Fit using Nelder-Mead algorythm\n",
    "        optimization =  minimize(fun, x0, args=(log2_m,log2_cv), method='Nelder-Mead')\n",
    "        params = optimization.x\n",
    "        #The fitted function\n",
    "        fitted_fun = lambda log_mu: log2( (2.**log_mu)**(-params[0]) + params[1])\n",
    "        # Score is the relative position with respect of the fitted curve\n",
    "        score = log2(cv) - fitted_fun(log2(mu))\n",
    "        #The coordinates of the fitted curve\n",
    "        mu_linspace = linspace(min(log2_m),max(log2_m))\n",
    "        cv_fit = fitted_fun(mu_linspace)\n",
    "        return score, mu_linspace, cv_fit , params\n",
    "\n",
    "from scipy.optimize import curve_fit\n",
    "from scipy.stats.distributions import  t\n",
    "\n",
    "def func(x, a, b,c):\n",
    "    'nonlinear function in a and b to fit to data'\n",
    "    return a*x*x+b*x+c\n",
    "def thrscount(x,y):\n",
    "    initial_guess = [10, 0-x[-1], y[-1]]\n",
    "    pars, pcov = curve_fit(func, x, y, p0=initial_guess)\n",
    "    alpha = 0.05 # 95% confidence interval = 100*(1-alpha)\n",
    "\n",
    "    n = len(y)    # number of data points\n",
    "    p = len(pars) # number of parameters\n",
    "\n",
    "    dof = max(0, n - p) # number of degrees of freedom\n",
    "\n",
    "    # student-t value for the dof and confidence level\n",
    "    tval = t.ppf(1.0-alpha/2., dof)\n",
    "    for i, j,var in zip(range(n), pars, np.diag(pcov)):\n",
    "        sigma = var**0.5\n",
    "        print ('p{0}: {1} [{2}  {3}]'.format(i, j,\n",
    "                                  j - sigma*tval,\n",
    "                                  j + sigma*tval))\n",
    "    return pars"
   ]
  },
  {
   "cell_type": "code",
   "execution_count": null,
   "metadata": {},
   "outputs": [],
   "source": [
    "cd  f:\\Dropbox\\data\\proj\\PE_HYZ\\PublicDataSet\\NBL_GSE137804"
   ]
  },
  {
   "cell_type": "code",
   "execution_count": null,
   "metadata": {},
   "outputs": [],
   "source": [
    "dffeature=pd.read_table(\"Cell_TypeMarkers.txt\",index_col=0,header=0,sep=\"\\t\")"
   ]
  },
  {
   "cell_type": "code",
   "execution_count": null,
   "metadata": {},
   "outputs": [],
   "source": [
    "dffeature.head()"
   ]
  },
  {
   "cell_type": "code",
   "execution_count": null,
   "metadata": {},
   "outputs": [],
   "source": [
    "cell_cycle_genes=dffeature[\"Macrophages\"].values.tolist()\n",
    "cell_cycle_genes"
   ]
  },
  {
   "cell_type": "code",
   "execution_count": null,
   "metadata": {
    "scrolled": true
   },
   "outputs": [],
   "source": [
    "df.shape"
   ]
  },
  {
   "cell_type": "code",
   "execution_count": null,
   "metadata": {},
   "outputs": [],
   "source": [
    "dfbk=df"
   ]
  },
  {
   "cell_type": "code",
   "execution_count": null,
   "metadata": {},
   "outputs": [],
   "source": [
    "dfpfc=dfbk/dfbk.sum()*1000000\n",
    "#dfpfc=dfpfc.astype(float)\n",
    "dfpfc.tail()"
   ]
  },
  {
   "cell_type": "code",
   "execution_count": null,
   "metadata": {},
   "outputs": [],
   "source": [
    "#Pre-filtering\n",
    "df_f = dfpfc.astype(float).copy()\n",
    "df_f = df_f.loc[sum(df_f>=1, 1)>=5,:] # is at least 1 in X cells\n",
    "df_f = df_f.loc[sum(df_f>=2, 1)>=2,:] # is at least 2 in X cells\n",
    "df_f = df_f.loc[sum(df_f>=3, 1)>=1,:] # is at least 2 in X cells\n",
    "dfpfc=df_f\n",
    "dfpfc.shape"
   ]
  },
  {
   "cell_type": "code",
   "execution_count": null,
   "metadata": {},
   "outputs": [],
   "source": [
    "#Fitting\n",
    "df_f=dfpfc\n",
    "mu = df_f.mean(1).values\n",
    "sigma = df_f.std(1, ddof=1).values\n",
    "cv = sigma/mu\n",
    "scoreMV, mu_linspace, cv_fit , params = fit_CV(mu,cv, 'SVR', svr_gamma=0.003)"
   ]
  },
  {
   "cell_type": "code",
   "execution_count": null,
   "metadata": {},
   "outputs": [],
   "source": [
    "figure()\n",
    "scatter(log2(mu),log2(cv), marker='o', edgecolor ='none',alpha=0.1, s=5)\n",
    "mu_sorted = mu[argsort(scoreMV)[::-1]]\n",
    "cv_sorted = cv[argsort(scoreMV)[::-1]]\n",
    "y = cv_fit.tolist()\n",
    "x = mu_linspace.tolist()\n",
    "pars= thrscount(x,y)\n",
    "\n",
    "thrs=0\n",
    "for i in range(len(log2(mu_sorted)>0)):\n",
    "    if i == 0:\n",
    "        if func(log2(cv_sorted[i]), pars[0], pars[1],pars[2])<log2(mu_sorted[i]):\n",
    "            thrs=thrs+1\n",
    "    else:\n",
    "        if log2(cv_sorted[i])< log2(cv_sorted[i-1]):\n",
    "            if func(log2(cv_sorted[i]), pars[0], pars[1],pars[2])<log2(mu_sorted[i]):\n",
    "                thrs=thrs+1\n",
    "scatter(log2(mu_sorted[thrs:]),log2(cv_sorted[thrs:]), marker='o', edgecolor ='none',alpha=0.15, s=8, c='r')\n",
    "plot(mu_linspace, cv_fit,'-k', linewidth=1, label='$Fit$')\n",
    "plot(linspace(-9,7), -0.5*linspace(-9,7), '-r', label='$Poisson$')\n",
    "ylabel('log2 CV')\n",
    "xlabel('log2 mean')\n",
    "grid(alpha=0.3)\n",
    "xlim(-8.6,6.5)\n",
    "ylim(-2,6.5)\n",
    "legend(loc=1, fontsize='small')\n",
    "gca().set_aspect(1.2)\n",
    "thrs"
   ]
  },
  {
   "cell_type": "code",
   "execution_count": null,
   "metadata": {
    "scrolled": true
   },
   "outputs": [],
   "source": [
    "df_dev = dfpfc.iloc[argsort(scoreMV)[::-1],:].iloc[:int(thrs/3),:]\n"
   ]
  },
  {
   "cell_type": "code",
   "execution_count": null,
   "metadata": {
    "scrolled": true
   },
   "outputs": [],
   "source": [
    "df_dev.shape"
   ]
  },
  {
   "cell_type": "code",
   "execution_count": null,
   "metadata": {},
   "outputs": [],
   "source": []
  },
  {
   "cell_type": "markdown",
   "metadata": {},
   "source": [
    "# Macrophage_calculation"
   ]
  },
  {
   "cell_type": "code",
   "execution_count": null,
   "metadata": {},
   "outputs": [],
   "source": [
    "cell_cycle_genes=dffeature[\"Macrophages\"].values.tolist()\n",
    "cell_cycle_genes_filt = [x for x in cell_cycle_genes if x in df_dev.index]\n",
    "len(cell_cycle_genes_filt)"
   ]
  },
  {
   "cell_type": "code",
   "execution_count": null,
   "metadata": {},
   "outputs": [],
   "source": [
    "cell_cycle_genes_filt=cell_cycle_genes_filt[:-1]"
   ]
  },
  {
   "cell_type": "code",
   "execution_count": null,
   "metadata": {},
   "outputs": [],
   "source": []
  },
  {
   "cell_type": "code",
   "execution_count": null,
   "metadata": {},
   "outputs": [],
   "source": [
    "s_genes=cell_cycle_genes_filt \n",
    "var_names =  df_dev.index\n",
    "gene_list=s_genes\n",
    "gene_list_in_var = []\n",
    "for gene in gene_list:\n",
    "    if gene in var_names:\n",
    "        gene_list_in_var.append(gene)\n",
    "    else:\n",
    "        print('gene: %s is not in adata.var_names and will be ignored'%gene)\n",
    "gene_list = set(gene_list_in_var[:])"
   ]
  },
  {
   "cell_type": "code",
   "execution_count": null,
   "metadata": {},
   "outputs": [],
   "source": [
    "gene_pool = list(var_names)\n",
    "len(gene_pool)"
   ]
  },
  {
   "cell_type": "code",
   "execution_count": null,
   "metadata": {},
   "outputs": [],
   "source": [
    "obs_avg =df_dev.mean(1)\n",
    "obs_avg = obs_avg[np.isfinite(obs_avg)]\n",
    "obs_avg .shape"
   ]
  },
  {
   "cell_type": "code",
   "execution_count": null,
   "metadata": {},
   "outputs": [],
   "source": [
    "n_items = int(np.round(len(obs_avg) / 5))\n",
    "obs_cut = obs_avg.rank(method='min') // n_items\n",
    "n_items"
   ]
  },
  {
   "cell_type": "code",
   "execution_count": null,
   "metadata": {},
   "outputs": [],
   "source": [
    "# now pick `ctrl_size` genes from every cut\n",
    "ctrl_size=200\n",
    "control_genes =set()\n",
    "# now pick `ctrl_size` genes from every cut\n",
    "# now pick `ctrl_size` genes from every cut\n",
    "for cut in np.unique(obs_cut.loc[gene_list]):\n",
    "    r_genes = np.array(obs_cut[obs_cut == cut].index)\n",
    "    np.random.shuffle(r_genes)\n",
    "    control_genes.update(set(r_genes[:ctrl_size]))  # uses full r_genes if ctrl_size > len(r_genes)\n"
   ]
  },
  {
   "cell_type": "code",
   "execution_count": null,
   "metadata": {
    "scrolled": true
   },
   "outputs": [],
   "source": [
    "# To index, we need a list - indexing implies an order.\n",
    "control_genes = list(control_genes - gene_list)\n",
    "gene_list = list(gene_list)\n",
    "X_list = dfpfc.loc[gene_list].T.values\n",
    "X_control = dfpfc.loc[control_genes].mean().values\n",
    "S_score= np.nanmean(X_list, axis=1) - X_control\n",
    "X_list.shape"
   ]
  },
  {
   "cell_type": "code",
   "execution_count": null,
   "metadata": {},
   "outputs": [],
   "source": [
    "scpdt"
   ]
  },
  {
   "cell_type": "code",
   "execution_count": null,
   "metadata": {},
   "outputs": [],
   "source": [
    "#scpdt.obs=scpdt.obs[[ 'Cluster', 'OS_day', 'Stage', 'EFS_day', 'Risk', 'MYCNstatus', 'EFSbin', 'OSbin', 'mtrain_index', 'AssignedType', 'Age', 'Mac_score',]]\n",
    "dfgrp=scpdt.obs\n",
    "#dfgrp[\"MacER_score\"]=S_score.tolist()\n",
    "dfgrp.shape"
   ]
  },
  {
   "cell_type": "code",
   "execution_count": null,
   "metadata": {},
   "outputs": [],
   "source": [
    "S_score[S_score<0]=0\n",
    "dfgrp[\"MacER_score\"]=S_score.tolist()\n",
    "dfgrp[dfgrp[\"MacER_score\"]<0][\"MacER_score\"]=dfgrp[dfgrp[\"MacER_score\"]<0][\"MacER_score\"]*0\n",
    "dfgrp"
   ]
  },
  {
   "cell_type": "code",
   "execution_count": null,
   "metadata": {},
   "outputs": [],
   "source": []
  },
  {
   "cell_type": "code",
   "execution_count": null,
   "metadata": {
    "scrolled": true
   },
   "outputs": [],
   "source": [
    "dfgrp.groupby([\"AssignedType\"])[\"MacER_score\"].mean()"
   ]
  },
  {
   "cell_type": "code",
   "execution_count": null,
   "metadata": {
    "scrolled": false
   },
   "outputs": [],
   "source": [
    "dfgrp.groupby([\"AssignedType\"])[\"MacER_score\"].median()"
   ]
  },
  {
   "cell_type": "code",
   "execution_count": null,
   "metadata": {
    "scrolled": false
   },
   "outputs": [],
   "source": [
    "dfgrp.groupby([\"AssignedType\"])[\"MacER_score\"].count()"
   ]
  },
  {
   "cell_type": "code",
   "execution_count": null,
   "metadata": {},
   "outputs": [],
   "source": [
    "dftemp=dfgrp[[\"AssignedType\",\"MacER_score\"]]"
   ]
  },
  {
   "cell_type": "code",
   "execution_count": null,
   "metadata": {},
   "outputs": [],
   "source": [
    "from scipy import stats\n",
    "from scipy.stats import ranksums"
   ]
  },
  {
   "cell_type": "code",
   "execution_count": null,
   "metadata": {
    "scrolled": true
   },
   "outputs": [],
   "source": [
    "rvs1=dftemp.loc[dftemp[\"AssignedType\"]==\"Bridge_SCP\"][\"MacER_score\"]\n",
    "rvs2=dftemp.loc[dftemp[\"AssignedType\"]==\"preNeuroblast\"][\"MacER_score\"]\n",
    "ranksums(rvs1, rvs2)"
   ]
  },
  {
   "cell_type": "code",
   "execution_count": null,
   "metadata": {
    "scrolled": false
   },
   "outputs": [],
   "source": [
    "rvs1=dftemp.loc[dftemp[\"AssignedType\"]==\"Bridge_SCP\"][\"MacER_score\"]\n",
    "rvs2=dftemp.loc[dftemp[\"AssignedType\"]==\"Connecting\"][\"MacER_score\"]\n",
    "ranksums(rvs1, rvs2)"
   ]
  },
  {
   "cell_type": "code",
   "execution_count": null,
   "metadata": {},
   "outputs": [],
   "source": [
    "rvs1=dftemp.loc[dftemp[\"AssignedType\"]==\"Bridge_SCP\"][\"MacER_score\"]\n",
    "rvs2=dftemp.loc[dftemp[\"AssignedType\"]==\"NC_prog\"][\"MacER_score\"]\n",
    "ranksums(rvs1, rvs2)"
   ]
  },
  {
   "cell_type": "code",
   "execution_count": null,
   "metadata": {
    "scrolled": true
   },
   "outputs": [],
   "source": [
    "rvs1=dftemp.loc[dftemp[\"AssignedType\"]==\"Connecting\"][\"MacER_score\"]\n",
    "rvs2=dftemp.loc[dftemp[\"AssignedType\"]==\"NC_prog\"][\"MacER_score\"]\n",
    "ranksums(rvs1, rvs2)"
   ]
  },
  {
   "cell_type": "code",
   "execution_count": null,
   "metadata": {},
   "outputs": [],
   "source": [
    "rvs1=dftemp.loc[dftemp[\"AssignedType\"]==\"preNeuroblast\"][\"MacER_score\"]\n",
    "rvs2=dftemp.loc[dftemp[\"AssignedType\"]==\"NC_prog\"][\"MacER_score\"]\n",
    "ranksums(rvs1, rvs2)"
   ]
  },
  {
   "cell_type": "code",
   "execution_count": null,
   "metadata": {},
   "outputs": [],
   "source": [
    "rvs1=dftemp.loc[dftemp[\"AssignedType\"]==\"preNeuroblast\"][\"MacER_score\"]\n",
    "rvs2=dftemp.loc[dftemp[\"AssignedType\"]==\"Connecting\"][\"MacER_score\"]\n",
    "ranksums(rvs1, rvs2)"
   ]
  },
  {
   "cell_type": "code",
   "execution_count": null,
   "metadata": {},
   "outputs": [],
   "source": [
    "dftemp[\"MacER_score\"]=log2(dftemp[\"MacER_score\"]+1)"
   ]
  },
  {
   "cell_type": "code",
   "execution_count": null,
   "metadata": {},
   "outputs": [],
   "source": [
    "dfv=dftemp.copy()"
   ]
  },
  {
   "cell_type": "code",
   "execution_count": null,
   "metadata": {},
   "outputs": [],
   "source": [
    "import seaborn as sns\n",
    "ax=sns.boxplot(\n",
    "    data=dfv, \n",
    "    x=\"AssignedType\", y=\"MacER_score\",\n",
    "    #inner=\"box\",\n",
    "               palette=['#aab4aa','#5fba46',\"#0000ff\",'#f97d05','#6464f0'],\n",
    "               #cut=3,\n",
    "               #scale=\"width\"\n",
    "              )\n",
    "ax.grid(False)\n",
    "ax.spines['right'].set_visible(False)\n",
    "#ax.spines['left'].set_visible(False)\n",
    "ax.spines['top'].set_visible(False)\n",
    "#plt.ylabel(\"OS_bin\",fontsize=12,rotation=90)\n",
    "plt.xticks(rotation=90) \n",
    "#two \n",
    "#plt.yticks([], [],rotation=90)"
   ]
  },
  {
   "cell_type": "code",
   "execution_count": null,
   "metadata": {
    "scrolled": true
   },
   "outputs": [],
   "source": [
    "dfgrp[\"Mac_score\"]=dfgrp[\"MacER_score\"]\n",
    "dfgrp"
   ]
  },
  {
   "cell_type": "code",
   "execution_count": null,
   "metadata": {},
   "outputs": [],
   "source": []
  },
  {
   "cell_type": "code",
   "execution_count": null,
   "metadata": {},
   "outputs": [],
   "source": []
  },
  {
   "cell_type": "markdown",
   "metadata": {},
   "source": [
    "# Macrophage_calculation"
   ]
  },
  {
   "cell_type": "code",
   "execution_count": null,
   "metadata": {
    "scrolled": true
   },
   "outputs": [],
   "source": [
    "dffeature"
   ]
  },
  {
   "cell_type": "code",
   "execution_count": null,
   "metadata": {},
   "outputs": [],
   "source": [
    "cell_cycle_genes=dffeature[\"CAFs\"].values.tolist()\n",
    "cell_cycle_genes_filt = [x for x in cell_cycle_genes if x in df_dev.index]\n",
    "len(cell_cycle_genes_filt)"
   ]
  },
  {
   "cell_type": "code",
   "execution_count": null,
   "metadata": {},
   "outputs": [],
   "source": [
    "s_genes=cell_cycle_genes_filt \n",
    "var_names =  df_dev.index\n",
    "gene_list=s_genes\n",
    "gene_list_in_var = []\n",
    "for gene in gene_list:\n",
    "    if gene in var_names:\n",
    "        gene_list_in_var.append(gene)\n",
    "    else:\n",
    "        print('gene: %s is not in adata.var_names and will be ignored'%gene)\n",
    "gene_list = set(gene_list_in_var[:])"
   ]
  },
  {
   "cell_type": "code",
   "execution_count": null,
   "metadata": {},
   "outputs": [],
   "source": [
    "gene_pool = list(var_names)\n",
    "len(gene_pool)"
   ]
  },
  {
   "cell_type": "code",
   "execution_count": null,
   "metadata": {},
   "outputs": [],
   "source": [
    "obs_avg =df_dev.mean(1)\n",
    "obs_avg = obs_avg[np.isfinite(obs_avg)]\n",
    "obs_avg .shape"
   ]
  },
  {
   "cell_type": "code",
   "execution_count": null,
   "metadata": {},
   "outputs": [],
   "source": [
    "n_items = int(np.round(len(obs_avg) / 10))\n",
    "obs_cut = obs_avg.rank(method='min') // n_items\n",
    "n_items"
   ]
  },
  {
   "cell_type": "code",
   "execution_count": null,
   "metadata": {},
   "outputs": [],
   "source": [
    "# now pick `ctrl_size` genes from every cut\n",
    "ctrl_size=100\n",
    "control_genes =set()\n",
    "# now pick `ctrl_size` genes from every cut\n",
    "# now pick `ctrl_size` genes from every cut\n",
    "for cut in np.unique(obs_cut.loc[gene_list]):\n",
    "    r_genes = np.array(obs_cut[obs_cut == cut].index)\n",
    "    np.random.shuffle(r_genes)\n",
    "    control_genes.update(set(r_genes[:ctrl_size]))  # uses full r_genes if ctrl_size > len(r_genes)\n"
   ]
  },
  {
   "cell_type": "code",
   "execution_count": null,
   "metadata": {},
   "outputs": [],
   "source": [
    "# To index, we need a list - indexing implies an order.\n",
    "control_genes = list(control_genes - gene_list)\n",
    "gene_list = list(gene_list)\n",
    "X_list = dfpfc.loc[gene_list].T.values\n",
    "X_control = dfpfc.loc[control_genes].mean().values\n",
    "S_score= np.nanmean(X_list, axis=1) - X_control\n",
    "X_list.shape"
   ]
  },
  {
   "cell_type": "code",
   "execution_count": null,
   "metadata": {},
   "outputs": [],
   "source": [
    "scpdt.obs=scpdt.obs[[ 'Cluster', 'OS_day', 'Stage', 'EFS_day', 'Risk', 'MYCNstatus', 'EFSbin', 'OSbin', 'mtrain_index', 'AssignedType', 'Age', 'Mac_score',]]\n",
    "dfgrp=scpdt.obs\n",
    "dfgrp.shape"
   ]
  },
  {
   "cell_type": "code",
   "execution_count": null,
   "metadata": {},
   "outputs": [],
   "source": [
    "S_score[S_score<0]=0\n",
    "dfgrp[\"MacER_score\"]=S_score.tolist()\n",
    "dfgrp[dfgrp[\"MacER_score\"]<0][\"MacER_score\"]=dfgrp[dfgrp[\"MacER_score\"]<0][\"MacER_score\"]*0\n",
    "dfgrp"
   ]
  },
  {
   "cell_type": "code",
   "execution_count": null,
   "metadata": {},
   "outputs": [],
   "source": []
  },
  {
   "cell_type": "code",
   "execution_count": null,
   "metadata": {},
   "outputs": [],
   "source": [
    "dfgrp.groupby([\"AssignedType\"])[\"MacER_score\"].mean()"
   ]
  },
  {
   "cell_type": "code",
   "execution_count": null,
   "metadata": {
    "scrolled": true
   },
   "outputs": [],
   "source": [
    "dfgrp.groupby([\"AssignedType\"])[\"MacER_score\"].median()"
   ]
  },
  {
   "cell_type": "code",
   "execution_count": null,
   "metadata": {
    "scrolled": false
   },
   "outputs": [],
   "source": [
    "dfgrp.groupby([\"AssignedType\"])[\"MacER_score\"].count()"
   ]
  },
  {
   "cell_type": "code",
   "execution_count": null,
   "metadata": {},
   "outputs": [],
   "source": [
    "dfgrp[\"Fib_score\"]=dftemp[\"MacER_score\"]\n",
    "dfgrp"
   ]
  },
  {
   "cell_type": "code",
   "execution_count": null,
   "metadata": {},
   "outputs": [],
   "source": [
    "dftemp=dfgrp[[\"AssignedType\",\"Fib_score\",\"MacER_score\"]]"
   ]
  },
  {
   "cell_type": "code",
   "execution_count": null,
   "metadata": {},
   "outputs": [],
   "source": [
    "from scipy import stats\n",
    "from scipy.stats import ranksums"
   ]
  },
  {
   "cell_type": "code",
   "execution_count": null,
   "metadata": {
    "scrolled": true
   },
   "outputs": [],
   "source": [
    "rvs1=dftemp.loc[dftemp[\"AssignedType\"]==\"Bridge_SCP\"][\"MacER_score\"]\n",
    "rvs2=dftemp.loc[dftemp[\"AssignedType\"]==\"preNeuroblast\"][\"MacER_score\"]\n",
    "[rvs1.mean()/rvs2.mean(),ranksums(rvs1, rvs2)]"
   ]
  },
  {
   "cell_type": "code",
   "execution_count": null,
   "metadata": {
    "scrolled": true
   },
   "outputs": [],
   "source": [
    "rvs1=dftemp.loc[dftemp[\"AssignedType\"]==\"Bridge_SCP\"][\"MacER_score\"]\n",
    "rvs2=dftemp.loc[dftemp[\"AssignedType\"]==\"Connecting\"][\"MacER_score\"]\n",
    "ranksums(rvs1, rvs2)"
   ]
  },
  {
   "cell_type": "code",
   "execution_count": null,
   "metadata": {},
   "outputs": [],
   "source": [
    "rvs1=dftemp.loc[dftemp[\"AssignedType\"]==\"Bridge_SCP\"][\"MacER_score\"]\n",
    "rvs2=dftemp.loc[dftemp[\"AssignedType\"]==\"NC_prog\"][\"MacER_score\"]\n",
    "ranksums(rvs1, rvs2)"
   ]
  },
  {
   "cell_type": "code",
   "execution_count": null,
   "metadata": {},
   "outputs": [],
   "source": [
    "rvs1=dftemp.loc[dftemp[\"AssignedType\"]==\"Connecting\"][\"MacER_score\"]\n",
    "rvs2=dftemp.loc[dftemp[\"AssignedType\"]==\"NC_prog\"][\"MacER_score\"]\n",
    "ranksums(rvs1, rvs2)"
   ]
  },
  {
   "cell_type": "code",
   "execution_count": null,
   "metadata": {},
   "outputs": [],
   "source": [
    "rvs1=dftemp.loc[dftemp[\"AssignedType\"]==\"preNeuroblast\"][\"MacER_score\"]\n",
    "rvs2=dftemp.loc[dftemp[\"AssignedType\"]==\"NC_prog\"][\"MacER_score\"]\n",
    "ranksums(rvs1, rvs2)"
   ]
  },
  {
   "cell_type": "code",
   "execution_count": null,
   "metadata": {},
   "outputs": [],
   "source": [
    "rvs1=dftemp.loc[dftemp[\"AssignedType\"]==\"preNeuroblast\"][\"MacER_score\"]\n",
    "rvs2=dftemp.loc[dftemp[\"AssignedType\"]==\"Connecting\"][\"MacER_score\"]\n",
    "ranksums(rvs1, rvs2)"
   ]
  },
  {
   "cell_type": "code",
   "execution_count": null,
   "metadata": {
    "scrolled": true
   },
   "outputs": [],
   "source": [
    "dftemp[\"Fib_score\"]=log2(dftemp[\"Fib_score\"]+1)"
   ]
  },
  {
   "cell_type": "code",
   "execution_count": null,
   "metadata": {},
   "outputs": [],
   "source": [
    "dfv=dftemp.copy()"
   ]
  },
  {
   "cell_type": "code",
   "execution_count": null,
   "metadata": {},
   "outputs": [],
   "source": [
    "import seaborn as sns\n",
    "ax=sns.boxplot(\n",
    "    data=dfv, \n",
    "    x=\"AssignedType\", y=\"Fib_score\",\n",
    "    #inner=\"box\",\n",
    "               palette=['#aab4aa','#5fba46',\"#0000ff\",'#f97d05','#6464f0'],\n",
    "               #cut=3,\n",
    "               #scale=\"width\"\n",
    "              )\n",
    "ax.grid(False)\n",
    "ax.spines['right'].set_visible(False)\n",
    "#ax.spines['left'].set_visible(False)\n",
    "ax.spines['top'].set_visible(False)\n",
    "#plt.ylabel(\"OS_bin\",fontsize=12,rotation=90)\n",
    "plt.xticks(rotation=90) \n",
    "#two \n",
    "#plt.yticks([], [],rotation=90)"
   ]
  },
  {
   "cell_type": "code",
   "execution_count": null,
   "metadata": {},
   "outputs": [],
   "source": []
  },
  {
   "cell_type": "markdown",
   "metadata": {},
   "source": [
    "# Daohua_wiTH_AllCellLines"
   ]
  },
  {
   "cell_type": "code",
   "execution_count": null,
   "metadata": {
    "scrolled": true
   },
   "outputs": [],
   "source": [
    "dfnew=pd.read_table(\"f:/Dropbox/data/proj/PE_HYZ/PublicDataSet/DaohuaNBL/stringtieFPKM/TPM_Value.tab\", index_col =0 ,header=0, sep=\"\\t\")"
   ]
  },
  {
   "cell_type": "code",
   "execution_count": null,
   "metadata": {
    "scrolled": true
   },
   "outputs": [],
   "source": [
    "dfnew.shape"
   ]
  },
  {
   "cell_type": "code",
   "execution_count": null,
   "metadata": {},
   "outputs": [],
   "source": [
    "dfnew.columns"
   ]
  },
  {
   "cell_type": "code",
   "execution_count": null,
   "metadata": {},
   "outputs": [],
   "source": [
    "dfnew.columns=['TPM_P9225_101', 'TPM_P9225_102','TPM_P9225_107', 'TPM_P9225_110',\n",
    "       'TPM_P9225_105', 'TPM_P9225_106',  'TPM_P9225_103','TPM_P9225_108',\n",
    "       'TPM_P9225_109',  'TPM_P9225_104', 'TPM_P9225_111', 'TPM_P9225_112',\n",
    "       'TPM_P9225_113', 'TPM_P9225_114', 'TPM_P9225_115', 'TPM_P9225_116',\n",
    "       'TPM_P9225_117', 'TPM_P9225_118', 'TPM_P9225_119', 'TPM_P9225_120',\n",
    "       'TPM_P9225_121', 'TPM_P9225_122', 'TPM_P9225_123', 'TPM_P9225_124']"
   ]
  },
  {
   "cell_type": "code",
   "execution_count": null,
   "metadata": {},
   "outputs": [],
   "source": [
    "dfnew=dfnew[['TPM_P9225_101', 'TPM_P9225_102', 'TPM_P9225_103', 'TPM_P9225_104',\n",
    "       'TPM_P9225_105', 'TPM_P9225_106', 'TPM_P9225_107', 'TPM_P9225_108',\n",
    "       'TPM_P9225_109', 'TPM_P9225_110', 'TPM_P9225_111', 'TPM_P9225_112',\n",
    "       'TPM_P9225_113', 'TPM_P9225_114', 'TPM_P9225_115', 'TPM_P9225_116',\n",
    "       'TPM_P9225_117', 'TPM_P9225_118', 'TPM_P9225_119', 'TPM_P9225_120',\n",
    "       'TPM_P9225_121', 'TPM_P9225_122', 'TPM_P9225_123', 'TPM_P9225_124']]"
   ]
  },
  {
   "cell_type": "code",
   "execution_count": null,
   "metadata": {},
   "outputs": [],
   "source": [
    "dfgene=pd.read_table(\"f:/Dropbox/data/proj/PE_HYZ/PublicDataSet/Ensemble_All_Gene_Ref.txt\", index_col =0 ,header=0, sep=\"\\t\")\n",
    "dfgene.shape"
   ]
  },
  {
   "cell_type": "code",
   "execution_count": null,
   "metadata": {},
   "outputs": [],
   "source": [
    "dfgene=dfgene.loc[~dfgene.index.duplicated(keep='first')]\n",
    "dfgene.head()"
   ]
  },
  {
   "cell_type": "code",
   "execution_count": null,
   "metadata": {},
   "outputs": [],
   "source": [
    "dfgene.shape"
   ]
  },
  {
   "cell_type": "code",
   "execution_count": null,
   "metadata": {},
   "outputs": [],
   "source": [
    "dfnew=dfnew.join(dfgene[\"Gene name\"],how=\"inner\")"
   ]
  },
  {
   "cell_type": "code",
   "execution_count": null,
   "metadata": {},
   "outputs": [],
   "source": [
    "dfnew=dfnew.groupby(dfnew[\"Gene name\"]).mean()\n",
    "dfnew.shape"
   ]
  },
  {
   "cell_type": "code",
   "execution_count": null,
   "metadata": {},
   "outputs": [],
   "source": [
    "dfnew.head()"
   ]
  },
  {
   "cell_type": "code",
   "execution_count": null,
   "metadata": {},
   "outputs": [],
   "source": [
    "dfnew.loc[\"sum\"]=dfnew.sum()\n",
    "dfnew.tail()"
   ]
  },
  {
   "cell_type": "code",
   "execution_count": null,
   "metadata": {},
   "outputs": [],
   "source": [
    "dfnew=dfnew.loc[~dfnew.index.duplicated(keep='first')].T\n",
    "dfnew.shape"
   ]
  },
  {
   "cell_type": "code",
   "execution_count": null,
   "metadata": {},
   "outputs": [],
   "source": [
    "dfnew.tail()"
   ]
  },
  {
   "cell_type": "code",
   "execution_count": null,
   "metadata": {},
   "outputs": [],
   "source": []
  },
  {
   "cell_type": "code",
   "execution_count": null,
   "metadata": {
    "scrolled": true
   },
   "outputs": [],
   "source": [
    "dfgbm=dfnew\n",
    "dfgbm.shape"
   ]
  },
  {
   "cell_type": "code",
   "execution_count": null,
   "metadata": {},
   "outputs": [],
   "source": [
    "dfgbm=dfgbm.T\n",
    "dfgbm=dfgbm.loc[~dfgbm.index.duplicated(keep='first')].T\n",
    "dfgbm.shape"
   ]
  },
  {
   "cell_type": "code",
   "execution_count": null,
   "metadata": {},
   "outputs": [],
   "source": [
    "dfgbm=dfgbm.T\n",
    "dfgbm.loc[\"Cluster\"]=[\"SN-N-AS_Lar_Ctrl\"]*3+[\"SN-N-AS_Lar_OE\"]*3+[\"SN-N-AS_Small_Ctrl\"]*3+[\"SN-N-AS_Small_OE\"]*3+[\"LAN-1_Ctrl\"]*3+[\"LAN-1_OE\"]*3+[\"Kelly_Ctrl\"]*3+[\"Kelly_OE\"]*3"
   ]
  },
  {
   "cell_type": "code",
   "execution_count": null,
   "metadata": {
    "scrolled": true
   },
   "outputs": [],
   "source": [
    "dfgbm.tail()"
   ]
  },
  {
   "cell_type": "code",
   "execution_count": null,
   "metadata": {},
   "outputs": [],
   "source": [
    "dfgbmbulk=dfgbm"
   ]
  },
  {
   "cell_type": "code",
   "execution_count": null,
   "metadata": {},
   "outputs": [],
   "source": []
  },
  {
   "cell_type": "code",
   "execution_count": null,
   "metadata": {},
   "outputs": [],
   "source": []
  },
  {
   "cell_type": "code",
   "execution_count": null,
   "metadata": {},
   "outputs": [],
   "source": [
    "dfclus=dfgbmbulk.iloc[-2:,:]\n",
    "dfgbm=dfgbmbulk.iloc[:-1,:]"
   ]
  },
  {
   "cell_type": "code",
   "execution_count": null,
   "metadata": {
    "scrolled": true
   },
   "outputs": [],
   "source": [
    "scpdt2 = anndata.AnnData(dfgbm.T.astype(float))\n",
    "scpdt2"
   ]
  },
  {
   "cell_type": "code",
   "execution_count": null,
   "metadata": {},
   "outputs": [],
   "source": [
    "scpdt2.obs=dfclus.T"
   ]
  },
  {
   "cell_type": "code",
   "execution_count": null,
   "metadata": {
    "scrolled": true
   },
   "outputs": [],
   "source": [
    "scpdt2.obs"
   ]
  },
  {
   "cell_type": "code",
   "execution_count": null,
   "metadata": {},
   "outputs": [],
   "source": [
    "cd F:\\Dropbox\\data\\proj\\PE_HYZ\\PublicDataSet\\NBL_SZscRNA\\SWAPLINE2"
   ]
  },
  {
   "cell_type": "code",
   "execution_count": null,
   "metadata": {},
   "outputs": [],
   "source": [
    "scpdtbk=scpdt2"
   ]
  },
  {
   "cell_type": "code",
   "execution_count": null,
   "metadata": {
    "scrolled": true
   },
   "outputs": [],
   "source": []
  },
  {
   "cell_type": "code",
   "execution_count": null,
   "metadata": {},
   "outputs": [],
   "source": []
  },
  {
   "cell_type": "code",
   "execution_count": null,
   "metadata": {
    "scrolled": true
   },
   "outputs": [],
   "source": [
    "scpdt2.X.std()"
   ]
  },
  {
   "cell_type": "code",
   "execution_count": null,
   "metadata": {},
   "outputs": [],
   "source": [
    "scref.X.std()"
   ]
  },
  {
   "cell_type": "code",
   "execution_count": null,
   "metadata": {},
   "outputs": [],
   "source": [
    "#scpdt2.X=scpdt.X*(scref.X.std()/scpdt.X.std())"
   ]
  },
  {
   "cell_type": "code",
   "execution_count": null,
   "metadata": {},
   "outputs": [],
   "source": []
  },
  {
   "cell_type": "code",
   "execution_count": null,
   "metadata": {},
   "outputs": [],
   "source": [
    "scpdt2=scpdtbk.copy()\n",
    "scpdt2.X=scpdt2.X**3"
   ]
  },
  {
   "cell_type": "code",
   "execution_count": null,
   "metadata": {
    "scrolled": false
   },
   "outputs": [],
   "source": [
    "scref.X.std()"
   ]
  },
  {
   "cell_type": "code",
   "execution_count": null,
   "metadata": {},
   "outputs": [],
   "source": [
    "#scpdt2.X=2**scpdt2.X"
   ]
  },
  {
   "cell_type": "code",
   "execution_count": null,
   "metadata": {},
   "outputs": [],
   "source": [
    "scpdt2.X.std()"
   ]
  },
  {
   "cell_type": "code",
   "execution_count": null,
   "metadata": {
    "scrolled": true
   },
   "outputs": [],
   "source": [
    "dfpfcclus"
   ]
  },
  {
   "cell_type": "code",
   "execution_count": null,
   "metadata": {},
   "outputs": [],
   "source": [
    "scpdt2"
   ]
  },
  {
   "cell_type": "code",
   "execution_count": null,
   "metadata": {},
   "outputs": [],
   "source": [
    "scpdt2.obs"
   ]
  },
  {
   "cell_type": "code",
   "execution_count": null,
   "metadata": {},
   "outputs": [],
   "source": [
    "cd F:\\Dropbox\\data\\proj\\PE_HYZ\\BuidingCode\\SWAPLINE2\\SWAPLINE2"
   ]
  },
  {
   "cell_type": "code",
   "execution_count": null,
   "metadata": {},
   "outputs": [],
   "source": []
  },
  {
   "cell_type": "code",
   "execution_count": null,
   "metadata": {},
   "outputs": [],
   "source": [
    "import SCMprefiltering42 as SCMpref\n",
    "scpdt =SCMpref.MVgene_Scaling(datax=scpdt2,TPTT=10000,   commongene=scref.var.index.tolist(),  \n",
    "                                        sharedMVgenes=scref.uns[ 'train_set_gene'].tolist(),\n",
    "                                                                                            std_scaling=False,score=None, thrs=None,  mprotogruop=None,\n",
    "    tftable=\"f:/Dropbox/data/proj/PE_HYZ/PublicDataSet/FantomTF2CLUSTER_human_official.txt\", learninggroup=\"test\")\n",
    "\n"
   ]
  },
  {
   "cell_type": "code",
   "execution_count": null,
   "metadata": {
    "scrolled": true
   },
   "outputs": [],
   "source": [
    "scpdt"
   ]
  },
  {
   "cell_type": "code",
   "execution_count": null,
   "metadata": {},
   "outputs": [],
   "source": [
    "scpdt.obs[\"Cluster\"]"
   ]
  },
  {
   "cell_type": "code",
   "execution_count": null,
   "metadata": {},
   "outputs": [],
   "source": [
    "scpdt.uns[\"mwanted_order\"]= [ 'Kelly_Ctrl',\n",
    " 'Kelly_OE',\n",
    " 'LAN-1_Ctrl',\n",
    " 'LAN-1_OE',\n",
    "\n",
    " 'SN-N-AS_Lar_Ctrl',\n",
    " 'SN-N-AS_Lar_OE',\n",
    " 'SN-N-AS_Small_Ctrl',\n",
    " 'SN-N-AS_Small_OE'\n",
    "]\n",
    "\n",
    "color_dictclpn= pd.Series({'CHP134':  (120, 180, 240), 'CHP212': ( 20, 235, 255),  'COGN415':(120,  60,  10),\n",
    "              'COGN440':(20, 120, 190),'COGN453':(230, 120, 100),'COGN471':  (220, 15,215),\n",
    "                            'Kelly_Ctrl':  ( 190,  10,  10),'Kelly_OE': (215, 105,  30),\n",
    "              'LAN-1_Ctrl':    (111,111,111),'LAN-1_OE': (79,47,79)  ,'SN-N-AS_Lar_Ctrl':    (180, 140, 130),\n",
    "            'SN-N-AS_Lar_OE':  (100, 180, 240),'SN-N-AS_Small_Ctrl': ( 80, 235, 255),'SN-N-AS_Small_OE':(100, 100, 240),\n",
    "                            'COGN496': (115, 105,  30),\n",
    "              'COGN534':    (111,111,111),'COGN519': (79,47,79)  , 'COGN549':    (180, 140, 130),\n",
    "            'COGN573':  (100, 180, 240), 'COGN561': ( 80, 235, 255),'COGN557':(100, 100, 240),\n",
    "              'IMR32':(10, 120, 190), 'HU.FETAL.BRAIN':(230, 10, 100),'FELIX':  (120, 15,215),\n",
    "            'LAN5':   (190,  10,  10),'KELLY': (225, 160,  30),'IMR5':     (217, 245,   7) ,\n",
    "            'LAN6': (69,155,110)  , 'NB1':  (100, 100, 240), 'NB16':  (190, 200, 190),'NB1643':   ( 50, 180, 180),\n",
    "                            'NB1691':(10, 100, 240),'NBEBC1': (217, 245,   117),\n",
    " 'NB69':(100, 10, 240),'NBLS':(10, 120, 10),'NBSD': (211,211,111), 'NGP':(80, 140, 130),\n",
    " 'NLF':( 80, 35, 255),\n",
    " 'NMB': (190,  210,  10),\n",
    " 'RPE1':(125, 160,  30),\n",
    " 'SHSY5Y':(30, 10, 100),\n",
    " 'SKNAS':(20, 15,215),'SKNBE2C':(190,  60,  60),\n",
    "                     \n",
    "            'SKNBE2':   (190,  10,  10),'SKNDZ': (225, 160,  30),'SKNFI':   (217, 245,   7) ,\n",
    "            'SKNSH': (117, 245,   7)  ,'SMSKAN':  (111,111,111),'SMSSAN':  ( 50, 180, 180)})\n",
    "#color_dictclpn = color_dictclpn.map(lambda x: list(map(lambda y: y/255., x)))\n",
    "#color_dictclpn = color_dictclpn.map(lambda x: list(map(lambda y: y/255., x)))"
   ]
  },
  {
   "cell_type": "code",
   "execution_count": null,
   "metadata": {},
   "outputs": [],
   "source": [
    "import SW2main160 as SCM\n",
    "scpdt=SCM.addcolor(datax=scpdt,clustername=\"Cluster\", colorcode=\"color\",predef=color_dictclpn)"
   ]
  },
  {
   "cell_type": "code",
   "execution_count": null,
   "metadata": {
    "scrolled": true
   },
   "outputs": [],
   "source": [
    "scpdt"
   ]
  },
  {
   "cell_type": "code",
   "execution_count": null,
   "metadata": {},
   "outputs": [],
   "source": [
    "scpdt.obs[\"color\"]"
   ]
  },
  {
   "cell_type": "code",
   "execution_count": null,
   "metadata": {
    "scrolled": false
   },
   "outputs": [],
   "source": [
    "#import SW2main82 as SCM\n",
    "test=SCM.prediction(datax=scpdt, mcolor_dict=color_dictclpn,net=net,learninggroup=\"test\", radarplot=True, fontsizeValue=35,\n",
    "              datarefplot=scref,               ncolnm=1, bbValue=(1.1, 1.05))"
   ]
  },
  {
   "cell_type": "code",
   "execution_count": null,
   "metadata": {
    "scrolled": true
   },
   "outputs": [],
   "source": [
    "scpdt"
   ]
  },
  {
   "cell_type": "code",
   "execution_count": null,
   "metadata": {},
   "outputs": [],
   "source": [
    "scpdt3=scpdt.copy()"
   ]
  },
  {
   "cell_type": "code",
   "execution_count": null,
   "metadata": {
    "scrolled": true
   },
   "outputs": [],
   "source": [
    "cd f:\\Dropbox\\data\\proj\\PE_HYZ\\PublicDataSet\\NBL_SZscRNA\\SWAPLINE2"
   ]
  },
  {
   "cell_type": "code",
   "execution_count": null,
   "metadata": {},
   "outputs": [],
   "source": [
    "scpdt.file.close()"
   ]
  },
  {
   "cell_type": "code",
   "execution_count": null,
   "metadata": {},
   "outputs": [],
   "source": [
    "dfprob=pd.DataFrame(scpdt3.obsm[\"Celltype_Score\"])"
   ]
  },
  {
   "cell_type": "code",
   "execution_count": null,
   "metadata": {},
   "outputs": [],
   "source": [
    "dfprob.columns=scpdt.uns[ 'Celltype_Score_RefCellType']\n",
    "dfprob.index=scpdt.obs.index\n",
    "dfprob[\"Cluster\"]=scpdt.obs[\"Cluster\"]\n",
    "dfprob"
   ]
  },
  {
   "cell_type": "code",
   "execution_count": null,
   "metadata": {
    "scrolled": false
   },
   "outputs": [],
   "source": [
    "dfprob.groupby([\"Cluster\"]).mean()"
   ]
  },
  {
   "cell_type": "code",
   "execution_count": null,
   "metadata": {},
   "outputs": [],
   "source": [
    "cd F:\\Dropbox\\Lab work\\Project\\XYY NEO1 NF2\\SuzhouChildH\\SuzhouChildH\\szNBL\\Manuscript\\CSC2\\Tables"
   ]
  },
  {
   "cell_type": "code",
   "execution_count": null,
   "metadata": {},
   "outputs": [],
   "source": [
    "dfprob.to_csv(\"Daohua_HMX1oe_cellType_Distribution.csv\",sep=\"\\t\")"
   ]
  },
  {
   "cell_type": "code",
   "execution_count": null,
   "metadata": {},
   "outputs": [],
   "source": []
  },
  {
   "cell_type": "code",
   "execution_count": null,
   "metadata": {},
   "outputs": [],
   "source": []
  },
  {
   "cell_type": "code",
   "execution_count": null,
   "metadata": {},
   "outputs": [],
   "source": [
    "cd ."
   ]
  },
  {
   "cell_type": "code",
   "execution_count": null,
   "metadata": {
    "scrolled": true
   },
   "outputs": [],
   "source": [
    "cd F:\\Dropbox\\data\\proj\\PE_HYZ\\PublicDataSet\\NBL_SZscRNA\\FinalDataset"
   ]
  },
  {
   "cell_type": "code",
   "execution_count": null,
   "metadata": {
    "scrolled": true
   },
   "outputs": [],
   "source": [
    "scpdt=anndata.read(\"SEQC_bulkNBL_fit_szNBLscRNAseq.h5ad\")"
   ]
  },
  {
   "cell_type": "code",
   "execution_count": null,
   "metadata": {
    "scrolled": false
   },
   "outputs": [],
   "source": [
    "dfprob=pd.DataFrame(scpdt.obsm[\"Celltype_Score\"])\n",
    "dfprob.shape"
   ]
  },
  {
   "cell_type": "code",
   "execution_count": null,
   "metadata": {},
   "outputs": [],
   "source": [
    "dfprob.columns=scpdt.uns[\"Celltype_Score_RefCellType\"]\n",
    "dfprob.index=scpdt.obs.index"
   ]
  },
  {
   "cell_type": "code",
   "execution_count": null,
   "metadata": {},
   "outputs": [],
   "source": [
    "dfprob"
   ]
  },
  {
   "cell_type": "code",
   "execution_count": null,
   "metadata": {},
   "outputs": [],
   "source": []
  },
  {
   "cell_type": "code",
   "execution_count": null,
   "metadata": {},
   "outputs": [],
   "source": [
    "import pandas as pd\n",
    "import numpy as np\n",
    "from scipy.cluster.hierarchy import dendrogram, linkage\n",
    "from scipy.spatial.distance import pdist, squareform\n",
    "import seaborn as sns\n",
    "import matplotlib.pyplot as plt\n",
    "\n",
    "# Assuming you have a pandas DataFrame 'df' with 500 rows and 5 columns\n",
    "df =dfprob.iloc[:,:]**0.85# Load your data into a DataFrame\n",
    "\n",
    "# Perform the hierarchical clustering\n",
    "row_linkage = linkage(df,metric=\"euclidean\", method='ward')  # 'ward' is one linkage method, you can choose others like 'single', 'complete', 'average', etc."
   ]
  },
  {
   "cell_type": "code",
   "execution_count": null,
   "metadata": {
    "scrolled": false
   },
   "outputs": [],
   "source": [
    "# Plot the dendrogram (optional, for your reference)\n",
    "plt.figure(figsize=(10, 7))\n",
    "dendrogram(row_linkage, labels=df.index,color_threshold=50, leaf_rotation=90, leaf_font_size=5)\n",
    "plt.title(\"Dendrogram\")\n",
    "plt.xlabel(\"Sample Index\")\n",
    "plt.ylabel(\"Distance\")\n",
    "plt.show()\n"
   ]
  },
  {
   "cell_type": "code",
   "execution_count": null,
   "metadata": {},
   "outputs": [],
   "source": [
    "    'Diff_Mes', 'NC_prog',\n",
    "'Bridge_SCP',\n",
    "    'Connecting',\n",
    "\n",
    " 'preNeuroblast',\n",
    "     'Chromaffin',\n",
    " 'Diff_Neuroblast',"
   ]
  },
  {
   "cell_type": "code",
   "execution_count": null,
   "metadata": {},
   "outputs": [],
   "source": [
    "1,2,3:\"Diff_Mes\",\n",
    "    4,5: 'NC_prog',\n",
    "      6:\"Bridge_SCP\",\n",
    "        7: \"preNeuroblast\",\n",
    "            9,10: \"Mix_N_P\",\n",
    "            11,12:\"Connecting\",\n",
    "                13,14:\"Mix_N-B-C-P\"\n",
    "                    8,15,16:\"Mix_C-P\""
   ]
  },
  {
   "cell_type": "code",
   "execution_count": null,
   "metadata": {},
   "outputs": [],
   "source": [
    "df"
   ]
  },
  {
   "cell_type": "code",
   "execution_count": null,
   "metadata": {},
   "outputs": [],
   "source": []
  },
  {
   "cell_type": "code",
   "execution_count": null,
   "metadata": {},
   "outputs": [],
   "source": [
    "from scipy.cluster.hierarchy import linkage, fcluster\n",
    "threshold_distance = 50  # You may choose an appropriate threshold based on your dendrogram\n",
    "cluster_labels = fcluster(row_linkage, t=threshold_distance, criterion='distance')\n",
    "\n",
    "# Add cluster labels to the dataframe\n",
    "df['Main_cluster'] = cluster_labels\n",
    "\n",
    "# Output the dataframe sorted by cluster\n",
    "sorted_df = df.sort_values('Main_cluster')"
   ]
  },
  {
   "cell_type": "code",
   "execution_count": null,
   "metadata": {},
   "outputs": [],
   "source": [
    "sorted_df"
   ]
  },
  {
   "cell_type": "code",
   "execution_count": null,
   "metadata": {},
   "outputs": [],
   "source": [
    "clist=[]\n",
    "for item in df['Main_cluster']:\n",
    "    if item in[1,2,3]:\n",
    "        clist.append(\"Diff_Mes\")\n",
    "    elif item in [4]: \n",
    "         clist.append('NC_prog')\n",
    "    elif item in [5,6,13,14]: clist.append(\"Bridge_SCP\"),\n",
    "    elif item in [7,8,9,10]: clist.append(\"preNeuroblast\"),\n",
    "    #elif item in []: clist.append(\"Mix_N_P\"),\n",
    "    elif item in [11,12,15,16]: clist.append(\"Connecting\"),\n",
    "    #elif item in [13,14]: clist.append(\"Mix_N-B-C-P\"),\n",
    "   # elif item in [8,15,16]: clist.append(\"Mix_C-P\")"
   ]
  },
  {
   "cell_type": "code",
   "execution_count": null,
   "metadata": {},
   "outputs": [],
   "source": [
    "df['Main_cluster']=clist"
   ]
  },
  {
   "cell_type": "code",
   "execution_count": null,
   "metadata": {},
   "outputs": [],
   "source": [
    "set(df['Main_cluster'])"
   ]
  },
  {
   "cell_type": "code",
   "execution_count": null,
   "metadata": {},
   "outputs": [],
   "source": [
    "df2=df.loc[df['Main_cluster']==\"Diff_Mes\"].append(df.loc[df['Main_cluster']==\"NC_prog\"]).append(df.loc[df['Main_cluster']==\"Bridge_SCP\"]).append(df.loc[df['Main_cluster']==\"Connecting\"]).append(df.loc[df['Main_cluster']==\"preNeuroblast\"])"
   ]
  },
  {
   "cell_type": "code",
   "execution_count": null,
   "metadata": {},
   "outputs": [],
   "source": [
    "df2.shape"
   ]
  },
  {
   "cell_type": "code",
   "execution_count": null,
   "metadata": {},
   "outputs": [],
   "source": [
    "df2"
   ]
  },
  {
   "cell_type": "code",
   "execution_count": null,
   "metadata": {
    "scrolled": false
   },
   "outputs": [],
   "source": [
    "\n",
    "# Calculate the distance matrix for the heatmap\n",
    "sns.clustermap(df2.iloc[:,:-1].T, col_linkage=row_linkage,metric=\"euclidean\", method='ward',row_cluster=False, col_cluster=False, \n",
    "              standard_scale=0, \n",
    "               cmap='viridis')\n",
    "\n",
    "plt.show()"
   ]
  },
  {
   "cell_type": "code",
   "execution_count": null,
   "metadata": {},
   "outputs": [],
   "source": [
    "df"
   ]
  },
  {
   "cell_type": "code",
   "execution_count": null,
   "metadata": {
    "scrolled": false
   },
   "outputs": [],
   "source": [
    "\n",
    "# Calculate the distance matrix for the heatmap\n",
    "sns.clustermap(df.iloc[:,:-1].T, col_linkage=row_linkage,metric=\"euclidean\", method='ward',row_cluster=False,\n",
    "              standard_scale=0, \n",
    "               cmap='viridis')\n",
    "\n",
    "plt.show()"
   ]
  },
  {
   "cell_type": "code",
   "execution_count": null,
   "metadata": {},
   "outputs": [],
   "source": []
  },
  {
   "cell_type": "code",
   "execution_count": null,
   "metadata": {},
   "outputs": [],
   "source": [
    "import scanpy as sc"
   ]
  },
  {
   "cell_type": "code",
   "execution_count": null,
   "metadata": {},
   "outputs": [],
   "source": [
    "cd F:\\Dropbox\\data\\proj\\PE_HYZ\\PublicDataSet\\NBL_SZscRNA\\FinalDataset"
   ]
  },
  {
   "cell_type": "code",
   "execution_count": null,
   "metadata": {},
   "outputs": [],
   "source": [
    "scpdt=sc.read(\"SEQC_bulkNBL_fit_szNBLscRNAseq.h5ad\")"
   ]
  },
  {
   "cell_type": "code",
   "execution_count": null,
   "metadata": {},
   "outputs": [],
   "source": [
    "scpdt"
   ]
  },
  {
   "cell_type": "code",
   "execution_count": null,
   "metadata": {},
   "outputs": [],
   "source": []
  },
  {
   "cell_type": "code",
   "execution_count": null,
   "metadata": {},
   "outputs": [],
   "source": [
    "adata=scm.CamelPrefiltering.DataScaling(scpdt)"
   ]
  },
  {
   "cell_type": "code",
   "execution_count": null,
   "metadata": {},
   "outputs": [],
   "source": [
    "adata"
   ]
  },
  {
   "cell_type": "code",
   "execution_count": null,
   "metadata": {},
   "outputs": [],
   "source": [
    "mklistnbl=[\n",
    " \"PDGFRA\",\"PRRX1\",\"FOXC1\",\n",
    "    \"TWIST1\",\n",
    "    #\"SOX5\", \"TFAP2A\", \n",
    " # \"SOX8\",  \"SOX10\",\"ERBB3\",\n",
    "  # 'PLP1',\"MPZ\",'S100B',\n",
    "    \"E2F7\",\"ASCL1\",\"CTTNBP2\",\"HTR3A\",\n",
    "    #\"ISL1\",\n",
    "   \"PHOX2B\", \"CHGA\",\"CHGB\",\n",
    "\"TH\",\"DBH\", \"PHOX2A\", \n",
    "    \"ALK\",\"HMX1\",\"ELAVL4\",\n",
    "  \"PNMT\",\n",
    "    \"NTRK1\",\"NEFL\",\"PRPH\",]"
   ]
  },
  {
   "cell_type": "code",
   "execution_count": null,
   "metadata": {
    "scrolled": true
   },
   "outputs": [],
   "source": [
    "adata.X"
   ]
  },
  {
   "cell_type": "code",
   "execution_count": null,
   "metadata": {},
   "outputs": [],
   "source": [
    "from scipy.sparse import csr_matrix\n",
    "import numpy as np\n",
    "adata.X = csr_matrix(adata.X)\n",
    "adata"
   ]
  },
  {
   "cell_type": "code",
   "execution_count": null,
   "metadata": {},
   "outputs": [],
   "source": [
    "set(adata.obs[\"AssignedType\"])"
   ]
  },
  {
   "cell_type": "code",
   "execution_count": null,
   "metadata": {},
   "outputs": [],
   "source": [
    "custom_order_of_groups = [ \n",
    "  \n",
    "\n",
    " 'Diff_Mes', 'NC_prog',  \n",
    " 'Bridge_SCP',\n",
    "     'Connecting',\n",
    "     \n",
    "# 'Mix_C-P',\n",
    "    'preNeuroblast',\n",
    "\n",
    "]\n",
    "adata=adata[adata.obs[\"AssignedType\"].isin(custom_order_of_groups),:]\n",
    "# Reorder the categories\n",
    "adata.obs['AssignedType'] = (\n",
    "    adata.obs['AssignedType']\n",
    "    .astype('category')\n",
    "    .cat.reorder_categories(custom_order_of_groups)\n",
    ")\n",
    "\n",
    "sc.set_figure_params(scanpy=True, fontsize=18)\n",
    "# Now, use dotplot\n",
    "sc.pl.dotplot(adata, var_names=mklistnbl, groupby='AssignedType',figsize=(9,4),dendrogram=False, \n",
    "            color_map='coolwarm',\n",
    "              dot_max=0.8,  # Adjust the max dot size\n",
    "              dot_min=0.1,\n",
    "              standard_scale=\"var\",\n",
    "             #log=True\n",
    "             )\n"
   ]
  },
  {
   "cell_type": "code",
   "execution_count": null,
   "metadata": {},
   "outputs": [],
   "source": []
  },
  {
   "cell_type": "code",
   "execution_count": null,
   "metadata": {},
   "outputs": [],
   "source": [
    "mklistnbl=[\n",
    " \"PDGFRA\",\"PRRX1\",\"FOXC1\",\n",
    "    \"TWIST1\",\n",
    "    #\"SOX5\", \"TFAP2A\", \n",
    " # \"SOX8\",  \"SOX10\",\"ERBB3\",\n",
    "  # 'PLP1',\"MPZ\",'S100B',\n",
    "    \"E2F7\",\"ASCL1\",\n",
    "    #\"ISL1\",\n",
    "   \"PHOX2B\", \"CHGA\",\n",
    "\"TH\",\"DBH\", \"PHOX2A\",  \"PNMT\",\n",
    "    \"NTRK1\",\"NEFL\",\"PRPH\",]"
   ]
  },
  {
   "cell_type": "code",
   "execution_count": null,
   "metadata": {},
   "outputs": [],
   "source": []
  },
  {
   "cell_type": "code",
   "execution_count": null,
   "metadata": {},
   "outputs": [],
   "source": [
    "custom_order_of_groups = [ \n",
    "  \n",
    "\n",
    " 'Diff_Mes', 'NC_prog',  \n",
    " 'Bridge_SCP',\n",
    "     'Connecting',\n",
    "     \n",
    "# 'Mix_C-P',\n",
    "    'preNeuroblast',\n",
    "\n",
    "]\n",
    "adata=adata[adata.obs[\"AssignedType\"].isin(custom_order_of_groups),:]\n",
    "# Reorder the categories\n",
    "adata.obs['AssignedType'] = (\n",
    "    adata.obs['AssignedType']\n",
    "    .astype('category')\n",
    "    .cat.reorder_categories(custom_order_of_groups)\n",
    ")\n",
    "\n",
    "sc.set_figure_params(scanpy=True, fontsize=18)\n",
    "# Now, use dotplot\n",
    "sc.pl.dotplot(adata, var_names=mklistnbl, groupby='AssignedType',figsize=(9,4),dendrogram=False, \n",
    "            color_map='coolwarm',\n",
    "              dot_max=0.9,  # Adjust the max dot size\n",
    "              dot_min=0.1,\n",
    "              standard_scale=\"var\",\n",
    "             log=True\n",
    "             )\n"
   ]
  },
  {
   "cell_type": "code",
   "execution_count": null,
   "metadata": {},
   "outputs": [],
   "source": [
    "adata.obs.groupby([\"Cell_type\"]).count()/498"
   ]
  },
  {
   "cell_type": "code",
   "execution_count": null,
   "metadata": {},
   "outputs": [],
   "source": [
    "cd F:\\Dropbox\\Lab work\\Project\\XYY NEO1 NF2\\SuzhouChildH\\SuzhouChildH\\szNBL\\Manuscript\\CSC2\\Tables"
   ]
  },
  {
   "cell_type": "code",
   "execution_count": null,
   "metadata": {},
   "outputs": [],
   "source": [
    "scpdt.obs.to_csv(\"SEQC_subtypeInformation.csv\",sep=\"\\t\")"
   ]
  },
  {
   "cell_type": "code",
   "execution_count": null,
   "metadata": {},
   "outputs": [],
   "source": []
  },
  {
   "cell_type": "code",
   "execution_count": null,
   "metadata": {},
   "outputs": [],
   "source": []
  }
 ],
 "metadata": {
  "kernelspec": {
   "display_name": "Python 3 (ipykernel)",
   "language": "python",
   "name": "python3"
  },
  "language_info": {
   "codemirror_mode": {
    "name": "ipython",
    "version": 3
   },
   "file_extension": ".py",
   "mimetype": "text/x-python",
   "name": "python",
   "nbconvert_exporter": "python",
   "pygments_lexer": "ipython3",
   "version": "3.8.16"
  }
 },
 "nbformat": 4,
 "nbformat_minor": 2
}
