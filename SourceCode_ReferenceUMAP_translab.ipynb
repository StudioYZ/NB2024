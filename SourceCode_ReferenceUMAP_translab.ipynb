{
 "cells": [
  {
   "cell_type": "code",
   "execution_count": null,
   "metadata": {},
   "outputs": [],
   "source": [
    "import datetime\n",
    "today=f\"{datetime.datetime.now():%Y-%m-%d}\"\n",
    "today"
   ]
  },
  {
   "cell_type": "code",
   "execution_count": null,
   "metadata": {},
   "outputs": [],
   "source": [
    "import matplotlib.pyplot as plt\n",
    "import pandas as pd\n",
    "import numpy as np\n",
    "from sklearn.decomposition import PCA\n",
    "from sklearn import manifold\n",
    "from collections import defaultdict\n",
    "#from mpl_toolkits.mplot3d import Axes3D\n",
    "import math\n",
    "import sklearn\n",
    "import scipy\n",
    "import os\n",
    "import sys\n",
    "#imports\n",
    "import pandas as pd\n",
    "import pickle as pickle\n",
    "from scipy.spatial.distance import cdist, pdist, squareform\n",
    "#import backspinpy\n",
    "#from backspinpy import fit_CV\n",
    "#from backspinpy.Cef_tools import *\n",
    "#from __future__ import division\n",
    "import pandas as pd\n",
    "from sklearn.linear_model import LogisticRegression, LogisticRegressionCV\n",
    "#from sklearn.cross_validation import StratifiedShuffleSplit  \n",
    "from collections import defaultdict\n",
    "from sklearn import preprocessing\n",
    "import matplotlib.patches as mpatches\n",
    "import anndata"
   ]
  },
  {
   "cell_type": "code",
   "execution_count": null,
   "metadata": {},
   "outputs": [],
   "source": [
    "def package_version():\n",
    "    alllist=[]\n",
    "    for m in globals().values():\n",
    "        if getattr(m, '__version__', None):\n",
    "            alllist.append(f'{m.__name__}=={m.__version__}')\n",
    "    return alllist"
   ]
  },
  {
   "cell_type": "code",
   "execution_count": null,
   "metadata": {},
   "outputs": [],
   "source": [
    "versionlist=package_version()\n",
    "versionlist"
   ]
  },
  {
   "cell_type": "code",
   "execution_count": null,
   "metadata": {
    "scrolled": false
   },
   "outputs": [],
   "source": [
    "%pylab inline"
   ]
  },
  {
   "cell_type": "code",
   "execution_count": null,
   "metadata": {},
   "outputs": [],
   "source": [
    "from sklearn.decomposition import PCA\n",
    "import umap"
   ]
  },
  {
   "cell_type": "code",
   "execution_count": null,
   "metadata": {
    "scrolled": false
   },
   "outputs": [],
   "source": [
    "cd D:\\Dropbox\\data\\proj\\PE_HYZ\\PublicDataSet\\NBL_SZscRNA\\SWAPLINE2"
   ]
  },
  {
   "cell_type": "code",
   "execution_count": null,
   "metadata": {},
   "outputs": [],
   "source": [
    "dfprobref=pd.read_table(\"TrunkNeuralCrestChromaffin_reference_NNlearning_probability.tab\",index_col=0,header=0,sep=\"\\t\")"
   ]
  },
  {
   "cell_type": "code",
   "execution_count": null,
   "metadata": {
    "scrolled": false
   },
   "outputs": [],
   "source": [
    "cd D:\\Dropbox\\data\\proj\\PE_HYZ\\PublicDataSet\\NBL_SZscRNA\\SWAPLINE2"
   ]
  },
  {
   "cell_type": "code",
   "execution_count": null,
   "metadata": {
    "scrolled": false
   },
   "outputs": [],
   "source": [
    "scref1=anndata.read(\"Integrated_Mouse_NeuralCrest.h5ad\")\n",
    "scref1"
   ]
  },
  {
   "cell_type": "code",
   "execution_count": null,
   "metadata": {},
   "outputs": [],
   "source": [
    "scref1=scref1[dfprobref.index,:].copy()"
   ]
  },
  {
   "cell_type": "code",
   "execution_count": null,
   "metadata": {},
   "outputs": [],
   "source": [
    "scref1.obsm[\"Celltype_Score\"]=dfprobref.values"
   ]
  },
  {
   "cell_type": "code",
   "execution_count": null,
   "metadata": {},
   "outputs": [],
   "source": [
    "scref1"
   ]
  },
  {
   "cell_type": "code",
   "execution_count": null,
   "metadata": {
    "scrolled": false
   },
   "outputs": [],
   "source": [
    "scref1.uns['Celltype_Score_RefCellType']"
   ]
  },
  {
   "cell_type": "code",
   "execution_count": null,
   "metadata": {},
   "outputs": [],
   "source": [
    "dfprobref.columns"
   ]
  },
  {
   "cell_type": "code",
   "execution_count": null,
   "metadata": {},
   "outputs": [],
   "source": [
    "dfprobref2=pd.read_table(\"TrunkNeuralCrestChromaffin_NNlearning_Igor_HumanAdrenal_prediction_3242cells_fit_Ref_prob.tab\",index_col=0,header=0,sep=\"\\t\")"
   ]
  },
  {
   "cell_type": "code",
   "execution_count": null,
   "metadata": {},
   "outputs": [],
   "source": [
    "scref2=anndata.read(\"Igor_humandata_scRNAseq_fit_Integrated_Mouse_NeuralCrest.h5ad\", \n",
    "                  )"
   ]
  },
  {
   "cell_type": "code",
   "execution_count": null,
   "metadata": {
    "scrolled": true
   },
   "outputs": [],
   "source": [
    "scref2=scref2[dfprobref2.index,:].copy()"
   ]
  },
  {
   "cell_type": "code",
   "execution_count": null,
   "metadata": {
    "scrolled": true
   },
   "outputs": [],
   "source": [
    "scref2.obsm[\"Celltype_Score\"]=dfprobref2.values"
   ]
  },
  {
   "cell_type": "code",
   "execution_count": null,
   "metadata": {},
   "outputs": [],
   "source": [
    "scref2.uns['Celltype_Score_RefCellType']"
   ]
  },
  {
   "cell_type": "code",
   "execution_count": null,
   "metadata": {},
   "outputs": [],
   "source": [
    "swref = scref1.concatenate(scref2)"
   ]
  },
  {
   "cell_type": "code",
   "execution_count": null,
   "metadata": {},
   "outputs": [],
   "source": [
    "swref.uns[\"Celltype_Score_RefCellType\"]=scref2.uns[\"Celltype_Score_RefCellType\"]"
   ]
  },
  {
   "cell_type": "code",
   "execution_count": null,
   "metadata": {
    "scrolled": true
   },
   "outputs": [],
   "source": [
    "cd D:\\Dropbox\\data\\proj\\PE_HYZ\\BuidingCode\\SWAPLINE2\\SWAPLINE2"
   ]
  },
  {
   "cell_type": "code",
   "execution_count": null,
   "metadata": {},
   "outputs": [],
   "source": [
    "import SW2main98 as SCM"
   ]
  },
  {
   "cell_type": "code",
   "execution_count": null,
   "metadata": {
    "scrolled": false
   },
   "outputs": [],
   "source": [
    "cd D:\\Dropbox\\data\\proj\\PE_HYZ\\BuidingCode\\SWAPLINE2\\SWAPLINE2"
   ]
  },
  {
   "cell_type": "code",
   "execution_count": null,
   "metadata": {
    "scrolled": true
   },
   "outputs": [],
   "source": [
    "UMAPmodel2=SCM.save_load_model(modelname=None, filename='umapNN25mdist06rd173backup.sav', type=\"load\")"
   ]
  },
  {
   "cell_type": "code",
   "execution_count": null,
   "metadata": {
    "scrolled": true
   },
   "outputs": [],
   "source": [
    "swref"
   ]
  },
  {
   "cell_type": "code",
   "execution_count": null,
   "metadata": {
    "scrolled": true
   },
   "outputs": [],
   "source": [
    "swref.obsm[\"Celltype_Score\"].astype(float)"
   ]
  },
  {
   "cell_type": "code",
   "execution_count": null,
   "metadata": {},
   "outputs": [],
   "source": [
    "X_rTest = UMAPmodel2.transform(swref.obsm[\"Celltype_Score\"].astype(float))\n",
    "swref.obsm['X_umap'] = X_rTest"
   ]
  },
  {
   "cell_type": "code",
   "execution_count": null,
   "metadata": {},
   "outputs": [],
   "source": [
    "color_dict2 = pd.Series({ 'SCPs':   (90,  10,  10), 'Chromaffin': (115, 60,  130),\n",
    "                             'cycling':    (57, 105,   7),\n",
    "             'Sympath':    (170, 180, 170),\n",
    "                            'Cardiac_Mes':( 50, 180, 180),\n",
    " 'Mesenchymal':( 50, 20, 50),\n",
    " 'Early_Migratory_Prog':(255,0,0),\n",
    "                          'Migratory_Prog':(255,0,0),\n",
    " 'Gang_Endothelial':  ( 150, 80, 180),\n",
    " 'Gang_JG':( 150, 60, 180),\n",
    " 'Gang_NG':( 50, 220, 20),\n",
    "\n",
    " 'Gang_Sympathetic':(100, 125, 70),\n",
    " 'Late_Migratory_Prog':(200,20,100),\n",
    " 'Mesenchyme_Prog':(255,215,0),\n",
    " 'PNS_GLI_MNA_ENTG':(20, 100, 90),\n",
    " 'PNS_GLI_MNA_SATG':(50, 60, 50),\n",
    " 'PNS_GLI_MNA_SCHW':(150, 220, 50),\n",
    " 'PNS_NeuN_MNA_ENT':(200, 30, 50),\n",
    " 'PNS_NeuN_MNA_PSNF':(20, 130, 250),\n",
    " 'PNS_NeuN_MNA_PSNP':(200, 69, 0),\n",
    " 'PNS_NeuN_MNA_PSPEP':(100, 150, 0),\n",
    " 'PNS_NeuN_MNA_SYCHO':(61, 125, 33),\n",
    " 'Sympathetic':(29, 20, 100),\n",
    " 'Schw_Bridge':(30, 250, 170),\n",
    " 'Chromaffin':(112,128,144),\n",
    " 'Schw_SCP':(165,42,42),\n",
    " 'Schw_SympaBlast':(170, 250, 70),\n",
    " 'Sensory_Prog':(75,0,130),\n",
    " 'Autonomic_Prog':(0,0,255),\n",
    "     'Schwann/Glia':( 110, 140, 100),\n",
    "                         'OL':   (117, 245, 7) ,\n",
    "              'OLIG':    (111,111,111), 'PeriC': (217, 215,   7)  ,'aRgl':    (180, 140, 130),\n",
    "              'aNSC2':  (100, 180, 240),  'SMC': ( 80, 235, 255),'aaSMC':(139,69,19),\n",
    "             'NC_auto':(10, 120, 190), 'NC_delami':(230, 10, 100), 'NC_EarlyMigr':  (120, 15,215),\n",
    "             'Meni_FB':   (190,  10,  10),'Meni_Neuron': (225, 160,  30),\n",
    "                       'Meni_Rgl':    ( 159,155,110),\n",
    "           'NC_Mes': (69,155,110)  ,'migratory 1': (215, 105,  30) , 'NC_Migr':  (190, 200, 190),'NeuralTube':   ( 50, 180, 180),\n",
    "                         'qRgl':  (  250,125,0),'qNSC2': (215, 105,  30),'NC_sensory':  (79,47,79)   ,\n",
    "              'vSMC':    (170, 180, 170), 'SCPs':   (90,  10,  10), 'Chromaffin': (25, 60,  130),\n",
    "                             'cycling':    (57, 105,   7),\n",
    "             'Sympath':    (170, 180, 170),'SCP':   (190,  10,  10), 'chromaffin': (0,0,150),\n",
    "                             'cycling':    (57, 105,   7),\n",
    "             'sympathoblasts':    (170, 180, 170),\n",
    "    })\n",
    "color_dict2 = color_dict2.map(lambda x: list(map(lambda y: y/255., x)))"
   ]
  },
  {
   "cell_type": "code",
   "execution_count": null,
   "metadata": {
    "scrolled": true
   },
   "outputs": [],
   "source": [
    "set(swref.obs[\"Cluster\"])"
   ]
  },
  {
   "cell_type": "code",
   "execution_count": null,
   "metadata": {},
   "outputs": [],
   "source": [
    "colorlist=[]\n",
    "for item in swref.obs[\"Cluster\"]:\n",
    "    colorlist.append(color_dict2[item])"
   ]
  },
  {
   "cell_type": "code",
   "execution_count": null,
   "metadata": {},
   "outputs": [],
   "source": [
    "swref.obs[\"color\"]=colorlist"
   ]
  },
  {
   "cell_type": "code",
   "execution_count": null,
   "metadata": {
    "scrolled": true
   },
   "outputs": [],
   "source": [
    "#plt.scatter(swref.obsm[\"X_umap\"][:,0],swref.obsm[\"X_umap\"][:,1],c=swref.obs[\"color\"])"
   ]
  },
  {
   "cell_type": "code",
   "execution_count": null,
   "metadata": {},
   "outputs": [],
   "source": [
    "#import SW2main16"
   ]
  },
  {
   "cell_type": "code",
   "execution_count": null,
   "metadata": {},
   "outputs": [],
   "source": [
    "swref,ax=SCM.UMAP_plot(datax=swref,figuresize=(10,10),alphavalue=0.7, lwvalue=0.01, markervalue=\".\",Ncol=1,\n",
    "             dotsize=120,lengendfont=15, legendloc=2,bbox_to_anchorvalues=(1, 1.1))"
   ]
  },
  {
   "cell_type": "code",
   "execution_count": null,
   "metadata": {},
   "outputs": [],
   "source": [
    "swref"
   ]
  },
  {
   "cell_type": "code",
   "execution_count": null,
   "metadata": {},
   "outputs": [],
   "source": [
    "#import SW2main21"
   ]
  },
  {
   "cell_type": "code",
   "execution_count": null,
   "metadata": {
    "scrolled": true
   },
   "outputs": [],
   "source": [
    "swref1,swref2, ax=SCM.UMAPplotRefPred(DataRef=swref[swref.obs[\"batch\"] ==\"0\"], DataPdt=swref[swref.obs[\"batch\"] ==\"1\"], \n",
    "                                            refClusterName=\"Cluster\",pdtClusterName=\"Cluster\", \n",
    "                                            refColorCode='color', pdtColorCode='color',figuresize=(10, 10),\n",
    "                    RefAlphaValue=0.6, RefLwValue=0.1, RefMarkerValue=\"x\", RefDotSize=100,\n",
    "                    PdtAlphaValue=0.9, PdtLwValue=1, PdtMarkerValue=\".\", PdtDotSize=100,\n",
    "                    lengendfont=15, RefLegendloc=2, PdtLegendloc=3, Refbbox_to_anchorvalues=(1, 1.1),\n",
    "                    Pdtbbox_to_anchorvalues=(1, 0.01))"
   ]
  },
  {
   "cell_type": "markdown",
   "metadata": {},
   "source": [
    "# Clustering"
   ]
  },
  {
   "cell_type": "code",
   "execution_count": null,
   "metadata": {},
   "outputs": [],
   "source": [
    "#import SW2main as SCM"
   ]
  },
  {
   "cell_type": "code",
   "execution_count": null,
   "metadata": {
    "scrolled": true
   },
   "outputs": [],
   "source": [
    "cd D:\\Dropbox\\data\\proj\\PE_HYZ\\BuidingCode\\SWAPLINE2\\SWAPLINE2"
   ]
  },
  {
   "cell_type": "code",
   "execution_count": null,
   "metadata": {},
   "outputs": [],
   "source": [
    "swref=SCM.SWAPLINE_dist(datax=swref, n_neighbors=50, metric = 'euclidean')"
   ]
  },
  {
   "cell_type": "code",
   "execution_count": null,
   "metadata": {},
   "outputs": [],
   "source": [
    "swref"
   ]
  },
  {
   "cell_type": "code",
   "execution_count": null,
   "metadata": {},
   "outputs": [],
   "source": [
    "Th_value=15\n",
    "swref=SCM.clusterfinder(datax=swref,Th_value =Th_value, method=\"Louvain\")"
   ]
  },
  {
   "cell_type": "code",
   "execution_count": null,
   "metadata": {
    "scrolled": true
   },
   "outputs": [],
   "source": [
    "swref"
   ]
  },
  {
   "cell_type": "code",
   "execution_count": null,
   "metadata": {
    "scrolled": true
   },
   "outputs": [],
   "source": [
    "#del swref.obs['Assignedcolor']"
   ]
  },
  {
   "cell_type": "code",
   "execution_count": null,
   "metadata": {
    "scrolled": false
   },
   "outputs": [],
   "source": [
    "swrefx,ax=SCM.UMAP_plot(datax=swref,clustername=\"Assigned_Celltype\",colorcode=\"Assignedcolor\",\n",
    "                              legendOnPlot=True,legendshow=True,Ncol=3,\n",
    "                              figuresize=(10,10),alphavalue=0.7, lwvalue=0.01, markervalue=\".\",\n",
    "             dotsize=120,lengendfont=12, legendloc=2,bbox_to_anchorvalues=(1.15, 1.2))"
   ]
  },
  {
   "cell_type": "code",
   "execution_count": null,
   "metadata": {
    "scrolled": false
   },
   "outputs": [],
   "source": [
    "swref,ax=SCM.UMAP_plot(datax=swref,clustername=\"Cluster\",colorcode=\"color\",\n",
    "                              legendOnPlot=True,legendshow=True,Ncol=3,\n",
    "                              figuresize=(10,10),alphavalue=0.7, lwvalue=0.01, markervalue=\".\",\n",
    "             dotsize=120,lengendfont=12, legendloc=2,bbox_to_anchorvalues=(1.15, 1.2))"
   ]
  },
  {
   "cell_type": "code",
   "execution_count": null,
   "metadata": {
    "scrolled": false
   },
   "outputs": [],
   "source": [
    "cd D:\\Dropbox\\data\\proj\\PE_HYZ\\PublicDataSet\\NBL_SZscRNA\\SWAPLINE2\\20220306"
   ]
  },
  {
   "cell_type": "code",
   "execution_count": null,
   "metadata": {},
   "outputs": [],
   "source": [
    "dfposi=pd.read_table(\"Ready_2022-03-06_Igor_Human10x_mouseSS2_UMAP_clustering.tab\",index_col=0,header=0,sep=\"\\t\")"
   ]
  },
  {
   "cell_type": "code",
   "execution_count": null,
   "metadata": {},
   "outputs": [],
   "source": [
    "idlist=dfprobref.index.tolist()+dfprobref2.index.tolist()\n",
    "idlist[-5:]"
   ]
  },
  {
   "cell_type": "code",
   "execution_count": null,
   "metadata": {
    "scrolled": true
   },
   "outputs": [],
   "source": [
    "dfposi=dfposi.reindex(idlist).dropna()\n",
    "dfposi"
   ]
  },
  {
   "cell_type": "code",
   "execution_count": null,
   "metadata": {},
   "outputs": [],
   "source": [
    "swref.obs[\"Assigned_Cluster\"]=dfposi[\"Celltype\"].tolist()"
   ]
  },
  {
   "cell_type": "code",
   "execution_count": null,
   "metadata": {},
   "outputs": [],
   "source": [
    "color_dictTest = pd.Series({   'SCP':   (90,  10,  10), 'Chromaffin1': (25, 60,  130),\n",
    "                             'cycling':    (57, 105,   7),\n",
    "             'Sympath':    (170, 180, 170),'SCP':   (190,  10,  10),  'Chromaffin': (25, 60,  130),\n",
    "                             'cycling':    (57, 105,   7),\n",
    "             'sympathoblasts':    (170, 180, 170),\n",
    "                            \"Glia\": (235, 125,  128), \"Mes\": (55, 95,  28),\n",
    "                          'Chromaffin2':   (55, 55,  78), 'Neuroblast1': (130,60,  25),\n",
    "                            'Neuroblast2':    (57, 105,   7),\"interm_Glia\": (175, 175,  28),\n",
    "            'Bridge_SCP':    (170, 180, 170),\n",
    "                           'connectingChromaffin':    ( 95, 186,  70),  'Auto_prog':    (180, 140, 130),\n",
    "       'cyclingNeuroblast':  (100, 100, 240), 'Migr_prog': ( 80, 235, 255),  'Mes_prog':(249,125,5),\n",
    "            'cycling SCPs':(250, 125, 0),35:(230, 140, 120), 'SympNeuron':  (10,10,255),\n",
    "    })\n",
    "color_dictTest= color_dictTest.map(lambda x: list(map(lambda y: y/255., x)))"
   ]
  },
  {
   "cell_type": "code",
   "execution_count": null,
   "metadata": {},
   "outputs": [],
   "source": []
  },
  {
   "cell_type": "code",
   "execution_count": null,
   "metadata": {},
   "outputs": [],
   "source": [
    "colorlist=[]\n",
    "for item in swref.obs[\"Assigned_Cluster\"]:\n",
    "    colorlist.append(color_dictTest[item])\n",
    "swref.obs[\"AssignedColor\"]=colorlist"
   ]
  },
  {
   "cell_type": "code",
   "execution_count": null,
   "metadata": {},
   "outputs": [],
   "source": [
    "swref"
   ]
  },
  {
   "cell_type": "code",
   "execution_count": null,
   "metadata": {},
   "outputs": [],
   "source": [
    "swrefx,ax=SCM.UMAP_plot(datax=swref,clustername=\"Assigned_Cluster\",colorcode=\"AssignedColor\",\n",
    "                              legendOnPlot=True,legendshow=True,Ncol=1,\n",
    "                              figuresize=(20,20),alphavalue=0.7, lwvalue=0.01, markervalue=\".\",\n",
    "             dotsize=120,lengendfont=25, legendloc=2,bbox_to_anchorvalues=(1.05, 1.05))"
   ]
  },
  {
   "cell_type": "code",
   "execution_count": null,
   "metadata": {
    "scrolled": true
   },
   "outputs": [],
   "source": [
    "swrefx,ax=SCM.UMAP_plot(datax=swref,clustername=\"Assigned_Cluster\",colorcode=\"AssignedColor\",\n",
    "                              legendOnPlot=False,legendshow=True,Ncol=1,\n",
    "                              figuresize=(20,20),alphavalue=0.7, lwvalue=0.01, markervalue=\".\",\n",
    "             dotsize=120,lengendfont=25, legendloc=2,bbox_to_anchorvalues=(1.05, 1.05))"
   ]
  },
  {
   "cell_type": "code",
   "execution_count": null,
   "metadata": {},
   "outputs": [],
   "source": []
  },
  {
   "cell_type": "markdown",
   "metadata": {},
   "source": [
    "# Transfer_learning"
   ]
  },
  {
   "cell_type": "code",
   "execution_count": null,
   "metadata": {},
   "outputs": [],
   "source": []
  },
  {
   "cell_type": "code",
   "execution_count": null,
   "metadata": {
    "scrolled": false
   },
   "outputs": [],
   "source": [
    "cd D:\\Dropbox\\data\\proj\\PE_HYZ\\BuidingCode\\SWAPLINE2\\SWAPLINE2"
   ]
  },
  {
   "cell_type": "code",
   "execution_count": null,
   "metadata": {},
   "outputs": [],
   "source": [
    "#import SW2main38"
   ]
  },
  {
   "cell_type": "code",
   "execution_count": null,
   "metadata": {},
   "outputs": [],
   "source": [
    "UMAPmodel2=SCM.save_load_model(modelname=None, filename='20220307_umapNN25mdist06rd173backup.sav', type=\"load\")"
   ]
  },
  {
   "cell_type": "code",
   "execution_count": null,
   "metadata": {
    "scrolled": true
   },
   "outputs": [],
   "source": [
    "cd D:\\Dropbox\\data\\proj\\PE_HYZ\\PublicDataSet\\NBL_SZscRNA\\SWAPLINE2"
   ]
  },
  {
   "cell_type": "code",
   "execution_count": null,
   "metadata": {
    "scrolled": true
   },
   "outputs": [],
   "source": [
    "cd D:\\Dropbox\\data\\proj\\PE_HYZ\\PublicDataSet\\NBL_SZscRNA\\SWAPLINE2"
   ]
  },
  {
   "cell_type": "code",
   "execution_count": null,
   "metadata": {},
   "outputs": [],
   "source": [
    "swpdt=anndata.read(\"20220310_Igor_humandata_scRNAseq_fit_Integrated_Mouse_NeuralCrest.h5ad\", \n",
    "                  )"
   ]
  },
  {
   "cell_type": "code",
   "execution_count": null,
   "metadata": {},
   "outputs": [],
   "source": [
    "swpdt"
   ]
  },
  {
   "cell_type": "code",
   "execution_count": null,
   "metadata": {
    "scrolled": true
   },
   "outputs": [],
   "source": [
    "swpdt1=swref[swref.obs['batch']==\"1\",:]"
   ]
  },
  {
   "cell_type": "code",
   "execution_count": null,
   "metadata": {},
   "outputs": [],
   "source": [
    "swpdt1"
   ]
  },
  {
   "cell_type": "code",
   "execution_count": null,
   "metadata": {},
   "outputs": [],
   "source": [
    "colist=[]\n",
    "for item in swpdt1.obs.index:\n",
    "    colist.append(item[:-2])"
   ]
  },
  {
   "cell_type": "code",
   "execution_count": null,
   "metadata": {},
   "outputs": [],
   "source": [
    "swpdt=swpdt[colist,:]\n",
    "swpdt"
   ]
  },
  {
   "cell_type": "code",
   "execution_count": null,
   "metadata": {},
   "outputs": [],
   "source": [
    "swpdt.obs=swpdt1.obs\n",
    "swpdt.uns=swpdt1.uns\n",
    "swpdt.obsm=swpdt1.obsm"
   ]
  },
  {
   "cell_type": "markdown",
   "metadata": {},
   "source": [
    "#dfpcaTest: df, row name==Cell ID, columns=features\n",
    "#dfclusTest: df,row name==Cell ID, columns=[....., \"Cluster\"]\n",
    "#dfref:df, row name==Cell ID, columns=features\n",
    "#dfrefclus: df,row name==Cell ID, columns=[....., \"Celltype\"]\n",
    "swpdt=SCM.transfer_learning(UMAPmodel=UMAPmodel2,datapdt=swpdt, \n",
    "                                  datax=swref,clustername= 'Assigned_Cluster', colorcode='AssignedColor', n_neighbors=50)\n"
   ]
  },
  {
   "cell_type": "code",
   "execution_count": null,
   "metadata": {
    "scrolled": false
   },
   "outputs": [],
   "source": [
    "swpdt,ax=SCM.UMAP_plot(datax=swpdt,clustername=\"Assigned_Cluster\",colorcode=\"AssignedColor\",\n",
    "                              legendOnPlot=False,legendshow=True,Ncol=1,\n",
    "                              figuresize=(10,10),alphavalue=0.7, lwvalue=0.01, markervalue=\".\",\n",
    "             dotsize=120,lengendfont=25, legendloc=2,bbox_to_anchorvalues=(1.05, 1.05))"
   ]
  },
  {
   "cell_type": "code",
   "execution_count": null,
   "metadata": {
    "scrolled": false
   },
   "outputs": [],
   "source": [
    "swref1,swref2, ax=SCM.UMAPplotRefPred(DataRef=swref, DataPdt=swpdt, \n",
    "                                            refClusterName=\"Assigned_Cluster\",pdtClusterName=\"Assigned_Cluster\", \n",
    "                                            refColorCode='AssignedColor', pdtColorCode='AssignedColor',figuresize=(10, 10),\n",
    "                    RefAlphaValue=0.6, RefLwValue=0.1, RefMarkerValue=\"x\", RefDotSize=200,\n",
    "                    PdtAlphaValue=0.9, PdtLwValue=1, PdtMarkerValue=\".\", PdtDotSize=200,\n",
    "                    lengendfont=15, RefLegendloc=2, PdtLegendloc=3, Refbbox_to_anchorvalues=(1.15, 1.15),\n",
    "                    Pdtbbox_to_anchorvalues=(1.15, 0.01))"
   ]
  },
  {
   "cell_type": "code",
   "execution_count": null,
   "metadata": {},
   "outputs": [],
   "source": [
    "color_dictTest = pd.Series({ 'SCPs':   (90,  10,  10), 'Chromaffin': (115, 60,  130),\n",
    "                             'cycling':    (57, 105,   7),\n",
    "             'Sympath':    (170, 180, 170),\n",
    "                            'Cardiac_Mes':( 50, 180, 180),\n",
    " 'Mesenchymal':( 50, 20, 50),\n",
    " 'Early_Migratory_Prog':(255,0,0),\n",
    "                          'Migratory_Prog':(255,0,0),\n",
    " 'Gang_Endothelial':  ( 150, 80, 180),\n",
    " 'Gang_JG':( 150, 60, 180),\n",
    " 'Gang_NG':( 50, 220, 20),\n",
    "\n",
    " 'Gang_Sympathetic':(100, 125, 70),\n",
    " 'Late_Migratory_Prog':(200,20,100),\n",
    " 'Mesenchyme_Prog':(255,215,0),\n",
    " 'PNS_GLI_MNA_ENTG':(20, 100, 90),\n",
    " 'PNS_GLI_MNA_SATG':(50, 60, 50),\n",
    " 'PNS_GLI_MNA_SCHW':(150, 220, 50),\n",
    " 'PNS_NeuN_MNA_ENT':(200, 30, 50),\n",
    " 'PNS_NeuN_MNA_PSNF':(20, 130, 250),\n",
    " 'PNS_NeuN_MNA_PSNP':(200, 69, 0),\n",
    " 'PNS_NeuN_MNA_PSPEP':(100, 150, 0),\n",
    " 'PNS_NeuN_MNA_SYCHO':(61, 125, 33),\n",
    " 'Sympathetic':(29, 20, 100),\n",
    " 'Schw_Bridge':(30, 250, 170),\n",
    " 'Chromaffin':(112,128,144),\n",
    " 'Schw_SCP':(165,42,42),\n",
    " 'Schw_SympaBlast':(170, 250, 70),\n",
    " 'Sensory_Prog':(75,0,130),\n",
    " 'Autonomic_Prog':(0,0,255),\n",
    "     'Schwann/Glia':( 110, 140, 100),\n",
    "                         'OL':   (117, 245, 7) ,\n",
    "              'OLIG':    (111,111,111), 'PeriC': (217, 215,   7)  ,'aRgl':    (180, 140, 130),\n",
    "              'aNSC2':  (100, 180, 240),  'SMC': ( 80, 235, 255),'aaSMC':(139,69,19),\n",
    "             'NC_auto':(10, 120, 190), 'NC_delami':(230, 10, 100), 'NC_EarlyMigr':  (120, 15,215),\n",
    "             'Meni_FB':   (190,  10,  10),'Meni_Neuron': (225, 160,  30),\n",
    "                       'Meni_Rgl':    ( 159,155,110),\n",
    "           'NC_Mes': (69,155,110)  ,'migratory 1': (215, 105,  30) , 'NC_Migr':  (190, 200, 190),'NeuralTube':   ( 50, 180, 180),\n",
    "                         'qRgl':  (  250,125,0),'qNSC2': (215, 105,  30),'NC_sensory':  (79,47,79)   ,\n",
    "              'vSMC':    (170, 180, 170), 'SCPs':   (90,  10,  10), 'Chromaffin': (25, 60,  130),\n",
    "                             'cycling':    (57, 105,   7),\n",
    "             'Sympath':    (170, 180, 170),'SCP':   (190,  10,  10), 'chromaffin': (0,0,150),\n",
    "                             'cycling':    (57, 105,   7),\n",
    "             'sympathoblasts':    (170, 180, 170),\n",
    "    })\n",
    "color_dictTest= color_dictTest.map(lambda x: list(map(lambda y: y/255., x)))"
   ]
  },
  {
   "cell_type": "code",
   "execution_count": null,
   "metadata": {
    "scrolled": true
   },
   "outputs": [],
   "source": [
    "colorlist3=[]\n",
    "for item in swpdt.obs[\"Cluster\"]:\n",
    "    colorlist3.append(color_dictTest[item])"
   ]
  },
  {
   "cell_type": "code",
   "execution_count": null,
   "metadata": {
    "scrolled": true
   },
   "outputs": [],
   "source": [
    "swpdt"
   ]
  },
  {
   "cell_type": "code",
   "execution_count": null,
   "metadata": {
    "scrolled": true
   },
   "outputs": [],
   "source": [
    "swpdt.obs[\"Color\"]=swpdt.obs[\"color\"]"
   ]
  },
  {
   "cell_type": "code",
   "execution_count": null,
   "metadata": {
    "scrolled": false
   },
   "outputs": [],
   "source": [
    "swref,swpdt, ax=SCM.UMAPplotRefPred(DataRef=swref, DataPdt=swpdt, \n",
    "                                            refClusterName=\"Assigned_Cluster\",pdtClusterName=\"Cluster\", \n",
    "                                            refColorCode='AssignedColor', pdtColorCode='Color',figuresize=(16, 16),\n",
    "                    RefAlphaValue=0.6, RefLwValue=0.25, RefMarkerValue=\"x\", RefDotSize=200,\n",
    "                    PdtAlphaValue=0.9, PdtLwValue=1, PdtMarkerValue=\".\", PdtDotSize=250,\n",
    "                    lengendfont=15, RefLegendloc=2, PdtLegendloc=3, Refbbox_to_anchorvalues=(1.15, 1.15),\n",
    "                    Pdtbbox_to_anchorvalues=(1.15, 0.01))"
   ]
  },
  {
   "cell_type": "code",
   "execution_count": null,
   "metadata": {},
   "outputs": [],
   "source": [
    "del swpdt.obs[\"AssignedColor\"]"
   ]
  },
  {
   "cell_type": "code",
   "execution_count": null,
   "metadata": {
    "scrolled": true
   },
   "outputs": [],
   "source": [
    "del swpdt.obs[\"color\"]"
   ]
  },
  {
   "cell_type": "code",
   "execution_count": null,
   "metadata": {},
   "outputs": [],
   "source": [
    "swpdt.write(\"_scRNAseq_fit_Integrated_Mouse_NeuralCrest.h5ad\")"
   ]
  },
  {
   "cell_type": "code",
   "execution_count": null,
   "metadata": {},
   "outputs": [],
   "source": []
  },
  {
   "cell_type": "code",
   "execution_count": null,
   "metadata": {},
   "outputs": [],
   "source": []
  },
  {
   "cell_type": "code",
   "execution_count": null,
   "metadata": {},
   "outputs": [],
   "source": []
  },
  {
   "cell_type": "code",
   "execution_count": null,
   "metadata": {},
   "outputs": [],
   "source": []
  },
  {
   "cell_type": "code",
   "execution_count": null,
   "metadata": {},
   "outputs": [],
   "source": []
  }
 ],
 "metadata": {
  "kernelspec": {
   "display_name": "Python 3 (ipykernel)",
   "language": "python",
   "name": "python3"
  },
  "language_info": {
   "codemirror_mode": {
    "name": "ipython",
    "version": 3
   },
   "file_extension": ".py",
   "mimetype": "text/x-python",
   "name": "python",
   "nbconvert_exporter": "python",
   "pygments_lexer": "ipython3",
   "version": "3.8.16"
  }
 },
 "nbformat": 4,
 "nbformat_minor": 2
}
