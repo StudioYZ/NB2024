{
 "cells": [
  {
   "cell_type": "code",
   "execution_count": null,
   "metadata": {},
   "outputs": [],
   "source": [
    "import datetime\n",
    "today=f\"{datetime.datetime.now():%Y-%m-%d}\"\n",
    "today"
   ]
  },
  {
   "cell_type": "code",
   "execution_count": null,
   "metadata": {
    "scrolled": true
   },
   "outputs": [],
   "source": [
    "import seaborn as sns\n",
    "%pylab inline"
   ]
  },
  {
   "cell_type": "code",
   "execution_count": null,
   "metadata": {},
   "outputs": [],
   "source": [
    "#imports\n",
    "import pandas as pd\n",
    "import pickle as pickle\n",
    "from scipy.spatial.distance import cdist, pdist, squareform\n",
    "#import backspinpy\n",
    "import pandas as pd\n",
    "from sklearn.linear_model import LogisticRegression, LogisticRegressionCV\n",
    "from sklearn.model_selection import StratifiedShuffleSplit  \n",
    "from collections import defaultdict\n",
    "from sklearn import preprocessing\n",
    "import matplotlib.patches as mpatches\n",
    "%pylab inline"
   ]
  },
  {
   "cell_type": "code",
   "execution_count": null,
   "metadata": {},
   "outputs": [],
   "source": [
    "import matplotlib.pyplot as plt\n",
    "import pandas as pd\n",
    "import numpy as np\n",
    "from sklearn.decomposition import PCA\n",
    "from sklearn import manifold\n",
    "from collections import defaultdict\n",
    "#from mpl_toolkits.mplot3d import Axes3D\n",
    "import math\n",
    "import sklearn\n",
    "import scipy\n",
    "import os\n",
    "import sys\n",
    "#imports\n",
    "import pandas as pd\n",
    "import pickle as pickle\n",
    "from scipy.spatial.distance import cdist, pdist, squareform\n",
    "#import backspinpy\n",
    "#from backspinpy import fit_CV\n",
    "#from backspinpy.Cef_tools import *\n",
    "#from __future__ import division\n",
    "import pandas as pd\n",
    "from sklearn.linear_model import LogisticRegression, LogisticRegressionCV\n",
    "#from sklearn.cross_validation import StratifiedShuffleSplit  \n",
    "from collections import defaultdict\n",
    "from sklearn import preprocessing\n",
    "import matplotlib.patches as mpatches\n",
    "import anndata"
   ]
  },
  {
   "cell_type": "code",
   "execution_count": null,
   "metadata": {},
   "outputs": [],
   "source": [
    "from scipy.io import mmread"
   ]
  },
  {
   "cell_type": "code",
   "execution_count": null,
   "metadata": {},
   "outputs": [],
   "source": [
    "import gzip\n",
    "import logging\n",
    "import os.path\n",
    "from shutil import copyfile\n",
    "from typing import Tuple, Union, Any, Dict, List, Iterable, Callable, Optional\n",
    "\n",
    "import h5py\n",
    "import numpy as np\n",
    "import numpy_groupies.aggregate_numpy as npg\n",
    "import scipy.sparse\n",
    "from scipy.io import mmread\n",
    "\n",
    "import loompy\n",
    "from loompy import deprecated, timestamp"
   ]
  },
  {
   "cell_type": "code",
   "execution_count": null,
   "metadata": {},
   "outputs": [],
   "source": [
    "cd f:\\Dropbox\\data\\proj\\PE_HYZ\\PublicDataSet\\NBL_SZscRNA\\SWAPLINE2"
   ]
  },
  {
   "cell_type": "code",
   "execution_count": null,
   "metadata": {},
   "outputs": [],
   "source": [
    "dfposix=pd.read_table(\"Igor_SS2_10x_mouseHuman_UMAP_clustering.tab\",index_col=0,header=0,sep=\"\\t\")\n",
    "dfposix.shape"
   ]
  },
  {
   "cell_type": "code",
   "execution_count": null,
   "metadata": {
    "scrolled": true
   },
   "outputs": [],
   "source": [
    "dfposix.head()"
   ]
  },
  {
   "cell_type": "code",
   "execution_count": null,
   "metadata": {},
   "outputs": [],
   "source": [
    "dfposix=dfposix.loc[~dfposix[\"Louvain_5\"].isin([30,33,39])]"
   ]
  },
  {
   "cell_type": "code",
   "execution_count": null,
   "metadata": {},
   "outputs": [],
   "source": [
    "dfposix.shape"
   ]
  },
  {
   "cell_type": "code",
   "execution_count": null,
   "metadata": {},
   "outputs": [],
   "source": [
    "cd f:\\Dropbox\\data\\proj\\PE_HYZ\\PublicDataSet\\NBL_SZscRNA\\Integrated"
   ]
  },
  {
   "cell_type": "markdown",
   "metadata": {},
   "source": [
    "# Start"
   ]
  },
  {
   "cell_type": "code",
   "execution_count": null,
   "metadata": {
    "scrolled": true
   },
   "outputs": [],
   "source": [
    "cd f:\\Dropbox\\data\\proj\\PE_HYZ\\PublicDataSet\\NBL_SZscRNA\\SWAPLINE2"
   ]
  },
  {
   "cell_type": "code",
   "execution_count": null,
   "metadata": {},
   "outputs": [],
   "source": [
    "#dfall.to_csv(\"Integrated_Mouse_NeuralCrest_Expr.tab\",sep=\"\\t\")"
   ]
  },
  {
   "cell_type": "code",
   "execution_count": null,
   "metadata": {
    "scrolled": true
   },
   "outputs": [],
   "source": [
    "dfpfc3=pd.read_table(\"Integrated_Mouse_NeuralCrest_Expr.tab\",index_col=0,header=0,sep=\"\\t\")"
   ]
  },
  {
   "cell_type": "code",
   "execution_count": null,
   "metadata": {},
   "outputs": [],
   "source": []
  },
  {
   "cell_type": "markdown",
   "metadata": {},
   "source": [
    "dfpfc2=pd.read_table(\"Integrated_Mouse_NeuralCrest_Expr2.tab\",index_col=0,header=0,sep=\"\\t\")"
   ]
  },
  {
   "cell_type": "code",
   "execution_count": null,
   "metadata": {
    "scrolled": true
   },
   "outputs": [],
   "source": [
    "dfpfc3.shape"
   ]
  },
  {
   "cell_type": "code",
   "execution_count": null,
   "metadata": {},
   "outputs": [],
   "source": [
    "collist=list(set(dfpfc3.columns)&set(dfposix.index))\n",
    "len(collist)"
   ]
  },
  {
   "cell_type": "code",
   "execution_count": null,
   "metadata": {},
   "outputs": [],
   "source": [
    "dfpfc3=dfpfc3[collist]\n",
    "dfpfc3.tail()"
   ]
  },
  {
   "cell_type": "code",
   "execution_count": null,
   "metadata": {},
   "outputs": [],
   "source": [
    "dfpfc3.shape"
   ]
  },
  {
   "cell_type": "code",
   "execution_count": null,
   "metadata": {
    "scrolled": true
   },
   "outputs": [],
   "source": [
    "proto = pd.Series({\n",
    "'Autonomic_Prog':'Autonomic_Prog',\n",
    " 'Chromaffin': 'Chromaffin',\n",
    " 'Early_Migratory_Prog': 'Migratory_Prog',\n",
    "    'Migratory_Prog': 'Migratory_Prog',\n",
    " 'Late_Migratory_Prog': 'Migratory_Prog',\n",
    " 'Mesenchymal': 'Mesenchymal',\n",
    " 'Mesenchyme_Prog': 'Mesenchyme_Prog',\n",
    " 'Schw_Bridge': 'Schw_Bridge',\n",
    " 'Schw_SCP': 'Schw_SCP',\n",
    " 'Schw_SympaBlast':'Schw_SympaBlast',\n",
    " 'Schwann/Glia': 'Schwann/Glia',\n",
    " 'Sympathetic': 'Sympathetic',\n",
    "\n",
    " \n",
    "                   'Gang_Sympathetic':'Sympathetic',\n",
    "      'PNS_NeuN_MNA_SYNOR':'Sympathetic',\n",
    "    'PNS_NeuN_MNA_SYCHO':'Sympathetic',\n",
    " 'PNS_GLI_MNA_ENMFB': 'ENMFB_PNS_GLI_MNA',\n",
    "                    'ENMFB_PNS_GLI_MNA': 'Mesenchymal',\n",
    " 'Mesenchymal': 'Mesenchymal',\n",
    "                    'Schwann': 'Schwann/Glia',\n",
    "                    'PNS_GLI_MNA_ENTG':  'Schwann/Glia',\n",
    "\n",
    "                   'PNS_GLI_MNA_SATG':'PNS_GLI_MNA_SATG',\n",
    " 'PNS_GLI_MNA_SCHW': 'PNS_GLI_MNA_SCHW',\n",
    "                   'PNS_GLI_MNA_SCHW':'PNS_GLI_MNA_SCHW',\n",
    "   'Schw_SympaBlast': 'Schw_SympaBlast',\n",
    "  'Schw_Bridge':'Schw_Bridge',\n",
    "                 'Schw_SCP':\"SCP\",\n",
    "    \n",
    "    \n",
    " 'Schw_Chrf_Blue_SCP': 'Schw_SCP',\n",
    "                   'Schw_SCP':'Schw_SCP',\n",
    " 'Schw_Chrf_Green_Chromaffin': 'Schw_Chromaffin',\n",
    "                    'Schw_Chromaffin': 'Chromaffin',\n",
    " 'Schw_Chrf_Purple_SympaBlast': 'Schw_SympaBlast',\n",
    "                 \n",
    " 'Schw_Chrf_Red_Bridge':'Schw_Bridge',\n",
    " 'Schw_Chrf_Yellow_BridgeCycle':'Schw_Bridge',\n",
    "                 \n",
    " 'autonomic': 'autonomic_Prog',\n",
    "                    'autonomic_Prog': 'Autonomic_Prog',\n",
    " 'early migratory': 'Early_Migratory_Prog',\n",
    "            #        'Early_Migratory_Prog': 'Early_Migratory_Prog',\n",
    " 'mesenchyme': 'Mesenchyme_Prog',\n",
    "                   'Mesenchyme_Prog':'Mesenchyme_Prog',\n",
    " 'migratory 1': 'Late_Migratory_Prog',\n",
    " 'migratory 2': 'Late_Migratory_Prog',\n",
    "              #      'Late_Migratory_Prog': 'Late_Migratory_Prog',\n",
    " 'sensory': 'Sensory_Prog',\n",
    "                  'Sensory_Prog':'Sensory_Prog',})\n",
    "\n",
    "\n",
    "mct_dev = dfpfc3.loc['Cluster'].values\n",
    "mprotogruop = proto.loc[mct_dev].values\n",
    "len(mprotogruop)"
   ]
  },
  {
   "cell_type": "code",
   "execution_count": null,
   "metadata": {
    "scrolled": true
   },
   "outputs": [],
   "source": [
    "mprotogruop[:5]"
   ]
  },
  {
   "cell_type": "code",
   "execution_count": null,
   "metadata": {
    "scrolled": false
   },
   "outputs": [],
   "source": [
    "set(mprotogruop)"
   ]
  },
  {
   "cell_type": "markdown",
   "metadata": {},
   "source": []
  },
  {
   "cell_type": "code",
   "execution_count": null,
   "metadata": {},
   "outputs": [],
   "source": [
    "dfpfc3.loc['Cluster']=mprotogruop"
   ]
  },
  {
   "cell_type": "code",
   "execution_count": null,
   "metadata": {},
   "outputs": [],
   "source": [
    "dfpfc3.shape"
   ]
  },
  {
   "cell_type": "code",
   "execution_count": null,
   "metadata": {},
   "outputs": [],
   "source": [
    "dfpfc=dfpfc3.iloc[:-1,:].astype(float)"
   ]
  },
  {
   "cell_type": "code",
   "execution_count": null,
   "metadata": {},
   "outputs": [],
   "source": [
    "dfpfcclus=dfpfc3.iloc[-1:,:]\n",
    "dfpfcclus"
   ]
  },
  {
   "cell_type": "code",
   "execution_count": null,
   "metadata": {
    "scrolled": true
   },
   "outputs": [],
   "source": [
    "dfpfc.tail()"
   ]
  },
  {
   "cell_type": "code",
   "execution_count": null,
   "metadata": {},
   "outputs": [],
   "source": [
    "scref = anndata.AnnData(dfpfc.T)"
   ]
  },
  {
   "cell_type": "code",
   "execution_count": null,
   "metadata": {},
   "outputs": [],
   "source": [
    "scref.var"
   ]
  },
  {
   "cell_type": "code",
   "execution_count": null,
   "metadata": {},
   "outputs": [],
   "source": [
    "scref"
   ]
  },
  {
   "cell_type": "code",
   "execution_count": null,
   "metadata": {},
   "outputs": [],
   "source": [
    "scref.obs[\"Cluster\"]=dfpfcclus.loc[\"Cluster\"].values"
   ]
  },
  {
   "cell_type": "code",
   "execution_count": null,
   "metadata": {
    "scrolled": true
   },
   "outputs": [],
   "source": [
    "cd f:\\Dropbox\\data\\proj\\PE_HYZ\\BuidingCode\\SWAPLINE2\\SWAPLINE2"
   ]
  },
  {
   "cell_type": "code",
   "execution_count": null,
   "metadata": {},
   "outputs": [],
   "source": [
    "import SCMprefiltering36 as SCMpref"
   ]
  },
  {
   "cell_type": "code",
   "execution_count": null,
   "metadata": {},
   "outputs": [],
   "source": [
    "path='f:/Dropbox/data/proj/PE_HYZ/PublicDataSet/'\n",
    "filename='PANTHER_cell_cycle_genes.txt'\n",
    "#dfpfc2= prefilteringTest.prefilter(df_f=dfpfc,filename=filename, path=path)\n",
    "scref= SCMpref.prefilter(datax=scref,filename=filename, path=path)"
   ]
  },
  {
   "cell_type": "code",
   "execution_count": null,
   "metadata": {},
   "outputs": [],
   "source": [
    "cd f:\\Dropbox\\data\\proj\\PE_HYZ\\PublicDataSet\\NBL_SZscRNA\\Integrated"
   ]
  },
  {
   "cell_type": "code",
   "execution_count": null,
   "metadata": {},
   "outputs": [],
   "source": [
    "dftest1=pd.read_table(\"testlist.tab\",index_col=0,header=0,sep=\"\\t\")"
   ]
  },
  {
   "cell_type": "code",
   "execution_count": null,
   "metadata": {},
   "outputs": [],
   "source": [
    "markerlist=[\"PHOX2B\",\"ASCL1\",\"PLP1\",\"MSTN\",\"ERBB3\",\"PRRX1\",\"PRRX2\",\"TWIST1\",\"MSX3\",\"HES5\",\"PAX6\",\"FOXB1\",\"OLIG3\",\"GDF7\",\"WNT3A\",\"MAFB\",\"CDH11\",\"SOX9\",\"SMTNL2\",\n",
    " \"ZIC3\",\"ZIC4\",\"HNF1B\",\"BMP6\",\"OLIG3\",\"DLX5\",\"PDGFRA\",\"PAK3\",\"HAPLN\",\"RET\",\"NGFR\",\"MCAM\",\"DLX2\",\"NEFL\",\"ELAVL4\",\"ERBB3\",\"SOX10\",\"PAX3\",\"FOXD3\",\n",
    "            \"LMO4\",\"ETS1\",\"HMX1\",\"RXRG\",\"CDH11\",\"MSX1\",\"PAWR\",\"S100B\",\"PLP1\",\n",
    " \"MEOX1\",\"SIX2\",\"FOXC1\",\"NEUROD1\",\"NEUROD4\",\"NHLH2\",\"ELAVL3\",\"DLL3\",\"ZFP488\",\"CHGA\",\"CHGB\",\"PNMT\",\"ELAVL3\",\"CARTPT\",\"PENK\",\"PRPH\",\"ETS\"]"
   ]
  },
  {
   "cell_type": "code",
   "execution_count": null,
   "metadata": {},
   "outputs": [],
   "source": [
    "markerlist=list(set(markerlist+dftest1.index.tolist()))\n",
    "len(markerlist)"
   ]
  },
  {
   "cell_type": "code",
   "execution_count": null,
   "metadata": {},
   "outputs": [],
   "source": [
    "markerlist=scref.var.index.tolist()"
   ]
  },
  {
   "cell_type": "code",
   "execution_count": null,
   "metadata": {},
   "outputs": [],
   "source": [
    "#import SCMprefiltering35 as SCMpref\n",
    "scref, score,  thrs, ax=SCMpref.MVgenes(datax=scref,wt=3, markerlist=markerlist,\n",
    "                                                  plotfig=True, Xlow=-8.5, Xhigh=6.5, Ylow=-2, Yhigh=6.5,alphaValue=0.9, sValue=30,\n",
    "           fig_args={'figsize': (8, 8), 'facecolor': 'white', 'edgecolor': 'white'})"
   ]
  },
  {
   "cell_type": "code",
   "execution_count": null,
   "metadata": {
    "scrolled": true
   },
   "outputs": [],
   "source": [
    "len(scref.var.index[scref.var[\"MVgene\"]])"
   ]
  },
  {
   "cell_type": "code",
   "execution_count": null,
   "metadata": {
    "scrolled": false
   },
   "outputs": [],
   "source": [
    "scref"
   ]
  },
  {
   "cell_type": "code",
   "execution_count": null,
   "metadata": {},
   "outputs": [],
   "source": []
  },
  {
   "cell_type": "code",
   "execution_count": null,
   "metadata": {},
   "outputs": [],
   "source": [
    "cd f:\\Dropbox\\data\\proj\\PE_HYZ\\BuidingCode\\SWAPLINE2\\SWAPLINE2"
   ]
  },
  {
   "cell_type": "code",
   "execution_count": null,
   "metadata": {},
   "outputs": [],
   "source": [
    "#import SCMprefiltering14\n",
    "scref =SCMpref.MVgene_Scaling(datax=scref,score=score,\n",
    "                                                                   thrs=thrs, TPTT=0,     mprotogruop=scref.obs[\"Cluster\"].values,commongene=None,\n",
    "                                                                                              sharedMVgenes=None,std_scaling=True,\n",
    "    tftable=\"f:/Dropbox/data/proj/PE_HYZ/PublicDataSet/FantomTF2CLUSTER_human_official.txt\", learninggroup=\"train\")\n",
    "\n"
   ]
  },
  {
   "cell_type": "code",
   "execution_count": null,
   "metadata": {},
   "outputs": [],
   "source": [
    "scref"
   ]
  },
  {
   "cell_type": "code",
   "execution_count": null,
   "metadata": {
    "scrolled": true
   },
   "outputs": [],
   "source": [
    "scref.obs[ 'mtrain_index'].astype(np.float32)"
   ]
  },
  {
   "cell_type": "code",
   "execution_count": null,
   "metadata": {},
   "outputs": [],
   "source": [
    "scref.obsm[\"train_set_values\"]"
   ]
  },
  {
   "cell_type": "code",
   "execution_count": null,
   "metadata": {},
   "outputs": [],
   "source": [
    "scref.uns[\"train_set_gene\"]"
   ]
  },
  {
   "cell_type": "code",
   "execution_count": null,
   "metadata": {},
   "outputs": [],
   "source": [
    "mdf_train_set=pd.DataFrame(scref.obsm[\"train_set_values\"].T,index=scref.uns[\"train_set_gene\"],columns=scref.obs.index)\n",
    "mdf_train_set.shape"
   ]
  },
  {
   "cell_type": "code",
   "execution_count": null,
   "metadata": {},
   "outputs": [],
   "source": [
    "cd f:\\Dropbox\\data\\proj\\PE_HYZ\\BuidingCode\\SWAPLINE2\\SWAPLINE2"
   ]
  },
  {
   "cell_type": "code",
   "execution_count": null,
   "metadata": {},
   "outputs": [],
   "source": [
    "#import SCMprefiltering37 as SCMpref\n",
    "net=SCMpref.NNclassifer(\n",
    "   datax=scref,\n",
    "    epochNum=200,\n",
    "    learningRate=0.015,\n",
    "    verbose=0,\n",
    "    optimizerMmentum=0.8,\n",
    "    dropout=0.3,\n",
    "    #imizer__nesterov=True,\n",
    "    )"
   ]
  },
  {
   "cell_type": "code",
   "execution_count": null,
   "metadata": {},
   "outputs": [],
   "source": [
    "#import SCMprefiltering29 as SCMpref\n",
    "ax=SCMpref.AccuracyPlot( nnModel=net, accCutoff=0.95,\n",
    "                 Xlow=-1, Ylow=0.5, Yhigh=1,\n",
    "               )"
   ]
  },
  {
   "cell_type": "code",
   "execution_count": null,
   "metadata": {
    "scrolled": true
   },
   "outputs": [],
   "source": [
    "cd f:\\Dropbox\\data\\proj\\PE_HYZ\\BuidingCode\\SWAPLINE2\\SWAPLINE2"
   ]
  },
  {
   "cell_type": "code",
   "execution_count": null,
   "metadata": {},
   "outputs": [],
   "source": [
    "#import SCMprefiltering37 as SCMpref\n",
    "net=SCMpref.NNclassifer(\n",
    " datax=scref,\n",
    "    epochNum=35,\n",
    "    learningRate=0.015,\n",
    "    verbose=0,\n",
    "    optimizerMmentum=0.8,\n",
    "    dropout=0.3,\n",
    " )"
   ]
  },
  {
   "cell_type": "code",
   "execution_count": null,
   "metadata": {
    "scrolled": true
   },
   "outputs": [],
   "source": [
    "scref"
   ]
  },
  {
   "cell_type": "code",
   "execution_count": null,
   "metadata": {},
   "outputs": [],
   "source": [
    "scref.obsm"
   ]
  },
  {
   "cell_type": "code",
   "execution_count": null,
   "metadata": {},
   "outputs": [],
   "source": [
    "set(scref.obs[\"Cluster\"])"
   ]
  },
  {
   "cell_type": "code",
   "execution_count": null,
   "metadata": {},
   "outputs": [],
   "source": [
    "scref.uns[\"mwanted_order\"] =[\n",
    "'Chromaffin',\n",
    "    'Schw_Bridge',\n",
    "     'Schw_SCP',\n",
    "'Autonomic_Prog',\n",
    "   'Migratory_Prog',\n",
    "                  'Mesenchyme_Prog',\n",
    " 'Mesenchymal', \n",
    "'Schwann/Glia',\n",
    " 'Sympathetic',\n",
    "'Schw_SympaBlast',\n",
    "]\n"
   ]
  },
  {
   "cell_type": "code",
   "execution_count": null,
   "metadata": {},
   "outputs": [],
   "source": [
    "refcolor_dict = pd.Series({    'Cardiac_Mes':( 50, 180, 180),\n",
    " 'Mesenchymal':( 50, 20, 50),\n",
    " 'Early_Migratory_Prog':(255,0,0),\n",
    " 'Gang_Endothelial':  ( 150, 80, 180),\n",
    " 'Gang_JG':( 150, 60, 180),\n",
    " 'Gang_NG':( 50, 220, 20),\n",
    "\n",
    " 'Gang_Sympathetic':(100, 125, 70),\n",
    "     'Migratory_Prog':(200,20,100),\n",
    " 'Late_Migratory_Prog':(200,20,100),\n",
    " 'Mesenchyme_Prog':(255,215,0),\n",
    " 'PNS_GLI_MNA_ENTG':(20, 100, 90),\n",
    " 'PNS_GLI_MNA_SATG':(50, 60, 50),\n",
    " 'PNS_GLI_MNA_SCHW':(150, 220, 50),\n",
    " 'PNS_NeuN_MNA_ENT':(200, 30, 50),\n",
    " 'PNS_NeuN_MNA_PSNF':(20, 130, 250),\n",
    " 'PNS_NeuN_MNA_PSNP':(200, 69, 0),\n",
    " 'PNS_NeuN_MNA_PSPEP':(100, 150, 0),\n",
    " 'PNS_NeuN_MNA_SYCHO':(61, 125, 33),\n",
    " 'Sympathetic':(29, 20, 100),\n",
    " 'Schw_Bridge':(30, 250, 170),\n",
    " 'Chromaffin':(112,128,144),\n",
    " 'Schw_SCP':(165,42,42),\n",
    " 'Schw_SympaBlast':(170, 250, 70),\n",
    " 'Sensory_Prog':(75,0,130),\n",
    " 'Autonomic_Prog':(0,0,255),\n",
    "     'Schwann/Glia':( 110, 140, 100),})\n",
    "#refcolor_dict =refcolor_dict.map(lambda x: list(map(lambda y: y/255., x)))"
   ]
  },
  {
   "cell_type": "code",
   "execution_count": null,
   "metadata": {},
   "outputs": [],
   "source": [
    "cd f:\\Dropbox\\data\\proj\\PE_HYZ\\BuidingCode\\SWAPLINE2\\SWAPLINE2"
   ]
  },
  {
   "cell_type": "code",
   "execution_count": null,
   "metadata": {
    "scrolled": false
   },
   "outputs": [],
   "source": [
    "#import SW2main88 as SCMmain\n",
    "scref=SCMmain.prediction(datax=scref, mcolor_dict=refcolor_dict ,net=net,learninggroup=\"train\", radarplot=True,fontsizeValue=28,\n",
    "                       ncolnm=1, bbValue=(1.2, 1.05)  )"
   ]
  },
  {
   "cell_type": "code",
   "execution_count": null,
   "metadata": {
    "scrolled": true
   },
   "outputs": [],
   "source": [
    "scref"
   ]
  },
  {
   "cell_type": "code",
   "execution_count": null,
   "metadata": {
    "scrolled": true
   },
   "outputs": [],
   "source": [
    "scref. obsm[\"Celltype_Score\"].shape"
   ]
  },
  {
   "cell_type": "code",
   "execution_count": null,
   "metadata": {
    "scrolled": false
   },
   "outputs": [],
   "source": [
    "scref"
   ]
  },
  {
   "cell_type": "code",
   "execution_count": null,
   "metadata": {},
   "outputs": [],
   "source": []
  },
  {
   "cell_type": "markdown",
   "metadata": {},
   "source": [
    "# Calculate the marker genes via interpretable learning"
   ]
  },
  {
   "cell_type": "code",
   "execution_count": null,
   "metadata": {
    "scrolled": false
   },
   "outputs": [],
   "source": [
    "cd f:/Dropbox/data/proj/PE_HYZ/BuidingCode/SWAPLINE2/SWAPLINE2"
   ]
  },
  {
   "cell_type": "code",
   "execution_count": null,
   "metadata": {},
   "outputs": [],
   "source": [
    "import SW2main191 as sw2\n",
    "import SCMprefiltering55 as scprefil"
   ]
  },
  {
   "cell_type": "code",
   "execution_count": null,
   "metadata": {
    "scrolled": true
   },
   "outputs": [],
   "source": [
    "cd ."
   ]
  },
  {
   "cell_type": "code",
   "execution_count": null,
   "metadata": {
    "scrolled": true
   },
   "outputs": [],
   "source": [
    "#scref=scm.CamelSwapline.ConstrualValueRef(datax=scref,net=net, ConstrualModelvalue=\"DeepLift\")\n",
    "scref=sw2.ConstrualValueRefmean(datax=scref,net=net,  ConstrualModelvalue=\"DeepLift\")"
   ]
  },
  {
   "cell_type": "code",
   "execution_count": null,
   "metadata": {
    "scrolled": true
   },
   "outputs": [],
   "source": [
    "scref"
   ]
  },
  {
   "cell_type": "code",
   "execution_count": null,
   "metadata": {
    "scrolled": true
   },
   "outputs": [],
   "source": [
    "scref.obsm['ConstrualValue_DeepLift'].shape"
   ]
  },
  {
   "cell_type": "markdown",
   "metadata": {},
   "source": [
    "# Save data"
   ]
  },
  {
   "cell_type": "code",
   "execution_count": null,
   "metadata": {
    "scrolled": false
   },
   "outputs": [],
   "source": [
    "cd f:\\Dropbox\\data\\proj\\PE_HYZ\\PublicDataSet\\NBL_SZscRNA\\SWAPLINE2"
   ]
  },
  {
   "cell_type": "markdown",
   "metadata": {},
   "source": [
    "# 10X_FW_8pwC_Adrenal"
   ]
  },
  {
   "cell_type": "code",
   "execution_count": null,
   "metadata": {},
   "outputs": [],
   "source": [
    "cd f:\\Dropbox\\data\\proj\\PE_HYZ\\PublicDataSet\\NBL_ Frank Westermann2021"
   ]
  },
  {
   "cell_type": "code",
   "execution_count": null,
   "metadata": {},
   "outputs": [],
   "source": [
    "dfpdt = pd.read_table(\"adrenal_medulla_8pcw_counts.csv\", index_col =0 ,header=0, sep=\",\")\n",
    "dfpdt.shape"
   ]
  },
  {
   "cell_type": "code",
   "execution_count": null,
   "metadata": {},
   "outputs": [],
   "source": [
    "dfpdt.tail()"
   ]
  },
  {
   "cell_type": "code",
   "execution_count": null,
   "metadata": {},
   "outputs": [],
   "source": [
    "dfclus=pd.read_table(\"adrenal_medulla_8pcw_annot.csv\",index_col=0,header=0,sep=\",\")\n",
    "dfclus.shape"
   ]
  },
  {
   "cell_type": "code",
   "execution_count": null,
   "metadata": {},
   "outputs": [],
   "source": [
    "dfclus.head()"
   ]
  },
  {
   "cell_type": "code",
   "execution_count": null,
   "metadata": {},
   "outputs": [],
   "source": []
  },
  {
   "cell_type": "code",
   "execution_count": null,
   "metadata": {},
   "outputs": [],
   "source": [
    "df=dfpdt.T.join(dfclus[\"combined_clusters\"],how=\"inner\")\n",
    "df.shape"
   ]
  },
  {
   "cell_type": "code",
   "execution_count": null,
   "metadata": {},
   "outputs": [],
   "source": [
    "dfpdtclus = df.iloc[:,-2:].T\n",
    "dfpdtclus.shape"
   ]
  },
  {
   "cell_type": "code",
   "execution_count": null,
   "metadata": {},
   "outputs": [],
   "source": [
    "clist=[]\n",
    "for item in df.index:\n",
    "    clist.append(\"%s-0\"%item)"
   ]
  },
  {
   "cell_type": "code",
   "execution_count": null,
   "metadata": {},
   "outputs": [],
   "source": [
    " df.index=clist"
   ]
  },
  {
   "cell_type": "code",
   "execution_count": null,
   "metadata": {},
   "outputs": [],
   "source": [
    "df"
   ]
  },
  {
   "cell_type": "code",
   "execution_count": null,
   "metadata": {
    "scrolled": false
   },
   "outputs": [],
   "source": [
    "cd f:\\Dropbox\\data\\proj\\PE_HYZ\\PublicDataSet\\NBL_ Frank Westermann2021"
   ]
  },
  {
   "cell_type": "code",
   "execution_count": null,
   "metadata": {
    "scrolled": true
   },
   "outputs": [],
   "source": [
    "dfpdt = pd.read_table(\"adrenal_medulla_counts.csv\", index_col =0 ,header=0, sep=\",\")\n",
    "dfpdt.shape"
   ]
  },
  {
   "cell_type": "markdown",
   "metadata": {},
   "source": [
    "indexrange=dfnewumap.loc[(dfnewumap[\"dot_Y\"]>10)&(dfnewumap[\"dot_X\"]>0)].index"
   ]
  },
  {
   "cell_type": "code",
   "execution_count": null,
   "metadata": {
    "scrolled": true
   },
   "outputs": [],
   "source": [
    "dfpdt.tail()"
   ]
  },
  {
   "cell_type": "code",
   "execution_count": null,
   "metadata": {
    "scrolled": true
   },
   "outputs": [],
   "source": [
    "dfclus=pd.read_table(\"adrenal_medulla_annot.tab\",index_col=0,header=0,sep=\"\\t\")\n",
    "dfclus.shape"
   ]
  },
  {
   "cell_type": "code",
   "execution_count": null,
   "metadata": {},
   "outputs": [],
   "source": [
    "dfclus.head()"
   ]
  },
  {
   "cell_type": "code",
   "execution_count": null,
   "metadata": {},
   "outputs": [],
   "source": [
    "df2=dfpdt.T.join(dfclus[\"gland_clusters\"],how=\"inner\")\n",
    "df2.shape"
   ]
  },
  {
   "cell_type": "code",
   "execution_count": null,
   "metadata": {},
   "outputs": [],
   "source": [
    "df2"
   ]
  },
  {
   "cell_type": "code",
   "execution_count": null,
   "metadata": {
    "scrolled": true
   },
   "outputs": [],
   "source": [
    "df2.columns=df2.columns[:-1].tolist()+[\"combined_clusters\"]"
   ]
  },
  {
   "cell_type": "code",
   "execution_count": null,
   "metadata": {},
   "outputs": [],
   "source": [
    "df2.columns"
   ]
  },
  {
   "cell_type": "code",
   "execution_count": null,
   "metadata": {},
   "outputs": [],
   "source": [
    "clist=[]\n",
    "for item in df2.index:\n",
    "    clist.append(\"%s-1\"%item)"
   ]
  },
  {
   "cell_type": "code",
   "execution_count": null,
   "metadata": {
    "scrolled": true
   },
   "outputs": [],
   "source": [
    "clist"
   ]
  },
  {
   "cell_type": "code",
   "execution_count": null,
   "metadata": {},
   "outputs": [],
   "source": [
    " df2.index=clist"
   ]
  },
  {
   "cell_type": "code",
   "execution_count": null,
   "metadata": {},
   "outputs": [],
   "source": [
    "df2"
   ]
  },
  {
   "cell_type": "code",
   "execution_count": null,
   "metadata": {},
   "outputs": [],
   "source": [
    "dfnew=df.T.join(df2.T,how=\"inner\")"
   ]
  },
  {
   "cell_type": "code",
   "execution_count": null,
   "metadata": {},
   "outputs": [],
   "source": [
    "dfnew.tail()"
   ]
  },
  {
   "cell_type": "code",
   "execution_count": null,
   "metadata": {},
   "outputs": [],
   "source": [
    "dfnew"
   ]
  },
  {
   "cell_type": "code",
   "execution_count": null,
   "metadata": {},
   "outputs": [],
   "source": [
    "scpdt = anndata.AnnData(dfnew.iloc[:-1,:].T.astype(float))\n",
    "\n",
    "\n",
    "\n",
    "scpdt.obs[\"Cluster\"]=dfnew.loc[\"combined_clusters\"].values"
   ]
  },
  {
   "cell_type": "code",
   "execution_count": null,
   "metadata": {
    "scrolled": true
   },
   "outputs": [],
   "source": [
    "scpdt.var"
   ]
  },
  {
   "cell_type": "code",
   "execution_count": null,
   "metadata": {},
   "outputs": [],
   "source": [
    "cd E:\\Yizhou_KI_OneCloud\\OneDrive - Karolinska Institutet\\Datasets_Template\\TrunkNeualCrest"
   ]
  },
  {
   "cell_type": "code",
   "execution_count": null,
   "metadata": {},
   "outputs": [],
   "source": [
    "scpdt.var"
   ]
  },
  {
   "cell_type": "code",
   "execution_count": null,
   "metadata": {},
   "outputs": [],
   "source": [
    "del scpdt.obs[\"Cluster\"]"
   ]
  },
  {
   "cell_type": "code",
   "execution_count": null,
   "metadata": {},
   "outputs": [],
   "source": [
    "scpdt.write(\"FW_7-8w2.h5ad\")"
   ]
  },
  {
   "cell_type": "code",
   "execution_count": null,
   "metadata": {},
   "outputs": [],
   "source": [
    "scpdt.var"
   ]
  },
  {
   "cell_type": "code",
   "execution_count": null,
   "metadata": {},
   "outputs": [],
   "source": [
    "dfpdtclus"
   ]
  },
  {
   "cell_type": "code",
   "execution_count": null,
   "metadata": {},
   "outputs": [],
   "source": [
    "set(dfpdtclus.loc[\"combined_clusters\"])"
   ]
  },
  {
   "cell_type": "code",
   "execution_count": null,
   "metadata": {},
   "outputs": [],
   "source": [
    "dfpdt.tail()"
   ]
  },
  {
   "cell_type": "code",
   "execution_count": null,
   "metadata": {},
   "outputs": [],
   "source": [
    "df=dfpdt.T\n",
    "df.shape"
   ]
  },
  {
   "cell_type": "code",
   "execution_count": null,
   "metadata": {},
   "outputs": [],
   "source": [
    "dfclus=dfpdtclus \n",
    "dfclus.index=[\"Unknown\",\"Cluster\"]\n",
    "dfclus.head()"
   ]
  },
  {
   "cell_type": "code",
   "execution_count": null,
   "metadata": {},
   "outputs": [],
   "source": [
    "dfbk=df.T"
   ]
  },
  {
   "cell_type": "code",
   "execution_count": null,
   "metadata": {},
   "outputs": [],
   "source": [
    "dfbk.sum().min()"
   ]
  },
  {
   "cell_type": "code",
   "execution_count": null,
   "metadata": {},
   "outputs": [],
   "source": [
    "dfbk.tail()"
   ]
  },
  {
   "cell_type": "code",
   "execution_count": null,
   "metadata": {},
   "outputs": [],
   "source": [
    "dfbk=dfbk.astype(float).T.loc[dfbk.astype(float).sum()>2500].T\n",
    "df_all=dfbk\n",
    "df_all.shape"
   ]
  },
  {
   "cell_type": "code",
   "execution_count": null,
   "metadata": {},
   "outputs": [],
   "source": [
    "counts_per_cell =df_all.sum()\n",
    "    # get rid of adata view\n",
    "counts_per_cell = np.ravel(counts_per_cell).copy()"
   ]
  },
  {
   "cell_type": "code",
   "execution_count": null,
   "metadata": {},
   "outputs": [],
   "source": [
    "len(counts_per_cell )"
   ]
  },
  {
   "cell_type": "code",
   "execution_count": null,
   "metadata": {},
   "outputs": [],
   "source": [
    "cell_subset = counts_per_cell > 0\n",
    "cell_subset "
   ]
  },
  {
   "cell_type": "code",
   "execution_count": null,
   "metadata": {},
   "outputs": [],
   "source": [
    "from scipy.sparse import issparse\n",
    "def _normalize_data(X, counts, after=None, copy=False):\n",
    "    X = X.copy() if copy else X\n",
    "    if issubclass(X.dtype.type, (int, np.integer)):\n",
    "        X = X.astype(np.float32)  # TODO: Check if float64 should be used\n",
    "    counts = np.asarray(counts)  # dask doesn't do medians\n",
    "    after = np.median(counts[counts>0], axis=0) if after is None else after\n",
    "    counts += (counts == 0)\n",
    "    counts = counts / after\n",
    "    if issparse(X):\n",
    "        sparsefuncs.inplace_row_scale(X, 1/counts)\n",
    "    else:\n",
    "        np.divide(X, counts[:, None], out=X)\n",
    "    return X\n"
   ]
  },
  {
   "cell_type": "code",
   "execution_count": null,
   "metadata": {},
   "outputs": [],
   "source": [
    "dat = dict(\n",
    "            X=_normalize_data(df_all.values.T, counts_per_cell, copy=True),\n",
    "            norm_factor=counts_per_cell,\n",
    "        )\n"
   ]
  },
  {
   "cell_type": "code",
   "execution_count": null,
   "metadata": {},
   "outputs": [],
   "source": [
    "dat[\"X\"].shape"
   ]
  },
  {
   "cell_type": "code",
   "execution_count": null,
   "metadata": {},
   "outputs": [],
   "source": [
    "df_all=pd.DataFrame(dat[\"X\"].T)\n",
    "df_all.columns=dfbk.columns\n",
    "df_all.index=dfbk.index"
   ]
  },
  {
   "cell_type": "code",
   "execution_count": null,
   "metadata": {},
   "outputs": [],
   "source": [
    "#dfclus=dfpdt.iloc[-1:,:]\n",
    "dfpdt=df_all.astype(float)"
   ]
  },
  {
   "cell_type": "code",
   "execution_count": null,
   "metadata": {},
   "outputs": [],
   "source": [
    "dfpdt.shape"
   ]
  },
  {
   "cell_type": "code",
   "execution_count": null,
   "metadata": {},
   "outputs": [],
   "source": [
    "dfclus.shape"
   ]
  },
  {
   "cell_type": "code",
   "execution_count": null,
   "metadata": {},
   "outputs": [],
   "source": [
    "dfclus=dfclus[dfpdt.columns]\n",
    "dfclus.shape"
   ]
  },
  {
   "cell_type": "code",
   "execution_count": null,
   "metadata": {},
   "outputs": [],
   "source": [
    "dfclus"
   ]
  },
  {
   "cell_type": "code",
   "execution_count": null,
   "metadata": {},
   "outputs": [],
   "source": [
    "dfpdt.shape"
   ]
  },
  {
   "cell_type": "code",
   "execution_count": null,
   "metadata": {},
   "outputs": [],
   "source": [
    "dfpdt1=dfpdt\n",
    "dfclus1=dfclus"
   ]
  },
  {
   "cell_type": "code",
   "execution_count": null,
   "metadata": {},
   "outputs": [],
   "source": []
  },
  {
   "cell_type": "code",
   "execution_count": null,
   "metadata": {},
   "outputs": [],
   "source": []
  },
  {
   "cell_type": "code",
   "execution_count": null,
   "metadata": {
    "scrolled": true
   },
   "outputs": [],
   "source": [
    "dfpdtclus = df.iloc[:,-2:].T\n",
    "dfpdtclus.shape"
   ]
  },
  {
   "cell_type": "code",
   "execution_count": null,
   "metadata": {},
   "outputs": [],
   "source": [
    "dfpdtclus"
   ]
  },
  {
   "cell_type": "code",
   "execution_count": null,
   "metadata": {},
   "outputs": [],
   "source": [
    "set(dfpdtclus.loc[\"gland_clusters\"])"
   ]
  },
  {
   "cell_type": "code",
   "execution_count": null,
   "metadata": {},
   "outputs": [],
   "source": [
    "dfpdt.tail()"
   ]
  },
  {
   "cell_type": "code",
   "execution_count": null,
   "metadata": {},
   "outputs": [],
   "source": [
    "df=dfpdt.T\n",
    "df.shape"
   ]
  },
  {
   "cell_type": "code",
   "execution_count": null,
   "metadata": {},
   "outputs": [],
   "source": [
    "dfclus=dfpdtclus \n",
    "dfclus.index=[\"Unknown\",\"Cluster\"]\n",
    "dfclus.head()"
   ]
  },
  {
   "cell_type": "code",
   "execution_count": null,
   "metadata": {},
   "outputs": [],
   "source": [
    "dfbk=df.T"
   ]
  },
  {
   "cell_type": "code",
   "execution_count": null,
   "metadata": {},
   "outputs": [],
   "source": [
    "dfbk.shape"
   ]
  },
  {
   "cell_type": "code",
   "execution_count": null,
   "metadata": {},
   "outputs": [],
   "source": [
    "dfbk.sum().max()"
   ]
  },
  {
   "cell_type": "code",
   "execution_count": null,
   "metadata": {},
   "outputs": [],
   "source": [
    "sum(dfbk.sum()>2500)"
   ]
  },
  {
   "cell_type": "code",
   "execution_count": null,
   "metadata": {},
   "outputs": [],
   "source": [
    "dfbk=dfbk.T.loc[dfbk.sum()>3000].T\n",
    "dfbk.shape"
   ]
  },
  {
   "cell_type": "code",
   "execution_count": null,
   "metadata": {
    "scrolled": true
   },
   "outputs": [],
   "source": [
    "dfbk.tail()"
   ]
  },
  {
   "cell_type": "code",
   "execution_count": null,
   "metadata": {},
   "outputs": [],
   "source": [
    "#dfclus=dfpdt.iloc[-1:,:]\n",
    "dfpdt=dfbk.astype(float)"
   ]
  },
  {
   "cell_type": "code",
   "execution_count": null,
   "metadata": {
    "scrolled": false
   },
   "outputs": [],
   "source": [
    "dfpdt.head()"
   ]
  },
  {
   "cell_type": "code",
   "execution_count": null,
   "metadata": {},
   "outputs": [],
   "source": [
    "dfpdt=dfpdt/dfpdt.sum()*10000\n",
    "dfpdt"
   ]
  },
  {
   "cell_type": "code",
   "execution_count": null,
   "metadata": {
    "scrolled": true
   },
   "outputs": [],
   "source": [
    "dfpdt.head()"
   ]
  },
  {
   "cell_type": "code",
   "execution_count": null,
   "metadata": {},
   "outputs": [],
   "source": [
    "dfclus=dfclus.T.reindex(dfpdt.columns).T\n",
    "dfclus"
   ]
  },
  {
   "cell_type": "code",
   "execution_count": null,
   "metadata": {},
   "outputs": [],
   "source": [
    "dfpdt.shape"
   ]
  },
  {
   "cell_type": "code",
   "execution_count": null,
   "metadata": {},
   "outputs": [],
   "source": [
    "dfclus"
   ]
  },
  {
   "cell_type": "code",
   "execution_count": null,
   "metadata": {
    "scrolled": true
   },
   "outputs": [],
   "source": [
    "len(set(dfpdt.columns)&set(dfpdt1.columns))"
   ]
  },
  {
   "cell_type": "code",
   "execution_count": null,
   "metadata": {},
   "outputs": [],
   "source": []
  },
  {
   "cell_type": "code",
   "execution_count": null,
   "metadata": {},
   "outputs": [],
   "source": []
  },
  {
   "cell_type": "code",
   "execution_count": null,
   "metadata": {},
   "outputs": [],
   "source": [
    "dfpdt1.shape"
   ]
  },
  {
   "cell_type": "code",
   "execution_count": null,
   "metadata": {},
   "outputs": [],
   "source": [
    "dfpdt1.shape"
   ]
  },
  {
   "cell_type": "code",
   "execution_count": null,
   "metadata": {},
   "outputs": [],
   "source": [
    "dfclus1"
   ]
  },
  {
   "cell_type": "code",
   "execution_count": null,
   "metadata": {},
   "outputs": [],
   "source": []
  },
  {
   "cell_type": "code",
   "execution_count": null,
   "metadata": {},
   "outputs": [],
   "source": [
    "scpdt = anndata.AnnData(dfpdt.T.astype(np.float32))"
   ]
  },
  {
   "cell_type": "code",
   "execution_count": null,
   "metadata": {
    "scrolled": true
   },
   "outputs": [],
   "source": [
    "scpdt.var"
   ]
  },
  {
   "cell_type": "code",
   "execution_count": null,
   "metadata": {},
   "outputs": [],
   "source": [
    "#scpdt.obs[\"Cluster\"]=dfclus.loc[\"Cluster\"].values"
   ]
  },
  {
   "cell_type": "code",
   "execution_count": null,
   "metadata": {
    "scrolled": true
   },
   "outputs": [],
   "source": [
    "scpdt"
   ]
  },
  {
   "cell_type": "code",
   "execution_count": null,
   "metadata": {},
   "outputs": [],
   "source": [
    "scpdt"
   ]
  },
  {
   "cell_type": "code",
   "execution_count": null,
   "metadata": {},
   "outputs": [],
   "source": [
    "scref"
   ]
  },
  {
   "cell_type": "code",
   "execution_count": null,
   "metadata": {},
   "outputs": [],
   "source": [
    "#import SCMprefiltering38 as SCMpref\n",
    "scpdt =SCMpref.MVgene_Scaling(datax=scpdt,TPTT=10000,   commongene=scref.var.index.tolist(),  \n",
    "                                        sharedMVgenes=scref.uns[ 'train_set_gene'].tolist(),\n",
    "                                                                                            std_scaling=False,score=None, thrs=None,  mprotogruop=None,\n",
    "    tftable=\"f:/Dropbox/data/proj/PE_HYZ/PublicDataSet/FantomTF2CLUSTER_human_official.txt\", learninggroup=\"test\")\n",
    "\n"
   ]
  },
  {
   "cell_type": "code",
   "execution_count": null,
   "metadata": {
    "scrolled": true
   },
   "outputs": [],
   "source": [
    "scpdt"
   ]
  },
  {
   "cell_type": "code",
   "execution_count": null,
   "metadata": {},
   "outputs": [],
   "source": [
    "scpdt.uns[\"mwanted_order\"] =['Bridge',\n",
    " 'Chromaffin cells',\n",
    " 'Neuroblasts',\n",
    " 'SCPs',\n",
    " 'connecting Chromaffin cells',\n",
    " 'cycling Neuroblasts',\n",
    " 'cycling SCPs',\n",
    " 'late SCPs']\n",
    "\n",
    "color_dictclpn = pd.Series({'Chromaffin cells':   (190,  10,  10), 'Neuroblasts': (25, 60,  130),\n",
    "                            'SCPs':    (57, 105,   7),\n",
    "            'Bridge':    (170, 180, 170),\n",
    "                            'connecting Chromaffin cells':    ( 95, 186,  70), 'late SCPs':    (180, 140, 130),\n",
    "       'cycling Neuroblasts':  (100, 100, 240), 'CGRP-Eta': ( 80, 235, 255), 'CGRP-Gamma':(190, 235, 255),\n",
    "            'cycling SCPs':(250, 125, 0),35:(230, 140, 120), 'Nonpeptidergic nociceptors':  (255, 195,  28),\n",
    "             'NBL712snRNA':  (139, 101, 100),\n",
    "                           'Sst':  (146,  178,  210),  'TrpM8':   (214, 194,  39),\n",
    "             'JK_NF4':  (255, 120, 155),'JK_NP1': ( 80, 235, 255), 'JK_NP2':  (250, 125,  25),\n",
    "              'JK_NP3':    (190, 200, 190),'JK_PEP1':   (255,  35, 155),  'NBL1':     (199, 121,  41),\n",
    "              'NBL2': ( 40,  55, 130), 'NBL3':  (  7,  121, 61), 'NBL4':   ( 195, 186,  70),\n",
    "               'NBL5':   ( 250, 80, 80), 'NBL6':   (245, 205, 170),'Endo/Peri':   (185, 245, 30),\n",
    "              'eSCc':(205,205,220)})\n",
    "#color_dictclpn = color_dictclpn.map(lambda x: list(map(lambda y: y/255., x)))"
   ]
  },
  {
   "cell_type": "code",
   "execution_count": null,
   "metadata": {},
   "outputs": [],
   "source": [
    "scref.uns[\"Celltype_OrderNumber\"]"
   ]
  },
  {
   "cell_type": "code",
   "execution_count": null,
   "metadata": {
    "scrolled": true
   },
   "outputs": [],
   "source": [
    "scref.uns[\"mclasses_names\"]"
   ]
  },
  {
   "cell_type": "code",
   "execution_count": null,
   "metadata": {},
   "outputs": [],
   "source": [
    "scref.uns[\"Celltype_Score_RefCellType\"]"
   ]
  },
  {
   "cell_type": "code",
   "execution_count": null,
   "metadata": {
    "scrolled": false
   },
   "outputs": [],
   "source": [
    "    scref.uns['mwanted_order']"
   ]
  },
  {
   "cell_type": "code",
   "execution_count": null,
   "metadata": {},
   "outputs": [],
   "source": [
    "cd f:\\Dropbox\\data\\proj\\PE_HYZ\\BuidingCode\\SWAPLINE2\\SWAPLINE2"
   ]
  },
  {
   "cell_type": "code",
   "execution_count": null,
   "metadata": {},
   "outputs": [],
   "source": [
    "import SW2main95 as SCM\n",
    "test=SCM.prediction(datax=scpdt, mcolor_dict=color_dictclpn,net=net,learninggroup=\"test\", radarplot=True, fontsizeValue=35,\n",
    "              datarefplot=scref,   ncolnm=1, bbValue=(1.1, 1.05))"
   ]
  },
  {
   "cell_type": "code",
   "execution_count": null,
   "metadata": {
    "scrolled": true
   },
   "outputs": [],
   "source": [
    "scref.uns['Celltype_OrderNumber']"
   ]
  },
  {
   "cell_type": "code",
   "execution_count": null,
   "metadata": {},
   "outputs": [],
   "source": []
  },
  {
   "cell_type": "code",
   "execution_count": null,
   "metadata": {},
   "outputs": [],
   "source": []
  },
  {
   "cell_type": "code",
   "execution_count": null,
   "metadata": {},
   "outputs": [],
   "source": []
  },
  {
   "cell_type": "code",
   "execution_count": null,
   "metadata": {
    "scrolled": true
   },
   "outputs": [],
   "source": [
    "scref"
   ]
  },
  {
   "cell_type": "code",
   "execution_count": null,
   "metadata": {
    "scrolled": true
   },
   "outputs": [],
   "source": [
    "dfpfcclus = scref.obs[[\"mtrain_index\",\"Cluster\"]].T\n",
    "dfpfcclus"
   ]
  },
  {
   "cell_type": "code",
   "execution_count": null,
   "metadata": {},
   "outputs": [],
   "source": [
    "cd f:\\Dropbox\\data\\proj\\PE_HYZ\\BuidingCode\\SWAPLINE2\\SWAPLINE2"
   ]
  },
  {
   "cell_type": "code",
   "execution_count": null,
   "metadata": {
    "scrolled": true
   },
   "outputs": [],
   "source": [
    "#import SW2main77 as SCMmain\n",
    "fig=SCMmain.ProbSinglePlot (datax=scref, mcolor_dict=refcolor_dict )"
   ]
  },
  {
   "cell_type": "code",
   "execution_count": null,
   "metadata": {
    "scrolled": true
   },
   "outputs": [],
   "source": [
    "#import SW2main77 as SCMmain\n",
    "fig=SCMmain.ProbMultiPlot( datax=scref, mcolor_dict=refcolor_dict )"
   ]
  },
  {
   "cell_type": "code",
   "execution_count": null,
   "metadata": {
    "scrolled": false
   },
   "outputs": [],
   "source": [
    "#import SW2main79 as SCMmain\n",
    "dftest0, ratiodf=SCMmain.permutationTest(datax=scref,net=net,num=10, plotshow=True)"
   ]
  },
  {
   "cell_type": "code",
   "execution_count": null,
   "metadata": {
    "scrolled": true
   },
   "outputs": [],
   "source": [
    "mdf_train_set .shape"
   ]
  },
  {
   "cell_type": "code",
   "execution_count": null,
   "metadata": {},
   "outputs": [],
   "source": [
    "scref"
   ]
  },
  {
   "cell_type": "code",
   "execution_count": null,
   "metadata": {
    "scrolled": false
   },
   "outputs": [],
   "source": [
    "cd f:\\Dropbox\\data\\proj\\PE_HYZ\\PublicDataSet\\NBL_SZscRNA\\SWAPLINE2"
   ]
  },
  {
   "cell_type": "code",
   "execution_count": null,
   "metadata": {},
   "outputs": [],
   "source": [
    "scref.write_h5ad(\"Integrated_Mouse_NeuralCrest.h5ad\")"
   ]
  },
  {
   "cell_type": "code",
   "execution_count": null,
   "metadata": {},
   "outputs": [],
   "source": []
  },
  {
   "cell_type": "markdown",
   "metadata": {},
   "source": [
    "# Sz_NBL"
   ]
  },
  {
   "cell_type": "code",
   "execution_count": null,
   "metadata": {},
   "outputs": [],
   "source": []
  },
  {
   "cell_type": "markdown",
   "metadata": {
    "scrolled": false
   },
   "source": [
    "cd D:\\Dropbox\\data\\proj\\PE_HYZ\\PublicDataSet\\NBL_SZscRNA\\20200714MergedAnalysis"
   ]
  },
  {
   "cell_type": "markdown",
   "metadata": {},
   "source": [
    "dfpdt = pd.read_table(\"All_SS2_RPKM.tab\", index_col =0 ,header=0, sep=\"\\t\")\n",
    "dfpdt.shape"
   ]
  },
  {
   "cell_type": "markdown",
   "metadata": {
    "scrolled": true
   },
   "source": [
    "dfpdt.tail()"
   ]
  },
  {
   "cell_type": "markdown",
   "metadata": {},
   "source": [
    "cd D:\\Dropbox\\data\\proj\\PE_HYZ\\PublicDataSet\\NBL_SZscRNA"
   ]
  },
  {
   "cell_type": "markdown",
   "metadata": {},
   "source": [
    "dfclust= pd.read_table(\"Only_Tumor_Cluster.tab\", index_col =0 ,header=0, sep=\"\\t\")\n",
    "dfclust.shape"
   ]
  },
  {
   "cell_type": "markdown",
   "metadata": {},
   "source": [
    "dfclust.head()"
   ]
  },
  {
   "cell_type": "markdown",
   "metadata": {},
   "source": [
    "set(dfpdt.loc[\"Cluster\"])"
   ]
  },
  {
   "cell_type": "markdown",
   "metadata": {},
   "source": [
    "cd D:\\Dropbox\\data\\proj\\PE_HYZ\\PublicDataSet\\NBL_SZscRNA\\SWAPLINE2"
   ]
  },
  {
   "cell_type": "markdown",
   "metadata": {},
   "source": [
    "#dfpdt.iloc[-2:,:].to_csv(\"SS2_904szNBL_cluster.tab\",sep=\"\\t\")"
   ]
  },
  {
   "cell_type": "markdown",
   "metadata": {},
   "source": []
  },
  {
   "cell_type": "markdown",
   "metadata": {},
   "source": [
    "dfpdt=dfpdt.T.loc[dfclust.index].T\n",
    "dfpdt.shape"
   ]
  },
  {
   "cell_type": "markdown",
   "metadata": {},
   "source": [
    "patientlist=[]\n",
    "for item in dfpdt.loc[\"Cluster\"]:\n",
    "    if item =='NBL4new':\n",
    "        item=\"NBL4\"\n",
    "    elif item =='nb:681501':\n",
    "        item=\"NBL6\"\n",
    "    elif item =='nb:NO11NBbj1':\n",
    "        item=\"NBL3\"\n",
    "    patientlist.append(item)"
   ]
  },
  {
   "cell_type": "markdown",
   "metadata": {},
   "source": [
    "dfpdt.loc[\"Cluster\"]=patientlist"
   ]
  },
  {
   "cell_type": "markdown",
   "metadata": {},
   "source": []
  },
  {
   "cell_type": "code",
   "execution_count": null,
   "metadata": {
    "scrolled": false
   },
   "outputs": [],
   "source": [
    "cd f:\\Dropbox\\data\\proj\\PE_HYZ\\PublicDataSet\\NBL_SZscRNA\\SWAPLINE2"
   ]
  },
  {
   "cell_type": "code",
   "execution_count": null,
   "metadata": {
    "scrolled": true
   },
   "outputs": [],
   "source": [
    "scpdt=anndata.read(\"szNBLscRNAseq_fit_Integrated_Mouse_NeuralCrest.h5ad\")"
   ]
  },
  {
   "cell_type": "code",
   "execution_count": null,
   "metadata": {},
   "outputs": [],
   "source": [
    "scpdt"
   ]
  },
  {
   "cell_type": "code",
   "execution_count": null,
   "metadata": {},
   "outputs": [],
   "source": [
    "scref.uns[ 'train_set_gene'].tolist()"
   ]
  },
  {
   "cell_type": "code",
   "execution_count": null,
   "metadata": {},
   "outputs": [],
   "source": [
    "cd f:\\Dropbox\\data\\proj\\PE_HYZ\\BuidingCode\\SWAPLINE2\\SWAPLINE2"
   ]
  },
  {
   "cell_type": "code",
   "execution_count": null,
   "metadata": {},
   "outputs": [],
   "source": [
    "scpdt"
   ]
  },
  {
   "cell_type": "code",
   "execution_count": null,
   "metadata": {},
   "outputs": [],
   "source": [
    "dfpfcclus=scpdt.obs[\"Cluster\"]\n",
    "dfpfcclus[\"c2\"]=scpdt.obs[\"Cluster\"].values\n",
    "dfpfcclus"
   ]
  },
  {
   "cell_type": "code",
   "execution_count": null,
   "metadata": {},
   "outputs": [],
   "source": [
    "dfpfcclus"
   ]
  },
  {
   "cell_type": "code",
   "execution_count": null,
   "metadata": {},
   "outputs": [],
   "source": [
    "#import SCMprefiltering33 as SCMpref\n",
    "scpdt =SCMpref.MVgene_Scaling(datax=scpdt,TPTT=1000000,   commongene=scref.var.index.tolist(),  \n",
    "                                        sharedMVgenes=scref.uns[ 'train_set_gene'].tolist(),\n",
    "                                                                                            std_scaling=False,score=None, thrs=None,  mprotogruop=None,\n",
    "    tftable=\"f:/Dropbox/data/proj/PE_HYZ/PublicDataSet/FantomTF2CLUSTER_human_official.txt\", learninggroup=\"test\")\n",
    "\n"
   ]
  },
  {
   "cell_type": "code",
   "execution_count": null,
   "metadata": {
    "scrolled": true
   },
   "outputs": [],
   "source": [
    "scpdt"
   ]
  },
  {
   "cell_type": "code",
   "execution_count": null,
   "metadata": {},
   "outputs": [],
   "source": [
    "cd f:\\Dropbox\\data\\proj\\PE_HYZ\\PublicDataSet\\NBL_SZscRNA\\SWAPLINE2"
   ]
  },
  {
   "cell_type": "code",
   "execution_count": null,
   "metadata": {
    "scrolled": true
   },
   "outputs": [],
   "source": [
    "scpdt=anndata.read(\"szNBLscRNAseq_fit_Integrated_Mouse_NeuralCrest.h5ad\")"
   ]
  },
  {
   "cell_type": "code",
   "execution_count": null,
   "metadata": {},
   "outputs": [],
   "source": [
    "scpdt.uns[\"mwanted_order\"] =['NBL1', 'NBL2', 'NBL3', 'NBL4', 'NBL5', 'NBL6']\n",
    "#bool00clpn=array([True]*len(dfnewclus.index))\n",
    "#reorder_ixclpn = [list(classes_namesclpn).index(i) for i in wanted_orderclpn]\n",
    "color_dictclpn = pd.Series({'Abeta-Field':   (190,  10,  10),'Abeta-RA-LTMR': (25, 60,  130),\n",
    "                             'Adelta-LTMR':    (57, 105,   7),\n",
    "            'C-LTMR':    (170, 180, 170), 'CGRP-Alpha':    ( 95, 186,  70), 'CGRP-Beta':    (180, 140, 130),\n",
    "           'CGRP-Epsilion':  (100, 100, 240), 'CGRP-Eta': ( 80, 235, 255), 'CGRP-Gamma':(190, 235, 255),\n",
    "             'CGRP-Theta':(210, 255, 215), 'CGRP-Zeta':(230, 140, 120), 'Nonpeptidergic nociceptors':  (255, 195,  28),\n",
    "              'Proprioceptors':  (139, 101, 100),\n",
    "                           'Sst':  (146,  178,  210),  'TrpM8':   (214, 194,  39),\n",
    "             'JK_NF4':  (255, 120, 155),'JK_NP1': ( 80, 235, 255), 'JK_NP2':  (250, 125,  25),\n",
    "              'JK_NP3':    (190, 200, 190),'JK_PEP1':   (255,  35, 155),  'NBL1':     (199, 121,  41),\n",
    "              'NBL2': ( 40,  55, 130), 'NBL3':  (  7,  121, 61), 'NBL4':   ( 195, 186,  70),\n",
    "               'NBL5':   ( 250, 80, 80), 'NBL6':   (245, 205, 170),'Endo/Peri':   (185, 245, 30),\n",
    "              'eSCc':(205,205,220)})\n",
    "#color_dictclpn = color_dictclpn.map(lambda x: list(map(lambda y: y/255., x)))"
   ]
  },
  {
   "cell_type": "code",
   "execution_count": null,
   "metadata": {},
   "outputs": [],
   "source": [
    "    scref.uns['mwanted_order']"
   ]
  },
  {
   "cell_type": "code",
   "execution_count": null,
   "metadata": {},
   "outputs": [],
   "source": [
    "scref.uns[\"mclasses_names\"]"
   ]
  },
  {
   "cell_type": "code",
   "execution_count": null,
   "metadata": {},
   "outputs": [],
   "source": [
    "cd f:\\Dropbox\\data\\proj\\PE_HYZ\\BuidingCode\\SWAPLINE2\\SWAPLINE2"
   ]
  },
  {
   "cell_type": "code",
   "execution_count": null,
   "metadata": {},
   "outputs": [],
   "source": [
    "#import SW2main92 as SCM\n",
    "test=SCM.prediction(datax=scpdt, mcolor_dict=color_dictclpn,net=net,learninggroup=\"test\", radarplot=True, fontsizeValue=35,\n",
    "              datarefplot=scref,               ncolnm=1, bbValue=(1.1, 1.05))"
   ]
  },
  {
   "cell_type": "code",
   "execution_count": null,
   "metadata": {},
   "outputs": [],
   "source": [
    "scpdt"
   ]
  },
  {
   "cell_type": "code",
   "execution_count": null,
   "metadata": {
    "scrolled": true
   },
   "outputs": [],
   "source": [
    "cd f:\\Dropbox\\data\\proj\\PE_HYZ\\PublicDataSet\\NBL_SZscRNA\\SWAPLINE2"
   ]
  },
  {
   "cell_type": "code",
   "execution_count": null,
   "metadata": {
    "scrolled": true
   },
   "outputs": [],
   "source": [
    "scpdt.write_h5ad(\"szNBLscRNAseq_fit_Integrated_Mouse_NeuralCrest.h5ad\")"
   ]
  },
  {
   "cell_type": "code",
   "execution_count": null,
   "metadata": {
    "scrolled": true
   },
   "outputs": [],
   "source": [
    "scpdt"
   ]
  },
  {
   "cell_type": "code",
   "execution_count": null,
   "metadata": {
    "scrolled": true
   },
   "outputs": [],
   "source": [
    "cd f:\\Dropbox\\data\\proj\\PE_HYZ\\PublicDataSet\\NBL_SZscRNA\\SWAPLINE2"
   ]
  },
  {
   "cell_type": "code",
   "execution_count": null,
   "metadata": {},
   "outputs": [],
   "source": [
    "scpdt.write_h5ad(\"FW8pwd_scRNAseq_fit_Integrated_Mouse_NeuralCrest.h5ad\")"
   ]
  },
  {
   "cell_type": "code",
   "execution_count": null,
   "metadata": {
    "scrolled": true
   },
   "outputs": [],
   "source": [
    "[scpdt.uns[ 'Celltype_Score_RefCellType'][i] for i in scref.uns['Celltype_OrderNumber']]"
   ]
  },
  {
   "cell_type": "code",
   "execution_count": null,
   "metadata": {},
   "outputs": [],
   "source": [
    "np.array(scpdt.uns[ 'Celltype_Score_RefCellType'])scref.uns['Celltype_OrderNumber']"
   ]
  },
  {
   "cell_type": "code",
   "execution_count": null,
   "metadata": {
    "scrolled": true
   },
   "outputs": [],
   "source": [
    "np.array(scpdt.uns[ 'Celltype_Score_RefCellType'])scref.uns['Celltype_OrderNumber']"
   ]
  },
  {
   "cell_type": "code",
   "execution_count": null,
   "metadata": {},
   "outputs": [],
   "source": []
  },
  {
   "cell_type": "code",
   "execution_count": null,
   "metadata": {},
   "outputs": [],
   "source": []
  },
  {
   "cell_type": "code",
   "execution_count": null,
   "metadata": {},
   "outputs": [],
   "source": []
  },
  {
   "cell_type": "code",
   "execution_count": null,
   "metadata": {},
   "outputs": [],
   "source": []
  },
  {
   "cell_type": "markdown",
   "metadata": {},
   "source": [
    "# 10X_FW_7pwd_Adrenal"
   ]
  },
  {
   "cell_type": "code",
   "execution_count": null,
   "metadata": {
    "scrolled": false
   },
   "outputs": [],
   "source": [
    "cd f:\\Dropbox\\data\\proj\\PE_HYZ\\PublicDataSet\\NBL_ Frank Westermann2021"
   ]
  },
  {
   "cell_type": "code",
   "execution_count": null,
   "metadata": {
    "scrolled": true
   },
   "outputs": [],
   "source": [
    "dfpdt = pd.read_table(\"adrenal_medulla_counts.csv\", index_col =0 ,header=0, sep=\",\")\n",
    "dfpdt.shape"
   ]
  },
  {
   "cell_type": "markdown",
   "metadata": {},
   "source": [
    "indexrange=dfnewumap.loc[(dfnewumap[\"dot_Y\"]>10)&(dfnewumap[\"dot_X\"]>0)].index"
   ]
  },
  {
   "cell_type": "code",
   "execution_count": null,
   "metadata": {
    "scrolled": true
   },
   "outputs": [],
   "source": [
    "dfpdt.tail()"
   ]
  },
  {
   "cell_type": "code",
   "execution_count": null,
   "metadata": {},
   "outputs": [],
   "source": [
    "dfclus=pd.read_table(\"adrenal_medulla_annot.tab\",index_col=0,header=0,sep=\"\\t\")\n",
    "dfclus.shape"
   ]
  },
  {
   "cell_type": "code",
   "execution_count": null,
   "metadata": {},
   "outputs": [],
   "source": [
    "dfclus.head()"
   ]
  },
  {
   "cell_type": "code",
   "execution_count": null,
   "metadata": {},
   "outputs": [],
   "source": []
  },
  {
   "cell_type": "code",
   "execution_count": null,
   "metadata": {},
   "outputs": [],
   "source": [
    "df=dfpdt.T.join(dfclus[\"gland_clusters\"],how=\"inner\")\n",
    "df.shape"
   ]
  },
  {
   "cell_type": "code",
   "execution_count": null,
   "metadata": {
    "scrolled": true
   },
   "outputs": [],
   "source": [
    "dfpdtclus = df.iloc[:,-2:].T\n",
    "dfpdtclus.shape"
   ]
  },
  {
   "cell_type": "code",
   "execution_count": null,
   "metadata": {},
   "outputs": [],
   "source": [
    "dfpdtclus"
   ]
  },
  {
   "cell_type": "code",
   "execution_count": null,
   "metadata": {},
   "outputs": [],
   "source": [
    "set(dfpdtclus.loc[\"gland_clusters\"])"
   ]
  },
  {
   "cell_type": "code",
   "execution_count": null,
   "metadata": {},
   "outputs": [],
   "source": [
    "dfpdt.tail()"
   ]
  },
  {
   "cell_type": "code",
   "execution_count": null,
   "metadata": {},
   "outputs": [],
   "source": [
    "df=dfpdt.T\n",
    "df.shape"
   ]
  },
  {
   "cell_type": "code",
   "execution_count": null,
   "metadata": {},
   "outputs": [],
   "source": [
    "dfclus=dfpdtclus \n",
    "dfclus.index=[\"Unknown\",\"Cluster\"]\n",
    "dfclus.head()"
   ]
  },
  {
   "cell_type": "code",
   "execution_count": null,
   "metadata": {},
   "outputs": [],
   "source": [
    "dfbk=df.T"
   ]
  },
  {
   "cell_type": "code",
   "execution_count": null,
   "metadata": {},
   "outputs": [],
   "source": [
    "dfbk.shape"
   ]
  },
  {
   "cell_type": "code",
   "execution_count": null,
   "metadata": {},
   "outputs": [],
   "source": [
    "dfbk.sum().max()"
   ]
  },
  {
   "cell_type": "code",
   "execution_count": null,
   "metadata": {},
   "outputs": [],
   "source": [
    "sum(dfbk.sum()>2500)"
   ]
  },
  {
   "cell_type": "code",
   "execution_count": null,
   "metadata": {},
   "outputs": [],
   "source": [
    "dfbk=dfbk.T.loc[dfbk.sum()>3000].T\n",
    "dfbk.shape"
   ]
  },
  {
   "cell_type": "code",
   "execution_count": null,
   "metadata": {
    "scrolled": true
   },
   "outputs": [],
   "source": [
    "dfbk.tail()"
   ]
  },
  {
   "cell_type": "code",
   "execution_count": null,
   "metadata": {},
   "outputs": [],
   "source": [
    "#dfclus=dfpdt.iloc[-1:,:]\n",
    "dfpdt=dfbk.astype(float)"
   ]
  },
  {
   "cell_type": "code",
   "execution_count": null,
   "metadata": {
    "scrolled": false
   },
   "outputs": [],
   "source": [
    "dfpdt.head()"
   ]
  },
  {
   "cell_type": "code",
   "execution_count": null,
   "metadata": {},
   "outputs": [],
   "source": [
    "dfpdt=dfpdt/dfpdt.sum()*10000\n",
    "dfpdt"
   ]
  },
  {
   "cell_type": "code",
   "execution_count": null,
   "metadata": {
    "scrolled": true
   },
   "outputs": [],
   "source": [
    "dfpdt.head()"
   ]
  },
  {
   "cell_type": "code",
   "execution_count": null,
   "metadata": {},
   "outputs": [],
   "source": [
    "dfclus=dfclus.T.reindex(dfpdt.columns).T\n",
    "dfclus"
   ]
  },
  {
   "cell_type": "code",
   "execution_count": null,
   "metadata": {},
   "outputs": [],
   "source": []
  },
  {
   "cell_type": "code",
   "execution_count": null,
   "metadata": {},
   "outputs": [],
   "source": [
    "scpdt = anndata.AnnData(dfpdt.T.astype(float))"
   ]
  },
  {
   "cell_type": "code",
   "execution_count": null,
   "metadata": {
    "scrolled": true
   },
   "outputs": [],
   "source": [
    "scpdt.var"
   ]
  },
  {
   "cell_type": "code",
   "execution_count": null,
   "metadata": {},
   "outputs": [],
   "source": [
    "scpdt.obs[\"Cluster\"]=dfclus.loc[\"Cluster\"].values"
   ]
  },
  {
   "cell_type": "code",
   "execution_count": null,
   "metadata": {},
   "outputs": [],
   "source": [
    "scpdt"
   ]
  },
  {
   "cell_type": "code",
   "execution_count": null,
   "metadata": {},
   "outputs": [],
   "source": [
    "cluslist=[]\n",
    "for item in scpdt.obs[\"Cluster\"]:\n",
    "    cluslist.append(\"C%s\"%item)"
   ]
  },
  {
   "cell_type": "code",
   "execution_count": null,
   "metadata": {},
   "outputs": [],
   "source": [
    "scpdt.obs[\"Cluster\"]=cluslist"
   ]
  },
  {
   "cell_type": "code",
   "execution_count": null,
   "metadata": {},
   "outputs": [],
   "source": [
    "import SCMprefiltering33 as SCMpref\n",
    "scpdt =SCMpref.MVgene_Scaling(datax=scpdt,TPTT=0,   commongene=scref.var.index.tolist(),  \n",
    "                                        sharedMVgenes=scref.uns[ 'train_set_gene'].tolist(),\n",
    "                                                                                            std_scaling=True,score=None, thrs=None,  mprotogruop=None,\n",
    "    tftable=\"f:/Dropbox/data/proj/PE_HYZ/PublicDataSet/FantomTF2CLUSTER_human_official.txt\", learninggroup=\"test\")\n",
    "\n"
   ]
  },
  {
   "cell_type": "code",
   "execution_count": null,
   "metadata": {
    "scrolled": true
   },
   "outputs": [],
   "source": [
    "set(cluslist)"
   ]
  },
  {
   "cell_type": "code",
   "execution_count": null,
   "metadata": {},
   "outputs": [],
   "source": [
    "scpdt=anndata.read(\"FW7pwd_scRNAseq_fit_Integrated_Mouse_NeuralCrest.h5ad\")"
   ]
  },
  {
   "cell_type": "code",
   "execution_count": null,
   "metadata": {},
   "outputs": [],
   "source": [
    "scpdt.uns[\"mwanted_order\"] =wanted_orderclpn =['C12', 'C15', 'C19', 'C21', 'C30', 'C32', 'C35']\n",
    "\n",
    "color_dictclpn = pd.Series({ 'C15':   (190,  10,  10), 'C19': (25, 60,  130),\n",
    "                            'C12':    (57, 105,   7),\n",
    "            'C-LTMR':    (170, 180, 170),\n",
    "                           'C21':    ( 95, 186,  70), 'CGRP-Beta':    (180, 140, 130),\n",
    "         'C30':  (100, 100, 240), 'CGRP-Eta': ( 80, 235, 255), 'CGRP-Gamma':(190, 235, 255),\n",
    "             'C32':(250, 125, 0),'C35':(230, 140, 120), 'Nonpeptidergic nociceptors':  (255, 195,  28),\n",
    "             'NBL712snRNA':  (139, 101, 100),\n",
    "                           'Sst':  (146,  178,  210),  'TrpM8':   (214, 194,  39),\n",
    "             'JK_NF4':  (255, 120, 155),'JK_NP1': ( 80, 235, 255), 'JK_NP2':  (250, 125,  25),\n",
    "              'JK_NP3':    (190, 200, 190),'JK_PEP1':   (255,  35, 155),  'NBL1':     (199, 121,  41),\n",
    "              'NBL2': ( 40,  55, 130), 'NBL3':  (  7,  121, 61), 'NBL4':   ( 195, 186,  70),\n",
    "               'NBL5':   ( 250, 80, 80), 'NBL6':   (245, 205, 170),'Endo/Peri':   (185, 245, 30),\n",
    "              'eSCc':(205,205,220)})\n",
    "#color_dictclpn = color_dictclpn.map(lambda x: list(map(lambda y: y/255., x)))"
   ]
  },
  {
   "cell_type": "code",
   "execution_count": null,
   "metadata": {},
   "outputs": [],
   "source": [
    "    scref.uns['mwanted_order']"
   ]
  },
  {
   "cell_type": "code",
   "execution_count": null,
   "metadata": {},
   "outputs": [],
   "source": [
    "scref.uns[\"mclasses_names\"]"
   ]
  },
  {
   "cell_type": "code",
   "execution_count": null,
   "metadata": {},
   "outputs": [],
   "source": [
    "#import SW2main82 as SCM\n",
    "test=SCM.prediction(datax=scpdt, mcolor_dict=color_dictclpn,net=net,learninggroup=\"test\", radarplot=True, fontsizeValue=35,\n",
    "              datarefplot=scref,               ncolnm=1, bbValue=(1.1, 1.05))"
   ]
  },
  {
   "cell_type": "code",
   "execution_count": null,
   "metadata": {},
   "outputs": [],
   "source": [
    "scpdt"
   ]
  },
  {
   "cell_type": "code",
   "execution_count": null,
   "metadata": {
    "scrolled": false
   },
   "outputs": [],
   "source": [
    "cd f:\\Dropbox\\data\\proj\\PE_HYZ\\PublicDataSet\\NBL_SZscRNA\\SWAPLINE2"
   ]
  },
  {
   "cell_type": "code",
   "execution_count": null,
   "metadata": {
    "scrolled": true
   },
   "outputs": [],
   "source": [
    "scpdt.write_h5ad(\"FW7pwd_scRNAseq_fit_Integrated_Mouse_NeuralCrest.h5ad\")"
   ]
  },
  {
   "cell_type": "code",
   "execution_count": null,
   "metadata": {},
   "outputs": [],
   "source": []
  },
  {
   "cell_type": "markdown",
   "metadata": {},
   "source": [
    "# SH_NBL"
   ]
  },
  {
   "cell_type": "code",
   "execution_count": null,
   "metadata": {
    "scrolled": false
   },
   "outputs": [],
   "source": [
    "cd f:\\Dropbox\\data\\proj\\PE_HYZ\\PublicDataSet\\NBL_GSE137804\\GSE137804_RAW"
   ]
  },
  {
   "cell_type": "code",
   "execution_count": null,
   "metadata": {},
   "outputs": [],
   "source": [
    "import loompy"
   ]
  },
  {
   "cell_type": "code",
   "execution_count": null,
   "metadata": {},
   "outputs": [],
   "source": [
    "ds=loompy.connect(\"20210911_SH_NBL1.loom\", )"
   ]
  },
  {
   "cell_type": "code",
   "execution_count": null,
   "metadata": {},
   "outputs": [],
   "source": [
    "ds.ca[\"CellID\"]"
   ]
  },
  {
   "cell_type": "code",
   "execution_count": null,
   "metadata": {},
   "outputs": [],
   "source": [
    "df=pd.DataFrame(ds[:, :])"
   ]
  },
  {
   "cell_type": "code",
   "execution_count": null,
   "metadata": {},
   "outputs": [],
   "source": [
    "df.shape"
   ]
  },
  {
   "cell_type": "code",
   "execution_count": null,
   "metadata": {},
   "outputs": [],
   "source": [
    "df.index=ds.ra[ 'Gene']\n",
    "df.columns=ds.ca[\"CellID\"]"
   ]
  },
  {
   "cell_type": "code",
   "execution_count": null,
   "metadata": {},
   "outputs": [],
   "source": [
    "ds.close()"
   ]
  },
  {
   "cell_type": "code",
   "execution_count": null,
   "metadata": {},
   "outputs": [],
   "source": [
    "dfpdt=df"
   ]
  },
  {
   "cell_type": "code",
   "execution_count": null,
   "metadata": {},
   "outputs": [],
   "source": [
    "cluslist=[]\n",
    "for item in dfpdt.columns:\n",
    "    cluslist.append(item.split(\"_\")[0])\n",
    "set(cluslist)"
   ]
  },
  {
   "cell_type": "code",
   "execution_count": null,
   "metadata": {},
   "outputs": [],
   "source": []
  },
  {
   "cell_type": "code",
   "execution_count": null,
   "metadata": {},
   "outputs": [],
   "source": [
    "dfpdt.loc[\"Cluster\"]=cluslist"
   ]
  },
  {
   "cell_type": "code",
   "execution_count": null,
   "metadata": {},
   "outputs": [],
   "source": [
    "dfpdtclus = dfpdt.iloc[-1:,:]\n",
    "dfpdtclus.shape"
   ]
  },
  {
   "cell_type": "code",
   "execution_count": null,
   "metadata": {},
   "outputs": [],
   "source": [
    "df=dfpdt\n",
    "df.shape"
   ]
  },
  {
   "cell_type": "code",
   "execution_count": null,
   "metadata": {},
   "outputs": [],
   "source": [
    "#df=df.T\n",
    "df.tail()"
   ]
  },
  {
   "cell_type": "code",
   "execution_count": null,
   "metadata": {},
   "outputs": [],
   "source": [
    "#dfclus=df.iloc[-1:,:]\n",
    "#dfclus.index=[\"Cluster\"]\n",
    "#dfclus.head()"
   ]
  },
  {
   "cell_type": "code",
   "execution_count": null,
   "metadata": {},
   "outputs": [],
   "source": [
    "#newclus=[]\n",
    "#for item in dfclus.loc[\"Cluster\"]:\n",
    " #   newclus.append(\"JK_%s\"%item)"
   ]
  },
  {
   "cell_type": "code",
   "execution_count": null,
   "metadata": {},
   "outputs": [],
   "source": [
    "#dfclus.loc[\"Cluster\"]=dfclus.loc[\"GintyCluster\"]"
   ]
  },
  {
   "cell_type": "code",
   "execution_count": null,
   "metadata": {},
   "outputs": [],
   "source": [
    "#dfclus=dfpdt.iloc[-1:,:]\n",
    "dfpdt=df.iloc[:-1,:]"
   ]
  },
  {
   "cell_type": "code",
   "execution_count": null,
   "metadata": {},
   "outputs": [],
   "source": [
    "scpdt = anndata.AnnData(dfpdt.T.astype(float))"
   ]
  },
  {
   "cell_type": "code",
   "execution_count": null,
   "metadata": {
    "scrolled": true
   },
   "outputs": [],
   "source": [
    "scpdt.var"
   ]
  },
  {
   "cell_type": "code",
   "execution_count": null,
   "metadata": {
    "scrolled": true
   },
   "outputs": [],
   "source": [
    "dfpdtclus"
   ]
  },
  {
   "cell_type": "code",
   "execution_count": null,
   "metadata": {},
   "outputs": [],
   "source": [
    "scpdt.obs[\"Cluster\"]=dfpdtclus.loc[\"Cluster\"].values"
   ]
  },
  {
   "cell_type": "code",
   "execution_count": null,
   "metadata": {},
   "outputs": [],
   "source": [
    "scpdt"
   ]
  },
  {
   "cell_type": "code",
   "execution_count": null,
   "metadata": {},
   "outputs": [],
   "source": [
    "import SCMprefiltering33 as SCMpref\n",
    "scpdt =SCMpref.MVgene_Scaling(datax=scpdt,TPTT=0,   commongene=scref.var.index.tolist(),  \n",
    "                                        sharedMVgenes=scref.uns[ 'train_set_gene'].tolist(),\n",
    "                                                                                            std_scaling=True,score=None, thrs=None,  mprotogruop=None,\n",
    "    tftable=\"f:/Dropbox/data/proj/PE_HYZ/PublicDataSet/FantomTF2CLUSTER_human_official.txt\", learninggroup=\"test\")\n",
    "\n"
   ]
  },
  {
   "cell_type": "code",
   "execution_count": null,
   "metadata": {
    "scrolled": true
   },
   "outputs": [],
   "source": [
    "cd f:\\Dropbox\\data\\proj\\PE_HYZ\\PublicDataSet\\NBL_SZscRNA\\SWAPLINE2"
   ]
  },
  {
   "cell_type": "code",
   "execution_count": null,
   "metadata": {
    "scrolled": true
   },
   "outputs": [],
   "source": [
    "scpdt=anndata.read(\"shanghaiNBL1_scRNAseq_fit_Integrated_Mouse_NeuralCrest.h5ad\")"
   ]
  },
  {
   "cell_type": "code",
   "execution_count": null,
   "metadata": {},
   "outputs": [],
   "source": [
    "scpdt.uns[\"mwanted_order\"] =['T10',\n",
    " 'T162',\n",
    " 'T174',\n",
    " 'T188',\n",
    " 'T19',\n",
    " 'T200',\n",
    " 'T214',\n",
    " 'T230',\n",
    " 'T27',\n",
    " 'T34',\n",
    " 'T40',\n",
    " 'T44',\n",
    " 'T69',\n",
    " 'T71',\n",
    " 'T75',\n",
    " 'T92']\n",
    "\n",
    "color_dictclpn = pd.Series({'T10':   (190,  10,  10),'T162': (25, 60,  130),\n",
    "                            'T174':    (57, 105,   7),\n",
    "           'T188':    (170, 180, 170), 'T19':    ( 95, 186,  70),  'T200':    (180, 140, 130),\n",
    "           'T214':  (100, 100, 240), 'T230': ( 80, 235, 255),  'T27':(190, 235, 255),\n",
    "              'T34':(210, 255, 215),  'T40':(230, 140, 120),  'T44':  (255, 195,  28),\n",
    "              'T69':  (139, 101, 100),\n",
    "                          'T71':  (146,  178,  210),  'T75':   (214, 194,  39),\n",
    "             'T92':  (255, 120, 155),'JK_NP1': ( 80, 235, 255), 'JK_NP2':  (250, 125,  25),\n",
    "              'JK_NP3':    (190, 200, 190),'JK_PEP1':   (255,  35, 155),  'NBL1':     (199, 121,  41),\n",
    "              'NBL2': ( 40,  55, 130), 'NBL3':  (  7,  121, 61), 'NBL4':   ( 195, 186,  70),\n",
    "               'NBL5':   ( 250, 80, 80), 'NBL6':   (245, 205, 170),'Endo/Peri':   (185, 245, 30),\n",
    "              'eSCc':(205,205,220)})\n",
    "#color_dictclpn = color_dictclpn.map(lambda x: list(map(lambda y: y/255., x)))"
   ]
  },
  {
   "cell_type": "code",
   "execution_count": null,
   "metadata": {},
   "outputs": [],
   "source": [
    "    scref.uns['mwanted_order']"
   ]
  },
  {
   "cell_type": "code",
   "execution_count": null,
   "metadata": {},
   "outputs": [],
   "source": [
    "scref.uns[\"mclasses_names\"]"
   ]
  },
  {
   "cell_type": "code",
   "execution_count": null,
   "metadata": {},
   "outputs": [],
   "source": [
    "#import SW2main82 as SCM\n",
    "test=SCM.prediction(datax=scpdt, mcolor_dict=color_dictclpn,net=net,learninggroup=\"test\", radarplot=True, fontsizeValue=35,\n",
    "              datarefplot=scref,               ncolnm=1, bbValue=(1.1, 1.05))"
   ]
  },
  {
   "cell_type": "code",
   "execution_count": null,
   "metadata": {
    "scrolled": true
   },
   "outputs": [],
   "source": [
    "scpdt"
   ]
  },
  {
   "cell_type": "code",
   "execution_count": null,
   "metadata": {
    "scrolled": false
   },
   "outputs": [],
   "source": [
    "cd f:\\Dropbox\\data\\proj\\PE_HYZ\\PublicDataSet\\NBL_SZscRNA\\SWAPLINE2"
   ]
  },
  {
   "cell_type": "code",
   "execution_count": null,
   "metadata": {
    "scrolled": true
   },
   "outputs": [],
   "source": [
    "scpdt.write_h5ad(\"shanghaiNBL1_scRNAseq_fit_Integrated_Mouse_NeuralCrest.h5ad\")"
   ]
  },
  {
   "cell_type": "code",
   "execution_count": null,
   "metadata": {},
   "outputs": [],
   "source": []
  },
  {
   "cell_type": "code",
   "execution_count": null,
   "metadata": {},
   "outputs": [],
   "source": []
  },
  {
   "cell_type": "markdown",
   "metadata": {},
   "source": [
    "# SH_NBL2"
   ]
  },
  {
   "cell_type": "code",
   "execution_count": null,
   "metadata": {
    "scrolled": true
   },
   "outputs": [],
   "source": [
    "cd f:\\Dropbox\\data\\proj\\PE_HYZ\\PublicDataSet\\NBL_GSE137804\\GSE137804_RAW"
   ]
  },
  {
   "cell_type": "code",
   "execution_count": null,
   "metadata": {},
   "outputs": [],
   "source": [
    "import loompy"
   ]
  },
  {
   "cell_type": "code",
   "execution_count": null,
   "metadata": {},
   "outputs": [],
   "source": [
    "ds=loompy.connect(\"20210911_SH_NBL2.loom\" )"
   ]
  },
  {
   "cell_type": "code",
   "execution_count": null,
   "metadata": {},
   "outputs": [],
   "source": [
    "ds.shape"
   ]
  },
  {
   "cell_type": "code",
   "execution_count": null,
   "metadata": {},
   "outputs": [],
   "source": [
    "ds[:, :].shape"
   ]
  },
  {
   "cell_type": "code",
   "execution_count": null,
   "metadata": {},
   "outputs": [],
   "source": [
    "df=pd.DataFrame(ds[:, :].astype(float))"
   ]
  },
  {
   "cell_type": "code",
   "execution_count": null,
   "metadata": {},
   "outputs": [],
   "source": [
    "df.shape"
   ]
  },
  {
   "cell_type": "code",
   "execution_count": null,
   "metadata": {},
   "outputs": [],
   "source": [
    "df.index=ds.ra[ 'Gene']\n",
    "df.columns=ds.ca[\"CellID\"]"
   ]
  },
  {
   "cell_type": "code",
   "execution_count": null,
   "metadata": {},
   "outputs": [],
   "source": [
    "ds.close()"
   ]
  },
  {
   "cell_type": "code",
   "execution_count": null,
   "metadata": {},
   "outputs": [],
   "source": [
    "dfpdt=df"
   ]
  },
  {
   "cell_type": "code",
   "execution_count": null,
   "metadata": {},
   "outputs": [],
   "source": [
    "cluslist=[]\n",
    "for item in dfpdt.columns:\n",
    "    cluslist.append(item.split(\"_\")[0])\n",
    "set(cluslist)"
   ]
  },
  {
   "cell_type": "code",
   "execution_count": null,
   "metadata": {},
   "outputs": [],
   "source": []
  },
  {
   "cell_type": "code",
   "execution_count": null,
   "metadata": {},
   "outputs": [],
   "source": [
    "dfpdt.loc[\"Cluster\"]=cluslist"
   ]
  },
  {
   "cell_type": "code",
   "execution_count": null,
   "metadata": {},
   "outputs": [],
   "source": [
    "dfpdtclus = dfpdt.iloc[-1:,:]\n",
    "dfpdtclus.shape"
   ]
  },
  {
   "cell_type": "code",
   "execution_count": null,
   "metadata": {},
   "outputs": [],
   "source": [
    "df=dfpdt\n",
    "df.shape"
   ]
  },
  {
   "cell_type": "code",
   "execution_count": null,
   "metadata": {},
   "outputs": [],
   "source": [
    "#df=df.T\n",
    "df.tail()"
   ]
  },
  {
   "cell_type": "code",
   "execution_count": null,
   "metadata": {},
   "outputs": [],
   "source": [
    "dfclus=df.iloc[-1:,:]\n",
    "dfclus.index=[\"Cluster\"]\n",
    "dfclus.head()"
   ]
  },
  {
   "cell_type": "code",
   "execution_count": null,
   "metadata": {},
   "outputs": [],
   "source": [
    "#newclus=[]\n",
    "#for item in dfclus.loc[\"Cluster\"]:\n",
    " #   newclus.append(\"JK_%s\"%item)"
   ]
  },
  {
   "cell_type": "code",
   "execution_count": null,
   "metadata": {},
   "outputs": [],
   "source": [
    "#dfclus.loc[\"Cluster\"]=dfclus.loc[\"GintyCluster\"]"
   ]
  },
  {
   "cell_type": "code",
   "execution_count": null,
   "metadata": {},
   "outputs": [],
   "source": [
    "#dfclus=dfpdt.iloc[-1:,:]\n",
    "dfpdt=df.iloc[:-1,:]"
   ]
  },
  {
   "cell_type": "code",
   "execution_count": null,
   "metadata": {},
   "outputs": [],
   "source": [
    "scpdt = anndata.AnnData(dfpdt.T.astype(float))"
   ]
  },
  {
   "cell_type": "code",
   "execution_count": null,
   "metadata": {
    "scrolled": true
   },
   "outputs": [],
   "source": [
    "scpdt.var"
   ]
  },
  {
   "cell_type": "code",
   "execution_count": null,
   "metadata": {
    "scrolled": true
   },
   "outputs": [],
   "source": [
    "dfpdtclus"
   ]
  },
  {
   "cell_type": "code",
   "execution_count": null,
   "metadata": {},
   "outputs": [],
   "source": [
    "scpdt.obs[\"Cluster\"]=dfpdtclus.loc[\"Cluster\"].values"
   ]
  },
  {
   "cell_type": "code",
   "execution_count": null,
   "metadata": {},
   "outputs": [],
   "source": [
    "scpdt"
   ]
  },
  {
   "cell_type": "code",
   "execution_count": null,
   "metadata": {},
   "outputs": [],
   "source": [
    "import SCMprefiltering33 as SCMpref\n",
    "scpdt =SCMpref.MVgene_Scaling(datax=scpdt,TPTT=0,   commongene=scref.var.index.tolist(),  \n",
    "                                        sharedMVgenes=scref.uns[ 'train_set_gene'].tolist(),\n",
    "                                                                                            std_scaling=False,score=None, thrs=None,  mprotogruop=None,\n",
    "    tftable=\"f:/Dropbox/data/proj/PE_HYZ/PublicDataSet/FantomTF2CLUSTER_human_official.txt\", learninggroup=\"test\")\n",
    "\n"
   ]
  },
  {
   "cell_type": "code",
   "execution_count": null,
   "metadata": {
    "scrolled": false
   },
   "outputs": [],
   "source": [
    "cd f:\\Dropbox\\data\\proj\\PE_HYZ\\PublicDataSet\\NBL_SZscRNA\\SWAPLINE2"
   ]
  },
  {
   "cell_type": "code",
   "execution_count": null,
   "metadata": {},
   "outputs": [],
   "source": [
    "scpdt=anndata.read(\"shanghaiNBL2_scRNAseq_fit_Integrated_Mouse_NeuralCrest.h5ad\")"
   ]
  },
  {
   "cell_type": "code",
   "execution_count": null,
   "metadata": {},
   "outputs": [],
   "source": [
    "scpdt.uns[\"mwanted_order\"] =['T10', 'T19', 'T27', 'T34', 'T40', 'T44', 'T69', 'T71', 'T75', 'T92']\n",
    "\n",
    "color_dictclpn = pd.Series({'T10':   (190,  10,  10),'T162': (25, 60,  130),\n",
    "                            'T174':    (57, 105,   7),\n",
    "           'T188':    (170, 180, 170), 'T19':    ( 95, 186,  70),  'T200':    (180, 140, 130),\n",
    "           'T214':  (100, 100, 240), 'T230': ( 80, 235, 255),  'T27':(190, 235, 255),\n",
    "              'T34':(210, 255, 215),  'T40':(230, 140, 120),  'T44':  (255, 195,  28),\n",
    "              'T69':  (139, 101, 100),\n",
    "                          'T71':  (146,  178,  210),  'T75':   (214, 194,  39),\n",
    "             'T92':  (255, 120, 155),'JK_NP1': ( 80, 235, 255), 'JK_NP2':  (250, 125,  25),\n",
    "              'JK_NP3':    (190, 200, 190),'JK_PEP1':   (255,  35, 155),  'NBL1':     (199, 121,  41),\n",
    "              'NBL2': ( 40,  55, 130), 'NBL3':  (  7,  121, 61), 'NBL4':   ( 195, 186,  70),\n",
    "               'NBL5':   ( 250, 80, 80), 'NBL6':   (245, 205, 170),'Endo/Peri':   (185, 245, 30),\n",
    "              'eSCc':(205,205,220)})\n",
    "#color_dictclpn = color_dictclpn.map(lambda x: list(map(lambda y: y/255., x)))"
   ]
  },
  {
   "cell_type": "code",
   "execution_count": null,
   "metadata": {},
   "outputs": [],
   "source": [
    "    scref.uns['mwanted_order']"
   ]
  },
  {
   "cell_type": "code",
   "execution_count": null,
   "metadata": {},
   "outputs": [],
   "source": [
    "scref.uns[\"mclasses_names\"]"
   ]
  },
  {
   "cell_type": "code",
   "execution_count": null,
   "metadata": {},
   "outputs": [],
   "source": [
    "#import SW2main95 as SCM\n",
    "test=SCM.prediction(datax=scpdt, mcolor_dict=color_dictclpn,net=net,learninggroup=\"test\", radarplot=True, fontsizeValue=35,\n",
    "              datarefplot=scref,               ncolnm=1, bbValue=(1.1, 1.05))"
   ]
  },
  {
   "cell_type": "code",
   "execution_count": null,
   "metadata": {},
   "outputs": [],
   "source": [
    "scpdt"
   ]
  },
  {
   "cell_type": "code",
   "execution_count": null,
   "metadata": {
    "scrolled": true
   },
   "outputs": [],
   "source": [
    "cd f:\\Dropbox\\data\\proj\\PE_HYZ\\PublicDataSet\\NBL_SZscRNA\\SWAPLINE2"
   ]
  },
  {
   "cell_type": "code",
   "execution_count": null,
   "metadata": {
    "scrolled": false
   },
   "outputs": [],
   "source": [
    "scpdt.write_h5ad(\"shanghaiNBL2_scRNAseq_fit_Integrated_Mouse_NeuralCrest.h5ad\")"
   ]
  },
  {
   "cell_type": "code",
   "execution_count": null,
   "metadata": {},
   "outputs": [],
   "source": []
  },
  {
   "cell_type": "markdown",
   "metadata": {},
   "source": [
    "# Behjati_NBL"
   ]
  },
  {
   "cell_type": "code",
   "execution_count": null,
   "metadata": {
    "scrolled": true
   },
   "outputs": [],
   "source": [
    "cd f:\\Dropbox\\data\\proj\\PE_HYZ\\PublicDataSet\\NBL_SAM BEHJATI_scRNAseq"
   ]
  },
  {
   "cell_type": "code",
   "execution_count": null,
   "metadata": {
    "scrolled": true
   },
   "outputs": [],
   "source": [
    "dfgbm=pd.read_table(\"SAM BEHJATI_NBL_expression.tab\",index_col=0,header=0,sep=\"\\t\")\n",
    "dfgbm.shape"
   ]
  },
  {
   "cell_type": "code",
   "execution_count": null,
   "metadata": {
    "scrolled": true
   },
   "outputs": [],
   "source": [
    "dfpdt=dfgbm\n",
    "dfpdt.shape"
   ]
  },
  {
   "cell_type": "code",
   "execution_count": null,
   "metadata": {},
   "outputs": [],
   "source": [
    "dfpdt.tail()"
   ]
  },
  {
   "cell_type": "code",
   "execution_count": null,
   "metadata": {},
   "outputs": [],
   "source": [
    "dfclus=dfpdt.iloc[-2:,:].T\n",
    "dfclus"
   ]
  },
  {
   "cell_type": "code",
   "execution_count": null,
   "metadata": {},
   "outputs": [],
   "source": [
    "dfpdt.head()"
   ]
  },
  {
   "cell_type": "code",
   "execution_count": null,
   "metadata": {},
   "outputs": [],
   "source": [
    "dfpdt=dfpdt.iloc[:-2,:].T.join(dfclus[\"PatientID\"],how=\"inner\").T\n",
    "dfpdt.shape"
   ]
  },
  {
   "cell_type": "code",
   "execution_count": null,
   "metadata": {},
   "outputs": [],
   "source": [
    "dfpdt.tail()"
   ]
  },
  {
   "cell_type": "code",
   "execution_count": null,
   "metadata": {},
   "outputs": [],
   "source": [
    "df=dfpdt\n",
    "df.shape"
   ]
  },
  {
   "cell_type": "code",
   "execution_count": null,
   "metadata": {},
   "outputs": [],
   "source": [
    "dfclus=df.iloc[-1:,:]\n",
    "dfclus.index=[\"Cluster\"]\n",
    "dfclus.head()"
   ]
  },
  {
   "cell_type": "code",
   "execution_count": null,
   "metadata": {},
   "outputs": [],
   "source": [
    "set(dfclus.loc[\"Cluster\"])"
   ]
  },
  {
   "cell_type": "code",
   "execution_count": null,
   "metadata": {},
   "outputs": [],
   "source": [
    "dfpdt=df.iloc[:-1,:].astype(float)\n",
    "dfpdt.shape"
   ]
  },
  {
   "cell_type": "code",
   "execution_count": null,
   "metadata": {
    "scrolled": true
   },
   "outputs": [],
   "source": [
    "dfpdt.tail()"
   ]
  },
  {
   "cell_type": "code",
   "execution_count": null,
   "metadata": {},
   "outputs": [],
   "source": [
    "scpdt = anndata.AnnData(dfpdt.T.astype(float))"
   ]
  },
  {
   "cell_type": "code",
   "execution_count": null,
   "metadata": {
    "scrolled": true
   },
   "outputs": [],
   "source": [
    "scpdt.var"
   ]
  },
  {
   "cell_type": "code",
   "execution_count": null,
   "metadata": {
    "scrolled": true
   },
   "outputs": [],
   "source": [
    "dfpdtclus"
   ]
  },
  {
   "cell_type": "code",
   "execution_count": null,
   "metadata": {},
   "outputs": [],
   "source": [
    "scpdt.obs[\"Cluster\"]=dfclus.loc[\"Cluster\"].values"
   ]
  },
  {
   "cell_type": "code",
   "execution_count": null,
   "metadata": {},
   "outputs": [],
   "source": [
    "scpdt"
   ]
  },
  {
   "cell_type": "code",
   "execution_count": null,
   "metadata": {},
   "outputs": [],
   "source": [
    "#import SCMprefiltering33 as SCMpref\n",
    "scpdt =SCMpref.MVgene_Scaling(datax=scpdt,TPTT=500000,   commongene=scref.var.index.tolist(),  \n",
    "                                        sharedMVgenes=scref.uns[ 'train_set_gene'].tolist(),\n",
    "                                                                                            std_scaling=False,score=None, thrs=None,  mprotogruop=None,\n",
    "    tftable=\"f:/Dropbox/data/proj/PE_HYZ/PublicDataSet/FantomTF2CLUSTER_human_official.txt\", learninggroup=\"test\")\n",
    "\n"
   ]
  },
  {
   "cell_type": "code",
   "execution_count": null,
   "metadata": {},
   "outputs": [],
   "source": []
  },
  {
   "cell_type": "code",
   "execution_count": null,
   "metadata": {
    "scrolled": true
   },
   "outputs": [],
   "source": [
    "cd f:\\Dropbox\\data\\proj\\PE_HYZ\\PublicDataSet\\NBL_SZscRNA\\SWAPLINE2"
   ]
  },
  {
   "cell_type": "code",
   "execution_count": null,
   "metadata": {
    "scrolled": false
   },
   "outputs": [],
   "source": [
    "scpdt=anndata.read(\"Behjati_scRNAseq_fit_Integrated_Mouse_NeuralCrest.h5ad\")"
   ]
  },
  {
   "cell_type": "code",
   "execution_count": null,
   "metadata": {},
   "outputs": [],
   "source": [
    "scpdt.uns[\"mwanted_order\"] =['000CGH',\n",
    " 'NB060',\n",
    " 'NB086',\n",
    " 'NB098',\n",
    " 'NB124',\n",
    " 'NB125',\n",
    " 'NB130',\n",
    " 'NB132',\n",
    " 'NB152',\n",
    " 'PD42184',\n",
    " 'PD42752-1',\n",
    " 'PD42752-2',\n",
    " 'PD43255',\n",
    " 'PD46693']\n",
    "\n",
    "color_dictclpn = pd.Series({'NOR_5':   (190,  10,  10), 'NOR_7': (25, 60,  130),\n",
    "                           'NOR_8':    (255, 165,   7),\n",
    "           'NOR_9':    (170, 180, 170),  'Undifferentiated_2':    ( 95, 186,  70),  'T200':    (180, 140, 130),\n",
    "           'Undifferentiated_3':  (100, 100, 240), 'T230': ( 80, 235, 255),  'T27':(190, 235, 255),\n",
    "              'T34':(210, 255, 215),  'T40':(230, 140, 120),  'T44':  (255, 195,  28),\n",
    "              'T69':  (139, 101, 100),\n",
    "                          '000CGH':  (146,  178,  210),  'NB060':   (114, 194, 239),\n",
    "           'NB086':  (255, 120, 155), 'NB098': ( 80, 235, 255),  'NB124':  (250, 125,  25),\n",
    "            'NB125':    (90, 200, 190), 'NB130':   (55,  35, 155),  'NB132':     (19, 121,  41),\n",
    "              'NB152': ( 140,  55, 130),  'PD42184':  (  77,  121, 61),  'PD42752-1':   ( 195, 186,  70),'PD42752-2':   ( 195, 186,  70),\n",
    "               'PD43255':   ( 250, 180, 80),'PD46693':   (245, 205, 170),'Endo/Peri':   (185, 245, 30),\n",
    "              'eSCc':(205,205,220)})\n",
    "#color_dictclpn = color_dictclpn.map(lambda x: list(map(lambda y: y/255., x)))"
   ]
  },
  {
   "cell_type": "code",
   "execution_count": null,
   "metadata": {},
   "outputs": [],
   "source": [
    "    scref.uns['mwanted_order']"
   ]
  },
  {
   "cell_type": "code",
   "execution_count": null,
   "metadata": {},
   "outputs": [],
   "source": [
    "scref.uns[\"mclasses_names\"]"
   ]
  },
  {
   "cell_type": "code",
   "execution_count": null,
   "metadata": {},
   "outputs": [],
   "source": [
    "#import SW2main82 as SCM\n",
    "test=SCM.prediction(datax=scpdt, mcolor_dict=color_dictclpn,net=net,learninggroup=\"test\", radarplot=True, fontsizeValue=35,\n",
    "              datarefplot=scref,               ncolnm=1, bbValue=(1.1, 1.05))"
   ]
  },
  {
   "cell_type": "code",
   "execution_count": null,
   "metadata": {
    "scrolled": true
   },
   "outputs": [],
   "source": [
    "scpdt"
   ]
  },
  {
   "cell_type": "code",
   "execution_count": null,
   "metadata": {
    "scrolled": true
   },
   "outputs": [],
   "source": [
    "cd f:\\Dropbox\\data\\proj\\PE_HYZ\\PublicDataSet\\NBL_SZscRNA\\SWAPLINE2"
   ]
  },
  {
   "cell_type": "code",
   "execution_count": null,
   "metadata": {
    "scrolled": true
   },
   "outputs": [],
   "source": [
    "scpdt.write_h5ad(\"Behjati_scRNAseq_fit_Integrated_Mouse_NeuralCrest.h5ad\")"
   ]
  },
  {
   "cell_type": "code",
   "execution_count": null,
   "metadata": {},
   "outputs": [],
   "source": []
  },
  {
   "cell_type": "markdown",
   "metadata": {},
   "source": [
    "# Igor_Human_adrenal"
   ]
  },
  {
   "cell_type": "markdown",
   "metadata": {},
   "source": [
    "# Igor_Human_adrenal"
   ]
  },
  {
   "cell_type": "code",
   "execution_count": null,
   "metadata": {
    "scrolled": true
   },
   "outputs": [],
   "source": [
    "cd f:\\Dropbox\\data\\proj\\PE_HYZ\\PublicDataSet\\NBL_SZscRNA\\Igor_NG_paper"
   ]
  },
  {
   "cell_type": "code",
   "execution_count": null,
   "metadata": {},
   "outputs": [],
   "source": [
    "dfpdt = pd.read_table(\"IA_HUMANExpr.csv\", index_col =0 ,header=0, sep=\",\")\n",
    "dfpdt.shape"
   ]
  },
  {
   "cell_type": "code",
   "execution_count": null,
   "metadata": {
    "scrolled": false
   },
   "outputs": [],
   "source": [
    "dfpdt.tail()"
   ]
  },
  {
   "cell_type": "code",
   "execution_count": null,
   "metadata": {},
   "outputs": [],
   "source": [
    "dfclust= pd.read_table(\"IA_HUMANcelltype2.csv\", index_col =0 ,header=0, sep=\",\")\n",
    "dfclust.shape"
   ]
  },
  {
   "cell_type": "code",
   "execution_count": null,
   "metadata": {
    "scrolled": false
   },
   "outputs": [],
   "source": [
    "dfclust.head()"
   ]
  },
  {
   "cell_type": "code",
   "execution_count": null,
   "metadata": {},
   "outputs": [],
   "source": [
    "dfclust.columns=['orig.ident', 'nCount_RNA', 'nFeature_RNA', 'percent.mt',\n",
    "       'RNA_snn_res.0.5', 'seurat_clusters', 'RNA_snn_res.0.3',\n",
    "       'RNA_snn_res.1.5', 'Cluster', 'RNA_snn_res.0.2', 'RNA_snn_res.0.1',\n",
    "       'timepoint']"
   ]
  },
  {
   "cell_type": "code",
   "execution_count": null,
   "metadata": {},
   "outputs": [],
   "source": [
    "dfclust2=dfclust.loc[(dfclust[\"nFeature_RNA\"]>1000)&(dfclust[\"nCount_RNA\"]>2000)&(dfclust['percent.mt']<5)]\n",
    "dfclust2.shape"
   ]
  },
  {
   "cell_type": "code",
   "execution_count": null,
   "metadata": {
    "scrolled": true
   },
   "outputs": [],
   "source": [
    "dfclust2"
   ]
  },
  {
   "cell_type": "code",
   "execution_count": null,
   "metadata": {
    "scrolled": true
   },
   "outputs": [],
   "source": [
    "dfpdt.shape"
   ]
  },
  {
   "cell_type": "code",
   "execution_count": null,
   "metadata": {},
   "outputs": [],
   "source": [
    "dfclust[[\"Cluster\",\"timepoint\"]]"
   ]
  },
  {
   "cell_type": "code",
   "execution_count": null,
   "metadata": {
    "scrolled": true
   },
   "outputs": [],
   "source": [
    "dfpdt=dfpdt.T.join(dfclust2[[\"Cluster\",\"timepoint\"]],how=\"inner\").T\n",
    "dfpdt.shape"
   ]
  },
  {
   "cell_type": "code",
   "execution_count": null,
   "metadata": {},
   "outputs": [],
   "source": [
    "dfpdt=dfpdt.T.reindex(dfclust.index).dropna().T\n",
    "dfpdt.shape"
   ]
  },
  {
   "cell_type": "code",
   "execution_count": null,
   "metadata": {},
   "outputs": [],
   "source": [
    "dfpdtclus = dfpdt.iloc[-2:,:]\n",
    "dfpdtclus.shape"
   ]
  },
  {
   "cell_type": "code",
   "execution_count": null,
   "metadata": {},
   "outputs": [],
   "source": [
    "df=dfpdt\n",
    "df.shape"
   ]
  },
  {
   "cell_type": "code",
   "execution_count": null,
   "metadata": {},
   "outputs": [],
   "source": [
    "#df=df.T\n",
    "df.tail()"
   ]
  },
  {
   "cell_type": "code",
   "execution_count": null,
   "metadata": {},
   "outputs": [],
   "source": [
    "dfclus=df.iloc[-2:,:]"
   ]
  },
  {
   "cell_type": "code",
   "execution_count": null,
   "metadata": {},
   "outputs": [],
   "source": [
    "#dfclus=df.iloc[-1:,:].T.join(dfclust2[\"timepoint\"],how=\"inner\").T\n",
    "dfclus.index=[\"Cluster\",\"Time\"]\n",
    "dfclus.head()"
   ]
  },
  {
   "cell_type": "code",
   "execution_count": null,
   "metadata": {},
   "outputs": [],
   "source": [
    "#dfclus=dfpdt.iloc[-1:,:]\n",
    "dfpdtbk=df.iloc[:-2,:].astype(float)\n",
    "#dfpdtbk=dfpdtbk/dfpdtbk.sum()*1000000"
   ]
  },
  {
   "cell_type": "code",
   "execution_count": null,
   "metadata": {},
   "outputs": [],
   "source": []
  },
  {
   "cell_type": "code",
   "execution_count": null,
   "metadata": {},
   "outputs": [],
   "source": []
  },
  {
   "cell_type": "code",
   "execution_count": null,
   "metadata": {},
   "outputs": [],
   "source": [
    "scpdt = anndata.AnnData(dfpdtbk.T.astype(float))"
   ]
  },
  {
   "cell_type": "code",
   "execution_count": null,
   "metadata": {
    "scrolled": true
   },
   "outputs": [],
   "source": [
    "dfpdtclus"
   ]
  },
  {
   "cell_type": "code",
   "execution_count": null,
   "metadata": {},
   "outputs": [],
   "source": [
    "dfclus"
   ]
  },
  {
   "cell_type": "code",
   "execution_count": null,
   "metadata": {},
   "outputs": [],
   "source": [
    "scpdt.obs[\"Cluster\"]=dfclus.loc[\"Cluster\"].values"
   ]
  },
  {
   "cell_type": "code",
   "execution_count": null,
   "metadata": {
    "scrolled": true
   },
   "outputs": [],
   "source": [
    "scpdt"
   ]
  },
  {
   "cell_type": "code",
   "execution_count": null,
   "metadata": {},
   "outputs": [],
   "source": [
    "cd E:\\Yizhou_KI_OneCloud\\OneDrive - Karolinska Institutet\\Datasets_Template\\TrunkNeualCrest"
   ]
  },
  {
   "cell_type": "code",
   "execution_count": null,
   "metadata": {},
   "outputs": [],
   "source": [
    "scpdt.write(\"IgorAdrenalhuman.h5ad\")"
   ]
  },
  {
   "cell_type": "code",
   "execution_count": null,
   "metadata": {},
   "outputs": [],
   "source": []
  },
  {
   "cell_type": "code",
   "execution_count": null,
   "metadata": {},
   "outputs": [],
   "source": []
  },
  {
   "cell_type": "code",
   "execution_count": null,
   "metadata": {},
   "outputs": [],
   "source": [
    "import SCMprefiltering33 as SCMpref\n",
    "scpdt =SCMpref.MVgene_Scaling(datax=scpdt,TPTT=10000000,   commongene=scref.var.index.tolist(),  \n",
    "                                        sharedMVgenes=scref.uns[ 'train_set_gene'].tolist(),\n",
    "                                                                                            std_scaling=False,score=None, thrs=None,  mprotogruop=None,\n",
    "    tftable=\"f:/Dropbox/data/proj/PE_HYZ/PublicDataSet/FantomTF2CLUSTER_human_official.txt\", learninggroup=\"test\")\n",
    "\n"
   ]
  },
  {
   "cell_type": "code",
   "execution_count": null,
   "metadata": {},
   "outputs": [],
   "source": [
    "scpdt=anndata.read(\"Igor_humandata_scRNAseq_fit_Integrated_Mouse_NeuralCrest.h5ad\")"
   ]
  },
  {
   "cell_type": "code",
   "execution_count": null,
   "metadata": {},
   "outputs": [],
   "source": [
    "scpdt.uns[\"mwanted_order\"] =wanted_orderclpn =['SCP', 'chromaffin', 'cycling', 'sympathoblasts']\n",
    "\n",
    "color_dictclpn = pd.Series({'SCP':   (190,  10,  10), 'chromaffin': (25, 60,  130),\n",
    "                             'cycling':    (57, 105,   7),\n",
    "             'sympathoblasts':    (170, 180, 170), 'CGRP-Alpha':    ( 95, 186,  70), 'CGRP-Beta':    (180, 140, 130),\n",
    "           'CGRP-Epsilion':  (100, 100, 240), 'CGRP-Eta': ( 80, 235, 255), 'CGRP-Gamma':(190, 235, 255),\n",
    "             'CGRP-Theta':(210, 255, 215), 'CGRP-Zeta':(230, 140, 120), 'Nonpeptidergic nociceptors':  (255, 195,  28),\n",
    "              'Proprioceptors':  (139, 101, 100),\n",
    "                           'Sst':  (146,  178,  210),  'TrpM8':   (214, 194,  39),\n",
    "             'JK_NF4':  (255, 120, 155),'JK_NP1': ( 80, 235, 255), 'JK_NP2':  (250, 125,  25),\n",
    "              'JK_NP3':    (190, 200, 190),'JK_PEP1':   (255,  35, 155),  'NBL1':     (199, 121,  41),\n",
    "              'NBL2': ( 40,  55, 130), 'NBL3':  (  7,  121, 61), 'NBL4':   ( 195, 186,  70),\n",
    "               'NBL5':   ( 250, 80, 80), 'NBL6':   (245, 205, 170),'Endo/Peri':   (185, 245, 30),\n",
    "              'eSCc':(205,205,220)})\n",
    "#color_dictclpn = color_dictclpn.map(lambda x: list(map(lambda y: y/255., x)))"
   ]
  },
  {
   "cell_type": "code",
   "execution_count": null,
   "metadata": {},
   "outputs": [],
   "source": [
    "scref"
   ]
  },
  {
   "cell_type": "code",
   "execution_count": null,
   "metadata": {},
   "outputs": [],
   "source": [
    "scref.uns['Celltype_OrderNumber']"
   ]
  },
  {
   "cell_type": "code",
   "execution_count": null,
   "metadata": {
    "scrolled": true
   },
   "outputs": [],
   "source": [
    "    scref.uns['mwanted_order']"
   ]
  },
  {
   "cell_type": "code",
   "execution_count": null,
   "metadata": {},
   "outputs": [],
   "source": [
    "scref.uns[\"mclasses_names\"]"
   ]
  },
  {
   "cell_type": "code",
   "execution_count": null,
   "metadata": {},
   "outputs": [],
   "source": [
    "#import SW2main82 as SCM\n",
    "test=SCM.prediction(datax=scpdt, mcolor_dict=color_dictclpn,net=net,learninggroup=\"test\", radarplot=True, fontsizeValue=35,\n",
    "              datarefplot=scref,               ncolnm=1, bbValue=(1.1, 1.05))"
   ]
  },
  {
   "cell_type": "code",
   "execution_count": null,
   "metadata": {
    "scrolled": true
   },
   "outputs": [],
   "source": [
    "scpdt"
   ]
  },
  {
   "cell_type": "code",
   "execution_count": null,
   "metadata": {
    "scrolled": true
   },
   "outputs": [],
   "source": [
    "cd f:\\Dropbox\\data\\proj\\PE_HYZ\\PublicDataSet\\NBL_SZscRNA\\SWAPLINE2"
   ]
  },
  {
   "cell_type": "code",
   "execution_count": null,
   "metadata": {
    "scrolled": true
   },
   "outputs": [],
   "source": [
    "scpdt.write_h5ad(\"Igor_humandata_scRNAseq_fit_Integrated_Mouse_NeuralCrest.h5ad\")"
   ]
  },
  {
   "cell_type": "code",
   "execution_count": null,
   "metadata": {},
   "outputs": [],
   "source": []
  },
  {
   "cell_type": "code",
   "execution_count": null,
   "metadata": {},
   "outputs": [],
   "source": []
  },
  {
   "cell_type": "markdown",
   "metadata": {},
   "source": [
    "# Shanghai NeuralCrest"
   ]
  },
  {
   "cell_type": "code",
   "execution_count": null,
   "metadata": {},
   "outputs": [],
   "source": []
  },
  {
   "cell_type": "code",
   "execution_count": null,
   "metadata": {
    "scrolled": false
   },
   "outputs": [],
   "source": [
    "cd f:\\Dropbox\\data\\proj\\PE_HYZ\\PublicDataSet\\NBL_GSE137804\\GSE137804_Adrenal_gland_annotation.csv"
   ]
  },
  {
   "cell_type": "code",
   "execution_count": null,
   "metadata": {},
   "outputs": [],
   "source": [
    "dfclussh= pd.read_table(\"GSE137804_Adrenal_gland_annotation.csv\", index_col =0 ,header=0, sep=\",\")\n",
    "dfclussh.shape"
   ]
  },
  {
   "cell_type": "code",
   "execution_count": null,
   "metadata": {
    "scrolled": true
   },
   "outputs": [],
   "source": [
    "dfclussh.head()"
   ]
  },
  {
   "cell_type": "code",
   "execution_count": null,
   "metadata": {},
   "outputs": [],
   "source": [
    "cd f:\\Dropbox\\data\\proj\\PE_HYZ\\PublicDataSet\\NBL_GSE137804\\GSE137804_Adrenal_gland_annotation.csv\\all"
   ]
  },
  {
   "cell_type": "code",
   "execution_count": null,
   "metadata": {},
   "outputs": [],
   "source": [
    "dfsh=pd.read_table(\"Shanghai_humanNeuralCrestExpr.tab\",index_col=0,header=0,sep=\"\\t\")"
   ]
  },
  {
   "cell_type": "code",
   "execution_count": null,
   "metadata": {
    "scrolled": true
   },
   "outputs": [],
   "source": [
    "dfsh.tail()"
   ]
  },
  {
   "cell_type": "code",
   "execution_count": null,
   "metadata": {},
   "outputs": [],
   "source": [
    "dfclus=dfsh.iloc[-2:,:]\n",
    "dfclus.shape"
   ]
  },
  {
   "cell_type": "code",
   "execution_count": null,
   "metadata": {},
   "outputs": [],
   "source": []
  },
  {
   "cell_type": "code",
   "execution_count": null,
   "metadata": {},
   "outputs": [],
   "source": [
    "dfpdt=dfsh.iloc[:-2,:].astype(float)\n",
    "dfpdt.shape"
   ]
  },
  {
   "cell_type": "code",
   "execution_count": null,
   "metadata": {},
   "outputs": [],
   "source": [
    "dfpdt= dfpdt[~dfpdt.index.duplicated(keep='first')]\n",
    "dfpdt.shape"
   ]
  },
  {
   "cell_type": "code",
   "execution_count": null,
   "metadata": {},
   "outputs": [],
   "source": []
  },
  {
   "cell_type": "code",
   "execution_count": null,
   "metadata": {},
   "outputs": [],
   "source": [
    "scpdt = anndata.AnnData(dfpdt.T.astype(float))"
   ]
  },
  {
   "cell_type": "code",
   "execution_count": null,
   "metadata": {
    "scrolled": true
   },
   "outputs": [],
   "source": [
    "dfpdtclus"
   ]
  },
  {
   "cell_type": "code",
   "execution_count": null,
   "metadata": {},
   "outputs": [],
   "source": [
    "scpdt.obs[\"Cluster\"]=dfclus.loc[\"Cluster\"].values"
   ]
  },
  {
   "cell_type": "code",
   "execution_count": null,
   "metadata": {},
   "outputs": [],
   "source": [
    "scpdt"
   ]
  },
  {
   "cell_type": "code",
   "execution_count": null,
   "metadata": {},
   "outputs": [],
   "source": [
    "#import SCMprefiltering33 as SCMpref\n",
    "scpdt =SCMpref.MVgene_Scaling(datax=scpdt,TPTT=0,   commongene=scref.var.index.tolist(),  \n",
    "                                        sharedMVgenes=scref.uns[ 'train_set_gene'].tolist(),\n",
    "                                                                                            std_scaling=True,score=None, thrs=None,  mprotogruop=None,\n",
    "    tftable=\"f:/Dropbox/data/proj/PE_HYZ/PublicDataSet/FantomTF2CLUSTER_human_official.txt\", learninggroup=\"test\")\n",
    "\n"
   ]
  },
  {
   "cell_type": "code",
   "execution_count": null,
   "metadata": {},
   "outputs": [],
   "source": [
    "cd f:\\Dropbox\\data\\proj\\PE_HYZ\\PublicDataSet\\NBL_SZscRNA\\SWAPLINE2"
   ]
  },
  {
   "cell_type": "code",
   "execution_count": null,
   "metadata": {
    "scrolled": true
   },
   "outputs": [],
   "source": [
    "scpdt=anndata.read(\"Shanghai_humanAM_scRNAseq_fit_Integrated_Mouse_NeuralCrest.h5ad\")"
   ]
  },
  {
   "cell_type": "code",
   "execution_count": null,
   "metadata": {
    "scrolled": true
   },
   "outputs": [],
   "source": [
    "set(scpdt.obs[\"Cluster\"])"
   ]
  },
  {
   "cell_type": "code",
   "execution_count": null,
   "metadata": {},
   "outputs": [],
   "source": [
    "scpdt.uns[\"mwanted_order\"] =['Chromaffin cells', 'Neural crest', 'SCPs', 'Sympathoblasts']\n",
    "\n",
    "color_dictclpn = pd.Series({'SCPs':   (190,  10,  10),'Chromaffin cells': (25, 60,  130),\n",
    "                             'cycling':    (57, 105,   7),\n",
    "           'Neural crest':(205,205,220),\n",
    "            'Sympathoblasts':    (170, 180, 170), 'CGRP-Alpha':    ( 95, 186,  70), 'CGRP-Beta':    (180, 140, 130),\n",
    "           'CGRP-Epsilion':  (100, 100, 240), 'CGRP-Eta': ( 80, 235, 255), 'CGRP-Gamma':(190, 235, 255),\n",
    "             'CGRP-Theta':(210, 255, 215), 'CGRP-Zeta':(230, 140, 120), 'Nonpeptidergic nociceptors':  (255, 195,  28),\n",
    "              'Proprioceptors':  (139, 101, 100),\n",
    "                          \"w6\":  (146,  178,  210), \"w8\":   (214, 194,  39),\n",
    "           \"w9\":  (255, 120, 155),\"w11\": ( 80, 235, 255),\"w12\":  (250, 125,  25),\n",
    "             \"w14\":    (190, 200, 190),'JK_PEP1':   (255,  35, 155),  'NBL1':     (199, 121,  41),\n",
    "              'NBL2': ( 40,  55, 130), 'NBL3':  (  7,  121, 61), 'NBL4':   ( 195, 186,  70),\n",
    "               'NBL5':   ( 250, 80, 80), 'NBL6':   (245, 205, 170),'Endo/Peri':   (185, 245, 30)})\n",
    "#color_dictclpn = color_dictclpn.map(lambda x: list(map(lambda y: y/255., x)))"
   ]
  },
  {
   "cell_type": "code",
   "execution_count": null,
   "metadata": {},
   "outputs": [],
   "source": [
    "    scref.uns['mwanted_order']"
   ]
  },
  {
   "cell_type": "code",
   "execution_count": null,
   "metadata": {},
   "outputs": [],
   "source": [
    "scref.uns[\"mclasses_names\"]"
   ]
  },
  {
   "cell_type": "code",
   "execution_count": null,
   "metadata": {
    "scrolled": false
   },
   "outputs": [],
   "source": [
    "#import SW2main82 as SCM\n",
    "test=SCM.prediction(datax=scpdt, mcolor_dict=color_dictclpn,net=net,learninggroup=\"test\", radarplot=True, fontsizeValue=35,\n",
    "              datarefplot=scref,               ncolnm=1, bbValue=(1.1, 1.05))"
   ]
  },
  {
   "cell_type": "code",
   "execution_count": null,
   "metadata": {
    "scrolled": true
   },
   "outputs": [],
   "source": [
    "scpdt"
   ]
  },
  {
   "cell_type": "code",
   "execution_count": null,
   "metadata": {
    "scrolled": true
   },
   "outputs": [],
   "source": [
    "cd f:\\Dropbox\\data\\proj\\PE_HYZ\\PublicDataSet\\NBL_SZscRNA\\SWAPLINE2"
   ]
  },
  {
   "cell_type": "code",
   "execution_count": null,
   "metadata": {
    "scrolled": false
   },
   "outputs": [],
   "source": [
    "scpdt.write_h5ad(\"Shanghai_humanAM_scRNAseq_fit_Integrated_Mouse_NeuralCrest.h5ad\")"
   ]
  },
  {
   "cell_type": "code",
   "execution_count": null,
   "metadata": {},
   "outputs": [],
   "source": []
  },
  {
   "cell_type": "markdown",
   "metadata": {},
   "source": [
    "# OS_NBL"
   ]
  },
  {
   "cell_type": "code",
   "execution_count": null,
   "metadata": {},
   "outputs": [],
   "source": [
    "cd f:\\Dropbox\\data\\proj\\PE_HYZ\\PublicDataSet\\NBL_Susanne_Oscar_scRNAseq\\NB.noMitchnd.KEql10.cnts.csv"
   ]
  },
  {
   "cell_type": "code",
   "execution_count": null,
   "metadata": {},
   "outputs": [],
   "source": [
    "dfpdt=pd.read_table(\"NB.noMitchnd.KEql10.cnts.csv\",index_col=0,header=0,sep=\",\")"
   ]
  },
  {
   "cell_type": "code",
   "execution_count": null,
   "metadata": {},
   "outputs": [],
   "source": [
    "dfpdt.shape"
   ]
  },
  {
   "cell_type": "code",
   "execution_count": null,
   "metadata": {},
   "outputs": [],
   "source": [
    "cd f:\\Dropbox\\data\\proj\\PE_HYZ\\PublicDataSet\\NBL_Susanne_Oscar_scRNAseq"
   ]
  },
  {
   "cell_type": "code",
   "execution_count": null,
   "metadata": {},
   "outputs": [],
   "source": [
    "dfclus=pd.read_table(\"NB.noMitchnd.KEql10.clstrsLbld.tsv\",index_col=0,header=0,sep=\"\\t\")\n",
    "dfclus.shape"
   ]
  },
  {
   "cell_type": "code",
   "execution_count": null,
   "metadata": {},
   "outputs": [],
   "source": [
    "dfclus"
   ]
  },
  {
   "cell_type": "code",
   "execution_count": null,
   "metadata": {},
   "outputs": [],
   "source": [
    "dfpdt.head()"
   ]
  },
  {
   "cell_type": "code",
   "execution_count": null,
   "metadata": {},
   "outputs": [],
   "source": [
    "dfpdt=dfpdt.T.join(dfclus,how=\"inner\").T\n",
    "dfpdt.shape"
   ]
  },
  {
   "cell_type": "code",
   "execution_count": null,
   "metadata": {},
   "outputs": [],
   "source": [
    "dfpdt.tail()"
   ]
  },
  {
   "cell_type": "code",
   "execution_count": null,
   "metadata": {},
   "outputs": [],
   "source": [
    "set(dfpdt.loc[\"cluster\"])"
   ]
  },
  {
   "cell_type": "code",
   "execution_count": null,
   "metadata": {},
   "outputs": [],
   "source": [
    "dfpdt=dfpdt.T.loc[dfpdt.loc[\"cluster\"].isin([ 'NOR_5',\n",
    " 'NOR_7',\n",
    " 'NOR_8',\n",
    " 'NOR_9',\n",
    " 'Undifferentiated_2',\n",
    " 'Undifferentiated_3'])].T"
   ]
  },
  {
   "cell_type": "code",
   "execution_count": null,
   "metadata": {},
   "outputs": [],
   "source": [
    "dfpdtclus = dfpdt.iloc[-1:,:]\n",
    "dfpdtclus.shape"
   ]
  },
  {
   "cell_type": "code",
   "execution_count": null,
   "metadata": {},
   "outputs": [],
   "source": [
    "df=dfpdt\n",
    "df.shape"
   ]
  },
  {
   "cell_type": "code",
   "execution_count": null,
   "metadata": {},
   "outputs": [],
   "source": [
    "#df=df.T\n",
    "df.tail()"
   ]
  },
  {
   "cell_type": "code",
   "execution_count": null,
   "metadata": {
    "scrolled": true
   },
   "outputs": [],
   "source": [
    "dfclus=df.iloc[-1:,:]\n",
    "dfclus.index=[\"Cluster\"]\n",
    "dfclus.head()"
   ]
  },
  {
   "cell_type": "code",
   "execution_count": null,
   "metadata": {
    "scrolled": true
   },
   "outputs": [],
   "source": [
    "dfpdt=df.iloc[:-1,:].astype(float)\n",
    "dfpdt.tail()"
   ]
  },
  {
   "cell_type": "code",
   "execution_count": null,
   "metadata": {},
   "outputs": [],
   "source": []
  },
  {
   "cell_type": "code",
   "execution_count": null,
   "metadata": {},
   "outputs": [],
   "source": [
    "scpdt = anndata.AnnData(dfpdt.T.astype(float))"
   ]
  },
  {
   "cell_type": "code",
   "execution_count": null,
   "metadata": {
    "scrolled": true
   },
   "outputs": [],
   "source": [
    "dfpdtclus"
   ]
  },
  {
   "cell_type": "code",
   "execution_count": null,
   "metadata": {},
   "outputs": [],
   "source": [
    "scpdt.obs[\"Cluster\"]=dfclus.loc[\"Cluster\"].values"
   ]
  },
  {
   "cell_type": "code",
   "execution_count": null,
   "metadata": {},
   "outputs": [],
   "source": [
    "scpdt"
   ]
  },
  {
   "cell_type": "code",
   "execution_count": null,
   "metadata": {},
   "outputs": [],
   "source": []
  },
  {
   "cell_type": "code",
   "execution_count": null,
   "metadata": {
    "scrolled": false
   },
   "outputs": [],
   "source": [
    "scpdt=anndata.read(\"OscarNBL_humanAM_scRNAseq_fit_Integrated_Mouse_NeuralCrest.h5ad\")"
   ]
  },
  {
   "cell_type": "code",
   "execution_count": null,
   "metadata": {
    "scrolled": true
   },
   "outputs": [],
   "source": [
    "#import SCMprefiltering33 as SCMpref\n",
    "scpdt =SCMpref.MVgene_Scaling(datax=scpdt,TPTT=1000000,   commongene=scref.var.index.tolist(),  \n",
    "                                        sharedMVgenes=scref.uns[ 'train_set_gene'].tolist(),\n",
    "                                                                                            std_scaling=False,score=None, thrs=None,  mprotogruop=None,\n",
    "    tftable=\"f:/Dropbox/data/proj/PE_HYZ/PublicDataSet/FantomTF2CLUSTER_human_official.txt\", learninggroup=\"test\")\n",
    "\n"
   ]
  },
  {
   "cell_type": "code",
   "execution_count": null,
   "metadata": {},
   "outputs": [],
   "source": [
    "set(scpdt.obs[\"Cluster\"])"
   ]
  },
  {
   "cell_type": "code",
   "execution_count": null,
   "metadata": {},
   "outputs": [],
   "source": []
  },
  {
   "cell_type": "code",
   "execution_count": null,
   "metadata": {
    "scrolled": true
   },
   "outputs": [],
   "source": [
    "cd f:\\Dropbox\\data\\proj\\PE_HYZ\\PublicDataSet\\NBL_SZscRNA\\SWAPLINE2"
   ]
  },
  {
   "cell_type": "code",
   "execution_count": null,
   "metadata": {},
   "outputs": [],
   "source": []
  },
  {
   "cell_type": "code",
   "execution_count": null,
   "metadata": {},
   "outputs": [],
   "source": [
    "scpdt.uns[\"mwanted_order\"] =['NOR_5',\n",
    " 'NOR_7',\n",
    " 'NOR_8',\n",
    " 'NOR_9',\n",
    " 'Undifferentiated_2',\n",
    " 'Undifferentiated_3']\n",
    "\n",
    "color_dictclpn = pd.Series({'NOR_5':   (190,  10,  10), 'NOR_7': (25, 60,  130),\n",
    "                           'NOR_8':    (255, 165,   7),\n",
    "           'NOR_9':    (170, 180, 170),  'Undifferentiated_2':    ( 95, 186,  70),  'T200':    (180, 140, 130),\n",
    "           'Undifferentiated_3':  (100, 100, 240), 'T230': ( 80, 235, 255),  'T27':(190, 235, 255),\n",
    "              'T34':(210, 255, 215),  'T40':(230, 140, 120),  'T44':  (255, 195,  28),\n",
    "              'T69':  (139, 101, 100),\n",
    "                          'T71':  (146,  178,  210),  'T75':   (214, 194,  39),\n",
    "             'T92':  (255, 120, 155),'JK_NP1': ( 80, 235, 255), 'JK_NP2':  (250, 125,  25),\n",
    "              'JK_NP3':    (190, 200, 190),'JK_PEP1':   (255,  35, 155),  'NBL1':     (199, 121,  41),\n",
    "              'NBL2': ( 40,  55, 130), 'NBL3':  (  7,  121, 61), 'NBL4':   ( 195, 186,  70),\n",
    "               'NBL5':   ( 250, 80, 80), 'NBL6':   (245, 205, 170),'Endo/Peri':   (185, 245, 30),\n",
    "              'eSCc':(205,205,220)})\n",
    "#color_dictclpn = color_dictclpn.map(lambda x: list(map(lambda y: y/255., x)))"
   ]
  },
  {
   "cell_type": "code",
   "execution_count": null,
   "metadata": {
    "scrolled": false
   },
   "outputs": [],
   "source": [
    "#import SW2main95 as SCM\n",
    "test=SCM.prediction(datax=scpdt, mcolor_dict=color_dictclpn,net=net,learninggroup=\"test\", radarplot=True, fontsizeValue=35,\n",
    "              datarefplot=scref,               ncolnm=1, bbValue=(1.1, 1.05))"
   ]
  },
  {
   "cell_type": "code",
   "execution_count": null,
   "metadata": {
    "scrolled": true
   },
   "outputs": [],
   "source": [
    "scpdt"
   ]
  },
  {
   "cell_type": "code",
   "execution_count": null,
   "metadata": {},
   "outputs": [],
   "source": [
    "scpdt.uns[ 'Celltype_Score_RefCellType']"
   ]
  },
  {
   "cell_type": "code",
   "execution_count": null,
   "metadata": {
    "scrolled": true
   },
   "outputs": [],
   "source": [
    "cd f:\\Dropbox\\data\\proj\\PE_HYZ\\PublicDataSet\\NBL_SZscRNA\\SWAPLINE2"
   ]
  },
  {
   "cell_type": "code",
   "execution_count": null,
   "metadata": {
    "scrolled": true
   },
   "outputs": [],
   "source": []
  },
  {
   "cell_type": "code",
   "execution_count": null,
   "metadata": {},
   "outputs": [],
   "source": []
  },
  {
   "cell_type": "code",
   "execution_count": null,
   "metadata": {},
   "outputs": [],
   "source": []
  },
  {
   "cell_type": "markdown",
   "metadata": {},
   "source": [
    "# 10X_Sz_NBL"
   ]
  },
  {
   "cell_type": "code",
   "execution_count": null,
   "metadata": {
    "scrolled": false
   },
   "outputs": [],
   "source": [
    "cd f:\\Dropbox\\data\\proj\\PE_HYZ\\PublicDataSet\\NBL_SZscRNA\\snRNA"
   ]
  },
  {
   "cell_type": "code",
   "execution_count": null,
   "metadata": {
    "scrolled": true
   },
   "outputs": [],
   "source": [
    "dfpdt = pd.read_table(\"20210406_final_3666tumorCell_ExpressionMatrix.tab\", index_col =0 ,header=0, sep=\"\\t\")\n",
    "dfpdt.shape"
   ]
  },
  {
   "cell_type": "code",
   "execution_count": null,
   "metadata": {
    "scrolled": true
   },
   "outputs": [],
   "source": [
    "dfpdt.tail()"
   ]
  },
  {
   "cell_type": "code",
   "execution_count": null,
   "metadata": {},
   "outputs": [],
   "source": [
    "patientlist=[]\n",
    "for item in dfpdt.columns:\n",
    "    temp=item.split(\"_\")[0]\n",
    "    if temp=='NBLsnRNA1-2':\n",
    "        patientlist.append(\"NBL739snRNA\")\n",
    "    elif  temp== 'NBLsnRNA689710':\n",
    "        patientlist.append(\"NBL710snRNA\")\n",
    "    elif  temp== 'NBLsnRNA697712':\n",
    "        patientlist.append(\"NBL712snRNA\")\n",
    "    "
   ]
  },
  {
   "cell_type": "code",
   "execution_count": null,
   "metadata": {},
   "outputs": [],
   "source": [
    "set(patientlist)"
   ]
  },
  {
   "cell_type": "code",
   "execution_count": null,
   "metadata": {},
   "outputs": [],
   "source": [
    "dfpdt.loc[\"Cluster\"]=patientlist"
   ]
  },
  {
   "cell_type": "code",
   "execution_count": null,
   "metadata": {},
   "outputs": [],
   "source": [
    "dfpdtclus = dfpdt.iloc[-1:,:]\n",
    "dfpdtclus.shape"
   ]
  },
  {
   "cell_type": "code",
   "execution_count": null,
   "metadata": {},
   "outputs": [],
   "source": [
    "dfpdt.tail()"
   ]
  },
  {
   "cell_type": "code",
   "execution_count": null,
   "metadata": {},
   "outputs": [],
   "source": [
    "dfpdt=dfpdt.iloc[:-4,:].astype(float)\n",
    "dfpdt.shape"
   ]
  },
  {
   "cell_type": "code",
   "execution_count": null,
   "metadata": {},
   "outputs": [],
   "source": [
    "#df=df.T\n",
    "df.tail()"
   ]
  },
  {
   "cell_type": "code",
   "execution_count": null,
   "metadata": {},
   "outputs": [],
   "source": [
    "dfclus=dfpdtclus \n",
    "dfclus.index=[\"Cluster\"]\n",
    "dfclus.head()"
   ]
  },
  {
   "cell_type": "code",
   "execution_count": null,
   "metadata": {},
   "outputs": [],
   "source": []
  },
  {
   "cell_type": "code",
   "execution_count": null,
   "metadata": {},
   "outputs": [],
   "source": [
    "scpdt = anndata.AnnData(dfpdt.T.astype(float))"
   ]
  },
  {
   "cell_type": "code",
   "execution_count": null,
   "metadata": {
    "scrolled": true
   },
   "outputs": [],
   "source": [
    "dfpdtclus"
   ]
  },
  {
   "cell_type": "code",
   "execution_count": null,
   "metadata": {},
   "outputs": [],
   "source": [
    "scpdt.obs[\"Cluster\"]=dfclus.loc[\"Cluster\"].values"
   ]
  },
  {
   "cell_type": "code",
   "execution_count": null,
   "metadata": {},
   "outputs": [],
   "source": [
    "scpdt"
   ]
  },
  {
   "cell_type": "code",
   "execution_count": null,
   "metadata": {},
   "outputs": [],
   "source": [
    "import SCMprefiltering33 as SCMpref\n",
    "scpdt =SCMpref.MVgene_Scaling(datax=scpdt,TPTT=500000,   commongene=scref.var.index.tolist(),  \n",
    "                                        sharedMVgenes=scref.uns[ 'train_set_gene'].tolist(),\n",
    "                                                                                            std_scaling=False,score=None, thrs=None,  mprotogruop=None,\n",
    "    tftable=\"f:/Dropbox/data/proj/PE_HYZ/PublicDataSet/FantomTF2CLUSTER_human_official.txt\", learninggroup=\"test\")\n",
    "\n"
   ]
  },
  {
   "cell_type": "code",
   "execution_count": null,
   "metadata": {},
   "outputs": [],
   "source": [
    "set(scpdt.obs[\"Cluster\"])"
   ]
  },
  {
   "cell_type": "code",
   "execution_count": null,
   "metadata": {},
   "outputs": [],
   "source": []
  },
  {
   "cell_type": "code",
   "execution_count": null,
   "metadata": {
    "scrolled": true
   },
   "outputs": [],
   "source": [
    "cd f:\\Dropbox\\data\\proj\\PE_HYZ\\PublicDataSet\\NBL_SZscRNA\\SWAPLINE2"
   ]
  },
  {
   "cell_type": "code",
   "execution_count": null,
   "metadata": {
    "scrolled": false
   },
   "outputs": [],
   "source": [
    "scpdt=anndata.read(\"SZsnNBL_humanAM_scRNAseq_fit_Integrated_Mouse_NeuralCrest.h5ad\")"
   ]
  },
  {
   "cell_type": "code",
   "execution_count": null,
   "metadata": {},
   "outputs": [],
   "source": [
    "scpdt.uns[\"mwanted_order\"] =['NBL739snRNA', 'NBL710snRNA', 'NBL712snRNA']\n",
    "\n",
    "color_dictclpn = pd.Series({'Abeta-Field':   (190,  10,  10),'Abeta-RA-LTMR': (25, 60,  130),\n",
    "                             'Adelta-LTMR':    (57, 105,   7),\n",
    "            'C-LTMR':    (170, 180, 170),\n",
    "                            'NBL739snRNA':    ( 95, 186,  70), 'CGRP-Beta':    (180, 140, 130),\n",
    "           'NBL710snRNA':  (100, 100, 240), 'CGRP-Eta': ( 80, 235, 255), 'CGRP-Gamma':(190, 235, 255),\n",
    "             'CGRP-Theta':(210, 255, 215), 'CGRP-Zeta':(230, 140, 120), 'Nonpeptidergic nociceptors':  (255, 195,  28),\n",
    "             'NBL712snRNA':  (139, 101, 100),\n",
    "                           'Sst':  (146,  178,  210),  'TrpM8':   (214, 194,  39),\n",
    "             'JK_NF4':  (255, 120, 155),'JK_NP1': ( 80, 235, 255), 'JK_NP2':  (250, 125,  25),\n",
    "              'JK_NP3':    (190, 200, 190),'JK_PEP1':   (255,  35, 155),  'NBL1':     (199, 121,  41),\n",
    "              'NBL2': ( 40,  55, 130), 'NBL3':  (  7,  121, 61), 'NBL4':   ( 195, 186,  70),\n",
    "               'NBL5':   ( 250, 80, 80), 'NBL6':   (245, 205, 170),'Endo/Peri':   (185, 245, 30),\n",
    "              'eSCc':(205,205,220)})\n",
    "#color_dictclpn = color_dictclpn.map(lambda x: list(map(lambda y: y/255., x)))"
   ]
  },
  {
   "cell_type": "code",
   "execution_count": null,
   "metadata": {},
   "outputs": [],
   "source": [
    "    scref.uns['mwanted_order']"
   ]
  },
  {
   "cell_type": "code",
   "execution_count": null,
   "metadata": {},
   "outputs": [],
   "source": [
    "scref.uns[\"mclasses_names\"]"
   ]
  },
  {
   "cell_type": "code",
   "execution_count": null,
   "metadata": {},
   "outputs": [],
   "source": [
    "#import SW2main82 as SCM\n",
    "test=SCM.prediction(datax=scpdt, mcolor_dict=color_dictclpn,net=net,learninggroup=\"test\", radarplot=True, fontsizeValue=35,\n",
    "              datarefplot=scref,               ncolnm=1, bbValue=(1.1, 1.05))"
   ]
  },
  {
   "cell_type": "code",
   "execution_count": null,
   "metadata": {
    "scrolled": false
   },
   "outputs": [],
   "source": [
    "scpdt"
   ]
  },
  {
   "cell_type": "code",
   "execution_count": null,
   "metadata": {
    "scrolled": true
   },
   "outputs": [],
   "source": [
    "cd f:\\Dropbox\\data\\proj\\PE_HYZ\\PublicDataSet\\NBL_SZscRNA\\SWAPLINE2"
   ]
  },
  {
   "cell_type": "code",
   "execution_count": null,
   "metadata": {
    "scrolled": false
   },
   "outputs": [],
   "source": [
    "scpdt.write_h5ad(\"SZsnNBL_humanAM_scRNAseq_fit_Integrated_Mouse_NeuralCrest.h5ad\")"
   ]
  },
  {
   "cell_type": "code",
   "execution_count": null,
   "metadata": {},
   "outputs": [],
   "source": []
  },
  {
   "cell_type": "markdown",
   "metadata": {},
   "source": [
    "# 10X_BE2_NBL"
   ]
  },
  {
   "cell_type": "code",
   "execution_count": null,
   "metadata": {
    "scrolled": true
   },
   "outputs": [],
   "source": [
    "cd f:\\Dropbox\\data\\proj\\PE_HYZ\\PublicDataSet\\NBL_SZscRNA\\Mouse_Xenograft"
   ]
  },
  {
   "cell_type": "code",
   "execution_count": null,
   "metadata": {},
   "outputs": [],
   "source": [
    "dfpdt = pd.read_table(\"Xenograft_E2F7_Only_TumorCells.tab\", index_col =0 ,header=0, sep=\"\\t\")\n",
    "dfpdt.shape"
   ]
  },
  {
   "cell_type": "code",
   "execution_count": null,
   "metadata": {
    "scrolled": true
   },
   "outputs": [],
   "source": [
    "dfpdt.tail()"
   ]
  },
  {
   "cell_type": "code",
   "execution_count": null,
   "metadata": {},
   "outputs": [],
   "source": [
    "dfpdtclus = dfpdt.iloc[-1:,:]\n",
    "dfpdtclus.shape"
   ]
  },
  {
   "cell_type": "code",
   "execution_count": null,
   "metadata": {},
   "outputs": [],
   "source": [
    "dfpdt.iloc[-3:,:].T.groupby(\"PatientID\").count()"
   ]
  },
  {
   "cell_type": "code",
   "execution_count": null,
   "metadata": {},
   "outputs": [],
   "source": [
    "dfpdt=dfpdt.iloc[:-1,:].astype(float)\n",
    "dfpdt.shape"
   ]
  },
  {
   "cell_type": "code",
   "execution_count": null,
   "metadata": {
    "scrolled": true
   },
   "outputs": [],
   "source": [
    "dfclus=dfpdtclus\n",
    "dfclus.index=[\"Cluster\"]\n",
    "dfclus.head()"
   ]
  },
  {
   "cell_type": "code",
   "execution_count": null,
   "metadata": {},
   "outputs": [],
   "source": []
  },
  {
   "cell_type": "code",
   "execution_count": null,
   "metadata": {},
   "outputs": [],
   "source": [
    "scpdt = anndata.AnnData(dfpdt.T.astype(float))"
   ]
  },
  {
   "cell_type": "code",
   "execution_count": null,
   "metadata": {
    "scrolled": true
   },
   "outputs": [],
   "source": [
    "dfpdtclus"
   ]
  },
  {
   "cell_type": "code",
   "execution_count": null,
   "metadata": {},
   "outputs": [],
   "source": [
    "scpdt.obs[\"Cluster\"]=dfclus.loc[\"Cluster\"].values"
   ]
  },
  {
   "cell_type": "code",
   "execution_count": null,
   "metadata": {},
   "outputs": [],
   "source": [
    "scpdt"
   ]
  },
  {
   "cell_type": "code",
   "execution_count": null,
   "metadata": {},
   "outputs": [],
   "source": [
    "import SCMprefiltering33 as SCMpref\n",
    "scpdt =SCMpref.MVgene_Scaling(datax=scpdt,TPTT=1000000,   commongene=scref.var.index.tolist(),  \n",
    "                                        sharedMVgenes=scref.uns[ 'train_set_gene'].tolist(),\n",
    "                                                                                            std_scaling=False,score=None, thrs=None,  mprotogruop=None,\n",
    "    tftable=\"f:/Dropbox/data/proj/PE_HYZ/PublicDataSet/FantomTF2CLUSTER_human_official.txt\", learninggroup=\"test\")\n",
    "\n"
   ]
  },
  {
   "cell_type": "code",
   "execution_count": null,
   "metadata": {},
   "outputs": [],
   "source": [
    "set(scpdt.obs[\"Cluster\"])"
   ]
  },
  {
   "cell_type": "code",
   "execution_count": null,
   "metadata": {},
   "outputs": [],
   "source": []
  },
  {
   "cell_type": "code",
   "execution_count": null,
   "metadata": {
    "scrolled": true
   },
   "outputs": [],
   "source": [
    "cd f:\\Dropbox\\data\\proj\\PE_HYZ\\PublicDataSet\\NBL_SZscRNA\\SWAPLINE2"
   ]
  },
  {
   "cell_type": "code",
   "execution_count": null,
   "metadata": {
    "scrolled": false
   },
   "outputs": [],
   "source": [
    "scpdt=anndata.read(\"E2F7snNBL_humanAM_scRNAseq_fit_Integrated_Mouse_NeuralCrest.h5ad\")"
   ]
  },
  {
   "cell_type": "code",
   "execution_count": null,
   "metadata": {},
   "outputs": [],
   "source": [
    "scpdt.uns[\"mwanted_order\"]= ['Ctrl_NBL', 'OE_NBL']\n",
    "\n",
    "color_dictclpn = pd.Series({'Ctrl_NBL':   (190,  10,  10), 'OE_NBL': (25, 60,  130),\n",
    "                             'Adelta-LTMR':    (57, 105,   7),\n",
    "            'C-LTMR':    (170, 180, 170),\n",
    "                            'NBL7snRNA':    ( 95, 186,  70), 'CGRP-Beta':    (180, 140, 130),\n",
    "           'NBL8snRNA':  (100, 100, 240), 'CGRP-Eta': ( 80, 235, 255), 'CGRP-Gamma':(190, 235, 255),\n",
    "             'CGRP-Theta':(210, 255, 215), 'CGRP-Zeta':(230, 140, 120), 'Nonpeptidergic nociceptors':  (255, 195,  28),\n",
    "             'NBL9snRNA':  (139, 101, 100),\n",
    "                           'Sst':  (146,  178,  210),  'TrpM8':   (214, 194,  39),\n",
    "             'JK_NF4':  (255, 120, 155),'JK_NP1': ( 80, 235, 255), 'JK_NP2':  (250, 125,  25),\n",
    "              'JK_NP3':    (190, 200, 190),'JK_PEP1':   (255,  35, 155),  'NBL1':     (199, 121,  41),\n",
    "              'NBL2': ( 40,  55, 130), 'NBL3':  (  7,  121, 61), 'NBL4':   ( 195, 186,  70),\n",
    "               'NBL5':   ( 250, 80, 80), 'NBL6':   (245, 205, 170),'Endo/Peri':   (185, 245, 30),\n",
    "              'eSCc':(205,205,220)})\n",
    "#color_dictclpn = color_dictclpn.map(lambda x: list(map(lambda y: y/255., x)))"
   ]
  },
  {
   "cell_type": "code",
   "execution_count": null,
   "metadata": {},
   "outputs": [],
   "source": [
    "#import SW2main82 as SCM\n",
    "test=SCM.prediction(datax=scpdt, mcolor_dict=color_dictclpn,net=net,learninggroup=\"test\", radarplot=True, fontsizeValue=35,\n",
    "              datarefplot=scref,               ncolnm=1, bbValue=(1.1, 1.05))"
   ]
  },
  {
   "cell_type": "code",
   "execution_count": null,
   "metadata": {
    "scrolled": true
   },
   "outputs": [],
   "source": [
    "scpdt"
   ]
  },
  {
   "cell_type": "code",
   "execution_count": null,
   "metadata": {
    "scrolled": true
   },
   "outputs": [],
   "source": [
    "cd f:\\Dropbox\\data\\proj\\PE_HYZ\\PublicDataSet\\NBL_SZscRNA\\SWAPLINE2"
   ]
  },
  {
   "cell_type": "code",
   "execution_count": null,
   "metadata": {
    "scrolled": false
   },
   "outputs": [],
   "source": [
    "scpdt.write_h5ad(\"E2F7snNBL_humanAM_scRNAseq_fit_Integrated_Mouse_NeuralCrest.h5ad\")"
   ]
  },
  {
   "cell_type": "code",
   "execution_count": null,
   "metadata": {},
   "outputs": [],
   "source": []
  },
  {
   "cell_type": "markdown",
   "metadata": {},
   "source": [
    "# N2A_ multiomics"
   ]
  },
  {
   "cell_type": "code",
   "execution_count": null,
   "metadata": {
    "scrolled": true
   },
   "outputs": [],
   "source": [
    "cd f:\\Dropbox\\data\\proj\\PE_HYZ\\PublicDataSet\\NBL_SZscRNA\\Mouse_scATAC"
   ]
  },
  {
   "cell_type": "code",
   "execution_count": null,
   "metadata": {},
   "outputs": [],
   "source": [
    "dfpdt2=pd.read_table(\"wt_nude_merged_N2A_transcriptome.tab\",index_col=0,header=0,sep=\"\\t\")\n",
    "dfpdt2.shape"
   ]
  },
  {
   "cell_type": "code",
   "execution_count": null,
   "metadata": {},
   "outputs": [],
   "source": []
  },
  {
   "cell_type": "code",
   "execution_count": null,
   "metadata": {},
   "outputs": [],
   "source": [
    "cd f:\\Dropbox\\data\\proj\\PE_HYZ\\PublicDataSet\\NBL_SZscRNA\\Mouse_scATAC"
   ]
  },
  {
   "cell_type": "code",
   "execution_count": null,
   "metadata": {},
   "outputs": [],
   "source": [
    "dftumor1=pd.read_table(\"MOUSE_NBL_TUMOR_Normal_Probability.csv\",index_col=0,header=0,sep=\",\")"
   ]
  },
  {
   "cell_type": "code",
   "execution_count": null,
   "metadata": {},
   "outputs": [],
   "source": [
    "dftumor2=pd.read_table(\"MOUSE_Batch2_NBL_TUMOR_Normal_Probability.csv\",index_col=0,header=0,sep=\",\")"
   ]
  },
  {
   "cell_type": "code",
   "execution_count": null,
   "metadata": {},
   "outputs": [],
   "source": [
    "dftumor1"
   ]
  },
  {
   "cell_type": "code",
   "execution_count": null,
   "metadata": {
    "scrolled": true
   },
   "outputs": [],
   "source": [
    "set(dftumor1[\"V1\"])"
   ]
  },
  {
   "cell_type": "code",
   "execution_count": null,
   "metadata": {},
   "outputs": [],
   "source": [
    "dftumor1=dftumor1.loc[dftumor1[\"V1\"]!=5]\n",
    "dftumor1.shape"
   ]
  },
  {
   "cell_type": "code",
   "execution_count": null,
   "metadata": {
    "scrolled": true
   },
   "outputs": [],
   "source": [
    "dftumor2"
   ]
  },
  {
   "cell_type": "code",
   "execution_count": null,
   "metadata": {},
   "outputs": [],
   "source": [
    "set(dftumor2[\"V1\"])"
   ]
  },
  {
   "cell_type": "code",
   "execution_count": null,
   "metadata": {},
   "outputs": [],
   "source": [
    "dftumor2=dftumor2.loc[dftumor2[\"V1\"]!=1]\n",
    "dftumor2.shape"
   ]
  },
  {
   "cell_type": "code",
   "execution_count": null,
   "metadata": {},
   "outputs": [],
   "source": [
    "dftumor=dftumor1.append(dftumor2)"
   ]
  },
  {
   "cell_type": "code",
   "execution_count": null,
   "metadata": {},
   "outputs": [],
   "source": [
    "dftumor.shape"
   ]
  },
  {
   "cell_type": "code",
   "execution_count": null,
   "metadata": {
    "scrolled": true
   },
   "outputs": [],
   "source": [
    "dfpdt2.shape"
   ]
  },
  {
   "cell_type": "code",
   "execution_count": null,
   "metadata": {},
   "outputs": [],
   "source": [
    "dfpdt2.head()"
   ]
  },
  {
   "cell_type": "code",
   "execution_count": null,
   "metadata": {},
   "outputs": [],
   "source": [
    "samplelist=[]\n",
    "for item in dfpdt2.columns:\n",
    "    samplelist.append(item.split(\"_\")[0])\n",
    "set(samplelist)"
   ]
  },
  {
   "cell_type": "code",
   "execution_count": null,
   "metadata": {},
   "outputs": [],
   "source": [
    "dfpdt2.loc[\"Cluster\"]=samplelist"
   ]
  },
  {
   "cell_type": "code",
   "execution_count": null,
   "metadata": {},
   "outputs": [],
   "source": [
    "dfpdt=dfpdt2.iloc[:-1,:].astype(float)"
   ]
  },
  {
   "cell_type": "code",
   "execution_count": null,
   "metadata": {},
   "outputs": [],
   "source": [
    "dfclus=dfpdt2.iloc[-2:,:]\n",
    "dfclus"
   ]
  },
  {
   "cell_type": "code",
   "execution_count": null,
   "metadata": {
    "scrolled": false
   },
   "outputs": [],
   "source": [
    "dfpdt.shape"
   ]
  },
  {
   "cell_type": "code",
   "execution_count": null,
   "metadata": {},
   "outputs": [],
   "source": [
    "with open('f:/Dropbox/data/proj/PE_HYZ/PublicDataSet/Homologene_mouse2human_dict2.pickle', 'rb') as f:\n",
    "        mouse2human_dict = pickle.load(f, encoding='ASCII')"
   ]
  },
  {
   "cell_type": "code",
   "execution_count": null,
   "metadata": {},
   "outputs": [],
   "source": [
    "#df=dfgbm\n",
    "dfm=dfpdt\n",
    "# For easier handling convert the mouse name in the human name\n",
    "mouse_translable = [i for i in dfm.index if i in mouse2human_dict]\n",
    "dfm = dfm.loc[mouse_translable,:]\n",
    "dfm.index = [mouse2human_dict[i] for i in dfm.index]\n",
    "# Take genes that have an homologue\n"
   ]
  },
  {
   "cell_type": "code",
   "execution_count": null,
   "metadata": {},
   "outputs": [],
   "source": [
    "#dfgbm=df.astype(float)\n",
    "dfpdt=dfm.astype(float)\n",
    "samegene=set(dfpdt.index)\n",
    "len(samegene)"
   ]
  },
  {
   "cell_type": "code",
   "execution_count": null,
   "metadata": {},
   "outputs": [],
   "source": [
    "dfpdt.head()"
   ]
  },
  {
   "cell_type": "code",
   "execution_count": null,
   "metadata": {},
   "outputs": [],
   "source": [
    "scpdt = anndata.AnnData(dfpdt.T.astype(float))"
   ]
  },
  {
   "cell_type": "code",
   "execution_count": null,
   "metadata": {},
   "outputs": [],
   "source": [
    "scpdt.obs[\"Cluster\"]=dfclus.loc[\"Cluster\"].values"
   ]
  },
  {
   "cell_type": "code",
   "execution_count": null,
   "metadata": {},
   "outputs": [],
   "source": [
    "scpdt"
   ]
  },
  {
   "cell_type": "code",
   "execution_count": null,
   "metadata": {},
   "outputs": [],
   "source": [
    "import SCMprefiltering33 as SCMpref\n",
    "scpdt =SCMpref.MVgene_Scaling(datax=scpdt,TPTT=500000,   commongene=scref.var.index.tolist(),  \n",
    "                                        sharedMVgenes=scref.uns[ 'train_set_gene'].tolist(),\n",
    "                                                                                            std_scaling=False,score=None, thrs=None,  mprotogruop=None,\n",
    "    tftable=\"f:/Dropbox/data/proj/PE_HYZ/PublicDataSet/FantomTF2CLUSTER_human_official.txt\", learninggroup=\"test\")\n",
    "\n"
   ]
  },
  {
   "cell_type": "code",
   "execution_count": null,
   "metadata": {},
   "outputs": [],
   "source": []
  },
  {
   "cell_type": "code",
   "execution_count": null,
   "metadata": {
    "scrolled": true
   },
   "outputs": [],
   "source": [
    "cd f:\\Dropbox\\data\\proj\\PE_HYZ\\PublicDataSet\\NBL_SZscRNA\\SWAPLINE2"
   ]
  },
  {
   "cell_type": "code",
   "execution_count": null,
   "metadata": {
    "scrolled": false
   },
   "outputs": [],
   "source": [
    "scpdt=anndata.read(\"SZmutiOmicsNBL_humanAM_scRNAseq_fit_Integrated_Mouse_NeuralCrest.h5ad\")"
   ]
  },
  {
   "cell_type": "code",
   "execution_count": null,
   "metadata": {},
   "outputs": [],
   "source": [
    "set(scpdt.obs[\"Cluster\"])"
   ]
  },
  {
   "cell_type": "code",
   "execution_count": null,
   "metadata": {},
   "outputs": [],
   "source": [
    "scpdt.uns[\"mwanted_order\"]= ['wt',\"mBatch2\"]\n",
    "\n",
    "color_dictclpn = pd.Series({  'wt':   (255,200,0), 'OE_NBL': (25, 60,  130),\n",
    "                             #'wt':    (157, 105,   7),\n",
    "            'mBatch2':    (0, 100,0),\n",
    "                            'NBL7snRNA':    ( 95, 186,  70), 'CGRP-Beta':    (180, 140, 130),\n",
    "           'NBL8snRNA':  (100, 100, 240), 'CGRP-Eta': ( 80, 235, 255), 'CGRP-Gamma':(190, 235, 255),\n",
    "             'CGRP-Theta':(210, 255, 215), 'CGRP-Zeta':(230, 140, 120), 'Nonpeptidergic nociceptors':  (255, 195,  28),\n",
    "             'NBL9snRNA':  (139, 101, 100),\n",
    "                           'Sst':  (146,  178,  210),  'TrpM8':   (214, 194,  39),\n",
    "             'JK_NF4':  (255, 120, 155),'JK_NP1': ( 80, 235, 255), 'JK_NP2':  (250, 125,  25),\n",
    "              'JK_NP3':    (190, 200, 190),'JK_PEP1':   (255,  35, 155),  'NBL1':     (199, 121,  41),\n",
    "              'NBL2': ( 40,  55, 130), 'NBL3':  (  7,  121, 61), 'NBL4':   ( 195, 186,  70),\n",
    "               'NBL5':   ( 250, 80, 80), 'NBL6':   (245, 205, 170),'Endo/Peri':   (185, 245, 30),\n",
    "              'eSCc':(205,205,220)})\n",
    "#color_dictclpn = color_dictclpn.map(lambda x: list(map(lambda y: y/255., x)))"
   ]
  },
  {
   "cell_type": "code",
   "execution_count": null,
   "metadata": {},
   "outputs": [],
   "source": [
    "#import SW2main82 as SCM\n",
    "test=SCM.prediction(datax=scpdt, mcolor_dict=color_dictclpn,net=net,learninggroup=\"test\", radarplot=True, fontsizeValue=35,\n",
    "              datarefplot=scref,               ncolnm=1, bbValue=(1.1, 1.05))"
   ]
  },
  {
   "cell_type": "code",
   "execution_count": null,
   "metadata": {
    "scrolled": true
   },
   "outputs": [],
   "source": [
    "scpdt"
   ]
  },
  {
   "cell_type": "code",
   "execution_count": null,
   "metadata": {
    "scrolled": true
   },
   "outputs": [],
   "source": [
    "cd f:\\Dropbox\\data\\proj\\PE_HYZ\\PublicDataSet\\NBL_SZscRNA\\SWAPLINE2"
   ]
  },
  {
   "cell_type": "code",
   "execution_count": null,
   "metadata": {
    "scrolled": false
   },
   "outputs": [],
   "source": [
    "scpdt.write_h5ad(\"SZmutiOmicsNBL_humanAM_scRNAseq_fit_Integrated_Mouse_NeuralCrest.h5ad\")"
   ]
  },
  {
   "cell_type": "code",
   "execution_count": null,
   "metadata": {},
   "outputs": [],
   "source": []
  },
  {
   "cell_type": "code",
   "execution_count": null,
   "metadata": {},
   "outputs": [],
   "source": [
    "net"
   ]
  },
  {
   "cell_type": "code",
   "execution_count": null,
   "metadata": {
    "scrolled": false
   },
   "outputs": [],
   "source": [
    "cd f:\\Dropbox\\data\\proj\\PE_HYZ\\BuidingCode\\SWAPLINE2\\SWAPLINE2"
   ]
  },
  {
   "cell_type": "code",
   "execution_count": null,
   "metadata": {},
   "outputs": [],
   "source": [
    "import SW2main12"
   ]
  },
  {
   "cell_type": "code",
   "execution_count": null,
   "metadata": {},
   "outputs": [],
   "source": []
  },
  {
   "cell_type": "code",
   "execution_count": null,
   "metadata": {},
   "outputs": [],
   "source": [
    "scpdt.obs[\"Cluster\"]=dfclus.loc[\"Cluster\"].values"
   ]
  },
  {
   "cell_type": "code",
   "execution_count": null,
   "metadata": {},
   "outputs": [],
   "source": [
    "scpdt"
   ]
  },
  {
   "cell_type": "code",
   "execution_count": null,
   "metadata": {},
   "outputs": [],
   "source": [
    "import SCMprefiltering33 as SCMpref\n",
    "scpdt =SCMpref.MVgene_Scaling(datax=scpdt,TPTT=1000000,   commongene=scref.var.index.tolist(),  \n",
    "                                        sharedMVgenes=scref.uns[ 'train_set_gene'].tolist(),\n",
    "                                                                                            std_scaling=False,score=None, thrs=None,  mprotogruop=None,\n",
    "    tftable=\"f:/Dropbox/data/proj/PE_HYZ/PublicDataSet/FantomTF2CLUSTER_human_official.txt\", learninggroup=\"test\")\n",
    "\n"
   ]
  },
  {
   "cell_type": "code",
   "execution_count": null,
   "metadata": {},
   "outputs": [],
   "source": [
    "set(scpdt.obs[\"Cluster\"])"
   ]
  },
  {
   "cell_type": "code",
   "execution_count": null,
   "metadata": {},
   "outputs": [],
   "source": [
    "scpdt.uns[\"mwanted_order\"]= ['Ctrl_NBL', 'OE_NBL']\n",
    "\n",
    "color_dictclpn = pd.Series({'Ctrl_NBL':   (190,  10,  10), 'OE_NBL': (25, 60,  130),\n",
    "                             'Adelta-LTMR':    (57, 105,   7),\n",
    "            'C-LTMR':    (170, 180, 170),\n",
    "                            'NBL7snRNA':    ( 95, 186,  70), 'CGRP-Beta':    (180, 140, 130),\n",
    "           'NBL8snRNA':  (100, 100, 240), 'CGRP-Eta': ( 80, 235, 255), 'CGRP-Gamma':(190, 235, 255),\n",
    "             'CGRP-Theta':(210, 255, 215), 'CGRP-Zeta':(230, 140, 120), 'Nonpeptidergic nociceptors':  (255, 195,  28),\n",
    "             'NBL9snRNA':  (139, 101, 100),\n",
    "                           'Sst':  (146,  178,  210),  'TrpM8':   (214, 194,  39),\n",
    "             'JK_NF4':  (255, 120, 155),'JK_NP1': ( 80, 235, 255), 'JK_NP2':  (250, 125,  25),\n",
    "              'JK_NP3':    (190, 200, 190),'JK_PEP1':   (255,  35, 155),  'NBL1':     (199, 121,  41),\n",
    "              'NBL2': ( 40,  55, 130), 'NBL3':  (  7,  121, 61), 'NBL4':   ( 195, 186,  70),\n",
    "               'NBL5':   ( 250, 80, 80), 'NBL6':   (245, 205, 170),'Endo/Peri':   (185, 245, 30),\n",
    "              'eSCc':(205,205,220)})\n",
    "#color_dictclpn = color_dictclpn.map(lambda x: list(map(lambda y: y/255., x)))"
   ]
  },
  {
   "cell_type": "code",
   "execution_count": null,
   "metadata": {},
   "outputs": [],
   "source": [
    "#import SW2main82 as SCM\n",
    "test=SCM.prediction(datax=scpdt, mcolor_dict=color_dictclpn,net=net,learninggroup=\"test\", radarplot=True, fontsizeValue=35,\n",
    "              datarefplot=scref,               ncolnm=1, bbValue=(1.1, 1.05))"
   ]
  },
  {
   "cell_type": "code",
   "execution_count": null,
   "metadata": {
    "scrolled": true
   },
   "outputs": [],
   "source": [
    "scpdt"
   ]
  },
  {
   "cell_type": "code",
   "execution_count": null,
   "metadata": {
    "scrolled": true
   },
   "outputs": [],
   "source": [
    "cd f:\\Dropbox\\data\\proj\\PE_HYZ\\PublicDataSet\\NBL_SZscRNA\\SWAPLINE2"
   ]
  },
  {
   "cell_type": "code",
   "execution_count": null,
   "metadata": {
    "scrolled": true
   },
   "outputs": [],
   "source": [
    "scpdt.write_h5ad(\"E2F7snNBL_humanAM_scRNAseq_fit_Integrated_Mouse_NeuralCrest.h5ad\")"
   ]
  },
  {
   "cell_type": "code",
   "execution_count": null,
   "metadata": {},
   "outputs": [],
   "source": []
  }
 ],
 "metadata": {
  "kernelspec": {
   "display_name": "Python 3 (ipykernel)",
   "language": "python",
   "name": "python3"
  },
  "language_info": {
   "codemirror_mode": {
    "name": "ipython",
    "version": 3
   },
   "file_extension": ".py",
   "mimetype": "text/x-python",
   "name": "python",
   "nbconvert_exporter": "python",
   "pygments_lexer": "ipython3",
   "version": "3.8.16"
  }
 },
 "nbformat": 4,
 "nbformat_minor": 2
}
