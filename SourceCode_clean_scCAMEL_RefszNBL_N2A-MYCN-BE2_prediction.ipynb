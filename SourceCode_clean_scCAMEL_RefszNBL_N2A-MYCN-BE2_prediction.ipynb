{
 "cells": [
  {
   "cell_type": "code",
   "execution_count": null,
   "metadata": {},
   "outputs": [],
   "source": [
    "import datetime\n",
    "today=f\"{datetime.datetime.now():%Y-%m-%d}\"\n",
    "today"
   ]
  },
  {
   "cell_type": "code",
   "execution_count": null,
   "metadata": {
    "scrolled": true
   },
   "outputs": [],
   "source": [
    "import seaborn as sns\n",
    "%pylab inline"
   ]
  },
  {
   "cell_type": "code",
   "execution_count": null,
   "metadata": {},
   "outputs": [],
   "source": [
    "#imports\n",
    "import pandas as pd\n",
    "import pickle as pickle\n",
    "from scipy.spatial.distance import cdist, pdist, squareform\n",
    "#import backspinpy\n",
    "import pandas as pd\n",
    "from sklearn.linear_model import LogisticRegression, LogisticRegressionCV\n",
    "from sklearn.model_selection import StratifiedShuffleSplit  \n",
    "from collections import defaultdict\n",
    "from sklearn import preprocessing\n",
    "import matplotlib.patches as mpatches\n",
    "%pylab inline"
   ]
  },
  {
   "cell_type": "code",
   "execution_count": null,
   "metadata": {},
   "outputs": [],
   "source": [
    "import matplotlib.pyplot as plt\n",
    "import pandas as pd\n",
    "import numpy as np\n",
    "from sklearn.decomposition import PCA\n",
    "from sklearn import manifold\n",
    "from collections import defaultdict\n",
    "#from mpl_toolkits.mplot3d import Axes3D\n",
    "import math\n",
    "import sklearn\n",
    "import scipy\n",
    "import os\n",
    "import sys\n",
    "#imports\n",
    "import pandas as pd\n",
    "import pickle as pickle\n",
    "from scipy.spatial.distance import cdist, pdist, squareform\n",
    "#import backspinpy\n",
    "#from backspinpy import fit_CV\n",
    "#from backspinpy.Cef_tools import *\n",
    "#from __future__ import division\n",
    "import pandas as pd\n",
    "from sklearn.linear_model import LogisticRegression, LogisticRegressionCV\n",
    "#from sklearn.cross_validation import StratifiedShuffleSplit  \n",
    "from collections import defaultdict\n",
    "from sklearn import preprocessing\n",
    "import matplotlib.patches as mpatches\n",
    "import anndata"
   ]
  },
  {
   "cell_type": "code",
   "execution_count": null,
   "metadata": {},
   "outputs": [],
   "source": [
    "from scipy.io import mmread"
   ]
  },
  {
   "cell_type": "code",
   "execution_count": null,
   "metadata": {},
   "outputs": [],
   "source": [
    "import gzip\n",
    "import logging\n",
    "import os.path\n",
    "from shutil import copyfile\n",
    "from typing import Tuple, Union, Any, Dict, List, Iterable, Callable, Optional\n",
    "\n",
    "import h5py\n",
    "import numpy as np\n",
    "import numpy_groupies.aggregate_numpy as npg\n",
    "import scipy.sparse\n",
    "from scipy.io import mmread\n",
    "\n",
    "import loompy\n",
    "from loompy import deprecated, timestamp"
   ]
  },
  {
   "cell_type": "code",
   "execution_count": null,
   "metadata": {
    "scrolled": true
   },
   "outputs": [],
   "source": [
    "cd f:\\Dropbox\\data\\proj\\PE_HYZ\\BuidingCode\\SWAPLINE2\\SWAPLINE2"
   ]
  },
  {
   "cell_type": "code",
   "execution_count": null,
   "metadata": {},
   "outputs": [],
   "source": [
    "import SCMprefiltering55 as SCMpref\n",
    "import scCAMEL as scm\n",
    "from scCAMEL import CamelPrefiltering\n",
    "from scCAMEL import CamelSwapline\n",
    "from scCAMEL import CamelEvo"
   ]
  },
  {
   "cell_type": "code",
   "execution_count": null,
   "metadata": {
    "scrolled": false
   },
   "outputs": [],
   "source": [
    "cd f:\\Dropbox\\data\\proj\\PE_HYZ\\PublicDataSet\\NBL_SZscRNA\\SWAPLINE2"
   ]
  },
  {
   "cell_type": "code",
   "execution_count": null,
   "metadata": {},
   "outputs": [],
   "source": []
  },
  {
   "cell_type": "code",
   "execution_count": null,
   "metadata": {
    "scrolled": true
   },
   "outputs": [],
   "source": [
    "scref=anndata.read(\"5datasets_szNBL_newColoroldUMAP.h5ad\")"
   ]
  },
  {
   "cell_type": "code",
   "execution_count": null,
   "metadata": {},
   "outputs": [],
   "source": [
    "scref.var"
   ]
  },
  {
   "cell_type": "code",
   "execution_count": null,
   "metadata": {},
   "outputs": [],
   "source": [
    "scref"
   ]
  },
  {
   "cell_type": "code",
   "execution_count": null,
   "metadata": {},
   "outputs": [],
   "source": [
    "#scref.obs[ 'Patient']=scref.obs[ 'Cluster']"
   ]
  },
  {
   "cell_type": "code",
   "execution_count": null,
   "metadata": {
    "scrolled": true
   },
   "outputs": [],
   "source": [
    "set(scref.obs[ 'Cluster'])"
   ]
  },
  {
   "cell_type": "code",
   "execution_count": null,
   "metadata": {},
   "outputs": [],
   "source": [
    "scref=scm.CamelPrefiltering.DataScaling(scref)"
   ]
  },
  {
   "cell_type": "code",
   "execution_count": null,
   "metadata": {},
   "outputs": [],
   "source": [
    "dftest=pd.DataFrame(scref.obs[[ 'Cluster', 'dataset', 'PatientID']])"
   ]
  },
  {
   "cell_type": "code",
   "execution_count": null,
   "metadata": {},
   "outputs": [],
   "source": [
    "dftest.groupby(['Cluster']).count()"
   ]
  },
  {
   "cell_type": "code",
   "execution_count": null,
   "metadata": {},
   "outputs": [],
   "source": [
    "set(scref.obs[ 'Cluster'])"
   ]
  },
  {
   "cell_type": "code",
   "execution_count": null,
   "metadata": {},
   "outputs": [],
   "source": [
    "path='f:/Dropbox/data/proj/PE_HYZ/PublicDataSet/'\n",
    "filename='PANTHER_cell_cycle_genes.txt'\n",
    "#dfpfc2= prefilteringTest.prefilter(df_f=dfpfc,filename=filename, path=path)\n",
    "scref= SCMpref.prefilter(datax=scref,filename=filename, path=path)"
   ]
  },
  {
   "cell_type": "code",
   "execution_count": null,
   "metadata": {
    "scrolled": false
   },
   "outputs": [],
   "source": [
    "scref.var['Filter1']=[True]*scref.var.shape[0]\n",
    "scref"
   ]
  },
  {
   "cell_type": "code",
   "execution_count": null,
   "metadata": {},
   "outputs": [],
   "source": [
    "dfdev2=pd.DataFrame(scref.X,index=scref.obs.index,columns=scref.var.index).T\n",
    "dfdev2=dfdev2.loc[scref.var['Filter1']==True]\n",
    "dfdev2.shape"
   ]
  },
  {
   "cell_type": "code",
   "execution_count": null,
   "metadata": {},
   "outputs": [],
   "source": [
    "#scref=CamelPrefiltering.SelectFeatures(datax=scref, clustername='Cluster',methodname='wilcoxon', numbergenes=1000, folderchange=1.25)\n",
    "markerlist=scm.CamelSwapline.enrichmentscoreBETA(dfpfcclus=scref.obs[\"Cluster\"], df_dev=dfdev2, fc=1.5, pvalcutoff=0.1, shortcut=False)"
   ]
  },
  {
   "cell_type": "code",
   "execution_count": null,
   "metadata": {
    "scrolled": true
   },
   "outputs": [],
   "source": [
    "cd F:\\Dropbox\\data\\proj\\PE_HYZ\\PublicDataSet\\NBL_SZscRNA\\SWAPLINE2\\NBLsummary"
   ]
  },
  {
   "cell_type": "code",
   "execution_count": null,
   "metadata": {},
   "outputs": [],
   "source": [
    "markerlist=pd.read_table(\"MarkerGenes_szSS2.csv\",header=0,index_col=0,sep=\",\")"
   ]
  },
  {
   "cell_type": "code",
   "execution_count": null,
   "metadata": {
    "scrolled": true
   },
   "outputs": [],
   "source": [
    "len(markerlist)"
   ]
  },
  {
   "cell_type": "code",
   "execution_count": null,
   "metadata": {
    "scrolled": false
   },
   "outputs": [],
   "source": [
    "scref"
   ]
  },
  {
   "cell_type": "code",
   "execution_count": null,
   "metadata": {},
   "outputs": [],
   "source": [
    "len(set(markerlist.index))"
   ]
  },
  {
   "cell_type": "code",
   "execution_count": null,
   "metadata": {},
   "outputs": [],
   "source": [
    "clist=[]\n",
    "for item in scref.var.index:\n",
    "    if item in markerlist.index:\n",
    "        clist.append(True)\n",
    "    else:\n",
    "        clist.append(False)"
   ]
  },
  {
   "cell_type": "code",
   "execution_count": null,
   "metadata": {},
   "outputs": [],
   "source": [
    "sum(clist)"
   ]
  },
  {
   "cell_type": "code",
   "execution_count": null,
   "metadata": {
    "scrolled": true
   },
   "outputs": [],
   "source": [
    "scref.var['MVgene']=clist\n",
    "scref.var['MVgene']"
   ]
  },
  {
   "cell_type": "code",
   "execution_count": null,
   "metadata": {},
   "outputs": [],
   "source": [
    "scref"
   ]
  },
  {
   "cell_type": "markdown",
   "metadata": {},
   "source": [
    "markerlist=[\"PHOX2B\",\"ASCL1\",\"PLP1\",\"MSTN\",\"ERBB3\",\"PRRX1\",\"PRRX2\",\"TWIST1\",\"MSX3\",\"HES5\",\"PAX6\",\"FOXB1\",\"OLIG3\",\"GDF7\",\"WNT3A\",\"MAFB\",\"CDH11\",\"SOX9\",\"SMTNL2\",\n",
    " \"ZIC3\",\"ZIC4\",\"HNF1B\",\"BMP6\",\"OLIG3\",\"DLX5\",\"PDGFRA\",\"PAK3\",\"HAPLN\",\"RET\",\"NGFR\",\"MCAM\",\"DLX2\",\"NEFL\",\"ELAVL4\",\"ERBB3\",\"SOX10\",\"PAX3\",\"FOXD3\",\n",
    "            \"LMO4\",\"ETS1\",\"HMX1\",\"RXRG\",\"CDH11\",\"MSX1\",\"PAWR\",\"S100B\",\"PLP1\",\n",
    " \"MEOX1\",\"SIX2\",\"FOXC1\",\"NEUROD1\",\"NEUROD4\",\"NHLH2\",\"ELAVL3\",\"DLL3\",\"ZFP488\",\"CHGA\",\"CHGB\",\"PNMT\",\"ELAVL3\",\"CARTPT\",\"PENK\",\"PRPH\",\"ETS\"]"
   ]
  },
  {
   "cell_type": "code",
   "execution_count": null,
   "metadata": {},
   "outputs": [],
   "source": [
    "screfbk=scref.copy()"
   ]
  },
  {
   "cell_type": "code",
   "execution_count": null,
   "metadata": {},
   "outputs": [],
   "source": [
    "#import SCMprefiltering14\n",
    "scref =scm.CamelPrefiltering.LabelGene_Scaling(datax=screfbk,\n",
    "                                                                TPTT=0,     mprotogruop=scref.obs[\"Cluster\"].values,commongene=None,\n",
    "                                                                                              sharedMVgenes=None,std_scaling=True,\n",
    "    tftable=\"f:/Dropbox/data/proj/PE_HYZ/PublicDataSet/FantomTF2CLUSTER_human_official.txt\", learninggroup=\"train\")\n"
   ]
  },
  {
   "cell_type": "code",
   "execution_count": null,
   "metadata": {},
   "outputs": [],
   "source": [
    "scref"
   ]
  },
  {
   "cell_type": "code",
   "execution_count": null,
   "metadata": {
    "scrolled": true
   },
   "outputs": [],
   "source": [
    "scref.obs[ 'mtrain_index'].astype(np.float32)"
   ]
  },
  {
   "cell_type": "code",
   "execution_count": null,
   "metadata": {},
   "outputs": [],
   "source": [
    "scref.obsm[\"train_set_values\"]"
   ]
  },
  {
   "cell_type": "code",
   "execution_count": null,
   "metadata": {},
   "outputs": [],
   "source": [
    "cd f:\\Dropbox\\data\\proj\\PE_HYZ\\BuidingCode\\SWAPLINE2\\SWAPLINE2"
   ]
  },
  {
   "cell_type": "code",
   "execution_count": null,
   "metadata": {},
   "outputs": [],
   "source": [
    "#import SCMprefiltering38 as SCMpref\n",
    "net=SCMpref.NNclassifer(\n",
    "   datax=scref,\n",
    "    epochNum=100,\n",
    "    learningRate=0.01,\n",
    "    verbose=0,\n",
    "    optimizerMmentum=0.9,\n",
    "    dropout=0.3,\n",
    "    #imizer__nesterov=True,\n",
    "    )"
   ]
  },
  {
   "cell_type": "code",
   "execution_count": null,
   "metadata": {},
   "outputs": [],
   "source": [
    "#import SCMprefiltering29 as SCMpref\n",
    "ax=SCMpref.AccuracyPlot( nnModel=net, accCutoff=0.6,\n",
    "                 Xlow=-1, Ylow=0.0, Yhigh=1,\n",
    "               )"
   ]
  },
  {
   "cell_type": "code",
   "execution_count": null,
   "metadata": {
    "scrolled": false
   },
   "outputs": [],
   "source": [
    "cd f:\\Dropbox\\data\\proj\\PE_HYZ\\BuidingCode\\SWAPLINE2\\SWAPLINE2"
   ]
  },
  {
   "cell_type": "code",
   "execution_count": null,
   "metadata": {},
   "outputs": [],
   "source": [
    "#import SCMprefiltering50 as SCMpref\n",
    "net=SCMpref.NNclassifer(\n",
    "   datax=scref,\n",
    "    epochNum=20,\n",
    "    learningRate=0.01,\n",
    "    verbose=0,\n",
    "    optimizerMmentum=0.9,\n",
    "    dropout=0.3,\n",
    " )"
   ]
  },
  {
   "cell_type": "code",
   "execution_count": null,
   "metadata": {
    "scrolled": false
   },
   "outputs": [],
   "source": [
    "scref"
   ]
  },
  {
   "cell_type": "code",
   "execution_count": null,
   "metadata": {},
   "outputs": [],
   "source": [
    "set(scref.obs[\"Cluster\"])"
   ]
  },
  {
   "cell_type": "code",
   "execution_count": null,
   "metadata": {},
   "outputs": [],
   "source": [
    "scref.uns[\"mwanted_order\"] =[\n",
    "    'Diff_Mes', 'NC_prog',\n",
    "'Bridge_SCP',\n",
    "    'Connecting',\n",
    "\n",
    " 'preNeuroblast',\n",
    "     'Chromaffin',\n",
    " 'Diff_Neuroblast',\n",
    "]\n"
   ]
  },
  {
   "cell_type": "code",
   "execution_count": null,
   "metadata": {},
   "outputs": [],
   "source": [
    "refcolor_dict = pd.Series({    'SCP':   (90,  10,  10), 'Chromaffin1': (25, 60,  130),\n",
    "                             'cycling':    (57, 105,   7),\n",
    "             'Sympath':    (170, 180, 170),'SCP':   (190,  10,  10),  'Chromaffin': (25, 60,  130),\n",
    "                             'cycling':    (57, 105,   7),\n",
    "             'sympathoblasts':    (170, 180, 170),\n",
    "                            'Diff_Glia': (235, 125,  128),  'Diff_Mes': (10,10,255),\n",
    "                          'Chromaffin':   (55, 55,  78), 'preNeuroblast':  (100, 100, 240),\n",
    "                           'Diff_Neuroblast':    (57, 105,   7),'preGlia': (175, 175,  28),\n",
    "            'Bridge_SCP':    (170, 180, 170), 'NC_prog':(249,125,5),\n",
    "                           'Connecting':    ( 95, 186,  70),  'Auto_prog':    (180, 140, 130),\n",
    "       'cyclingNeuroblast':  (100, 100, 240), 'Migr_prog': ( 80, 235, 255),  'Mes_prog':(249,125,5),\n",
    "            'cycling SCPs':(250, 125, 0),35:(230, 140, 120), 'SympNeuron':  (10,10,255),\n",
    " 'Autonomic_Prog':(0,0,255),\n",
    "     'Schwann/Glia':( 110, 140, 100),})\n",
    "#refcolor_dict =refcolor_dict.map(lambda x: list(map(lambda y: y/255., x)))"
   ]
  },
  {
   "cell_type": "code",
   "execution_count": null,
   "metadata": {},
   "outputs": [],
   "source": [
    "cd f:\\Dropbox\\data\\proj\\PE_HYZ\\BuidingCode\\SWAPLINE2\\SWAPLINE2"
   ]
  },
  {
   "cell_type": "code",
   "execution_count": null,
   "metadata": {},
   "outputs": [],
   "source": []
  },
  {
   "cell_type": "code",
   "execution_count": null,
   "metadata": {
    "scrolled": false
   },
   "outputs": [],
   "source": [
    "import SW2main122 as SCM\n",
    "scref=SCM.prediction(datax=scref, mcolor_dict=refcolor_dict ,net=net,learninggroup=\"train\", radarplot=True,fontsizeValue=20,\n",
    "                       ncolnm=1, bbValue=(1.2, 1.05)  )\n",
    "#plt.savefig(\"testlong.pdf\")"
   ]
  },
  {
   "cell_type": "code",
   "execution_count": null,
   "metadata": {
    "scrolled": false
   },
   "outputs": [],
   "source": [
    "scref"
   ]
  },
  {
   "cell_type": "code",
   "execution_count": null,
   "metadata": {
    "scrolled": true
   },
   "outputs": [],
   "source": [
    "scref. obsm[\"Celltype_Score\"].shape"
   ]
  },
  {
   "cell_type": "code",
   "execution_count": null,
   "metadata": {
    "scrolled": true
   },
   "outputs": [],
   "source": [
    "scref"
   ]
  },
  {
   "cell_type": "code",
   "execution_count": null,
   "metadata": {},
   "outputs": [],
   "source": [
    "scref"
   ]
  },
  {
   "cell_type": "code",
   "execution_count": null,
   "metadata": {
    "scrolled": true
   },
   "outputs": [],
   "source": [
    "dfpfcclus = scref.obs[[\"mtrain_index\",\"Cluster\"]].T\n",
    "dfpfcclus"
   ]
  },
  {
   "cell_type": "code",
   "execution_count": null,
   "metadata": {
    "scrolled": false
   },
   "outputs": [],
   "source": [
    "#import SW2main77 as SCMmain\n",
    "fig=SCM.ProbSinglePlot (datax=scref, mcolor_dict=refcolor_dict )"
   ]
  },
  {
   "cell_type": "code",
   "execution_count": null,
   "metadata": {
    "scrolled": false
   },
   "outputs": [],
   "source": [
    "#import SW2main77 as SCMmain\n",
    "fig=SCM.ProbMultiPlot( datax=scref, mcolor_dict=refcolor_dict )"
   ]
  },
  {
   "cell_type": "code",
   "execution_count": null,
   "metadata": {
    "scrolled": false
   },
   "outputs": [],
   "source": [
    "#import SW2main79 as SCMmain\n",
    "dftest0, ratiodf=SCM.permutationTest(datax=scref,net=net,num=10, plotshow=True)"
   ]
  },
  {
   "cell_type": "code",
   "execution_count": null,
   "metadata": {
    "scrolled": true
   },
   "outputs": [],
   "source": [
    "scref"
   ]
  },
  {
   "cell_type": "code",
   "execution_count": null,
   "metadata": {},
   "outputs": [],
   "source": []
  },
  {
   "cell_type": "markdown",
   "metadata": {},
   "source": [
    "# association between cell-types"
   ]
  },
  {
   "cell_type": "code",
   "execution_count": null,
   "metadata": {
    "scrolled": true
   },
   "outputs": [],
   "source": [
    "scm.CamelSwapline.CellTypeSimilarity(datax=scref, labelnum=True,  metricvalue='correlation',methodvalue=\"complete\")"
   ]
  },
  {
   "cell_type": "code",
   "execution_count": null,
   "metadata": {},
   "outputs": [],
   "source": [
    "scm.CamelSwapline.CellTypeSimilarity(datax=scref, labelnum=False,  metricvalue='ecilidian',methodvalue=\"complete\")\n"
   ]
  },
  {
   "cell_type": "code",
   "execution_count": null,
   "metadata": {},
   "outputs": [],
   "source": []
  },
  {
   "cell_type": "code",
   "execution_count": null,
   "metadata": {},
   "outputs": [],
   "source": []
  },
  {
   "cell_type": "markdown",
   "metadata": {},
   "source": [
    "# 10X_BE2_NBL"
   ]
  },
  {
   "cell_type": "code",
   "execution_count": null,
   "metadata": {
    "scrolled": true
   },
   "outputs": [],
   "source": [
    "cd f:\\Dropbox\\data\\proj\\PE_HYZ\\PublicDataSet\\NBL_SZscRNA\\Mouse_Xenograft"
   ]
  },
  {
   "cell_type": "code",
   "execution_count": null,
   "metadata": {},
   "outputs": [],
   "source": [
    "dfpdt = pd.read_table(\"Xenograft_E2F7_Only_TumorCells.tab\", index_col =0 ,header=0, sep=\"\\t\")\n",
    "dfpdt.shape"
   ]
  },
  {
   "cell_type": "code",
   "execution_count": null,
   "metadata": {
    "scrolled": true
   },
   "outputs": [],
   "source": [
    "dfpdt.tail()"
   ]
  },
  {
   "cell_type": "code",
   "execution_count": null,
   "metadata": {},
   "outputs": [],
   "source": [
    "dfpdtclus = dfpdt.iloc[-1:,:]\n",
    "dfpdtclus.shape"
   ]
  },
  {
   "cell_type": "code",
   "execution_count": null,
   "metadata": {},
   "outputs": [],
   "source": [
    "dfpdt.iloc[-3:,:].T.groupby(\"PatientID\").count()"
   ]
  },
  {
   "cell_type": "code",
   "execution_count": null,
   "metadata": {},
   "outputs": [],
   "source": [
    "df=dfpdt\n",
    "df.shape"
   ]
  },
  {
   "cell_type": "code",
   "execution_count": null,
   "metadata": {},
   "outputs": [],
   "source": [
    "#df=df.T\n",
    "df.tail()"
   ]
  },
  {
   "cell_type": "code",
   "execution_count": null,
   "metadata": {},
   "outputs": [],
   "source": [
    "#df=df.T.loc[~df.columns.isin(idex)].T"
   ]
  },
  {
   "cell_type": "code",
   "execution_count": null,
   "metadata": {},
   "outputs": [],
   "source": [
    "dfclus=df.iloc[-1:,:]\n",
    "dfclus.index=[\"Cluster\"]\n",
    "dfclus.head()"
   ]
  },
  {
   "cell_type": "code",
   "execution_count": null,
   "metadata": {},
   "outputs": [],
   "source": [
    "#dfclus.loc[\"Cluster\"]=dfclus.loc[\"GintyCluster\"]"
   ]
  },
  {
   "cell_type": "code",
   "execution_count": null,
   "metadata": {},
   "outputs": [],
   "source": [
    "#dfclus=dfpdt.iloc[-1:,:]\n",
    "dfpdt=df.iloc[:-1,:].astype(float)"
   ]
  },
  {
   "cell_type": "code",
   "execution_count": null,
   "metadata": {
    "scrolled": false
   },
   "outputs": [],
   "source": [
    "dfclus.head()"
   ]
  },
  {
   "cell_type": "code",
   "execution_count": null,
   "metadata": {},
   "outputs": [],
   "source": [
    "dfpdt.tail()"
   ]
  },
  {
   "cell_type": "code",
   "execution_count": null,
   "metadata": {},
   "outputs": [],
   "source": [
    "scpdt = anndata.AnnData(dfpdt.T.astype(float))"
   ]
  },
  {
   "cell_type": "code",
   "execution_count": null,
   "metadata": {},
   "outputs": [],
   "source": [
    "scpdt.obs[\"Cluster\"]=dfclus.loc[\"Cluster\"].values"
   ]
  },
  {
   "cell_type": "code",
   "execution_count": null,
   "metadata": {},
   "outputs": [],
   "source": []
  },
  {
   "cell_type": "code",
   "execution_count": null,
   "metadata": {},
   "outputs": [],
   "source": []
  },
  {
   "cell_type": "code",
   "execution_count": null,
   "metadata": {
    "scrolled": true
   },
   "outputs": [],
   "source": [
    "cd F:\\Dropbox\\data\\proj\\PE_HYZ\\PublicDataSet\\NBL_SZscRNA\\SWAPLINE2"
   ]
  },
  {
   "cell_type": "code",
   "execution_count": null,
   "metadata": {
    "scrolled": false
   },
   "outputs": [],
   "source": [
    "scpdt=anndata.read(\"NBL_E2F7_scRNAseq_fit_szNBLSS2ref.h5ad\")"
   ]
  },
  {
   "cell_type": "code",
   "execution_count": null,
   "metadata": {},
   "outputs": [],
   "source": [
    "scpdt=scm.CamelPrefiltering.DataScaling(scpdt)"
   ]
  },
  {
   "cell_type": "code",
   "execution_count": null,
   "metadata": {},
   "outputs": [],
   "source": [
    "scpdt2=scpdt.copy()"
   ]
  },
  {
   "cell_type": "code",
   "execution_count": null,
   "metadata": {},
   "outputs": [],
   "source": [
    "scref.X.std()"
   ]
  },
  {
   "cell_type": "code",
   "execution_count": null,
   "metadata": {},
   "outputs": [],
   "source": [
    "scpdt2.X.std()"
   ]
  },
  {
   "cell_type": "code",
   "execution_count": null,
   "metadata": {},
   "outputs": [],
   "source": [
    "scpdt2.X=scpdt2.X*(scref.X.std()/scpdt2.X.std())"
   ]
  },
  {
   "cell_type": "code",
   "execution_count": null,
   "metadata": {},
   "outputs": [],
   "source": [
    "scpdt2.obs[\"Cluster\"]"
   ]
  },
  {
   "cell_type": "code",
   "execution_count": null,
   "metadata": {},
   "outputs": [],
   "source": [
    "scpdt2.X.std()"
   ]
  },
  {
   "cell_type": "code",
   "execution_count": null,
   "metadata": {},
   "outputs": [],
   "source": [
    "#scpdt2.obs[\"Cluster\"]=scpdt2.obs[\"Patient\"]"
   ]
  },
  {
   "cell_type": "code",
   "execution_count": null,
   "metadata": {},
   "outputs": [],
   "source": [
    "#scpdt2.X=scpdtbk.X**2"
   ]
  },
  {
   "cell_type": "code",
   "execution_count": null,
   "metadata": {},
   "outputs": [],
   "source": [
    "#import SCMprefiltering42 as SCMpref"
   ]
  },
  {
   "cell_type": "code",
   "execution_count": null,
   "metadata": {},
   "outputs": [],
   "source": [
    "scpdt2"
   ]
  },
  {
   "cell_type": "code",
   "execution_count": null,
   "metadata": {
    "scrolled": true
   },
   "outputs": [],
   "source": [
    "scpdt =scm.CamelPrefiltering.MVgene_Scaling(datax=scpdt2.copy(),TPTT=10000,   commongene=scref.var.index.tolist(),  \n",
    "                                        sharedMVgenes=scref.uns[ 'train_set_gene'].tolist(),\n",
    "                                                                                            std_scaling=False,score=None, thrs=None,  mprotogruop=None,\n",
    "    tftable=\"f:/Dropbox/data/proj/PE_HYZ/PublicDataSet/FantomTF2CLUSTER_human_official.txt\", learninggroup=\"test\")\n",
    "\n"
   ]
  },
  {
   "cell_type": "code",
   "execution_count": null,
   "metadata": {},
   "outputs": [],
   "source": [
    "clist=[]\n",
    "for item in scpdt.obs.index:\n",
    "    clist.append(item.split(\"_\")[0])"
   ]
  },
  {
   "cell_type": "code",
   "execution_count": null,
   "metadata": {},
   "outputs": [],
   "source": [
    "scpdt.obs[\"Cluster\"]=clist\n",
    "scpdt.obs[\"Sample\"]=clist"
   ]
  },
  {
   "cell_type": "code",
   "execution_count": null,
   "metadata": {},
   "outputs": [],
   "source": [
    "set(scpdt.obs[\"Cluster\"])"
   ]
  },
  {
   "cell_type": "code",
   "execution_count": null,
   "metadata": {},
   "outputs": [],
   "source": [
    "color_dictclpn = pd.Series({'CtrlNBL':   (190,  10,  10), 'OE': (25, 60,  130)})"
   ]
  },
  {
   "cell_type": "code",
   "execution_count": null,
   "metadata": {
    "scrolled": false
   },
   "outputs": [],
   "source": [
    "cd f:\\Dropbox\\data\\proj\\PE_HYZ\\BuidingCode\\SWAPLINE2\\SWAPLINE2"
   ]
  },
  {
   "cell_type": "code",
   "execution_count": null,
   "metadata": {},
   "outputs": [],
   "source": [
    "del scpdt.obs[\"color\"]"
   ]
  },
  {
   "cell_type": "code",
   "execution_count": null,
   "metadata": {},
   "outputs": [],
   "source": [
    "#import SW2main160 as SCM\n",
    "scpdt=SCM.addcolor(datax=scpdt,clustername=\"Cluster\", colorcode=\"color\",predef=color_dictclpn)"
   ]
  },
  {
   "cell_type": "code",
   "execution_count": null,
   "metadata": {
    "scrolled": true
   },
   "outputs": [],
   "source": [
    "set(scpdt.obs[\"Cluster\"])"
   ]
  },
  {
   "cell_type": "code",
   "execution_count": null,
   "metadata": {},
   "outputs": [],
   "source": [
    "scpdt.uns[\"mwanted_order\"]= ['CtrlNBL', 'OE']"
   ]
  },
  {
   "cell_type": "code",
   "execution_count": null,
   "metadata": {},
   "outputs": [],
   "source": [
    "scpdt"
   ]
  },
  {
   "cell_type": "code",
   "execution_count": null,
   "metadata": {},
   "outputs": [],
   "source": [
    "temp=scpdt[scpdt.obs[\"Cluster\"]==\"OE\"]"
   ]
  },
  {
   "cell_type": "code",
   "execution_count": null,
   "metadata": {},
   "outputs": [],
   "source": [
    "nonlist=temp[(temp[:,\"E2F7\"].X==0).flatten().tolist(),:].obs.index"
   ]
  },
  {
   "cell_type": "code",
   "execution_count": null,
   "metadata": {},
   "outputs": [],
   "source": [
    "scpdt=scpdt[~scpdt.obs.index.isin(nonlist),:]"
   ]
  },
  {
   "cell_type": "code",
   "execution_count": null,
   "metadata": {
    "scrolled": false
   },
   "outputs": [],
   "source": [
    "#import SW2main82 as SCM\n",
    "scpdt=SCM.prediction(datax=scpdt, mcolor_dict=scpdt.uns[\"refcolor_dict\"],net=net,learninggroup=\"test\", radarplot=True, fontsizeValue=15,\n",
    "              datarefplot=scref, ncolnm=1, bbValue=(1.1, 1.05))"
   ]
  },
  {
   "cell_type": "code",
   "execution_count": null,
   "metadata": {
    "scrolled": true
   },
   "outputs": [],
   "source": [
    "scpdt"
   ]
  },
  {
   "cell_type": "code",
   "execution_count": null,
   "metadata": {},
   "outputs": [],
   "source": [
    "scpdt.obs"
   ]
  },
  {
   "cell_type": "code",
   "execution_count": null,
   "metadata": {
    "scrolled": false
   },
   "outputs": [],
   "source": [
    "cd f:\\Dropbox\\data\\proj\\PE_HYZ\\BuidingCode\\SWAPLINE2\\SWAPLINE2"
   ]
  },
  {
   "cell_type": "code",
   "execution_count": null,
   "metadata": {},
   "outputs": [],
   "source": [
    "swref=scref\n",
    "swpdt=scpdt"
   ]
  },
  {
   "cell_type": "code",
   "execution_count": null,
   "metadata": {},
   "outputs": [],
   "source": [
    "swref"
   ]
  },
  {
   "cell_type": "code",
   "execution_count": null,
   "metadata": {},
   "outputs": [],
   "source": [
    "import SW2main193 as SCM"
   ]
  },
  {
   "cell_type": "code",
   "execution_count": null,
   "metadata": {
    "scrolled": true
   },
   "outputs": [],
   "source": [
    "cd F:\\Dropbox\\data\\proj\\PE_HYZ\\PublicDataSet\\NBL_SZscRNA\\SWAPLINE2"
   ]
  },
  {
   "cell_type": "code",
   "execution_count": null,
   "metadata": {},
   "outputs": [],
   "source": [
    "swref,UMAPmodel=SCM.UMAPtrain(datax=swref,NN=5,mdist=0.95, rd=12346, n_comp=2)"
   ]
  },
  {
   "cell_type": "code",
   "execution_count": null,
   "metadata": {},
   "outputs": [],
   "source": [
    "swref"
   ]
  },
  {
   "cell_type": "code",
   "execution_count": null,
   "metadata": {},
   "outputs": [],
   "source": [
    "cd E:\\Loal_Temp\\umap_test"
   ]
  },
  {
   "cell_type": "code",
   "execution_count": null,
   "metadata": {},
   "outputs": [],
   "source": [
    "swref.obsm['PCAraw0']=swref.obsm['Celltype_Score']"
   ]
  },
  {
   "cell_type": "code",
   "execution_count": null,
   "metadata": {},
   "outputs": [],
   "source": [
    "swref,PCAmodel=CamelEvo.PCAesti(adatax=swref)"
   ]
  },
  {
   "cell_type": "code",
   "execution_count": null,
   "metadata": {},
   "outputs": [],
   "source": []
  },
  {
   "cell_type": "code",
   "execution_count": null,
   "metadata": {},
   "outputs": [],
   "source": [
    "swref.obsm[\"X_pca\"].shape"
   ]
  },
  {
   "cell_type": "code",
   "execution_count": null,
   "metadata": {},
   "outputs": [],
   "source": [
    "swref.obsm['Celltype_Score']=swref.obsm[\"X_pca\"][:,:3]"
   ]
  },
  {
   "cell_type": "code",
   "execution_count": null,
   "metadata": {},
   "outputs": [],
   "source": []
  },
  {
   "cell_type": "code",
   "execution_count": null,
   "metadata": {},
   "outputs": [],
   "source": [
    "swref=scref.copy()"
   ]
  },
  {
   "cell_type": "code",
   "execution_count": null,
   "metadata": {},
   "outputs": [],
   "source": [
    "swref,UMAPmodel=SCM.UMAPtrain(datax=swref,NN=8,mdist=0.81, rd=54321, n_comp=2)"
   ]
  },
  {
   "cell_type": "code",
   "execution_count": null,
   "metadata": {},
   "outputs": [],
   "source": [
    "        plt.figure(figsize=(7,7))\n",
    "        plt.scatter(swref.obsm[\"X_umap\"][:,0],swref.obsm[\"X_umap\"][:,1],c=swref.obs[\"color\"])"
   ]
  },
  {
   "cell_type": "code",
   "execution_count": null,
   "metadata": {
    "scrolled": true
   },
   "outputs": [],
   "source": [
    "cd F:\\Dropbox\\data\\proj\\PE_HYZ\\PublicDataSet\\NBL_SZscRNA\\SWAPLINE2"
   ]
  },
  {
   "cell_type": "code",
   "execution_count": null,
   "metadata": {
    "scrolled": false
   },
   "outputs": [],
   "source": [
    "UMAPmodel"
   ]
  },
  {
   "cell_type": "code",
   "execution_count": null,
   "metadata": {},
   "outputs": [],
   "source": [
    "X_rTest = UMAPmodel.transform(swref.obsm[\"Celltype_Score\"])"
   ]
  },
  {
   "cell_type": "code",
   "execution_count": null,
   "metadata": {},
   "outputs": [],
   "source": [
    "swref.obsm['X_umap'] = X_rTest"
   ]
  },
  {
   "cell_type": "code",
   "execution_count": null,
   "metadata": {},
   "outputs": [],
   "source": [
    "refcolor_dict = pd.Series({    'SCP':   (90,  10,  10), 'Chromaffin1': (25, 60,  130),\n",
    "                             'cycling':    (57, 105,   7),\n",
    "             'Sympath':    (170, 180, 170),'SCP':   (190,  10,  10),  'Chromaffin': (25, 60,  130),\n",
    "                             'cycling':    (57, 105,   7),\n",
    "             'sympathoblasts':    (170, 180, 170),\n",
    "                            'Diff_Glia': (235, 125,  128),  'Diff_Mes': (10,10,255),\n",
    "                          'Chromaffin':   (55, 55,  78), 'preNeuroblast':  (100, 100, 240),\n",
    "                           'Diff_Neuroblast':    (57, 105,   7),'preGlia': (175, 175,  28),\n",
    "            'Bridge_SCP':    (170, 180, 170), 'NC_prog':(249,125,5),\n",
    "                           'Connecting':    ( 95, 186,  70),  'Auto_prog':    (180, 140, 130),\n",
    "       'cyclingNeuroblast':  (100, 100, 240), 'Migr_prog': ( 80, 235, 255),  'Mes_prog':(249,125,5),\n",
    "            'cycling SCPs':(250, 125, 0),35:(230, 140, 120), 'SympNeuron':  (10,10,255),\n",
    " 'Autonomic_Prog':(0,0,255),\n",
    "     'Schwann/Glia':( 110, 140, 100),})\n",
    "#refcolor_dict =refcolor_dict.map(lambda x: list(map(lambda y: y/255., x)))"
   ]
  },
  {
   "cell_type": "code",
   "execution_count": null,
   "metadata": {},
   "outputs": [],
   "source": [
    "color_dictRef2 = refcolor_dict.map(lambda x: list(map(lambda y: y/255., x)))"
   ]
  },
  {
   "cell_type": "code",
   "execution_count": null,
   "metadata": {},
   "outputs": [],
   "source": [
    "colorlist=[]\n",
    "for item in swref.obs[\"Cluster\"]:\n",
    "    colorlist.append(color_dictRef2 [item])"
   ]
  },
  {
   "cell_type": "code",
   "execution_count": null,
   "metadata": {},
   "outputs": [],
   "source": [
    "swref.obs[\"color\"]=colorlist"
   ]
  },
  {
   "cell_type": "code",
   "execution_count": null,
   "metadata": {
    "scrolled": true
   },
   "outputs": [],
   "source": [
    "swref.obs[\"color\"]"
   ]
  },
  {
   "cell_type": "code",
   "execution_count": null,
   "metadata": {},
   "outputs": [],
   "source": [
    "def rgb_to_hex(r, g, b):\n",
    "    return ('{:02X}' * 3).format(r, g, b)"
   ]
  },
  {
   "cell_type": "code",
   "execution_count": null,
   "metadata": {
    "scrolled": true
   },
   "outputs": [],
   "source": [
    "swref.obs['color']"
   ]
  },
  {
   "cell_type": "code",
   "execution_count": null,
   "metadata": {},
   "outputs": [],
   "source": [
    "colorlistnew=[]\n",
    "for item in swref.obs['color']:\n",
    "    colorlistnew.append(\"#%s\"%rgb_to_hex(int(item[0]*255),int(item[1]*255),int(item[2]*255)))"
   ]
  },
  {
   "cell_type": "code",
   "execution_count": null,
   "metadata": {},
   "outputs": [],
   "source": [
    "swref.obs['color']=colorlistnew"
   ]
  },
  {
   "cell_type": "code",
   "execution_count": null,
   "metadata": {},
   "outputs": [],
   "source": [
    "swref.obs['color']"
   ]
  },
  {
   "cell_type": "code",
   "execution_count": null,
   "metadata": {
    "scrolled": false
   },
   "outputs": [],
   "source": [
    "plt.scatter(swref.obsm[\"X_umap\"][:,0],swref.obsm[\"X_umap\"][:,1],c=swref.obs[\"color\"])"
   ]
  },
  {
   "cell_type": "code",
   "execution_count": null,
   "metadata": {},
   "outputs": [],
   "source": []
  },
  {
   "cell_type": "code",
   "execution_count": null,
   "metadata": {},
   "outputs": [],
   "source": []
  },
  {
   "cell_type": "code",
   "execution_count": null,
   "metadata": {},
   "outputs": [],
   "source": [
    "swref=scref\n",
    "swpdt=scpdt"
   ]
  },
  {
   "cell_type": "code",
   "execution_count": null,
   "metadata": {},
   "outputs": [],
   "source": [
    "swpdt.obs[\"Sample\"]=clist"
   ]
  },
  {
   "cell_type": "code",
   "execution_count": null,
   "metadata": {
    "scrolled": true
   },
   "outputs": [],
   "source": [
    "UMAPmodel"
   ]
  },
  {
   "cell_type": "code",
   "execution_count": null,
   "metadata": {},
   "outputs": [],
   "source": [
    "swref"
   ]
  },
  {
   "cell_type": "code",
   "execution_count": null,
   "metadata": {},
   "outputs": [],
   "source": [
    "swref.obsm['Celltype_Score'].std()"
   ]
  },
  {
   "cell_type": "code",
   "execution_count": null,
   "metadata": {},
   "outputs": [],
   "source": [
    "#swpdt.obsm['Celltype_Score']=swpdt.obsm['Celltype_Score']*(swref.obsm['Celltype_Score'].std()/swpdt.obsm['Celltype_Score'].std())"
   ]
  },
  {
   "cell_type": "code",
   "execution_count": null,
   "metadata": {
    "scrolled": true
   },
   "outputs": [],
   "source": [
    "#swpdt.obsm['Celltype_Score']=((swpdt.obsm['Celltype_Score'].T-swpdt.obsm['Celltype_Score'].min(1))/(swpdt.obsm['Celltype_Score'].max(1)-swpdt.obsm['Celltype_Score'].min(1))).T"
   ]
  },
  {
   "cell_type": "code",
   "execution_count": null,
   "metadata": {
    "scrolled": false
   },
   "outputs": [],
   "source": [
    "swref"
   ]
  },
  {
   "cell_type": "code",
   "execution_count": null,
   "metadata": {},
   "outputs": [],
   "source": []
  },
  {
   "cell_type": "code",
   "execution_count": null,
   "metadata": {},
   "outputs": [],
   "source": []
  },
  {
   "cell_type": "code",
   "execution_count": null,
   "metadata": {},
   "outputs": [],
   "source": []
  },
  {
   "cell_type": "code",
   "execution_count": null,
   "metadata": {},
   "outputs": [],
   "source": []
  },
  {
   "cell_type": "code",
   "execution_count": null,
   "metadata": {},
   "outputs": [],
   "source": []
  },
  {
   "cell_type": "code",
   "execution_count": null,
   "metadata": {},
   "outputs": [],
   "source": [
    "swref=scref.copy()\n",
    "swpdt=scpdt.copy()\n",
    "#swpdt.obs[\"Sample\"]=clist"
   ]
  },
  {
   "cell_type": "code",
   "execution_count": null,
   "metadata": {},
   "outputs": [],
   "source": [
    "swpdt=SCM.transfer_learning(UMAPmodel=UMAPmodel,datapdt=swpdt, \n",
    "                                  datax=swref,clustername= 'Cluster', colorcode='color', n_neighbors=5)"
   ]
  },
  {
   "cell_type": "code",
   "execution_count": null,
   "metadata": {
    "scrolled": false
   },
   "outputs": [],
   "source": [
    "swref,swpdt, ax=SCM.UMAPplotRefPred(DataRef=swref, DataPdt=swpdt, \n",
    "                                            refClusterName= 'Cluster',pdtClusterName=  'Cluster', \n",
    "                                            refColorCode= 'color', pdtColorCode= 'color',figuresize=(10, 10),\n",
    "                    RefAlphaValue=0.6, RefLwValue=0.25, RefMarkerValue=\"x\", RefDotSize=200,\n",
    "                    PdtAlphaValue=0.9, PdtLwValue=1, PdtMarkerValue=\".\", PdtDotSize=200,\n",
    "                    lengendfont=15, RefLegendloc=2, PdtLegendloc=3, Refbbox_to_anchorvalues=(1.15, 1.15),\n",
    "                    Pdtbbox_to_anchorvalues=(1.15, 0.01))"
   ]
  },
  {
   "cell_type": "code",
   "execution_count": null,
   "metadata": {},
   "outputs": [],
   "source": [
    "swpdt"
   ]
  },
  {
   "cell_type": "code",
   "execution_count": null,
   "metadata": {},
   "outputs": [],
   "source": [
    "refcolor_dict"
   ]
  },
  {
   "cell_type": "code",
   "execution_count": null,
   "metadata": {},
   "outputs": [],
   "source": [
    "scpdt"
   ]
  },
  {
   "cell_type": "code",
   "execution_count": null,
   "metadata": {},
   "outputs": [],
   "source": [
    "scpdt.obs[\"Sample\"]"
   ]
  },
  {
   "cell_type": "code",
   "execution_count": null,
   "metadata": {},
   "outputs": [],
   "source": [
    "clist=[]\n",
    "for item in scpdt.obs[\"Sample\"]:\n",
    "    if item ==\"OE\":\n",
    "        clist.append(\"blue\")\n",
    "    else:\n",
    "        clist.append(\"red\")"
   ]
  },
  {
   "cell_type": "code",
   "execution_count": null,
   "metadata": {},
   "outputs": [],
   "source": [
    "scpdt"
   ]
  },
  {
   "cell_type": "code",
   "execution_count": null,
   "metadata": {},
   "outputs": [],
   "source": [
    "plt.scatter(swpdt.obsm[\"X_umap\"].T[0],swpdt.obsm[\"X_umap\"].T[1],c=clist,s=10)"
   ]
  },
  {
   "cell_type": "code",
   "execution_count": null,
   "metadata": {
    "scrolled": false
   },
   "outputs": [],
   "source": [
    "swpdt.obs.groupby([\"Cluster\"]).count()"
   ]
  },
  {
   "cell_type": "code",
   "execution_count": null,
   "metadata": {},
   "outputs": [],
   "source": [
    "swpdt.obs.groupby([\"Sample\"]).count()"
   ]
  },
  {
   "cell_type": "code",
   "execution_count": null,
   "metadata": {},
   "outputs": [],
   "source": [
    "swpdt.obs.groupby([\"Sample\",\"Cluster\"]).count()"
   ]
  },
  {
   "cell_type": "code",
   "execution_count": null,
   "metadata": {
    "scrolled": false
   },
   "outputs": [],
   "source": [
    "swpdt.obs.groupby([\"Sample\",\"Cluster\"]).count()/swpdt.obs.groupby([\"Sample\"]).count()"
   ]
  },
  {
   "cell_type": "code",
   "execution_count": null,
   "metadata": {
    "scrolled": false
   },
   "outputs": [],
   "source": [
    "swpdt"
   ]
  },
  {
   "cell_type": "code",
   "execution_count": null,
   "metadata": {},
   "outputs": [],
   "source": [
    "swref=scref.copy()\n",
    "swpdt=scpdt.copy()\n",
    "#swpdt.obs[\"Sample\"]=clist"
   ]
  },
  {
   "cell_type": "code",
   "execution_count": null,
   "metadata": {},
   "outputs": [],
   "source": [
    "#del swpdt.obs[\"color\"]"
   ]
  },
  {
   "cell_type": "code",
   "execution_count": null,
   "metadata": {},
   "outputs": [],
   "source": [
    "swpdt=SCM.transfer_learning(UMAPmodel=UMAPmodel,datapdt=swpdt, \n",
    "                                  datax=swref,clustername= 'Cluster', colorcode='color', n_neighbors=5)"
   ]
  },
  {
   "cell_type": "code",
   "execution_count": null,
   "metadata": {
    "scrolled": false
   },
   "outputs": [],
   "source": [
    "swpdt.obs.groupby([\"Sample\",\"Cluster\"]).count()/swpdt.obs.groupby([\"Sample\"]).count()"
   ]
  },
  {
   "cell_type": "code",
   "execution_count": null,
   "metadata": {
    "scrolled": true
   },
   "outputs": [],
   "source": [
    "adata=swpdt.copy()\n",
    "adata"
   ]
  },
  {
   "cell_type": "code",
   "execution_count": null,
   "metadata": {},
   "outputs": [],
   "source": [
    "adata=scm.CamelPrefiltering.DataScaling(adata)"
   ]
  },
  {
   "cell_type": "code",
   "execution_count": null,
   "metadata": {},
   "outputs": [],
   "source": [
    "mklistnbl=[\n",
    " \"PDGFRA\",\"PRRX1\",\"FOXC1\",\n",
    "    \"TWIST1\",\n",
    "    #\"SOX5\", \"TFAP2A\", \n",
    " # \"SOX8\",  \"SOX10\",\"ERBB3\",\n",
    "  # 'PLP1',\"MPZ\",'S100B',\n",
    "    \"E2F7\",\"ASCL1\",\"CTTNBP2\",\"HTR3A\",\n",
    "    #\"ISL1\",\n",
    "   \"PHOX2B\", \"CHGA\",\"CHGB\",\n",
    "\"TH\",\"DBH\", \"PHOX2A\", \n",
    "    \"ALK\",\"HMX1\",\"ELAVL4\",\n",
    "  \"PNMT\",\n",
    "    \"NTRK1\",\"NEFL\",\"PRPH\",]"
   ]
  },
  {
   "cell_type": "code",
   "execution_count": null,
   "metadata": {},
   "outputs": [],
   "source": [
    "from scipy.sparse import csr_matrix\n",
    "import numpy as np\n",
    "adata.X = csr_matrix(adata.X)\n",
    "adata"
   ]
  },
  {
   "cell_type": "code",
   "execution_count": null,
   "metadata": {},
   "outputs": [],
   "source": [
    "set(adata.obs[\"Cluster\"])"
   ]
  },
  {
   "cell_type": "code",
   "execution_count": null,
   "metadata": {},
   "outputs": [],
   "source": [
    "adata.obs.groupby([\"Cluster\"]).count()"
   ]
  },
  {
   "cell_type": "code",
   "execution_count": null,
   "metadata": {},
   "outputs": [],
   "source": [
    "import scanpy as sc"
   ]
  },
  {
   "cell_type": "code",
   "execution_count": null,
   "metadata": {
    "scrolled": false
   },
   "outputs": [],
   "source": [
    "custom_order_of_groups = [ \n",
    "  \n",
    "\n",
    " 'Diff_Mes',\n",
    "    'NC_prog',  \n",
    " 'Bridge_SCP',\n",
    "     'Connecting',\n",
    "    'preNeuroblast',\n",
    "    #'Chromaffin',\n",
    "'Diff_Neuroblast',\n",
    "]\n",
    "adata=adata[adata.obs[\"Cluster\"].isin(custom_order_of_groups),:]\n",
    "# Reorder the categories\n",
    "adata.obs['Cluster'] = (\n",
    "    adata.obs['Cluster']\n",
    "    .astype('category')\n",
    "    .cat.reorder_categories(custom_order_of_groups)\n",
    ")\n",
    "\n",
    "sc.set_figure_params(scanpy=True, fontsize=18)\n",
    "# Now, use dotplot\n",
    "sc.pl.dotplot(adata, var_names=mklistnbl, groupby='Cluster',figsize=(9,4),dendrogram=False, \n",
    "            color_map='coolwarm',\n",
    "           \n",
    "              dot_max=0.4,  # Adjust the max dot size\n",
    "              dot_min=0.05,\n",
    "              standard_scale=\"var\",\n",
    "             log=True\n",
    "             )"
   ]
  },
  {
   "cell_type": "code",
   "execution_count": null,
   "metadata": {},
   "outputs": [],
   "source": []
  },
  {
   "cell_type": "code",
   "execution_count": null,
   "metadata": {},
   "outputs": [],
   "source": [
    "mklistnbl=[\n",
    " \"PDGFRA\",\"PRRX1\",\n",
    "    \"TWIST1\",\n",
    "    #\"SOX5\", \"TFAP2A\", \n",
    " # \"SOX8\",  \"SOX10\",\"ERBB3\",\n",
    "  # 'PLP1',\"MPZ\",'S100B',\n",
    "    \"E2F7\",\"ASCL1\",\n",
    "    #\"ISL1\",\n",
    "  \"CHGA\",\"CHGB\",\n",
    "\"TH\",\"DBH\", \"PHOX2A\", \n",
    "  \"ELAVL4\",\n",
    "\"PRPH\",]"
   ]
  },
  {
   "cell_type": "code",
   "execution_count": null,
   "metadata": {
    "scrolled": false
   },
   "outputs": [],
   "source": [
    "custom_order_of_groups = [ \n",
    "  \n",
    "\n",
    " 'Diff_Mes',\n",
    "    'NC_prog',  \n",
    " 'Bridge_SCP',\n",
    "     'Connecting',\n",
    "    'preNeuroblast',\n",
    "    #'Chromaffin',\n",
    "'Diff_Neuroblast',\n",
    "]\n",
    "adata=adata[adata.obs[\"Cluster\"].isin(custom_order_of_groups),:]\n",
    "# Reorder the categories\n",
    "adata.obs['Cluster'] = (\n",
    "    adata.obs['Cluster']\n",
    "    .astype('category')\n",
    "    .cat.reorder_categories(custom_order_of_groups)\n",
    ")\n",
    "\n",
    "sc.set_figure_params(scanpy=True, fontsize=18)\n",
    "# Now, use dotplot\n",
    "sc.pl.dotplot(adata, var_names=mklistnbl, groupby='Cluster',figsize=(9,4),dendrogram=False, \n",
    "            color_map='coolwarm',\n",
    "           # save= \"20230830IntegratedNeuralCrestData_Human.pdf\",\n",
    "              dot_max=0.4,  # Adjust the max dot size\n",
    "              dot_min=0.05,\n",
    "              standard_scale=\"var\",\n",
    "             log=True\n",
    "             )\n",
    "#plt.savefig(\"20230830IntegratedNeuralCrestData_Human.pdf\",bbox_inches='tight')"
   ]
  },
  {
   "cell_type": "markdown",
   "metadata": {},
   "source": []
  },
  {
   "cell_type": "code",
   "execution_count": null,
   "metadata": {
    "scrolled": false
   },
   "outputs": [],
   "source": [
    "swref,swpdt, ax=SCM.UMAPplotRefPred(DataRef=swref, DataPdt=swpdt, \n",
    "                                            refClusterName= 'Cluster',pdtClusterName=  'Cluster', \n",
    "                                            refColorCode= 'color', pdtColorCode= 'color',figuresize=(10, 10),\n",
    "                    RefAlphaValue=0.6, RefLwValue=0.25, RefMarkerValue=\"x\", RefDotSize=200,\n",
    "                    PdtAlphaValue=0.9, PdtLwValue=1, PdtMarkerValue=\".\", PdtDotSize=200,\n",
    "                    lengendfont=15, RefLegendloc=2, PdtLegendloc=3, Refbbox_to_anchorvalues=(1.15, 1.15),\n",
    "                    Pdtbbox_to_anchorvalues=(1.15, 0.01))"
   ]
  },
  {
   "cell_type": "code",
   "execution_count": null,
   "metadata": {},
   "outputs": [],
   "source": [
    "        plt.figure(figsize=(7,7))\n",
    "        plt.scatter(swpdt.obsm[\"X_umap\"][:,0],swpdt.obsm[\"X_umap\"][:,1],c=swpdt.obs[\"color\"])\n",
    "        plt.grid(False)"
   ]
  },
  {
   "cell_type": "code",
   "execution_count": null,
   "metadata": {},
   "outputs": [],
   "source": []
  },
  {
   "cell_type": "code",
   "execution_count": null,
   "metadata": {},
   "outputs": [],
   "source": [
    "dfclus"
   ]
  },
  {
   "cell_type": "code",
   "execution_count": null,
   "metadata": {},
   "outputs": [],
   "source": []
  },
  {
   "cell_type": "code",
   "execution_count": null,
   "metadata": {},
   "outputs": [],
   "source": [
    "swpdt"
   ]
  },
  {
   "cell_type": "code",
   "execution_count": null,
   "metadata": {},
   "outputs": [],
   "source": []
  },
  {
   "cell_type": "code",
   "execution_count": null,
   "metadata": {},
   "outputs": [],
   "source": []
  },
  {
   "cell_type": "code",
   "execution_count": null,
   "metadata": {},
   "outputs": [],
   "source": []
  },
  {
   "cell_type": "markdown",
   "metadata": {},
   "source": [
    "# MYCN_RNA"
   ]
  },
  {
   "cell_type": "code",
   "execution_count": null,
   "metadata": {
    "scrolled": true
   },
   "outputs": [],
   "source": [
    "cd F:\\Dropbox\\data\\proj\\PE_HYZ\\PublicDataSet\\NBL_SZscRNA\\All_Dataset_Summary"
   ]
  },
  {
   "cell_type": "code",
   "execution_count": null,
   "metadata": {
    "scrolled": false
   },
   "outputs": [],
   "source": [
    "scpdt=anndata.read(\"MycnSponMutiOmicsNBL_humanAM_scRNAseq_fit_szNBLSS2ref.h5ad\")"
   ]
  },
  {
   "cell_type": "code",
   "execution_count": null,
   "metadata": {},
   "outputs": [],
   "source": [
    "scpdt=scm.CamelPrefiltering.DataScaling(scpdt)"
   ]
  },
  {
   "cell_type": "code",
   "execution_count": null,
   "metadata": {},
   "outputs": [],
   "source": [
    "scpdt"
   ]
  },
  {
   "cell_type": "code",
   "execution_count": null,
   "metadata": {},
   "outputs": [],
   "source": [
    "scpdt2=scpdt.copy()"
   ]
  },
  {
   "cell_type": "code",
   "execution_count": null,
   "metadata": {},
   "outputs": [],
   "source": [
    "scref.X.std()"
   ]
  },
  {
   "cell_type": "code",
   "execution_count": null,
   "metadata": {},
   "outputs": [],
   "source": [
    "scpdt2.X.std()"
   ]
  },
  {
   "cell_type": "code",
   "execution_count": null,
   "metadata": {},
   "outputs": [],
   "source": [
    "scpdt2.X=scpdt2.X*(scref.X.std()/scpdt2.X.std())"
   ]
  },
  {
   "cell_type": "code",
   "execution_count": null,
   "metadata": {},
   "outputs": [],
   "source": [
    "scpdt2.obs[\"Cluster\"]"
   ]
  },
  {
   "cell_type": "code",
   "execution_count": null,
   "metadata": {},
   "outputs": [],
   "source": [
    "scpdt2.X.std()"
   ]
  },
  {
   "cell_type": "code",
   "execution_count": null,
   "metadata": {},
   "outputs": [],
   "source": [
    "#scpdt2.obs[\"Cluster\"]=scpdt2.obs[\"Patient\"]"
   ]
  },
  {
   "cell_type": "code",
   "execution_count": null,
   "metadata": {},
   "outputs": [],
   "source": [
    "#scpdt2.X=scpdtbk.X**2"
   ]
  },
  {
   "cell_type": "code",
   "execution_count": null,
   "metadata": {},
   "outputs": [],
   "source": [
    "#import SCMprefiltering42 as SCMpref"
   ]
  },
  {
   "cell_type": "code",
   "execution_count": null,
   "metadata": {},
   "outputs": [],
   "source": [
    "scpdt2"
   ]
  },
  {
   "cell_type": "code",
   "execution_count": null,
   "metadata": {},
   "outputs": [],
   "source": [
    "import gc\n",
    "gc.collect()"
   ]
  },
  {
   "cell_type": "code",
   "execution_count": null,
   "metadata": {
    "scrolled": true
   },
   "outputs": [],
   "source": [
    "scpdt =scm.CamelPrefiltering.MVgene_Scaling(datax=scpdt2.copy(),TPTT=10000,   commongene=scref.var.index.tolist(),  \n",
    "                                        sharedMVgenes=scref.uns[ 'train_set_gene'].tolist(),\n",
    "                                                                                            std_scaling=False,score=None, thrs=None,  mprotogruop=None,\n",
    "    tftable=\"f:/Dropbox/data/proj/PE_HYZ/PublicDataSet/FantomTF2CLUSTER_human_official.txt\", learninggroup=\"test\")\n",
    "\n"
   ]
  },
  {
   "cell_type": "markdown",
   "metadata": {},
   "source": [
    "clist=[]\n",
    "for item in scpdt.obs.index:\n",
    "    clist.append(item.split(\"_\")[0])"
   ]
  },
  {
   "cell_type": "markdown",
   "metadata": {},
   "source": [
    "scpdt.obs[\"Cluster\"]=clist\n",
    "scpdt.obs[\"Sample\"]=clist"
   ]
  },
  {
   "cell_type": "code",
   "execution_count": null,
   "metadata": {
    "scrolled": true
   },
   "outputs": [],
   "source": [
    "set(scpdt.obs[\"Cluster\"])"
   ]
  },
  {
   "cell_type": "code",
   "execution_count": null,
   "metadata": {},
   "outputs": [],
   "source": [
    "scpdt.uns[\"mwanted_order\"]=['Bridge_SCP',\n",
    " 'Chromaffin',\n",
    " 'Connecting',\n",
    " 'Diff_Neuroblast',\n",
    " 'NC_prog',\n",
    " 'preNeuroblast']\n",
    "scpdt.uns[\"refcolor_dict\"] = pd.Series({    'SCP':   (90,  10,  10), 'Chromaffin1': (25, 60,  130),\n",
    "                             'cycling':    (57, 105,   7),\n",
    "             'Sympath':    (170, 180, 170),'SCP':   (190,  10,  10),  'Chromaffin': (25, 60,  130),\n",
    "                             'cycling':    (57, 105,   7),\n",
    "             'sympathoblasts':    (170, 180, 170),\n",
    "                            'Diff_Glia': (235, 125,  128),  'Diff_Mes': (10,10,255),\n",
    "                          'Chromaffin':   (55, 55,  78), 'preNeuroblast':  (100, 100, 240),\n",
    "                           'Diff_Neuroblast':    (57, 105,   7),'preGlia': (175, 175,  28),\n",
    "            'Bridge_SCP':    (170, 180, 170), 'NC_prog':(249,125,5),\n",
    "                           'Connecting':    ( 95, 186,  70),  'Auto_prog':    (180, 140, 130),\n",
    "       'cyclingNeuroblast':  (100, 100, 240), 'Migr_prog': ( 80, 235, 255),  'Mes_prog':(249,125,5),\n",
    "            'cycling SCPs':(250, 125, 0),35:(230, 140, 120), 'SympNeuron':  (10,10,255),\n",
    " 'Autonomic_Prog':(0,0,255),\n",
    "     'Schwann/Glia':( 110, 140, 100),})"
   ]
  },
  {
   "cell_type": "code",
   "execution_count": null,
   "metadata": {
    "scrolled": false
   },
   "outputs": [],
   "source": [
    "cd f:\\Dropbox\\data\\proj\\PE_HYZ\\BuidingCode\\SWAPLINE2\\SWAPLINE2"
   ]
  },
  {
   "cell_type": "code",
   "execution_count": null,
   "metadata": {},
   "outputs": [],
   "source": [
    "scpdt.obs"
   ]
  },
  {
   "cell_type": "code",
   "execution_count": null,
   "metadata": {},
   "outputs": [],
   "source": [
    "del scpdt.obs[\"color\"]"
   ]
  },
  {
   "cell_type": "code",
   "execution_count": null,
   "metadata": {},
   "outputs": [],
   "source": [
    "import SW2main160 as SCM\n",
    "scpdt=SCM.addcolor(datax=scpdt,clustername=\"Cluster\", colorcode=\"color\",predef=color_dictclpn)"
   ]
  },
  {
   "cell_type": "code",
   "execution_count": null,
   "metadata": {
    "scrolled": true
   },
   "outputs": [],
   "source": [
    "set(scpdt.obs[\"Cluster\"])"
   ]
  },
  {
   "cell_type": "code",
   "execution_count": null,
   "metadata": {},
   "outputs": [],
   "source": [
    "scpdt.uns[\"mwanted_order\"]= ['Bridge_SCP',\n",
    " 'Chromaffin',\n",
    " 'Connecting',\n",
    " 'Diff_Neuroblast',\n",
    " 'NC_prog',\n",
    " 'preNeuroblast']\n"
   ]
  },
  {
   "cell_type": "code",
   "execution_count": null,
   "metadata": {},
   "outputs": [],
   "source": [
    "scpdt"
   ]
  },
  {
   "cell_type": "code",
   "execution_count": null,
   "metadata": {
    "scrolled": false
   },
   "outputs": [],
   "source": [
    "#import SW2main82 as SCM\n",
    "scpdt=SCM.prediction(datax=scpdt, mcolor_dict=scpdt.uns[\"refcolor_dict\"],net=net,learninggroup=\"test\", radarplot=True, fontsizeValue=15,\n",
    "              datarefplot=scref, ncolnm=1, bbValue=(1.1, 1.05))"
   ]
  },
  {
   "cell_type": "code",
   "execution_count": null,
   "metadata": {
    "scrolled": true
   },
   "outputs": [],
   "source": [
    "scpdt"
   ]
  },
  {
   "cell_type": "code",
   "execution_count": null,
   "metadata": {},
   "outputs": [],
   "source": [
    "scpdt.obs"
   ]
  },
  {
   "cell_type": "code",
   "execution_count": null,
   "metadata": {},
   "outputs": [],
   "source": []
  },
  {
   "cell_type": "code",
   "execution_count": null,
   "metadata": {},
   "outputs": [],
   "source": [
    "swref=scref.copy()\n",
    "swpdt=scpdt.copy()\n",
    "#swpdt.obs[\"Sample\"]=clist"
   ]
  },
  {
   "cell_type": "code",
   "execution_count": null,
   "metadata": {},
   "outputs": [],
   "source": [
    "#del swpdt.obs[\"color\"]"
   ]
  },
  {
   "cell_type": "code",
   "execution_count": null,
   "metadata": {},
   "outputs": [],
   "source": [
    "swpdt=SCM.transfer_learning(UMAPmodel=UMAPmodel,datapdt=swpdt, \n",
    "                                  datax=swref,clustername= 'Cluster', colorcode='color', n_neighbors=50)"
   ]
  },
  {
   "cell_type": "code",
   "execution_count": null,
   "metadata": {},
   "outputs": [],
   "source": [
    "swpdt.obs.groupby([\"Cluster\"]).count()"
   ]
  },
  {
   "cell_type": "code",
   "execution_count": null,
   "metadata": {},
   "outputs": [],
   "source": [
    "#swpdt.obs=scpdt.obs"
   ]
  },
  {
   "cell_type": "code",
   "execution_count": null,
   "metadata": {},
   "outputs": [],
   "source": []
  },
  {
   "cell_type": "code",
   "execution_count": null,
   "metadata": {},
   "outputs": [],
   "source": [
    "swpdt"
   ]
  },
  {
   "cell_type": "code",
   "execution_count": null,
   "metadata": {},
   "outputs": [],
   "source": [
    "import gc\n",
    "gc.collect()"
   ]
  },
  {
   "cell_type": "code",
   "execution_count": null,
   "metadata": {
    "scrolled": true
   },
   "outputs": [],
   "source": [
    "adata=swpdt.copy()\n",
    "adata"
   ]
  },
  {
   "cell_type": "code",
   "execution_count": null,
   "metadata": {},
   "outputs": [],
   "source": [
    "adata=scm.CamelPrefiltering.DataScaling(adata)"
   ]
  },
  {
   "cell_type": "code",
   "execution_count": null,
   "metadata": {},
   "outputs": [],
   "source": [
    "mklistnbl=[\n",
    " \"PDGFRA\",\"PRRX1\",\"FOXC1\",\n",
    "    \"TWIST1\",\n",
    "    #\"SOX5\", \"TFAP2A\", \n",
    " # \"SOX8\",  \"SOX10\",\"ERBB3\",\n",
    "  # 'PLP1',\"MPZ\",'S100B',\n",
    "    \"E2F7\",\"ASCL1\",\"CTTNBP2\",\"HTR3A\",\n",
    "    #\"ISL1\",\n",
    "   \"PHOX2B\", \"CHGA\",\"CHGB\",\n",
    "\"TH\",\"DBH\", \"PHOX2A\", \n",
    "    \"ALK\",\"HMX1\",\"ELAVL4\",\n",
    "  \"PNMT\",\n",
    "    \"NTRK1\",\"NEFL\",\"PRPH\",]"
   ]
  },
  {
   "cell_type": "code",
   "execution_count": null,
   "metadata": {},
   "outputs": [],
   "source": [
    "from scipy.sparse import csr_matrix\n",
    "import numpy as np\n",
    "adata.X = csr_matrix(adata.X)\n",
    "adata"
   ]
  },
  {
   "cell_type": "code",
   "execution_count": null,
   "metadata": {},
   "outputs": [],
   "source": [
    "set(adata.obs[\"Cluster\"])"
   ]
  },
  {
   "cell_type": "code",
   "execution_count": null,
   "metadata": {},
   "outputs": [],
   "source": [
    "adata.obs.groupby([\"Cluster\"]).count()"
   ]
  },
  {
   "cell_type": "code",
   "execution_count": null,
   "metadata": {
    "scrolled": false
   },
   "outputs": [],
   "source": [
    "import scanpy as sc\n",
    "custom_order_of_groups = [ \n",
    "  \n",
    "\n",
    "# 'Diff_Mes',\n",
    "  #  'NC_prog',  \n",
    " 'Bridge_SCP',\n",
    "     'Connecting',\n",
    "    'preNeuroblast',\n",
    " #   'Chromaffin',\n",
    "'Diff_Neuroblast',\n",
    "]\n",
    "adata=adata[adata.obs[\"Cluster\"].isin(custom_order_of_groups),:]\n",
    "# Reorder the categories\n",
    "adata.obs['Cluster'] = (\n",
    "    adata.obs['Cluster']\n",
    "    .astype('category')\n",
    "    .cat.reorder_categories(custom_order_of_groups)\n",
    ")\n",
    "\n",
    "sc.set_figure_params(scanpy=True, fontsize=18)\n",
    "# Now, use dotplot\n",
    "sc.pl.dotplot(adata, var_names=mklistnbl, groupby='Cluster',figsize=(9,4),dendrogram=False, \n",
    "            color_map='coolwarm',\n",
    "           \n",
    "              dot_max=0.4,  # Adjust the max dot size\n",
    "              dot_min=0.01,\n",
    "              standard_scale=\"var\",\n",
    "            # log=True\n",
    "             )"
   ]
  },
  {
   "cell_type": "code",
   "execution_count": null,
   "metadata": {},
   "outputs": [],
   "source": []
  },
  {
   "cell_type": "code",
   "execution_count": null,
   "metadata": {
    "scrolled": false
   },
   "outputs": [],
   "source": [
    "swref,swpdt, ax=SCM.UMAPplotRefPred(DataRef=swref, DataPdt=swpdt, \n",
    "                                            refClusterName= 'Cluster',pdtClusterName=  'Cluster', \n",
    "                                            refColorCode= 'color', pdtColorCode= 'color',figuresize=(10, 10),\n",
    "                    RefAlphaValue=0.6, RefLwValue=0.25, RefMarkerValue=\"x\", RefDotSize=200,\n",
    "                    PdtAlphaValue=0.9, PdtLwValue=1, PdtMarkerValue=\".\", PdtDotSize=200,\n",
    "                    lengendfont=15, RefLegendloc=2, PdtLegendloc=3, Refbbox_to_anchorvalues=(1.15, 1.15),\n",
    "                    Pdtbbox_to_anchorvalues=(1.15, 0.01))"
   ]
  },
  {
   "cell_type": "code",
   "execution_count": null,
   "metadata": {
    "scrolled": false
   },
   "outputs": [],
   "source": [
    "        plt.figure(figsize=(7,7))\n",
    "        plt.scatter(swpdt.obsm[\"X_umap\"][:,0],swpdt.obsm[\"X_umap\"][:,1],c=swpdt.obs[\"color\"])\n",
    "        plt.grid(False)"
   ]
  },
  {
   "cell_type": "code",
   "execution_count": null,
   "metadata": {},
   "outputs": [],
   "source": [
    "swpdt.write(\"MycnSponMutiOmicsNBL_humanAM_scRNAseq_fit_szNBLSS2ref.h5ad\")"
   ]
  },
  {
   "cell_type": "code",
   "execution_count": null,
   "metadata": {},
   "outputs": [],
   "source": []
  },
  {
   "cell_type": "code",
   "execution_count": null,
   "metadata": {},
   "outputs": [],
   "source": []
  },
  {
   "cell_type": "code",
   "execution_count": null,
   "metadata": {},
   "outputs": [],
   "source": []
  },
  {
   "cell_type": "markdown",
   "metadata": {},
   "source": [
    "# MYCN_ATAC"
   ]
  },
  {
   "cell_type": "code",
   "execution_count": null,
   "metadata": {
    "scrolled": true
   },
   "outputs": [],
   "source": [
    "cd F:\\Dropbox\\data\\proj\\PE_HYZ\\PublicDataSet\\NBL_SZscRNA\\All_Dataset_Summary"
   ]
  },
  {
   "cell_type": "code",
   "execution_count": null,
   "metadata": {
    "scrolled": false
   },
   "outputs": [],
   "source": [
    "scpdt=anndata.read(\"MycnSponMutiOmicsNBL_humanAM_ATACtransRNA_fit_szNBLSS2ref.h5ad\")"
   ]
  },
  {
   "cell_type": "code",
   "execution_count": null,
   "metadata": {},
   "outputs": [],
   "source": [
    "scpdt=scm.CamelPrefiltering.DataScaling(scpdt)"
   ]
  },
  {
   "cell_type": "code",
   "execution_count": null,
   "metadata": {},
   "outputs": [],
   "source": [
    "scpdt"
   ]
  },
  {
   "cell_type": "code",
   "execution_count": null,
   "metadata": {},
   "outputs": [],
   "source": [
    "scpdt2=scpdt.copy()"
   ]
  },
  {
   "cell_type": "code",
   "execution_count": null,
   "metadata": {},
   "outputs": [],
   "source": [
    "scpdt2.X=scpdt2.X*(scref.X.std()/scpdt2.X.std())"
   ]
  },
  {
   "cell_type": "code",
   "execution_count": null,
   "metadata": {},
   "outputs": [],
   "source": [
    "scpdt2.obs[\"Cluster\"]"
   ]
  },
  {
   "cell_type": "code",
   "execution_count": null,
   "metadata": {},
   "outputs": [],
   "source": [
    "scpdt2.X.std()"
   ]
  },
  {
   "cell_type": "code",
   "execution_count": null,
   "metadata": {},
   "outputs": [],
   "source": [
    "#scpdt2.obs[\"Cluster\"]=scpdt2.obs[\"Patient\"]"
   ]
  },
  {
   "cell_type": "code",
   "execution_count": null,
   "metadata": {},
   "outputs": [],
   "source": [
    "#scpdt2.X=scpdtbk.X**2"
   ]
  },
  {
   "cell_type": "code",
   "execution_count": null,
   "metadata": {},
   "outputs": [],
   "source": [
    "#import SCMprefiltering42 as SCMpref"
   ]
  },
  {
   "cell_type": "code",
   "execution_count": null,
   "metadata": {},
   "outputs": [],
   "source": [
    "scpdt2"
   ]
  },
  {
   "cell_type": "code",
   "execution_count": null,
   "metadata": {},
   "outputs": [],
   "source": [
    "import gc\n",
    "gc.collect()"
   ]
  },
  {
   "cell_type": "code",
   "execution_count": null,
   "metadata": {
    "scrolled": true
   },
   "outputs": [],
   "source": [
    "scpdt =scm.CamelPrefiltering.MVgene_Scaling(datax=scpdt2.copy(),TPTT=10000,   commongene=scref.var.index.tolist(),  \n",
    "                                        sharedMVgenes=scref.uns[ 'train_set_gene'].tolist(),\n",
    "                                                                                            std_scaling=False,score=None, thrs=None,  mprotogruop=None,\n",
    "    tftable=\"f:/Dropbox/data/proj/PE_HYZ/PublicDataSet/FantomTF2CLUSTER_human_official.txt\", learninggroup=\"test\")\n",
    "\n"
   ]
  },
  {
   "cell_type": "markdown",
   "metadata": {},
   "source": [
    "clist=[]\n",
    "for item in scpdt.obs.index:\n",
    "    clist.append(item.split(\"_\")[0])"
   ]
  },
  {
   "cell_type": "markdown",
   "metadata": {},
   "source": [
    "scpdt.obs[\"Cluster\"]=clist\n",
    "scpdt.obs[\"Sample\"]=clist"
   ]
  },
  {
   "cell_type": "code",
   "execution_count": null,
   "metadata": {
    "scrolled": true
   },
   "outputs": [],
   "source": [
    "set(scpdt.obs[\"Cluster\"])"
   ]
  },
  {
   "cell_type": "code",
   "execution_count": null,
   "metadata": {},
   "outputs": [],
   "source": [
    "scpdt.uns[\"mwanted_order\"]=['Bridge_SCP',\n",
    " 'Chromaffin',\n",
    " 'Connecting',\n",
    " 'Diff_Neuroblast',\n",
    " 'NC_prog',\n",
    " 'preNeuroblast']\n",
    "scpdt.uns[\"refcolor_dict\"] = pd.Series({    'SCP':   (90,  10,  10), 'Chromaffin1': (25, 60,  130),\n",
    "                             'cycling':    (57, 105,   7),\n",
    "             'Sympath':    (170, 180, 170),'SCP':   (190,  10,  10),  'Chromaffin': (25, 60,  130),\n",
    "                             'cycling':    (57, 105,   7),\n",
    "             'sympathoblasts':    (170, 180, 170),\n",
    "                            'Diff_Glia': (235, 125,  128),  'Diff_Mes': (10,10,255),\n",
    "                          'Chromaffin':   (55, 55,  78), 'preNeuroblast':  (100, 100, 240),\n",
    "                           'Diff_Neuroblast':    (57, 105,   7),'preGlia': (175, 175,  28),\n",
    "            'Bridge_SCP':    (170, 180, 170), 'NC_prog':(249,125,5),\n",
    "                           'Connecting':    ( 95, 186,  70),  'Auto_prog':    (180, 140, 130),\n",
    "       'cyclingNeuroblast':  (100, 100, 240), 'Migr_prog': ( 80, 235, 255),  'Mes_prog':(249,125,5),\n",
    "            'cycling SCPs':(250, 125, 0),35:(230, 140, 120), 'SympNeuron':  (10,10,255),\n",
    " 'Autonomic_Prog':(0,0,255),\n",
    "     'Schwann/Glia':( 110, 140, 100),})"
   ]
  },
  {
   "cell_type": "code",
   "execution_count": null,
   "metadata": {
    "scrolled": false
   },
   "outputs": [],
   "source": [
    "cd f:\\Dropbox\\data\\proj\\PE_HYZ\\BuidingCode\\SWAPLINE2\\SWAPLINE2"
   ]
  },
  {
   "cell_type": "code",
   "execution_count": null,
   "metadata": {},
   "outputs": [],
   "source": [
    "scpdt.obs"
   ]
  },
  {
   "cell_type": "code",
   "execution_count": null,
   "metadata": {},
   "outputs": [],
   "source": [
    "del scpdt.obs[\"color\"]"
   ]
  },
  {
   "cell_type": "code",
   "execution_count": null,
   "metadata": {},
   "outputs": [],
   "source": [
    "import SW2main160 as SCM\n",
    "scpdt=SCM.addcolor(datax=scpdt,clustername=\"Cluster\", colorcode=\"color\",predef=refcolor_dict)"
   ]
  },
  {
   "cell_type": "code",
   "execution_count": null,
   "metadata": {
    "scrolled": true
   },
   "outputs": [],
   "source": [
    "set(scpdt.obs[\"Cluster\"])"
   ]
  },
  {
   "cell_type": "code",
   "execution_count": null,
   "metadata": {},
   "outputs": [],
   "source": [
    "scpdt.uns[\"mwanted_order\"]= ['Bridge_SCP',\n",
    " 'Chromaffin',\n",
    " 'Connecting',\n",
    "\n",
    " 'NC_prog',\n",
    " 'preNeuroblast']\n"
   ]
  },
  {
   "cell_type": "code",
   "execution_count": null,
   "metadata": {},
   "outputs": [],
   "source": [
    "scpdt"
   ]
  },
  {
   "cell_type": "code",
   "execution_count": null,
   "metadata": {
    "scrolled": false
   },
   "outputs": [],
   "source": [
    "#import SW2main82 as SCM\n",
    "scpdt=SCM.prediction(datax=scpdt, mcolor_dict=scpdt.uns[\"refcolor_dict\"],net=net,learninggroup=\"test\", radarplot=True, fontsizeValue=15,\n",
    "              datarefplot=scref, ncolnm=1, bbValue=(1.1, 1.05))"
   ]
  },
  {
   "cell_type": "code",
   "execution_count": null,
   "metadata": {
    "scrolled": true
   },
   "outputs": [],
   "source": [
    "scpdt"
   ]
  },
  {
   "cell_type": "code",
   "execution_count": null,
   "metadata": {},
   "outputs": [],
   "source": [
    "scpdt.obs"
   ]
  },
  {
   "cell_type": "code",
   "execution_count": null,
   "metadata": {},
   "outputs": [],
   "source": []
  },
  {
   "cell_type": "code",
   "execution_count": null,
   "metadata": {},
   "outputs": [],
   "source": [
    "swref=scref.copy()\n",
    "swpdt=scpdt.copy()\n",
    "#swpdt.obs[\"Sample\"]=clist"
   ]
  },
  {
   "cell_type": "code",
   "execution_count": null,
   "metadata": {},
   "outputs": [],
   "source": [
    "#del swpdt.obs[\"color\"]"
   ]
  },
  {
   "cell_type": "code",
   "execution_count": null,
   "metadata": {},
   "outputs": [],
   "source": []
  },
  {
   "cell_type": "code",
   "execution_count": null,
   "metadata": {},
   "outputs": [],
   "source": [
    "swpdt=SCM.transfer_learning(UMAPmodel=UMAPmodel,datapdt=swpdt, \n",
    "                                  datax=swref,clustername= 'Cluster', colorcode='color', n_neighbors=50)"
   ]
  },
  {
   "cell_type": "code",
   "execution_count": null,
   "metadata": {},
   "outputs": [],
   "source": [
    "swpdt.obs.groupby([\"Cluster\"]).count()"
   ]
  },
  {
   "cell_type": "code",
   "execution_count": null,
   "metadata": {},
   "outputs": [],
   "source": [
    "#swpdt.obs=scpdt.obs"
   ]
  },
  {
   "cell_type": "code",
   "execution_count": null,
   "metadata": {},
   "outputs": [],
   "source": []
  },
  {
   "cell_type": "code",
   "execution_count": null,
   "metadata": {},
   "outputs": [],
   "source": []
  },
  {
   "cell_type": "code",
   "execution_count": null,
   "metadata": {
    "scrolled": true
   },
   "outputs": [],
   "source": [
    "swpdt"
   ]
  },
  {
   "cell_type": "code",
   "execution_count": null,
   "metadata": {},
   "outputs": [],
   "source": []
  },
  {
   "cell_type": "code",
   "execution_count": null,
   "metadata": {
    "scrolled": true
   },
   "outputs": [],
   "source": [
    "import gc\n",
    "gc.collect()"
   ]
  },
  {
   "cell_type": "code",
   "execution_count": null,
   "metadata": {
    "scrolled": true
   },
   "outputs": [],
   "source": [
    "adata=swpdt.copy()\n",
    "adata"
   ]
  },
  {
   "cell_type": "code",
   "execution_count": null,
   "metadata": {},
   "outputs": [],
   "source": [
    "adata=scm.CamelPrefiltering.DataScaling(adata)"
   ]
  },
  {
   "cell_type": "code",
   "execution_count": null,
   "metadata": {},
   "outputs": [],
   "source": [
    "mklistnbl=[\n",
    " \"PDGFRA\",\"PRRX1\",\"FOXC1\",\n",
    "    \"TWIST1\",\n",
    "    #\"SOX5\", \"TFAP2A\", \n",
    " # \"SOX8\",  \"SOX10\",\"ERBB3\",\n",
    "  # 'PLP1',\"MPZ\",'S100B',\n",
    "    \"E2F7\",\"ASCL1\",\"CTTNBP2\",\"HTR3A\",\n",
    "    #\"ISL1\",\n",
    "   \"PHOX2B\", \"CHGA\",\"CHGB\",\n",
    "\"TH\",\"DBH\", \"PHOX2A\", \n",
    "    \"ALK\",\"HMX1\",\"ELAVL4\",\n",
    "#  \"PNMT\",\n",
    "    \"NTRK1\",\"NEFL\",\"PRPH\",]"
   ]
  },
  {
   "cell_type": "code",
   "execution_count": null,
   "metadata": {},
   "outputs": [],
   "source": [
    "from scipy.sparse import csr_matrix\n",
    "import numpy as np\n",
    "adata.X = csr_matrix(adata.X)\n",
    "adata"
   ]
  },
  {
   "cell_type": "code",
   "execution_count": null,
   "metadata": {},
   "outputs": [],
   "source": [
    "set(adata.obs[\"Cluster\"])"
   ]
  },
  {
   "cell_type": "code",
   "execution_count": null,
   "metadata": {},
   "outputs": [],
   "source": [
    "adata.obs.groupby([\"Cluster\"]).count()"
   ]
  },
  {
   "cell_type": "code",
   "execution_count": null,
   "metadata": {
    "scrolled": false
   },
   "outputs": [],
   "source": [
    "import scanpy as sc\n",
    "custom_order_of_groups = [ \n",
    "  \n",
    "\n",
    "# 'Diff_Mes',\n",
    "    'NC_prog',  \n",
    " 'Bridge_SCP',\n",
    "     'Connecting',\n",
    "    'preNeuroblast',\n",
    " #   'Chromaffin',\n",
    "'Diff_Neuroblast',\n",
    "]\n",
    "adata=adata[adata.obs[\"Cluster\"].isin(custom_order_of_groups),:]\n",
    "# Reorder the categories\n",
    "adata.obs['Cluster'] = (\n",
    "    adata.obs['Cluster']\n",
    "    .astype('category')\n",
    "    .cat.reorder_categories(custom_order_of_groups)\n",
    ")\n",
    "\n",
    "sc.set_figure_params(scanpy=True, fontsize=18)\n",
    "# Now, use dotplot\n",
    "sc.pl.dotplot(adata, var_names=mklistnbl, groupby='Cluster',figsize=(9,4),dendrogram=False, \n",
    "            color_map='coolwarm',\n",
    "           # save= \"20230830IntegratedNeuralCrestData_Human.pdf\",\n",
    "              dot_max=0.45,  # Adjust the max dot size\n",
    "              dot_min=0.001,\n",
    "              standard_scale=\"var\",\n",
    "            # log=True\n",
    "             )\n",
    "#plt.savefig(\"20230830IntegratedNeuralCrestData_Human.pdf\",bbox_inches='tight')"
   ]
  },
  {
   "cell_type": "code",
   "execution_count": null,
   "metadata": {},
   "outputs": [],
   "source": []
  },
  {
   "cell_type": "code",
   "execution_count": null,
   "metadata": {
    "scrolled": false
   },
   "outputs": [],
   "source": [
    "swref,swpdt, ax=SCM.UMAPplotRefPred(DataRef=swref, DataPdt=swpdt, \n",
    "                                            refClusterName= 'Cluster',pdtClusterName=  'Cluster', \n",
    "                                            refColorCode= 'color', pdtColorCode= 'color',figuresize=(10, 10),\n",
    "                    RefAlphaValue=0.6, RefLwValue=0.25, RefMarkerValue=\"x\", RefDotSize=200,\n",
    "                    PdtAlphaValue=0.9, PdtLwValue=1, PdtMarkerValue=\".\", PdtDotSize=200,\n",
    "                    lengendfont=15, RefLegendloc=2, PdtLegendloc=3, Refbbox_to_anchorvalues=(1.15, 1.15),\n",
    "                    Pdtbbox_to_anchorvalues=(1.15, 0.01))"
   ]
  },
  {
   "cell_type": "code",
   "execution_count": null,
   "metadata": {
    "scrolled": false
   },
   "outputs": [],
   "source": [
    "        plt.figure(figsize=(7,7))\n",
    "        plt.scatter(swpdt.obsm[\"X_umap\"][:,0],swpdt.obsm[\"X_umap\"][:,1],c=swpdt.obs[\"color\"])\n",
    "        plt.grid(False)"
   ]
  },
  {
   "cell_type": "code",
   "execution_count": null,
   "metadata": {
    "scrolled": false
   },
   "outputs": [],
   "source": [
    "cd F:\\Dropbox\\data\\proj\\PE_HYZ\\PublicDataSet\\NBL_SZscRNA\\All_Dataset_Summary"
   ]
  },
  {
   "cell_type": "code",
   "execution_count": null,
   "metadata": {},
   "outputs": [],
   "source": [
    "del swpdt.uns[\"refcolor_dict\"]"
   ]
  },
  {
   "cell_type": "code",
   "execution_count": null,
   "metadata": {},
   "outputs": [],
   "source": [
    "swpdt.write(\"MycnSponMutiOmicsNBL_humanAM_ATACtransRNA_fit_szNBLSS2ref.h5ad\")"
   ]
  },
  {
   "cell_type": "code",
   "execution_count": null,
   "metadata": {},
   "outputs": [],
   "source": [
    "swpdt=anndata.read(MycnSponMutiOmicsNBL_humanAM_ATACtransRNA_fit_szNBLSS2ref.h5ad\")"
   ]
  },
  {
   "cell_type": "code",
   "execution_count": null,
   "metadata": {},
   "outputs": [],
   "source": []
  },
  {
   "cell_type": "markdown",
   "metadata": {},
   "source": [
    "# N2A_RNA"
   ]
  },
  {
   "cell_type": "code",
   "execution_count": null,
   "metadata": {
    "scrolled": true
   },
   "outputs": [],
   "source": [
    "cd F:\\Dropbox\\data\\proj\\PE_HYZ\\PublicDataSet\\NBL_SZscRNA\\All_Dataset_Summary"
   ]
  },
  {
   "cell_type": "code",
   "execution_count": null,
   "metadata": {
    "scrolled": false
   },
   "outputs": [],
   "source": [
    "scpdt=anndata.read(\"N2A_MutiOmicsNBL_humanAM_scRNAseq_fit_szNBLSS2ref.h5ad\")"
   ]
  },
  {
   "cell_type": "code",
   "execution_count": null,
   "metadata": {},
   "outputs": [],
   "source": [
    "scpdt=scm.CamelPrefiltering.DataScaling(scpdt)"
   ]
  },
  {
   "cell_type": "code",
   "execution_count": null,
   "metadata": {},
   "outputs": [],
   "source": [
    "scpdt"
   ]
  },
  {
   "cell_type": "code",
   "execution_count": null,
   "metadata": {},
   "outputs": [],
   "source": [
    "scpdt2=scpdt.copy()"
   ]
  },
  {
   "cell_type": "code",
   "execution_count": null,
   "metadata": {},
   "outputs": [],
   "source": [
    "scref.X.std()"
   ]
  },
  {
   "cell_type": "code",
   "execution_count": null,
   "metadata": {},
   "outputs": [],
   "source": [
    "scpdt2.X.std()"
   ]
  },
  {
   "cell_type": "code",
   "execution_count": null,
   "metadata": {},
   "outputs": [],
   "source": [
    "scpdt2.X=scpdt2.X*(scref.X.std()/scpdt2.X.std())"
   ]
  },
  {
   "cell_type": "code",
   "execution_count": null,
   "metadata": {},
   "outputs": [],
   "source": [
    "scpdt2.obs[\"Cluster\"]"
   ]
  },
  {
   "cell_type": "code",
   "execution_count": null,
   "metadata": {},
   "outputs": [],
   "source": [
    "scpdt2.X.std()"
   ]
  },
  {
   "cell_type": "code",
   "execution_count": null,
   "metadata": {},
   "outputs": [],
   "source": [
    "#scpdt2.obs[\"Cluster\"]=scpdt2.obs[\"Patient\"]"
   ]
  },
  {
   "cell_type": "code",
   "execution_count": null,
   "metadata": {},
   "outputs": [],
   "source": [
    "#scpdt2.X=scpdtbk.X**2"
   ]
  },
  {
   "cell_type": "code",
   "execution_count": null,
   "metadata": {},
   "outputs": [],
   "source": [
    "#import SCMprefiltering42 as SCMpref"
   ]
  },
  {
   "cell_type": "code",
   "execution_count": null,
   "metadata": {},
   "outputs": [],
   "source": [
    "scpdt2"
   ]
  },
  {
   "cell_type": "code",
   "execution_count": null,
   "metadata": {},
   "outputs": [],
   "source": [
    "import gc\n",
    "gc.collect()"
   ]
  },
  {
   "cell_type": "code",
   "execution_count": null,
   "metadata": {
    "scrolled": true
   },
   "outputs": [],
   "source": [
    "scpdt =scm.CamelPrefiltering.MVgene_Scaling(datax=scpdt2.copy(),TPTT=10000,   commongene=scref.var.index.tolist(),  \n",
    "                                        sharedMVgenes=scref.uns[ 'train_set_gene'].tolist(),\n",
    "                                                                                            std_scaling=False,score=None, thrs=None,  mprotogruop=None,\n",
    "    tftable=\"f:/Dropbox/data/proj/PE_HYZ/PublicDataSet/FantomTF2CLUSTER_human_official.txt\", learninggroup=\"test\")\n",
    "\n"
   ]
  },
  {
   "cell_type": "markdown",
   "metadata": {},
   "source": [
    "clist=[]\n",
    "for item in scpdt.obs.index:\n",
    "    clist.append(item.split(\"_\")[0])"
   ]
  },
  {
   "cell_type": "markdown",
   "metadata": {},
   "source": [
    "scpdt.obs[\"Cluster\"]=clist\n",
    "scpdt.obs[\"Sample\"]=clist"
   ]
  },
  {
   "cell_type": "code",
   "execution_count": null,
   "metadata": {
    "scrolled": true
   },
   "outputs": [],
   "source": [
    "set(scpdt.obs[\"Cluster\"])"
   ]
  },
  {
   "cell_type": "code",
   "execution_count": null,
   "metadata": {},
   "outputs": [],
   "source": [
    "scpdt.uns[\"mwanted_order\"]=['Bridge_SCP',\n",
    " 'Chromaffin',\n",
    " 'Connecting',\n",
    " 'Diff_Neuroblast',\n",
    " 'NC_prog',\n",
    " 'preNeuroblast']\n",
    "scpdt.uns[\"refcolor_dict\"] = pd.Series({    'SCP':   (90,  10,  10), 'Chromaffin1': (25, 60,  130),\n",
    "                             'cycling':    (57, 105,   7),\n",
    "             'Sympath':    (170, 180, 170),'SCP':   (190,  10,  10),  'Chromaffin': (25, 60,  130),\n",
    "                             'cycling':    (57, 105,   7),\n",
    "             'sympathoblasts':    (170, 180, 170),\n",
    "                            'Diff_Glia': (235, 125,  128),  'Diff_Mes': (10,10,255),\n",
    "                          'Chromaffin':   (55, 55,  78), 'preNeuroblast':  (100, 100, 240),\n",
    "                           'Diff_Neuroblast':    (57, 105,   7),'preGlia': (175, 175,  28),\n",
    "            'Bridge_SCP':    (170, 180, 170), 'NC_prog':(249,125,5),\n",
    "                           'Connecting':    ( 95, 186,  70),  'Auto_prog':    (180, 140, 130),\n",
    "       'cyclingNeuroblast':  (100, 100, 240), 'Migr_prog': ( 80, 235, 255),  'Mes_prog':(249,125,5),\n",
    "            'cycling SCPs':(250, 125, 0),35:(230, 140, 120), 'SympNeuron':  (10,10,255),\n",
    " 'Autonomic_Prog':(0,0,255),\n",
    "     'Schwann/Glia':( 110, 140, 100),})"
   ]
  },
  {
   "cell_type": "code",
   "execution_count": null,
   "metadata": {
    "scrolled": false
   },
   "outputs": [],
   "source": [
    "cd f:\\Dropbox\\data\\proj\\PE_HYZ\\BuidingCode\\SWAPLINE2\\SWAPLINE2"
   ]
  },
  {
   "cell_type": "code",
   "execution_count": null,
   "metadata": {},
   "outputs": [],
   "source": [
    "scpdt.obs"
   ]
  },
  {
   "cell_type": "code",
   "execution_count": null,
   "metadata": {},
   "outputs": [],
   "source": [
    "del scpdt.obs[\"color\"]"
   ]
  },
  {
   "cell_type": "code",
   "execution_count": null,
   "metadata": {},
   "outputs": [],
   "source": [
    "import SW2main160 as SCM\n",
    "scpdt=SCM.addcolor(datax=scpdt,clustername=\"Cluster\", colorcode=\"color\",predef=refcolor_dict)"
   ]
  },
  {
   "cell_type": "code",
   "execution_count": null,
   "metadata": {
    "scrolled": true
   },
   "outputs": [],
   "source": [
    "set(scpdt.obs[\"Cluster\"])"
   ]
  },
  {
   "cell_type": "code",
   "execution_count": null,
   "metadata": {},
   "outputs": [],
   "source": [
    "scpdt.uns[\"mwanted_order\"]= ['Bridge_SCP',\n",
    "# 'Chromaffin',\n",
    " 'Connecting',\n",
    "\n",
    " 'NC_prog',\n",
    " 'preNeuroblast']\n"
   ]
  },
  {
   "cell_type": "code",
   "execution_count": null,
   "metadata": {},
   "outputs": [],
   "source": [
    "scpdt"
   ]
  },
  {
   "cell_type": "code",
   "execution_count": null,
   "metadata": {
    "scrolled": false
   },
   "outputs": [],
   "source": [
    "#import SW2main82 as SCM\n",
    "scpdt=SCM.prediction(datax=scpdt, mcolor_dict=scpdt.uns[\"refcolor_dict\"],net=net,learninggroup=\"test\", radarplot=True, fontsizeValue=15,\n",
    "              datarefplot=scref, ncolnm=1, bbValue=(1.1, 1.05))"
   ]
  },
  {
   "cell_type": "code",
   "execution_count": null,
   "metadata": {
    "scrolled": true
   },
   "outputs": [],
   "source": [
    "scpdt"
   ]
  },
  {
   "cell_type": "code",
   "execution_count": null,
   "metadata": {},
   "outputs": [],
   "source": [
    "scpdt.obs"
   ]
  },
  {
   "cell_type": "code",
   "execution_count": null,
   "metadata": {},
   "outputs": [],
   "source": []
  },
  {
   "cell_type": "code",
   "execution_count": null,
   "metadata": {},
   "outputs": [],
   "source": [
    "swref=scref.copy()\n",
    "swpdt=scpdt.copy()\n",
    "#swpdt.obs[\"Sample\"]=clist"
   ]
  },
  {
   "cell_type": "code",
   "execution_count": null,
   "metadata": {},
   "outputs": [],
   "source": [
    "#del swpdt.obs[\"color\"]"
   ]
  },
  {
   "cell_type": "code",
   "execution_count": null,
   "metadata": {},
   "outputs": [],
   "source": []
  },
  {
   "cell_type": "code",
   "execution_count": null,
   "metadata": {
    "scrolled": true
   },
   "outputs": [],
   "source": [
    "cd F:\\Dropbox\\data\\proj\\PE_HYZ\\PublicDataSet\\NBL_SZscRNA\\SWAPLINE2"
   ]
  },
  {
   "cell_type": "code",
   "execution_count": null,
   "metadata": {},
   "outputs": [],
   "source": [
    "swpdt=SCM.transfer_learning(UMAPmodel=UMAPmodel,datapdt=swpdt, \n",
    "                                  datax=swref,clustername= 'Cluster', colorcode='color', n_neighbors=30)"
   ]
  },
  {
   "cell_type": "code",
   "execution_count": null,
   "metadata": {},
   "outputs": [],
   "source": [
    "swpdt.obs.groupby([\"Cluster\"]).count()"
   ]
  },
  {
   "cell_type": "code",
   "execution_count": null,
   "metadata": {},
   "outputs": [],
   "source": [
    "#swpdt.obs=scpdt.obs"
   ]
  },
  {
   "cell_type": "code",
   "execution_count": null,
   "metadata": {},
   "outputs": [],
   "source": []
  },
  {
   "cell_type": "code",
   "execution_count": null,
   "metadata": {},
   "outputs": [],
   "source": []
  },
  {
   "cell_type": "code",
   "execution_count": null,
   "metadata": {},
   "outputs": [],
   "source": [
    "cd F:\\Dropbox\\data\\proj\\PE_HYZ\\PublicDataSet\\NBL_SZscRNA\\All_Dataset_Summary"
   ]
  },
  {
   "cell_type": "code",
   "execution_count": null,
   "metadata": {},
   "outputs": [],
   "source": [
    "swpdt=anndata.read(\"N2A_MutiOmicsNBL_humanAM_ATACtransRNA_fit_szNBLSS2ref.h5ad\")"
   ]
  },
  {
   "cell_type": "code",
   "execution_count": null,
   "metadata": {
    "scrolled": true
   },
   "outputs": [],
   "source": [
    "import gc\n",
    "gc.collect()"
   ]
  },
  {
   "cell_type": "code",
   "execution_count": null,
   "metadata": {
    "scrolled": true
   },
   "outputs": [],
   "source": [
    "adata=swpdt.copy()\n",
    "adata"
   ]
  },
  {
   "cell_type": "code",
   "execution_count": null,
   "metadata": {},
   "outputs": [],
   "source": [
    "adata=scm.CamelPrefiltering.DataScaling(adata)"
   ]
  },
  {
   "cell_type": "code",
   "execution_count": null,
   "metadata": {},
   "outputs": [],
   "source": [
    "mklistnbl=[\n",
    " \"PDGFRA\",\"PRRX1\",\"FOXC1\",\n",
    "    \"TWIST1\",\n",
    "    #\"SOX5\", \"TFAP2A\", \n",
    " # \"SOX8\",  \"SOX10\",\"ERBB3\",\n",
    "  # 'PLP1',\"MPZ\",'S100B',\n",
    "    \"E2F7\",\"ASCL1\",\"CTTNBP2\",\"HTR3A\",\n",
    "    #\"ISL1\",\n",
    "   \"PHOX2B\", \"CHGA\",\"CHGB\",\n",
    "\"TH\",\"DBH\", \"PHOX2A\", \n",
    "    \"ALK\",\"HMX1\",\"ELAVL4\",\n",
    "  \"PNMT\",\n",
    "    \"NTRK1\",\"NEFL\",\"PRPH\",]"
   ]
  },
  {
   "cell_type": "code",
   "execution_count": null,
   "metadata": {},
   "outputs": [],
   "source": [
    "from scipy.sparse import csr_matrix\n",
    "import numpy as np\n",
    "adata.X = csr_matrix(adata.X)\n",
    "adata"
   ]
  },
  {
   "cell_type": "code",
   "execution_count": null,
   "metadata": {},
   "outputs": [],
   "source": [
    "set(adata.obs[\"Cluster\"])"
   ]
  },
  {
   "cell_type": "code",
   "execution_count": null,
   "metadata": {},
   "outputs": [],
   "source": [
    "adata.obs.groupby([\"Cluster\"]).count()"
   ]
  },
  {
   "cell_type": "code",
   "execution_count": null,
   "metadata": {
    "scrolled": false
   },
   "outputs": [],
   "source": [
    "import scanpy as sc\n",
    "custom_order_of_groups = [ \n",
    "  \n",
    "\n",
    " #'Diff_Mes',\n",
    "    'NC_prog',  \n",
    " 'Bridge_SCP',\n",
    "     'Connecting',\n",
    "    'preNeuroblast',\n",
    " #   'Chromaffin',\n",
    "#'Diff_Neuroblast',\n",
    "]\n",
    "adata=adata[adata.obs[\"Cluster\"].isin(custom_order_of_groups),:]\n",
    "# Reorder the categories\n",
    "adata.obs['Cluster'] = (\n",
    "    adata.obs['Cluster']\n",
    "    .astype('category')\n",
    "    .cat.reorder_categories(custom_order_of_groups)\n",
    ")\n",
    "\n",
    "sc.set_figure_params(scanpy=True, fontsize=18)\n",
    "# Now, use dotplot\n",
    "sc.pl.dotplot(adata, var_names=mklistnbl, groupby='Cluster',figsize=(9,4),dendrogram=False, \n",
    "            color_map='coolwarm',\n",
    "           # save= \"20230830IntegratedNeuralCrestData_Human.pdf\",\n",
    "              dot_max=0.4,  # Adjust the max dot size\n",
    "              dot_min=0.001,\n",
    "              standard_scale=\"var\",\n",
    "             log=True\n",
    "             )\n",
    "#plt.savefig(\"20230830IntegratedNeuralCrestData_Human.pdf\",bbox_inches='tight')"
   ]
  },
  {
   "cell_type": "code",
   "execution_count": null,
   "metadata": {},
   "outputs": [],
   "source": []
  },
  {
   "cell_type": "code",
   "execution_count": null,
   "metadata": {
    "scrolled": false
   },
   "outputs": [],
   "source": [
    "swref,swpdt, ax=SCM.UMAPplotRefPred(DataRef=swref, DataPdt=swpdt, \n",
    "                                            refClusterName= 'Cluster',pdtClusterName=  'Cluster', \n",
    "                                            refColorCode= 'color', pdtColorCode= 'color',figuresize=(10, 10),\n",
    "                    RefAlphaValue=0.6, RefLwValue=0.25, RefMarkerValue=\"x\", RefDotSize=200,\n",
    "                    PdtAlphaValue=0.9, PdtLwValue=1, PdtMarkerValue=\".\", PdtDotSize=200,\n",
    "                    lengendfont=15, RefLegendloc=2, PdtLegendloc=3, Refbbox_to_anchorvalues=(1.15, 1.15),\n",
    "                    Pdtbbox_to_anchorvalues=(1.15, 0.01))"
   ]
  },
  {
   "cell_type": "code",
   "execution_count": null,
   "metadata": {
    "scrolled": false
   },
   "outputs": [],
   "source": [
    "        plt.figure(figsize=(7,7))\n",
    "        plt.scatter(swpdt.obsm[\"X_umap\"][:,0],swpdt.obsm[\"X_umap\"][:,1],c=swpdt.obs[\"color\"])\n",
    "        plt.grid(False)"
   ]
  },
  {
   "cell_type": "code",
   "execution_count": null,
   "metadata": {
    "scrolled": true
   },
   "outputs": [],
   "source": [
    "cd F:\\Dropbox\\data\\proj\\PE_HYZ\\PublicDataSet\\NBL_SZscRNA\\All_Dataset_Summary"
   ]
  },
  {
   "cell_type": "code",
   "execution_count": null,
   "metadata": {},
   "outputs": [],
   "source": []
  },
  {
   "cell_type": "code",
   "execution_count": null,
   "metadata": {},
   "outputs": [],
   "source": []
  },
  {
   "cell_type": "code",
   "execution_count": null,
   "metadata": {},
   "outputs": [],
   "source": []
  },
  {
   "cell_type": "markdown",
   "metadata": {},
   "source": [
    "# N2A_ATACtrans"
   ]
  },
  {
   "cell_type": "code",
   "execution_count": null,
   "metadata": {
    "scrolled": true
   },
   "outputs": [],
   "source": [
    "cd F:\\Dropbox\\data\\proj\\PE_HYZ\\PublicDataSet\\NBL_SZscRNA\\All_Dataset_Summary"
   ]
  },
  {
   "cell_type": "code",
   "execution_count": null,
   "metadata": {
    "scrolled": false
   },
   "outputs": [],
   "source": [
    "scpdt=anndata.read(\"upload_N2A_mutiOmicsNBL_ATACconvertedExpression.h5ad\")"
   ]
  },
  {
   "cell_type": "code",
   "execution_count": null,
   "metadata": {},
   "outputs": [],
   "source": [
    "scpdt.X=scpdt.X.todense()"
   ]
  },
  {
   "cell_type": "code",
   "execution_count": null,
   "metadata": {},
   "outputs": [],
   "source": [
    "scpdt=scm.CamelPrefiltering.DataScaling(scpdt)"
   ]
  },
  {
   "cell_type": "code",
   "execution_count": null,
   "metadata": {},
   "outputs": [],
   "source": [
    "scpdt"
   ]
  },
  {
   "cell_type": "code",
   "execution_count": null,
   "metadata": {},
   "outputs": [],
   "source": [
    "scpdt2=scpdt.copy()"
   ]
  },
  {
   "cell_type": "code",
   "execution_count": null,
   "metadata": {},
   "outputs": [],
   "source": [
    "scref.X.std()"
   ]
  },
  {
   "cell_type": "code",
   "execution_count": null,
   "metadata": {},
   "outputs": [],
   "source": [
    "scpdt2.X.std()"
   ]
  },
  {
   "cell_type": "code",
   "execution_count": null,
   "metadata": {},
   "outputs": [],
   "source": [
    "scpdt2.X=scpdt2.X*(scref.X.std()/scpdt2.X.std())"
   ]
  },
  {
   "cell_type": "code",
   "execution_count": null,
   "metadata": {
    "scrolled": true
   },
   "outputs": [],
   "source": [
    "#scpdt2.obs[\"Cluster\"]=scpdt2.obs[\"RNACluster\"]"
   ]
  },
  {
   "cell_type": "code",
   "execution_count": null,
   "metadata": {},
   "outputs": [],
   "source": [
    "scpdt2.X.std()"
   ]
  },
  {
   "cell_type": "code",
   "execution_count": null,
   "metadata": {},
   "outputs": [],
   "source": [
    "#scpdt2.obs[\"Cluster\"]=scpdt2.obs[\"Patient\"]"
   ]
  },
  {
   "cell_type": "code",
   "execution_count": null,
   "metadata": {},
   "outputs": [],
   "source": [
    "#scpdt2.X=scpdtbk.X**2"
   ]
  },
  {
   "cell_type": "code",
   "execution_count": null,
   "metadata": {},
   "outputs": [],
   "source": [
    "#import SCMprefiltering42 as SCMpref"
   ]
  },
  {
   "cell_type": "code",
   "execution_count": null,
   "metadata": {
    "scrolled": true
   },
   "outputs": [],
   "source": [
    "scpdt2"
   ]
  },
  {
   "cell_type": "code",
   "execution_count": null,
   "metadata": {},
   "outputs": [],
   "source": [
    "scpdt2.obs[\"Cluster\"]=scpdt2.obs[\"RNACluster\"]"
   ]
  },
  {
   "cell_type": "code",
   "execution_count": null,
   "metadata": {},
   "outputs": [],
   "source": [
    "import gc\n",
    "gc.collect()"
   ]
  },
  {
   "cell_type": "code",
   "execution_count": null,
   "metadata": {
    "scrolled": true
   },
   "outputs": [],
   "source": [
    "scpdt =scm.CamelPrefiltering.MVgene_Scaling(datax=scpdt2.copy(),TPTT=100000,   commongene=scref.var.index.tolist(),  \n",
    "                                        sharedMVgenes=scref.uns[ 'train_set_gene'].tolist(),\n",
    "                                                                                            std_scaling=False,score=None, thrs=None,  mprotogruop=None,\n",
    "    tftable=\"f:/Dropbox/data/proj/PE_HYZ/PublicDataSet/FantomTF2CLUSTER_human_official.txt\", learninggroup=\"test\")\n",
    "\n"
   ]
  },
  {
   "cell_type": "markdown",
   "metadata": {},
   "source": [
    "clist=[]\n",
    "for item in scpdt.obs.index:\n",
    "    clist.append(item.split(\"_\")[0])"
   ]
  },
  {
   "cell_type": "markdown",
   "metadata": {},
   "source": [
    "scpdt.obs[\"Cluster\"]=clist\n",
    "scpdt.obs[\"Sample\"]=clist"
   ]
  },
  {
   "cell_type": "code",
   "execution_count": null,
   "metadata": {
    "scrolled": true
   },
   "outputs": [],
   "source": [
    "set(scpdt.obs[\"Cluster\"])"
   ]
  },
  {
   "cell_type": "code",
   "execution_count": null,
   "metadata": {},
   "outputs": [],
   "source": [
    "scpdt.uns[\"mwanted_order\"]=['Bridge_SCP',\n",
    " 'Connecting',\n",
    " 'Diff_Mes',\n",
    " 'Diff_Neuroblast',\n",
    " 'NC_prog',\n",
    " 'preNeuroblast']\n",
    "scpdt.uns[\"refcolor_dict\"] = pd.Series({    'SCP':   (90,  10,  10), 'Chromaffin1': (25, 60,  130),\n",
    "                             'cycling':    (57, 105,   7),\n",
    "             'Sympath':    (170, 180, 170),'SCP':   (190,  10,  10),  'Chromaffin': (25, 60,  130),\n",
    "                             'cycling':    (57, 105,   7),\n",
    "             'sympathoblasts':    (170, 180, 170),\n",
    "                            'Diff_Glia': (235, 125,  128),  'Diff_Mes': (10,10,255),\n",
    "                          'Chromaffin':   (55, 55,  78), 'preNeuroblast':  (100, 100, 240),\n",
    "                           'Diff_Neuroblast':    (57, 105,   7),'preGlia': (175, 175,  28),\n",
    "            'Bridge_SCP':    (170, 180, 170), 'NC_prog':(249,125,5),\n",
    "                           'Connecting':    ( 95, 186,  70),  'Auto_prog':    (180, 140, 130),\n",
    "       'cyclingNeuroblast':  (100, 100, 240), 'Migr_prog': ( 80, 235, 255),  'Mes_prog':(249,125,5),\n",
    "            'cycling SCPs':(250, 125, 0),35:(230, 140, 120), 'SympNeuron':  (10,10,255),\n",
    " 'Autonomic_Prog':(0,0,255),\n",
    "     'Schwann/Glia':( 110, 140, 100),})"
   ]
  },
  {
   "cell_type": "code",
   "execution_count": null,
   "metadata": {
    "scrolled": false
   },
   "outputs": [],
   "source": [
    "cd f:\\Dropbox\\data\\proj\\PE_HYZ\\BuidingCode\\SWAPLINE2\\SWAPLINE2"
   ]
  },
  {
   "cell_type": "code",
   "execution_count": null,
   "metadata": {},
   "outputs": [],
   "source": [
    "scpdt.obs"
   ]
  },
  {
   "cell_type": "code",
   "execution_count": null,
   "metadata": {},
   "outputs": [],
   "source": [
    "#del scpdt.obs[\"color\"]"
   ]
  },
  {
   "cell_type": "code",
   "execution_count": null,
   "metadata": {},
   "outputs": [],
   "source": [
    "import SW2main160 as SCM\n",
    "scpdt=SCM.addcolor(datax=scpdt,clustername=\"Cluster\", colorcode=\"color\",predef=refcolor_dict)"
   ]
  },
  {
   "cell_type": "code",
   "execution_count": null,
   "metadata": {
    "scrolled": true
   },
   "outputs": [],
   "source": [
    "set(scpdt.obs[\"Cluster\"])"
   ]
  },
  {
   "cell_type": "code",
   "execution_count": null,
   "metadata": {},
   "outputs": [],
   "source": [
    "scpdt.uns[\"mwanted_order\"]= ['Bridge_SCP',\n",
    "# 'Chromaffin',\n",
    " 'Diff_Mes',\n",
    " 'Connecting',\n",
    "'Diff_Neuroblast',\n",
    " 'NC_prog',\n",
    " 'preNeuroblast']\n"
   ]
  },
  {
   "cell_type": "code",
   "execution_count": null,
   "metadata": {},
   "outputs": [],
   "source": [
    "scpdt"
   ]
  },
  {
   "cell_type": "code",
   "execution_count": null,
   "metadata": {
    "scrolled": false
   },
   "outputs": [],
   "source": [
    "#import SW2main82 as SCM\n",
    "scpdt=SCM.prediction(datax=scpdt, mcolor_dict=scpdt.uns[\"refcolor_dict\"],net=net,learninggroup=\"test\", radarplot=True, fontsizeValue=15,\n",
    "              datarefplot=scref, ncolnm=1, bbValue=(1.1, 1.05))"
   ]
  },
  {
   "cell_type": "code",
   "execution_count": null,
   "metadata": {
    "scrolled": false
   },
   "outputs": [],
   "source": [
    "scpdt"
   ]
  },
  {
   "cell_type": "code",
   "execution_count": null,
   "metadata": {},
   "outputs": [],
   "source": [
    "scpdt.obs"
   ]
  },
  {
   "cell_type": "code",
   "execution_count": null,
   "metadata": {},
   "outputs": [],
   "source": []
  },
  {
   "cell_type": "code",
   "execution_count": null,
   "metadata": {},
   "outputs": [],
   "source": [
    "swref=scref.copy()\n",
    "swpdt=scpdt.copy()\n",
    "#swpdt.obs[\"Sample\"]=clist"
   ]
  },
  {
   "cell_type": "code",
   "execution_count": null,
   "metadata": {},
   "outputs": [],
   "source": [
    "#del swpdt.obs[\"color\"]"
   ]
  },
  {
   "cell_type": "code",
   "execution_count": null,
   "metadata": {
    "scrolled": true
   },
   "outputs": [],
   "source": [
    "cd F:\\Dropbox\\data\\proj\\PE_HYZ\\PublicDataSet\\NBL_SZscRNA\\SWAPLINE2"
   ]
  },
  {
   "cell_type": "code",
   "execution_count": null,
   "metadata": {},
   "outputs": [],
   "source": [
    "swpdt=SCM.transfer_learning(UMAPmodel=UMAPmodel,datapdt=swpdt, \n",
    "                                  datax=swref,clustername= 'Cluster', colorcode='color', n_neighbors=35)"
   ]
  },
  {
   "cell_type": "code",
   "execution_count": null,
   "metadata": {},
   "outputs": [],
   "source": [
    "swpdt.obs.groupby([\"Cluster\"]).count()"
   ]
  },
  {
   "cell_type": "code",
   "execution_count": null,
   "metadata": {},
   "outputs": [],
   "source": [
    "#swpdt.obs=scpdt.obs"
   ]
  },
  {
   "cell_type": "code",
   "execution_count": null,
   "metadata": {},
   "outputs": [],
   "source": []
  },
  {
   "cell_type": "code",
   "execution_count": null,
   "metadata": {},
   "outputs": [],
   "source": []
  },
  {
   "cell_type": "markdown",
   "metadata": {},
   "source": [
    "swpdt=SCM.transfer_learning(UMAPmodel=UMAPmodel,datapdt=swpdt, \n",
    "                                  datax=swref,clustername= 'Cluster', colorcode='color', n_neighbors=50)"
   ]
  },
  {
   "cell_type": "code",
   "execution_count": null,
   "metadata": {
    "scrolled": true
   },
   "outputs": [],
   "source": [
    "import gc\n",
    "gc.collect()"
   ]
  },
  {
   "cell_type": "code",
   "execution_count": null,
   "metadata": {
    "scrolled": true
   },
   "outputs": [],
   "source": [
    "adata=swpdt.copy()\n",
    "adata"
   ]
  },
  {
   "cell_type": "code",
   "execution_count": null,
   "metadata": {},
   "outputs": [],
   "source": [
    "adata=scm.CamelPrefiltering.DataScaling(adata)"
   ]
  },
  {
   "cell_type": "code",
   "execution_count": null,
   "metadata": {},
   "outputs": [],
   "source": [
    "#adata.X=log2(adata.X+1)"
   ]
  },
  {
   "cell_type": "code",
   "execution_count": null,
   "metadata": {},
   "outputs": [],
   "source": [
    "mklistnbl=[\n",
    " \"PDGFRA\",\n",
    "    #\"PRRX1\",\n",
    "    \"FOXC1\",\n",
    "    \"TWIST1\",\n",
    "    #\"SOX5\", \"TFAP2A\", \n",
    " # \"SOX8\",  \"SOX10\",\"ERBB3\",\n",
    "  # 'PLP1',\"MPZ\",'S100B',\n",
    "    \"E2F7\",\"ASCL1\",\"CTTNBP2\",\"HTR3A\",\n",
    "    #\"ISL1\",\n",
    "   \"PHOX2B\", \"CHGA\",\"CHGB\",\n",
    "\"TH\",\"DBH\", \"PHOX2A\", \n",
    "    \"ALK\",\"HMX1\",\"ELAVL4\",\n",
    "  \"PNMT\",\n",
    "    \"NTRK1\",\"NEFL\",\"PRPH\",]"
   ]
  },
  {
   "cell_type": "code",
   "execution_count": null,
   "metadata": {},
   "outputs": [],
   "source": [
    "from scipy.sparse import csr_matrix\n",
    "import numpy as np\n",
    "adata.X = csr_matrix(adata.X)\n",
    "adata"
   ]
  },
  {
   "cell_type": "code",
   "execution_count": null,
   "metadata": {},
   "outputs": [],
   "source": [
    "set(adata.obs[\"Cluster\"])"
   ]
  },
  {
   "cell_type": "code",
   "execution_count": null,
   "metadata": {},
   "outputs": [],
   "source": [
    "adata.obs.groupby([\"Cluster\"]).count()"
   ]
  },
  {
   "cell_type": "code",
   "execution_count": null,
   "metadata": {
    "scrolled": false
   },
   "outputs": [],
   "source": [
    "import scanpy as sc\n",
    "custom_order_of_groups = [ \n",
    "  \n",
    "\n",
    "# 'Diff_Mes',\n",
    "    'NC_prog',  \n",
    " 'Bridge_SCP',\n",
    "     'Connecting',\n",
    "    'preNeuroblast',\n",
    " #   'Chromaffin',\n",
    "'Diff_Neuroblast',\n",
    "]\n",
    "adata=adata[adata.obs[\"Cluster\"].isin(custom_order_of_groups),:]\n",
    "# Reorder the categories\n",
    "adata.obs['Cluster'] = (\n",
    "    adata.obs['Cluster']\n",
    "    .astype('category')\n",
    "    .cat.reorder_categories(custom_order_of_groups)\n",
    ")\n",
    "\n",
    "sc.set_figure_params(scanpy=True, fontsize=18)\n",
    "# Now, use dotplot\n",
    "sc.pl.dotplot(adata, var_names=mklistnbl, groupby='Cluster',figsize=(9,4),dendrogram=False, \n",
    "            color_map='coolwarm',\n",
    "           # save= \"20230830IntegratedNeuralCrestData_Human.pdf\",\n",
    "              dot_max=0.4,  # Adjust the max dot size\n",
    "              dot_min=0.005,\n",
    "              standard_scale=\"var\",\n",
    "             #log=True\n",
    "             )\n",
    "#plt.savefig(\"20230830IntegratedNeuralCrestData_Human.pdf\",bbox_inches='tight')"
   ]
  },
  {
   "cell_type": "code",
   "execution_count": null,
   "metadata": {
    "scrolled": false
   },
   "outputs": [],
   "source": [
    "swref,swpdt, ax=SCM.UMAPplotRefPred(DataRef=swref, DataPdt=swpdt, \n",
    "                                            refClusterName= 'Cluster',pdtClusterName=  'Cluster', \n",
    "                                            refColorCode= 'color', pdtColorCode= 'color',figuresize=(10, 10),\n",
    "                    RefAlphaValue=0.6, RefLwValue=0.25, RefMarkerValue=\"x\", RefDotSize=200,\n",
    "                    PdtAlphaValue=0.9, PdtLwValue=1, PdtMarkerValue=\".\", PdtDotSize=200,\n",
    "                    lengendfont=15, RefLegendloc=2, PdtLegendloc=3, Refbbox_to_anchorvalues=(1.15, 1.15),\n",
    "                    Pdtbbox_to_anchorvalues=(1.15, 0.01))"
   ]
  },
  {
   "cell_type": "code",
   "execution_count": null,
   "metadata": {
    "scrolled": false
   },
   "outputs": [],
   "source": [
    "        plt.figure(figsize=(7,7))\n",
    "        plt.scatter(swpdt.obsm[\"X_umap\"][:,0],swpdt.obsm[\"X_umap\"][:,1],c=swpdt.obs[\"color\"])\n",
    "        plt.grid(False)"
   ]
  },
  {
   "cell_type": "code",
   "execution_count": null,
   "metadata": {},
   "outputs": [],
   "source": []
  },
  {
   "cell_type": "code",
   "execution_count": null,
   "metadata": {
    "scrolled": true
   },
   "outputs": [],
   "source": [
    "cd F:\\Dropbox\\data\\proj\\PE_HYZ\\PublicDataSet\\NBL_SZscRNA\\All_Dataset_Summary"
   ]
  },
  {
   "cell_type": "code",
   "execution_count": null,
   "metadata": {},
   "outputs": [],
   "source": [
    "del swpdt.uns[\"refcolor_dict\"]"
   ]
  },
  {
   "cell_type": "code",
   "execution_count": null,
   "metadata": {},
   "outputs": [],
   "source": []
  },
  {
   "cell_type": "code",
   "execution_count": null,
   "metadata": {},
   "outputs": [],
   "source": []
  },
  {
   "cell_type": "code",
   "execution_count": null,
   "metadata": {},
   "outputs": [],
   "source": []
  },
  {
   "cell_type": "code",
   "execution_count": null,
   "metadata": {},
   "outputs": [],
   "source": []
  },
  {
   "cell_type": "code",
   "execution_count": null,
   "metadata": {
    "scrolled": false
   },
   "outputs": [],
   "source": [
    "cd F:\\Dropbox\\data\\proj\\PE_HYZ\\PublicDataSet\\NBL_SZscRNA\\SWAPLINE2"
   ]
  },
  {
   "cell_type": "code",
   "execution_count": null,
   "metadata": {
    "scrolled": false
   },
   "outputs": [],
   "source": [
    "swpdt=anndata.read(\"CellLineLearning3.h5ad\")"
   ]
  },
  {
   "cell_type": "code",
   "execution_count": null,
   "metadata": {},
   "outputs": [],
   "source": [
    "swpdt"
   ]
  },
  {
   "cell_type": "code",
   "execution_count": null,
   "metadata": {},
   "outputs": [],
   "source": [
    "swpdt.uns['Celltype_OrderNumber']"
   ]
  },
  {
   "cell_type": "code",
   "execution_count": null,
   "metadata": {},
   "outputs": [],
   "source": [
    "swpdt.obsm[\"Celltype_Score\"]=data"
   ]
  },
  {
   "cell_type": "code",
   "execution_count": null,
   "metadata": {
    "scrolled": true
   },
   "outputs": [],
   "source": [
    "cd F:\\Dropbox\\data\\proj\\PE_HYZ\\PublicDataSet\\NBL_SZscRNA\\SWAPLINE2"
   ]
  },
  {
   "cell_type": "code",
   "execution_count": null,
   "metadata": {},
   "outputs": [],
   "source": [
    "swpdt=SCM.transfer_learning(UMAPmodel=UMAPmodel,datapdt=swpdt, \n",
    "                                  datax=swref,clustername= 'Cluster', colorcode='color', n_neighbors=30)"
   ]
  },
  {
   "cell_type": "code",
   "execution_count": null,
   "metadata": {},
   "outputs": [],
   "source": [
    "swpdt.obs.groupby([\"Cluster\"]).count()"
   ]
  },
  {
   "cell_type": "code",
   "execution_count": null,
   "metadata": {
    "scrolled": true
   },
   "outputs": [],
   "source": [
    "import gc\n",
    "gc.collect()"
   ]
  },
  {
   "cell_type": "code",
   "execution_count": null,
   "metadata": {
    "scrolled": true
   },
   "outputs": [],
   "source": [
    "adata=swpdt.copy()\n",
    "adata"
   ]
  },
  {
   "cell_type": "code",
   "execution_count": null,
   "metadata": {},
   "outputs": [],
   "source": [
    "adata=scm.CamelPrefiltering.DataScaling(adata)"
   ]
  },
  {
   "cell_type": "code",
   "execution_count": null,
   "metadata": {},
   "outputs": [],
   "source": [
    "#adata.X=log2(adata.X+1)"
   ]
  },
  {
   "cell_type": "code",
   "execution_count": null,
   "metadata": {},
   "outputs": [],
   "source": [
    "mklistnbl=[\n",
    " \"PDGFRA\",\n",
    "    \"PRRX1\",\n",
    "    \"FOXC1\",\n",
    "    \"TWIST1\",\n",
    "    #\"SOX5\", \"TFAP2A\", \n",
    " # \"SOX8\",  \"SOX10\",\"ERBB3\",\n",
    "  # 'PLP1',\"MPZ\",'S100B',\n",
    "    \"E2F7\",\"ASCL1\",\"CTTNBP2\",\"HTR3A\",\n",
    "    #\"ISL1\",\n",
    "   \"PHOX2B\", \"CHGA\",\"CHGB\",\n",
    "\"TH\",\"DBH\", \"PHOX2A\", \n",
    "    \"ALK\",\"HMX1\",\"ELAVL4\",\n",
    "  \"PNMT\",\n",
    "    \"NTRK1\",\n",
    "    #\"NEFL\",\n",
    "    \"PRPH\",]"
   ]
  },
  {
   "cell_type": "code",
   "execution_count": null,
   "metadata": {},
   "outputs": [],
   "source": [
    "from scipy.sparse import csr_matrix\n",
    "import numpy as np\n",
    "adata.X = csr_matrix(adata.X)\n",
    "adata"
   ]
  },
  {
   "cell_type": "code",
   "execution_count": null,
   "metadata": {},
   "outputs": [],
   "source": [
    "set(adata.obs[\"Cluster\"])"
   ]
  },
  {
   "cell_type": "code",
   "execution_count": null,
   "metadata": {},
   "outputs": [],
   "source": [
    "adata.obs.groupby([\"Cluster\"]).count()"
   ]
  },
  {
   "cell_type": "code",
   "execution_count": null,
   "metadata": {
    "scrolled": false
   },
   "outputs": [],
   "source": [
    "import scanpy as sc\n",
    "custom_order_of_groups = [ \n",
    "  \n",
    "\n",
    "# 'Diff_Mes',\n",
    "    'NC_prog',  \n",
    " 'Bridge_SCP',\n",
    "     'Connecting',\n",
    "    'preNeuroblast',\n",
    " #   'Chromaffin',\n",
    "#'Diff_Neuroblast',\n",
    "]\n",
    "adata=adata[adata.obs[\"Cluster\"].isin(custom_order_of_groups),:]\n",
    "# Reorder the categories\n",
    "adata.obs['Cluster'] = (\n",
    "    adata.obs['Cluster']\n",
    "    .astype('category')\n",
    "    .cat.reorder_categories(custom_order_of_groups)\n",
    ")\n",
    "\n",
    "sc.set_figure_params(scanpy=True, fontsize=18)\n",
    "# Now, use dotplot\n",
    "sc.pl.dotplot(adata, var_names=mklistnbl, groupby='Cluster',figsize=(9,4),dendrogram=False, \n",
    "            color_map='coolwarm',\n",
    "           # save= \"20230830IntegratedNeuralCrestData_Human.pdf\",\n",
    "              dot_max=0.4,  # Adjust the max dot size\n",
    "              dot_min=0.001,\n",
    "              standard_scale=\"var\",\n",
    "             #log=True\n",
    "             )\n",
    "#plt.savefig(\"20230830IntegratedNeuralCrestData_Human.pdf\",bbox_inches='tight')"
   ]
  },
  {
   "cell_type": "code",
   "execution_count": null,
   "metadata": {
    "scrolled": false
   },
   "outputs": [],
   "source": [
    "swref,swpdt, ax=SCM.UMAPplotRefPred(DataRef=swref, DataPdt=swpdt, \n",
    "                                            refClusterName= 'Cluster',pdtClusterName=  'Cluster', \n",
    "                                            refColorCode= 'color', pdtColorCode= 'color',figuresize=(10, 10),\n",
    "                    RefAlphaValue=0.6, RefLwValue=0.25, RefMarkerValue=\"x\", RefDotSize=200,\n",
    "                    PdtAlphaValue=0.9, PdtLwValue=1, PdtMarkerValue=\".\", PdtDotSize=200,\n",
    "                    lengendfont=15, RefLegendloc=2, PdtLegendloc=3, Refbbox_to_anchorvalues=(1.15, 1.15),\n",
    "                    Pdtbbox_to_anchorvalues=(1.15, 0.01))"
   ]
  },
  {
   "cell_type": "code",
   "execution_count": null,
   "metadata": {
    "scrolled": false
   },
   "outputs": [],
   "source": [
    "        plt.figure(figsize=(7,7))\n",
    "        plt.scatter(swpdt.obsm[\"X_umap\"][:,0],swpdt.obsm[\"X_umap\"][:,1],c=swpdt.obs[\"color\"])\n",
    "        plt.grid(False)"
   ]
  },
  {
   "cell_type": "code",
   "execution_count": null,
   "metadata": {},
   "outputs": [],
   "source": [
    "#swpdt.uns[\"mwanted_order\"]=swpdt.obs[\"Cluster\"].values.tolist()\n",
    "\n",
    "color_dictclpn =pd.Series({'CHP134':  (120, 180, 240), 'CHP212': ( 20, 235, 255),  'COGN415':(120,  60,  10),\n",
    "              'COGN440':(20, 120, 190),'COGN453':(230, 120, 100),'COGN471':  (220, 15,215),\n",
    "                            'Kelly_Ctrl':  ( 190,  10,  10),'Kelly_OE': (215, 105,  30),\n",
    "              'LAN-1_Ctrl':    (111,111,111),'LAN-1_OE': (79,47,79)  ,'SN-N-AS_Lar_Ctrl':    (180, 140, 130),\n",
    "            'SN-N-AS_Lar_OE':  (100, 180, 240),'SN-N-AS_Small_Ctrl': ( 80, 235, 255),'SN-N-AS_Small_OE':(100, 100, 240),\n",
    "                            'COGN496': (115, 105,  30),\n",
    "              'COGN534':    (111,111,111),'COGN519': (79,47,79)  , 'COGN549':    (180, 140, 130),\n",
    "            'COGN573':  (100, 180, 240), 'COGN561': ( 80, 235, 255),'COGN557':(100, 100, 240),\n",
    "              'IMR32':(10, 120, 190), 'HU.FETAL.BRAIN':(230, 10, 100),'FELIX':  (120, 15,215),\n",
    "            'LAN5':   (190,  10,  10),'KELLY': (225, 160,  30),'IMR5':     (217, 245,   7) ,\n",
    "            'LAN6': (69,155,110)  , 'NB1':  (100, 100, 240), 'NB16':  (190, 200, 190),'NB1643':   ( 50, 180, 180),\n",
    "                            'NB1691':(10, 100, 240),'NBEBC1': (217, 245,   117),\n",
    " 'NB69':(100, 10, 240),'NBLS':(10, 120, 10),'NBSD': (211,211,111), 'NGP':(80, 140, 130),\n",
    " 'NLF':( 80, 35, 255),\n",
    " 'NMB': (190,  210,  10),\n",
    " 'RPE1':(125, 160,  30),\n",
    " 'SHSY5Y':(30, 10, 100),\n",
    " 'SKNAS':(20, 15,215),'SKNBE2C':(190,  60,  60),\n",
    "                     \n",
    "            'SKNBE2':   (190,  10,  10),'SKNDZ': (225, 160,  30),'SKNFI':   (217, 245,   7) ,\n",
    "            'SKNSH': (117, 245,   7)  ,'SMSKAN':  (111,111,111),'SMSSAN':  ( 50, 180, 180),\n",
    "                           'CLB-BER-Lud': (115, 205,  30), 'CLB-CAR': ( 20, 135, 255), 'CLB-GA': ( 220, 235, 255), 'CLB-MA':(80, 140, 130), 'CLB-PE':(180, 40, 130),\n",
    "                            'GIMEN':(180, 140, 30),\n",
    "       'LAN-1':(180, 40, 30), 'N206':(18, 14, 130), 'SH-EP': (25, 16,  130), 'SJNB1':(180, 14, 13), 'SJNB12': ( 20, 135, 155), 'SJNB6': ( 120, 35, 25), 'SJNB8': (15, 105,  130), \n",
    "                            'TR-14': (215, 105,  3)\n",
    "                           \n",
    "                           })"
   ]
  },
  {
   "cell_type": "code",
   "execution_count": null,
   "metadata": {},
   "outputs": [],
   "source": [
    "swpdt.obs[\"CellType\"]=swpdt.obs[\"Cluster\"]\n",
    "swpdt.obs[\"Cluster\"]=swpdt.obs.index"
   ]
  },
  {
   "cell_type": "code",
   "execution_count": null,
   "metadata": {},
   "outputs": [],
   "source": [
    "colorlist3=[]\n",
    "color_dictclpn2 = color_dictclpn.map(lambda x: list(map(lambda y: y/255., x)))\n",
    "for item in swpdt.obs['Cluster']:\n",
    "    colorlist3.append(color_dictclpn2[item])"
   ]
  },
  {
   "cell_type": "code",
   "execution_count": null,
   "metadata": {},
   "outputs": [],
   "source": [
    "swpdt.obs[\"color\"]=colorlist3"
   ]
  },
  {
   "cell_type": "code",
   "execution_count": null,
   "metadata": {},
   "outputs": [],
   "source": [
    "mklistnbl=[\n",
    " \"PDGFRA\",\n",
    "    \"PRRX1\",\n",
    "    \"FOXC1\",\n",
    "    \"TWIST1\",\n",
    "    #\"SOX5\", \"TFAP2A\", \n",
    " # \"SOX8\",  \"SOX10\",\"ERBB3\",\n",
    "  # 'PLP1',\"MPZ\",'S100B',\n",
    "    \"E2F7\",\"ASCL1\",\"CTTNBP2\",\"HTR3A\",\n",
    "    #\"ISL1\",\n",
    "   \"PHOX2B\", \"CHGA\",\"CHGB\",\n",
    "\"TH\",\"DBH\", \"PHOX2A\", \n",
    "    \"ALK\",\"HMX1\",\"ELAVL4\",\n",
    "  \"PNMT\",\n",
    "    \"NTRK1\",\n",
    "    #\"NEFL\",\n",
    "    \"PRPH\",]"
   ]
  },
  {
   "cell_type": "code",
   "execution_count": null,
   "metadata": {},
   "outputs": [],
   "source": [
    "len(mklistnbl)"
   ]
  },
  {
   "cell_type": "code",
   "execution_count": null,
   "metadata": {},
   "outputs": [],
   "source": [
    "adata=swpdt.copy()\n",
    "adata.X=log(adata.X+1)\n",
    "from scipy.sparse import csr_matrix\n",
    "import numpy as np\n",
    "#adata.X = csr_matrix(adata.X)\n",
    "adata"
   ]
  },
  {
   "cell_type": "code",
   "execution_count": null,
   "metadata": {},
   "outputs": [],
   "source": [
    "fig, axs = plt.subplots(4, 5, figsize=(15, 10))  # Adjust the size as needed\n",
    "\n",
    "# Flatten the axis array for easy iteration\n",
    "axs_flat = axs.flatten()\n",
    "\n",
    "# Plot each marker gene in a subplot\n",
    "for gene, ax in zip(mklistnbl, axs_flat):\n",
    "    sc.pl.umap(adata, color=gene, show=False, s=100,ax=ax,cmap=\"seismic\", title=gene)\n",
    "\n",
    "# Adjust layout to prevent overlapping plots\n",
    "plt.tight_layout()"
   ]
  },
  {
   "cell_type": "code",
   "execution_count": null,
   "metadata": {},
   "outputs": [],
   "source": []
  },
  {
   "cell_type": "code",
   "execution_count": null,
   "metadata": {},
   "outputs": [],
   "source": [
    "gene=\"ASCL1\"\n",
    "adata=swpdt.copy()\n",
    "adata.X=adata.X**0.75\n",
    "sc.pl.umap(adata, color=gene, show=False, s=137,cmap=\"seismic\",edgecolor=\"grey\",lw=0.75, title=gene)"
   ]
  },
  {
   "cell_type": "code",
   "execution_count": null,
   "metadata": {},
   "outputs": [],
   "source": [
    "gene=\"HTR3A\"\n",
    "adata=swpdt.copy()\n",
    "adata.X=adata.X**0.5\n",
    "sc.pl.umap(adata, color=gene, show=False, s=137,cmap=\"seismic\",edgecolor=\"grey\",lw=0.75, title=gene)"
   ]
  },
  {
   "cell_type": "code",
   "execution_count": null,
   "metadata": {
    "scrolled": true
   },
   "outputs": [],
   "source": [
    "gene=\"E2F7\"\n",
    "adata=swpdt.copy()\n",
    "adata.X=adata.X**1.25\n",
    "sc.pl.umap(adata, color=gene, show=False, s=137,cmap=\"seismic\",edgecolor=\"grey\",lw=0.75, title=gene)"
   ]
  },
  {
   "cell_type": "code",
   "execution_count": null,
   "metadata": {
    "scrolled": true
   },
   "outputs": [],
   "source": [
    "gene=\"PRRX1\"\n",
    "adata=swpdt.copy()\n",
    "adata.X=adata.X**0.5\n",
    "sc.pl.umap(adata, color=gene, show=False, s=137,cmap=\"seismic\",edgecolor=\"grey\",lw=0.75, title=gene)"
   ]
  },
  {
   "cell_type": "code",
   "execution_count": null,
   "metadata": {
    "scrolled": true
   },
   "outputs": [],
   "source": [
    "gene=\"CHGA\"\n",
    "adata=swpdt.copy()\n",
    "adata.X=adata.X**0.5\n",
    "sc.pl.umap(adata, color=gene, show=False, s=137,cmap=\"seismic\",edgecolor=\"grey\",lw=0.75, title=gene)"
   ]
  },
  {
   "cell_type": "code",
   "execution_count": null,
   "metadata": {
    "scrolled": false
   },
   "outputs": [],
   "source": [
    "gene=\"CHGB\"\n",
    "adata=swpdt.copy()\n",
    "adata.X=adata.X**0.5\n",
    "sc.pl.umap(adata, color=gene, show=False, s=137,cmap=\"seismic\",edgecolor=\"grey\",lw=0.75, title=gene)"
   ]
  },
  {
   "cell_type": "code",
   "execution_count": null,
   "metadata": {
    "scrolled": true
   },
   "outputs": [],
   "source": [
    "gene=\"HMX1\"\n",
    "adata=swpdt.copy()\n",
    "adata.X=adata.X**0.75\n",
    "sc.pl.umap(adata, color=gene, show=False, s=137,cmap=\"seismic\",edgecolor=\"grey\",lw=0.75, title=gene)"
   ]
  },
  {
   "cell_type": "code",
   "execution_count": null,
   "metadata": {
    "scrolled": true
   },
   "outputs": [],
   "source": [
    "gene=\"PRPH\"\n",
    "adata=swpdt.copy()\n",
    "adata.X=adata.X**0.5\n",
    "sc.pl.umap(adata, color=gene, show=False, s=137,cmap=\"seismic\",edgecolor=\"grey\",lw=0.75, title=gene)"
   ]
  },
  {
   "cell_type": "code",
   "execution_count": null,
   "metadata": {
    "scrolled": true
   },
   "outputs": [],
   "source": [
    "gene=\"TH\"\n",
    "adata=swpdt.copy()\n",
    "adata.X=adata.X**0.35\n",
    "sc.pl.umap(adata, color=gene, show=False, s=137,cmap=\"seismic\",edgecolor=\"grey\",lw=0.75, title=gene)"
   ]
  },
  {
   "cell_type": "code",
   "execution_count": null,
   "metadata": {
    "scrolled": true
   },
   "outputs": [],
   "source": [
    "gene=\"DBH\"\n",
    "adata=swpdt.copy()\n",
    "adata.X=adata.X**0.35\n",
    "sc.pl.umap(adata, color=gene, show=False, s=137,cmap=\"seismic\",edgecolor=\"grey\",lw=0.75, title=gene)"
   ]
  },
  {
   "cell_type": "code",
   "execution_count": null,
   "metadata": {
    "scrolled": true
   },
   "outputs": [],
   "source": [
    "gene=\"NTRK1\"\n",
    "adata=swpdt.copy()\n",
    "adata.X=adata.X**0.75\n",
    "sc.pl.umap(adata, color=gene, show=False, s=137,cmap=\"seismic\",edgecolor=\"grey\",lw=0.75, title=gene)"
   ]
  },
  {
   "cell_type": "code",
   "execution_count": null,
   "metadata": {},
   "outputs": [],
   "source": []
  },
  {
   "cell_type": "code",
   "execution_count": null,
   "metadata": {
    "scrolled": false
   },
   "outputs": [],
   "source": [
    "cd D:\\Dropbox\\data\\proj\\PE_HYZ\\PublicDataSet\\NBL_SZscRNA\\SWAPLINE2"
   ]
  },
  {
   "cell_type": "code",
   "execution_count": null,
   "metadata": {},
   "outputs": [],
   "source": [
    "cd F:\\Dropbox\\data\\proj\\PE_HYZ\\PublicDataSet\\NBL_SZscRNA\\All_Dataset_Summary"
   ]
  },
  {
   "cell_type": "code",
   "execution_count": null,
   "metadata": {},
   "outputs": [],
   "source": [
    "def rgb2hex(r,g,b):\n",
    "    return \"#{:02x}{:02x}{:02x}\".format(r,g,b)"
   ]
  },
  {
   "cell_type": "code",
   "execution_count": null,
   "metadata": {},
   "outputs": [],
   "source": [
    "item[0]*255,item[1]*255,item[2]*255"
   ]
  },
  {
   "cell_type": "code",
   "execution_count": null,
   "metadata": {},
   "outputs": [],
   "source": [
    "clist=[]\n",
    "for item in swpdt.obs[\"color\"]:\n",
    "    clist.append(rgb2hex(int(item[0]*255),int(item[1]*255),int(item[2]*255)))"
   ]
  },
  {
   "cell_type": "code",
   "execution_count": null,
   "metadata": {},
   "outputs": [],
   "source": [
    " swpdt.obs[\"color\"]=clist"
   ]
  },
  {
   "cell_type": "code",
   "execution_count": null,
   "metadata": {},
   "outputs": [],
   "source": [
    "swpdt.write(\"NBL_cellLines_RNAseq_fit_SS2ref.h5ad\")"
   ]
  },
  {
   "cell_type": "code",
   "execution_count": null,
   "metadata": {},
   "outputs": [],
   "source": []
  },
  {
   "cell_type": "markdown",
   "metadata": {},
   "source": [
    "# Sanky plot_N2A"
   ]
  },
  {
   "cell_type": "code",
   "execution_count": null,
   "metadata": {},
   "outputs": [],
   "source": [
    "import scCAMEL as scm\n",
    "from scCAMEL import CamelPrefiltering\n",
    "from scCAMEL import CamelSwapline\n",
    "from scCAMEL import CamelEvo\n",
    "import os,glob"
   ]
  },
  {
   "cell_type": "code",
   "execution_count": null,
   "metadata": {},
   "outputs": [],
   "source": [
    "import anndata"
   ]
  },
  {
   "cell_type": "code",
   "execution_count": null,
   "metadata": {
    "scrolled": true
   },
   "outputs": [],
   "source": [
    "cd F:\\Dropbox\\data\\proj\\PE_HYZ\\PublicDataSet\\NBL_SZscRNA\\All_Dataset_Summary"
   ]
  },
  {
   "cell_type": "code",
   "execution_count": null,
   "metadata": {},
   "outputs": [],
   "source": [
    "swpdtrna=anndata.read(\"20231108_N2A_MutiOmicsNBL_humanAM_RNA_fit_szNBLSS2ref.h5ad\")"
   ]
  },
  {
   "cell_type": "code",
   "execution_count": null,
   "metadata": {},
   "outputs": [],
   "source": [
    "swpdt=anndata.read(\"20231109_N2A_MutiOmicsNBL_humanAM_ATACtransRNA_fit_szNBLSS2ref.h5ad\")"
   ]
  },
  {
   "cell_type": "code",
   "execution_count": null,
   "metadata": {},
   "outputs": [],
   "source": [
    "swpdtrna=swpdtrna[swpdt.obs.index,:]"
   ]
  },
  {
   "cell_type": "code",
   "execution_count": null,
   "metadata": {},
   "outputs": [],
   "source": [
    "swpdt.obs[\"RNAclusterOri\"]=swpdtrna.obs.loc[swpdt.obs.index][\"Cluster\"]"
   ]
  },
  {
   "cell_type": "code",
   "execution_count": null,
   "metadata": {},
   "outputs": [],
   "source": [
    "swpdt"
   ]
  },
  {
   "cell_type": "code",
   "execution_count": null,
   "metadata": {},
   "outputs": [],
   "source": [
    "swpdtrna"
   ]
  },
  {
   "cell_type": "code",
   "execution_count": null,
   "metadata": {},
   "outputs": [],
   "source": [
    "dfnbl=swpdt.obs\n",
    "dfnbl"
   ]
  },
  {
   "cell_type": "code",
   "execution_count": null,
   "metadata": {},
   "outputs": [],
   "source": [
    "dfnbl=dfnbl[['Cluster', 'color', 'mtrain_index','RNAclusterOri']]"
   ]
  },
  {
   "cell_type": "code",
   "execution_count": null,
   "metadata": {},
   "outputs": [],
   "source": [
    "dfnbl.groupby(['RNAclusterOri','Cluster']).count()"
   ]
  },
  {
   "cell_type": "code",
   "execution_count": null,
   "metadata": {},
   "outputs": [],
   "source": [
    "import pandas as pd"
   ]
  },
  {
   "cell_type": "code",
   "execution_count": null,
   "metadata": {
    "scrolled": true
   },
   "outputs": [],
   "source": [
    "cd F:\\Dropbox\\Lab work\\Project\\XYY NEO1 NF2\\20230107\\SupTable\\done"
   ]
  },
  {
   "cell_type": "code",
   "execution_count": null,
   "metadata": {},
   "outputs": [],
   "source": [
    "dfnbl.groupby(['RNAclusterOri','Cluster']).count().to_csv(\"20231110nbl_cells_N2A_RNA-ATACcellAssignment.txt\",sep=\"\\t\")"
   ]
  },
  {
   "cell_type": "code",
   "execution_count": null,
   "metadata": {},
   "outputs": [],
   "source": [
    "dfn=pd.read_table(\"20231110nbl_cells_N2A_RNA-ATACcellAssignment.txt\",index_col=0,header=0,sep=\"\\t\")"
   ]
  },
  {
   "cell_type": "code",
   "execution_count": null,
   "metadata": {},
   "outputs": [],
   "source": [
    "dfnbk=dfn.copy()"
   ]
  },
  {
   "cell_type": "code",
   "execution_count": null,
   "metadata": {},
   "outputs": [],
   "source": [
    "dfnbk"
   ]
  },
  {
   "cell_type": "code",
   "execution_count": null,
   "metadata": {},
   "outputs": [],
   "source": [
    "dfnbk.columns"
   ]
  },
  {
   "cell_type": "code",
   "execution_count": null,
   "metadata": {},
   "outputs": [],
   "source": [
    "dfn"
   ]
  },
  {
   "cell_type": "code",
   "execution_count": null,
   "metadata": {},
   "outputs": [],
   "source": [
    "#data=dfn.groupby(['Ligand_Cluster',\"RecptorCluster\"]).count().reset_index().iloc[:,:3]\n",
    "data=dfn.reset_index().iloc[:,:3]\n",
    "data.columns=['OriCluster', 'TargetCluster','Weight']\n",
    "data"
   ]
  },
  {
   "cell_type": "code",
   "execution_count": null,
   "metadata": {},
   "outputs": [],
   "source": [
    "set(data[\"OriCluster\"])"
   ]
  },
  {
   "cell_type": "code",
   "execution_count": null,
   "metadata": {},
   "outputs": [],
   "source": [
    "set(data[\"TargetCluster\"])"
   ]
  },
  {
   "cell_type": "code",
   "execution_count": null,
   "metadata": {},
   "outputs": [],
   "source": [
    "reclist=['Diff_Mes','NC_prog','Bridge_SCP', 'Connecting',  'preNeuroblast','Diff_Neuroblast']\n",
    "liglist=[  'NC_prog','Bridge_SCP',\n",
    "# 'Chromaffin',\n",
    " 'Connecting',\n",
    " 'preNeuroblast', 'Diff_Neuroblast']"
   ]
  },
  {
   "cell_type": "code",
   "execution_count": null,
   "metadata": {},
   "outputs": [],
   "source": [
    "\n",
    "    #data = data.loc[data['Weight'] > threshold]\n",
    "    # data\n",
    "    startlist_lack = set(liglist) - set(data[\"OriCluster\"].tolist())\n",
    "    # dfn.columns[1:]\n",
    "    endlist_lack = set(reclist) - set(data[\"TargetCluster\"].tolist())\n",
    "    for item in startlist_lack:\n",
    "        #print(item)\n",
    "        data.loc[data.index[-1] + 1] = [item, \"ZZZemptyR\", 1]\n",
    "\n",
    "    # data\n",
    "    for item in endlist_lack:\n",
    "        # print(item)\n",
    "        data.loc[data.index[-1] + 1] = [\"ZZZemptyL\", item, 1]\n",
    "    # arr= data2.iloc[:, 1:].stack().unique()\n",
    "    data"
   ]
  },
  {
   "cell_type": "code",
   "execution_count": null,
   "metadata": {},
   "outputs": [],
   "source": [
    "mwanted_order =[  'Diff_Mes', 'NC_prog',\n",
    "'Bridge_SCP',\n",
    "    'Connecting',\n",
    "# 'Chromaffin',\n",
    " 'preNeuroblast',\n",
    " 'Diff_Neuroblast'\n",
    "               ]\n",
    "#mreorder_ix = [list(mclasses_names).index(i) for i in mwanted_order]\n",
    "#mbool00 = in1d( mclasses_names[mclasses_index],  mwanted_order )\n",
    "mcolor_dict = pd.Series({'BCell':( 150, 120, 150),\n",
    "                         'SCP':   (90,  10,  10), 'Chromaffin1': (25, 60,  130),\n",
    "                             'cycling':    (57, 105,   7),\n",
    "             'Sympath':    (170, 180, 170),'SCP':   (190,  10,  10),  'Chromaffin': (25, 60,  130),\n",
    "                             'cycling':    (57, 105,   7),\n",
    "             'sympathoblasts':    (170, 180, 170),\n",
    "                            'Diff_Glia': (235, 125,  128),  'Diff_Mes': (10,10,255),\n",
    "                          'Chromaffin':   (55, 55,  78), 'preNeuroblast':  (100, 100, 240),\n",
    "                           'Diff_Neuroblast':    (57, 105,   7),'preGlia': (175, 175,  28),\n",
    "            'Bridge_SCP':    (170, 180, 170), 'NC_prog':(249,125,5),\n",
    "                           'Connecting':    ( 95, 186,  70),  'Auto_prog':    (180, 140, 130),\n",
    "       'cyclingNeuroblast':  (100, 100, 240), 'Migr_prog': ( 80, 235, 255),  'Mes_prog':(249,125,5)\n",
    "                            \n",
    "    })\n",
    "mcolor_dict = mcolor_dict.map(lambda x: list(map(lambda y: y/255., x)))\n",
    "from matplotlib.colors import rgb2hex\n",
    "rgb2hex(mcolor_dict.values[0])\n",
    "for i in range(mcolor_dict.shape[0]):\n",
    "    mcolor_dict[i]=rgb2hex(mcolor_dict[i]) \n",
    "colorsnew=mcolor_dict\n",
    "colorsnew['ZZZemptyL'] = \"#ffffff\"\n",
    "colorsnew['ZZZemptyR'] = \"#ffffff\"\n",
    "colorsnew"
   ]
  },
  {
   "cell_type": "markdown",
   "metadata": {},
   "source": [
    "mcolor_dict.values\n",
    "from matplotlib.colors import rgb2hex\n",
    "finalcolor=[ rgb2hex(item) for item in mcolor_dict.values]"
   ]
  },
  {
   "cell_type": "code",
   "execution_count": null,
   "metadata": {},
   "outputs": [],
   "source": [
    "data"
   ]
  },
  {
   "cell_type": "code",
   "execution_count": null,
   "metadata": {},
   "outputs": [],
   "source": [
    "data2 = data[['Weight', 'OriCluster', 'TargetCluster']]\n",
    "#data2 = data[['Weight', 'RNA_GeneExpression', 'ATAC_GeneActivity']]\n",
    "data2.columns=['Weight', 'RNA_GeneExpression', 'ATAC_GeneActivity']"
   ]
  },
  {
   "cell_type": "code",
   "execution_count": null,
   "metadata": {},
   "outputs": [],
   "source": [
    "#data[\"Weight\"]=data[\"Weight\"]*2"
   ]
  },
  {
   "cell_type": "code",
   "execution_count": null,
   "metadata": {},
   "outputs": [],
   "source": [
    "cd ."
   ]
  },
  {
   "cell_type": "code",
   "execution_count": null,
   "metadata": {
    "scrolled": false
   },
   "outputs": [],
   "source": [
    "plt.figure(figsize=(5, 12))\n",
    "CamelEvo.CAMELsanky(data2,\n",
    "               # cmap=newcmp,\n",
    "               colors=colorsnew, \n",
    "                    titles_color='black', labels_size=15,\n",
    "               titles_size=15, node_sizes=False, \n",
    "            labels_color=\"k\")\n",
    "plt.title(\"N2A\",y=1.05,fontsize=25)\n",
    "plt.savefig(\"20231110ATAC_RNA_N2A.pdf\")"
   ]
  },
  {
   "cell_type": "code",
   "execution_count": null,
   "metadata": {
    "scrolled": false
   },
   "outputs": [],
   "source": [
    "plt.figure(figsize=(5, 12))\n",
    "CamelEvo.CAMELsanky(data2,\n",
    "               # cmap=newcmp,\n",
    "               colors=colorsnew, \n",
    "                    titles_color='black', labels_size=-1,\n",
    "               titles_size=15, node_sizes=False, \n",
    "            labels_color=\"k\")\n",
    "plt.title(\"N2A\",y=1.05,fontsize=25)\n",
    "plt.savefig(\"20231017ATAC_N2A_noLabel.pdf\")"
   ]
  },
  {
   "cell_type": "code",
   "execution_count": null,
   "metadata": {},
   "outputs": [],
   "source": []
  },
  {
   "cell_type": "code",
   "execution_count": null,
   "metadata": {},
   "outputs": [],
   "source": []
  },
  {
   "cell_type": "code",
   "execution_count": null,
   "metadata": {},
   "outputs": [],
   "source": []
  },
  {
   "cell_type": "code",
   "execution_count": null,
   "metadata": {},
   "outputs": [],
   "source": []
  },
  {
   "cell_type": "markdown",
   "metadata": {},
   "source": [
    "# Sanky plot_MycN"
   ]
  },
  {
   "cell_type": "code",
   "execution_count": null,
   "metadata": {},
   "outputs": [],
   "source": [
    "import scCAMEL as scm\n",
    "from scCAMEL import CamelPrefiltering\n",
    "from scCAMEL import CamelSwapline\n",
    "from scCAMEL import CamelEvo\n",
    "import os,glob"
   ]
  },
  {
   "cell_type": "code",
   "execution_count": null,
   "metadata": {},
   "outputs": [],
   "source": []
  },
  {
   "cell_type": "code",
   "execution_count": null,
   "metadata": {
    "scrolled": true
   },
   "outputs": [],
   "source": [
    "cd F:\\Dropbox\\data\\proj\\PE_HYZ\\PublicDataSet\\NBL_SZscRNA\\All_Dataset_Summary"
   ]
  },
  {
   "cell_type": "code",
   "execution_count": null,
   "metadata": {},
   "outputs": [],
   "source": [
    "swpdtrna=anndata.read(\"20231108_MycnSponMutiOmicsNBL_humanAM_scRNAseq_fit_szNBLSS2ref.h5ad\")"
   ]
  },
  {
   "cell_type": "code",
   "execution_count": null,
   "metadata": {},
   "outputs": [],
   "source": [
    "swpdt=anndata.read(\"20231108_MycnSponMutiOmicsNBL_humanAM_ATACtransRNA_fit_szNBLSS2ref.h5ad\")"
   ]
  },
  {
   "cell_type": "code",
   "execution_count": null,
   "metadata": {},
   "outputs": [],
   "source": [
    "swpdtrna=swpdtrna[swpdt.obs.index,:]"
   ]
  },
  {
   "cell_type": "code",
   "execution_count": null,
   "metadata": {},
   "outputs": [],
   "source": [
    "swpdt.obs[\"RNAclusterOri\"]=swpdtrna.obs.loc[swpdt.obs.index][\"Cluster\"]"
   ]
  },
  {
   "cell_type": "code",
   "execution_count": null,
   "metadata": {},
   "outputs": [],
   "source": [
    "swpdt"
   ]
  },
  {
   "cell_type": "code",
   "execution_count": null,
   "metadata": {},
   "outputs": [],
   "source": [
    "swpdtrna"
   ]
  },
  {
   "cell_type": "code",
   "execution_count": null,
   "metadata": {},
   "outputs": [],
   "source": [
    "dfnbl=swpdt.obs\n",
    "dfnbl"
   ]
  },
  {
   "cell_type": "code",
   "execution_count": null,
   "metadata": {},
   "outputs": [],
   "source": [
    "dfnbl=dfnbl[['Cluster', 'color', 'mtrain_index','RNAclusterOri']]"
   ]
  },
  {
   "cell_type": "code",
   "execution_count": null,
   "metadata": {},
   "outputs": [],
   "source": [
    "dfnbl.groupby(['RNAclusterOri','Cluster']).count()"
   ]
  },
  {
   "cell_type": "code",
   "execution_count": null,
   "metadata": {
    "scrolled": true
   },
   "outputs": [],
   "source": [
    "cd F:\\Dropbox\\Lab work\\Project\\XYY NEO1 NF2\\20230107\\SupTable\\done"
   ]
  },
  {
   "cell_type": "code",
   "execution_count": null,
   "metadata": {},
   "outputs": [],
   "source": [
    "dfnbl.groupby(['RNAclusterOri','Cluster']).count().to_csv(\"20231110nbl_cells_mycn_RNA-ATACcellAssignment.txt\",sep=\"\\t\")"
   ]
  },
  {
   "cell_type": "code",
   "execution_count": null,
   "metadata": {},
   "outputs": [],
   "source": [
    "dfn=pd.read_table(\"20231110nbl_cells_mycn_RNA-ATACcellAssignment.txt\",index_col=0,header=0,sep=\"\\t\")"
   ]
  },
  {
   "cell_type": "code",
   "execution_count": null,
   "metadata": {},
   "outputs": [],
   "source": [
    "dfnbk=dfn.copy()"
   ]
  },
  {
   "cell_type": "code",
   "execution_count": null,
   "metadata": {},
   "outputs": [],
   "source": [
    "dfnbk"
   ]
  },
  {
   "cell_type": "code",
   "execution_count": null,
   "metadata": {},
   "outputs": [],
   "source": [
    "dfnbk.columns"
   ]
  },
  {
   "cell_type": "code",
   "execution_count": null,
   "metadata": {},
   "outputs": [],
   "source": [
    "dfn"
   ]
  },
  {
   "cell_type": "code",
   "execution_count": null,
   "metadata": {},
   "outputs": [],
   "source": [
    "#data=dfn.groupby(['Ligand_Cluster',\"RecptorCluster\"]).count().reset_index().iloc[:,:3]\n",
    "data=dfn.reset_index().iloc[:,:3]\n",
    "data.columns=['OriCluster', 'TargetCluster','Weight']\n",
    "data"
   ]
  },
  {
   "cell_type": "code",
   "execution_count": null,
   "metadata": {},
   "outputs": [],
   "source": [
    "set(data[\"OriCluster\"])"
   ]
  },
  {
   "cell_type": "code",
   "execution_count": null,
   "metadata": {},
   "outputs": [],
   "source": [
    "set(data[\"TargetCluster\"])"
   ]
  },
  {
   "cell_type": "code",
   "execution_count": null,
   "metadata": {},
   "outputs": [],
   "source": [
    "reclist=['Bridge_SCP', 'Connecting', 'Diff_Neuroblast', 'preNeuroblast']\n",
    "liglist=[  'NC_prog','Bridge_SCP',\n",
    "# 'Chromaffin',\n",
    " 'Connecting',\n",
    " 'preNeuroblast', 'Diff_Neuroblast']"
   ]
  },
  {
   "cell_type": "code",
   "execution_count": null,
   "metadata": {},
   "outputs": [],
   "source": [
    "\n",
    "    #data = data.loc[data['Weight'] > threshold]\n",
    "    # data\n",
    "    startlist_lack = set(liglist) - set(data[\"OriCluster\"].tolist())\n",
    "    # dfn.columns[1:]\n",
    "    endlist_lack = set(reclist) - set(data[\"TargetCluster\"].tolist())\n",
    "    for item in startlist_lack:\n",
    "        #print(item)\n",
    "        data.loc[data.index[-1] + 1] = [item, \"ZZZemptyR\", 1]\n",
    "\n",
    "    # data\n",
    "    for item in endlist_lack:\n",
    "        # print(item)\n",
    "        data.loc[data.index[-1] + 1] = [\"ZZZemptyL\", item, 1]\n",
    "    # arr= data2.iloc[:, 1:].stack().unique()\n",
    "    data"
   ]
  },
  {
   "cell_type": "code",
   "execution_count": null,
   "metadata": {},
   "outputs": [],
   "source": [
    "mwanted_order =[  'Diff_Mes', 'NC_prog',\n",
    "'Bridge_SCP',\n",
    "    'Connecting',\n",
    "# 'Chromaffin',\n",
    " 'preNeuroblast',\n",
    " 'Diff_Neuroblast'\n",
    "               ]\n",
    "#mreorder_ix = [list(mclasses_names).index(i) for i in mwanted_order]\n",
    "#mbool00 = in1d( mclasses_names[mclasses_index],  mwanted_order )\n",
    "mcolor_dict = pd.Series({'BCell':( 150, 120, 150),\n",
    "                         'SCP':   (90,  10,  10), 'Chromaffin1': (25, 60,  130),\n",
    "                             'cycling':    (57, 105,   7),\n",
    "             'Sympath':    (170, 180, 170),'SCP':   (190,  10,  10),  'Chromaffin': (25, 60,  130),\n",
    "                             'cycling':    (57, 105,   7),\n",
    "             'sympathoblasts':    (170, 180, 170),\n",
    "                            'Diff_Glia': (235, 125,  128),  'Diff_Mes': (10,10,255),\n",
    "                          'Chromaffin':   (55, 55,  78), 'preNeuroblast':  (100, 100, 240),\n",
    "                           'Diff_Neuroblast':    (57, 105,   7),'preGlia': (175, 175,  28),\n",
    "            'Bridge_SCP':    (170, 180, 170), 'NC_prog':(249,125,5),\n",
    "                           'Connecting':    ( 95, 186,  70),  'Auto_prog':    (180, 140, 130),\n",
    "       'cyclingNeuroblast':  (100, 100, 240), 'Migr_prog': ( 80, 235, 255),  'Mes_prog':(249,125,5)\n",
    "                            \n",
    "    })\n",
    "mcolor_dict = mcolor_dict.map(lambda x: list(map(lambda y: y/255., x)))\n",
    "from matplotlib.colors import rgb2hex\n",
    "rgb2hex(mcolor_dict.values[0])\n",
    "for i in range(mcolor_dict.shape[0]):\n",
    "    mcolor_dict[i]=rgb2hex(mcolor_dict[i]) \n",
    "colorsnew=mcolor_dict\n",
    "colorsnew['ZZZemptyL'] = \"#ffffff\"\n",
    "colorsnew['ZZZemptyR'] = \"#ffffff\"\n",
    "colorsnew"
   ]
  },
  {
   "cell_type": "markdown",
   "metadata": {},
   "source": [
    "mcolor_dict.values\n",
    "from matplotlib.colors import rgb2hex\n",
    "finalcolor=[ rgb2hex(item) for item in mcolor_dict.values]"
   ]
  },
  {
   "cell_type": "code",
   "execution_count": null,
   "metadata": {},
   "outputs": [],
   "source": [
    "data"
   ]
  },
  {
   "cell_type": "code",
   "execution_count": null,
   "metadata": {},
   "outputs": [],
   "source": [
    "data2 = data[['Weight', 'OriCluster', 'TargetCluster']]\n",
    "#data2 = data[['Weight', 'RNA_GeneExpression', 'ATAC_GeneActivity']]\n",
    "data2.columns=['Weight', 'RNA_GeneExpression', 'ATAC_GeneActivity']"
   ]
  },
  {
   "cell_type": "code",
   "execution_count": null,
   "metadata": {},
   "outputs": [],
   "source": [
    "#data[\"Weight\"]=data[\"Weight\"]*2"
   ]
  },
  {
   "cell_type": "code",
   "execution_count": null,
   "metadata": {
    "scrolled": false
   },
   "outputs": [],
   "source": [
    "plt.figure(figsize=(5, 12))\n",
    "CamelEvo.CAMELsanky(data2,\n",
    "               # cmap=newcmp,\n",
    "               colors=colorsnew, \n",
    "                    titles_color='black', labels_size=15,\n",
    "               titles_size=15, node_sizes=False, \n",
    "            labels_color=\"k\")\n",
    "plt.title(\"Dbh-Cre:Mycn\",y=1.05,fontsize=25)\n",
    "plt.savefig(\"20231110ATAC_RNA_Dbh-CreMycn.pdf\")"
   ]
  },
  {
   "cell_type": "code",
   "execution_count": null,
   "metadata": {
    "scrolled": false
   },
   "outputs": [],
   "source": [
    "plt.figure(figsize=(5, 12))\n",
    "CamelEvo.CAMELsanky(data2,\n",
    "               # cmap=newcmp,\n",
    "               colors=colorsnew, \n",
    "                    titles_color='black', labels_size=-1,\n",
    "               titles_size=15, node_sizes=False, \n",
    "            labels_color=\"k\")\n",
    "plt.title(\"Dbh-Cre:Mycn\",y=1.05,fontsize=25)\n",
    "plt.savefig(\"20231110ATAC_Dbh-CreMycn_noLabel.pdf\")"
   ]
  },
  {
   "cell_type": "code",
   "execution_count": null,
   "metadata": {},
   "outputs": [],
   "source": []
  }
 ],
 "metadata": {
  "kernelspec": {
   "display_name": "Python 3 (ipykernel)",
   "language": "python",
   "name": "python3"
  },
  "language_info": {
   "codemirror_mode": {
    "name": "ipython",
    "version": 3
   },
   "file_extension": ".py",
   "mimetype": "text/x-python",
   "name": "python",
   "nbconvert_exporter": "python",
   "pygments_lexer": "ipython3",
   "version": "3.8.16"
  }
 },
 "nbformat": 4,
 "nbformat_minor": 2
}
