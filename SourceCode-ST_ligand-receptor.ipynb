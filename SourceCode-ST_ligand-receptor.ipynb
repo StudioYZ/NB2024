{
 "cells": [
  {
   "cell_type": "code",
   "execution_count": null,
   "metadata": {
    "scrolled": true
   },
   "outputs": [],
   "source": [
    "import numpy as np\n",
    "import pandas as pd\n",
    "import matplotlib.pyplot as pl\n",
    "from matplotlib import rcParams\n",
    "import scanpy as sc\n",
    "\n",
    "sc.settings.verbosity = 3  # verbosity: errors (0), warnings (1), info (2), hints (3)\n"
   ]
  },
  {
   "cell_type": "code",
   "execution_count": null,
   "metadata": {},
   "outputs": [],
   "source": [
    "import cmocean"
   ]
  },
  {
   "cell_type": "code",
   "execution_count": null,
   "metadata": {},
   "outputs": [],
   "source": [
    "sc.settings.set_figure_params(dpi=80, frameon=False)  # low dpi (dots per inch) yields small inline figures"
   ]
  },
  {
   "cell_type": "code",
   "execution_count": null,
   "metadata": {},
   "outputs": [],
   "source": [
    "import numpy as np\n",
    "import pandas as pd\n",
    "import matplotlib.pyplot as pl\n",
    "import numpy as np\n",
    "import pandas as pd\n",
    "import matplotlib.pyplot as pl\n",
    "from matplotlib import rcParams\n"
   ]
  },
  {
   "cell_type": "code",
   "execution_count": null,
   "metadata": {},
   "outputs": [],
   "source": [
    "import matplotlib.pyplot as plt\n",
    "import matplotlib.cm as cm\n",
    "import pandas as pd\n",
    "import numpy as np\n",
    "from sklearn.decomposition import PCA\n",
    "from sklearn import manifold\n",
    "from collections import defaultdict\n",
    "#from mpl_toolkits.mplot3d import Axes3D\n",
    "import math\n",
    "import re\n",
    "import os\n",
    "import sys\n",
    "#imports\n",
    "import pandas as pd\n",
    "import pickle as pickle\n",
    "from scipy.spatial.distance import cdist, pdist, squareform\n",
    "#import backspinpy\n",
    "#from backspinpy.Cef_tools import *\n",
    "#from __future__ import division\n",
    "import pandas as pd\n",
    "from sklearn.linear_model import LogisticRegression, LogisticRegressionCV\n",
    "from sklearn.model_selection import StratifiedShuffleSplit  \n",
    "from collections import defaultdict\n",
    "from sklearn import preprocessing\n",
    "import matplotlib.patches as mpatches\n",
    "%pylab inline"
   ]
  },
  {
   "cell_type": "code",
   "execution_count": null,
   "metadata": {},
   "outputs": [],
   "source": [
    "import anndata"
   ]
  },
  {
   "cell_type": "markdown",
   "metadata": {},
   "source": [
    "# TumorMicroEnvironmentCells_sigGENE"
   ]
  },
  {
   "cell_type": "code",
   "execution_count": null,
   "metadata": {},
   "outputs": [],
   "source": [
    "import anndata"
   ]
  },
  {
   "cell_type": "code",
   "execution_count": null,
   "metadata": {
    "scrolled": false
   },
   "outputs": [],
   "source": [
    "cd F:\\Dropbox\\data\\proj\\PE_HYZ\\PublicDataSet\\NBL_GSE137804"
   ]
  },
  {
   "cell_type": "code",
   "execution_count": null,
   "metadata": {
    "scrolled": true
   },
   "outputs": [],
   "source": [
    "scref=anndata.read(\"shNBLnormalCell.h5ad\")"
   ]
  },
  {
   "cell_type": "code",
   "execution_count": null,
   "metadata": {},
   "outputs": [],
   "source": [
    "scref"
   ]
  },
  {
   "cell_type": "code",
   "execution_count": null,
   "metadata": {},
   "outputs": [],
   "source": [
    "set(scref.obs['Cluster'])"
   ]
  },
  {
   "cell_type": "code",
   "execution_count": null,
   "metadata": {},
   "outputs": [],
   "source": [
    "scref=scref[scref.obs['Cluster']!='Schwann']"
   ]
  },
  {
   "cell_type": "code",
   "execution_count": null,
   "metadata": {
    "scrolled": true
   },
   "outputs": [],
   "source": [
    "dfmk=EnrichScore_Ranksum(adata=scref,foldchange=1.25,meanthreshold=0.05,pvalue=0.05)"
   ]
  },
  {
   "cell_type": "markdown",
   "metadata": {},
   "source": [
    "dftestnew.columns=['Group', 'Num', 'Ens_Astro', 'Ens_NC_Progenitor&Fibro', 'Ens_Neuroblast', 'Ens_Olig',\n",
    "       'Ens_PeriV_Cells', 'Ens_Rgl', 'Expr_Astro', 'Expr_NC_Progenitor&Fibro',\n",
    "       'Expr_Neuroblast', 'Expr_Olig', 'Expr_PeriV_Cells', 'Expr_Rgl']"
   ]
  },
  {
   "cell_type": "code",
   "execution_count": null,
   "metadata": {
    "scrolled": false
   },
   "outputs": [],
   "source": [
    "dfmk.loc[[\"CD68\",\"AIF1\",\"CD3E\",\"PDGFRA\",\"LUM\",\"PECAM1\",\"CSF1R\",\"CDH5\",\"CD8A\",\"CD14\",\"CD3G\",\"CD8A\"]]"
   ]
  },
  {
   "cell_type": "code",
   "execution_count": null,
   "metadata": {
    "scrolled": true
   },
   "outputs": [],
   "source": [
    "cd F:\\Dropbox\\data\\proj\\PE_HYZ\\PublicDataSet\\NBL_SZscRNA\\20210120_visium"
   ]
  },
  {
   "cell_type": "code",
   "execution_count": null,
   "metadata": {
    "scrolled": true
   },
   "outputs": [],
   "source": [
    "len(set(dfmk.index))"
   ]
  },
  {
   "cell_type": "code",
   "execution_count": null,
   "metadata": {},
   "outputs": [],
   "source": [
    "dfen=dfmk"
   ]
  },
  {
   "cell_type": "code",
   "execution_count": null,
   "metadata": {},
   "outputs": [],
   "source": [
    "dfen.shape"
   ]
  },
  {
   "cell_type": "markdown",
   "metadata": {},
   "source": [
    "# SS2ref"
   ]
  },
  {
   "cell_type": "code",
   "execution_count": null,
   "metadata": {
    "scrolled": false
   },
   "outputs": [],
   "source": [
    "cd f:\\Dropbox\\data\\proj\\PE_HYZ\\PublicDataSet\\NBL_SZscRNA\\SWAPLINE2"
   ]
  },
  {
   "cell_type": "code",
   "execution_count": null,
   "metadata": {
    "scrolled": false
   },
   "outputs": [],
   "source": [
    "cd f:\\Dropbox\\data\\proj\\PE_HYZ\\PublicDataSet\\NBL_SZscRNA\\SWAPLINE2"
   ]
  },
  {
   "cell_type": "code",
   "execution_count": null,
   "metadata": {
    "scrolled": true
   },
   "outputs": [],
   "source": [
    "scref=anndata.read(\"szNBLscRNAseq_fit_Integrated_Mouse_NeuralCrest.h5ad\")"
   ]
  },
  {
   "cell_type": "code",
   "execution_count": null,
   "metadata": {
    "scrolled": true
   },
   "outputs": [],
   "source": [
    "scref.var"
   ]
  },
  {
   "cell_type": "code",
   "execution_count": null,
   "metadata": {},
   "outputs": [],
   "source": [
    "scref"
   ]
  },
  {
   "cell_type": "code",
   "execution_count": null,
   "metadata": {},
   "outputs": [],
   "source": [
    "scref.obs[ 'Patient']=scref.obs[ 'Cluster']"
   ]
  },
  {
   "cell_type": "code",
   "execution_count": null,
   "metadata": {},
   "outputs": [],
   "source": [
    "set(scref.obs[ 'Assigned_Cluster'])"
   ]
  },
  {
   "cell_type": "code",
   "execution_count": null,
   "metadata": {},
   "outputs": [],
   "source": [
    "dftest=pd.DataFrame(scref.obs[[ 'Cluster', 'mtrain_index', 'Assigned_Cluster']])"
   ]
  },
  {
   "cell_type": "code",
   "execution_count": null,
   "metadata": {},
   "outputs": [],
   "source": [
    "dftest.groupby(['Assigned_Cluster']).count()"
   ]
  },
  {
   "cell_type": "code",
   "execution_count": null,
   "metadata": {},
   "outputs": [],
   "source": [
    "clist=[]\n",
    "for item in dftest[\"Assigned_Cluster\"]:\n",
    "    if item in [\"SCP\",\"preGlia\"]:\n",
    "        clist.append(\"Bridge_SCP\")\n",
    "    else:\n",
    "        clist.append(item)"
   ]
  },
  {
   "cell_type": "code",
   "execution_count": null,
   "metadata": {},
   "outputs": [],
   "source": [
    "scref.obs[ 'Cluster']=clist\n"
   ]
  },
  {
   "cell_type": "code",
   "execution_count": null,
   "metadata": {},
   "outputs": [],
   "source": [
    "clist=[]\n",
    "for item in scref.obs[\"Cluster\"]:\n",
    "    if item in [ 'connectingChromaffin']:\n",
    "        clist.append(\"Connecting\")\n",
    "    else:\n",
    "        clist.append(item)"
   ]
  },
  {
   "cell_type": "code",
   "execution_count": null,
   "metadata": {},
   "outputs": [],
   "source": [
    " scref.obs[\"Cluster\"]=clist"
   ]
  },
  {
   "cell_type": "code",
   "execution_count": null,
   "metadata": {},
   "outputs": [],
   "source": [
    "set(scref.obs[ 'Cluster'])"
   ]
  },
  {
   "cell_type": "code",
   "execution_count": null,
   "metadata": {},
   "outputs": [],
   "source": [
    "import scCAMEL as scm\n",
    "from scCAMEL import CamelPrefiltering\n",
    "from scCAMEL import CamelSwapline\n",
    "from scCAMEL import CamelEvo"
   ]
  },
  {
   "cell_type": "code",
   "execution_count": null,
   "metadata": {
    "scrolled": true
   },
   "outputs": [],
   "source": [
    "scref=scm.CamelPrefiltering.DataScaling(scref)"
   ]
  },
  {
   "cell_type": "code",
   "execution_count": null,
   "metadata": {},
   "outputs": [],
   "source": [
    "dfmk=EnrichScore_Ranksum(adata=scref,foldchange=1,meanthreshold=0.05,pvalue=0.1)"
   ]
  },
  {
   "cell_type": "code",
   "execution_count": null,
   "metadata": {},
   "outputs": [],
   "source": [
    "len(set(dfmk.loc[dfmk[\"Num\"]>2].index))"
   ]
  },
  {
   "cell_type": "code",
   "execution_count": null,
   "metadata": {
    "scrolled": false
   },
   "outputs": [],
   "source": [
    "cd F:\\Dropbox\\data\\proj\\PE_HYZ\\PublicDataSet\\NBL_SZscRNA\\20210120_visium"
   ]
  },
  {
   "cell_type": "code",
   "execution_count": null,
   "metadata": {
    "scrolled": true
   },
   "outputs": [],
   "source": [
    "len(set(dfmk.index))"
   ]
  },
  {
   "cell_type": "code",
   "execution_count": null,
   "metadata": {},
   "outputs": [],
   "source": [
    "dftestnew=dfmk"
   ]
  },
  {
   "cell_type": "markdown",
   "metadata": {},
   "source": [
    "# Ligand_Receptor"
   ]
  },
  {
   "cell_type": "code",
   "execution_count": null,
   "metadata": {},
   "outputs": [],
   "source": [
    "cd F:\\Dropbox\\data\\proj\\PE_HYZ\\R_Pacakge\\nichenetr"
   ]
  },
  {
   "cell_type": "code",
   "execution_count": null,
   "metadata": {},
   "outputs": [],
   "source": [
    "dflr=pd.read_table(\"Ligand_Recepter.csv\",index_col=0,header=0,sep=\",\")\n",
    "dflr.shape"
   ]
  },
  {
   "cell_type": "code",
   "execution_count": null,
   "metadata": {
    "scrolled": true
   },
   "outputs": [],
   "source": [
    "dflr.head()"
   ]
  },
  {
   "cell_type": "code",
   "execution_count": null,
   "metadata": {},
   "outputs": [],
   "source": [
    "\"PDGFRB\" in dflr[\"from\"]"
   ]
  },
  {
   "cell_type": "code",
   "execution_count": null,
   "metadata": {},
   "outputs": [],
   "source": []
  },
  {
   "cell_type": "code",
   "execution_count": null,
   "metadata": {},
   "outputs": [],
   "source": [
    "dflrtemp=dflr.loc[(dflr[\"from\"].isin(dftestnew.index.tolist()))&(dflr[\"to\"].isin(dftestnew.index.tolist()))]\n",
    "dflrtemp.shape"
   ]
  },
  {
   "cell_type": "code",
   "execution_count": null,
   "metadata": {},
   "outputs": [],
   "source": [
    "dflrtemp.shape"
   ]
  },
  {
   "cell_type": "code",
   "execution_count": null,
   "metadata": {},
   "outputs": [],
   "source": [
    "dflrtemp.shape"
   ]
  },
  {
   "cell_type": "code",
   "execution_count": null,
   "metadata": {
    "scrolled": true
   },
   "outputs": [],
   "source": [
    "dftest2=dftestnew.loc[set(dflrtemp[\"from\"].tolist()+dflrtemp[\"to\"].tolist())]"
   ]
  },
  {
   "cell_type": "code",
   "execution_count": null,
   "metadata": {},
   "outputs": [],
   "source": [
    "dftest2.shape"
   ]
  },
  {
   "cell_type": "code",
   "execution_count": null,
   "metadata": {},
   "outputs": [],
   "source": [
    "dftest2.head()"
   ]
  },
  {
   "cell_type": "code",
   "execution_count": null,
   "metadata": {},
   "outputs": [],
   "source": []
  },
  {
   "cell_type": "code",
   "execution_count": null,
   "metadata": {
    "scrolled": true
   },
   "outputs": [],
   "source": [
    "cd D:\\Dropbox\\data\\proj\\PE_HYZ\\PublicDataSet\\NBL_SZscRNA\\Integrated\\20201225_Final"
   ]
  },
  {
   "cell_type": "code",
   "execution_count": null,
   "metadata": {
    "scrolled": true
   },
   "outputs": [],
   "source": [
    "len(set(dftest2.index))"
   ]
  },
  {
   "cell_type": "code",
   "execution_count": null,
   "metadata": {},
   "outputs": [],
   "source": []
  },
  {
   "cell_type": "code",
   "execution_count": null,
   "metadata": {},
   "outputs": [],
   "source": [
    "cd D:\\Dropbox\\data\\proj\\PE_HYZ\\R_Pacakge\\nichenetr"
   ]
  },
  {
   "cell_type": "code",
   "execution_count": null,
   "metadata": {},
   "outputs": [],
   "source": [
    "dflr=pd.read_table(\"Ligand_Recepter.csv\",index_col=0,header=0,sep=\",\")\n",
    "dflr.shape"
   ]
  },
  {
   "cell_type": "code",
   "execution_count": null,
   "metadata": {},
   "outputs": [],
   "source": [
    "cd f:\\Dropbox\\data\\proj\\PE_HYZ\\PublicDataSet\\NBL_SZscRNA\\Integrated\\20201225_Final"
   ]
  },
  {
   "cell_type": "code",
   "execution_count": null,
   "metadata": {},
   "outputs": [],
   "source": [
    "#dftest2=pd.read_table(\"20210428_312_ligand_receptorgenes_SpatialTrans_enrionmentCells_pVAL0-1_SIG3_MarkerGene_withSigNum.tab\",index_col=0,header=0,sep=\"\\t\")"
   ]
  },
  {
   "cell_type": "code",
   "execution_count": null,
   "metadata": {},
   "outputs": [],
   "source": [
    "dfen=dfmk"
   ]
  },
  {
   "cell_type": "code",
   "execution_count": null,
   "metadata": {},
   "outputs": [],
   "source": [
    "dftest2=dfen"
   ]
  },
  {
   "cell_type": "code",
   "execution_count": null,
   "metadata": {},
   "outputs": [],
   "source": [
    "cd  D:\\Dropbox\\data\\proj\\PE_HYZ\\PublicDataSet\\NBL_SZscRNA\\Integrated\\20201225_Final"
   ]
  },
  {
   "cell_type": "code",
   "execution_count": null,
   "metadata": {},
   "outputs": [],
   "source": [
    "#dftestnew=pd.read_table(\"2021-05-11_21-58_Final_5cluster_SZscNBL_SS2_Cells_3enrich_1-1expr_MarkerGene_withSigNum.tab\",index_col=0,header=0,sep=\"\\t\")"
   ]
  },
  {
   "cell_type": "code",
   "execution_count": null,
   "metadata": {},
   "outputs": [],
   "source": [
    "dftestnew"
   ]
  },
  {
   "cell_type": "code",
   "execution_count": null,
   "metadata": {},
   "outputs": [],
   "source": [
    "set(dftestnew[\"Num\"])"
   ]
  },
  {
   "cell_type": "code",
   "execution_count": null,
   "metadata": {},
   "outputs": [],
   "source": [
    "dftestnew.shape"
   ]
  },
  {
   "cell_type": "code",
   "execution_count": null,
   "metadata": {},
   "outputs": [],
   "source": [
    "dflrtemp=dflr.loc[(dflr[\"from\"].isin(dftestnew.index.tolist()))&(dflr[\"to\"].isin(dftestnew.index.tolist()))]\n",
    "dflrtemp.shape"
   ]
  },
  {
   "cell_type": "code",
   "execution_count": null,
   "metadata": {},
   "outputs": [],
   "source": [
    "dflrtemp.shape"
   ]
  },
  {
   "cell_type": "code",
   "execution_count": null,
   "metadata": {},
   "outputs": [],
   "source": [
    "dflrtemp.shape"
   ]
  },
  {
   "cell_type": "code",
   "execution_count": null,
   "metadata": {
    "scrolled": false
   },
   "outputs": [],
   "source": [
    "dftest3=dftestnew.loc[set(dflrtemp[\"from\"].tolist()+dflrtemp[\"to\"].tolist())]"
   ]
  },
  {
   "cell_type": "code",
   "execution_count": null,
   "metadata": {},
   "outputs": [],
   "source": [
    "dftest3.shape"
   ]
  },
  {
   "cell_type": "code",
   "execution_count": null,
   "metadata": {
    "scrolled": false
   },
   "outputs": [],
   "source": [
    "dftest3.head()"
   ]
  },
  {
   "cell_type": "code",
   "execution_count": null,
   "metadata": {},
   "outputs": [],
   "source": [
    "cd F:\\Dropbox\\data\\proj\\PE_HYZ\\PublicDataSet\\NBL_SZscRNA\\20210120_visium"
   ]
  },
  {
   "cell_type": "code",
   "execution_count": null,
   "metadata": {
    "scrolled": true
   },
   "outputs": [],
   "source": [
    "dftest3.head()"
   ]
  },
  {
   "cell_type": "code",
   "execution_count": null,
   "metadata": {
    "scrolled": true
   },
   "outputs": [],
   "source": [
    "dftest2.head()"
   ]
  },
  {
   "cell_type": "code",
   "execution_count": null,
   "metadata": {},
   "outputs": [],
   "source": [
    "dftest2.shape"
   ]
  },
  {
   "cell_type": "code",
   "execution_count": null,
   "metadata": {},
   "outputs": [],
   "source": [
    "dflr.head()"
   ]
  },
  {
   "cell_type": "code",
   "execution_count": null,
   "metadata": {
    "scrolled": true
   },
   "outputs": [],
   "source": [
    " dftest2.index[1]"
   ]
  },
  {
   "cell_type": "code",
   "execution_count": null,
   "metadata": {},
   "outputs": [],
   "source": [
    "dftest3.head()"
   ]
  },
  {
   "cell_type": "code",
   "execution_count": null,
   "metadata": {
    "scrolled": false
   },
   "outputs": [],
   "source": [
    "dftest2"
   ]
  },
  {
   "cell_type": "code",
   "execution_count": null,
   "metadata": {},
   "outputs": [],
   "source": [
    "dftest2=dftest2.loc[dftest2[\"Num\"]>3]\n",
    "dftest2"
   ]
  },
  {
   "cell_type": "code",
   "execution_count": null,
   "metadata": {
    "scrolled": false
   },
   "outputs": [],
   "source": [
    "for item in dflr.loc[dflr[\"from\"]=='CSF1'][\"to\"].tolist():\n",
    "    if item in dftest2.index:\n",
    "        temp=dftest2.loc[item,\"Group\"]\n",
    "        print(item, temp)"
   ]
  },
  {
   "cell_type": "code",
   "execution_count": null,
   "metadata": {},
   "outputs": [],
   "source": []
  },
  {
   "cell_type": "code",
   "execution_count": null,
   "metadata": {
    "scrolled": true
   },
   "outputs": [],
   "source": [
    "dftest3.head()"
   ]
  },
  {
   "cell_type": "code",
   "execution_count": null,
   "metadata": {},
   "outputs": [],
   "source": [
    "dftest3.head(50)"
   ]
  },
  {
   "cell_type": "code",
   "execution_count": null,
   "metadata": {},
   "outputs": [],
   "source": [
    "dftest2.loc[item,\"Group\"]"
   ]
  },
  {
   "cell_type": "code",
   "execution_count": null,
   "metadata": {},
   "outputs": [],
   "source": [
    "temp"
   ]
  },
  {
   "cell_type": "code",
   "execution_count": null,
   "metadata": {},
   "outputs": [],
   "source": [
    "dftest2.loc[item,\"Group\"]"
   ]
  },
  {
   "cell_type": "code",
   "execution_count": null,
   "metadata": {},
   "outputs": [],
   "source": [
    "fromclusterlist=[]\n",
    "ligandlist=[]\n",
    "receptorlist=[]\n",
    "toclusterlist=[]\n",
    "for i in range(dftest3.shape[0]):\n",
    "    genename=dftest3.index[i]\n",
    "    tumortype=dftest3.iloc[i,0]\n",
    "    for item in dflr.loc[dflr[\"from\"]==genename][\"to\"].tolist():\n",
    "        if item in dftest2.index:\n",
    "            temp=dftest2.loc[item,\"Group\"]\n",
    "            for j in range(len(temp)):\n",
    "                fromclusterlist.append(tumortype)\n",
    "                ligandlist.append(genename)\n",
    "                receptorlist.append(item)\n",
    "                toclusterlist.append(temp[j])"
   ]
  },
  {
   "cell_type": "code",
   "execution_count": null,
   "metadata": {},
   "outputs": [],
   "source": [
    "temp=dftest2.loc[\"CADM1\",\"Group\"]"
   ]
  },
  {
   "cell_type": "code",
   "execution_count": null,
   "metadata": {},
   "outputs": [],
   "source": [
    "temp"
   ]
  },
  {
   "cell_type": "code",
   "execution_count": null,
   "metadata": {},
   "outputs": [],
   "source": [
    "isinstance(temp,str)"
   ]
  },
  {
   "cell_type": "code",
   "execution_count": null,
   "metadata": {},
   "outputs": [],
   "source": [
    "dftest2"
   ]
  },
  {
   "cell_type": "code",
   "execution_count": null,
   "metadata": {},
   "outputs": [],
   "source": [
    "fromclusterlist=[]\n",
    "ligandlist=[]\n",
    "receptorlist=[]\n",
    "toclusterlist=[]\n",
    "for i in range(dftest3.shape[0]):\n",
    "    genename=dftest3.index[i]\n",
    "    tumortype=dftest3.iloc[i,0]\n",
    "    for item in dflr.loc[dflr[\"to\"]==genename][\"from\"].tolist():\n",
    "        if item in dftest2.index:\n",
    "            temp=dftest2.loc[item,\"Group\"].values\n",
    "            if isinstance(temp, np.ndarray):\n",
    "                for j in range(len(temp)):\n",
    "                    fromclusterlist.append(temp[j])\n",
    "                    ligandlist.append(item)\n",
    "                    receptorlist.append(genename)\n",
    "                    toclusterlist.append(tumortype)\n",
    "            else:\n",
    "                fromclusterlist.append(temp)\n",
    "                ligandlist.append(item)\n",
    "                receptorlist.append(genename)\n",
    "                toclusterlist.append(tumortype)"
   ]
  },
  {
   "cell_type": "code",
   "execution_count": null,
   "metadata": {},
   "outputs": [],
   "source": []
  },
  {
   "cell_type": "code",
   "execution_count": null,
   "metadata": {},
   "outputs": [],
   "source": [
    "dftest3=dftestnew.loc[set(dflrtemp[\"from\"].tolist()+dflrtemp[\"to\"].tolist())]\n",
    "dftest3=dftest3.loc[dftest3[\"Num\"]>2]\n",
    "dftest3.shape"
   ]
  },
  {
   "cell_type": "code",
   "execution_count": null,
   "metadata": {},
   "outputs": [],
   "source": [
    "dftest3.groupby([\"Group\"]).count()"
   ]
  },
  {
   "cell_type": "code",
   "execution_count": null,
   "metadata": {},
   "outputs": [],
   "source": [
    "dftest2=dfen\n",
    "dftest2=dftest2.loc[dftest2[\"Num\"]>3]\n",
    "dftest2.shape"
   ]
  },
  {
   "cell_type": "code",
   "execution_count": null,
   "metadata": {},
   "outputs": [],
   "source": [
    "dftest2.groupby([\"Group\"]).count()"
   ]
  },
  {
   "cell_type": "code",
   "execution_count": null,
   "metadata": {},
   "outputs": [],
   "source": [
    "dftest3"
   ]
  },
  {
   "cell_type": "code",
   "execution_count": null,
   "metadata": {},
   "outputs": [],
   "source": [
    "dflr"
   ]
  },
  {
   "cell_type": "code",
   "execution_count": null,
   "metadata": {},
   "outputs": [],
   "source": [
    "fromclusterlist=[]\n",
    "ligandlist=[]\n",
    "receptorlist=[]\n",
    "toclusterlist=[]\n",
    "for i in range(dftest3.shape[0]):\n",
    "    genename=dftest3.index[i]\n",
    "    tumortype=dftest3.iloc[i,1]\n",
    "    for item in dflr.loc[dflr[\"from\"]==genename][\"to\"].tolist():\n",
    "        if item in dftest2.index:\n",
    "            temp=dftest2.loc[item,\"Group\"]\n",
    "            if not isinstance(temp, str):\n",
    "                for j in range(len(temp)):\n",
    "                    fromclusterlist.append(tumortype)\n",
    "                    ligandlist.append(genename)\n",
    "                    receptorlist.append(item)\n",
    "                    toclusterlist.append(temp[j])\n",
    "            else:\n",
    "                fromclusterlist.append(tumortype)\n",
    "                ligandlist.append(genename)\n",
    "                receptorlist.append(item)\n",
    "                toclusterlist.append(temp)\n",
    "    for item in dflr.loc[dflr[\"to\"]==genename][\"from\"].tolist():\n",
    "        if item in dftest2.index:\n",
    "            temp=dftest2.loc[item,\"Group\"]\n",
    "            if not isinstance(temp, str):\n",
    "                for j in range(len(temp)):\n",
    "                    fromclusterlist.append(temp[j])\n",
    "                    ligandlist.append(item)\n",
    "                    receptorlist.append(genename)\n",
    "                    toclusterlist.append(tumortype)\n",
    "            else:\n",
    "                fromclusterlist.append(temp)\n",
    "                ligandlist.append(item)\n",
    "                receptorlist.append(genename)\n",
    "                toclusterlist.append(tumortype)"
   ]
  },
  {
   "cell_type": "code",
   "execution_count": null,
   "metadata": {},
   "outputs": [],
   "source": [
    "dfligandsum=pd.DataFrame([fromclusterlist,ligandlist,receptorlist,toclusterlist])"
   ]
  },
  {
   "cell_type": "code",
   "execution_count": null,
   "metadata": {
    "scrolled": true
   },
   "outputs": [],
   "source": [
    "dfligandsum.head()"
   ]
  },
  {
   "cell_type": "code",
   "execution_count": null,
   "metadata": {},
   "outputs": [],
   "source": [
    "cd ."
   ]
  },
  {
   "cell_type": "code",
   "execution_count": null,
   "metadata": {},
   "outputs": [],
   "source": [
    "dfligandsum.index=[\"Ligand_Cluster\",\"LigandName\",\"ReceptorName\",\"RecptorCluster\"]\n"
   ]
  },
  {
   "cell_type": "code",
   "execution_count": null,
   "metadata": {},
   "outputs": [],
   "source": [
    "dfligandsum=dfligandsum.T"
   ]
  },
  {
   "cell_type": "code",
   "execution_count": null,
   "metadata": {},
   "outputs": [],
   "source": []
  },
  {
   "cell_type": "code",
   "execution_count": null,
   "metadata": {},
   "outputs": [],
   "source": [
    "dfligandsum[\"Ligand_Cluster\"].values.tolist()"
   ]
  },
  {
   "cell_type": "code",
   "execution_count": null,
   "metadata": {
    "scrolled": true
   },
   "outputs": [],
   "source": [
    "set(dfligandsum[\"Ligand_Cluster\"].values.tolist())"
   ]
  },
  {
   "cell_type": "code",
   "execution_count": null,
   "metadata": {},
   "outputs": [],
   "source": [
    "set(dftest2[\"Group\"])"
   ]
  },
  {
   "cell_type": "code",
   "execution_count": null,
   "metadata": {},
   "outputs": [],
   "source": [
    "templist=[]\n",
    "for item in dfligandsum.index:\n",
    "    if dfligandsum.loc[item,\"Ligand_Cluster\"] in ['Bridge_SCP','Chromaffin', 'Connecting', 'Diff_Mes', 'Diff_Neuroblast','NC_prog','preNeuroblast']:\n",
    "        if dfligandsum.loc[item,\"RecptorCluster\"] in ['Bcells', 'Endothelial', 'Fibroblasts', 'Myeloid', 'Schwann', 'Tcells']:\n",
    "            templist.append(dfligandsum.loc[item].values)\n",
    "    elif dfligandsum.loc[item,\"Ligand_Cluster\"] in  ['Bcells', 'Endothelial', 'Fibroblasts', 'Myeloid', 'Schwann', 'Tcells']:\n",
    "        if dfligandsum.loc[item,\"RecptorCluster\"] in ['Bridge_SCP', 'Chromaffin', 'Connecting', 'Diff_Mes', 'Diff_Neuroblast', 'NC_prog', 'preNeuroblast']:\n",
    "            templist.append(dfligandsum.loc[item].values)\n",
    "\n"
   ]
  },
  {
   "cell_type": "code",
   "execution_count": null,
   "metadata": {
    "scrolled": true
   },
   "outputs": [],
   "source": [
    "dfligandsumnew"
   ]
  },
  {
   "cell_type": "code",
   "execution_count": null,
   "metadata": {
    "scrolled": true
   },
   "outputs": [],
   "source": [
    "dfligandsumnew=pd.DataFrame(templist)\n",
    "dfligandsumnew.columns=[\"Ligand_Cluster\",\"LigandName\",\"ReceptorName\",\"RecptorCluster\"]\n",
    "dfligandsumnew"
   ]
  },
  {
   "cell_type": "code",
   "execution_count": null,
   "metadata": {},
   "outputs": [],
   "source": [
    "#igandsum=dfligandsum.T\n",
    "dfligandsum.head()"
   ]
  },
  {
   "cell_type": "code",
   "execution_count": null,
   "metadata": {},
   "outputs": [],
   "source": [
    "cd ."
   ]
  },
  {
   "cell_type": "code",
   "execution_count": null,
   "metadata": {},
   "outputs": [],
   "source": [
    "dfligandsum.groupby([\"Ligand_Cluster\",\"RecptorCluster\"]).count().to_csv(\"State_MicroenvironmentCells_Ligand_to_Receptor_Clusters_groupbylist2.tab\",sep=\"\\t\")"
   ]
  },
  {
   "cell_type": "code",
   "execution_count": null,
   "metadata": {
    "scrolled": true
   },
   "outputs": [],
   "source": [
    "dfligandsum.groupby([\"Ligand_Cluster\",\"RecptorCluster\"]).count()"
   ]
  },
  {
   "cell_type": "code",
   "execution_count": null,
   "metadata": {
    "scrolled": false
   },
   "outputs": [],
   "source": [
    "dfligandsum.groupby([\"Ligand_Cluster\"]).count()"
   ]
  },
  {
   "cell_type": "code",
   "execution_count": null,
   "metadata": {},
   "outputs": [],
   "source": [
    "dfligandsumratio=dfligandsum.groupby([\"Ligand_Cluster\",\"RecptorCluster\"]).count()/dfligandsum.groupby([\"Ligand_Cluster\"]).count()\n",
    "dfligandsumratio.to_csv(\"State_MicroenvironmentCells_Ligand_to_Receptor_Clusters_groupbylist_ratio.tab\",sep=\"\\t\")"
   ]
  },
  {
   "cell_type": "code",
   "execution_count": null,
   "metadata": {},
   "outputs": [],
   "source": [
    "dfligandsum.groupby([\"RecptorCluster\"]).count()"
   ]
  },
  {
   "cell_type": "code",
   "execution_count": null,
   "metadata": {},
   "outputs": [],
   "source": []
  },
  {
   "cell_type": "code",
   "execution_count": null,
   "metadata": {},
   "outputs": [],
   "source": []
  },
  {
   "cell_type": "markdown",
   "metadata": {},
   "source": [
    "# Chord Plot"
   ]
  },
  {
   "cell_type": "code",
   "execution_count": null,
   "metadata": {
    "scrolled": false
   },
   "outputs": [],
   "source": [
    "cd ."
   ]
  },
  {
   "cell_type": "code",
   "execution_count": null,
   "metadata": {
    "scrolled": true
   },
   "outputs": [],
   "source": [
    "dfligandsum.head()"
   ]
  },
  {
   "cell_type": "code",
   "execution_count": null,
   "metadata": {},
   "outputs": [],
   "source": [
    "#dfligandsum=dfligandsum.loc[~dfligandsum[\"Ligand_Cluster\"].isin([\"Chromaffin\",\"Diff_Neuroblast\"])]\n",
    "#dfligandsum=dfligandsum.loc[~dfligandsum[\"RecptorCluster\"].isin([\"Chromaffin\",\"Diff_Neuroblast\"])]\n",
    "dfligandsum.shape"
   ]
  },
  {
   "cell_type": "code",
   "execution_count": null,
   "metadata": {},
   "outputs": [],
   "source": [
    "dfc=dfligandsum.iloc[:,[0,1,3]].pivot_table(index='Ligand_Cluster',columns='RecptorCluster',aggfunc=\"count\").fillna(0)\n",
    "dfc"
   ]
  },
  {
   "cell_type": "code",
   "execution_count": null,
   "metadata": {
    "scrolled": true
   },
   "outputs": [],
   "source": [
    "sort(list(set(dfligandsum[\"RecptorCluster\"])))"
   ]
  },
  {
   "cell_type": "code",
   "execution_count": null,
   "metadata": {},
   "outputs": [],
   "source": [
    "dfc.columns=sort(list(set(dfligandsum[\"RecptorCluster\"])))"
   ]
  },
  {
   "cell_type": "code",
   "execution_count": null,
   "metadata": {},
   "outputs": [],
   "source": [
    "dfc=dfc.loc[sort(list(set(dfligandsum[\"RecptorCluster\"])))]\n",
    "dfc.shape"
   ]
  },
  {
   "cell_type": "code",
   "execution_count": null,
   "metadata": {},
   "outputs": [],
   "source": [
    "dfc=dfc.fillna(0)\n",
    "for i in range(dfc.shape[0]):\n",
    "    dfc.iloc[i,i]=0"
   ]
  },
  {
   "cell_type": "code",
   "execution_count": null,
   "metadata": {
    "scrolled": false
   },
   "outputs": [],
   "source": [
    "dfc"
   ]
  },
  {
   "cell_type": "code",
   "execution_count": null,
   "metadata": {
    "scrolled": true
   },
   "outputs": [],
   "source": [
    "dfc.sum(1)"
   ]
  },
  {
   "cell_type": "code",
   "execution_count": null,
   "metadata": {
    "scrolled": true
   },
   "outputs": [],
   "source": [
    "dfcnew=dfc+dfc.T\n",
    "#dfcnew[dfcnew>0]=1\n",
    "dfcnew"
   ]
  },
  {
   "cell_type": "code",
   "execution_count": null,
   "metadata": {},
   "outputs": [],
   "source": [
    "dfcnew4=dfc/dfc.sum()\n",
    "dfcnew4=dfcnew4.fillna(0)\n",
    "dfcnew4"
   ]
  },
  {
   "cell_type": "code",
   "execution_count": null,
   "metadata": {
    "scrolled": true
   },
   "outputs": [],
   "source": [
    "flux =dfcnew.astype(float).values\n",
    "flux"
   ]
  },
  {
   "cell_type": "code",
   "execution_count": null,
   "metadata": {},
   "outputs": [],
   "source": [
    "nodes = dfc.columns.tolist()\n",
    "nodes"
   ]
  },
  {
   "cell_type": "code",
   "execution_count": null,
   "metadata": {
    "scrolled": true
   },
   "outputs": [],
   "source": [
    "cd ."
   ]
  },
  {
   "cell_type": "code",
   "execution_count": null,
   "metadata": {
    "scrolled": true
   },
   "outputs": [],
   "source": [
    "dfcnew4.columns"
   ]
  },
  {
   "cell_type": "code",
   "execution_count": null,
   "metadata": {},
   "outputs": [],
   "source": [
    "dfcnew4"
   ]
  },
  {
   "cell_type": "code",
   "execution_count": null,
   "metadata": {},
   "outputs": [],
   "source": [
    "mwanted_order =['Bcells','Diff_Mes', 'NC_prog','Bridge_SCP', 'Connecting' , 'preNeuroblast',\n",
    "     'Endothelial', 'Fibroblasts', 'Myeloid', \n",
    "       'DCs', 'Tcells']\n",
    "#mreorder_ix = [list(mclasses_names).index(i) for i in mwanted_order]\n",
    "#mbool00 = in1d( mclasses_names[mclasses_index],  mwanted_order )\n",
    "mcolor_dict = pd.Series({    'SCP':   (90,  10,  10), 'Chromaffin1': (25, 60,  130),\n",
    "                             'cycling':    (57, 105,   7),\n",
    "             'Sympath':    (170, 180, 170),'SCP':   (190,  10,  10),  'Chromaffin': (25, 60,  130),\n",
    "                             'cycling':    (57, 105,   7),\n",
    "             'sympathoblasts':    (170, 180, 170),\n",
    "                            'Diff_Glia': (235, 125,  128),  'Diff_Mes': (10,10,255),\n",
    "                          'Chromaffin':   (55, 55,  78), 'preNeuroblast':  (100, 100, 240),\n",
    "                           'Diff_Neuroblast':    (57, 105,   7),'preGlia': (175, 175,  28),\n",
    "            'Bridge_SCP':    (170, 180, 170), 'NC_prog':(249,125,5),\n",
    "                           'Connecting':    ( 95, 186,  70),  'Auto_prog':    (180, 140, 130),\n",
    "       'cyclingNeuroblast':  (100, 100, 240), 'Migr_prog': ( 80, 235, 255),  'Mes_prog':(249,125,5),\n",
    "            'cycling SCPs':(250, 125, 0),35:(230, 140, 120), 'SympNeuron':  (10,10,255),\n",
    " 'Autonomic_Prog':(0,0,255),\n",
    "\n",
    "   'Sympath':    (170, 180, 170),'SCP':   (190,  10,  10),  'Chromaffin': (25, 60,  130),\n",
    "                            'Bcells':    (255,251,0),\n",
    "             'DCs':    (95, 186,  70),\n",
    "                          'Endothelial': (235, 125,  128),   'Myeloid': (10,10,255),\n",
    "                         'Schwann':   (55, 55,  78),'Fibroblasts':  (57, 105,   7),\n",
    "                       'Tcells':    (249,125,5),'preGlia': (175, 175,  28),\n",
    "            'Bridge_SCP':    (170, 180, 170), 'NC_prog':(249,125,5),\n",
    " 'NC_prog':( 150, 60, 180),\n",
    "     'AdrSypm':( 50, 180, 180),\n",
    " 'Sympa':( 50, 220, 20),\n",
    "    'Macrophage':(255,255,0), \n",
    "     'CAF':(255,155,0),\n",
    "    'Endothelial':(255,153,153), \n",
    "    \n",
    "    'Tcells':(51,255,255),\n",
    "      'sympathoblasts':    (170, 180, 170),\n",
    "                            'Diff_Glia': (235, 125,  128),  'Diff_Mes': (10,10,255),\n",
    "                          'Chromaffin':   (55, 55,  78), 'preNeuroblast':  (100, 100, 240),\n",
    "                           'Diff_Neuroblast':    (57, 105,   7),'preGlia': (175, 175,  28),\n",
    "            'Bridge_SCP':    (170, 180, 170), 'NC_prog':(249,125,5),\n",
    "                           'Connecting':    ( 95, 186,  70),  'Auto_prog':    (180, 140, 130),\n",
    "       'cyclingNeuroblast':  (100, 100, 240), 'Migr_prog': ( 80, 235, 255),  'Mes_prog':(249,125,5),\n",
    "            'cycling SCPs':(250, 125, 0),35:(230, 140, 120), 'SympNeuron':  (10,10,255),\n",
    "    \n",
    "    })\n",
    "mcolor_dict = mcolor_dict.map(lambda x: list(map(lambda y: y/255., x)))"
   ]
  },
  {
   "cell_type": "code",
   "execution_count": null,
   "metadata": {
    "scrolled": true
   },
   "outputs": [],
   "source": [
    "mwanted_order =['Bcells','Diff_Mes', 'NC_prog','Bridge_SCP', 'Connecting' , 'preNeuroblast','Diff_Neuroblast', 'Chromaffin',\n",
    "     'Endothelial', 'Fibroblasts', 'Myeloid', \n",
    "       'DCs', 'Tcells']\n",
    "#mreorder_ix = [list(mclasses_names).index(i) for i in mwanted_order]\n",
    "#mbool00 = in1d( mclasses_names[mclasses_index],  mwanted_order )\n",
    "mcolor_dict = pd.Series({             \n",
    "\n",
    "   'Sympath':    (170, 180, 170),'SCP':   (190,  10,  10),  'Chromaffin': (25, 60,  130),\n",
    "                            'Bcells':    (255,251,0),\n",
    "             'DCs':    (128,0,0),\n",
    "                          'Endothelial': (235, 125,  128),   'Myeloid': (0,0,125),\n",
    "                         'Schwann':   (55, 55,  78),'Fibroblasts':  (0, 105,   0),\n",
    "                       'Tcells':    (249,125,5),'preGlia': (175, 175,  28),\n",
    "            'Bridge_SCP':    (170, 180, 170), 'NC_prog':(249,125,5),\n",
    " 'NC_prog':( 150, 60, 180),\n",
    "     'AdrSypm':( 50, 180, 180),\n",
    " 'Sympa':( 50, 220, 20),\n",
    "    'Macrophage':(255,255,0), \n",
    "     'CAF':(255,155,0),\n",
    "    'Endothelial':(255,153,153), \n",
    "    \n",
    "    'Tcells':(51,255,255),\n",
    "      'sympathoblasts':    (170, 180, 170),\n",
    "                            'Diff_Glia': (235, 125,  128),  'Diff_Mes': (10,10,255),\n",
    "                          'Chromaffin':   (55, 55,  78), 'preNeuroblast':  (100, 100, 240),\n",
    "                           'Diff_Neuroblast':    (57, 105,   7),'preGlia': (175, 175,  28),\n",
    "            'Bridge_SCP':    (170, 180, 170), 'NC_prog':(249,125,5),\n",
    "                           'Connecting':    ( 95, 186,  70),  'Auto_prog':    (180, 140, 130),\n",
    " \n",
    "    \n",
    "    })\n",
    "mcolor_dict = mcolor_dict.map(lambda x: list(map(lambda y: y/255., x)))"
   ]
  },
  {
   "cell_type": "code",
   "execution_count": null,
   "metadata": {
    "scrolled": true
   },
   "outputs": [],
   "source": [
    "rgb2hex(mcolor_dict.values[0])"
   ]
  },
  {
   "cell_type": "code",
   "execution_count": null,
   "metadata": {
    "scrolled": true
   },
   "outputs": [],
   "source": [
    " mcolor_dict[mwanted_order]"
   ]
  },
  {
   "cell_type": "code",
   "execution_count": null,
   "metadata": {},
   "outputs": [],
   "source": [
    "mcolor_dict.values\n",
    "from matplotlib.colors import rgb2hex\n",
    "finalcolor=[ rgb2hex(item) for item in  mcolor_dict[mwanted_order].values]"
   ]
  },
  {
   "cell_type": "code",
   "execution_count": null,
   "metadata": {},
   "outputs": [],
   "source": [
    "finalcolor"
   ]
  },
  {
   "cell_type": "code",
   "execution_count": null,
   "metadata": {
    "scrolled": true
   },
   "outputs": [],
   "source": [
    "dftempnew=(dfcnew4+dfcnew4.T)/2\n",
    "dftempnew"
   ]
  },
  {
   "cell_type": "code",
   "execution_count": null,
   "metadata": {},
   "outputs": [],
   "source": [
    "dftempnew=dftempnew.loc[['Bcells','Diff_Mes', 'NC_prog','Bridge_SCP', 'Connecting' , 'preNeuroblast','Diff_Neuroblast', 'Chromaffin',\n",
    "     'Endothelial', 'Fibroblasts', 'Myeloid', \n",
    "       'DCs', 'Tcells']]\n",
    "dftempnew=dftempnew.T.loc[['Bcells','Diff_Mes', 'NC_prog','Bridge_SCP', 'Connecting' , 'preNeuroblast','Diff_Neuroblast', 'Chromaffin',\n",
    "     'Endothelial', 'Fibroblasts', 'Myeloid', \n",
    "       'DCs', 'Tcells']].T"
   ]
  },
  {
   "cell_type": "code",
   "execution_count": null,
   "metadata": {},
   "outputs": [],
   "source": [
    "nodes = dftempnew.columns.tolist()\n",
    "nodes"
   ]
  },
  {
   "cell_type": "code",
   "execution_count": null,
   "metadata": {
    "scrolled": true
   },
   "outputs": [],
   "source": [
    "dftempnew"
   ]
  },
  {
   "cell_type": "code",
   "execution_count": null,
   "metadata": {},
   "outputs": [],
   "source": [
    "dfcount=dftest2.groupby([\"Group\"]).count().append(dftest3.groupby([\"Group\"]).count())\n",
    "dfcount"
   ]
  },
  {
   "cell_type": "code",
   "execution_count": null,
   "metadata": {
    "scrolled": false
   },
   "outputs": [],
   "source": [
    "dfcount=dfcount.loc[['Bcells','Diff_Mes', 'NC_prog','Bridge_SCP', 'Connecting' , 'preNeuroblast','Diff_Neuroblast', 'Chromaffin',\n",
    "     'Endothelial', 'Fibroblasts', 'Myeloid', \n",
    "       'DCs', 'Tcells']]\n",
    "dfcount"
   ]
  },
  {
   "cell_type": "code",
   "execution_count": null,
   "metadata": {},
   "outputs": [],
   "source": [
    "dftempnew=dftempnew.T/dfcount[\"Num\"].values*1000\n",
    "dftempnew=dftempnew/dftempnew.max()\n",
    "#dftempnew=dftempnew.T/dfcount[\"Num\"].values\n",
    "dftempnew=(dftempnew+dftempnew.T)/2\n",
    "dftempnew"
   ]
  },
  {
   "cell_type": "code",
   "execution_count": null,
   "metadata": {
    "scrolled": true
   },
   "outputs": [],
   "source": [
    "finalcolor"
   ]
  },
  {
   "cell_type": "code",
   "execution_count": null,
   "metadata": {},
   "outputs": [],
   "source": [
    "flux =dftempnew.astype(float).values\n",
    "flux"
   ]
  },
  {
   "cell_type": "code",
   "execution_count": null,
   "metadata": {},
   "outputs": [],
   "source": [
    "len(nodePos)"
   ]
  },
  {
   "cell_type": "code",
   "execution_count": null,
   "metadata": {},
   "outputs": [],
   "source": [
    "    fig = plt.figure(figsize=(10,10))\n",
    "\n",
    "    ax = plt.axes([0,0,1,1])\n",
    "    colorlist=[hex2rgb(x) for x in finalcolor]\n",
    "    #nodePos = chordDiagram(flux, ax, colors=[hex2rgb(x) for x in ['#666666', '#66ff66', '#ff66166', '#ff6026', '#6636ff','#666566', '#76ff66', '#ff6866', '#ff6906', '#6660ff','#666661', '#66f266', '#ff6666', '#ff6026', '#6636ff','#646666', '#66ff66', '#ff6766', '#ff6806', '#6696ff','#666616', '#26ff66', '#ff6466', '#ff3006', '#6666ff','#665666', '#66ff76', '#ff6866', '#ff6906', '#6606ff','#666666', '#66ff66', '#ff6666', '#ff6006', '#6666ff',]],width=0.15,chordwidth=0.75)\n",
    "    nodePos = chordDiagram(flux, ax, colors=colorlist,width=0.1,chordwidth=0.75,dftemp=dftempnew.values)\n",
    "    #nodePos2 = chordDiagram(flux, ax=ax, colors=colorlist[::-1],width=0.1,chordwidth=0.75)\n",
    "    #nodePos = chordDiagram(flux, ax)\n",
    "    ax.axis('off')\n",
    "    \n",
    "    prop = dict(fontsize=15,\n",
    "                ha='center', \n",
    "                va='center'\n",
    "               )\n",
    "    #nodes = ['non-crystal','xCC', 'FCC', 'HCP', 'BCC']\n",
    "    for i in range(13):\n",
    "        ax.text(nodePos[i][0], nodePos[i][1], nodes[i], rotation=nodePos[i][2]+45, **prop)\n",
    "    #plt.savefig(\"All_Interaction.pdf\",bbox_inches='tight')"
   ]
  },
  {
   "cell_type": "code",
   "execution_count": null,
   "metadata": {},
   "outputs": [],
   "source": [
    "dfc=dfc.loc[['Bcells','Diff_Mes', 'NC_prog','Bridge_SCP', 'Connecting' , 'preNeuroblast',\n",
    "     'Endothelial', 'Fibroblasts', 'Myeloid', \n",
    "       'DCs', 'Tcells']]\n",
    "dfc=dfc.T.loc[['Bcells','Diff_Mes', 'NC_prog','Bridge_SCP', 'Connecting' , 'preNeuroblast',\n",
    "     'Endothelial', 'Fibroblasts', 'Myeloid', \n",
    "       'DCs', 'Tcells']].T"
   ]
  },
  {
   "cell_type": "code",
   "execution_count": null,
   "metadata": {},
   "outputs": [],
   "source": []
  },
  {
   "cell_type": "code",
   "execution_count": null,
   "metadata": {},
   "outputs": [],
   "source": []
  },
  {
   "cell_type": "code",
   "execution_count": null,
   "metadata": {},
   "outputs": [],
   "source": [
    "cd F:\\Dropbox\\data\\proj\\PE_HYZ\\PublicDataSet\\NBL_SZscRNA\\20210120_visium"
   ]
  },
  {
   "cell_type": "code",
   "execution_count": null,
   "metadata": {},
   "outputs": [],
   "source": [
    "dftype=pd.read_table(\"TumorType_vs_TumorTypeCells.tab\",index_col=0,header=0,sep=\"\\t\")"
   ]
  },
  {
   "cell_type": "code",
   "execution_count": null,
   "metadata": {},
   "outputs": [],
   "source": [
    "dftype.groupby([\"TumorCluster\"]).count().index"
   ]
  },
  {
   "cell_type": "code",
   "execution_count": null,
   "metadata": {},
   "outputs": [],
   "source": [
    "dftype.groupby([\"TumorCluster\"]).count()"
   ]
  },
  {
   "cell_type": "code",
   "execution_count": null,
   "metadata": {},
   "outputs": [],
   "source": [
    "dftype.groupby([\"TumorCluster\"]).mean()"
   ]
  },
  {
   "cell_type": "code",
   "execution_count": null,
   "metadata": {},
   "outputs": [],
   "source": [
    "dfc=dftype.groupby([\"TumorCluster\"]).sum()/dftype.groupby([\"TumorCluster\"]).count()"
   ]
  },
  {
   "cell_type": "code",
   "execution_count": null,
   "metadata": {},
   "outputs": [],
   "source": [
    "dfc=dfc.T.loc[dftype.groupby([\"TumorCluster\"]).count().index].T"
   ]
  },
  {
   "cell_type": "code",
   "execution_count": null,
   "metadata": {},
   "outputs": [],
   "source": [
    "dfc=dfc.loc[['Diff_Mes', 'NC_prog','Bridge_SCP', 'Connecting' , 'preNeuroblast',\"Diff_Neuroblast\",\"Chromaffin\"]]\n",
    "dfc=dfc[['Diff_Mes', 'NC_prog','Bridge_SCP', 'Connecting' , 'preNeuroblast',\"Diff_Neuroblast\",\"Chromaffin\"]]"
   ]
  },
  {
   "cell_type": "code",
   "execution_count": null,
   "metadata": {},
   "outputs": [],
   "source": [
    "dfcn=(dfc.T.astype(float)+dfc.astype(float))/2"
   ]
  },
  {
   "cell_type": "code",
   "execution_count": null,
   "metadata": {},
   "outputs": [],
   "source": [
    "dfcn"
   ]
  },
  {
   "cell_type": "code",
   "execution_count": null,
   "metadata": {},
   "outputs": [],
   "source": [
    "mcolor_dict.values\n",
    "from matplotlib.colors import rgb2hex\n",
    "finalcolor=[ rgb2hex(item) for item in  mcolor_dict[dfcn.index].values]"
   ]
  },
  {
   "cell_type": "code",
   "execution_count": null,
   "metadata": {},
   "outputs": [],
   "source": [
    "cd ."
   ]
  },
  {
   "cell_type": "code",
   "execution_count": null,
   "metadata": {},
   "outputs": [],
   "source": [
    "    fig = plt.figure(figsize=(10,10))\n",
    "    flux =(dfc.T.astype(float)+dfc.astype(float)).values\n",
    "    #flux =dfc.T.astype(float).values\n",
    "    nodes = dfc.columns.tolist()\n",
    "    ax = plt.axes([0,0,1,1])\n",
    "    colorlist=[hex2rgb(x) for x in finalcolor]\n",
    "    #nodePos = chordDiagram(flux, ax, colors=[hex2rgb(x) for x in ['#666666', '#66ff66', '#ff66166', '#ff6026', '#6636ff','#666566', '#76ff66', '#ff6866', '#ff6906', '#6660ff','#666661', '#66f266', '#ff6666', '#ff6026', '#6636ff','#646666', '#66ff66', '#ff6766', '#ff6806', '#6696ff','#666616', '#26ff66', '#ff6466', '#ff3006', '#6666ff','#665666', '#66ff76', '#ff6866', '#ff6906', '#6606ff','#666666', '#66ff66', '#ff6666', '#ff6006', '#6666ff',]],width=0.15,chordwidth=0.75)\n",
    "    nodePos = chordDiagram(flux, ax, colors=colorlist,width=0.15,chordwidth=0.95,dftemp=dfcn.T.values)\n",
    "    #nodePos2 = chordDiagram(flux, ax=ax, colors=colorlist[::-1],width=0.1,chordwidth=0.75)\n",
    "    #nodePos = chordDiagram(flux, ax)\n",
    "    ax.axis('off')\n",
    "    \n",
    "    prop = dict(fontsize=18,\n",
    "                ha='center', \n",
    "                va='center'\n",
    "               )\n",
    "    #nodes = ['non-crystal','xCC', 'FCC', 'HCP', 'BCC']\n",
    "    for i in range(7):\n",
    "        ax.text(nodePos[i][0], nodePos[i][1], nodes[i], rotation=nodePos[i][2]+0, **prop)\n",
    "  "
   ]
  },
  {
   "cell_type": "code",
   "execution_count": null,
   "metadata": {},
   "outputs": [],
   "source": [
    "dfc=(dfcnew4+dfcnew4.T)/2\n",
    "dfc"
   ]
  },
  {
   "cell_type": "code",
   "execution_count": null,
   "metadata": {},
   "outputs": [],
   "source": []
  },
  {
   "cell_type": "code",
   "execution_count": null,
   "metadata": {},
   "outputs": [],
   "source": []
  },
  {
   "cell_type": "code",
   "execution_count": null,
   "metadata": {},
   "outputs": [],
   "source": []
  },
  {
   "cell_type": "code",
   "execution_count": null,
   "metadata": {},
   "outputs": [],
   "source": []
  },
  {
   "cell_type": "code",
   "execution_count": null,
   "metadata": {},
   "outputs": [],
   "source": [
    "dftype=pd.read_table(\"TumorType_vs_EnvironmentCells_100.tab\",index_col=0,header=0,sep=\"\\t\")"
   ]
  },
  {
   "cell_type": "code",
   "execution_count": null,
   "metadata": {},
   "outputs": [],
   "source": [
    "dftype.groupby([\"TumorCluster\"]).count().index"
   ]
  },
  {
   "cell_type": "code",
   "execution_count": null,
   "metadata": {},
   "outputs": [],
   "source": [
    "dftype.groupby([\"TumorCluster\"]).count()"
   ]
  },
  {
   "cell_type": "code",
   "execution_count": null,
   "metadata": {
    "scrolled": false
   },
   "outputs": [],
   "source": [
    "dftype.groupby([\"TumorCluster\"]).mean()"
   ]
  },
  {
   "cell_type": "code",
   "execution_count": null,
   "metadata": {
    "scrolled": true
   },
   "outputs": [],
   "source": [
    "dftype.index"
   ]
  },
  {
   "cell_type": "code",
   "execution_count": null,
   "metadata": {},
   "outputs": [],
   "source": [
    "dfc = pd.DataFrame(columns=[ 'Bridge_SCP', 'Chromaffin', 'Connecting' ,'Diff_Mes', 'Diff_Neuroblast','NC_prog','preNeuroblast',\n",
    "  'T-cells', 'B-cells', 'Macrophages', 'Endothelial cells', 'DCs', 'CAFs'], index=[ 'Bridge_SCP', 'Chromaffin', 'Connecting' ,'Diff_Mes', 'Diff_Neuroblast','NC_prog','preNeuroblast',\n",
    "  'T-cells', 'B-cells', 'Macrophages', 'Endothelial cells', 'DCs', 'CAFs'])\n",
    "dfc.iloc[:7,-6:]=dftype.groupby([\"TumorCluster\"]).mean()\n",
    "dfc.iloc[-6:,:7]=dftype.groupby([\"TumorCluster\"]).mean().T\n",
    "dfc=dfc.fillna(0)\n",
    "dfc.columns=['Bridge_SCP', 'Chromaffin', 'Connecting', 'Diff_Mes', 'Diff_Neuroblast',\n",
    "       'NC_prog', 'preNeuroblast', 'Tcells', 'Bcells', 'Myeloid',\n",
    "       'Endothelial', 'DCs', 'Fibroblasts']\n",
    "dfc.index=['Bridge_SCP', 'Chromaffin', 'Connecting', 'Diff_Mes', 'Diff_Neuroblast',\n",
    "       'NC_prog', 'preNeuroblast', 'Tcells', 'Bcells', 'Myeloid',\n",
    "       'Endothelial', 'DCs', 'Fibroblasts']\n",
    "dfc=dfc.loc[['Bcells','Diff_Mes', 'NC_prog','Bridge_SCP', 'Connecting' , 'preNeuroblast', 'Diff_Neuroblast','Chromaffin', \n",
    "     'Endothelial', 'Fibroblasts', 'Myeloid', \n",
    "       'DCs', 'Tcells']]\n",
    "dfc=dfc[['Bcells','Diff_Mes', 'NC_prog','Bridge_SCP', 'Connecting' , 'preNeuroblast','Diff_Neuroblast','Chromaffin', \n",
    "     'Endothelial', 'Fibroblasts', 'Myeloid', \n",
    "       'DCs', 'Tcells']]\n",
    "dfc"
   ]
  },
  {
   "cell_type": "code",
   "execution_count": null,
   "metadata": {
    "scrolled": true
   },
   "outputs": [],
   "source": [
    "dftempnew"
   ]
  },
  {
   "cell_type": "code",
   "execution_count": null,
   "metadata": {
    "scrolled": true
   },
   "outputs": [],
   "source": [
    "#dfc=dfc/dfc.sum()\n",
    "#dfc=(dfc.T.astype(float)+dfc.astype(float))/2\n",
    "#dfc=dfc/dfc.max()\n",
    "dfcn=(dfc.T.astype(float)+dfc.astype(float))/2\n",
    "dfcn\n",
    "#dfcn=dfcn*dftempnew"
   ]
  },
  {
   "cell_type": "code",
   "execution_count": null,
   "metadata": {
    "scrolled": true
   },
   "outputs": [],
   "source": [
    "dftempnew"
   ]
  },
  {
   "cell_type": "code",
   "execution_count": null,
   "metadata": {
    "scrolled": true
   },
   "outputs": [],
   "source": [
    "#dfcn=dfcn*dftempnew\n",
    "dfcn"
   ]
  },
  {
   "cell_type": "code",
   "execution_count": null,
   "metadata": {},
   "outputs": [],
   "source": [
    "mwanted_order =['Bcells','Diff_Mes', 'NC_prog','Bridge_SCP', 'Connecting' , 'preNeuroblast','Diff_Neuroblast', 'Chromaffin',\n",
    "     'Endothelial', 'Fibroblasts', 'Myeloid', \n",
    "       'DCs', 'Tcells']"
   ]
  },
  {
   "cell_type": "code",
   "execution_count": null,
   "metadata": {},
   "outputs": [],
   "source": [
    "mcolor_dict.values\n",
    "from matplotlib.colors import rgb2hex\n",
    "finalcolor=[ rgb2hex(item) for item in  mcolor_dict[dfcn.index].values]"
   ]
  },
  {
   "cell_type": "code",
   "execution_count": null,
   "metadata": {},
   "outputs": [],
   "source": [
    "cd ."
   ]
  },
  {
   "cell_type": "code",
   "execution_count": null,
   "metadata": {},
   "outputs": [],
   "source": [
    "    fig = plt.figure(figsize=(10,10))\n",
    "    flux =(dfcn.T.astype(float)+dfc.astype(float)).values\n",
    "    #flux =dfc.T.astype(float).values\n",
    "    nodes = dfcn.columns.tolist()\n",
    "    ax = plt.axes([0,0,1,1])\n",
    "    colorlist=[hex2rgb(x) for x in finalcolor]\n",
    "    #nodePos = chordDiagram(flux, ax, colors=[hex2rgb(x) for x in ['#666666', '#66ff66', '#ff66166', '#ff6026', '#6636ff','#666566', '#76ff66', '#ff6866', '#ff6906', '#6660ff','#666661', '#66f266', '#ff6666', '#ff6026', '#6636ff','#646666', '#66ff66', '#ff6766', '#ff6806', '#6696ff','#666616', '#26ff66', '#ff6466', '#ff3006', '#6666ff','#665666', '#66ff76', '#ff6866', '#ff6906', '#6606ff','#666666', '#66ff66', '#ff6666', '#ff6006', '#6666ff',]],width=0.15,chordwidth=0.75)\n",
    "    nodePos = chordDiagram(flux, ax, colors=colorlist,width=0.15,chordwidth=0.95,dftemp=dfcn.T.values)\n",
    "    #nodePos2 = chordDiagram(flux, ax=ax, colors=colorlist[::-1],width=0.1,chordwidth=0.75)\n",
    "    #nodePos = chordDiagram(flux, ax)\n",
    "    ax.axis('off')\n",
    "    \n",
    "    prop = dict(fontsize=15,\n",
    "                ha='center', \n",
    "                va='center'\n",
    "               )\n",
    "    #nodes = ['non-crystal','xCC', 'FCC', 'HCP', 'BCC']\n",
    "    for i in range(13):\n",
    "        ax.text(nodePos[i][0], nodePos[i][1], nodes[i], rotation=nodePos[i][2]+0, **prop)\n",
    "    "
   ]
  },
  {
   "cell_type": "code",
   "execution_count": null,
   "metadata": {},
   "outputs": [],
   "source": []
  },
  {
   "cell_type": "code",
   "execution_count": null,
   "metadata": {},
   "outputs": [],
   "source": []
  },
  {
   "cell_type": "code",
   "execution_count": null,
   "metadata": {},
   "outputs": [],
   "source": []
  },
  {
   "cell_type": "code",
   "execution_count": null,
   "metadata": {},
   "outputs": [],
   "source": []
  },
  {
   "cell_type": "code",
   "execution_count": null,
   "metadata": {},
   "outputs": [],
   "source": []
  },
  {
   "cell_type": "code",
   "execution_count": null,
   "metadata": {},
   "outputs": [],
   "source": [
    "dfc=dfc.loc[ ['Bcells','Diff_Mes', 'NC_prog','Bridge_SCP', 'Connecting' , 'preNeuroblast',\n",
    "     'Endothelial', 'Fibroblasts', 'Myeloid', \n",
    "       'DCs', 'Tcells']]\n",
    "dfc=dfc.T.loc[['Bcells','Diff_Mes', 'NC_prog','Bridge_SCP', 'Connecting' , 'preNeuroblast',\n",
    "     'Endothelial', 'Fibroblasts', 'Myeloid', \n",
    "       'DCs', 'Tcells']].T"
   ]
  },
  {
   "cell_type": "code",
   "execution_count": null,
   "metadata": {},
   "outputs": [],
   "source": [
    "flux"
   ]
  },
  {
   "cell_type": "code",
   "execution_count": null,
   "metadata": {},
   "outputs": [],
   "source": [
    "dfcn=dfc.T.astype(float)*dfc.astype(float)"
   ]
  },
  {
   "cell_type": "code",
   "execution_count": null,
   "metadata": {},
   "outputs": [],
   "source": [
    "dfcn"
   ]
  },
  {
   "cell_type": "code",
   "execution_count": null,
   "metadata": {},
   "outputs": [],
   "source": [
    "cd ."
   ]
  },
  {
   "cell_type": "code",
   "execution_count": null,
   "metadata": {},
   "outputs": [],
   "source": [
    "    fig = plt.figure(figsize=(10,10))\n",
    "    flux =(dfc.T.astype(float)+dfc.astype(float)).values\n",
    "    #flux =dfc.T.astype(float).values\n",
    "    nodes = dfc.columns.tolist()\n",
    "    ax = plt.axes([0,0,1,1])\n",
    "    colorlist=[hex2rgb(x) for x in finalcolor]\n",
    "    #nodePos = chordDiagram(flux, ax, colors=[hex2rgb(x) for x in ['#666666', '#66ff66', '#ff66166', '#ff6026', '#6636ff','#666566', '#76ff66', '#ff6866', '#ff6906', '#6660ff','#666661', '#66f266', '#ff6666', '#ff6026', '#6636ff','#646666', '#66ff66', '#ff6766', '#ff6806', '#6696ff','#666616', '#26ff66', '#ff6466', '#ff3006', '#6666ff','#665666', '#66ff76', '#ff6866', '#ff6906', '#6606ff','#666666', '#66ff66', '#ff6666', '#ff6006', '#6666ff',]],width=0.15,chordwidth=0.75)\n",
    "    nodePos = chordDiagram(flux, ax, colors=colorlist,width=0.15,chordwidth=0.95,dftemp=dfcn.T.values)\n",
    "    #nodePos2 = chordDiagram(flux, ax=ax, colors=colorlist[::-1],width=0.1,chordwidth=0.75)\n",
    "    #nodePos = chordDiagram(flux, ax)\n",
    "    ax.axis('off')\n",
    "    \n",
    "    prop = dict(fontsize=18,\n",
    "                ha='center', \n",
    "                va='center'\n",
    "               )\n",
    "    #nodes = ['non-crystal','xCC', 'FCC', 'HCP', 'BCC']\n",
    "    for i in range(11):\n",
    "        ax.text(nodePos[i][0], nodePos[i][1], nodes[i], rotation=nodePos[i][2]+0, **prop)"
   ]
  },
  {
   "cell_type": "code",
   "execution_count": null,
   "metadata": {},
   "outputs": [],
   "source": []
  },
  {
   "cell_type": "code",
   "execution_count": null,
   "metadata": {},
   "outputs": [],
   "source": []
  },
  {
   "cell_type": "code",
   "execution_count": null,
   "metadata": {},
   "outputs": [],
   "source": []
  },
  {
   "cell_type": "code",
   "execution_count": null,
   "metadata": {},
   "outputs": [],
   "source": [
    "dffibgo=pd.read_table(\"Fibroblast_Bridge_GO.tab\",index_col=0,header=0,sep=\"\\t\")"
   ]
  },
  {
   "cell_type": "code",
   "execution_count": null,
   "metadata": {},
   "outputs": [],
   "source": [
    "dfmacgo=pd.read_table(\"Myloid_Bridge_GO.tab\",index_col=0,header=0,sep=\"\\t\")"
   ]
  },
  {
   "cell_type": "code",
   "execution_count": null,
   "metadata": {},
   "outputs": [],
   "source": [
    "dfmacgo=dfmacgo.reset_index()"
   ]
  },
  {
   "cell_type": "code",
   "execution_count": null,
   "metadata": {},
   "outputs": [],
   "source": [
    "#dfmacgo=dfmacgo.reset_index()\n",
    "dfmacgo.index=dfmacgo[\"term_goid\"]\n",
    "dfmacgo"
   ]
  },
  {
   "cell_type": "code",
   "execution_count": null,
   "metadata": {},
   "outputs": [],
   "source": [
    "dffibgo=dffibgo.reset_index()\n",
    "dffibgo.index=dffibgo[\"term_goid\"]\n",
    "dffibgo"
   ]
  },
  {
   "cell_type": "code",
   "execution_count": null,
   "metadata": {},
   "outputs": [],
   "source": [
    "clist=[]\n",
    "for item in dfmacgo.columns:\n",
    "    clist.append(\"Mac_%s\"%item)\n",
    "dfmacgo.columns=clist"
   ]
  },
  {
   "cell_type": "code",
   "execution_count": null,
   "metadata": {},
   "outputs": [],
   "source": [
    "clist=[]\n",
    "for item in dffibgo.columns:\n",
    "    clist.append(\"Fib_%s\"%item)\n",
    "dffibgo.columns=clist"
   ]
  },
  {
   "cell_type": "code",
   "execution_count": null,
   "metadata": {
    "scrolled": true
   },
   "outputs": [],
   "source": [
    "dfgo=dfmacgo.join(dffibgo,how=\"inner\")"
   ]
  },
  {
   "cell_type": "code",
   "execution_count": null,
   "metadata": {},
   "outputs": [],
   "source": [
    "dfgo.to_csv(\"CommonGO.csv\",sep=\"\\t\")"
   ]
  },
  {
   "cell_type": "code",
   "execution_count": null,
   "metadata": {},
   "outputs": [],
   "source": []
  },
  {
   "cell_type": "code",
   "execution_count": null,
   "metadata": {},
   "outputs": [],
   "source": []
  },
  {
   "cell_type": "code",
   "execution_count": null,
   "metadata": {},
   "outputs": [],
   "source": []
  },
  {
   "cell_type": "code",
   "execution_count": null,
   "metadata": {},
   "outputs": [],
   "source": [
    "dffibgo=pd.read_table(\"Fibroblast_Bridge_Pathway.tab\",index_col=0,header=0,sep=\"\\t\")"
   ]
  },
  {
   "cell_type": "code",
   "execution_count": null,
   "metadata": {},
   "outputs": [],
   "source": [
    "dfmacgo=pd.read_table(\"Myloid_Bridge_Pathway.tab\",index_col=0,header=0,sep=\"\\t\")"
   ]
  },
  {
   "cell_type": "code",
   "execution_count": null,
   "metadata": {},
   "outputs": [],
   "source": [
    "dfmacgo"
   ]
  },
  {
   "cell_type": "code",
   "execution_count": null,
   "metadata": {},
   "outputs": [],
   "source": [
    "dfmacgo=dfmacgo.reset_index()"
   ]
  },
  {
   "cell_type": "code",
   "execution_count": null,
   "metadata": {},
   "outputs": [],
   "source": [
    "#dfmacgo=dfmacgo.reset_index()\n",
    "dfmacgo.index=dfmacgo[\"pathway\"]\n",
    "dfmacgo"
   ]
  },
  {
   "cell_type": "code",
   "execution_count": null,
   "metadata": {},
   "outputs": [],
   "source": [
    "dffibgo=dffibgo.reset_index()\n",
    "dffibgo.index=dffibgo[\"pathway\"]\n",
    "dffibgo"
   ]
  },
  {
   "cell_type": "code",
   "execution_count": null,
   "metadata": {},
   "outputs": [],
   "source": [
    "clist=[]\n",
    "for item in dfmacgo.columns:\n",
    "    clist.append(\"Mac_%s\"%item)\n",
    "dfmacgo.columns=clist"
   ]
  },
  {
   "cell_type": "code",
   "execution_count": null,
   "metadata": {},
   "outputs": [],
   "source": [
    "clist=[]\n",
    "for item in dffibgo.columns:\n",
    "    clist.append(\"Fib_%s\"%item)\n",
    "dffibgo.columns=clist"
   ]
  },
  {
   "cell_type": "code",
   "execution_count": null,
   "metadata": {
    "scrolled": true
   },
   "outputs": [],
   "source": [
    "dfgo=dfmacgo.join(dffibgo,how=\"inner\")\n",
    "dfgo"
   ]
  },
  {
   "cell_type": "code",
   "execution_count": null,
   "metadata": {},
   "outputs": [],
   "source": [
    "dfgo.to_csv(\"CommonPathway.csv\",sep=\"\\t\")"
   ]
  },
  {
   "cell_type": "code",
   "execution_count": null,
   "metadata": {},
   "outputs": [],
   "source": []
  },
  {
   "cell_type": "code",
   "execution_count": null,
   "metadata": {},
   "outputs": [],
   "source": []
  },
  {
   "cell_type": "code",
   "execution_count": null,
   "metadata": {},
   "outputs": [],
   "source": []
  },
  {
   "cell_type": "code",
   "execution_count": null,
   "metadata": {},
   "outputs": [],
   "source": []
  },
  {
   "cell_type": "code",
   "execution_count": null,
   "metadata": {},
   "outputs": [],
   "source": []
  },
  {
   "cell_type": "markdown",
   "metadata": {},
   "source": [
    "# Macrophage_SEQC"
   ]
  },
  {
   "cell_type": "code",
   "execution_count": null,
   "metadata": {
    "scrolled": false
   },
   "outputs": [],
   "source": [
    "cd f:\\Dropbox\\data\\proj\\PE_HYZ\\PublicDataSet\\NBL_SZscRNA\\SWAPLINE2"
   ]
  },
  {
   "cell_type": "code",
   "execution_count": null,
   "metadata": {
    "scrolled": false
   },
   "outputs": [],
   "source": [
    "scpdt=anndata.read(\"new_TCGANBL_fit_szNBLscRNAseq.h5ad\")"
   ]
  },
  {
   "cell_type": "code",
   "execution_count": null,
   "metadata": {
    "scrolled": false
   },
   "outputs": [],
   "source": [
    "scpdt"
   ]
  },
  {
   "cell_type": "code",
   "execution_count": null,
   "metadata": {},
   "outputs": [],
   "source": [
    "df=pd.DataFrame(scpdt.X).T\n",
    "df.index=scpdt.var.index\n",
    "df.columns=scpdt.obs.index\n",
    "df=df.fillna(0)\n",
    "df.shape"
   ]
  },
  {
   "cell_type": "code",
   "execution_count": null,
   "metadata": {},
   "outputs": [],
   "source": [
    "def fit_CV(mu, cv, fit_method='Exp', svr_gamma=0.06, x0=[0.5,0.5], verbose=False):\n",
    "    '''Fits a noise model (CV vs mean)\n",
    "    Parameters\n",
    "    ----------\n",
    "    mu: 1-D array\n",
    "        mean of the genes (raw counts)\n",
    "    cv: 1-D array\n",
    "        coefficient of variation for each gene\n",
    "    fit_method: string\n",
    "        allowed: 'SVR', 'Exp', 'binSVR', 'binExp' \n",
    "        default: 'SVR'(requires scikit learn)\n",
    "        SVR: uses Support vector regression to fit the noise model\n",
    "        Exp: Parametric fit to cv = mu^(-a) + b\n",
    "        bin: before fitting the distribution of mean is normalized to be\n",
    "             uniform by downsampling and resampling.\n",
    "    Returns\n",
    "    -------\n",
    "    score: 1-D array\n",
    "        Score is the relative position with respect of the fitted curve\n",
    "    mu_linspace: 1-D array\n",
    "        x coordiantes to plot (min(log2(mu)) -> max(log2(mu)))\n",
    "    cv_fit: 1-D array\n",
    "        y=f(x) coordinates to plot \n",
    "    pars: tuple or None\n",
    "    \n",
    "    '''\n",
    "    log2_m = log2(mu)\n",
    "    log2_cv = log2(cv)\n",
    "    \n",
    "    if len(mu)>1000 and 'bin' in fit_method:\n",
    "        #histogram with 30 bins\n",
    "        n,xi = histogram(log2_m,30)\n",
    "        med_n = percentile(n,50)\n",
    "        for i in range(0,len(n)):\n",
    "            # index of genes within the ith bin\n",
    "            ind = where( (log2_m >= xi[i]) & (log2_m < xi[i+1]) )[0].astype(int)\n",
    "            if len(ind)>med_n:\n",
    "                #Downsample if count is more than median\n",
    "                ind = ind[random.permutation(len(ind))]\n",
    "                ind = ind[:len(ind)-int(med_n)]\n",
    "                mask = ones(len(log2_m), dtype=bool)\n",
    "                mask[ind] = False\n",
    "                log2_m = log2_m[mask]\n",
    "                log2_cv = log2_cv[mask]\n",
    "            elif (around(med_n/len(ind))>1) and (len(ind)>5):\n",
    "                #Duplicate if count is less than median\n",
    "                log2_m = r_[ log2_m, tile(log2_m[ind], int(round(med_n/len(ind))-1)) ]\n",
    "                log2_cv = r_[ log2_cv, tile(log2_cv[ind], int(round(med_n/len(ind))-1)) ]\n",
    "    else:\n",
    "        if 'bin' in fit_method:\n",
    "            print('More than 1000 input feature needed for bin correction.')\n",
    "        pass\n",
    "                \n",
    "    if 'SVR' in fit_method:\n",
    "        try:\n",
    "            from sklearn.svm import SVR\n",
    "            if svr_gamma == 'auto':\n",
    "                svr_gamma = 1000./len(mu)\n",
    "            #Fit the Support Vector Regression\n",
    "            clf = SVR(gamma=svr_gamma)\n",
    "            clf.fit(log2_m[:,newaxis], log2_cv)\n",
    "            fitted_fun = clf.predict\n",
    "            score = log2(cv) - fitted_fun(log2(mu)[:,newaxis])\n",
    "            params = None\n",
    "            #The coordinates of the fitted curve\n",
    "            mu_linspace = linspace(min(log2_m),max(log2_m))\n",
    "            cv_fit = fitted_fun(mu_linspace[:,newaxis])\n",
    "            return score, mu_linspace, cv_fit , params\n",
    "            \n",
    "        except ImportError:\n",
    "            if verbose:\n",
    "                print('SVR fit requires scikit-learn python library. Using exponential instead.')\n",
    "            if 'bin' in fit_method:\n",
    "                return fit_CV(mu, cv, fit_method='binExp', x0=x0)\n",
    "            else:\n",
    "                return fit_CV(mu, cv, fit_method='Exp', x0=x0)\n",
    "    elif 'Exp' in fit_method:\n",
    "        from scipy.optimize import minimize\n",
    "        #Define the objective function to fit (least squares)\n",
    "        fun = lambda x, log2_m, log2_cv: sum(abs( log2( (2.**log2_m)**(-x[0])+x[1]) - log2_cv ))\n",
    "        #Fit using Nelder-Mead algorythm\n",
    "        optimization =  minimize(fun, x0, args=(log2_m,log2_cv), method='Nelder-Mead')\n",
    "        params = optimization.x\n",
    "        #The fitted function\n",
    "        fitted_fun = lambda log_mu: log2( (2.**log_mu)**(-params[0]) + params[1])\n",
    "        # Score is the relative position with respect of the fitted curve\n",
    "        score = log2(cv) - fitted_fun(log2(mu))\n",
    "        #The coordinates of the fitted curve\n",
    "        mu_linspace = linspace(min(log2_m),max(log2_m))\n",
    "        cv_fit = fitted_fun(mu_linspace)\n",
    "        return score, mu_linspace, cv_fit , params\n",
    "\n",
    "from scipy.optimize import curve_fit\n",
    "from scipy.stats.distributions import  t\n",
    "\n",
    "def func(x, a, b,c):\n",
    "    'nonlinear function in a and b to fit to data'\n",
    "    return a*x*x+b*x+c\n",
    "def thrscount(x,y):\n",
    "    initial_guess = [10, 0-x[-1], y[-1]]\n",
    "    pars, pcov = curve_fit(func, x, y, p0=initial_guess)\n",
    "    alpha = 0.05 # 95% confidence interval = 100*(1-alpha)\n",
    "\n",
    "    n = len(y)    # number of data points\n",
    "    p = len(pars) # number of parameters\n",
    "\n",
    "    dof = max(0, n - p) # number of degrees of freedom\n",
    "\n",
    "    # student-t value for the dof and confidence level\n",
    "    tval = t.ppf(1.0-alpha/2., dof)\n",
    "    for i, j,var in zip(range(n), pars, np.diag(pcov)):\n",
    "        sigma = var**0.5\n",
    "        print ('p{0}: {1} [{2}  {3}]'.format(i, j,\n",
    "                                  j - sigma*tval,\n",
    "                                  j + sigma*tval))\n",
    "    return pars"
   ]
  },
  {
   "cell_type": "code",
   "execution_count": null,
   "metadata": {},
   "outputs": [],
   "source": [
    "cd  f:\\Dropbox\\data\\proj\\PE_HYZ\\PublicDataSet\\NBL_GSE137804"
   ]
  },
  {
   "cell_type": "code",
   "execution_count": null,
   "metadata": {},
   "outputs": [],
   "source": [
    "dffeature=pd.read_table(\"Cell_TypeMarkers.txt\",index_col=0,header=0,sep=\"\\t\")"
   ]
  },
  {
   "cell_type": "code",
   "execution_count": null,
   "metadata": {},
   "outputs": [],
   "source": [
    "dffeature.head()"
   ]
  },
  {
   "cell_type": "code",
   "execution_count": null,
   "metadata": {},
   "outputs": [],
   "source": [
    "cell_cycle_genes=dffeature[\"Macrophages\"].values.tolist()\n",
    "cell_cycle_genes"
   ]
  },
  {
   "cell_type": "code",
   "execution_count": null,
   "metadata": {
    "scrolled": true
   },
   "outputs": [],
   "source": [
    "df.shape"
   ]
  },
  {
   "cell_type": "code",
   "execution_count": null,
   "metadata": {},
   "outputs": [],
   "source": [
    "dfbk=df"
   ]
  },
  {
   "cell_type": "code",
   "execution_count": null,
   "metadata": {},
   "outputs": [],
   "source": [
    "dfpfc=dfbk/dfbk.sum()*1000000\n",
    "#dfpfc=dfpfc.astype(float)\n",
    "dfpfc.tail()"
   ]
  },
  {
   "cell_type": "code",
   "execution_count": null,
   "metadata": {},
   "outputs": [],
   "source": [
    "#Pre-filtering\n",
    "df_f = dfpfc.astype(float).copy()\n",
    "df_f = df_f.loc[sum(df_f>=1, 1)>=5,:] # is at least 1 in X cells\n",
    "df_f = df_f.loc[sum(df_f>=2, 1)>=2,:] # is at least 2 in X cells\n",
    "df_f = df_f.loc[sum(df_f>=3, 1)>=1,:] # is at least 2 in X cells\n",
    "dfpfc=df_f\n",
    "dfpfc.shape"
   ]
  },
  {
   "cell_type": "code",
   "execution_count": null,
   "metadata": {},
   "outputs": [],
   "source": [
    "#Fitting\n",
    "df_f=dfpfc\n",
    "mu = df_f.mean(1).values\n",
    "sigma = df_f.std(1, ddof=1).values\n",
    "cv = sigma/mu\n",
    "scoreMV, mu_linspace, cv_fit , params = fit_CV(mu,cv, 'SVR', svr_gamma=0.003)"
   ]
  },
  {
   "cell_type": "code",
   "execution_count": null,
   "metadata": {},
   "outputs": [],
   "source": [
    "figure()\n",
    "scatter(log2(mu),log2(cv), marker='o', edgecolor ='none',alpha=0.1, s=5)\n",
    "mu_sorted = mu[argsort(score)[::-1]]\n",
    "cv_sorted = cv[argsort(score)[::-1]]\n",
    "y = cv_fit.tolist()\n",
    "x = mu_linspace.tolist()\n",
    "pars= thrscount(x,y)\n",
    "\n",
    "thrs=0\n",
    "for i in range(len(log2(mu_sorted)>0)):\n",
    "    if i == 0:\n",
    "        if func(log2(cv_sorted[i]), pars[0], pars[1],pars[2])<log2(mu_sorted[i]):\n",
    "            thrs=thrs+1\n",
    "    else:\n",
    "        if log2(cv_sorted[i])< log2(cv_sorted[i-1]):\n",
    "            if func(log2(cv_sorted[i]), pars[0], pars[1],pars[2])<log2(mu_sorted[i]):\n",
    "                thrs=thrs+1\n",
    "scatter(log2(mu_sorted[thrs:]),log2(cv_sorted[thrs:]), marker='o', edgecolor ='none',alpha=0.15, s=8, c='r')\n",
    "plot(mu_linspace, cv_fit,'-k', linewidth=1, label='$Fit$')\n",
    "plot(linspace(-9,7), -0.5*linspace(-9,7), '-r', label='$Poisson$')\n",
    "ylabel('log2 CV')\n",
    "xlabel('log2 mean')\n",
    "grid(alpha=0.3)\n",
    "xlim(-8.6,6.5)\n",
    "ylim(-2,6.5)\n",
    "legend(loc=1, fontsize='small')\n",
    "gca().set_aspect(1.2)\n",
    "thrs"
   ]
  },
  {
   "cell_type": "code",
   "execution_count": null,
   "metadata": {
    "scrolled": true
   },
   "outputs": [],
   "source": [
    "df_dev = dfpfc.iloc[argsort(scoreMV)[::-1],:].iloc[:int(thrs/3),:]\n"
   ]
  },
  {
   "cell_type": "code",
   "execution_count": null,
   "metadata": {},
   "outputs": [],
   "source": []
  },
  {
   "cell_type": "code",
   "execution_count": null,
   "metadata": {},
   "outputs": [],
   "source": [
    "df_dev.shape"
   ]
  },
  {
   "cell_type": "markdown",
   "metadata": {},
   "source": [
    "# Macrophage_calculation"
   ]
  },
  {
   "cell_type": "code",
   "execution_count": null,
   "metadata": {},
   "outputs": [],
   "source": [
    "cell_cycle_genes=dffeature[\"Macrophages\"].values.tolist()\n",
    "cell_cycle_genes"
   ]
  },
  {
   "cell_type": "code",
   "execution_count": null,
   "metadata": {
    "scrolled": false
   },
   "outputs": [],
   "source": [
    "cell_cycle_genes_filt = [x for x in cell_cycle_genes if x in df_dev.index]\n",
    "len(cell_cycle_genes_filt)"
   ]
  },
  {
   "cell_type": "code",
   "execution_count": null,
   "metadata": {
    "scrolled": true
   },
   "outputs": [],
   "source": [
    "cell_cycle_genes_filt "
   ]
  },
  {
   "cell_type": "code",
   "execution_count": null,
   "metadata": {},
   "outputs": [],
   "source": [
    "s_genes=cell_cycle_genes_filt "
   ]
  },
  {
   "cell_type": "code",
   "execution_count": null,
   "metadata": {},
   "outputs": [],
   "source": [
    "var_names =  df_dev.index"
   ]
  },
  {
   "cell_type": "code",
   "execution_count": null,
   "metadata": {},
   "outputs": [],
   "source": [
    "gene_list=s_genes"
   ]
  },
  {
   "cell_type": "code",
   "execution_count": null,
   "metadata": {},
   "outputs": [],
   "source": [
    "gene_list_in_var = []\n",
    "for gene in gene_list:\n",
    "    if gene in var_names:\n",
    "        gene_list_in_var.append(gene)\n",
    "    else:\n",
    "        print('gene: %s is not in adata.var_names and will be ignored'%gene)\n",
    "gene_list = set(gene_list_in_var[:])"
   ]
  },
  {
   "cell_type": "code",
   "execution_count": null,
   "metadata": {},
   "outputs": [],
   "source": [
    "gene_list "
   ]
  },
  {
   "cell_type": "code",
   "execution_count": null,
   "metadata": {},
   "outputs": [],
   "source": [
    "gene_pool = list(var_names)\n",
    "len(gene_pool)"
   ]
  },
  {
   "cell_type": "code",
   "execution_count": null,
   "metadata": {},
   "outputs": [],
   "source": [
    "obs_avg =df_dev.mean(1)"
   ]
  },
  {
   "cell_type": "code",
   "execution_count": null,
   "metadata": {},
   "outputs": [],
   "source": [
    "obs_avg = obs_avg[np.isfinite(obs_avg)]"
   ]
  },
  {
   "cell_type": "code",
   "execution_count": null,
   "metadata": {},
   "outputs": [],
   "source": [
    "obs_avg .shape"
   ]
  },
  {
   "cell_type": "code",
   "execution_count": null,
   "metadata": {},
   "outputs": [],
   "source": [
    "n_items = int(np.round(len(obs_avg) / 25))\n",
    "n_items"
   ]
  },
  {
   "cell_type": "code",
   "execution_count": null,
   "metadata": {},
   "outputs": [],
   "source": [
    "obs_cut = obs_avg.rank(method='min') // n_items\n",
    "obs_cut"
   ]
  },
  {
   "cell_type": "code",
   "execution_count": null,
   "metadata": {},
   "outputs": [],
   "source": [
    "    # now pick `ctrl_size` genes from every cut\n",
    "ctrl_size=25\n",
    "control_genes =set()"
   ]
  },
  {
   "cell_type": "code",
   "execution_count": null,
   "metadata": {},
   "outputs": [],
   "source": [
    "    # now pick `ctrl_size` genes from every cut\n",
    "    for cut in np.unique(obs_cut.loc[gene_list]):\n",
    "        r_genes = np.array(obs_cut[obs_cut == cut].index)\n",
    "        np.random.shuffle(r_genes)\n",
    "        control_genes.update(set(r_genes[:ctrl_size]))  # uses full r_genes if ctrl_size > len(r_genes)\n"
   ]
  },
  {
   "cell_type": "code",
   "execution_count": null,
   "metadata": {},
   "outputs": [],
   "source": [
    "\n",
    "# To index, we need a list - indexing implies an order.\n",
    "control_genes = list(control_genes - gene_list)\n",
    "gene_list = list(gene_list)"
   ]
  },
  {
   "cell_type": "code",
   "execution_count": null,
   "metadata": {},
   "outputs": [],
   "source": [
    "len(gene_list)"
   ]
  },
  {
   "cell_type": "code",
   "execution_count": null,
   "metadata": {},
   "outputs": [],
   "source": [
    "len(control_genes )"
   ]
  },
  {
   "cell_type": "code",
   "execution_count": null,
   "metadata": {},
   "outputs": [],
   "source": [
    "X_list = dfpfc.loc[gene_list].T.values\n",
    "X_list.shape"
   ]
  },
  {
   "cell_type": "code",
   "execution_count": null,
   "metadata": {
    "scrolled": true
   },
   "outputs": [],
   "source": [
    "X_control = dfpfc.loc[control_genes].mean().values\n",
    "X_control "
   ]
  },
  {
   "cell_type": "code",
   "execution_count": null,
   "metadata": {},
   "outputs": [],
   "source": [
    "score = np.nanmean(X_list, axis=1) - X_control\n",
    "score"
   ]
  },
  {
   "cell_type": "code",
   "execution_count": null,
   "metadata": {},
   "outputs": [],
   "source": [
    "score.min()"
   ]
  },
  {
   "cell_type": "code",
   "execution_count": null,
   "metadata": {
    "scrolled": true
   },
   "outputs": [],
   "source": [
    "plt.plot(range(len(score)), sort(score))"
   ]
  },
  {
   "cell_type": "code",
   "execution_count": null,
   "metadata": {},
   "outputs": [],
   "source": [
    "S_score=score"
   ]
  },
  {
   "cell_type": "code",
   "execution_count": null,
   "metadata": {
    "scrolled": true
   },
   "outputs": [],
   "source": [
    "S_score"
   ]
  },
  {
   "cell_type": "code",
   "execution_count": null,
   "metadata": {},
   "outputs": [],
   "source": [
    "scpdt.obs=scpdt.obs[[ 'Cluster', 'OS_day', 'Stage', 'EFS_day', 'Risk', 'MYCNstatus', 'EFSbin', 'OSbin', 'mtrain_index', 'AssignedType', 'Age', 'Mac_score',]]"
   ]
  },
  {
   "cell_type": "code",
   "execution_count": null,
   "metadata": {},
   "outputs": [],
   "source": [
    "dfgrp=scpdt.obs\n",
    "dfgrp.shape"
   ]
  },
  {
   "cell_type": "code",
   "execution_count": null,
   "metadata": {},
   "outputs": [],
   "source": [
    "dfgrp[\"MacER_score\"]=S_score.tolist()"
   ]
  },
  {
   "cell_type": "code",
   "execution_count": null,
   "metadata": {},
   "outputs": [],
   "source": [
    "S_score.tolist()"
   ]
  },
  {
   "cell_type": "code",
   "execution_count": null,
   "metadata": {},
   "outputs": [],
   "source": [
    "dfgrp"
   ]
  },
  {
   "cell_type": "code",
   "execution_count": null,
   "metadata": {},
   "outputs": [],
   "source": [
    "dfgrp[dfgrp[\"MacER_score\"]<0][\"MacER_score\"]=0"
   ]
  },
  {
   "cell_type": "code",
   "execution_count": null,
   "metadata": {},
   "outputs": [],
   "source": [
    "dfgrp.groupby([\"AssignedType\"])[\"MacER_score\"].mean()"
   ]
  },
  {
   "cell_type": "code",
   "execution_count": null,
   "metadata": {},
   "outputs": [],
   "source": [
    "dfgrp.groupby([\"AssignedType\"])[\"MacER_score\"].median()"
   ]
  },
  {
   "cell_type": "code",
   "execution_count": null,
   "metadata": {},
   "outputs": [],
   "source": [
    "dfgrp.groupby([\"AssignedType\"])[\"MacER_score\"].count()"
   ]
  },
  {
   "cell_type": "code",
   "execution_count": null,
   "metadata": {},
   "outputs": [],
   "source": []
  },
  {
   "cell_type": "code",
   "execution_count": null,
   "metadata": {},
   "outputs": [],
   "source": []
  },
  {
   "cell_type": "code",
   "execution_count": null,
   "metadata": {},
   "outputs": [],
   "source": []
  },
  {
   "cell_type": "code",
   "execution_count": null,
   "metadata": {},
   "outputs": [],
   "source": []
  },
  {
   "cell_type": "code",
   "execution_count": null,
   "metadata": {},
   "outputs": [],
   "source": []
  },
  {
   "cell_type": "code",
   "execution_count": null,
   "metadata": {},
   "outputs": [],
   "source": []
  },
  {
   "cell_type": "code",
   "execution_count": null,
   "metadata": {},
   "outputs": [],
   "source": []
  },
  {
   "cell_type": "code",
   "execution_count": null,
   "metadata": {},
   "outputs": [],
   "source": [
    "dfgrp"
   ]
  },
  {
   "cell_type": "code",
   "execution_count": null,
   "metadata": {},
   "outputs": [],
   "source": []
  },
  {
   "cell_type": "code",
   "execution_count": null,
   "metadata": {},
   "outputs": [],
   "source": []
  },
  {
   "cell_type": "code",
   "execution_count": null,
   "metadata": {},
   "outputs": [],
   "source": []
  },
  {
   "cell_type": "code",
   "execution_count": null,
   "metadata": {},
   "outputs": [],
   "source": []
  },
  {
   "cell_type": "code",
   "execution_count": null,
   "metadata": {},
   "outputs": [],
   "source": [
    "dfmac=pd.DataFrame(S_score)"
   ]
  },
  {
   "cell_type": "code",
   "execution_count": null,
   "metadata": {},
   "outputs": [],
   "source": []
  },
  {
   "cell_type": "code",
   "execution_count": null,
   "metadata": {},
   "outputs": [],
   "source": []
  },
  {
   "cell_type": "code",
   "execution_count": null,
   "metadata": {},
   "outputs": [],
   "source": []
  },
  {
   "cell_type": "markdown",
   "metadata": {},
   "source": [
    "# Macrophage_calculation"
   ]
  },
  {
   "cell_type": "code",
   "execution_count": null,
   "metadata": {},
   "outputs": [],
   "source": [
    "cell_cycle_genes=dffeature[\"Macrophages\"].values.tolist()\n",
    "cell_cycle_genes_filt = [x for x in cell_cycle_genes if x in df_dev.index]\n",
    "len(cell_cycle_genes_filt)"
   ]
  },
  {
   "cell_type": "code",
   "execution_count": null,
   "metadata": {},
   "outputs": [],
   "source": [
    "s_genes=cell_cycle_genes_filt \n",
    "var_names =  df_dev.index\n",
    "gene_list=s_genes\n",
    "gene_list_in_var = []\n",
    "for gene in gene_list:\n",
    "    if gene in var_names:\n",
    "        gene_list_in_var.append(gene)\n",
    "    else:\n",
    "        print('gene: %s is not in adata.var_names and will be ignored'%gene)\n",
    "gene_list = set(gene_list_in_var[:])"
   ]
  },
  {
   "cell_type": "code",
   "execution_count": null,
   "metadata": {},
   "outputs": [],
   "source": [
    "gene_pool = list(var_names)\n",
    "len(gene_pool)"
   ]
  },
  {
   "cell_type": "code",
   "execution_count": null,
   "metadata": {},
   "outputs": [],
   "source": [
    "obs_avg =df_dev.mean(1)\n",
    "obs_avg = obs_avg[np.isfinite(obs_avg)]\n",
    "obs_avg .shape"
   ]
  },
  {
   "cell_type": "code",
   "execution_count": null,
   "metadata": {},
   "outputs": [],
   "source": [
    "n_items = int(np.round(len(obs_avg) / 5))\n",
    "obs_cut = obs_avg.rank(method='min') // n_items\n",
    "n_items"
   ]
  },
  {
   "cell_type": "code",
   "execution_count": null,
   "metadata": {},
   "outputs": [],
   "source": [
    "# now pick `ctrl_size` genes from every cut\n",
    "ctrl_size=50\n",
    "control_genes =set()\n",
    "# now pick `ctrl_size` genes from every cut\n",
    "# now pick `ctrl_size` genes from every cut\n",
    "for cut in np.unique(obs_cut.loc[gene_list]):\n",
    "    r_genes = np.array(obs_cut[obs_cut == cut].index)\n",
    "    np.random.shuffle(r_genes)\n",
    "    control_genes.update(set(r_genes[:ctrl_size]))  # uses full r_genes if ctrl_size > len(r_genes)\n"
   ]
  },
  {
   "cell_type": "code",
   "execution_count": null,
   "metadata": {},
   "outputs": [],
   "source": [
    "# To index, we need a list - indexing implies an order.\n",
    "control_genes = list(control_genes - gene_list)\n",
    "gene_list = list(gene_list)\n",
    "X_list = dfpfc.loc[gene_list].T.values\n",
    "X_control = dfpfc.loc[control_genes].mean().values\n",
    "S_score= np.nanmean(X_list, axis=1) - X_control\n",
    "X_list.shape"
   ]
  },
  {
   "cell_type": "code",
   "execution_count": null,
   "metadata": {},
   "outputs": [],
   "source": [
    "scpdt.obs=scpdt.obs[[ 'Cluster', 'OS_day', 'Stage', 'EFS_day', 'Risk', 'MYCNstatus', 'EFSbin', 'OSbin', 'mtrain_index', 'AssignedType', 'Age', 'Mac_score',]]\n",
    "dfgrp=scpdt.obs\n",
    "dfgrp.shape"
   ]
  },
  {
   "cell_type": "code",
   "execution_count": null,
   "metadata": {},
   "outputs": [],
   "source": [
    "S_score[S_score<0]=0\n",
    "dfgrp[\"MacER_score\"]=S_score.tolist()\n",
    "dfgrp[dfgrp[\"MacER_score\"]<0][\"MacER_score\"]=dfgrp[dfgrp[\"MacER_score\"]<0][\"MacER_score\"]*0\n",
    "dfgrp"
   ]
  },
  {
   "cell_type": "code",
   "execution_count": null,
   "metadata": {},
   "outputs": [],
   "source": []
  },
  {
   "cell_type": "code",
   "execution_count": null,
   "metadata": {
    "scrolled": true
   },
   "outputs": [],
   "source": [
    "dfgrp.groupby([\"AssignedType\"])[\"MacER_score\"].mean()"
   ]
  },
  {
   "cell_type": "code",
   "execution_count": null,
   "metadata": {
    "scrolled": false
   },
   "outputs": [],
   "source": [
    "dfgrp.groupby([\"AssignedType\"])[\"MacER_score\"].median()"
   ]
  },
  {
   "cell_type": "code",
   "execution_count": null,
   "metadata": {
    "scrolled": false
   },
   "outputs": [],
   "source": [
    "dfgrp.groupby([\"AssignedType\"])[\"MacER_score\"].count()"
   ]
  },
  {
   "cell_type": "code",
   "execution_count": null,
   "metadata": {},
   "outputs": [],
   "source": [
    "dftemp=dfgrp[[\"AssignedType\",\"MacER_score\"]]"
   ]
  },
  {
   "cell_type": "code",
   "execution_count": null,
   "metadata": {},
   "outputs": [],
   "source": [
    "from scipy import stats\n",
    "from scipy.stats import ranksums"
   ]
  },
  {
   "cell_type": "code",
   "execution_count": null,
   "metadata": {
    "scrolled": true
   },
   "outputs": [],
   "source": [
    "rvs1=dftemp.loc[dftemp[\"AssignedType\"]==\"Bridge_SCP\"][\"MacER_score\"]\n",
    "rvs2=dftemp.loc[dftemp[\"AssignedType\"]==\"preNeuroblast\"][\"MacER_score\"]\n",
    "ranksums(rvs1, rvs2)"
   ]
  },
  {
   "cell_type": "code",
   "execution_count": null,
   "metadata": {
    "scrolled": false
   },
   "outputs": [],
   "source": [
    "rvs1=dftemp.loc[dftemp[\"AssignedType\"]==\"Bridge_SCP\"][\"MacER_score\"]\n",
    "rvs2=dftemp.loc[dftemp[\"AssignedType\"]==\"Connecting\"][\"MacER_score\"]\n",
    "ranksums(rvs1, rvs2)"
   ]
  },
  {
   "cell_type": "code",
   "execution_count": null,
   "metadata": {},
   "outputs": [],
   "source": [
    "rvs1=dftemp.loc[dftemp[\"AssignedType\"]==\"Bridge_SCP\"][\"MacER_score\"]\n",
    "rvs2=dftemp.loc[dftemp[\"AssignedType\"]==\"NC_prog\"][\"MacER_score\"]\n",
    "ranksums(rvs1, rvs2)"
   ]
  },
  {
   "cell_type": "code",
   "execution_count": null,
   "metadata": {
    "scrolled": true
   },
   "outputs": [],
   "source": [
    "rvs1=dftemp.loc[dftemp[\"AssignedType\"]==\"Connecting\"][\"MacER_score\"]\n",
    "rvs2=dftemp.loc[dftemp[\"AssignedType\"]==\"NC_prog\"][\"MacER_score\"]\n",
    "ranksums(rvs1, rvs2)"
   ]
  },
  {
   "cell_type": "code",
   "execution_count": null,
   "metadata": {},
   "outputs": [],
   "source": [
    "rvs1=dftemp.loc[dftemp[\"AssignedType\"]==\"preNeuroblast\"][\"MacER_score\"]\n",
    "rvs2=dftemp.loc[dftemp[\"AssignedType\"]==\"NC_prog\"][\"MacER_score\"]\n",
    "ranksums(rvs1, rvs2)"
   ]
  },
  {
   "cell_type": "code",
   "execution_count": null,
   "metadata": {},
   "outputs": [],
   "source": [
    "rvs1=dftemp.loc[dftemp[\"AssignedType\"]==\"preNeuroblast\"][\"MacER_score\"]\n",
    "rvs2=dftemp.loc[dftemp[\"AssignedType\"]==\"Connecting\"][\"MacER_score\"]\n",
    "ranksums(rvs1, rvs2)"
   ]
  },
  {
   "cell_type": "code",
   "execution_count": null,
   "metadata": {},
   "outputs": [],
   "source": [
    "dftemp[\"MacER_score\"]=log2(dftemp[\"MacER_score\"]+1)"
   ]
  },
  {
   "cell_type": "code",
   "execution_count": null,
   "metadata": {},
   "outputs": [],
   "source": [
    "dfv=dftemp.copy()"
   ]
  },
  {
   "cell_type": "code",
   "execution_count": null,
   "metadata": {},
   "outputs": [],
   "source": [
    "import seaborn as sns\n",
    "ax=sns.boxplot(\n",
    "    data=dfv, \n",
    "    x=\"AssignedType\", y=\"MacER_score\",\n",
    "    #inner=\"box\",\n",
    "               palette=['#aab4aa','#5fba46','#f97d05','#6464f0'],\n",
    "               #cut=3,\n",
    "               #scale=\"width\"\n",
    "              )\n",
    "ax.grid(False)\n",
    "ax.spines['right'].set_visible(False)\n",
    "#ax.spines['left'].set_visible(False)\n",
    "ax.spines['top'].set_visible(False)\n",
    "#plt.ylabel(\"OS_bin\",fontsize=12,rotation=90)\n",
    "plt.xticks(rotation=90) \n",
    "#two \n",
    "#plt.yticks([], [],rotation=90)"
   ]
  },
  {
   "cell_type": "code",
   "execution_count": null,
   "metadata": {},
   "outputs": [],
   "source": [
    "dfgrp[\"Mac_score\"]=dfgrp[\"MacER_score\"]\n",
    "dfgrp"
   ]
  },
  {
   "cell_type": "code",
   "execution_count": null,
   "metadata": {},
   "outputs": [],
   "source": []
  },
  {
   "cell_type": "code",
   "execution_count": null,
   "metadata": {},
   "outputs": [],
   "source": []
  },
  {
   "cell_type": "markdown",
   "metadata": {},
   "source": [
    "# Macrophage_calculation"
   ]
  },
  {
   "cell_type": "code",
   "execution_count": null,
   "metadata": {},
   "outputs": [],
   "source": [
    "dffeature"
   ]
  },
  {
   "cell_type": "code",
   "execution_count": null,
   "metadata": {},
   "outputs": [],
   "source": [
    "cell_cycle_genes=dffeature[\"CAFs\"].values.tolist()\n",
    "cell_cycle_genes_filt = [x for x in cell_cycle_genes if x in df_dev.index]\n",
    "len(cell_cycle_genes_filt)"
   ]
  },
  {
   "cell_type": "code",
   "execution_count": null,
   "metadata": {},
   "outputs": [],
   "source": [
    "s_genes=cell_cycle_genes_filt \n",
    "var_names =  df_dev.index\n",
    "gene_list=s_genes\n",
    "gene_list_in_var = []\n",
    "for gene in gene_list:\n",
    "    if gene in var_names:\n",
    "        gene_list_in_var.append(gene)\n",
    "    else:\n",
    "        print('gene: %s is not in adata.var_names and will be ignored'%gene)\n",
    "gene_list = set(gene_list_in_var[:])"
   ]
  },
  {
   "cell_type": "code",
   "execution_count": null,
   "metadata": {},
   "outputs": [],
   "source": [
    "gene_pool = list(var_names)\n",
    "len(gene_pool)"
   ]
  },
  {
   "cell_type": "code",
   "execution_count": null,
   "metadata": {},
   "outputs": [],
   "source": [
    "obs_avg =df_dev.mean(1)\n",
    "obs_avg = obs_avg[np.isfinite(obs_avg)]\n",
    "obs_avg .shape"
   ]
  },
  {
   "cell_type": "code",
   "execution_count": null,
   "metadata": {},
   "outputs": [],
   "source": [
    "n_items = int(np.round(len(obs_avg) / 5))\n",
    "obs_cut = obs_avg.rank(method='min') // n_items\n",
    "n_items"
   ]
  },
  {
   "cell_type": "code",
   "execution_count": null,
   "metadata": {},
   "outputs": [],
   "source": [
    "# now pick `ctrl_size` genes from every cut\n",
    "ctrl_size=100\n",
    "control_genes =set()\n",
    "# now pick `ctrl_size` genes from every cut\n",
    "# now pick `ctrl_size` genes from every cut\n",
    "for cut in np.unique(obs_cut.loc[gene_list]):\n",
    "    r_genes = np.array(obs_cut[obs_cut == cut].index)\n",
    "    np.random.shuffle(r_genes)\n",
    "    control_genes.update(set(r_genes[:ctrl_size]))  # uses full r_genes if ctrl_size > len(r_genes)\n"
   ]
  },
  {
   "cell_type": "code",
   "execution_count": null,
   "metadata": {},
   "outputs": [],
   "source": [
    "# To index, we need a list - indexing implies an order.\n",
    "control_genes = list(control_genes - gene_list)\n",
    "gene_list = list(gene_list)\n",
    "X_list = dfpfc.loc[gene_list].T.values\n",
    "X_control = dfpfc.loc[control_genes].mean().values\n",
    "S_score= np.nanmean(X_list, axis=1) - X_control\n",
    "X_list.shape"
   ]
  },
  {
   "cell_type": "code",
   "execution_count": null,
   "metadata": {},
   "outputs": [],
   "source": [
    "scpdt.obs=scpdt.obs[[ 'Cluster', 'OS_day', 'Stage', 'EFS_day', 'Risk', 'MYCNstatus', 'EFSbin', 'OSbin', 'mtrain_index', 'AssignedType', 'Age', 'Mac_score',]]\n",
    "dfgrp=scpdt.obs\n",
    "dfgrp.shape"
   ]
  },
  {
   "cell_type": "code",
   "execution_count": null,
   "metadata": {},
   "outputs": [],
   "source": [
    "S_score[S_score<0]=0\n",
    "dfgrp[\"MacER_score\"]=S_score.tolist()\n",
    "dfgrp[dfgrp[\"MacER_score\"]<0][\"MacER_score\"]=dfgrp[dfgrp[\"MacER_score\"]<0][\"MacER_score\"]*0\n",
    "dfgrp"
   ]
  },
  {
   "cell_type": "code",
   "execution_count": null,
   "metadata": {},
   "outputs": [],
   "source": []
  },
  {
   "cell_type": "code",
   "execution_count": null,
   "metadata": {},
   "outputs": [],
   "source": [
    "dfgrp.groupby([\"AssignedType\"])[\"MacER_score\"].mean()"
   ]
  },
  {
   "cell_type": "code",
   "execution_count": null,
   "metadata": {
    "scrolled": true
   },
   "outputs": [],
   "source": [
    "dfgrp.groupby([\"AssignedType\"])[\"MacER_score\"].median()"
   ]
  },
  {
   "cell_type": "code",
   "execution_count": null,
   "metadata": {
    "scrolled": false
   },
   "outputs": [],
   "source": [
    "dfgrp.groupby([\"AssignedType\"])[\"MacER_score\"].count()"
   ]
  },
  {
   "cell_type": "code",
   "execution_count": null,
   "metadata": {},
   "outputs": [],
   "source": [
    "dfgrp[\"Fib_score\"]=dftemp[\"MacER_score\"]\n",
    "dfgrp"
   ]
  },
  {
   "cell_type": "code",
   "execution_count": null,
   "metadata": {},
   "outputs": [],
   "source": [
    "dftemp=dfgrp[[\"AssignedType\",\"Fib_score\",\"MacER_score\"]]"
   ]
  },
  {
   "cell_type": "code",
   "execution_count": null,
   "metadata": {},
   "outputs": [],
   "source": [
    "from scipy import stats\n",
    "from scipy.stats import ranksums"
   ]
  },
  {
   "cell_type": "code",
   "execution_count": null,
   "metadata": {
    "scrolled": true
   },
   "outputs": [],
   "source": [
    "rvs1=dftemp.loc[dftemp[\"AssignedType\"]==\"Bridge_SCP\"][\"MacER_score\"]\n",
    "rvs2=dftemp.loc[dftemp[\"AssignedType\"]==\"preNeuroblast\"][\"MacER_score\"]\n",
    "ranksums(rvs1, rvs2)"
   ]
  },
  {
   "cell_type": "code",
   "execution_count": null,
   "metadata": {
    "scrolled": true
   },
   "outputs": [],
   "source": [
    "rvs1=dftemp.loc[dftemp[\"AssignedType\"]==\"Bridge_SCP\"][\"MacER_score\"]\n",
    "rvs2=dftemp.loc[dftemp[\"AssignedType\"]==\"Connecting\"][\"MacER_score\"]\n",
    "ranksums(rvs1, rvs2)"
   ]
  },
  {
   "cell_type": "code",
   "execution_count": null,
   "metadata": {},
   "outputs": [],
   "source": [
    "rvs1=dftemp.loc[dftemp[\"AssignedType\"]==\"Bridge_SCP\"][\"MacER_score\"]\n",
    "rvs2=dftemp.loc[dftemp[\"AssignedType\"]==\"NC_prog\"][\"MacER_score\"]\n",
    "ranksums(rvs1, rvs2)"
   ]
  },
  {
   "cell_type": "code",
   "execution_count": null,
   "metadata": {},
   "outputs": [],
   "source": [
    "rvs1=dftemp.loc[dftemp[\"AssignedType\"]==\"Connecting\"][\"MacER_score\"]\n",
    "rvs2=dftemp.loc[dftemp[\"AssignedType\"]==\"NC_prog\"][\"MacER_score\"]\n",
    "ranksums(rvs1, rvs2)"
   ]
  },
  {
   "cell_type": "code",
   "execution_count": null,
   "metadata": {},
   "outputs": [],
   "source": [
    "rvs1=dftemp.loc[dftemp[\"AssignedType\"]==\"preNeuroblast\"][\"MacER_score\"]\n",
    "rvs2=dftemp.loc[dftemp[\"AssignedType\"]==\"NC_prog\"][\"MacER_score\"]\n",
    "ranksums(rvs1, rvs2)"
   ]
  },
  {
   "cell_type": "code",
   "execution_count": null,
   "metadata": {},
   "outputs": [],
   "source": [
    "rvs1=dftemp.loc[dftemp[\"AssignedType\"]==\"preNeuroblast\"][\"MacER_score\"]\n",
    "rvs2=dftemp.loc[dftemp[\"AssignedType\"]==\"Connecting\"][\"MacER_score\"]\n",
    "ranksums(rvs1, rvs2)"
   ]
  },
  {
   "cell_type": "code",
   "execution_count": null,
   "metadata": {
    "scrolled": false
   },
   "outputs": [],
   "source": [
    "dftemp[\"Fib_score\"]=log2(dftemp[\"Fib_score\"]+1)"
   ]
  },
  {
   "cell_type": "code",
   "execution_count": null,
   "metadata": {},
   "outputs": [],
   "source": [
    "dfv=dftemp.copy()"
   ]
  },
  {
   "cell_type": "code",
   "execution_count": null,
   "metadata": {},
   "outputs": [],
   "source": [
    "import seaborn as sns\n",
    "ax=sns.boxplot(\n",
    "    data=dfv, \n",
    "    x=\"AssignedType\", y=\"Fib_score\",\n",
    "    #inner=\"box\",\n",
    "               palette=['#aab4aa','#5fba46','#f97d05','#6464f0'],\n",
    "               #cut=3,\n",
    "               #scale=\"width\"\n",
    "              )\n",
    "ax.grid(False)\n",
    "ax.spines['right'].set_visible(False)\n",
    "#ax.spines['left'].set_visible(False)\n",
    "ax.spines['top'].set_visible(False)\n",
    "#plt.ylabel(\"OS_bin\",fontsize=12,rotation=90)\n",
    "plt.xticks(rotation=90) \n",
    "#two \n",
    "#plt.yticks([], [],rotation=90)"
   ]
  },
  {
   "cell_type": "code",
   "execution_count": null,
   "metadata": {},
   "outputs": [],
   "source": []
  }
 ],
 "metadata": {
  "kernelspec": {
   "display_name": "Python 3 (ipykernel)",
   "language": "python",
   "name": "python3"
  },
  "language_info": {
   "codemirror_mode": {
    "name": "ipython",
    "version": 3
   },
   "file_extension": ".py",
   "mimetype": "text/x-python",
   "name": "python",
   "nbconvert_exporter": "python",
   "pygments_lexer": "ipython3",
   "version": "3.8.16"
  }
 },
 "nbformat": 4,
 "nbformat_minor": 4
}
