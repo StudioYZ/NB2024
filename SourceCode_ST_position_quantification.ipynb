{
 "cells": [
  {
   "cell_type": "code",
   "execution_count": null,
   "metadata": {},
   "outputs": [],
   "source": [
    "import numpy as np\n",
    "import pandas as pd\n",
    "import matplotlib.pyplot as pl\n",
    "from matplotlib import rcParams\n",
    "import anndata\n",
    "#import scanpy as sc\n",
    "\n",
    "#sc.settings.verbosity = 3  # verbosity: errors (0), warnings (1), info (2), hints (3)\n",
    "#sc.logging.print_versions()\n",
    "#results_file = './write/paul15.h5ad'"
   ]
  },
  {
   "cell_type": "code",
   "execution_count": null,
   "metadata": {},
   "outputs": [],
   "source": [
    "import anndata"
   ]
  },
  {
   "cell_type": "code",
   "execution_count": null,
   "metadata": {},
   "outputs": [],
   "source": [
    "import cmocean"
   ]
  },
  {
   "cell_type": "code",
   "execution_count": null,
   "metadata": {},
   "outputs": [],
   "source": [
    "import numpy as np\n",
    "import pandas as pd\n",
    "import matplotlib.pyplot as pl\n",
    "import numpy as np\n",
    "import pandas as pd\n",
    "import matplotlib.pyplot as pl\n",
    "from matplotlib import rcParams\n"
   ]
  },
  {
   "cell_type": "code",
   "execution_count": null,
   "metadata": {},
   "outputs": [],
   "source": [
    "import matplotlib.pyplot as plt\n",
    "import matplotlib.cm as cm\n",
    "import pandas as pd\n",
    "import numpy as np\n",
    "from sklearn.decomposition import PCA\n",
    "from sklearn import manifold\n",
    "from collections import defaultdict\n",
    "#from mpl_toolkits.mplot3d import Axes3D\n",
    "import math\n",
    "import re\n",
    "import os\n",
    "import sys\n",
    "#imports\n",
    "import pandas as pd\n",
    "import pickle as pickle\n",
    "from scipy.spatial.distance import cdist, pdist, squareform\n",
    "#import backspinpy\n",
    "#from backspinpy import fit_CV\n",
    "#from backspinpy.Cef_tools import *\n",
    "#from __future__ import division\n",
    "import pandas as pd\n",
    "from sklearn.linear_model import LogisticRegression, LogisticRegressionCV\n",
    "from sklearn.model_selection import StratifiedShuffleSplit  \n",
    "from collections import defaultdict\n",
    "from sklearn import preprocessing\n",
    "import matplotlib.patches as mpatches\n",
    "%pylab inline"
   ]
  },
  {
   "cell_type": "code",
   "execution_count": null,
   "metadata": {},
   "outputs": [],
   "source": [
    "def fit_CV(mu, cv, fit_method='Exp', svr_gamma=0.06, x0=[0.5,0.5], verbose=False):\n",
    "    '''Fits a noise model (CV vs mean)\n",
    "    Parameters\n",
    "    ----------\n",
    "    mu: 1-D array\n",
    "        mean of the genes (raw counts)\n",
    "    cv: 1-D array\n",
    "        coefficient of variation for each gene\n",
    "    fit_method: string\n",
    "        allowed: 'SVR', 'Exp', 'binSVR', 'binExp' \n",
    "        default: 'SVR'(requires scikit learn)\n",
    "        SVR: uses Support vector regression to fit the noise model\n",
    "        Exp: Parametric fit to cv = mu^(-a) + b\n",
    "        bin: before fitting the distribution of mean is normalized to be\n",
    "             uniform by downsampling and resampling.\n",
    "    Returns\n",
    "    -------\n",
    "    score: 1-D array\n",
    "        Score is the relative position with respect of the fitted curve\n",
    "    mu_linspace: 1-D array\n",
    "        x coordiantes to plot (min(log2(mu)) -> max(log2(mu)))\n",
    "    cv_fit: 1-D array\n",
    "        y=f(x) coordinates to plot \n",
    "    pars: tuple or None\n",
    "    \n",
    "    '''\n",
    "    log2_m = log2(mu)\n",
    "    log2_cv = log2(cv)\n",
    "    \n",
    "    if len(mu)>1000 and 'bin' in fit_method:\n",
    "        #histogram with 30 bins\n",
    "        n,xi = histogram(log2_m,30)\n",
    "        med_n = percentile(n,50)\n",
    "        for i in range(0,len(n)):\n",
    "            # index of genes within the ith bin\n",
    "            ind = where( (log2_m >= xi[i]) & (log2_m < xi[i+1]) )[0].astype(int)\n",
    "            if len(ind)>med_n:\n",
    "                #Downsample if count is more than median\n",
    "                ind = ind[random.permutation(len(ind))]\n",
    "                ind = ind[:len(ind)-int(med_n)]\n",
    "                mask = ones(len(log2_m), dtype=bool)\n",
    "                mask[ind] = False\n",
    "                log2_m = log2_m[mask]\n",
    "                log2_cv = log2_cv[mask]\n",
    "            elif (around(med_n/len(ind))>1) and (len(ind)>5):\n",
    "                #Duplicate if count is less than median\n",
    "                log2_m = r_[ log2_m, tile(log2_m[ind], int(round(med_n/len(ind))-1)) ]\n",
    "                log2_cv = r_[ log2_cv, tile(log2_cv[ind], int(round(med_n/len(ind))-1)) ]\n",
    "    else:\n",
    "        if 'bin' in fit_method:\n",
    "            print('More than 1000 input feature needed for bin correction.')\n",
    "        pass\n",
    "                \n",
    "    if 'SVR' in fit_method:\n",
    "        try:\n",
    "            from sklearn.svm import SVR\n",
    "            if svr_gamma == 'auto':\n",
    "                svr_gamma = 1000./len(mu)\n",
    "            #Fit the Support Vector Regression\n",
    "            clf = SVR(gamma=svr_gamma)\n",
    "            clf.fit(log2_m[:,newaxis], log2_cv)\n",
    "            fitted_fun = clf.predict\n",
    "            score = log2(cv) - fitted_fun(log2(mu)[:,newaxis])\n",
    "            params = None\n",
    "            #The coordinates of the fitted curve\n",
    "            mu_linspace = linspace(min(log2_m),max(log2_m))\n",
    "            cv_fit = fitted_fun(mu_linspace[:,newaxis])\n",
    "            return score, mu_linspace, cv_fit , params\n",
    "            \n",
    "        except ImportError:\n",
    "            if verbose:\n",
    "                print('SVR fit requires scikit-learn python library. Using exponential instead.')\n",
    "            if 'bin' in fit_method:\n",
    "                return fit_CV(mu, cv, fit_method='binExp', x0=x0)\n",
    "            else:\n",
    "                return fit_CV(mu, cv, fit_method='Exp', x0=x0)\n",
    "    elif 'Exp' in fit_method:\n",
    "        from scipy.optimize import minimize\n",
    "        #Define the objective function to fit (least squares)\n",
    "        fun = lambda x, log2_m, log2_cv: sum(abs( log2( (2.**log2_m)**(-x[0])+x[1]) - log2_cv ))\n",
    "        #Fit using Nelder-Mead algorythm\n",
    "        optimization =  minimize(fun, x0, args=(log2_m,log2_cv), method='Nelder-Mead')\n",
    "        params = optimization.x\n",
    "        #The fitted function\n",
    "        fitted_fun = lambda log_mu: log2( (2.**log_mu)**(-params[0]) + params[1])\n",
    "        # Score is the relative position with respect of the fitted curve\n",
    "        score = log2(cv) - fitted_fun(log2(mu))\n",
    "        #The coordinates of the fitted curve\n",
    "        mu_linspace = linspace(min(log2_m),max(log2_m))\n",
    "        cv_fit = fitted_fun(mu_linspace)\n",
    "        return score, mu_linspace, cv_fit , params\n",
    "    "
   ]
  },
  {
   "cell_type": "code",
   "execution_count": null,
   "metadata": {},
   "outputs": [],
   "source": [
    "from scipy.optimize import curve_fit\n",
    "from scipy.stats.distributions import  t\n",
    "\n",
    "def func(x, a, b,c):\n",
    "    'nonlinear function in a and b to fit to data'\n",
    "    return a*x*x+b*x+c\n",
    "def thrscount(x,y):\n",
    "    initial_guess = [10, 0-x[-1], y[-1]]\n",
    "    pars, pcov = curve_fit(func, x, y, p0=initial_guess)\n",
    "    alpha = 0.05 # 95% confidence interval = 100*(1-alpha)\n",
    "\n",
    "    n = len(y)    # number of data points\n",
    "    p = len(pars) # number of parameters\n",
    "\n",
    "    dof = max(0, n - p) # number of degrees of freedom\n",
    "\n",
    "    # student-t value for the dof and confidence level\n",
    "    tval = t.ppf(1.0-alpha/2., dof)\n",
    "    for i, j,var in zip(range(n), pars, np.diag(pcov)):\n",
    "        sigma = var**0.5\n",
    "        print ('p{0}: {1} [{2}  {3}]'.format(i, j,\n",
    "                                  j - sigma*tval,\n",
    "                                  j + sigma*tval))\n",
    "    return pars"
   ]
  },
  {
   "cell_type": "code",
   "execution_count": null,
   "metadata": {},
   "outputs": [],
   "source": [
    "cd F:\\Dropbox\\data\\proj\\PE_HYZ\\PublicDataSet\\NBL_SZscRNA\\SWAPLINE2"
   ]
  },
  {
   "cell_type": "code",
   "execution_count": null,
   "metadata": {},
   "outputs": [],
   "source": [
    "dfp=pd.read_table(\"Final_scCAMEL_spatialData_MachineLearning_SpatialTumorCells_probability.tab\",index_col=0,header=0,sep=\"\\t\")"
   ]
  },
  {
   "cell_type": "code",
   "execution_count": null,
   "metadata": {},
   "outputs": [],
   "source": [
    "dfp.groupby([\"sigType\"]).count()"
   ]
  },
  {
   "cell_type": "code",
   "execution_count": null,
   "metadata": {},
   "outputs": [],
   "source": [
    "dfp.head()"
   ]
  },
  {
   "cell_type": "code",
   "execution_count": null,
   "metadata": {},
   "outputs": [],
   "source": []
  },
  {
   "cell_type": "code",
   "execution_count": null,
   "metadata": {},
   "outputs": [],
   "source": []
  },
  {
   "cell_type": "code",
   "execution_count": null,
   "metadata": {},
   "outputs": [],
   "source": []
  },
  {
   "cell_type": "code",
   "execution_count": null,
   "metadata": {
    "scrolled": true
   },
   "outputs": [],
   "source": [
    "cd F:\\Dropbox\\data\\proj\\PE_HYZ\\PublicDataSet\\NBL_SZscRNA\\All_Dataset_Summary"
   ]
  },
  {
   "cell_type": "code",
   "execution_count": null,
   "metadata": {},
   "outputs": [],
   "source": [
    "scpdt=anndata.read(\"VisiumSpatial4patients.h5ad\")"
   ]
  },
  {
   "cell_type": "code",
   "execution_count": null,
   "metadata": {
    "scrolled": true
   },
   "outputs": [],
   "source": [
    "scpdt.obs.index=scpdt.obs[\"CellID\"]"
   ]
  },
  {
   "cell_type": "code",
   "execution_count": null,
   "metadata": {},
   "outputs": [],
   "source": [
    "scpdt.obs"
   ]
  },
  {
   "cell_type": "code",
   "execution_count": null,
   "metadata": {},
   "outputs": [],
   "source": [
    "scpdt.obs[\"TumorCluster\"]=\"Non-tumor\"\n",
    "scpdt.obs[\"TumorCluster\"]=scpdt.obs[\"Cluster\"]"
   ]
  },
  {
   "cell_type": "markdown",
   "metadata": {},
   "source": [
    "scpdt.obs[\"Type\"]=\"Non-tumor\"\n",
    "scpdt.obs.loc[dfp.index,\"Type\"]=\"Tumor\""
   ]
  },
  {
   "cell_type": "code",
   "execution_count": null,
   "metadata": {},
   "outputs": [],
   "source": [
    "scpdt.obs"
   ]
  },
  {
   "cell_type": "code",
   "execution_count": null,
   "metadata": {},
   "outputs": [],
   "source": [
    "#scpdt.obs[\"TumorCluster\"].values==dfp[\"sigType\"].values"
   ]
  },
  {
   "cell_type": "code",
   "execution_count": null,
   "metadata": {},
   "outputs": [],
   "source": [
    "dftemp=scpdt.obs[[ 'T-cells', 'B-cells', 'Macrophages', 'Endothelial cells', 'DCs', 'CAFs']]\n",
    "dftemp.index=scpdt.obs['CellID']\n",
    "dftemp"
   ]
  },
  {
   "cell_type": "code",
   "execution_count": null,
   "metadata": {},
   "outputs": [],
   "source": [
    "dftemp1=dftemp.loc[dftemp[\"T-cells\"]>0]\n",
    "dftemp1[\"sigType\"]=[\"T-cells\"]*dftemp1.shape[0]\n",
    "dfprobnormal=dftemp1"
   ]
  },
  {
   "cell_type": "code",
   "execution_count": null,
   "metadata": {},
   "outputs": [],
   "source": [
    "dfprobnormal"
   ]
  },
  {
   "cell_type": "code",
   "execution_count": null,
   "metadata": {
    "scrolled": true
   },
   "outputs": [],
   "source": [
    "for item in dftemp.columns[1:]:\n",
    "    dftemp1=dftemp.loc[dftemp[item]>0]\n",
    "    dftemp1[\"sigType\"]=[item]*dftemp1.shape[0]\n",
    "    dfprobnormal=dfprobnormal.append(dftemp1)"
   ]
  },
  {
   "cell_type": "code",
   "execution_count": null,
   "metadata": {},
   "outputs": [],
   "source": [
    "dfprobnormal.shape"
   ]
  },
  {
   "cell_type": "code",
   "execution_count": null,
   "metadata": {},
   "outputs": [],
   "source": [
    "set(dfprobnormal[\"sigType\"])"
   ]
  },
  {
   "cell_type": "code",
   "execution_count": null,
   "metadata": {},
   "outputs": [],
   "source": [
    "sum(dfprobnormal[\"T-cells\"]>0)"
   ]
  },
  {
   "cell_type": "code",
   "execution_count": null,
   "metadata": {
    "scrolled": true
   },
   "outputs": [],
   "source": [
    "cd F:\\Dropbox\\data\\proj\\PE_HYZ\\PublicDataSet\\NBL_SZscRNA\\SWAPLINE2"
   ]
  },
  {
   "cell_type": "code",
   "execution_count": null,
   "metadata": {},
   "outputs": [],
   "source": [
    "dfprobtumor=scpdt.obs.loc[scpdt.obs[\"Type\"]==\"Tumor\"]\n",
    "dfprobtumor[\"sigType\"]=dfprobtumor[\"Cluster\"]"
   ]
  },
  {
   "cell_type": "code",
   "execution_count": null,
   "metadata": {},
   "outputs": [],
   "source": [
    "dfprobtumor.groupby([\"sigType\"]).count()"
   ]
  },
  {
   "cell_type": "code",
   "execution_count": null,
   "metadata": {
    "scrolled": true
   },
   "outputs": [],
   "source": [
    "scpdt.obs.groupby([\"TumorCluster\"]).count()"
   ]
  },
  {
   "cell_type": "code",
   "execution_count": null,
   "metadata": {
    "scrolled": false
   },
   "outputs": [],
   "source": [
    "dfprobtumor.head()"
   ]
  },
  {
   "cell_type": "code",
   "execution_count": null,
   "metadata": {},
   "outputs": [],
   "source": [
    "sum(dfprobnormal.iloc[:10,:-1].T>0,1).values"
   ]
  },
  {
   "cell_type": "code",
   "execution_count": null,
   "metadata": {},
   "outputs": [],
   "source": [
    "dfprobtumor"
   ]
  },
  {
   "cell_type": "code",
   "execution_count": null,
   "metadata": {},
   "outputs": [],
   "source": [
    "#scpdt.file.close()"
   ]
  },
  {
   "cell_type": "code",
   "execution_count": null,
   "metadata": {
    "scrolled": true
   },
   "outputs": [],
   "source": [
    "scpdt=anndata.read(\"szNBLSpatial_all4slides.h5ad\")\n",
    "scpdt"
   ]
  },
  {
   "cell_type": "code",
   "execution_count": null,
   "metadata": {},
   "outputs": [],
   "source": [
    "cd F:\\Dropbox\\data\\proj\\PE_HYZ\\PublicDataSet\\NBL_SZscRNA\\SWAPLINE2"
   ]
  },
  {
   "cell_type": "code",
   "execution_count": null,
   "metadata": {},
   "outputs": [],
   "source": []
  },
  {
   "cell_type": "code",
   "execution_count": null,
   "metadata": {},
   "outputs": [],
   "source": []
  },
  {
   "cell_type": "code",
   "execution_count": null,
   "metadata": {},
   "outputs": [],
   "source": []
  },
  {
   "cell_type": "markdown",
   "metadata": {},
   "source": [
    "# START"
   ]
  },
  {
   "cell_type": "markdown",
   "metadata": {},
   "source": [
    "# For803"
   ]
  },
  {
   "cell_type": "code",
   "execution_count": null,
   "metadata": {},
   "outputs": [],
   "source": [
    "dfposi=pd.read_table(\"B803_spot-spotDistance.tab\",index_col=0,header=0,sep=\"\\t\")\n",
    "dfposi.shape"
   ]
  },
  {
   "cell_type": "code",
   "execution_count": null,
   "metadata": {},
   "outputs": [],
   "source": [
    "dfposi.head()"
   ]
  },
  {
   "cell_type": "code",
   "execution_count": null,
   "metadata": {},
   "outputs": [],
   "source": [
    "dftumor=dfprobtumor.loc[dfprobtumor[\"Patient\"]==\"B803\"].T\n",
    "dftumor"
   ]
  },
  {
   "cell_type": "code",
   "execution_count": null,
   "metadata": {},
   "outputs": [],
   "source": [
    "dfprobnormal"
   ]
  },
  {
   "cell_type": "code",
   "execution_count": null,
   "metadata": {},
   "outputs": [],
   "source": [
    "dfprobnormal"
   ]
  },
  {
   "cell_type": "code",
   "execution_count": null,
   "metadata": {
    "scrolled": true
   },
   "outputs": [],
   "source": [
    "dfnormal=dfprobnormal.iloc[:,:-1].T\n",
    "dfnormal"
   ]
  },
  {
   "cell_type": "code",
   "execution_count": null,
   "metadata": {},
   "outputs": [],
   "source": [
    "dfn2=dfnormal.T\n",
    "dfn2.shape"
   ]
  },
  {
   "cell_type": "code",
   "execution_count": null,
   "metadata": {},
   "outputs": [],
   "source": [
    "set(dfn2.loc[dfn2[\"Macrophages\"]>0].index) "
   ]
  },
  {
   "cell_type": "code",
   "execution_count": null,
   "metadata": {},
   "outputs": [],
   "source": [
    "len(set(dfn2.loc[dfn2[\"Macrophages\"]>0].index) & set(dfposi.columns))"
   ]
  },
  {
   "cell_type": "code",
   "execution_count": null,
   "metadata": {
    "scrolled": true
   },
   "outputs": [],
   "source": [
    "dftumor.columns"
   ]
  },
  {
   "cell_type": "code",
   "execution_count": null,
   "metadata": {},
   "outputs": [],
   "source": [
    "typelist=[]\n",
    "for j in range(dftumor.shape[1]):\n",
    "    dftemp=dfnormal[set(dfnormal.columns)&set(dfposi.loc[dfposi[dftumor.columns[j]]<=100].index)]\n",
    "    typelist.append(sum(dftemp>0,1).values)"
   ]
  },
  {
   "cell_type": "code",
   "execution_count": null,
   "metadata": {},
   "outputs": [],
   "source": [
    "dftype=pd.DataFrame(typelist)"
   ]
  },
  {
   "cell_type": "code",
   "execution_count": null,
   "metadata": {},
   "outputs": [],
   "source": [
    "dftype.shape"
   ]
  },
  {
   "cell_type": "code",
   "execution_count": null,
   "metadata": {},
   "outputs": [],
   "source": [
    "dftumor.shape"
   ]
  },
  {
   "cell_type": "code",
   "execution_count": null,
   "metadata": {
    "scrolled": true
   },
   "outputs": [],
   "source": [
    "dftype.columns=dfnormal.index\n",
    "dftype.index=dftumor.columns\n",
    "dftype"
   ]
  },
  {
   "cell_type": "code",
   "execution_count": null,
   "metadata": {},
   "outputs": [],
   "source": [
    "dftumor"
   ]
  },
  {
   "cell_type": "code",
   "execution_count": null,
   "metadata": {},
   "outputs": [],
   "source": [
    "swpdt=scpdt[scpdt.obs[\"Patient\"]==\"B803\",:]\n",
    "swpdt"
   ]
  },
  {
   "cell_type": "code",
   "execution_count": null,
   "metadata": {},
   "outputs": [],
   "source": [
    "scpdt.obs.index=scpdt.obs[\"CellID\"]"
   ]
  },
  {
   "cell_type": "code",
   "execution_count": null,
   "metadata": {},
   "outputs": [],
   "source": [
    "dftype=dftype.join(scpdt.obs[\"TumorCluster\"],how=\"inner\")\n",
    "dftype"
   ]
  },
  {
   "cell_type": "code",
   "execution_count": null,
   "metadata": {},
   "outputs": [],
   "source": [
    "dftype.columns"
   ]
  },
  {
   "cell_type": "code",
   "execution_count": null,
   "metadata": {},
   "outputs": [],
   "source": [
    "dftype.columns=['T-cells', 'B-cells', 'Macrophages', 'Endothelial cells', 'DCs',\n",
    "       'CAFs', 'TumorCluster']"
   ]
  },
  {
   "cell_type": "code",
   "execution_count": null,
   "metadata": {},
   "outputs": [],
   "source": [
    "dftype.groupby([\"TumorCluster\"]).sum()"
   ]
  },
  {
   "cell_type": "code",
   "execution_count": null,
   "metadata": {
    "scrolled": false
   },
   "outputs": [],
   "source": [
    "dftype.groupby([\"TumorCluster\"]).mean()"
   ]
  },
  {
   "cell_type": "code",
   "execution_count": null,
   "metadata": {},
   "outputs": [],
   "source": [
    "dftype803=dftype"
   ]
  },
  {
   "cell_type": "code",
   "execution_count": null,
   "metadata": {},
   "outputs": [],
   "source": []
  },
  {
   "cell_type": "code",
   "execution_count": null,
   "metadata": {},
   "outputs": [],
   "source": []
  },
  {
   "cell_type": "code",
   "execution_count": null,
   "metadata": {},
   "outputs": [],
   "source": []
  },
  {
   "cell_type": "code",
   "execution_count": null,
   "metadata": {},
   "outputs": [],
   "source": []
  },
  {
   "cell_type": "code",
   "execution_count": null,
   "metadata": {},
   "outputs": [],
   "source": [
    "##Merge"
   ]
  },
  {
   "cell_type": "code",
   "execution_count": null,
   "metadata": {},
   "outputs": [],
   "source": [
    "dftype=dftype803.append(dftypeA254).append(dftypeNBLC1).append(dftypeNBLA1)"
   ]
  },
  {
   "cell_type": "code",
   "execution_count": null,
   "metadata": {
    "scrolled": true
   },
   "outputs": [],
   "source": [
    "dftype.loc[dftype[\"TumorCluster\"]==\"Bridge_SCP\"][\"Macrophages\"].values"
   ]
  },
  {
   "cell_type": "code",
   "execution_count": null,
   "metadata": {},
   "outputs": [],
   "source": [
    "from scipy import stats"
   ]
  },
  {
   "cell_type": "code",
   "execution_count": null,
   "metadata": {
    "scrolled": true
   },
   "outputs": [],
   "source": [
    "XX=dftype.loc[dftype[\"TumorCluster\"]==\"Bridge_SCP\"][\"Macrophages\"].values\n",
    "YY=dftype.loc[dftype[\"TumorCluster\"]==\"Connecting\"][\"Macrophages\"].values\n",
    "[stats.ttest_ind(XX,YY, equal_var=False),XX.mean()/YY.mean()]"
   ]
  },
  {
   "cell_type": "code",
   "execution_count": null,
   "metadata": {
    "scrolled": true
   },
   "outputs": [],
   "source": [
    "XX=dftype.loc[dftype[\"TumorCluster\"]==\"Bridge_SCP\"][\"Macrophages\"].values\n",
    "YY=dftype.loc[dftype[\"TumorCluster\"]==\"NC_prog\"][\"Macrophages\"].values\n",
    "[stats.ttest_ind(XX,YY, equal_var=False),XX.mean()/YY.mean()]"
   ]
  },
  {
   "cell_type": "code",
   "execution_count": null,
   "metadata": {
    "scrolled": true
   },
   "outputs": [],
   "source": [
    "XX=dftype.loc[dftype[\"TumorCluster\"]==\"Bridge_SCP\"][\"Macrophages\"].values\n",
    "YY=dftype.loc[dftype[\"TumorCluster\"]==\"Diff_Mes\"][\"Macrophages\"].values\n",
    "[stats.ttest_ind(XX,YY, equal_var=False),XX.mean()/YY.mean()]"
   ]
  },
  {
   "cell_type": "code",
   "execution_count": null,
   "metadata": {
    "scrolled": true
   },
   "outputs": [],
   "source": [
    "XX=dftype.loc[dftype[\"TumorCluster\"]==\"Bridge_SCP\"][\"Macrophages\"].values\n",
    "YY=dftype.loc[dftype[\"TumorCluster\"]==\"preNeuroblast\"][\"Macrophages\"].values\n",
    "stats.ttest_ind(XX,YY, equal_var=False)"
   ]
  },
  {
   "cell_type": "code",
   "execution_count": null,
   "metadata": {
    "scrolled": true
   },
   "outputs": [],
   "source": [
    "XX=dftype.loc[dftype[\"TumorCluster\"]==\"Bridge_SCP\"][\"Macrophages\"].values\n",
    "YY=dftype.loc[dftype[\"TumorCluster\"]==\"Diff_Neuroblast\"][\"Macrophages\"].values\n",
    "[stats.ttest_ind(XX,YY, equal_var=False),XX.mean()/YY.mean()]"
   ]
  },
  {
   "cell_type": "code",
   "execution_count": null,
   "metadata": {},
   "outputs": [],
   "source": []
  },
  {
   "cell_type": "code",
   "execution_count": null,
   "metadata": {
    "scrolled": true
   },
   "outputs": [],
   "source": [
    "XX=dftype.loc[dftype[\"TumorCluster\"]==\"Bridge_SCP\"][\"CAFs\"].values\n",
    "YY=dftype.loc[dftype[\"TumorCluster\"]==\"Connecting\"][\"CAFs\"].values\n",
    "[stats.ttest_ind(XX,YY, equal_var=False),XX.mean()/YY.mean()]"
   ]
  },
  {
   "cell_type": "code",
   "execution_count": null,
   "metadata": {
    "scrolled": true
   },
   "outputs": [],
   "source": [
    "XX=dftype.loc[dftype[\"TumorCluster\"]==\"Bridge_SCP\"][\"CAFs\"].values\n",
    "YY=dftype.loc[dftype[\"TumorCluster\"]==\"NC_prog\"][\"CAFs\"].values\n",
    "[stats.ttest_ind(XX,YY, equal_var=False),XX.mean()/YY.mean()]"
   ]
  },
  {
   "cell_type": "code",
   "execution_count": null,
   "metadata": {
    "scrolled": true
   },
   "outputs": [],
   "source": [
    "XX=dftype.loc[dftype[\"TumorCluster\"]==\"Bridge_SCP\"][\"CAFs\"].values\n",
    "YY=dftype.loc[dftype[\"TumorCluster\"]==\"Diff_Mes\"][\"CAFs\"].values\n",
    "[stats.ttest_ind(XX,YY, equal_var=False),XX.mean()/YY.mean()]"
   ]
  },
  {
   "cell_type": "code",
   "execution_count": null,
   "metadata": {
    "scrolled": true
   },
   "outputs": [],
   "source": [
    "XX=dftype.loc[dftype[\"TumorCluster\"]==\"Bridge_SCP\"][\"CAFs\"].values\n",
    "YY=dftype.loc[dftype[\"TumorCluster\"]==\"preNeuroblast\"][\"CAFs\"].values\n",
    "[stats.ttest_ind(XX,YY, equal_var=False),XX.mean()/YY.mean()]"
   ]
  },
  {
   "cell_type": "code",
   "execution_count": null,
   "metadata": {
    "scrolled": true
   },
   "outputs": [],
   "source": [
    "XX=dftype.loc[dftype[\"TumorCluster\"]==\"Bridge_SCP\"][\"CAFs\"].values\n",
    "YY=dftype.loc[dftype[\"TumorCluster\"]==\"Diff_Neuroblast\"][\"CAFs\"].values\n",
    "[stats.ttest_ind(XX,YY, equal_var=False),XX.mean()/YY.mean()]"
   ]
  },
  {
   "cell_type": "code",
   "execution_count": null,
   "metadata": {},
   "outputs": [],
   "source": []
  },
  {
   "cell_type": "code",
   "execution_count": null,
   "metadata": {},
   "outputs": [],
   "source": []
  },
  {
   "cell_type": "code",
   "execution_count": null,
   "metadata": {},
   "outputs": [],
   "source": []
  },
  {
   "cell_type": "code",
   "execution_count": null,
   "metadata": {},
   "outputs": [],
   "source": [
    "from scipy.stats import mannwhitneyu\n"
   ]
  },
  {
   "cell_type": "code",
   "execution_count": null,
   "metadata": {
    "scrolled": true
   },
   "outputs": [],
   "source": [
    "XX=dftype.loc[dftype[\"TumorCluster\"]==\"Bridge_SCP\"][\"CAFs\"].values\n",
    "YY=dftype.loc[dftype[\"TumorCluster\"]==\"Connecting\"][\"CAFs\"].values\n",
    "mannwhitneyu(XX,YY)"
   ]
  },
  {
   "cell_type": "code",
   "execution_count": null,
   "metadata": {
    "scrolled": true
   },
   "outputs": [],
   "source": [
    "XX=dftype.loc[dftype[\"TumorCluster\"]==\"Bridge_SCP\"][\"CAFs\"].values\n",
    "YY=dftype.loc[dftype[\"TumorCluster\"]==\"NC_prog\"][\"CAFs\"].values\n",
    "mannwhitneyu(XX,YY)"
   ]
  },
  {
   "cell_type": "code",
   "execution_count": null,
   "metadata": {
    "scrolled": true
   },
   "outputs": [],
   "source": [
    "XX=dftype.loc[dftype[\"TumorCluster\"]==\"Bridge_SCP\"][\"CAFs\"].values\n",
    "YY=dftype.loc[dftype[\"TumorCluster\"]==\"Diff_Mes\"][\"CAFs\"].values\n",
    "mannwhitneyu(XX,YY)"
   ]
  },
  {
   "cell_type": "code",
   "execution_count": null,
   "metadata": {
    "scrolled": true
   },
   "outputs": [],
   "source": [
    "XX=dftype.loc[dftype[\"TumorCluster\"]==\"Bridge_SCP\"][\"CAFs\"].values\n",
    "YY=dftype.loc[dftype[\"TumorCluster\"]==\"preNeuroblast\"][\"CAFs\"].values\n",
    "mannwhitneyu(XX,YY)"
   ]
  },
  {
   "cell_type": "code",
   "execution_count": null,
   "metadata": {
    "scrolled": true
   },
   "outputs": [],
   "source": [
    "XX=dftype.loc[dftype[\"TumorCluster\"]==\"Bridge_SCP\"][\"CAFs\"].values\n",
    "YY=dftype.loc[dftype[\"TumorCluster\"]==\"Diff_Neuroblast\"][\"CAFs\"].values\n",
    "stats.ttest_ind(XX,YY, equal_var=False)"
   ]
  },
  {
   "cell_type": "code",
   "execution_count": null,
   "metadata": {},
   "outputs": [],
   "source": []
  },
  {
   "cell_type": "code",
   "execution_count": null,
   "metadata": {},
   "outputs": [],
   "source": [
    "cd ."
   ]
  },
  {
   "cell_type": "code",
   "execution_count": null,
   "metadata": {},
   "outputs": [],
   "source": [
    "dftype.to_csv(\"TumorType_vs_EnvironmentCells_100.tab\",sep=\"\\t\")"
   ]
  },
  {
   "cell_type": "code",
   "execution_count": null,
   "metadata": {},
   "outputs": [],
   "source": []
  },
  {
   "cell_type": "code",
   "execution_count": null,
   "metadata": {},
   "outputs": [],
   "source": []
  },
  {
   "cell_type": "markdown",
   "metadata": {},
   "source": [
    "# Tumor Calculatioin"
   ]
  },
  {
   "cell_type": "markdown",
   "metadata": {},
   "source": [
    "# For a1"
   ]
  },
  {
   "cell_type": "code",
   "execution_count": null,
   "metadata": {},
   "outputs": [],
   "source": [
    "dfposi=pd.read_table(\"A1spot-spotDistance.tab\",index_col=0,header=0,sep=\"\\t\")\n",
    "dfposi.shape"
   ]
  },
  {
   "cell_type": "code",
   "execution_count": null,
   "metadata": {},
   "outputs": [],
   "source": [
    "dfposi.head()"
   ]
  },
  {
   "cell_type": "code",
   "execution_count": null,
   "metadata": {},
   "outputs": [],
   "source": [
    "set(dfprobtumor[\"Patient\"])"
   ]
  },
  {
   "cell_type": "code",
   "execution_count": null,
   "metadata": {},
   "outputs": [],
   "source": [
    "dftumor=dfprobtumor.loc[dfprobtumor[\"Patient\"]==\"NBLA1\"].T\n",
    "dftumor"
   ]
  },
  {
   "cell_type": "code",
   "execution_count": null,
   "metadata": {},
   "outputs": [],
   "source": []
  },
  {
   "cell_type": "code",
   "execution_count": null,
   "metadata": {},
   "outputs": [],
   "source": [
    "typelist=[]\n",
    "for j in range(dftumor.shape[1]):\n",
    "    dftemp=dftumor[set(dftumor.columns)&set(dfposi.loc[dfposi[dftumor.columns[j]]<=100].index)]\n",
    "    typelist.append(dftemp.T.groupby([\"sigType\"]).count().reindex(['Diff_Mes', 'NC_prog', 'Bridge_SCP', 'Connecting', 'Chromaffin',\n",
    "       'preNeuroblast', 'Diff_Neuroblast']).fillna(0).iloc[:,0].T.values.tolist())"
   ]
  },
  {
   "cell_type": "code",
   "execution_count": null,
   "metadata": {},
   "outputs": [],
   "source": [
    "dftype=pd.DataFrame(typelist)"
   ]
  },
  {
   "cell_type": "code",
   "execution_count": null,
   "metadata": {},
   "outputs": [],
   "source": [
    "dftype.shape"
   ]
  },
  {
   "cell_type": "code",
   "execution_count": null,
   "metadata": {},
   "outputs": [],
   "source": [
    "dftumor.shape"
   ]
  },
  {
   "cell_type": "code",
   "execution_count": null,
   "metadata": {
    "scrolled": true
   },
   "outputs": [],
   "source": [
    "dftype.columns=['Diff_Mes', 'NC_prog', 'Bridge_SCP', 'Connecting', 'Chromaffin',\n",
    "       'preNeuroblast', 'Diff_Neuroblast']\n",
    "dftype.index=dftumor.columns\n",
    "dftype"
   ]
  },
  {
   "cell_type": "code",
   "execution_count": null,
   "metadata": {},
   "outputs": [],
   "source": []
  },
  {
   "cell_type": "code",
   "execution_count": null,
   "metadata": {},
   "outputs": [],
   "source": [
    "dftype=dftype.join(scpdt.obs[\"TumorCluster\"],how=\"inner\")\n",
    "#dftype.columns=['Bcells', 'Endothelial', 'Fibroblasts', 'Myeloid', 'Schwann', 'Tcells',\n",
    "#       'sigType']"
   ]
  },
  {
   "cell_type": "code",
   "execution_count": null,
   "metadata": {},
   "outputs": [],
   "source": [
    "dftype.groupby([\"TumorCluster\"]).count()"
   ]
  },
  {
   "cell_type": "code",
   "execution_count": null,
   "metadata": {
    "scrolled": true
   },
   "outputs": [],
   "source": [
    "dftype.groupby([\"TumorCluster\"]).mean().fillna(0)"
   ]
  },
  {
   "cell_type": "code",
   "execution_count": null,
   "metadata": {},
   "outputs": [],
   "source": [
    "dfTumortypeNBLA1=dftype"
   ]
  },
  {
   "cell_type": "markdown",
   "metadata": {},
   "source": [
    "# For C1"
   ]
  },
  {
   "cell_type": "code",
   "execution_count": null,
   "metadata": {},
   "outputs": [],
   "source": [
    "dfposi=pd.read_table(\"C1spot-spotDistance.tab\",index_col=0,header=0,sep=\"\\t\")\n",
    "dfposi.shape"
   ]
  },
  {
   "cell_type": "code",
   "execution_count": null,
   "metadata": {},
   "outputs": [],
   "source": [
    "dfposi.head()"
   ]
  },
  {
   "cell_type": "code",
   "execution_count": null,
   "metadata": {},
   "outputs": [],
   "source": [
    "set(dfprobtumor[\"Patient\"])"
   ]
  },
  {
   "cell_type": "code",
   "execution_count": null,
   "metadata": {},
   "outputs": [],
   "source": [
    "dftumor=dfprobtumor.loc[dfprobtumor[\"Patient\"]==\"NBLC1\"].T\n",
    "dftumor"
   ]
  },
  {
   "cell_type": "code",
   "execution_count": null,
   "metadata": {},
   "outputs": [],
   "source": []
  },
  {
   "cell_type": "code",
   "execution_count": null,
   "metadata": {},
   "outputs": [],
   "source": [
    "typelist=[]\n",
    "for j in range(dftumor.shape[1]):\n",
    "    dftemp=dftumor[set(dftumor.columns)&set(dfposi.loc[dfposi[dftumor.columns[j]]<=100].index)]\n",
    "    typelist.append(dftemp.T.groupby([\"sigType\"]).count().reindex(['Diff_Mes', 'NC_prog', 'Bridge_SCP', 'Connecting', 'Chromaffin',\n",
    "       'preNeuroblast', 'Diff_Neuroblast']).fillna(0).iloc[:,0].T.values.tolist())"
   ]
  },
  {
   "cell_type": "code",
   "execution_count": null,
   "metadata": {},
   "outputs": [],
   "source": [
    "dftype=pd.DataFrame(typelist)"
   ]
  },
  {
   "cell_type": "code",
   "execution_count": null,
   "metadata": {},
   "outputs": [],
   "source": [
    "dftype.shape"
   ]
  },
  {
   "cell_type": "code",
   "execution_count": null,
   "metadata": {},
   "outputs": [],
   "source": [
    "dftumor.shape"
   ]
  },
  {
   "cell_type": "code",
   "execution_count": null,
   "metadata": {
    "scrolled": true
   },
   "outputs": [],
   "source": [
    "dftype.columns=['Diff_Mes', 'NC_prog', 'Bridge_SCP', 'Connecting', 'Chromaffin',\n",
    "       'preNeuroblast', 'Diff_Neuroblast']\n",
    "dftype.index=dftumor.columns\n",
    "dftype"
   ]
  },
  {
   "cell_type": "code",
   "execution_count": null,
   "metadata": {},
   "outputs": [],
   "source": [
    "dftype=dftype.join(scpdt.obs[\"TumorCluster\"],how=\"inner\")\n",
    "#dftype.columns=['Bcells', 'Endothelial', 'Fibroblasts', 'Myeloid', 'Schwann', 'Tcells',\n",
    "#       'sigType']"
   ]
  },
  {
   "cell_type": "code",
   "execution_count": null,
   "metadata": {},
   "outputs": [],
   "source": [
    "dftype.groupby([\"TumorCluster\"]).count()"
   ]
  },
  {
   "cell_type": "code",
   "execution_count": null,
   "metadata": {
    "scrolled": true
   },
   "outputs": [],
   "source": [
    "dftype.groupby([\"TumorCluster\"]).mean().fillna(0)"
   ]
  },
  {
   "cell_type": "code",
   "execution_count": null,
   "metadata": {},
   "outputs": [],
   "source": [
    "dfTumortypeNBLC1=dftype"
   ]
  },
  {
   "cell_type": "code",
   "execution_count": null,
   "metadata": {},
   "outputs": [],
   "source": []
  },
  {
   "cell_type": "markdown",
   "metadata": {},
   "source": [
    "# For A254"
   ]
  },
  {
   "cell_type": "code",
   "execution_count": null,
   "metadata": {},
   "outputs": [],
   "source": [
    "dfposi=pd.read_table(\"A254_spot-spotDistance.tab\",index_col=0,header=0,sep=\"\\t\")\n",
    "dfposi.shape"
   ]
  },
  {
   "cell_type": "code",
   "execution_count": null,
   "metadata": {},
   "outputs": [],
   "source": [
    "dfposi.head()"
   ]
  },
  {
   "cell_type": "code",
   "execution_count": null,
   "metadata": {},
   "outputs": [],
   "source": [
    "set(dfprobtumor[\"Patient\"])"
   ]
  },
  {
   "cell_type": "code",
   "execution_count": null,
   "metadata": {},
   "outputs": [],
   "source": [
    "dftumor=dfprobtumor.loc[dfprobtumor[\"Patient\"]==\"A254\"].T\n",
    "dftumor"
   ]
  },
  {
   "cell_type": "code",
   "execution_count": null,
   "metadata": {},
   "outputs": [],
   "source": []
  },
  {
   "cell_type": "code",
   "execution_count": null,
   "metadata": {},
   "outputs": [],
   "source": [
    "typelist=[]\n",
    "for j in range(dftumor.shape[1]):\n",
    "    dftemp=dftumor[set(dftumor.columns)&set(dfposi.loc[dfposi[dftumor.columns[j]]<=100].index)]\n",
    "    typelist.append(dftemp.T.groupby([\"sigType\"]).count().reindex(['Diff_Mes', 'NC_prog', 'Bridge_SCP', 'Connecting', 'Chromaffin',\n",
    "       'preNeuroblast', 'Diff_Neuroblast']).fillna(0).iloc[:,0].T.values.tolist())"
   ]
  },
  {
   "cell_type": "code",
   "execution_count": null,
   "metadata": {},
   "outputs": [],
   "source": [
    "dftype=pd.DataFrame(typelist)"
   ]
  },
  {
   "cell_type": "code",
   "execution_count": null,
   "metadata": {},
   "outputs": [],
   "source": [
    "dftype.shape"
   ]
  },
  {
   "cell_type": "code",
   "execution_count": null,
   "metadata": {},
   "outputs": [],
   "source": [
    "dftumor.shape"
   ]
  },
  {
   "cell_type": "code",
   "execution_count": null,
   "metadata": {
    "scrolled": true
   },
   "outputs": [],
   "source": [
    "dftype.columns=['Diff_Mes', 'NC_prog', 'Bridge_SCP', 'Connecting', 'Chromaffin',\n",
    "       'preNeuroblast', 'Diff_Neuroblast']\n",
    "dftype.index=dftumor.columns\n",
    "dftype"
   ]
  },
  {
   "cell_type": "code",
   "execution_count": null,
   "metadata": {},
   "outputs": [],
   "source": [
    "dftype=dftype.join(scpdt.obs[\"TumorCluster\"],how=\"inner\")\n",
    "#dftype.columns=['Bcells', 'Endothelial', 'Fibroblasts', 'Myeloid', 'Schwann', 'Tcells',\n",
    "#       'sigType']"
   ]
  },
  {
   "cell_type": "code",
   "execution_count": null,
   "metadata": {},
   "outputs": [],
   "source": [
    "dftype.groupby([\"TumorCluster\"]).count()"
   ]
  },
  {
   "cell_type": "code",
   "execution_count": null,
   "metadata": {
    "scrolled": true
   },
   "outputs": [],
   "source": [
    "dftype.groupby([\"TumorCluster\"]).mean().fillna(0)"
   ]
  },
  {
   "cell_type": "code",
   "execution_count": null,
   "metadata": {},
   "outputs": [],
   "source": [
    "dfTumortypeA254=dftype"
   ]
  },
  {
   "cell_type": "code",
   "execution_count": null,
   "metadata": {},
   "outputs": [],
   "source": []
  },
  {
   "cell_type": "markdown",
   "metadata": {},
   "source": [
    "# For B803"
   ]
  },
  {
   "cell_type": "code",
   "execution_count": null,
   "metadata": {},
   "outputs": [],
   "source": [
    "dfposi=pd.read_table(\"B803_spot-spotDistance.tab\",index_col=0,header=0,sep=\"\\t\")\n",
    "dfposi.shape"
   ]
  },
  {
   "cell_type": "code",
   "execution_count": null,
   "metadata": {},
   "outputs": [],
   "source": [
    "dfposi.head()"
   ]
  },
  {
   "cell_type": "code",
   "execution_count": null,
   "metadata": {},
   "outputs": [],
   "source": [
    "set(dfprobtumor[\"Patient\"])"
   ]
  },
  {
   "cell_type": "code",
   "execution_count": null,
   "metadata": {},
   "outputs": [],
   "source": [
    "dftumor=dfprobtumor.loc[dfprobtumor[\"Patient\"]==\"B803\"].T\n",
    "dftumor"
   ]
  },
  {
   "cell_type": "code",
   "execution_count": null,
   "metadata": {},
   "outputs": [],
   "source": []
  },
  {
   "cell_type": "code",
   "execution_count": null,
   "metadata": {},
   "outputs": [],
   "source": [
    "typelist=[]\n",
    "for j in range(dftumor.shape[1]):\n",
    "    dftemp=dftumor[set(dftumor.columns)&set(dfposi.loc[dfposi[dftumor.columns[j]]<=100].index)]\n",
    "    typelist.append(dftemp.T.groupby([\"sigType\"]).count().reindex(['Diff_Mes', 'NC_prog', 'Bridge_SCP', 'Connecting', 'Chromaffin',\n",
    "       'preNeuroblast', 'Diff_Neuroblast']).fillna(0).iloc[:,0].T.values.tolist())"
   ]
  },
  {
   "cell_type": "code",
   "execution_count": null,
   "metadata": {},
   "outputs": [],
   "source": [
    "dftype=pd.DataFrame(typelist)"
   ]
  },
  {
   "cell_type": "code",
   "execution_count": null,
   "metadata": {},
   "outputs": [],
   "source": [
    "dftype.shape"
   ]
  },
  {
   "cell_type": "code",
   "execution_count": null,
   "metadata": {},
   "outputs": [],
   "source": [
    "dftumor.shape"
   ]
  },
  {
   "cell_type": "code",
   "execution_count": null,
   "metadata": {
    "scrolled": true
   },
   "outputs": [],
   "source": [
    "dftype.columns=['Diff_Mes', 'NC_prog', 'Bridge_SCP', 'Connecting', 'Chromaffin',\n",
    "       'preNeuroblast', 'Diff_Neuroblast']\n",
    "dftype.index=dftumor.columns\n",
    "dftype"
   ]
  },
  {
   "cell_type": "code",
   "execution_count": null,
   "metadata": {},
   "outputs": [],
   "source": [
    "dftype=dftype.join(scpdt.obs[\"TumorCluster\"],how=\"inner\")\n",
    "#dftype.columns=['Bcells', 'Endothelial', 'Fibroblasts', 'Myeloid', 'Schwann', 'Tcells',\n",
    "#       'sigType']"
   ]
  },
  {
   "cell_type": "code",
   "execution_count": null,
   "metadata": {},
   "outputs": [],
   "source": [
    "dftype.groupby([\"TumorCluster\"]).count()"
   ]
  },
  {
   "cell_type": "code",
   "execution_count": null,
   "metadata": {
    "scrolled": false
   },
   "outputs": [],
   "source": [
    "dftype.groupby([\"TumorCluster\"]).mean().fillna(0)"
   ]
  },
  {
   "cell_type": "code",
   "execution_count": null,
   "metadata": {},
   "outputs": [],
   "source": [
    "dfTumortypeB803=dftype"
   ]
  },
  {
   "cell_type": "code",
   "execution_count": null,
   "metadata": {},
   "outputs": [],
   "source": []
  },
  {
   "cell_type": "code",
   "execution_count": null,
   "metadata": {},
   "outputs": [],
   "source": []
  },
  {
   "cell_type": "markdown",
   "metadata": {},
   "source": [
    "# Merge2"
   ]
  },
  {
   "cell_type": "code",
   "execution_count": null,
   "metadata": {
    "scrolled": true
   },
   "outputs": [],
   "source": [
    "dftype=dfTumortypeB803.append(dfTumortypeA254).append(dfTumortypeNBLC1).append(dfTumortypeNBLA1)"
   ]
  },
  {
   "cell_type": "code",
   "execution_count": null,
   "metadata": {},
   "outputs": [],
   "source": [
    "scpdt.obs.groupby(['TumorCluster']).count()"
   ]
  },
  {
   "cell_type": "code",
   "execution_count": null,
   "metadata": {
    "scrolled": true
   },
   "outputs": [],
   "source": [
    "dftype.groupby([\"TumorCluster\"]).sum()"
   ]
  },
  {
   "cell_type": "code",
   "execution_count": null,
   "metadata": {
    "scrolled": true
   },
   "outputs": [],
   "source": [
    "dftype.groupby([\"TumorCluster\"]).count()"
   ]
  },
  {
   "cell_type": "code",
   "execution_count": null,
   "metadata": {
    "scrolled": false
   },
   "outputs": [],
   "source": [
    "dftype.groupby([\"TumorCluster\"]).mean()"
   ]
  },
  {
   "cell_type": "code",
   "execution_count": null,
   "metadata": {},
   "outputs": [],
   "source": [
    "8.527473/5.351351"
   ]
  },
  {
   "cell_type": "code",
   "execution_count": null,
   "metadata": {
    "scrolled": false
   },
   "outputs": [],
   "source": [
    "dftype.groupby([\"TumorCluster\"]).median()"
   ]
  },
  {
   "cell_type": "code",
   "execution_count": null,
   "metadata": {
    "scrolled": false
   },
   "outputs": [],
   "source": [
    "dftype.groupby([\"TumorCluster\"]).max()"
   ]
  },
  {
   "cell_type": "code",
   "execution_count": null,
   "metadata": {},
   "outputs": [],
   "source": [
    "sum(dfposi<=100,1).max()"
   ]
  },
  {
   "cell_type": "code",
   "execution_count": null,
   "metadata": {},
   "outputs": [],
   "source": [
    "cd ."
   ]
  },
  {
   "cell_type": "code",
   "execution_count": null,
   "metadata": {},
   "outputs": [],
   "source": [
    "dftype.to_csv(\"TumorType_vs_TumorTypeCells.tab\",sep=\"\\t\")"
   ]
  },
  {
   "cell_type": "code",
   "execution_count": null,
   "metadata": {},
   "outputs": [],
   "source": [
    "sum(dfposi<100).max()"
   ]
  },
  {
   "cell_type": "code",
   "execution_count": null,
   "metadata": {
    "scrolled": true
   },
   "outputs": [],
   "source": [
    "scpdt"
   ]
  },
  {
   "cell_type": "code",
   "execution_count": null,
   "metadata": {},
   "outputs": [],
   "source": []
  },
  {
   "cell_type": "code",
   "execution_count": null,
   "metadata": {},
   "outputs": [],
   "source": []
  },
  {
   "cell_type": "code",
   "execution_count": null,
   "metadata": {
    "scrolled": true
   },
   "outputs": [],
   "source": [
    "dftype.head()"
   ]
  },
  {
   "cell_type": "markdown",
   "metadata": {},
   "source": [
    "# Macrophage"
   ]
  },
  {
   "cell_type": "code",
   "execution_count": null,
   "metadata": {},
   "outputs": [],
   "source": [
    "dftype=pd.read_table(\"TumorType_vs_EnvironmentCells_100.tab\",index_col=0,header=0,sep=\"\\t\")"
   ]
  },
  {
   "cell_type": "code",
   "execution_count": null,
   "metadata": {},
   "outputs": [],
   "source": [
    "celltype=\"Macrophages\"\n",
    "dftemp1=dftype[[celltype,\"TumorCluster\"]]\n",
    "typelist=list(set(dftemp1[\"TumorCluster\"]))"
   ]
  },
  {
   "cell_type": "code",
   "execution_count": null,
   "metadata": {},
   "outputs": [],
   "source": [
    "from scipy import stats\n",
    "plist=[]\n",
    "slist=[]\n",
    "meanlist=[]\n",
    "for i in range(len(typelist)):\n",
    "    temp1=dftemp1.loc[dftemp1[\"TumorCluster\"]==typelist[i]][\"Macrophages\"].values\n",
    "    plisttemp=[]\n",
    "    slisttemp=[]\n",
    "    meanlisttemp=[]\n",
    "    for j in range(len(typelist)):\n",
    "        temp2=dftemp1.loc[dftemp1[\"TumorCluster\"]==typelist[j]][\"Macrophages\"].values\n",
    "        s,p=stats.ttest_ind(temp1,temp2, equal_var = False)\n",
    "        plisttemp.append('{:.10f}'.format(p))\n",
    "        slisttemp.append(s)\n",
    "        meanlisttemp.append(mean(temp1)/mean(temp2))\n",
    "    plist.append(plisttemp)\n",
    "    slist.append(slisttemp)\n",
    "    meanlist.append(meanlisttemp)\n",
    "    \n",
    "dfmean=pd.DataFrame(meanlist)\n",
    "dfmean.index=typelist\n",
    "dfmean.columns=typelist\n",
    "dfp=pd.DataFrame(plist)\n",
    "dfp.index=typelist\n",
    "dfp.columns=typelist"
   ]
  },
  {
   "cell_type": "code",
   "execution_count": null,
   "metadata": {
    "scrolled": false
   },
   "outputs": [],
   "source": [
    "dfmean"
   ]
  },
  {
   "cell_type": "code",
   "execution_count": null,
   "metadata": {},
   "outputs": [],
   "source": [
    "(dfmean>1.5)"
   ]
  },
  {
   "cell_type": "code",
   "execution_count": null,
   "metadata": {
    "scrolled": true
   },
   "outputs": [],
   "source": [
    "sum(dfmean>1.5,1)"
   ]
  },
  {
   "cell_type": "code",
   "execution_count": null,
   "metadata": {
    "scrolled": false
   },
   "outputs": [],
   "source": [
    "dfp"
   ]
  },
  {
   "cell_type": "code",
   "execution_count": null,
   "metadata": {},
   "outputs": [],
   "source": [
    "mcolor_dict = pd.Series({  \n",
    " 'SCP':   (90,  10,  10), 'Chromaffin1': (25, 60,  130),\n",
    "                             'cycling':    (57, 105,   7),\n",
    "             'Sympath':    (170, 180, 170),'SCP':   (190,  10,  10),  'Chromaffin': (25, 60,  130),\n",
    "                             'cycling':    (57, 105,   7),\n",
    "             'sympathoblasts':    (170, 180, 170),\n",
    "                            'Diff_Glia': (235, 125,  128),  'Diff_Mes': (10,10,255),\n",
    "                          'Chromaffin':   (55, 55,  78), 'preNeuroblast':  (100, 100, 240),\n",
    "                           'Diff_Neuroblast':    (57, 105,   7),'preGlia': (175, 175,  28),\n",
    "            'Bridge_SCP':    (170, 180, 170), 'NC_prog':(249,125,5),\n",
    "                           'Connecting':    ( 95, 186,  70),  'Auto_prog':    (180, 140, 130),\n",
    "       'cyclingNeuroblast':  (100, 100, 240), 'Migr_prog': ( 80, 235, 255),  'Mes_prog':(249,125,5),\n",
    "    \n",
    "    })\n",
    "mcolor_dict = mcolor_dict.map(lambda x: list(map(lambda y: y/255., x)))\n",
    "mwanted_order=[\n",
    " 'Diff_Mes', 'NC_prog',\n",
    " 'Bridge_SCP', 'Connecting',\n",
    " 'preNeuroblast',\n",
    "'Chromaffin', 'Diff_Neuroblast',\n",
    "]\n",
    "dftemp1=dftemp1.loc[dftemp1[\"TumorCluster\"]== 'Diff_Mes'].append(\n",
    "    dftemp1.loc[dftemp1[\"TumorCluster\"]== 'NC_prog']).append(\n",
    "    dftemp1.loc[dftemp1[\"TumorCluster\"]== 'Bridge_SCP']).append(\n",
    "    dftemp1.loc[dftemp1[\"TumorCluster\"]=='Connecting']).append(\n",
    "    dftemp1.loc[dftemp1[\"TumorCluster\"]=='preNeuroblast']).append(\n",
    "    dftemp1.loc[dftemp1[\"TumorCluster\"]=='Chromaffin']).append(\n",
    "    dftemp1.loc[dftemp1[\"TumorCluster\"]=='Diff_Neuroblast'])"
   ]
  },
  {
   "cell_type": "code",
   "execution_count": null,
   "metadata": {},
   "outputs": [],
   "source": [
    "import seaborn as sns\n",
    "def patch_violinplot():\n",
    "    from matplotlib.collections import PolyCollection\n",
    "    ax = plt.gca()\n",
    "    for art in ax.get_children():\n",
    "         if isinstance(art, PolyCollection):\n",
    "            art.set_edgecolor((0.6,0.6, 0.6))\n",
    "#seleColor=mnewcolors[rdmvalue]\n",
    "fig = plt.figure(figsize=(10,10))\n",
    "fig, ax = plt.subplots()\n",
    "fig.set_size_inches(16, 8)\n",
    "sns.set_style(\"whitegrid\")\n",
    "ax=sns.violinplot(x=\"TumorCluster\", y=celltype, data=dftemp1,bw=0.4,cut=2, gridsize=50,\n",
    "               saturation=0.9, width=0.75, palette=mcolor_dict[mwanted_order] ,scale='width', inner= \"box\")\n",
    "plt.setp(ax.collections, alpha=.8)\n",
    "ax.set_ylim(ymin=-0.15)\n",
    "plt.xticks(rotation=90,horizontalalignment='center', verticalalignment='top',\n",
    "       position=(0,0), fontsize=35)\n",
    "ax.spines['top'].set_visible(False)\n",
    "ax.spines['right'].set_visible(False)\n",
    "plt.title(celltype,fontsize=20)\n",
    "plt.grid(False)"
   ]
  },
  {
   "cell_type": "code",
   "execution_count": null,
   "metadata": {},
   "outputs": [],
   "source": []
  },
  {
   "cell_type": "markdown",
   "metadata": {},
   "source": [
    "# T-cells"
   ]
  },
  {
   "cell_type": "code",
   "execution_count": null,
   "metadata": {},
   "outputs": [],
   "source": [
    "celltype=\"T-cells\"\n",
    "dftemp1=dftype[[celltype,\"TumorCluster\"]]\n",
    "typelist=list(set(dftemp1[\"TumorCluster\"]))"
   ]
  },
  {
   "cell_type": "code",
   "execution_count": null,
   "metadata": {},
   "outputs": [],
   "source": [
    "from scipy import stats\n",
    "plist=[]\n",
    "slist=[]\n",
    "meanlist=[]\n",
    "for i in range(len(typelist)):\n",
    "    temp1=dftemp1.loc[dftemp1[\"TumorCluster\"]==typelist[i]][celltype].values\n",
    "    plisttemp=[]\n",
    "    slisttemp=[]\n",
    "    meanlisttemp=[]\n",
    "    for j in range(len(typelist)):\n",
    "        temp2=dftemp1.loc[dftemp1[\"TumorCluster\"]==typelist[j]][celltype].values\n",
    "        s,p=stats.ttest_ind(temp1,temp2, equal_var = False)\n",
    "        plisttemp.append('{:.10f}'.format(p))\n",
    "        slisttemp.append(s)\n",
    "        meanlisttemp.append(mean(temp1)/mean(temp2))\n",
    "    plist.append(plisttemp)\n",
    "    slist.append(slisttemp)\n",
    "    meanlist.append(meanlisttemp)\n",
    "    \n",
    "dfmean=pd.DataFrame(meanlist)\n",
    "dfmean.index=typelist\n",
    "dfmean.columns=typelist\n",
    "dfp=pd.DataFrame(plist)\n",
    "dfp.index=typelist\n",
    "dfp.columns=typelist"
   ]
  },
  {
   "cell_type": "code",
   "execution_count": null,
   "metadata": {},
   "outputs": [],
   "source": [
    "dfmean"
   ]
  },
  {
   "cell_type": "code",
   "execution_count": null,
   "metadata": {
    "scrolled": true
   },
   "outputs": [],
   "source": [
    "(dfmean>1.5)"
   ]
  },
  {
   "cell_type": "code",
   "execution_count": null,
   "metadata": {
    "scrolled": true
   },
   "outputs": [],
   "source": [
    "sum(dfmean>1.5,1)"
   ]
  },
  {
   "cell_type": "code",
   "execution_count": null,
   "metadata": {
    "scrolled": true
   },
   "outputs": [],
   "source": [
    "dfp"
   ]
  },
  {
   "cell_type": "code",
   "execution_count": null,
   "metadata": {},
   "outputs": [],
   "source": [
    "mcolor_dict = pd.Series({  \n",
    " 'SCP':   (90,  10,  10), 'Chromaffin1': (25, 60,  130),\n",
    "                             'cycling':    (57, 105,   7),\n",
    "             'Sympath':    (170, 180, 170),'SCP':   (190,  10,  10),  'Chromaffin': (25, 60,  130),\n",
    "                             'cycling':    (57, 105,   7),\n",
    "             'sympathoblasts':    (170, 180, 170),\n",
    "                            'Diff_Glia': (235, 125,  128),  'Diff_Mes': (10,10,255),\n",
    "                          'Chromaffin':   (55, 55,  78), 'preNeuroblast':  (100, 100, 240),\n",
    "                           'Diff_Neuroblast':    (57, 105,   7),'preGlia': (175, 175,  28),\n",
    "            'Bridge_SCP':    (170, 180, 170), 'NC_prog':(249,125,5),\n",
    "                           'Connecting':    ( 95, 186,  70),  'Auto_prog':    (180, 140, 130),\n",
    "       'cyclingNeuroblast':  (100, 100, 240), 'Migr_prog': ( 80, 235, 255),  'Mes_prog':(249,125,5),\n",
    "    \n",
    "    })\n",
    "mcolor_dict = mcolor_dict.map(lambda x: list(map(lambda y: y/255., x)))\n",
    "mwanted_order=[\n",
    " 'Diff_Mes', 'NC_prog',\n",
    " 'Bridge_SCP', 'Connecting',\n",
    " 'preNeuroblast',\n",
    "'Chromaffin', 'Diff_Neuroblast',\n",
    "]\n",
    "dftemp1=dftemp1.loc[dftemp1[\"TumorCluster\"]== 'Diff_Mes'].append(\n",
    "    dftemp1.loc[dftemp1[\"TumorCluster\"]== 'NC_prog']).append(\n",
    "    dftemp1.loc[dftemp1[\"TumorCluster\"]== 'Bridge_SCP']).append(\n",
    "    dftemp1.loc[dftemp1[\"TumorCluster\"]=='Connecting']).append(\n",
    "    dftemp1.loc[dftemp1[\"TumorCluster\"]=='preNeuroblast']).append(\n",
    "    dftemp1.loc[dftemp1[\"TumorCluster\"]=='Chromaffin']).append(\n",
    "    dftemp1.loc[dftemp1[\"TumorCluster\"]=='Diff_Neuroblast'])"
   ]
  },
  {
   "cell_type": "code",
   "execution_count": null,
   "metadata": {},
   "outputs": [],
   "source": [
    "import seaborn as sns\n",
    "def patch_violinplot():\n",
    "    from matplotlib.collections import PolyCollection\n",
    "    ax = plt.gca()\n",
    "    for art in ax.get_children():\n",
    "         if isinstance(art, PolyCollection):\n",
    "            art.set_edgecolor((0.6,0.6, 0.6))\n",
    "#seleColor=mnewcolors[rdmvalue]\n",
    "fig = plt.figure(figsize=(10,10))\n",
    "fig, ax = plt.subplots()\n",
    "fig.set_size_inches(16, 8)\n",
    "sns.set_style(\"whitegrid\")\n",
    "ax=sns.violinplot(x=\"TumorCluster\", y=celltype, data=dftemp1,bw=0.6,cut=2, gridsize=50,\n",
    "               saturation=0.9, width=0.75, palette=mcolor_dict[mwanted_order] ,scale='width', inner= \"box\")\n",
    "plt.setp(ax.collections, alpha=.8)\n",
    "ax.set_ylim(ymin=-0.15)\n",
    "plt.xticks(rotation=90,horizontalalignment='center', verticalalignment='top',\n",
    "       position=(0,0), fontsize=35)\n",
    "ax.spines['top'].set_visible(False)\n",
    "ax.spines['right'].set_visible(False)\n",
    "plt.title(celltype,fontsize=20)\n",
    "plt.grid(False)"
   ]
  },
  {
   "cell_type": "code",
   "execution_count": null,
   "metadata": {},
   "outputs": [],
   "source": []
  },
  {
   "cell_type": "code",
   "execution_count": null,
   "metadata": {},
   "outputs": [],
   "source": []
  },
  {
   "cell_type": "markdown",
   "metadata": {},
   "source": [
    "# B-cells"
   ]
  },
  {
   "cell_type": "code",
   "execution_count": null,
   "metadata": {},
   "outputs": [],
   "source": [
    "celltype=\"B-cells\"\n",
    "dftemp1=dftype[[celltype,\"TumorCluster\"]]\n",
    "typelist=list(set(dftemp1[\"TumorCluster\"]))"
   ]
  },
  {
   "cell_type": "code",
   "execution_count": null,
   "metadata": {},
   "outputs": [],
   "source": [
    "from scipy import stats\n",
    "plist=[]\n",
    "slist=[]\n",
    "meanlist=[]\n",
    "for i in range(len(typelist)):\n",
    "    temp1=dftemp1.loc[dftemp1[\"TumorCluster\"]==typelist[i]][celltype].values\n",
    "    plisttemp=[]\n",
    "    slisttemp=[]\n",
    "    meanlisttemp=[]\n",
    "    for j in range(len(typelist)):\n",
    "        temp2=dftemp1.loc[dftemp1[\"TumorCluster\"]==typelist[j]][celltype].values\n",
    "        s,p=stats.ttest_ind(temp1,temp2, equal_var = False)\n",
    "        plisttemp.append('{:.10f}'.format(p))\n",
    "        slisttemp.append(s)\n",
    "        meanlisttemp.append(mean(temp1)/mean(temp2))\n",
    "    plist.append(plisttemp)\n",
    "    slist.append(slisttemp)\n",
    "    meanlist.append(meanlisttemp)\n",
    "    \n",
    "dfmean=pd.DataFrame(meanlist)\n",
    "dfmean.index=typelist\n",
    "dfmean.columns=typelist\n",
    "dfp=pd.DataFrame(plist)\n",
    "dfp.index=typelist\n",
    "dfp.columns=typelist"
   ]
  },
  {
   "cell_type": "code",
   "execution_count": null,
   "metadata": {},
   "outputs": [],
   "source": [
    "dfmean"
   ]
  },
  {
   "cell_type": "code",
   "execution_count": null,
   "metadata": {},
   "outputs": [],
   "source": [
    "(dfmean>1.5)"
   ]
  },
  {
   "cell_type": "code",
   "execution_count": null,
   "metadata": {
    "scrolled": true
   },
   "outputs": [],
   "source": [
    "sum(dfmean>1.5,1)"
   ]
  },
  {
   "cell_type": "code",
   "execution_count": null,
   "metadata": {
    "scrolled": true
   },
   "outputs": [],
   "source": [
    "dfp"
   ]
  },
  {
   "cell_type": "code",
   "execution_count": null,
   "metadata": {},
   "outputs": [],
   "source": [
    "mcolor_dict = pd.Series({  \n",
    " 'SCP':   (90,  10,  10), 'Chromaffin1': (25, 60,  130),\n",
    "                             'cycling':    (57, 105,   7),\n",
    "             'Sympath':    (170, 180, 170),'SCP':   (190,  10,  10),  'Chromaffin': (25, 60,  130),\n",
    "                             'cycling':    (57, 105,   7),\n",
    "             'sympathoblasts':    (170, 180, 170),\n",
    "                            'Diff_Glia': (235, 125,  128),  'Diff_Mes': (10,10,255),\n",
    "                          'Chromaffin':   (55, 55,  78), 'preNeuroblast':  (100, 100, 240),\n",
    "                           'Diff_Neuroblast':    (57, 105,   7),'preGlia': (175, 175,  28),\n",
    "            'Bridge_SCP':    (170, 180, 170), 'NC_prog':(249,125,5),\n",
    "                           'Connecting':    ( 95, 186,  70),  'Auto_prog':    (180, 140, 130),\n",
    "       'cyclingNeuroblast':  (100, 100, 240), 'Migr_prog': ( 80, 235, 255),  'Mes_prog':(249,125,5),\n",
    "    \n",
    "    })\n",
    "mcolor_dict = mcolor_dict.map(lambda x: list(map(lambda y: y/255., x)))\n",
    "mwanted_order=[\n",
    " 'Diff_Mes', 'NC_prog',\n",
    " 'Bridge_SCP', 'Connecting',\n",
    " 'preNeuroblast',\n",
    "'Chromaffin', 'Diff_Neuroblast',\n",
    "]\n",
    "dftemp1=dftemp1.loc[dftemp1[\"TumorCluster\"]== 'Diff_Mes'].append(\n",
    "    dftemp1.loc[dftemp1[\"TumorCluster\"]== 'NC_prog']).append(\n",
    "    dftemp1.loc[dftemp1[\"TumorCluster\"]== 'Bridge_SCP']).append(\n",
    "    dftemp1.loc[dftemp1[\"TumorCluster\"]=='Connecting']).append(\n",
    "    dftemp1.loc[dftemp1[\"TumorCluster\"]=='preNeuroblast']).append(\n",
    "    dftemp1.loc[dftemp1[\"TumorCluster\"]=='Chromaffin']).append(\n",
    "    dftemp1.loc[dftemp1[\"TumorCluster\"]=='Diff_Neuroblast'])"
   ]
  },
  {
   "cell_type": "code",
   "execution_count": null,
   "metadata": {},
   "outputs": [],
   "source": [
    "import seaborn as sns\n",
    "def patch_violinplot():\n",
    "    from matplotlib.collections import PolyCollection\n",
    "    ax = plt.gca()\n",
    "    for art in ax.get_children():\n",
    "         if isinstance(art, PolyCollection):\n",
    "            art.set_edgecolor((0.6,0.6, 0.6))\n",
    "#seleColor=mnewcolors[rdmvalue]\n",
    "fig = plt.figure(figsize=(10,10))\n",
    "fig, ax = plt.subplots()\n",
    "fig.set_size_inches(16, 8)\n",
    "sns.set_style(\"whitegrid\")\n",
    "ax=sns.violinplot(x=\"TumorCluster\", y=celltype, data=dftemp1,bw=0.6,cut=2, gridsize=50,\n",
    "               saturation=0.9, width=0.75, palette=mcolor_dict[mwanted_order] ,scale='width', inner= \"box\")\n",
    "plt.setp(ax.collections, alpha=.8)\n",
    "ax.set_ylim(ymin=-0.15)\n",
    "plt.xticks(rotation=90,horizontalalignment='center', verticalalignment='top',\n",
    "       position=(0,0), fontsize=35)\n",
    "ax.spines['top'].set_visible(False)\n",
    "ax.spines['right'].set_visible(False)\n",
    "plt.title(celltype,fontsize=20)\n",
    "plt.grid(False)"
   ]
  },
  {
   "cell_type": "code",
   "execution_count": null,
   "metadata": {},
   "outputs": [],
   "source": []
  },
  {
   "cell_type": "code",
   "execution_count": null,
   "metadata": {},
   "outputs": [],
   "source": []
  },
  {
   "cell_type": "markdown",
   "metadata": {},
   "source": [
    "# Endothelial cells"
   ]
  },
  {
   "cell_type": "code",
   "execution_count": null,
   "metadata": {},
   "outputs": [],
   "source": [
    "dftype"
   ]
  },
  {
   "cell_type": "code",
   "execution_count": null,
   "metadata": {},
   "outputs": [],
   "source": [
    "celltype=\"Endothelial cells\"\n",
    "dftemp1=dftype[[celltype,\"TumorCluster\"]]\n",
    "typelist=list(set(dftemp1[\"TumorCluster\"]))"
   ]
  },
  {
   "cell_type": "code",
   "execution_count": null,
   "metadata": {},
   "outputs": [],
   "source": [
    "from scipy import stats\n",
    "plist=[]\n",
    "slist=[]\n",
    "meanlist=[]\n",
    "for i in range(len(typelist)):\n",
    "    temp1=dftemp1.loc[dftemp1[\"TumorCluster\"]==typelist[i]][celltype].values\n",
    "    plisttemp=[]\n",
    "    slisttemp=[]\n",
    "    meanlisttemp=[]\n",
    "    for j in range(len(typelist)):\n",
    "        temp2=dftemp1.loc[dftemp1[\"TumorCluster\"]==typelist[j]][celltype].values\n",
    "        s,p=stats.ttest_ind(temp1,temp2, equal_var = False)\n",
    "        plisttemp.append('{:.10f}'.format(p))\n",
    "        slisttemp.append(s)\n",
    "        meanlisttemp.append(mean(temp1)/mean(temp2))\n",
    "    plist.append(plisttemp)\n",
    "    slist.append(slisttemp)\n",
    "    meanlist.append(meanlisttemp)\n",
    "    \n",
    "dfmean=pd.DataFrame(meanlist)\n",
    "dfmean.index=typelist\n",
    "dfmean.columns=typelist\n",
    "dfp=pd.DataFrame(plist)\n",
    "dfp.index=typelist\n",
    "dfp.columns=typelist"
   ]
  },
  {
   "cell_type": "code",
   "execution_count": null,
   "metadata": {},
   "outputs": [],
   "source": [
    "dfmean"
   ]
  },
  {
   "cell_type": "code",
   "execution_count": null,
   "metadata": {
    "scrolled": true
   },
   "outputs": [],
   "source": [
    "dfp"
   ]
  },
  {
   "cell_type": "code",
   "execution_count": null,
   "metadata": {},
   "outputs": [],
   "source": [
    "(dfmean>1.5)"
   ]
  },
  {
   "cell_type": "code",
   "execution_count": null,
   "metadata": {
    "scrolled": true
   },
   "outputs": [],
   "source": [
    "sum(dfmean>1.5,1)"
   ]
  },
  {
   "cell_type": "code",
   "execution_count": null,
   "metadata": {},
   "outputs": [],
   "source": [
    "mcolor_dict = pd.Series({  \n",
    " 'SCP':   (90,  10,  10), 'Chromaffin1': (25, 60,  130),\n",
    "                             'cycling':    (57, 105,   7),\n",
    "             'Sympath':    (170, 180, 170),'SCP':   (190,  10,  10),  'Chromaffin': (25, 60,  130),\n",
    "                             'cycling':    (57, 105,   7),\n",
    "             'sympathoblasts':    (170, 180, 170),\n",
    "                            'Diff_Glia': (235, 125,  128),  'Diff_Mes': (10,10,255),\n",
    "                          'Chromaffin':   (55, 55,  78), 'preNeuroblast':  (100, 100, 240),\n",
    "                           'Diff_Neuroblast':    (57, 105,   7),'preGlia': (175, 175,  28),\n",
    "            'Bridge_SCP':    (170, 180, 170), 'NC_prog':(249,125,5),\n",
    "                           'Connecting':    ( 95, 186,  70),  'Auto_prog':    (180, 140, 130),\n",
    "       'cyclingNeuroblast':  (100, 100, 240), 'Migr_prog': ( 80, 235, 255),  'Mes_prog':(249,125,5),\n",
    "    \n",
    "    })\n",
    "mcolor_dict = mcolor_dict.map(lambda x: list(map(lambda y: y/255., x)))\n",
    "mwanted_order=[\n",
    " 'Diff_Mes', 'NC_prog',\n",
    " 'Bridge_SCP', 'Connecting',\n",
    " 'preNeuroblast',\n",
    "'Chromaffin', 'Diff_Neuroblast',\n",
    "]\n",
    "dftemp1=dftemp1.loc[dftemp1[\"TumorCluster\"]== 'Diff_Mes'].append(\n",
    "    dftemp1.loc[dftemp1[\"TumorCluster\"]== 'NC_prog']).append(\n",
    "    dftemp1.loc[dftemp1[\"TumorCluster\"]== 'Bridge_SCP']).append(\n",
    "    dftemp1.loc[dftemp1[\"TumorCluster\"]=='Connecting']).append(\n",
    "    dftemp1.loc[dftemp1[\"TumorCluster\"]=='preNeuroblast']).append(\n",
    "    dftemp1.loc[dftemp1[\"TumorCluster\"]=='Chromaffin']).append(\n",
    "    dftemp1.loc[dftemp1[\"TumorCluster\"]=='Diff_Neuroblast'])"
   ]
  },
  {
   "cell_type": "code",
   "execution_count": null,
   "metadata": {
    "scrolled": false
   },
   "outputs": [],
   "source": [
    "import seaborn as sns\n",
    "def patch_violinplot():\n",
    "    from matplotlib.collections import PolyCollection\n",
    "    ax = plt.gca()\n",
    "    for art in ax.get_children():\n",
    "         if isinstance(art, PolyCollection):\n",
    "            art.set_edgecolor((0.6,0.6, 0.6))\n",
    "#seleColor=mnewcolors[rdmvalue]\n",
    "fig = plt.figure(figsize=(10,10))\n",
    "fig, ax = plt.subplots()\n",
    "fig.set_size_inches(16, 8)\n",
    "sns.set_style(\"whitegrid\")\n",
    "ax=sns.violinplot(x=\"TumorCluster\", y=celltype, data=dftemp1,bw=0.6,cut=2, gridsize=50,\n",
    "               saturation=0.9, width=0.75, palette=mcolor_dict[mwanted_order] ,scale='width', inner= \"box\")\n",
    "plt.setp(ax.collections, alpha=.8)\n",
    "ax.set_ylim(ymin=-0.15)\n",
    "plt.xticks(rotation=90,horizontalalignment='center', verticalalignment='top',\n",
    "       position=(0,0), fontsize=35)\n",
    "ax.spines['top'].set_visible(False)\n",
    "ax.spines['right'].set_visible(False)\n",
    "plt.title(celltype,fontsize=20)\n",
    "plt.grid(False)"
   ]
  },
  {
   "cell_type": "markdown",
   "metadata": {},
   "source": [
    "# CAFs"
   ]
  },
  {
   "cell_type": "code",
   "execution_count": null,
   "metadata": {},
   "outputs": [],
   "source": [
    "celltype=\"CAFs\"\n",
    "dftemp1=dftype[[celltype,\"TumorCluster\"]]\n",
    "typelist=list(set(dftemp1[\"TumorCluster\"]))"
   ]
  },
  {
   "cell_type": "code",
   "execution_count": null,
   "metadata": {},
   "outputs": [],
   "source": [
    "from scipy import stats\n",
    "plist=[]\n",
    "slist=[]\n",
    "meanlist=[]\n",
    "for i in range(len(typelist)):\n",
    "    temp1=dftemp1.loc[dftemp1[\"TumorCluster\"]==typelist[i]][celltype].values\n",
    "    plisttemp=[]\n",
    "    slisttemp=[]\n",
    "    meanlisttemp=[]\n",
    "    for j in range(len(typelist)):\n",
    "        temp2=dftemp1.loc[dftemp1[\"TumorCluster\"]==typelist[j]][celltype].values\n",
    "        s,p=stats.ttest_ind(temp1,temp2, equal_var = False)\n",
    "        plisttemp.append('{:.10f}'.format(p))\n",
    "        slisttemp.append(s)\n",
    "        meanlisttemp.append(mean(temp1)/mean(temp2))\n",
    "    plist.append(plisttemp)\n",
    "    slist.append(slisttemp)\n",
    "    meanlist.append(meanlisttemp)\n",
    "    \n",
    "dfmean=pd.DataFrame(meanlist)\n",
    "dfmean.index=typelist\n",
    "dfmean.columns=typelist\n",
    "dfp=pd.DataFrame(plist)\n",
    "dfp.index=typelist\n",
    "dfp.columns=typelist"
   ]
  },
  {
   "cell_type": "code",
   "execution_count": null,
   "metadata": {
    "scrolled": true
   },
   "outputs": [],
   "source": [
    "dfmean"
   ]
  },
  {
   "cell_type": "code",
   "execution_count": null,
   "metadata": {},
   "outputs": [],
   "source": [
    "(dfmean>1.5)"
   ]
  },
  {
   "cell_type": "code",
   "execution_count": null,
   "metadata": {
    "scrolled": true
   },
   "outputs": [],
   "source": [
    "sum(dfmean>1.5,1)"
   ]
  },
  {
   "cell_type": "code",
   "execution_count": null,
   "metadata": {
    "scrolled": true
   },
   "outputs": [],
   "source": [
    "dfp"
   ]
  },
  {
   "cell_type": "code",
   "execution_count": null,
   "metadata": {},
   "outputs": [],
   "source": [
    "mcolor_dict = pd.Series({  \n",
    " 'SCP':   (90,  10,  10), 'Chromaffin1': (25, 60,  130),\n",
    "                             'cycling':    (57, 105,   7),\n",
    "             'Sympath':    (170, 180, 170),'SCP':   (190,  10,  10),  'Chromaffin': (25, 60,  130),\n",
    "                             'cycling':    (57, 105,   7),\n",
    "             'sympathoblasts':    (170, 180, 170),\n",
    "                            'Diff_Glia': (235, 125,  128),  'Diff_Mes': (10,10,255),\n",
    "                          'Chromaffin':   (55, 55,  78), 'preNeuroblast':  (100, 100, 240),\n",
    "                           'Diff_Neuroblast':    (57, 105,   7),'preGlia': (175, 175,  28),\n",
    "            'Bridge_SCP':    (170, 180, 170), 'NC_prog':(249,125,5),\n",
    "                           'Connecting':    ( 95, 186,  70),  'Auto_prog':    (180, 140, 130),\n",
    "       'cyclingNeuroblast':  (100, 100, 240), 'Migr_prog': ( 80, 235, 255),  'Mes_prog':(249,125,5),\n",
    "    \n",
    "    })\n",
    "mcolor_dict = mcolor_dict.map(lambda x: list(map(lambda y: y/255., x)))\n",
    "mwanted_order=[\n",
    " 'Diff_Mes', 'NC_prog',\n",
    " 'Bridge_SCP', 'Connecting',\n",
    " 'preNeuroblast',\n",
    "'Chromaffin', 'Diff_Neuroblast',\n",
    "]\n",
    "dftemp1=dftemp1.loc[dftemp1[\"TumorCluster\"]== 'Diff_Mes'].append(\n",
    "    dftemp1.loc[dftemp1[\"TumorCluster\"]== 'NC_prog']).append(\n",
    "    dftemp1.loc[dftemp1[\"TumorCluster\"]== 'Bridge_SCP']).append(\n",
    "    dftemp1.loc[dftemp1[\"TumorCluster\"]=='Connecting']).append(\n",
    "    dftemp1.loc[dftemp1[\"TumorCluster\"]=='preNeuroblast']).append(\n",
    "    dftemp1.loc[dftemp1[\"TumorCluster\"]=='Chromaffin']).append(\n",
    "    dftemp1.loc[dftemp1[\"TumorCluster\"]=='Diff_Neuroblast'])"
   ]
  },
  {
   "cell_type": "code",
   "execution_count": null,
   "metadata": {},
   "outputs": [],
   "source": [
    "import seaborn as sns\n",
    "def patch_violinplot():\n",
    "    from matplotlib.collections import PolyCollection\n",
    "    ax = plt.gca()\n",
    "    for art in ax.get_children():\n",
    "         if isinstance(art, PolyCollection):\n",
    "            art.set_edgecolor((0.6,0.6, 0.6))\n",
    "#seleColor=mnewcolors[rdmvalue]\n",
    "fig = plt.figure(figsize=(10,10))\n",
    "fig, ax = plt.subplots()\n",
    "fig.set_size_inches(16, 8)\n",
    "sns.set_style(\"whitegrid\")\n",
    "ax=sns.violinplot(x=\"TumorCluster\", y=celltype, data=dftemp1,bw=0.3,cut=2, gridsize=50,\n",
    "               saturation=0.9, width=0.75, palette=mcolor_dict[mwanted_order] ,scale='width', inner= \"box\")\n",
    "plt.setp(ax.collections, alpha=.8)\n",
    "ax.set_ylim(ymin=-0.15)\n",
    "plt.xticks(rotation=90,horizontalalignment='center', verticalalignment='top',\n",
    "       position=(0,0), fontsize=35)\n",
    "ax.spines['top'].set_visible(False)\n",
    "ax.spines['right'].set_visible(False)\n",
    "plt.title(celltype,fontsize=20)\n",
    "plt.grid(False)"
   ]
  },
  {
   "cell_type": "code",
   "execution_count": null,
   "metadata": {},
   "outputs": [],
   "source": []
  },
  {
   "cell_type": "code",
   "execution_count": null,
   "metadata": {},
   "outputs": [],
   "source": []
  },
  {
   "cell_type": "markdown",
   "metadata": {},
   "source": [
    "# DCs"
   ]
  },
  {
   "cell_type": "code",
   "execution_count": null,
   "metadata": {
    "scrolled": true
   },
   "outputs": [],
   "source": [
    "dftype"
   ]
  },
  {
   "cell_type": "code",
   "execution_count": null,
   "metadata": {},
   "outputs": [],
   "source": [
    "celltype=\"DCs\"\n",
    "dftemp1=dftype[[celltype,\"TumorCluster\"]]\n",
    "typelist=list(set(dftemp1[\"TumorCluster\"]))"
   ]
  },
  {
   "cell_type": "code",
   "execution_count": null,
   "metadata": {},
   "outputs": [],
   "source": [
    "from scipy import stats\n",
    "plist=[]\n",
    "slist=[]\n",
    "meanlist=[]\n",
    "for i in range(len(typelist)):\n",
    "    temp1=dftemp1.loc[dftemp1[\"TumorCluster\"]==typelist[i]][celltype].values\n",
    "    plisttemp=[]\n",
    "    slisttemp=[]\n",
    "    meanlisttemp=[]\n",
    "    for j in range(len(typelist)):\n",
    "        temp2=dftemp1.loc[dftemp1[\"TumorCluster\"]==typelist[j]][celltype].values\n",
    "        s,p=stats.ttest_ind(temp1,temp2, equal_var = False)\n",
    "        plisttemp.append('{:.10f}'.format(p))\n",
    "        slisttemp.append(s)\n",
    "        meanlisttemp.append(mean(temp1)/mean(temp2))\n",
    "    plist.append(plisttemp)\n",
    "    slist.append(slisttemp)\n",
    "    meanlist.append(meanlisttemp)\n",
    "    \n",
    "dfmean=pd.DataFrame(meanlist)\n",
    "dfmean.index=typelist\n",
    "dfmean.columns=typelist\n",
    "dfp=pd.DataFrame(plist)\n",
    "dfp.index=typelist\n",
    "dfp.columns=typelist"
   ]
  },
  {
   "cell_type": "code",
   "execution_count": null,
   "metadata": {
    "scrolled": true
   },
   "outputs": [],
   "source": [
    "dfmean"
   ]
  },
  {
   "cell_type": "code",
   "execution_count": null,
   "metadata": {},
   "outputs": [],
   "source": [
    "(dfmean>1.5)"
   ]
  },
  {
   "cell_type": "code",
   "execution_count": null,
   "metadata": {
    "scrolled": true
   },
   "outputs": [],
   "source": [
    "sum(dfmean>1.5,1)"
   ]
  },
  {
   "cell_type": "code",
   "execution_count": null,
   "metadata": {},
   "outputs": [],
   "source": [
    "(dfmean>1.5).astype(int)"
   ]
  },
  {
   "cell_type": "code",
   "execution_count": null,
   "metadata": {
    "scrolled": true
   },
   "outputs": [],
   "source": [
    "dfp"
   ]
  },
  {
   "cell_type": "code",
   "execution_count": null,
   "metadata": {},
   "outputs": [],
   "source": [
    "mcolor_dict = pd.Series({  \n",
    " 'SCP':   (90,  10,  10), 'Chromaffin1': (25, 60,  130),\n",
    "                             'cycling':    (57, 105,   7),\n",
    "             'Sympath':    (170, 180, 170),'SCP':   (190,  10,  10),  'Chromaffin': (25, 60,  130),\n",
    "                             'cycling':    (57, 105,   7),\n",
    "             'sympathoblasts':    (170, 180, 170),\n",
    "                            'Diff_Glia': (235, 125,  128),  'Diff_Mes': (10,10,255),\n",
    "                          'Chromaffin':   (55, 55,  78), 'preNeuroblast':  (100, 100, 240),\n",
    "                           'Diff_Neuroblast':    (57, 105,   7),'preGlia': (175, 175,  28),\n",
    "            'Bridge_SCP':    (170, 180, 170), 'NC_prog':(249,125,5),\n",
    "                           'Connecting':    ( 95, 186,  70),  'Auto_prog':    (180, 140, 130),\n",
    "       'cyclingNeuroblast':  (100, 100, 240), 'Migr_prog': ( 80, 235, 255),  'Mes_prog':(249,125,5),\n",
    "    \n",
    "    })\n",
    "mcolor_dict = mcolor_dict.map(lambda x: list(map(lambda y: y/255., x)))\n",
    "mwanted_order=[\n",
    " 'Diff_Mes', 'NC_prog',\n",
    " 'Bridge_SCP', 'Connecting',\n",
    " 'preNeuroblast',\n",
    "'Chromaffin', 'Diff_Neuroblast',\n",
    "]\n",
    "dftemp1=dftemp1.loc[dftemp1[\"TumorCluster\"]== 'Diff_Mes'].append(\n",
    "    dftemp1.loc[dftemp1[\"TumorCluster\"]== 'NC_prog']).append(\n",
    "    dftemp1.loc[dftemp1[\"TumorCluster\"]== 'Bridge_SCP']).append(\n",
    "    dftemp1.loc[dftemp1[\"TumorCluster\"]=='Connecting']).append(\n",
    "    dftemp1.loc[dftemp1[\"TumorCluster\"]=='preNeuroblast']).append(\n",
    "    dftemp1.loc[dftemp1[\"TumorCluster\"]=='Chromaffin']).append(\n",
    "    dftemp1.loc[dftemp1[\"TumorCluster\"]=='Diff_Neuroblast'])"
   ]
  },
  {
   "cell_type": "code",
   "execution_count": null,
   "metadata": {
    "scrolled": false
   },
   "outputs": [],
   "source": [
    "import seaborn as sns\n",
    "def patch_violinplot():\n",
    "    from matplotlib.collections import PolyCollection\n",
    "    ax = plt.gca()\n",
    "    for art in ax.get_children():\n",
    "         if isinstance(art, PolyCollection):\n",
    "            art.set_edgecolor((0.6,0.6, 0.6))\n",
    "#seleColor=mnewcolors[rdmvalue]\n",
    "fig = plt.figure(figsize=(10,10))\n",
    "fig, ax = plt.subplots()\n",
    "fig.set_size_inches(16, 8)\n",
    "sns.set_style(\"whitegrid\")\n",
    "ax=sns.violinplot(x=\"TumorCluster\", y=celltype, data=dftemp1,bw=0.6,cut=2, gridsize=50,\n",
    "               saturation=0.9, width=0.75, palette=mcolor_dict[mwanted_order] ,scale='width', inner= \"box\")\n",
    "plt.setp(ax.collections, alpha=.8)\n",
    "ax.set_ylim(ymin=-0.15)\n",
    "plt.xticks(rotation=90,horizontalalignment='center', verticalalignment='top',\n",
    "       position=(0,0), fontsize=35)\n",
    "ax.spines['top'].set_visible(False)\n",
    "ax.spines['right'].set_visible(False)\n",
    "plt.title(celltype,fontsize=20)\n",
    "plt.grid(False)"
   ]
  },
  {
   "cell_type": "code",
   "execution_count": null,
   "metadata": {},
   "outputs": [],
   "source": []
  },
  {
   "cell_type": "code",
   "execution_count": null,
   "metadata": {},
   "outputs": [],
   "source": []
  },
  {
   "cell_type": "code",
   "execution_count": null,
   "metadata": {},
   "outputs": [],
   "source": []
  },
  {
   "cell_type": "code",
   "execution_count": null,
   "metadata": {},
   "outputs": [],
   "source": []
  },
  {
   "cell_type": "markdown",
   "metadata": {},
   "source": [
    "# Tumor"
   ]
  },
  {
   "cell_type": "markdown",
   "metadata": {},
   "source": [
    "# Diff_Mes"
   ]
  },
  {
   "cell_type": "code",
   "execution_count": null,
   "metadata": {},
   "outputs": [],
   "source": [
    "cd ."
   ]
  },
  {
   "cell_type": "code",
   "execution_count": null,
   "metadata": {
    "scrolled": true
   },
   "outputs": [],
   "source": [
    "dftype=pd.read_table(\"TumorType_vs_TumorTypeCells.tab\",index_col=0,header=0,sep=\"\\t\")\n",
    "dftype.head()"
   ]
  },
  {
   "cell_type": "code",
   "execution_count": null,
   "metadata": {},
   "outputs": [],
   "source": [
    "celltype=\"Diff_Mes\"\n",
    "dftemp1=dftype[[celltype,\"TumorCluster\"]]\n",
    "typelist=list(set(dftemp1[\"TumorCluster\"]))"
   ]
  },
  {
   "cell_type": "code",
   "execution_count": null,
   "metadata": {},
   "outputs": [],
   "source": [
    "from scipy import stats\n",
    "plist=[]\n",
    "slist=[]\n",
    "meanlist=[]\n",
    "for i in range(len(typelist)):\n",
    "    temp1=dftemp1.loc[dftemp1[\"TumorCluster\"]==typelist[i]][celltype].values\n",
    "    plisttemp=[]\n",
    "    slisttemp=[]\n",
    "    meanlisttemp=[]\n",
    "    for j in range(len(typelist)):\n",
    "        temp2=dftemp1.loc[dftemp1[\"TumorCluster\"]==typelist[j]][celltype].values\n",
    "        s,p=stats.ttest_ind(temp1,temp2, equal_var = False)\n",
    "        plisttemp.append('{:.10f}'.format(p))\n",
    "        slisttemp.append(s)\n",
    "        meanlisttemp.append(mean(temp1)/mean(temp2))\n",
    "    plist.append(plisttemp)\n",
    "    slist.append(slisttemp)\n",
    "    meanlist.append(meanlisttemp)\n",
    "    \n",
    "dfmean=pd.DataFrame(meanlist)\n",
    "dfmean.index=typelist\n",
    "dfmean.columns=typelist\n",
    "dfp=pd.DataFrame(plist)\n",
    "dfp.index=typelist\n",
    "dfp.columns=typelist"
   ]
  },
  {
   "cell_type": "code",
   "execution_count": null,
   "metadata": {
    "scrolled": true
   },
   "outputs": [],
   "source": [
    "dfmean"
   ]
  },
  {
   "cell_type": "code",
   "execution_count": null,
   "metadata": {},
   "outputs": [],
   "source": [
    "(dfmean>1.5).astype(int)"
   ]
  },
  {
   "cell_type": "code",
   "execution_count": null,
   "metadata": {},
   "outputs": [],
   "source": [
    "(dfmean>1.5).sum(1)"
   ]
  },
  {
   "cell_type": "code",
   "execution_count": null,
   "metadata": {
    "scrolled": false
   },
   "outputs": [],
   "source": [
    "dfp"
   ]
  },
  {
   "cell_type": "code",
   "execution_count": null,
   "metadata": {},
   "outputs": [],
   "source": [
    "mcolor_dict = pd.Series({  \n",
    " 'SCP':   (90,  10,  10), 'Chromaffin1': (25, 60,  130),\n",
    "                             'cycling':    (57, 105,   7),\n",
    "             'Sympath':    (170, 180, 170),'SCP':   (190,  10,  10),  'Chromaffin': (25, 60,  130),\n",
    "                             'cycling':    (57, 105,   7),\n",
    "             'sympathoblasts':    (170, 180, 170),\n",
    "                            'Diff_Glia': (235, 125,  128),  'Diff_Mes': (10,10,255),\n",
    "                          'Chromaffin':   (55, 55,  78), 'preNeuroblast':  (100, 100, 240),\n",
    "                           'Diff_Neuroblast':    (57, 105,   7),'preGlia': (175, 175,  28),\n",
    "            'Bridge_SCP':    (170, 180, 170), 'NC_prog':(249,125,5),\n",
    "                           'Connecting':    ( 95, 186,  70),  'Auto_prog':    (180, 140, 130),\n",
    "       'cyclingNeuroblast':  (100, 100, 240), 'Migr_prog': ( 80, 235, 255),  'Mes_prog':(249,125,5),\n",
    "    \n",
    "    })\n",
    "mcolor_dict = mcolor_dict.map(lambda x: list(map(lambda y: y/255., x)))\n",
    "mwanted_order=[\n",
    " 'Diff_Mes', 'NC_prog',\n",
    " 'Bridge_SCP', 'Connecting',\n",
    " 'preNeuroblast',\n",
    "'Chromaffin', 'Diff_Neuroblast',\n",
    "]\n",
    "dftemp1=dftemp1.loc[dftemp1[\"TumorCluster\"]== 'Diff_Mes'].append(\n",
    "    dftemp1.loc[dftemp1[\"TumorCluster\"]== 'NC_prog']).append(\n",
    "    dftemp1.loc[dftemp1[\"TumorCluster\"]== 'Bridge_SCP']).append(\n",
    "    dftemp1.loc[dftemp1[\"TumorCluster\"]=='Connecting']).append(\n",
    "    dftemp1.loc[dftemp1[\"TumorCluster\"]=='preNeuroblast']).append(\n",
    "    dftemp1.loc[dftemp1[\"TumorCluster\"]=='Chromaffin']).append(\n",
    "    dftemp1.loc[dftemp1[\"TumorCluster\"]=='Diff_Neuroblast'])"
   ]
  },
  {
   "cell_type": "code",
   "execution_count": null,
   "metadata": {
    "scrolled": false
   },
   "outputs": [],
   "source": [
    "import seaborn as sns\n",
    "def patch_violinplot():\n",
    "    from matplotlib.collections import PolyCollection\n",
    "    ax = plt.gca()\n",
    "    for art in ax.get_children():\n",
    "         if isinstance(art, PolyCollection):\n",
    "            art.set_edgecolor((0.6,0.6, 0.6))\n",
    "#seleColor=mnewcolors[rdmvalue]\n",
    "fig = plt.figure(figsize=(10,10))\n",
    "fig, ax = plt.subplots()\n",
    "fig.set_size_inches(16, 8)\n",
    "sns.set_style(\"whitegrid\")\n",
    "ax=sns.violinplot(x=\"TumorCluster\", y=celltype, data=dftemp1,bw=0.6,cut=2, gridsize=50,\n",
    "               saturation=0.9, width=0.75, palette=mcolor_dict[mwanted_order] ,scale='width', inner= \"box\")\n",
    "plt.setp(ax.collections, alpha=.8)\n",
    "ax.set_ylim(ymin=-0.15)\n",
    "plt.xticks(rotation=90,horizontalalignment='center', verticalalignment='top',\n",
    "       position=(0,0), fontsize=35)\n",
    "ax.spines['top'].set_visible(False)\n",
    "ax.spines['right'].set_visible(False)\n",
    "plt.title(celltype,fontsize=20)\n",
    "plt.grid(False)"
   ]
  },
  {
   "cell_type": "code",
   "execution_count": null,
   "metadata": {},
   "outputs": [],
   "source": []
  },
  {
   "cell_type": "code",
   "execution_count": null,
   "metadata": {},
   "outputs": [],
   "source": []
  },
  {
   "cell_type": "markdown",
   "metadata": {},
   "source": [
    "# NC_prog"
   ]
  },
  {
   "cell_type": "code",
   "execution_count": null,
   "metadata": {},
   "outputs": [],
   "source": [
    "celltype=\"NC_prog\"\n",
    "dftemp1=dftype[[celltype,\"TumorCluster\"]]\n",
    "typelist=list(set(dftemp1[\"TumorCluster\"]))"
   ]
  },
  {
   "cell_type": "code",
   "execution_count": null,
   "metadata": {},
   "outputs": [],
   "source": [
    "from scipy import stats\n",
    "plist=[]\n",
    "slist=[]\n",
    "meanlist=[]\n",
    "for i in range(len(typelist)):\n",
    "    temp1=dftemp1.loc[dftemp1[\"TumorCluster\"]==typelist[i]][celltype].values\n",
    "    plisttemp=[]\n",
    "    slisttemp=[]\n",
    "    meanlisttemp=[]\n",
    "    for j in range(len(typelist)):\n",
    "        temp2=dftemp1.loc[dftemp1[\"TumorCluster\"]==typelist[j]][celltype].values\n",
    "        s,p=stats.ttest_ind(temp1,temp2, equal_var = False)\n",
    "        plisttemp.append('{:.10f}'.format(p))\n",
    "        slisttemp.append(s)\n",
    "        meanlisttemp.append(mean(temp1)/mean(temp2))\n",
    "    plist.append(plisttemp)\n",
    "    slist.append(slisttemp)\n",
    "    meanlist.append(meanlisttemp)\n",
    "    \n",
    "dfmean=pd.DataFrame(meanlist)\n",
    "dfmean.index=typelist\n",
    "dfmean.columns=typelist\n",
    "dfp=pd.DataFrame(plist)\n",
    "dfp.index=typelist\n",
    "dfp.columns=typelist"
   ]
  },
  {
   "cell_type": "code",
   "execution_count": null,
   "metadata": {
    "scrolled": true
   },
   "outputs": [],
   "source": [
    "dfmean"
   ]
  },
  {
   "cell_type": "code",
   "execution_count": null,
   "metadata": {},
   "outputs": [],
   "source": [
    "(dfmean>1.5).astype(int)"
   ]
  },
  {
   "cell_type": "code",
   "execution_count": null,
   "metadata": {},
   "outputs": [],
   "source": [
    "(dfmean>1.5).sum(1)"
   ]
  },
  {
   "cell_type": "code",
   "execution_count": null,
   "metadata": {
    "scrolled": true
   },
   "outputs": [],
   "source": [
    "dfp"
   ]
  },
  {
   "cell_type": "code",
   "execution_count": null,
   "metadata": {},
   "outputs": [],
   "source": [
    "mcolor_dict = pd.Series({  \n",
    " 'SCP':   (90,  10,  10), 'Chromaffin1': (25, 60,  130),\n",
    "                             'cycling':    (57, 105,   7),\n",
    "             'Sympath':    (170, 180, 170),'SCP':   (190,  10,  10),  'Chromaffin': (25, 60,  130),\n",
    "                             'cycling':    (57, 105,   7),\n",
    "             'sympathoblasts':    (170, 180, 170),\n",
    "                            'Diff_Glia': (235, 125,  128),  'Diff_Mes': (10,10,255),\n",
    "                          'Chromaffin':   (55, 55,  78), 'preNeuroblast':  (100, 100, 240),\n",
    "                           'Diff_Neuroblast':    (57, 105,   7),'preGlia': (175, 175,  28),\n",
    "            'Bridge_SCP':    (170, 180, 170), 'NC_prog':(249,125,5),\n",
    "                           'Connecting':    ( 95, 186,  70),  'Auto_prog':    (180, 140, 130),\n",
    "       'cyclingNeuroblast':  (100, 100, 240), 'Migr_prog': ( 80, 235, 255),  'Mes_prog':(249,125,5),\n",
    "    \n",
    "    })\n",
    "mcolor_dict = mcolor_dict.map(lambda x: list(map(lambda y: y/255., x)))\n",
    "mwanted_order=[\n",
    " 'Diff_Mes', 'NC_prog',\n",
    " 'Bridge_SCP', 'Connecting',\n",
    " 'preNeuroblast',\n",
    "'Chromaffin', 'Diff_Neuroblast',\n",
    "]\n",
    "dftemp1=dftemp1.loc[dftemp1[\"TumorCluster\"]== 'Diff_Mes'].append(\n",
    "    dftemp1.loc[dftemp1[\"TumorCluster\"]== 'NC_prog']).append(\n",
    "    dftemp1.loc[dftemp1[\"TumorCluster\"]== 'Bridge_SCP']).append(\n",
    "    dftemp1.loc[dftemp1[\"TumorCluster\"]=='Connecting']).append(\n",
    "    dftemp1.loc[dftemp1[\"TumorCluster\"]=='preNeuroblast']).append(\n",
    "    dftemp1.loc[dftemp1[\"TumorCluster\"]=='Chromaffin']).append(\n",
    "    dftemp1.loc[dftemp1[\"TumorCluster\"]=='Diff_Neuroblast'])"
   ]
  },
  {
   "cell_type": "code",
   "execution_count": null,
   "metadata": {
    "scrolled": false
   },
   "outputs": [],
   "source": [
    "import seaborn as sns\n",
    "def patch_violinplot():\n",
    "    from matplotlib.collections import PolyCollection\n",
    "    ax = plt.gca()\n",
    "    for art in ax.get_children():\n",
    "         if isinstance(art, PolyCollection):\n",
    "            art.set_edgecolor((0.6,0.6, 0.6))\n",
    "#seleColor=mnewcolors[rdmvalue]\n",
    "fig = plt.figure(figsize=(10,10))\n",
    "fig, ax = plt.subplots()\n",
    "fig.set_size_inches(16, 8)\n",
    "sns.set_style(\"whitegrid\")\n",
    "ax=sns.violinplot(x=\"TumorCluster\", y=celltype, data=dftemp1,bw=0.6,cut=2, gridsize=50,\n",
    "               saturation=0.9, width=0.75, palette=mcolor_dict[mwanted_order] ,scale='width', inner= \"box\")\n",
    "plt.setp(ax.collections, alpha=.8)\n",
    "ax.set_ylim(ymin=-0.15)\n",
    "plt.xticks(rotation=90,horizontalalignment='center', verticalalignment='top',\n",
    "       position=(0,0), fontsize=35)\n",
    "ax.spines['top'].set_visible(False)\n",
    "ax.spines['right'].set_visible(False)\n",
    "plt.title(celltype,fontsize=20)\n",
    "plt.grid(False)"
   ]
  },
  {
   "cell_type": "code",
   "execution_count": null,
   "metadata": {},
   "outputs": [],
   "source": []
  },
  {
   "cell_type": "code",
   "execution_count": null,
   "metadata": {},
   "outputs": [],
   "source": []
  },
  {
   "cell_type": "markdown",
   "metadata": {},
   "source": [
    "# Bridge_SCP"
   ]
  },
  {
   "cell_type": "code",
   "execution_count": null,
   "metadata": {},
   "outputs": [],
   "source": [
    "dftype"
   ]
  },
  {
   "cell_type": "code",
   "execution_count": null,
   "metadata": {},
   "outputs": [],
   "source": [
    "celltype=\"Bridge_SCP\"\n",
    "dftemp1=dftype[[celltype,\"TumorCluster\"]]\n",
    "typelist=list(set(dftemp1[\"TumorCluster\"]))"
   ]
  },
  {
   "cell_type": "code",
   "execution_count": null,
   "metadata": {},
   "outputs": [],
   "source": [
    "from scipy import stats\n",
    "plist=[]\n",
    "slist=[]\n",
    "meanlist=[]\n",
    "for i in range(len(typelist)):\n",
    "    temp1=dftemp1.loc[dftemp1[\"TumorCluster\"]==typelist[i]][celltype].values\n",
    "    plisttemp=[]\n",
    "    slisttemp=[]\n",
    "    meanlisttemp=[]\n",
    "    for j in range(len(typelist)):\n",
    "        temp2=dftemp1.loc[dftemp1[\"TumorCluster\"]==typelist[j]][celltype].values\n",
    "        s,p=stats.ttest_ind(temp1,temp2, equal_var = False)\n",
    "        plisttemp.append('{:.10f}'.format(p))\n",
    "        slisttemp.append(s)\n",
    "        meanlisttemp.append(mean(temp1)/mean(temp2))\n",
    "    plist.append(plisttemp)\n",
    "    slist.append(slisttemp)\n",
    "    meanlist.append(meanlisttemp)\n",
    "    \n",
    "dfmean=pd.DataFrame(meanlist)\n",
    "dfmean.index=typelist\n",
    "dfmean.columns=typelist\n",
    "dfp=pd.DataFrame(plist)\n",
    "dfp.index=typelist\n",
    "dfp.columns=typelist"
   ]
  },
  {
   "cell_type": "code",
   "execution_count": null,
   "metadata": {
    "scrolled": true
   },
   "outputs": [],
   "source": [
    "dfmean"
   ]
  },
  {
   "cell_type": "code",
   "execution_count": null,
   "metadata": {},
   "outputs": [],
   "source": [
    "(dfmean>1.5).astype(int)"
   ]
  },
  {
   "cell_type": "code",
   "execution_count": null,
   "metadata": {},
   "outputs": [],
   "source": [
    "(dfmean>1.5).sum(1)"
   ]
  },
  {
   "cell_type": "code",
   "execution_count": null,
   "metadata": {
    "scrolled": true
   },
   "outputs": [],
   "source": [
    "dfp"
   ]
  },
  {
   "cell_type": "code",
   "execution_count": null,
   "metadata": {},
   "outputs": [],
   "source": [
    "mcolor_dict = pd.Series({  \n",
    " 'SCP':   (90,  10,  10), 'Chromaffin1': (25, 60,  130),\n",
    "                             'cycling':    (57, 105,   7),\n",
    "             'Sympath':    (170, 180, 170),'SCP':   (190,  10,  10),  'Chromaffin': (25, 60,  130),\n",
    "                             'cycling':    (57, 105,   7),\n",
    "             'sympathoblasts':    (170, 180, 170),\n",
    "                            'Diff_Glia': (235, 125,  128),  'Diff_Mes': (10,10,255),\n",
    "                          'Chromaffin':   (55, 55,  78), 'preNeuroblast':  (100, 100, 240),\n",
    "                           'Diff_Neuroblast':    (57, 105,   7),'preGlia': (175, 175,  28),\n",
    "            'Bridge_SCP':    (170, 180, 170), 'NC_prog':(249,125,5),\n",
    "                           'Connecting':    ( 95, 186,  70),  'Auto_prog':    (180, 140, 130),\n",
    "       'cyclingNeuroblast':  (100, 100, 240), 'Migr_prog': ( 80, 235, 255),  'Mes_prog':(249,125,5),\n",
    "    \n",
    "    })\n",
    "mcolor_dict = mcolor_dict.map(lambda x: list(map(lambda y: y/255., x)))\n",
    "mwanted_order=[\n",
    " 'Diff_Mes', 'NC_prog',\n",
    " 'Bridge_SCP', 'Connecting',\n",
    " 'preNeuroblast',\n",
    "'Chromaffin', 'Diff_Neuroblast',\n",
    "]\n",
    "dftemp1=dftemp1.loc[dftemp1[\"TumorCluster\"]== 'Diff_Mes'].append(\n",
    "    dftemp1.loc[dftemp1[\"TumorCluster\"]== 'NC_prog']).append(\n",
    "    dftemp1.loc[dftemp1[\"TumorCluster\"]== 'Bridge_SCP']).append(\n",
    "    dftemp1.loc[dftemp1[\"TumorCluster\"]=='Connecting']).append(\n",
    "    dftemp1.loc[dftemp1[\"TumorCluster\"]=='preNeuroblast']).append(\n",
    "    dftemp1.loc[dftemp1[\"TumorCluster\"]=='Chromaffin']).append(\n",
    "    dftemp1.loc[dftemp1[\"TumorCluster\"]=='Diff_Neuroblast'])"
   ]
  },
  {
   "cell_type": "code",
   "execution_count": null,
   "metadata": {
    "scrolled": false
   },
   "outputs": [],
   "source": [
    "import seaborn as sns\n",
    "def patch_violinplot():\n",
    "    from matplotlib.collections import PolyCollection\n",
    "    ax = plt.gca()\n",
    "    for art in ax.get_children():\n",
    "         if isinstance(art, PolyCollection):\n",
    "            art.set_edgecolor((0.6,0.6, 0.6))\n",
    "#seleColor=mnewcolors[rdmvalue]\n",
    "fig = plt.figure(figsize=(10,10))\n",
    "fig, ax = plt.subplots()\n",
    "fig.set_size_inches(16, 8)\n",
    "sns.set_style(\"whitegrid\")\n",
    "ax=sns.violinplot(x=\"TumorCluster\", y=celltype, data=dftemp1,bw=0.6,cut=2, gridsize=50,\n",
    "               saturation=0.9, width=0.75, palette=mcolor_dict[mwanted_order] ,scale='width', inner= \"box\")\n",
    "plt.setp(ax.collections, alpha=.8)\n",
    "ax.set_ylim(ymin=-0.15)\n",
    "plt.xticks(rotation=90,horizontalalignment='center', verticalalignment='top',\n",
    "       position=(0,0), fontsize=35)\n",
    "ax.spines['top'].set_visible(False)\n",
    "ax.spines['right'].set_visible(False)\n",
    "plt.title(celltype,fontsize=20)\n",
    "plt.grid(False)"
   ]
  },
  {
   "cell_type": "code",
   "execution_count": null,
   "metadata": {},
   "outputs": [],
   "source": []
  },
  {
   "cell_type": "markdown",
   "metadata": {},
   "source": [
    "# Connecting"
   ]
  },
  {
   "cell_type": "code",
   "execution_count": null,
   "metadata": {},
   "outputs": [],
   "source": [
    "celltype=\"Connecting\"\n",
    "dftemp1=dftype[[celltype,\"TumorCluster\"]]\n",
    "typelist=list(set(dftemp1[\"TumorCluster\"]))"
   ]
  },
  {
   "cell_type": "code",
   "execution_count": null,
   "metadata": {},
   "outputs": [],
   "source": [
    "from scipy import stats\n",
    "plist=[]\n",
    "slist=[]\n",
    "meanlist=[]\n",
    "for i in range(len(typelist)):\n",
    "    temp1=dftemp1.loc[dftemp1[\"TumorCluster\"]==typelist[i]][celltype].values\n",
    "    plisttemp=[]\n",
    "    slisttemp=[]\n",
    "    meanlisttemp=[]\n",
    "    for j in range(len(typelist)):\n",
    "        temp2=dftemp1.loc[dftemp1[\"TumorCluster\"]==typelist[j]][celltype].values\n",
    "        s,p=stats.ttest_ind(temp1,temp2, equal_var = False)\n",
    "        plisttemp.append('{:.10f}'.format(p))\n",
    "        slisttemp.append(s)\n",
    "        meanlisttemp.append(mean(temp1)/mean(temp2))\n",
    "    plist.append(plisttemp)\n",
    "    slist.append(slisttemp)\n",
    "    meanlist.append(meanlisttemp)\n",
    "    \n",
    "dfmean=pd.DataFrame(meanlist)\n",
    "dfmean.index=typelist\n",
    "dfmean.columns=typelist\n",
    "dfp=pd.DataFrame(plist)\n",
    "dfp.index=typelist\n",
    "dfp.columns=typelist"
   ]
  },
  {
   "cell_type": "code",
   "execution_count": null,
   "metadata": {
    "scrolled": true
   },
   "outputs": [],
   "source": [
    "dfmean"
   ]
  },
  {
   "cell_type": "code",
   "execution_count": null,
   "metadata": {},
   "outputs": [],
   "source": [
    "(dfmean>1.5).astype(int)"
   ]
  },
  {
   "cell_type": "code",
   "execution_count": null,
   "metadata": {},
   "outputs": [],
   "source": [
    "(dfmean>1.5).sum(1)"
   ]
  },
  {
   "cell_type": "code",
   "execution_count": null,
   "metadata": {
    "scrolled": true
   },
   "outputs": [],
   "source": [
    "dfp"
   ]
  },
  {
   "cell_type": "code",
   "execution_count": null,
   "metadata": {},
   "outputs": [],
   "source": [
    "mcolor_dict = pd.Series({  \n",
    " 'SCP':   (90,  10,  10), 'Chromaffin1': (25, 60,  130),\n",
    "                             'cycling':    (57, 105,   7),\n",
    "             'Sympath':    (170, 180, 170),'SCP':   (190,  10,  10),  'Chromaffin': (25, 60,  130),\n",
    "                             'cycling':    (57, 105,   7),\n",
    "             'sympathoblasts':    (170, 180, 170),\n",
    "                            'Diff_Glia': (235, 125,  128),  'Diff_Mes': (10,10,255),\n",
    "                          'Chromaffin':   (55, 55,  78), 'preNeuroblast':  (100, 100, 240),\n",
    "                           'Diff_Neuroblast':    (57, 105,   7),'preGlia': (175, 175,  28),\n",
    "            'Bridge_SCP':    (170, 180, 170), 'NC_prog':(249,125,5),\n",
    "                           'Connecting':    ( 95, 186,  70),  'Auto_prog':    (180, 140, 130),\n",
    "       'cyclingNeuroblast':  (100, 100, 240), 'Migr_prog': ( 80, 235, 255),  'Mes_prog':(249,125,5),\n",
    "    \n",
    "    })\n",
    "mcolor_dict = mcolor_dict.map(lambda x: list(map(lambda y: y/255., x)))\n",
    "mwanted_order=[\n",
    " 'Diff_Mes', 'NC_prog',\n",
    " 'Bridge_SCP', 'Connecting',\n",
    " 'preNeuroblast',\n",
    "'Chromaffin', 'Diff_Neuroblast',\n",
    "]\n",
    "dftemp1=dftemp1.loc[dftemp1[\"TumorCluster\"]== 'Diff_Mes'].append(\n",
    "    dftemp1.loc[dftemp1[\"TumorCluster\"]== 'NC_prog']).append(\n",
    "    dftemp1.loc[dftemp1[\"TumorCluster\"]== 'Bridge_SCP']).append(\n",
    "    dftemp1.loc[dftemp1[\"TumorCluster\"]=='Connecting']).append(\n",
    "    dftemp1.loc[dftemp1[\"TumorCluster\"]=='preNeuroblast']).append(\n",
    "    dftemp1.loc[dftemp1[\"TumorCluster\"]=='Chromaffin']).append(\n",
    "    dftemp1.loc[dftemp1[\"TumorCluster\"]=='Diff_Neuroblast'])"
   ]
  },
  {
   "cell_type": "code",
   "execution_count": null,
   "metadata": {
    "scrolled": false
   },
   "outputs": [],
   "source": [
    "import seaborn as sns\n",
    "def patch_violinplot():\n",
    "    from matplotlib.collections import PolyCollection\n",
    "    ax = plt.gca()\n",
    "    for art in ax.get_children():\n",
    "         if isinstance(art, PolyCollection):\n",
    "            art.set_edgecolor((0.6,0.6, 0.6))\n",
    "#seleColor=mnewcolors[rdmvalue]\n",
    "fig = plt.figure(figsize=(10,10))\n",
    "fig, ax = plt.subplots()\n",
    "fig.set_size_inches(16, 8)\n",
    "sns.set_style(\"whitegrid\")\n",
    "ax=sns.violinplot(x=\"TumorCluster\", y=celltype, data=dftemp1,bw=0.6,cut=2, gridsize=50,\n",
    "               saturation=0.9, width=0.75, palette=mcolor_dict[mwanted_order] ,scale='width', inner= \"box\")\n",
    "plt.setp(ax.collections, alpha=.8)\n",
    "ax.set_ylim(ymin=-0.15)\n",
    "plt.xticks(rotation=90,horizontalalignment='center', verticalalignment='top',\n",
    "       position=(0,0), fontsize=35)\n",
    "ax.spines['top'].set_visible(False)\n",
    "ax.spines['right'].set_visible(False)\n",
    "plt.title(celltype,fontsize=20)\n",
    "plt.grid(False)"
   ]
  },
  {
   "cell_type": "code",
   "execution_count": null,
   "metadata": {},
   "outputs": [],
   "source": []
  },
  {
   "cell_type": "code",
   "execution_count": null,
   "metadata": {},
   "outputs": [],
   "source": []
  },
  {
   "cell_type": "markdown",
   "metadata": {},
   "source": [
    "# preNeuroblast"
   ]
  },
  {
   "cell_type": "code",
   "execution_count": null,
   "metadata": {},
   "outputs": [],
   "source": [
    "celltype=\"preNeuroblast\"\n",
    "dftemp1=dftype[[celltype,\"TumorCluster\"]]\n",
    "typelist=list(set(dftemp1[\"TumorCluster\"]))"
   ]
  },
  {
   "cell_type": "code",
   "execution_count": null,
   "metadata": {},
   "outputs": [],
   "source": [
    "from scipy import stats\n",
    "plist=[]\n",
    "slist=[]\n",
    "meanlist=[]\n",
    "for i in range(len(typelist)):\n",
    "    temp1=dftemp1.loc[dftemp1[\"TumorCluster\"]==typelist[i]][celltype].values\n",
    "    plisttemp=[]\n",
    "    slisttemp=[]\n",
    "    meanlisttemp=[]\n",
    "    for j in range(len(typelist)):\n",
    "        temp2=dftemp1.loc[dftemp1[\"TumorCluster\"]==typelist[j]][celltype].values\n",
    "        s,p=stats.ttest_ind(temp1,temp2, equal_var = False)\n",
    "        plisttemp.append('{:.10f}'.format(p))\n",
    "        slisttemp.append(s)\n",
    "        meanlisttemp.append(mean(temp1)/mean(temp2))\n",
    "    plist.append(plisttemp)\n",
    "    slist.append(slisttemp)\n",
    "    meanlist.append(meanlisttemp)\n",
    "    \n",
    "dfmean=pd.DataFrame(meanlist)\n",
    "dfmean.index=typelist\n",
    "dfmean.columns=typelist\n",
    "dfp=pd.DataFrame(plist)\n",
    "dfp.index=typelist\n",
    "dfp.columns=typelist"
   ]
  },
  {
   "cell_type": "code",
   "execution_count": null,
   "metadata": {
    "scrolled": true
   },
   "outputs": [],
   "source": [
    "dfmean"
   ]
  },
  {
   "cell_type": "code",
   "execution_count": null,
   "metadata": {},
   "outputs": [],
   "source": [
    "(dfmean>1.5).astype(int)"
   ]
  },
  {
   "cell_type": "code",
   "execution_count": null,
   "metadata": {},
   "outputs": [],
   "source": [
    "(dfmean>1.5).sum(1)"
   ]
  },
  {
   "cell_type": "code",
   "execution_count": null,
   "metadata": {
    "scrolled": true
   },
   "outputs": [],
   "source": [
    "dfp"
   ]
  },
  {
   "cell_type": "code",
   "execution_count": null,
   "metadata": {},
   "outputs": [],
   "source": [
    "mcolor_dict = pd.Series({  \n",
    " 'SCP':   (90,  10,  10), 'Chromaffin1': (25, 60,  130),\n",
    "                             'cycling':    (57, 105,   7),\n",
    "             'Sympath':    (170, 180, 170),'SCP':   (190,  10,  10),  'Chromaffin': (25, 60,  130),\n",
    "                             'cycling':    (57, 105,   7),\n",
    "             'sympathoblasts':    (170, 180, 170),\n",
    "                            'Diff_Glia': (235, 125,  128),  'Diff_Mes': (10,10,255),\n",
    "                          'Chromaffin':   (55, 55,  78), 'preNeuroblast':  (100, 100, 240),\n",
    "                           'Diff_Neuroblast':    (57, 105,   7),'preGlia': (175, 175,  28),\n",
    "            'Bridge_SCP':    (170, 180, 170), 'NC_prog':(249,125,5),\n",
    "                           'Connecting':    ( 95, 186,  70),  'Auto_prog':    (180, 140, 130),\n",
    "       'cyclingNeuroblast':  (100, 100, 240), 'Migr_prog': ( 80, 235, 255),  'Mes_prog':(249,125,5),\n",
    "    \n",
    "    })\n",
    "mcolor_dict = mcolor_dict.map(lambda x: list(map(lambda y: y/255., x)))\n",
    "mwanted_order=[\n",
    " 'Diff_Mes', 'NC_prog',\n",
    " 'Bridge_SCP', 'Connecting',\n",
    " 'preNeuroblast',\n",
    "'Chromaffin', 'Diff_Neuroblast',\n",
    "]\n",
    "dftemp1=dftemp1.loc[dftemp1[\"TumorCluster\"]== 'Diff_Mes'].append(\n",
    "    dftemp1.loc[dftemp1[\"TumorCluster\"]== 'NC_prog']).append(\n",
    "    dftemp1.loc[dftemp1[\"TumorCluster\"]== 'Bridge_SCP']).append(\n",
    "    dftemp1.loc[dftemp1[\"TumorCluster\"]=='Connecting']).append(\n",
    "    dftemp1.loc[dftemp1[\"TumorCluster\"]=='preNeuroblast']).append(\n",
    "    dftemp1.loc[dftemp1[\"TumorCluster\"]=='Chromaffin']).append(\n",
    "    dftemp1.loc[dftemp1[\"TumorCluster\"]=='Diff_Neuroblast'])"
   ]
  },
  {
   "cell_type": "code",
   "execution_count": null,
   "metadata": {
    "scrolled": false
   },
   "outputs": [],
   "source": [
    "import seaborn as sns\n",
    "def patch_violinplot():\n",
    "    from matplotlib.collections import PolyCollection\n",
    "    ax = plt.gca()\n",
    "    for art in ax.get_children():\n",
    "         if isinstance(art, PolyCollection):\n",
    "            art.set_edgecolor((0.6,0.6, 0.6))\n",
    "#seleColor=mnewcolors[rdmvalue]\n",
    "fig = plt.figure(figsize=(10,10))\n",
    "fig, ax = plt.subplots()\n",
    "fig.set_size_inches(16, 8)\n",
    "sns.set_style(\"whitegrid\")\n",
    "ax=sns.violinplot(x=\"TumorCluster\", y=celltype, data=dftemp1,bw=0.6,cut=2, gridsize=50,\n",
    "               saturation=0.9, width=0.75, palette=mcolor_dict[mwanted_order] ,scale='width', inner= \"box\")\n",
    "plt.setp(ax.collections, alpha=.8)\n",
    "ax.set_ylim(ymin=-0.15)\n",
    "plt.xticks(rotation=90,horizontalalignment='center', verticalalignment='top',\n",
    "       position=(0,0), fontsize=35)\n",
    "ax.spines['top'].set_visible(False)\n",
    "ax.spines['right'].set_visible(False)\n",
    "plt.title(celltype,fontsize=20)\n",
    "plt.grid(False)"
   ]
  },
  {
   "cell_type": "code",
   "execution_count": null,
   "metadata": {},
   "outputs": [],
   "source": []
  },
  {
   "cell_type": "code",
   "execution_count": null,
   "metadata": {},
   "outputs": [],
   "source": []
  },
  {
   "cell_type": "markdown",
   "metadata": {},
   "source": [
    "# Chromaffin"
   ]
  },
  {
   "cell_type": "code",
   "execution_count": null,
   "metadata": {},
   "outputs": [],
   "source": [
    "celltype=\"Chromaffin\"\n",
    "dftemp1=dftype[[celltype,\"TumorCluster\"]]\n",
    "typelist=list(set(dftemp1[\"TumorCluster\"]))"
   ]
  },
  {
   "cell_type": "code",
   "execution_count": null,
   "metadata": {},
   "outputs": [],
   "source": [
    "from scipy import stats\n",
    "plist=[]\n",
    "slist=[]\n",
    "meanlist=[]\n",
    "for i in range(len(typelist)):\n",
    "    temp1=dftemp1.loc[dftemp1[\"TumorCluster\"]==typelist[i]][celltype].values\n",
    "    plisttemp=[]\n",
    "    slisttemp=[]\n",
    "    meanlisttemp=[]\n",
    "    for j in range(len(typelist)):\n",
    "        temp2=dftemp1.loc[dftemp1[\"TumorCluster\"]==typelist[j]][celltype].values\n",
    "        s,p=stats.ttest_ind(temp1,temp2, equal_var = False)\n",
    "        plisttemp.append('{:.10f}'.format(p))\n",
    "        slisttemp.append(s)\n",
    "        meanlisttemp.append(mean(temp1)/mean(temp2))\n",
    "    plist.append(plisttemp)\n",
    "    slist.append(slisttemp)\n",
    "    meanlist.append(meanlisttemp)\n",
    "    \n",
    "dfmean=pd.DataFrame(meanlist)\n",
    "dfmean.index=typelist\n",
    "dfmean.columns=typelist\n",
    "dfp=pd.DataFrame(plist)\n",
    "dfp.index=typelist\n",
    "dfp.columns=typelist"
   ]
  },
  {
   "cell_type": "code",
   "execution_count": null,
   "metadata": {
    "scrolled": true
   },
   "outputs": [],
   "source": [
    "dfmean"
   ]
  },
  {
   "cell_type": "code",
   "execution_count": null,
   "metadata": {},
   "outputs": [],
   "source": [
    "(dfmean>1.5).astype(int)"
   ]
  },
  {
   "cell_type": "code",
   "execution_count": null,
   "metadata": {},
   "outputs": [],
   "source": [
    "(dfmean>1.5).sum(1)"
   ]
  },
  {
   "cell_type": "code",
   "execution_count": null,
   "metadata": {
    "scrolled": true
   },
   "outputs": [],
   "source": [
    "dfp"
   ]
  },
  {
   "cell_type": "code",
   "execution_count": null,
   "metadata": {},
   "outputs": [],
   "source": [
    "mcolor_dict = pd.Series({  \n",
    " 'SCP':   (90,  10,  10), 'Chromaffin1': (25, 60,  130),\n",
    "                             'cycling':    (57, 105,   7),\n",
    "             'Sympath':    (170, 180, 170),'SCP':   (190,  10,  10),  'Chromaffin': (25, 60,  130),\n",
    "                             'cycling':    (57, 105,   7),\n",
    "             'sympathoblasts':    (170, 180, 170),\n",
    "                            'Diff_Glia': (235, 125,  128),  'Diff_Mes': (10,10,255),\n",
    "                          'Chromaffin':   (55, 55,  78), 'preNeuroblast':  (100, 100, 240),\n",
    "                           'Diff_Neuroblast':    (57, 105,   7),'preGlia': (175, 175,  28),\n",
    "            'Bridge_SCP':    (170, 180, 170), 'NC_prog':(249,125,5),\n",
    "                           'Connecting':    ( 95, 186,  70),  'Auto_prog':    (180, 140, 130),\n",
    "       'cyclingNeuroblast':  (100, 100, 240), 'Migr_prog': ( 80, 235, 255),  'Mes_prog':(249,125,5),\n",
    "    \n",
    "    })\n",
    "mcolor_dict = mcolor_dict.map(lambda x: list(map(lambda y: y/255., x)))\n",
    "mwanted_order=[\n",
    " 'Diff_Mes', 'NC_prog',\n",
    " 'Bridge_SCP', 'Connecting',\n",
    " 'preNeuroblast',\n",
    "'Chromaffin', 'Diff_Neuroblast',\n",
    "]\n",
    "dftemp1=dftemp1.loc[dftemp1[\"TumorCluster\"]== 'Diff_Mes'].append(\n",
    "    dftemp1.loc[dftemp1[\"TumorCluster\"]== 'NC_prog']).append(\n",
    "    dftemp1.loc[dftemp1[\"TumorCluster\"]== 'Bridge_SCP']).append(\n",
    "    dftemp1.loc[dftemp1[\"TumorCluster\"]=='Connecting']).append(\n",
    "    dftemp1.loc[dftemp1[\"TumorCluster\"]=='preNeuroblast']).append(\n",
    "    dftemp1.loc[dftemp1[\"TumorCluster\"]=='Chromaffin']).append(\n",
    "    dftemp1.loc[dftemp1[\"TumorCluster\"]=='Diff_Neuroblast'])"
   ]
  },
  {
   "cell_type": "code",
   "execution_count": null,
   "metadata": {
    "scrolled": false
   },
   "outputs": [],
   "source": [
    "import seaborn as sns\n",
    "def patch_violinplot():\n",
    "    from matplotlib.collections import PolyCollection\n",
    "    ax = plt.gca()\n",
    "    for art in ax.get_children():\n",
    "         if isinstance(art, PolyCollection):\n",
    "            art.set_edgecolor((0.6,0.6, 0.6))\n",
    "#seleColor=mnewcolors[rdmvalue]\n",
    "fig = plt.figure(figsize=(10,10))\n",
    "fig, ax = plt.subplots()\n",
    "fig.set_size_inches(16, 8)\n",
    "sns.set_style(\"whitegrid\")\n",
    "ax=sns.violinplot(x=\"TumorCluster\", y=celltype, data=dftemp1,bw=0.6,cut=2, gridsize=50,\n",
    "               saturation=0.9, width=0.75, palette=mcolor_dict[mwanted_order] ,scale='width', inner= \"box\")\n",
    "plt.setp(ax.collections, alpha=.8)\n",
    "ax.set_ylim(ymin=-0.15)\n",
    "plt.xticks(rotation=90,horizontalalignment='center', verticalalignment='top',\n",
    "       position=(0,0), fontsize=35)\n",
    "ax.spines['top'].set_visible(False)\n",
    "ax.spines['right'].set_visible(False)\n",
    "plt.title(celltype,fontsize=20)\n",
    "plt.grid(False)"
   ]
  },
  {
   "cell_type": "markdown",
   "metadata": {},
   "source": [
    "# Diff_Neuroblasts"
   ]
  },
  {
   "cell_type": "code",
   "execution_count": null,
   "metadata": {},
   "outputs": [],
   "source": [
    "dftype"
   ]
  },
  {
   "cell_type": "code",
   "execution_count": null,
   "metadata": {},
   "outputs": [],
   "source": [
    "celltype=\"Diff_Neuroblast\"\n",
    "dftemp1=dftype[[celltype,\"TumorCluster\"]]\n",
    "typelist=list(set(dftemp1[\"TumorCluster\"]))"
   ]
  },
  {
   "cell_type": "code",
   "execution_count": null,
   "metadata": {},
   "outputs": [],
   "source": [
    "from scipy import stats\n",
    "plist=[]\n",
    "slist=[]\n",
    "meanlist=[]\n",
    "for i in range(len(typelist)):\n",
    "    temp1=dftemp1.loc[dftemp1[\"TumorCluster\"]==typelist[i]][celltype].values\n",
    "    plisttemp=[]\n",
    "    slisttemp=[]\n",
    "    meanlisttemp=[]\n",
    "    for j in range(len(typelist)):\n",
    "        temp2=dftemp1.loc[dftemp1[\"TumorCluster\"]==typelist[j]][celltype].values\n",
    "        s,p=stats.ttest_ind(temp1,temp2, equal_var = False)\n",
    "        plisttemp.append('{:.10f}'.format(p))\n",
    "        slisttemp.append(s)\n",
    "        meanlisttemp.append(mean(temp1)/mean(temp2))\n",
    "    plist.append(plisttemp)\n",
    "    slist.append(slisttemp)\n",
    "    meanlist.append(meanlisttemp)\n",
    "    \n",
    "dfmean=pd.DataFrame(meanlist)\n",
    "dfmean.index=typelist\n",
    "dfmean.columns=typelist\n",
    "dfp=pd.DataFrame(plist)\n",
    "dfp.index=typelist\n",
    "dfp.columns=typelist"
   ]
  },
  {
   "cell_type": "code",
   "execution_count": null,
   "metadata": {
    "scrolled": true
   },
   "outputs": [],
   "source": [
    "dfmean"
   ]
  },
  {
   "cell_type": "code",
   "execution_count": null,
   "metadata": {},
   "outputs": [],
   "source": [
    "(dfmean>1.5).astype(int)"
   ]
  },
  {
   "cell_type": "code",
   "execution_count": null,
   "metadata": {},
   "outputs": [],
   "source": [
    "(dfmean>1.5).sum(1)"
   ]
  },
  {
   "cell_type": "code",
   "execution_count": null,
   "metadata": {
    "scrolled": true
   },
   "outputs": [],
   "source": [
    "dfp"
   ]
  },
  {
   "cell_type": "code",
   "execution_count": null,
   "metadata": {},
   "outputs": [],
   "source": [
    "mcolor_dict = pd.Series({  \n",
    " 'SCP':   (90,  10,  10), 'Chromaffin1': (25, 60,  130),\n",
    "                             'cycling':    (57, 105,   7),\n",
    "             'Sympath':    (170, 180, 170),'SCP':   (190,  10,  10),  'Chromaffin': (25, 60,  130),\n",
    "                             'cycling':    (57, 105,   7),\n",
    "             'sympathoblasts':    (170, 180, 170),\n",
    "                            'Diff_Glia': (235, 125,  128),  'Diff_Mes': (10,10,255),\n",
    "                          'Chromaffin':   (55, 55,  78), 'preNeuroblast':  (100, 100, 240),\n",
    "                           'Diff_Neuroblast':    (57, 105,   7),'preGlia': (175, 175,  28),\n",
    "            'Bridge_SCP':    (170, 180, 170), 'NC_prog':(249,125,5),\n",
    "                           'Connecting':    ( 95, 186,  70),  'Auto_prog':    (180, 140, 130),\n",
    "       'cyclingNeuroblast':  (100, 100, 240), 'Migr_prog': ( 80, 235, 255),  'Mes_prog':(249,125,5),\n",
    "    \n",
    "    })\n",
    "mcolor_dict = mcolor_dict.map(lambda x: list(map(lambda y: y/255., x)))\n",
    "mwanted_order=[\n",
    " 'Diff_Mes', 'NC_prog',\n",
    " 'Bridge_SCP', 'Connecting',\n",
    " 'preNeuroblast',\n",
    "'Chromaffin', 'Diff_Neuroblast',\n",
    "]\n",
    "dftemp1=dftemp1.loc[dftemp1[\"TumorCluster\"]== 'Diff_Mes'].append(\n",
    "    dftemp1.loc[dftemp1[\"TumorCluster\"]== 'NC_prog']).append(\n",
    "    dftemp1.loc[dftemp1[\"TumorCluster\"]== 'Bridge_SCP']).append(\n",
    "    dftemp1.loc[dftemp1[\"TumorCluster\"]=='Connecting']).append(\n",
    "    dftemp1.loc[dftemp1[\"TumorCluster\"]=='preNeuroblast']).append(\n",
    "    dftemp1.loc[dftemp1[\"TumorCluster\"]=='Chromaffin']).append(\n",
    "    dftemp1.loc[dftemp1[\"TumorCluster\"]=='Diff_Neuroblast'])"
   ]
  },
  {
   "cell_type": "code",
   "execution_count": null,
   "metadata": {
    "scrolled": false
   },
   "outputs": [],
   "source": [
    "import seaborn as sns\n",
    "def patch_violinplot():\n",
    "    from matplotlib.collections import PolyCollection\n",
    "    ax = plt.gca()\n",
    "    for art in ax.get_children():\n",
    "         if isinstance(art, PolyCollection):\n",
    "            art.set_edgecolor((0.6,0.6, 0.6))\n",
    "#seleColor=mnewcolors[rdmvalue]\n",
    "fig = plt.figure(figsize=(10,10))\n",
    "fig, ax = plt.subplots()\n",
    "fig.set_size_inches(16, 8)\n",
    "sns.set_style(\"whitegrid\")\n",
    "ax=sns.violinplot(x=\"TumorCluster\", y=celltype, data=dftemp1,bw=0.6,cut=2, gridsize=50,\n",
    "               saturation=0.9, width=0.75, palette=mcolor_dict[mwanted_order] ,scale='width', inner= \"box\")\n",
    "plt.setp(ax.collections, alpha=.8)\n",
    "ax.set_ylim(ymin=-0.15)\n",
    "plt.xticks(rotation=90,horizontalalignment='center', verticalalignment='top',\n",
    "       position=(0,0), fontsize=35)\n",
    "ax.spines['top'].set_visible(False)\n",
    "ax.spines['right'].set_visible(False)\n",
    "plt.title(celltype,fontsize=20)\n",
    "plt.grid(False)"
   ]
  },
  {
   "cell_type": "code",
   "execution_count": null,
   "metadata": {},
   "outputs": [],
   "source": []
  }
 ],
 "metadata": {
  "kernelspec": {
   "display_name": "Python 3 (ipykernel)",
   "language": "python",
   "name": "python3"
  },
  "language_info": {
   "codemirror_mode": {
    "name": "ipython",
    "version": 3
   },
   "file_extension": ".py",
   "mimetype": "text/x-python",
   "name": "python",
   "nbconvert_exporter": "python",
   "pygments_lexer": "ipython3",
   "version": "3.8.16"
  }
 },
 "nbformat": 4,
 "nbformat_minor": 2
}
